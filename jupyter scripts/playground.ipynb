{
 "cells": [
  {
   "cell_type": "code",
   "execution_count": 1,
   "metadata": {},
   "outputs": [],
   "source": [
    "# Libary to import self-made libaries\n",
    "import sys # https://stackoverflow.com/questions/4383571/importing-files-from-different-folder\n",
    "sys.path.insert(1, r'C:\\Users\\ruw\\Desktop\\RA\\Single-use-vs-multi-use-in-health-care\\Libaries')"
   ]
  },
  {
   "cell_type": "code",
   "execution_count": 2,
   "metadata": {},
   "outputs": [],
   "source": [
    "# Importing self-made libaries\n",
    "import standards as s\n",
    "import life_cycle_assessment as lc\n",
    "import LCA_plots as lp\n",
    "import reload_lib as rl\n",
    "import non_bio_co2 as nbc\n",
    "\n",
    "\n",
    "lib = [s, lc, lp, nbc]"
   ]
  },
  {
   "cell_type": "code",
   "execution_count": 3,
   "metadata": {},
   "outputs": [],
   "source": [
    "from copy import deepcopy as dc"
   ]
  },
  {
   "cell_type": "code",
   "execution_count": 19,
   "metadata": {},
   "outputs": [],
   "source": [
    "import bw2io as bi\n",
    "import bw2data as bd\n",
    "import pandas as pd"
   ]
  },
  {
   "cell_type": "code",
   "execution_count": 5,
   "metadata": {},
   "outputs": [],
   "source": [
    "bd.projects.set_current(\"single use vs multi use\")\n"
   ]
  },
  {
   "cell_type": "code",
   "execution_count": 35,
   "metadata": {},
   "outputs": [
    {
     "name": "stdout",
     "output_type": "stream",
     "text": [
      "Biosphere is already present in the project.\n"
     ]
    }
   ],
   "source": [
    "if any(\"biosphere\" in db for db in bd.databases):\n",
    "    print('Biosphere is already present in the project.')\n",
    "else:\n",
    "    bi.bw2setup()"
   ]
  },
  {
   "cell_type": "code",
   "execution_count": 36,
   "metadata": {},
   "outputs": [
    {
     "name": "stdout",
     "output_type": "stream",
     "text": [
      "Ecoinvent 3.9.1 is already present in the project.\n"
     ]
    }
   ],
   "source": [
    "if 'ev391cutoff' in bd.databases and 'ev391consq' in bd.databases and 'ev391apos' in bd.databases:\n",
    "    print('Ecoinvent 3.9.1 is already present in the project.')\n",
    "else:\n",
    "    # APOS\n",
    "    ei = bi.SingleOutputEcospold2Importer(dirpath=r\"C:\\Users\\ruw\\Desktop\\4. semester\\EcoInvent\\ecoinvent 3.9.1_apos_ecoSpold02\\datasets\", db_name='ev391apos') #recommendation for consistent databases naming: database name (ecoinvent), version number, system model\n",
    "    ei.apply_strategies() #fixing some issues when ecoinvent and brightway have to talk together by going through all datasets and manipulating them in a specific way\n",
    "    ei.statistics() #checking if everything worked out with strategies and linking\n",
    "    ei.write_database() #save the database to our hard drive\n",
    "\n",
    "    # Consequential\n",
    "    ei = bi.SingleOutputEcospold2Importer(dirpath=r\"C:\\Users\\ruw\\Desktop\\4. semester\\EcoInvent\\ecoinvent 3.9.1_consequential_ecoSpold02\\datasets\", db_name='ev391consq') #recommendation for consistent databases naming: database name (ecoinvent), version number, system model\n",
    "    ei.apply_strategies() #fixing some issues when ecoinvent and brightway have to talk together by going through all datasets and manipulating them in a specific way\n",
    "    ei.statistics() #checking if everything worked out with strategies and linking\n",
    "    ei.write_database() #save the database to our hard drive\n",
    "\n",
    "    # cut-off\n",
    "    ei = bi.SingleOutputEcospold2Importer(dirpath=r\"C:\\Users\\ruw\\Downloads\\ecoinvent 3.9.1_cutoff_ecoSpold02\\datasets\", db_name='ev391cutoff') #recommendation for consistent databases naming: database name (ecoinvent), version number, system model\n",
    "    ei.apply_strategies() #fixing some issues when ecoinvent and brightway have to talk together by going through all datasets and manipulating them in a specific way\n",
    "    ei.statistics() #checking if everything worked out with strategies and linking\n",
    "    ei.write_database() #save the database to our hard drive"
   ]
  },
  {
   "cell_type": "code",
   "execution_count": 55,
   "metadata": {},
   "outputs": [],
   "source": [
    "db_path = r'C:\\Users\\ruw\\Desktop\\RA\\Single-use-vs-multi-use-in-health-care\\Data\\databases\\use_phase.xlsx'\n",
    "sheet_name = ['ev391apos', 'ev391consq', 'ev391cutoff'] # Replace with your actual sheet name\n"
   ]
  },
  {
   "cell_type": "code",
   "execution_count": 81,
   "metadata": {},
   "outputs": [
    {
     "name": "stdout",
     "output_type": "stream",
     "text": [
      "Extracted 1 worksheets in 0.04 seconds\n",
      "Applying strategy: csv_restore_tuples\n",
      "Applying strategy: csv_restore_booleans\n",
      "Applying strategy: csv_numerize\n",
      "Applying strategy: csv_drop_unknown\n",
      "Applying strategy: csv_add_missing_exchanges_section\n",
      "Applying strategy: normalize_units\n",
      "Applying strategy: normalize_biosphere_categories\n",
      "Applying strategy: normalize_biosphere_names\n",
      "Applying strategy: strip_biosphere_exc_locations\n",
      "Applying strategy: set_code_by_activity_hash\n",
      "Applying strategy: link_iterable_by_fields\n",
      "Applying strategy: assign_only_product_as_production\n",
      "Applying strategy: link_technosphere_by_activity_hash\n",
      "Applying strategy: drop_falsey_uncertainty_fields_but_keep_zeros\n",
      "Applying strategy: convert_uncertainty_types_to_integers\n",
      "Applying strategy: convert_activity_parameters_to_list\n",
      "Applied 16 strategies in 4.93 seconds\n",
      "Matching database: ev391apos\n",
      "Applying strategy: link_iterable_by_fields\n"
     ]
    },
    {
     "name": "stderr",
     "output_type": "stream",
     "text": [
      "Writing activities to SQLite3 database:\n"
     ]
    },
    {
     "name": "stdout",
     "output_type": "stream",
     "text": [
      "Unlinked items after matching ev391apos: []\n",
      "Applying strategy: link_iterable_by_fields\n",
      "10 datasets\n",
      "77 exchanges\n",
      "0 unlinked exchanges\n",
      "  \n",
      "Wrote matching file to:\n",
      "C:\\Users\\ruw\\AppData\\Local\\pylca\\Brightway3\\single-use-vs-multi-use.0e7e263503916b8fcd098a9e51faa14f\\output\\db-matching-eol_case1_apos-unlinked.xlsx\n"
     ]
    },
    {
     "name": "stderr",
     "output_type": "stream",
     "text": [
      "0% [##########] 100% | ETA: 00:00:00\n",
      "Total time elapsed: 00:00:00\n"
     ]
    },
    {
     "name": "stdout",
     "output_type": "stream",
     "text": [
      "Title: Writing activities to SQLite3 database:\n",
      "  Started: 12/20/2024 15:27:55\n",
      "  Finished: 12/20/2024 15:27:55\n",
      "  Total time elapsed: 00:00:00\n",
      "  CPU %: 0.00\n",
      "  Memory %: 3.01\n",
      "Created database: eol_case1_apos\n",
      "[]\n",
      "Extracted 1 worksheets in 0.03 seconds\n",
      "Applying strategy: csv_restore_tuples\n",
      "Applying strategy: csv_restore_booleans\n",
      "Applying strategy: csv_numerize\n",
      "Applying strategy: csv_drop_unknown\n",
      "Applying strategy: csv_add_missing_exchanges_section\n",
      "Applying strategy: normalize_units\n",
      "Applying strategy: normalize_biosphere_categories\n",
      "Applying strategy: normalize_biosphere_names\n",
      "Applying strategy: strip_biosphere_exc_locations\n",
      "Applying strategy: set_code_by_activity_hash\n",
      "Applying strategy: link_iterable_by_fields\n",
      "Applying strategy: assign_only_product_as_production\n",
      "Applying strategy: link_technosphere_by_activity_hash\n",
      "Applying strategy: drop_falsey_uncertainty_fields_but_keep_zeros\n",
      "Applying strategy: convert_uncertainty_types_to_integers\n",
      "Applying strategy: convert_activity_parameters_to_list\n",
      "Applied 16 strategies in 3.95 seconds\n",
      "Matching database: ev391consq\n",
      "Applying strategy: link_iterable_by_fields\n",
      "Unlinked items after matching ev391consq: [{'name': 'treatment of aluminium scrap, post-consumer, prepared for recycling, at remelter', 'amount': 0.00757, 'reference product': 'aluminium, wrought alloy', 'location': 'RER', 'unit': 'kilogram', 'type': 'technosphere', 'database': 'ev391consq'}, {'name': 'mixed heating grid', 'amount': -9.42, 'reference product': 'mixed heating grid', 'location': 'GLO', 'unit': 'megajoule', 'type': 'technosphere', 'database': 'ev391consq'}, {'name': 'polyethylene, high density, granulate, recycled to generic market for high density PE granulate', 'amount': -0.00618, 'reference product': 'polyethylene, high density, granulate', 'location': 'Europe without Switzerland', 'unit': 'kilogram', 'type': 'technosphere', 'database': 'ev391consq'}, {'name': 'polyethylene production, high density, granulate, recycled', 'amount': 0.00727, 'reference product': 'polyethylene, high density, granulate, recycled', 'location': 'Europe without Switzerland', 'unit': 'kilogram', 'type': 'technosphere', 'database': 'ev391consq'}, {'name': 'polyethylene terephthalate production, granulate, amorphous, recycled', 'amount': 0.071, 'reference product': 'polyethylene terephthalate, granulate, amorphous, recycled', 'location': 'Europe without Switzerland', 'unit': 'kilogram', 'type': 'technosphere', 'database': 'ev391consq'}, {'name': 'marginal heating grid', 'amount': -1.41, 'reference product': 'marginal heating grid', 'location': 'GLO', 'unit': 'megajoule', 'categories': 0, 'type': 'technosphere', 'database': 'eol_case1_consq'}, {'name': 'polyethylene, high density, granulate, recycled to generic market for high density PE granulate', 'amount': -0.0186, 'reference product': 'polyethylene, high density, granulate', 'location': 'Europe without Switzerland', 'unit': 'kilogram', 'categories': 0, 'type': 'technosphere', 'database': 'ev391consq'}, {'name': 'polyethylene production, high density, granulate, recycled', 'amount': 0.0219, 'reference product': 'polyethylene, high density, granulate, recycled', 'location': 'Europe without Switzerland', 'unit': 'kilogram', 'categories': 0, 'type': 'technosphere', 'database': 'ev391consq'}, {'name': 'polyethylene terephthalate production, granulate, amorphous, recycled', 'amount': 0.2, 'reference product': 'polyethylene terephthalate, granulate, amorphous, recycled', 'location': 'Europe without Switzerland', 'unit': 'kilogram', 'categories': 0, 'type': 'technosphere', 'database': 'ev391consq'}]\n",
      "Applying strategy: link_iterable_by_fields\n",
      "9 datasets\n",
      "69 exchanges\n",
      "11 unlinked exchanges\n",
      "  Type technosphere: 8 unique unlinked exchanges\n"
     ]
    },
    {
     "ename": "TypeError",
     "evalue": "'int' object is not iterable",
     "output_type": "error",
     "traceback": [
      "\u001b[1;31m---------------------------------------------------------------------------\u001b[0m",
      "\u001b[1;31mTypeError\u001b[0m                                 Traceback (most recent call last)",
      "Cell \u001b[1;32mIn[81], line 29\u001b[0m\n\u001b[0;32m     27\u001b[0m \u001b[38;5;66;03m# Generate statistics and write results\u001b[39;00m\n\u001b[0;32m     28\u001b[0m imp\u001b[38;5;241m.\u001b[39mstatistics()\n\u001b[1;32m---> 29\u001b[0m \u001b[43mimp\u001b[49m\u001b[38;5;241;43m.\u001b[39;49m\u001b[43mwrite_excel\u001b[49m\u001b[43m(\u001b[49m\u001b[43monly_unlinked\u001b[49m\u001b[38;5;241;43m=\u001b[39;49m\u001b[38;5;28;43;01mTrue\u001b[39;49;00m\u001b[43m)\u001b[49m\n\u001b[0;32m     30\u001b[0m unlinked_items \u001b[38;5;241m=\u001b[39m \u001b[38;5;28mlist\u001b[39m(imp\u001b[38;5;241m.\u001b[39munlinked)\n\u001b[0;32m     31\u001b[0m imp\u001b[38;5;241m.\u001b[39mwrite_database()\n",
      "File \u001b[1;32m~\\AppData\\Roaming\\Python\\Python311\\site-packages\\bw2io\\importers\\base_lci.py:291\u001b[0m, in \u001b[0;36mLCIImporter.write_excel\u001b[1;34m(self, only_unlinked, only_names)\u001b[0m\n\u001b[0;32m    281\u001b[0m \u001b[38;5;28;01mdef\u001b[39;00m \u001b[38;5;21mwrite_excel\u001b[39m(\u001b[38;5;28mself\u001b[39m, only_unlinked\u001b[38;5;241m=\u001b[39m\u001b[38;5;28;01mFalse\u001b[39;00m, only_names\u001b[38;5;241m=\u001b[39m\u001b[38;5;28;01mFalse\u001b[39;00m):\n\u001b[0;32m    282\u001b[0m \u001b[38;5;250m    \u001b[39m\u001b[38;5;124;03m\"\"\"Write database information to a spreadsheet.\u001b[39;00m\n\u001b[0;32m    283\u001b[0m \n\u001b[0;32m    284\u001b[0m \u001b[38;5;124;03m    If ``only_unlinked``, then only write unlinked exchanges.\u001b[39;00m\n\u001b[1;32m   (...)\u001b[0m\n\u001b[0;32m    289\u001b[0m \n\u001b[0;32m    290\u001b[0m \u001b[38;5;124;03m    \"\"\"\u001b[39;00m\n\u001b[1;32m--> 291\u001b[0m     fp \u001b[38;5;241m=\u001b[39m \u001b[43mwrite_lci_matching\u001b[49m\u001b[43m(\u001b[49m\u001b[38;5;28;43mself\u001b[39;49m\u001b[38;5;241;43m.\u001b[39;49m\u001b[43mdata\u001b[49m\u001b[43m,\u001b[49m\u001b[43m \u001b[49m\u001b[38;5;28;43mself\u001b[39;49m\u001b[38;5;241;43m.\u001b[39;49m\u001b[43mdb_name\u001b[49m\u001b[43m,\u001b[49m\u001b[43m \u001b[49m\u001b[43monly_unlinked\u001b[49m\u001b[43m,\u001b[49m\u001b[43m \u001b[49m\u001b[43monly_names\u001b[49m\u001b[43m)\u001b[49m\n\u001b[0;32m    292\u001b[0m     \u001b[38;5;28mprint\u001b[39m(\u001b[38;5;124mu\u001b[39m\u001b[38;5;124m\"\u001b[39m\u001b[38;5;124mWrote matching file to:\u001b[39m\u001b[38;5;130;01m\\n\u001b[39;00m\u001b[38;5;132;01m{}\u001b[39;00m\u001b[38;5;124m\"\u001b[39m\u001b[38;5;241m.\u001b[39mformat(fp))\n",
      "File \u001b[1;32m~\\AppData\\Roaming\\Python\\Python311\\site-packages\\bw2io\\export\\excel.py:317\u001b[0m, in \u001b[0;36mwrite_lci_matching\u001b[1;34m(db, database_name, only_unlinked, only_activity_names)\u001b[0m\n\u001b[0;32m    314\u001b[0m row \u001b[38;5;241m+\u001b[39m\u001b[38;5;241m=\u001b[39m \u001b[38;5;241m2\u001b[39m\n\u001b[0;32m    316\u001b[0m exchanges \u001b[38;5;241m=\u001b[39m [hash_dict[ah] \u001b[38;5;28;01mfor\u001b[39;00m ah \u001b[38;5;129;01min\u001b[39;00m unique_unlinked[key]]\n\u001b[1;32m--> 317\u001b[0m \u001b[43mexchanges\u001b[49m\u001b[38;5;241;43m.\u001b[39;49m\u001b[43msort\u001b[49m\u001b[43m(\u001b[49m\u001b[43mkey\u001b[49m\u001b[38;5;241;43m=\u001b[39;49m\u001b[38;5;28;43;01mlambda\u001b[39;49;00m\u001b[43m \u001b[49m\u001b[43mx\u001b[49m\u001b[43m:\u001b[49m\u001b[43m \u001b[49m\u001b[43m(\u001b[49m\u001b[43mx\u001b[49m\u001b[43m[\u001b[49m\u001b[38;5;124;43m\"\u001b[39;49m\u001b[38;5;124;43mname\u001b[39;49m\u001b[38;5;124;43m\"\u001b[39;49m\u001b[43m]\u001b[49m\u001b[43m,\u001b[49m\u001b[43m \u001b[49m\u001b[38;5;28;43mlist\u001b[39;49m\u001b[43m(\u001b[49m\u001b[43mx\u001b[49m\u001b[38;5;241;43m.\u001b[39;49m\u001b[43mget\u001b[49m\u001b[43m(\u001b[49m\u001b[38;5;124;43m\"\u001b[39;49m\u001b[38;5;124;43mcategories\u001b[39;49m\u001b[38;5;124;43m\"\u001b[39;49m\u001b[43m,\u001b[49m\u001b[43m \u001b[49m\u001b[43m[\u001b[49m\u001b[43m]\u001b[49m\u001b[43m)\u001b[49m\u001b[43m)\u001b[49m\u001b[43m)\u001b[49m\u001b[43m)\u001b[49m\n\u001b[0;32m    318\u001b[0m \u001b[38;5;28;01mfor\u001b[39;00m exc \u001b[38;5;129;01min\u001b[39;00m exchanges:\n\u001b[0;32m    319\u001b[0m     write_row(sheet, row, exc)\n",
      "File \u001b[1;32m~\\AppData\\Roaming\\Python\\Python311\\site-packages\\bw2io\\export\\excel.py:317\u001b[0m, in \u001b[0;36mwrite_lci_matching.<locals>.<lambda>\u001b[1;34m(x)\u001b[0m\n\u001b[0;32m    314\u001b[0m row \u001b[38;5;241m+\u001b[39m\u001b[38;5;241m=\u001b[39m \u001b[38;5;241m2\u001b[39m\n\u001b[0;32m    316\u001b[0m exchanges \u001b[38;5;241m=\u001b[39m [hash_dict[ah] \u001b[38;5;28;01mfor\u001b[39;00m ah \u001b[38;5;129;01min\u001b[39;00m unique_unlinked[key]]\n\u001b[1;32m--> 317\u001b[0m exchanges\u001b[38;5;241m.\u001b[39msort(key\u001b[38;5;241m=\u001b[39m\u001b[38;5;28;01mlambda\u001b[39;00m x: (x[\u001b[38;5;124m\"\u001b[39m\u001b[38;5;124mname\u001b[39m\u001b[38;5;124m\"\u001b[39m], \u001b[38;5;28mlist\u001b[39m(x\u001b[38;5;241m.\u001b[39mget(\u001b[38;5;124m\"\u001b[39m\u001b[38;5;124mcategories\u001b[39m\u001b[38;5;124m\"\u001b[39m, []))))\n\u001b[0;32m    318\u001b[0m \u001b[38;5;28;01mfor\u001b[39;00m exc \u001b[38;5;129;01min\u001b[39;00m exchanges:\n\u001b[0;32m    319\u001b[0m     write_row(sheet, row, exc)\n",
      "\u001b[1;31mTypeError\u001b[0m: 'int' object is not iterable"
     ]
    }
   ],
   "source": [
    "db_path = r'C:\\Users\\ruw\\Desktop\\RA\\Single-use-vs-multi-use-in-health-care\\Data\\databases\\EoL_case1.xlsx' \n",
    "sheet_name = ['ev391apos', 'ev391consq', 'ev391cutoff'] # Replace with your actual sheet name\n",
    "for db in sheet_name:\n",
    "    # Read the Excel file\n",
    "# Read the specific sheet from the Excel file\n",
    "    data = pd.read_excel(db_path, sheet_name=db)\n",
    "    # Save the data to a temporary file that can be used by ExcelImporter\n",
    "    temp_path = r'C:\\Users\\ruw\\Desktop\\RA\\Single-use-vs-multi-use-in-health-care\\Data\\databases\\temp_use_phase.xlsx'\n",
    "    data.to_excel(temp_path, index=False)\n",
    "\n",
    "\n",
    "\n",
    "    # Use the temporary file with ExcelImporter\n",
    "    imp = bi.ExcelImporter(temp_path)  # the path to your inventory excel file\n",
    "    imp.apply_strategies()\n",
    "\n",
    "    # # List of databases to match\n",
    "\n",
    "    # Loop through each database and match\n",
    "    print(f\"Matching database: {db}\")\n",
    "    imp.match_database(db, fields=('name', 'unit', 'location', 'reference product'))\n",
    "    print(f\"Unlinked items after matching {db}: {list(imp.unlinked)}\")\n",
    "\n",
    "    # Match without specifying a database\n",
    "    imp.match_database(fields=('name', 'unit', 'location'))\n",
    "\n",
    "    # Generate statistics and write results\n",
    "    imp.statistics()\n",
    "    imp.write_excel(only_unlinked=True)\n",
    "    unlinked_items = list(imp.unlinked)\n",
    "    imp.write_database()\n",
    "\n",
    "    # Print unlinked items if needed\n",
    "    print(unlinked_items)"
   ]
  },
  {
   "cell_type": "code",
   "execution_count": 15,
   "metadata": {},
   "outputs": [
    {
     "name": "stdout",
     "output_type": "stream",
     "text": [
      "Matching database: ev391apos\n",
      "Applying strategy: link_iterable_by_fields\n",
      "Unlinked items after matching ev391apos: []\n",
      "Matching database: ev391consq\n",
      "Applying strategy: link_iterable_by_fields\n",
      "Unlinked items after matching ev391consq: []\n",
      "Matching database: ev391cutoff\n",
      "Applying strategy: link_iterable_by_fields\n"
     ]
    },
    {
     "name": "stderr",
     "output_type": "stream",
     "text": [
      "Writing activities to SQLite3 database:\n"
     ]
    },
    {
     "name": "stdout",
     "output_type": "stream",
     "text": [
      "Unlinked items after matching ev391cutoff: []\n",
      "Applying strategy: link_iterable_by_fields\n",
      "9 datasets\n",
      "51 exchanges\n",
      "0 unlinked exchanges\n",
      "  \n",
      "Wrote matching file to:\n",
      "C:\\Users\\ruw\\AppData\\Local\\pylca\\Brightway3\\single-use-vs-multi-use.0e7e263503916b8fcd098a9e51faa14f\\output\\db-matching-use_phase-unlinked.xlsx\n"
     ]
    },
    {
     "name": "stderr",
     "output_type": "stream",
     "text": [
      "0% [#########] 100% | ETA: 00:00:00\n",
      "Total time elapsed: 00:00:00\n"
     ]
    },
    {
     "name": "stdout",
     "output_type": "stream",
     "text": [
      "Title: Writing activities to SQLite3 database:\n",
      "  Started: 12/20/2024 08:28:09\n",
      "  Finished: 12/20/2024 08:28:09\n",
      "  Total time elapsed: 00:00:00\n",
      "  CPU %: 0.00\n",
      "  Memory %: 2.04\n",
      "Created database: use_phase\n",
      "[]\n"
     ]
    }
   ],
   "source": [
    "\n",
    "\n"
   ]
  }
 ],
 "metadata": {
  "kernelspec": {
   "display_name": "Python 3",
   "language": "python",
   "name": "python3"
  },
  "language_info": {
   "codemirror_mode": {
    "name": "ipython",
    "version": 3
   },
   "file_extension": ".py",
   "mimetype": "text/x-python",
   "name": "python",
   "nbconvert_exporter": "python",
   "pygments_lexer": "ipython3",
   "version": "3.11.9"
  }
 },
 "nbformat": 4,
 "nbformat_minor": 2
}

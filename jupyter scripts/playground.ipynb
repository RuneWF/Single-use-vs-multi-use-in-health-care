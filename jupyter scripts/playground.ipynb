{
 "cells": [
  {
   "cell_type": "code",
   "execution_count": 31,
   "metadata": {},
   "outputs": [],
   "source": [
    "import pandas as pd\n"
   ]
  },
  {
   "cell_type": "code",
   "execution_count": 32,
   "metadata": {},
   "outputs": [],
   "source": [
    "# Libary to import self-made libaries\n",
    "import sys # https://stackoverflow.com/questions/4383571/importing-files-from-different-folder\n",
    "sys.path.insert(1, r'C:\\Users\\ruw\\Desktop\\RA\\Single-use-vs-multi-use-in-health-care\\Libaries')"
   ]
  },
  {
   "cell_type": "code",
   "execution_count": 33,
   "metadata": {},
   "outputs": [],
   "source": [
    "# Importing self-made libaries\n",
    "import sensitivity as st\n",
    "import reload_lib as rl\n",
    "import life_cycle_assessment as lc\n",
    "import sensitivity_case1 as c1\n",
    "import sensitivity_case2 as c2\n",
    "import standards as s\n",
    "import results_figures as rfig\n",
    "\n",
    "\n",
    "\n",
    "lib = [st, lc, c1, c2, s,rfig]"
   ]
  },
  {
   "cell_type": "code",
   "execution_count": 34,
   "metadata": {},
   "outputs": [],
   "source": [
    "# # Path to where the code is stored\n",
    "# path = r'C:\\Users\\ruw\\Desktop\\RA\\Single-use-vs-multi-use-in-health-care'\n",
    "# # Specifying the LCIA method\n",
    "# lcia_method = 'recipe'\n",
    "\n",
    "# ecoinevnt_paths = {'ev391apos' : r\"C:\\Users\\ruw\\Desktop\\4. semester\\EcoInvent\\ecoinvent 3.9.1_apos_ecoSpold02\\datasets\",\n",
    "#                    'ev391consq' : r\"C:\\Users\\ruw\\Desktop\\4. semester\\EcoInvent\\ecoinvent 3.9.1_consequential_ecoSpold02\\datasets\",\n",
    "#                    'ev391cutoff' : r\"C:\\Users\\ruw\\Downloads\\ecoinvent 3.9.1_cutoff_ecoSpold02\\datasets\"}\n",
    "\n",
    "# system_path = [r'C:\\Users\\ruw\\Desktop\\RA\\Single-use-vs-multi-use-in-health-care\\Data\\databases\\case1.xlsx', \n",
    "#                 r'C:\\Users\\ruw\\Desktop\\RA\\Single-use-vs-multi-use-in-health-care\\Data\\databases\\case2.xlsx']"
   ]
  },
  {
   "cell_type": "code",
   "execution_count": 35,
   "metadata": {},
   "outputs": [],
   "source": [
    "rl.reload_lib(lib)\n",
    "path = r'C:/Users/ruw/Desktop'\n",
    "path_github, ecoinevnt_paths, system_path = s.paths(path)"
   ]
  },
  {
   "cell_type": "code",
   "execution_count": 38,
   "metadata": {},
   "outputs": [
    {
     "name": "stdout",
     "output_type": "stream",
     "text": [
      "case1 already exist\n",
      "C:/Users/ruw/Desktop\\RA\\Single-use-vs-multi-use-in-health-care\\results/case1\n",
      "case1 already exist\n",
      "C:/Users/ruw/Desktop\\RA\\Single-use-vs-multi-use-in-health-care\\results/case1\n",
      "case1 already exist\n",
      "C:/Users/ruw/Desktop\\RA\\Single-use-vs-multi-use-in-health-care\\results/case1\n",
      "case2 already exist\n",
      "C:/Users/ruw/Desktop\\RA\\Single-use-vs-multi-use-in-health-care\\results/case2\n",
      "case2 already exist\n",
      "C:/Users/ruw/Desktop\\RA\\Single-use-vs-multi-use-in-health-care\\results/case2\n",
      "case2 already exist\n",
      "C:/Users/ruw/Desktop\\RA\\Single-use-vs-multi-use-in-health-care\\results/case2\n",
      "Recipe is selected\n"
     ]
    }
   ],
   "source": [
    "rl.reload_lib(lib)\n",
    "variables = st.break_even_initialization(path_github, 'recipe')"
   ]
  },
  {
   "cell_type": "code",
   "execution_count": 39,
   "metadata": {},
   "outputs": [],
   "source": [
    "case = 'case2'\n",
    "file = s.join_path(path,'results')\n",
    "file_path = s.join_path(file, f'{case}\\\\break_even_data_{case}.xlsx')"
   ]
  },
  {
   "cell_type": "code",
   "execution_count": 40,
   "metadata": {},
   "outputs": [],
   "source": [
    "def df_index(key):\n",
    "    if '1' in key:\n",
    "        flow_leg = [\n",
    "                    'H2S',\n",
    "                    'H2R',\n",
    "                    'ASC',\n",
    "                    'ASW',\n",
    "                    'H4S',\n",
    "                    'H4R',\n",
    "                    'ALC',\n",
    "                    'ALW'\n",
    "                    ]\n",
    "        return flow_leg\n",
    "    else:\n",
    "        return ['SUD', 'MUD']\n",
    "    "
   ]
  },
  {
   "cell_type": "code",
   "execution_count": 41,
   "metadata": {},
   "outputs": [],
   "source": [
    "with pd.ExcelWriter(file_path) as writer:\n",
    "    for key in variables.keys():\n",
    "        df_GWP = variables[key][1]\n",
    "        db_type = variables[key][2]\n",
    "        database_name = variables[key][0]\n",
    "        \n",
    "        flow_legend = variables[key][4]\n",
    "        columns = variables[key][-1]\n",
    "\n",
    "        columns = lc.unique_elements_list(database_name)\n",
    "\n",
    "        df_be, ignore = rfig.process_categorizing(df_GWP, case, flow_legend, columns)\n",
    "        df_be.index = df_index(key)\n",
    "        df_be_copy = rfig.break_even_orginization(df_be, database_name)\n",
    "        \n",
    "\n",
    "        # Write each DataFrame to a different sheet\n",
    "        sheet_name = f\"{key}\"\n",
    "        df_be_copy.to_excel(writer, sheet_name=sheet_name, index=True, header=True)"
   ]
  }
 ],
 "metadata": {
  "kernelspec": {
   "display_name": "Python 3",
   "language": "python",
   "name": "python3"
  },
  "language_info": {
   "codemirror_mode": {
    "name": "ipython",
    "version": 3
   },
   "file_extension": ".py",
   "mimetype": "text/x-python",
   "name": "python",
   "nbconvert_exporter": "python",
   "pygments_lexer": "ipython3",
   "version": "3.11.9"
  }
 },
 "nbformat": 4,
 "nbformat_minor": 2
}

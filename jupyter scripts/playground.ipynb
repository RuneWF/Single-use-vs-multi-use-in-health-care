{
 "cells": [
  {
   "cell_type": "code",
   "execution_count": 1,
   "metadata": {},
   "outputs": [],
   "source": [
    "import pandas as pd\n",
    "# Libary to import self-made libaries\n",
    "import sys # https://stackoverflow.com/questions/4383571/importing-files-from-different-folder\n",
    "sys.path.insert(1, r'C:\\Users\\ruw\\Desktop\\RA\\Single-use-vs-multi-use-in-health-care\\Libaries')"
   ]
  },
  {
   "cell_type": "code",
   "execution_count": 4,
   "metadata": {},
   "outputs": [],
   "source": [
    "\n",
    "import reload_lib as rl\n",
    "import sensitivity as st\n",
    "import life_cycle_assessment as lc\n",
    "import lcia_results as lr\n",
    "import non_bio_co2 as nbc\n",
    "import standards as s\n",
    "import import_ecoinvent_and_databases as ied\n",
    "import results_figures as rfig\n",
    "\n",
    "\n",
    "lib = [lc, lr, nbc, s, ied, rfig, st]\n",
    "rl.reload_lib(lib)"
   ]
  },
  {
   "cell_type": "code",
   "execution_count": 7,
   "metadata": {},
   "outputs": [
    {
     "name": "stdout",
     "output_type": "stream",
     "text": [
      "Biosphere is already present in the project.\n",
      "Ecoinvent 3.9.1 is already present in the project.\n",
      "You selected to not reload\n"
     ]
    }
   ],
   "source": [
    "rl.reload_lib(lib)\n",
    "path = r'C:/Users/ruw/Desktop'\n",
    "path_github, ecoinevnt_paths, system_path = s.paths(path)\n",
    "ied.database_setup(ecoinevnt_paths, system_path)"
   ]
  },
  {
   "cell_type": "code",
   "execution_count": 2,
   "metadata": {},
   "outputs": [],
   "source": [
    "# Import BW25 packages\n",
    "import bw2data as bd\n",
    "import brightway2 as bw "
   ]
  },
  {
   "cell_type": "code",
   "execution_count": 6,
   "metadata": {},
   "outputs": [],
   "source": [
    "# Function to check if a flow is valid\n",
    "def is_valid_flow(temp, flow):\n",
    "    return (('H2' in temp or 'H4' in temp) and ('SU' in temp or 'REC' in temp) and temp not in flow)"
   ]
  },
  {
   "cell_type": "code",
   "execution_count": 5,
   "metadata": {},
   "outputs": [],
   "source": [
    "bw_project=\"Single Use vs Multi Use\"\n",
    "bd.projects.set_current(bw_project)\n",
    "db = bd.Database(\"case1_cut_off\")"
   ]
  },
  {
   "cell_type": "code",
   "execution_count": 8,
   "metadata": {},
   "outputs": [
    {
     "data": {
      "text/plain": [
       "['alubox (large + dishwasher)' (unit, GLO, None),\n",
       " 'H400 SU' (unit, GLO, None),\n",
       " 'H400 REC' (unit, GLO, None),\n",
       " 'alubox (small + wipe)' (unit, GLO, None),\n",
       " 'H200 SU' (unit, GLO, None),\n",
       " 'alubox (large + wipe)' (unit, GLO, None),\n",
       " 'alubox (small + dishwasher)' (unit, GLO, None),\n",
       " 'H200 REC' (unit, GLO, None)]"
      ]
     },
     "execution_count": 8,
     "metadata": {},
     "output_type": "execute_result"
    }
   ],
   "source": [
    "flow = []\n",
    "for act in db:\n",
    "    temp = act['name']\n",
    "    # Check if the flow is valid and add to the flow list\n",
    "    if is_valid_flow(temp, flow):\n",
    "        flow.append(act)\n",
    "    elif 'alubox' in temp and '+' in temp and 'eol' not in temp.lower():\n",
    "        flow.append(act)\n",
    "flow"
   ]
  },
  {
   "cell_type": "code",
   "execution_count": 18,
   "metadata": {},
   "outputs": [
    {
     "name": "stdout",
     "output_type": "stream",
     "text": [
      "treatment of aluminium scrap, post-consumer, prepared for recycling, at remelter 0.007482456140350878\n",
      "treatment of aluminium scrap, post-consumer, prepared for recycling, at remelter 0.004435672514619883\n",
      "treatment of aluminium scrap, post-consumer, prepared for recycling, at remelter 0.007482456140350878\n",
      "treatment of aluminium scrap, post-consumer, prepared for recycling, at remelter 0.004435672514619883\n"
     ]
    }
   ],
   "source": [
    "for f in flow:\n",
    "    for exc in f.exchanges():\n",
    "        if \"treatment of aluminium scrap\" in exc[\"name\"]:\n",
    "            print(exc[\"name\"], exc[\"amount\"])"
   ]
  }
 ],
 "metadata": {
  "kernelspec": {
   "display_name": "Python 3",
   "language": "python",
   "name": "python3"
  },
  "language_info": {
   "codemirror_mode": {
    "name": "ipython",
    "version": 3
   },
   "file_extension": ".py",
   "mimetype": "text/x-python",
   "name": "python",
   "nbconvert_exporter": "python",
   "pygments_lexer": "ipython3",
   "version": "3.11.9"
  }
 },
 "nbformat": 4,
 "nbformat_minor": 2
}

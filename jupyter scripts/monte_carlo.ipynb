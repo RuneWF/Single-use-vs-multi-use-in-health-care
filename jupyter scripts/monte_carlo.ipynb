{
 "cells": [
  {
   "cell_type": "code",
   "execution_count": 2,
   "metadata": {},
   "outputs": [],
   "source": [
    "import brightway2 as bw"
   ]
  },
  {
   "cell_type": "code",
   "execution_count": 3,
   "metadata": {},
   "outputs": [],
   "source": [
    "# Libary to import self-made libaries\n",
    "import sys # https://stackoverflow.com/questions/4383571/importing-files-from-different-folder\n",
    "sys.path.insert(1, r'C:\\Users\\ruw\\Desktop\\RA\\Single-use-vs-multi-use-in-health-care\\Libaries')"
   ]
  },
  {
   "cell_type": "code",
   "execution_count": 4,
   "metadata": {},
   "outputs": [],
   "source": [
    "import sensitivity as st\n",
    "import Monte_Carlo as mc\n",
    "import reload_lib as rl"
   ]
  },
  {
   "cell_type": "code",
   "execution_count": 5,
   "metadata": {},
   "outputs": [],
   "source": [
    "# Importing self-made libaries\n",
    "import standards as s\n",
    "import life_cycle_assessment as lc\n",
    "import LCA_plots as lp\n",
    "import box_plot as bp\n",
    "import reload_lib as rl\n",
    "\n",
    "\n",
    "lib = [s, mc, lc, lp, bp, st]"
   ]
  },
  {
   "cell_type": "code",
   "execution_count": 6,
   "metadata": {},
   "outputs": [],
   "source": [
    "# Path to where the code is stored\n",
    "path = r'C:\\Users\\ruw\\Desktop\\RA\\Single-use-vs-multi-use-in-health-care'\n",
    "# Specifying the LCIA method\n",
    "lcia_method = 'recipe'\n",
    "rl.reload_lib(lib)"
   ]
  },
  {
   "cell_type": "code",
   "execution_count": 7,
   "metadata": {},
   "outputs": [
    {
     "name": "stdout",
     "output_type": "stream",
     "text": [
      "The chosen project is SU_vs_MU and the chosen database is sterilization\n",
      "sterilization_CONSQ already exist\n",
      "Chosen flows:\n",
      "H200 REC - CONSQ\n",
      "H200 SU - CONSQ\n",
      "H400 REC- CONSQ\n",
      "H400 SU - CONSQ\n",
      "alubox large + washer - CONSQ\n",
      "alubox large + wipe - CONSQ\n",
      "alubox small + washer - CONSQ\n",
      "alubox small + wipe - CONSQ\n"
     ]
    }
   ],
   "source": [
    "rl.reload_lib(lib)\n",
    "flow_legend, database_name, file_name, sheet_name, save_dir, initialization, file_name_unique, db_type = lc.initilization(path, lcia_method)\n",
    "# Setting up an empty dictionary with the flows as the key\n",
    "\n",
    "project_name = initialization[0]\n",
    "flows = initialization[2]\n",
    "all_acts, eidb, eidb_db = lc.database_initialization(db_type, database_name, project_name)\n",
    "\n",
    "\n",
    "\n",
    "size = len(flows)\n",
    "\n"
   ]
  },
  {
   "cell_type": "code",
   "execution_count": 10,
   "metadata": {},
   "outputs": [
    {
     "data": {
      "text/plain": [
       "8"
      ]
     },
     "execution_count": 10,
     "metadata": {},
     "output_type": "execute_result"
    }
   ],
   "source": [
    "# Obtaining all the product codes for the process'\n",
    "func_unit = {}\n",
    "procces_keys = {}\n",
    "\n",
    "for act in all_acts:\n",
    "    for proc in range(size):\n",
    "        if act['name'] == flows[proc]:\n",
    "            for sub in act.exchanges():\n",
    "                if sub['type'] == 'technosphere':\n",
    "                    func_unit[sub.input] = sub['amount']\n",
    "                    procces_keys[sub.input] = sub.uncertainty\n",
    "                    # if sub.uncertainty != {}:\n",
    "                    # procces_keys[flows[proc]].update({sub.input : sub.uncertainty})\n",
    "               \n",
    "\n",
    "           \n",
    "\n"
   ]
  },
  {
   "cell_type": "code",
   "execution_count": 39,
   "metadata": {},
   "outputs": [],
   "source": [
    "all_acts[0]\n",
    "functional_unit = {all_acts[0] : 1}"
   ]
  },
  {
   "cell_type": "code",
   "execution_count": 52,
   "metadata": {},
   "outputs": [
    {
     "name": "stdout",
     "output_type": "stream",
     "text": [
      "'market for polypropylene, granulate' (kilogram, GLO, None) does not have any uncertainty\n",
      "'sheet manufacturing - APOS' (kilogram, GLO, None) does not have any uncertainty\n",
      "'packaging film production, low density polyethylene' (kilogram, RER, None) does not have any uncertainty\n",
      "'market for corrugated board box' (kilogram, RER, None) does not have any uncertainty\n",
      "'autoclave - APOS' (unit, GLO, None) does not have any uncertainty\n",
      "'transport Plastic - APOS' (ton kilometer, GLO, None) does not have any uncertainty\n",
      "'PP incineration no Energy Recovery - APOS' (kilogram, CH, None) does not have any uncertainty\n",
      "'PE incineration no Energy Recovery - APOS' (kilogram, CH, None) does not have any uncertainty\n",
      "'mixed electricity mix - APOS' (kilowatt hour, GLO, None) does not have any uncertainty\n",
      "'mixed heating grid DK 23 - APOS' (megajoule, GLO, None) does not have any uncertainty\n",
      "'treatment of waste paper to pulp, wet lap, totally chlorine free bleached' (kilogram, RoW, None) does not have any uncertainty\n"
     ]
    }
   ],
   "source": [
    "import bw2data as bd\n",
    "# Create a Monte Carlo LCA object\n",
    "mc = bw.MonteCarloLCA(functional_unit)\n",
    "\n",
    "\n",
    "\n",
    "background_processes = []\n",
    "for sub in all_acts[0].exchanges():\n",
    "    if sub['type'] == 'technosphere':\n",
    "        background_processes.append(sub.input)\n",
    "\n",
    "\n",
    "# Add uncertainty to the background processes\n",
    "for process in background_processes:\n",
    "    try:\n",
    "        bd.utils.uncertainify(process, distribution='lognormal', bounds_factor=2)\n",
    "    except AssertionError:\n",
    "        print(f\"{process} does not have any uncertainty\")"
   ]
  },
  {
   "cell_type": "code",
   "execution_count": 11,
   "metadata": {},
   "outputs": [
    {
     "name": "stdout",
     "output_type": "stream",
     "text": [
      "Recipe is selected\n"
     ]
    },
    {
     "data": {
      "text/plain": [
       "('ReCiPe 2016 v1.03, midpoint (H) Runes edition',\n",
       " 'climate change',\n",
       " 'global warming potential (GWP1000)')"
      ]
     },
     "execution_count": 11,
     "metadata": {},
     "output_type": "execute_result"
    }
   ],
   "source": [
    "gwp_cat = lc.lcia_method(initialization[3])\n",
    "gwp_cat = gwp_cat[1]\n",
    "gwp_cat"
   ]
  },
  {
   "cell_type": "code",
   "execution_count": 12,
   "metadata": {},
   "outputs": [
    {
     "name": "stdout",
     "output_type": "stream",
     "text": [
      "Iteration 1 of 1000\n"
     ]
    },
    {
     "ename": "KeyError",
     "evalue": "'scale'",
     "output_type": "error",
     "traceback": [
      "\u001b[1;31m---------------------------------------------------------------------------\u001b[0m",
      "\u001b[1;31mKeyError\u001b[0m                                  Traceback (most recent call last)",
      "Cell \u001b[1;32mIn[12], line 17\u001b[0m\n\u001b[0;32m     14\u001b[0m \u001b[38;5;28;01mfor\u001b[39;00m act, val \u001b[38;5;129;01min\u001b[39;00m func_unit\u001b[38;5;241m.\u001b[39mitems():\n\u001b[0;32m     15\u001b[0m     \u001b[38;5;66;03m# if math.isnan(uncert['loc']) == False and math.isnan(uncert['scale']) == False and func_unit_uncert[key] != {}: \u001b[39;00m\n\u001b[0;32m     16\u001b[0m     uncert \u001b[38;5;241m=\u001b[39m procces_keys[act]\n\u001b[1;32m---> 17\u001b[0m     uncert_val \u001b[38;5;241m=\u001b[39m np\u001b[38;5;241m.\u001b[39mrandom\u001b[38;5;241m.\u001b[39mlognormal(\u001b[43muncert\u001b[49m\u001b[43m[\u001b[49m\u001b[38;5;124;43m'\u001b[39;49m\u001b[38;5;124;43mscale\u001b[39;49m\u001b[38;5;124;43m'\u001b[39;49m\u001b[43m]\u001b[49m, np\u001b[38;5;241m.\u001b[39mexp(uncert[\u001b[38;5;124m'\u001b[39m\u001b[38;5;124mloc\u001b[39m\u001b[38;5;124m'\u001b[39m]))\n\u001b[0;32m     18\u001b[0m     func_unit_uncert[act] \u001b[38;5;241m=\u001b[39m uncert_val\n\u001b[0;32m     19\u001b[0m     \u001b[38;5;28mprint\u001b[39m(\u001b[38;5;124mf\u001b[39m\u001b[38;5;124m'\u001b[39m\u001b[38;5;124mPerfoming Monte Carlo  for \u001b[39m\u001b[38;5;132;01m{\u001b[39;00mact\u001b[38;5;132;01m}\u001b[39;00m\u001b[38;5;124m, val = \u001b[39m\u001b[38;5;132;01m{\u001b[39;00muncert_val\u001b[38;5;132;01m}\u001b[39;00m\u001b[38;5;124m'\u001b[39m)\n",
      "\u001b[1;31mKeyError\u001b[0m: 'scale'"
     ]
    }
   ],
   "source": [
    "from copy import deepcopy as dc\n",
    "import bw2calc as bc\n",
    "import numpy as np\n",
    "\n",
    "\n",
    "func_unit_uncert = dc(func_unit)\n",
    "\n",
    "lcia_results = {key : [] for key in func_unit.keys()}\n",
    "results = {key : {} for key in func_unit.keys()}\n",
    "\n",
    "iterations = 1000\n",
    "for itt in range(iterations):\n",
    "    print(f\"Iteration {itt + 1} of {iterations}\")\n",
    "    for act, val in func_unit.items():\n",
    "        # if math.isnan(uncert['loc']) == False and math.isnan(uncert['scale']) == False and func_unit_uncert[key] != {}: \n",
    "        uncert = procces_keys[act]\n",
    "        uncert_val = np.random.lognormal(uncert['scale'], np.exp(uncert['loc']))\n",
    "        func_unit_uncert[act] = uncert_val\n",
    "        print(f'Perfoming Monte Carlo  for {act}, val = {uncert_val}')\n",
    "        # # Use the sampled data in the Monte Carlo LCA\n",
    "\n",
    "        MC_lca = bc.MonteCarloLCA(func_unit_uncert, gwp_cat)\n",
    "        MC_lca.lci()\n",
    "\n",
    "        # Initialize cf_params if not already set\n",
    "        if not hasattr(MC_lca, 'cf_params'):\n",
    "            MC_lca.cf_params = MC_lca.load_lcia_data()\n",
    "            # print('redo cf_params')\n",
    "\n",
    "        # Rebuild the characterization matrix if it's not already initialized\n",
    "        if not hasattr(MC_lca, 'characterization_matrix'):\n",
    "            MC_lca.rebuild_characterization_matrix(MC_lca.method)\n",
    "            # print('rebuild c matric')\n",
    "\n",
    "        # Perform LCIA calculation directly\n",
    "        MC_lca.lcia_calculation()\n",
    "\n",
    "        results[act].update({f\"itteration {itt}\" : MC_lca.score})\n",
    "        # print(act, func_unit_uncert[key][act])\n",
    "    \n"
   ]
  },
  {
   "cell_type": "code",
   "execution_count": null,
   "metadata": {},
   "outputs": [],
   "source": [
    "import bw2calc as bc\n",
    "\n"
   ]
  },
  {
   "cell_type": "code",
   "execution_count": 13,
   "metadata": {},
   "outputs": [
    {
     "ename": "AttributeError",
     "evalue": "module 'bw2data' has no attribute 'prepare_lca_inputs'",
     "output_type": "error",
     "traceback": [
      "\u001b[1;31m---------------------------------------------------------------------------\u001b[0m",
      "\u001b[1;31mAttributeError\u001b[0m                            Traceback (most recent call last)",
      "Cell \u001b[1;32mIn[13], line 2\u001b[0m\n\u001b[0;32m      1\u001b[0m \u001b[38;5;28;01mimport\u001b[39;00m \u001b[38;5;21;01mbw2data\u001b[39;00m \u001b[38;5;28;01mas\u001b[39;00m \u001b[38;5;21;01mbd\u001b[39;00m\n\u001b[1;32m----> 2\u001b[0m mc_functional_unit, mc_data_objs, _ \u001b[38;5;241m=\u001b[39m \u001b[43mbd\u001b[49m\u001b[38;5;241;43m.\u001b[39;49m\u001b[43mprepare_lca_inputs\u001b[49m(\n\u001b[0;32m      3\u001b[0m     func_unit,\n\u001b[0;32m      4\u001b[0m     method\u001b[38;5;241m=\u001b[39mgwp_cat,\n\u001b[0;32m      5\u001b[0m )\n",
      "\u001b[1;31mAttributeError\u001b[0m: module 'bw2data' has no attribute 'prepare_lca_inputs'"
     ]
    }
   ],
   "source": [
    "import bw2data as bd\n",
    "mc_functional_unit, mc_data_objs, _ = bd.prepare_lca_inputs(\n",
    "    func_unit,\n",
    "    method=gwp_cat,\n",
    ")\n"
   ]
  },
  {
   "cell_type": "code",
   "execution_count": 14,
   "metadata": {},
   "outputs": [],
   "source": [
    "\n",
    "# 1. Define your foreground system (deterministic)\n",
    "foreground_demand = {}\n",
    "\n",
    "for act, val in func_unit.items():\n",
    "    foreground_demand[(project_name, act)] = val\n",
    "\n",
    "# 2. Specify the method (e.g., Global Warming Potential, IPCC 2013)\n",
    "\n",
    "# 3. Create the LCA object with distributions enabled for the background\n",
    "lca = bc.LCA(demand=func_unit, method=gwp_cat)\n",
    "lca.lci()\n",
    "lca.lcia()\n",
    "\n",
    "# 4. Run the Monte Carlo simulation\n",
    "iterations = 100  # Number of Monte Carlo runs\n",
    "results = []\n",
    "\n",
    "# for _ in range(iterations):\n",
    "#     lca.redo_lcia()  # Resample the background uncertainty\n",
    "#     results.append(lca.score)  # Store the impact score for each iteration\n",
    "\n",
    "# # Results now contain 100 Monte Carlo samples\n",
    "# print(results)\n"
   ]
  },
  {
   "cell_type": "code",
   "execution_count": 34,
   "metadata": {},
   "outputs": [
    {
     "data": {
      "text/plain": [
       "40416"
      ]
     },
     "execution_count": 34,
     "metadata": {},
     "output_type": "execute_result"
    }
   ],
   "source": []
  }
 ],
 "metadata": {
  "kernelspec": {
   "display_name": "Python 3",
   "language": "python",
   "name": "python3"
  },
  "language_info": {
   "codemirror_mode": {
    "name": "ipython",
    "version": 3
   },
   "file_extension": ".py",
   "mimetype": "text/x-python",
   "name": "python",
   "nbconvert_exporter": "python",
   "pygments_lexer": "ipython3",
   "version": "3.11.9"
  }
 },
 "nbformat": 4,
 "nbformat_minor": 2
}

{
 "cells": [
  {
   "cell_type": "code",
   "execution_count": null,
   "metadata": {},
   "outputs": [],
   "source": [
    "import brightway2 as bw"
   ]
  },
  {
   "cell_type": "code",
   "execution_count": null,
   "metadata": {},
   "outputs": [],
   "source": [
    "# Libary to import self-made libaries\n",
    "import sys # https://stackoverflow.com/questions/4383571/importing-files-from-different-folder\n",
    "sys.path.insert(1, r'C:\\Users\\ruw\\Desktop\\RA\\Single-use-vs-multi-use-in-health-care\\Libaries')"
   ]
  },
  {
   "cell_type": "code",
   "execution_count": null,
   "metadata": {},
   "outputs": [],
   "source": [
    "import sensitivity as st\n",
    "import Monte_Carlo as mc\n",
    "import reload_lib as rl"
   ]
  },
  {
   "cell_type": "code",
   "execution_count": null,
   "metadata": {},
   "outputs": [],
   "source": [
    "# Importing self-made libaries\n",
    "import standards as s\n",
    "import life_cycle_assessment as lc\n",
    "import LCA_plots as lp\n",
    "import box_plot as bp\n",
    "import reload_lib as rl\n",
    "\n",
    "\n",
    "lib = [s, mc, lc, lp, bp, st]"
   ]
  },
  {
   "cell_type": "code",
   "execution_count": null,
   "metadata": {},
   "outputs": [],
   "source": [
    "# Path to where the code is stored\n",
    "path = r'C:\\Users\\ruw\\Desktop\\RA\\Single-use-vs-multi-use-in-health-care'\n",
    "# Specifying the LCIA method\n",
    "lcia_method = 'recipe'\n",
    "rl.reload_lib(lib)"
   ]
  },
  {
   "cell_type": "code",
   "execution_count": null,
   "metadata": {},
   "outputs": [],
   "source": [
    "rl.reload_lib(lib)\n",
    "flow_legend, database_name, file_name, sheet_name, save_dir, initialization, file_name_unique, db_type = lc.initilization(path, lcia_method)\n",
    "# Setting up an empty dictionary with the flows as the key\n",
    "\n",
    "project_name = initialization[0]\n",
    "flows = initialization[2]\n",
    "all_acts, eidb, eidb_db = lc.database_initialization(db_type, database_name, project_name)\n",
    "\n",
    "\n",
    "\n",
    "size = len(flows)\n",
    "\n"
   ]
  },
  {
   "cell_type": "code",
   "execution_count": null,
   "metadata": {},
   "outputs": [],
   "source": [
    "# Obtaining all the product codes for the process'\n",
    "func_unit = {}\n",
    "procces_keys = {}\n",
    "\n",
    "for act in all_acts:\n",
    "    for proc in range(size):\n",
    "        if act['name'] == flows[proc]:\n",
    "            for sub in act.exchanges():\n",
    "                if sub['type'] == 'technosphere':\n",
    "                    func_unit[sub.input] = sub['amount']\n",
    "                    procces_keys[sub.input] = sub.uncertainty\n",
    "                    # if sub.uncertainty != {}:\n",
    "                    # procces_keys[flows[proc]].update({sub.input : sub.uncertainty})\n",
    "               \n",
    "\n",
    "           \n",
    "\n",
    "func_unit"
   ]
  },
  {
   "cell_type": "code",
   "execution_count": null,
   "metadata": {},
   "outputs": [],
   "source": [
    "gwp_cat = lc.lcia_method(initialization[3])\n",
    "gwp_cat = gwp_cat[1]\n",
    "gwp_cat"
   ]
  },
  {
   "cell_type": "code",
   "execution_count": null,
   "metadata": {},
   "outputs": [],
   "source": [
    "from copy import deepcopy as dc\n",
    "import bw2calc as bc\n",
    "import numpy as np\n",
    "\n",
    "\n",
    "func_unit_uncert = dc(func_unit)\n",
    "\n",
    "lcia_results = {key : [] for key in func_unit.keys()}\n",
    "results = {key : {} for key in func_unit.keys()}\n",
    "\n",
    "iterations = 1000\n",
    "for itt in range(iterations):\n",
    "    print(f\"Iteration {itt + 1} of {iterations}\")\n",
    "    for act, val in func_unit.items():\n",
    "        # if math.isnan(uncert['loc']) == False and math.isnan(uncert['scale']) == False and func_unit_uncert[key] != {}: \n",
    "        uncert = procces_keys[act]\n",
    "        uncert_val = np.random.lognormal(uncert['scale'], np.exp(uncert['loc']))\n",
    "        func_unit_uncert[act] = uncert_val\n",
    "        print(f'Perfoming Monte Carlo  for {act}, val = {uncert_val}')\n",
    "        # # Use the sampled data in the Monte Carlo LCA\n",
    "\n",
    "        MC_lca = bc.MonteCarloLCA(func_unit_uncert, gwp_cat)\n",
    "        MC_lca.lci()\n",
    "\n",
    "        # Initialize cf_params if not already set\n",
    "        if not hasattr(MC_lca, 'cf_params'):\n",
    "            MC_lca.cf_params = MC_lca.load_lcia_data()\n",
    "            # print('redo cf_params')\n",
    "\n",
    "        # Rebuild the characterization matrix if it's not already initialized\n",
    "        if not hasattr(MC_lca, 'characterization_matrix'):\n",
    "            MC_lca.rebuild_characterization_matrix(MC_lca.method)\n",
    "            # print('rebuild c matric')\n",
    "\n",
    "        # Perform LCIA calculation directly\n",
    "        MC_lca.lcia_calculation()\n",
    "\n",
    "        results[act].update({f\"itteration {itt}\" : MC_lca.score})\n",
    "        # print(act, func_unit_uncert[key][act])\n",
    "    \n"
   ]
  },
  {
   "cell_type": "code",
   "execution_count": null,
   "metadata": {},
   "outputs": [],
   "source": [
    "import bw2calc as bc\n",
    "\n"
   ]
  },
  {
   "cell_type": "code",
   "execution_count": null,
   "metadata": {},
   "outputs": [],
   "source": [
    "import bw2data as bd\n",
    "mc_functional_unit, mc_data_objs, _ = bd.prepare_lca_inputs(\n",
    "    func_unit,\n",
    "    method=gwp_cat,\n",
    ")\n"
   ]
  },
  {
   "cell_type": "code",
   "execution_count": null,
   "metadata": {},
   "outputs": [],
   "source": [
    "\n",
    "# 1. Define your foreground system (deterministic)\n",
    "foreground_demand = {}\n",
    "\n",
    "for act, val in func_unit.items():\n",
    "    foreground_demand[(project_name, act)] = val\n",
    "\n",
    "# 2. Specify the method (e.g., Global Warming Potential, IPCC 2013)\n",
    "\n",
    "# 3. Create the LCA object with distributions enabled for the background\n",
    "lca = bc.LCA(demand=func_unit, method=gwp_cat)\n",
    "lca.lci()\n",
    "lca.lcia()\n",
    "\n",
    "# 4. Run the Monte Carlo simulation\n",
    "iterations = 100  # Number of Monte Carlo runs\n",
    "results = []\n",
    "\n",
    "# for _ in range(iterations):\n",
    "#     lca.redo_lcia()  # Resample the background uncertainty\n",
    "#     results.append(lca.score)  # Store the impact score for each iteration\n",
    "\n",
    "# # Results now contain 100 Monte Carlo samples\n",
    "# print(results)\n"
   ]
  },
  {
   "cell_type": "code",
   "execution_count": null,
   "metadata": {},
   "outputs": [],
   "source": [
    "lca.tech_params"
   ]
  }
 ],
 "metadata": {
  "kernelspec": {
   "display_name": "Python 3",
   "language": "python",
   "name": "python3"
  },
  "language_info": {
   "name": "python",
   "version": "3.11.9"
  }
 },
 "nbformat": 4,
 "nbformat_minor": 2
}

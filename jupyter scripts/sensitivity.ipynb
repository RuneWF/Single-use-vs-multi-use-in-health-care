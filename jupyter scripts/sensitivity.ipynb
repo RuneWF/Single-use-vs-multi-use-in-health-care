{
 "cells": [
  {
   "cell_type": "code",
   "execution_count": 1,
   "metadata": {},
   "outputs": [],
   "source": [
    "# Libary to import self-made libaries\n",
    "import sys # https://stackoverflow.com/questions/4383571/importing-files-from-different-folder\n",
    "sys.path.insert(1, r'C:\\Users\\ruw\\Desktop\\RA\\Single-use-vs-multi-use-in-health-care\\Libaries')"
   ]
  },
  {
   "cell_type": "code",
   "execution_count": 2,
   "metadata": {},
   "outputs": [],
   "source": [
    "# Importing self-made libaries\n",
    "import sensitivity as st\n",
    "import reload_lib as rl\n",
    "import life_cycle_assessment as lc\n",
    "import sensitivity_case1 as c1  \n",
    "import sensitivity_case2 as c2\n",
    "import standards as s\n",
    "\n",
    "lib = [st, lc, c1, c2, s]\n",
    "rl.reload_lib(lib)"
   ]
  },
  {
   "cell_type": "code",
   "execution_count": 5,
   "metadata": {},
   "outputs": [
    {
     "name": "stdout",
     "output_type": "stream",
     "text": [
      "case1 already exist\n",
      "C:\\Users\\ruw\\Desktop\\RA\\Single-use-vs-multi-use-in-health-care\\results/case1\n",
      "case1 already exist\n",
      "C:\\Users\\ruw\\Desktop\\RA\\Single-use-vs-multi-use-in-health-care\\results/case1\n",
      "case1 already exist\n",
      "C:\\Users\\ruw\\Desktop\\RA\\Single-use-vs-multi-use-in-health-care\\results/case1\n",
      "case2 already exist\n",
      "C:\\Users\\ruw\\Desktop\\RA\\Single-use-vs-multi-use-in-health-care\\results/case2\n",
      "case2 already exist\n",
      "C:\\Users\\ruw\\Desktop\\RA\\Single-use-vs-multi-use-in-health-care\\results/case2\n",
      "case2 already exist\n",
      "C:\\Users\\ruw\\Desktop\\RA\\Single-use-vs-multi-use-in-health-care\\results/case2\n",
      "Recipe is selected\n",
      "case1 already exist\n",
      "C:\\Users\\ruw\\Desktop\\RA\\Single-use-vs-multi-use-in-health-care\\results/case1\n",
      "case1 already exist\n",
      "C:\\Users\\ruw\\Desktop\\RA\\Single-use-vs-multi-use-in-health-care\\results/case1\n",
      "case1 already exist\n",
      "C:\\Users\\ruw\\Desktop\\RA\\Single-use-vs-multi-use-in-health-care\\results/case1\n",
      "Error loading existing workbook: property 'book' of 'OpenpyxlWriter' object has no setter\n",
      "Saved successfully to C:\\Users\\ruw\\Desktop\\RA\\Single-use-vs-multi-use-in-health-care\\results/case1\\sensitivity_case1_apos.xlsx in sheet case1_apos\n",
      "Error loading existing workbook: property 'book' of 'OpenpyxlWriter' object has no setter\n",
      "Saved successfully to C:\\Users\\ruw\\Desktop\\RA\\Single-use-vs-multi-use-in-health-care\\results/case1\\sensitivity_case1_consq.xlsx in sheet case1_consq\n",
      "Error loading existing workbook: property 'book' of 'OpenpyxlWriter' object has no setter\n",
      "Saved successfully to C:\\Users\\ruw\\Desktop\\RA\\Single-use-vs-multi-use-in-health-care\\results/case1\\sensitivity_case1_cut_off.xlsx in sheet case1_cut_off\n",
      "Recipe is selected\n",
      "lowest impact : alubox (small + wipe), highest impact : H400 SU\n",
      "Error loading existing workbook: property 'book' of 'OpenpyxlWriter' object has no setter\n",
      "Saved successfully to C:\\Users\\ruw\\Desktop\\RA\\Single-use-vs-multi-use-in-health-care\\results/case2\\sensitivity_case2_apos.xlsx in sheet case2_apos\n",
      "Recipe is selected\n",
      "lowest impact : alubox (small + dishwasher), highest impact : H400 SU\n",
      "Error loading existing workbook: property 'book' of 'OpenpyxlWriter' object has no setter\n",
      "Saved successfully to C:\\Users\\ruw\\Desktop\\RA\\Single-use-vs-multi-use-in-health-care\\results/case2\\sensitivity_case2_consq.xlsx in sheet case2_consq\n",
      "Recipe is selected\n",
      "lowest impact : alubox (small + wipe), highest impact : H400 SU\n",
      "Error loading existing workbook: property 'book' of 'OpenpyxlWriter' object has no setter\n",
      "Saved successfully to C:\\Users\\ruw\\Desktop\\RA\\Single-use-vs-multi-use-in-health-care\\results/case2\\sensitivity_case2_cut_off.xlsx in sheet case2_cut_off\n"
     ]
    }
   ],
   "source": [
    "rl.reload_lib(lib)\n",
    "path = r\"C:\\Users\\ruw\\Desktop\"\n",
    "path_github, ecoinevnt_paths, system_path = s.paths(path)\n",
    "# variables = st.break_even_initialization(path_github, 'recipe')\n",
    "case = 'case1'\n",
    "st.iterative_save_sensitivity_results_to_excel(path_github, case)\n"
   ]
  }
 ],
 "metadata": {
  "kernelspec": {
   "display_name": "Python 3",
   "language": "python",
   "name": "python3"
  },
  "language_info": {
   "codemirror_mode": {
    "name": "ipython",
    "version": 3
   },
   "file_extension": ".py",
   "mimetype": "text/x-python",
   "name": "python",
   "nbconvert_exporter": "python",
   "pygments_lexer": "ipython3",
   "version": "3.11.9"
  }
 },
 "nbformat": 4,
 "nbformat_minor": 2
}

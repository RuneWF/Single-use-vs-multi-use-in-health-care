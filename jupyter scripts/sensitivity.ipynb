{
 "cells": [
  {
   "cell_type": "code",
   "execution_count": 30,
   "metadata": {},
   "outputs": [],
   "source": [
    "import brightway2 as bw"
   ]
  },
  {
   "cell_type": "code",
   "execution_count": 31,
   "metadata": {},
   "outputs": [],
   "source": [
    "# Libary to import self-made libaries\n",
    "import sys # https://stackoverflow.com/questions/4383571/importing-files-from-different-folder\n",
    "sys.path.insert(1, r'C:\\Users\\ruw\\Desktop\\RA\\Single-use-vs-multi-use-in-health-care\\Libaries')"
   ]
  },
  {
   "cell_type": "code",
   "execution_count": 32,
   "metadata": {},
   "outputs": [],
   "source": [
    "import sensitivity as st\n",
    "import Monte_Carlo as mc\n",
    "import reload_lib as rl"
   ]
  },
  {
   "cell_type": "code",
   "execution_count": 33,
   "metadata": {},
   "outputs": [],
   "source": [
    "# Importing self-made libaries\n",
    "import standards as s\n",
    "import life_cycle_assessment as lc\n",
    "import LCA_plots as lp\n",
    "import box_plot as bp\n",
    "import reload_lib as rl\n",
    "\n",
    "\n",
    "lib = [s, mc, lc, lp, bp, st]"
   ]
  },
  {
   "cell_type": "code",
   "execution_count": 34,
   "metadata": {},
   "outputs": [],
   "source": [
    "# Path to where the code is stored\n",
    "path = r'C:\\Users\\ruw\\Desktop\\RA\\Single-use-vs-multi-use-in-health-care'\n",
    "# Specifying the LCIA method\n",
    "lcia_method = 'recipe'\n",
    "rl.reload_lib(lib)"
   ]
  },
  {
   "cell_type": "code",
   "execution_count": 48,
   "metadata": {},
   "outputs": [
    {
     "name": "stdout",
     "output_type": "stream",
     "text": [
      "The chosen project is SU_vs_MU and the chosen database is sterilization\n",
      "sterilization_APOS already exist\n",
      "Chosen flows:\n",
      "H200 REC - APOS\n",
      "H200 SU - APOS\n",
      "H400 REC - APOS\n",
      "H400 SU - APOS\n",
      "alubox large + washer - APOS\n",
      "alubox large + wipe - APOS\n",
      "alubox small + washer - APOS\n",
      "alubox small + wipe - APOS\n",
      "Recipe is selected\n"
     ]
    },
    {
     "data": {
      "text/html": [
       "<div>\n",
       "<style scoped>\n",
       "    .dataframe tbody tr th:only-of-type {\n",
       "        vertical-align: middle;\n",
       "    }\n",
       "\n",
       "    .dataframe tbody tr th {\n",
       "        vertical-align: top;\n",
       "    }\n",
       "\n",
       "    .dataframe thead th {\n",
       "        text-align: right;\n",
       "    }\n",
       "</style>\n",
       "<table border=\"1\" class=\"dataframe\">\n",
       "  <thead>\n",
       "    <tr style=\"text-align: right;\">\n",
       "      <th></th>\n",
       "      <th>(ReCiPe 2016 v1.03, midpoint (H) Runes edition, climate change, global warming potential (GWP1000))</th>\n",
       "    </tr>\n",
       "  </thead>\n",
       "  <tbody>\n",
       "    <tr>\n",
       "      <th>H200 SU - APOS</th>\n",
       "      <td>[['market for polypropylene, granulate' (kilog...</td>\n",
       "    </tr>\n",
       "    <tr>\n",
       "      <th>H200 REC - APOS</th>\n",
       "      <td>[['market for polypropylene, granulate' (kilog...</td>\n",
       "    </tr>\n",
       "    <tr>\n",
       "      <th>alubox small + washer - APOS</th>\n",
       "      <td>[['alubox raw materials - APOS' (kilogram, GLO...</td>\n",
       "    </tr>\n",
       "    <tr>\n",
       "      <th>alubox small + wipe - APOS</th>\n",
       "      <td>[['alubox raw materials - APOS' (kilogram, GLO...</td>\n",
       "    </tr>\n",
       "    <tr>\n",
       "      <th>H400 SU - APOS</th>\n",
       "      <td>[['market for polypropylene, granulate' (kilog...</td>\n",
       "    </tr>\n",
       "    <tr>\n",
       "      <th>H400 REC - APOS</th>\n",
       "      <td>[['market for polypropylene, granulate' (kilog...</td>\n",
       "    </tr>\n",
       "    <tr>\n",
       "      <th>alubox large + washer - APOS</th>\n",
       "      <td>[['alubox raw materials - APOS' (kilogram, GLO...</td>\n",
       "    </tr>\n",
       "    <tr>\n",
       "      <th>alubox large + wipe - APOS</th>\n",
       "      <td>[['alubox raw materials - APOS' (kilogram, GLO...</td>\n",
       "    </tr>\n",
       "  </tbody>\n",
       "</table>\n",
       "</div>"
      ],
      "text/plain": [
       "                             (ReCiPe 2016 v1.03, midpoint (H) Runes edition, climate change, global warming potential (GWP1000))\n",
       "H200 SU - APOS                [['market for polypropylene, granulate' (kilog...                                                 \n",
       "H200 REC - APOS               [['market for polypropylene, granulate' (kilog...                                                 \n",
       "alubox small + washer - APOS  [['alubox raw materials - APOS' (kilogram, GLO...                                                 \n",
       "alubox small + wipe - APOS    [['alubox raw materials - APOS' (kilogram, GLO...                                                 \n",
       "H400 SU - APOS                [['market for polypropylene, granulate' (kilog...                                                 \n",
       "H400 REC - APOS               [['market for polypropylene, granulate' (kilog...                                                 \n",
       "alubox large + washer - APOS  [['alubox raw materials - APOS' (kilogram, GLO...                                                 \n",
       "alubox large + wipe - APOS    [['alubox raw materials - APOS' (kilogram, GLO...                                                 "
      ]
     },
     "execution_count": 48,
     "metadata": {},
     "output_type": "execute_result"
    }
   ],
   "source": [
    "database_name, df_GWP, db_type, flow_legend = st.break_even_initialization(path, lcia_method, lib)\n",
    "variables = [database_name, df_GWP, db_type, flow_legend]\n",
    "df_GWP"
   ]
  },
  {
   "cell_type": "code",
   "execution_count": 68,
   "metadata": {},
   "outputs": [
    {
     "data": {
      "image/png": "[encoded data removed]",
      "text/plain": [
       "<Figure size 1000x600 with 1 Axes>"
      ]
     },
     "metadata": {},
     "output_type": "display_data"
    }
   ],
   "source": [
    "y_min = 0\n",
    "y_max = 1\n",
    "y_step = 1/10\n",
    "y_offset = 0.01\n",
    "rl.reload_lib(lib)\n",
    "y_axis = [y_min, y_max, y_step, y_offset]\n",
    "    \n",
    "df_err = st.uncertainty_graph(variables, lib, y_axis)"
   ]
  },
  {
   "cell_type": "code",
   "execution_count": 50,
   "metadata": {},
   "outputs": [
    {
     "data": {
      "text/html": [
       "<div>\n",
       "<style scoped>\n",
       "    .dataframe tbody tr th:only-of-type {\n",
       "        vertical-align: middle;\n",
       "    }\n",
       "\n",
       "    .dataframe tbody tr th {\n",
       "        vertical-align: top;\n",
       "    }\n",
       "\n",
       "    .dataframe thead th {\n",
       "        text-align: right;\n",
       "    }\n",
       "</style>\n",
       "<table border=\"1\" class=\"dataframe\">\n",
       "  <thead>\n",
       "    <tr style=\"text-align: right;\">\n",
       "      <th></th>\n",
       "      <th>Raw mat. + prod.</th>\n",
       "      <th>Disinfection</th>\n",
       "      <th>Autoclave</th>\n",
       "      <th>Recycling</th>\n",
       "      <th>Incineration</th>\n",
       "      <th>Avoided energy prod.</th>\n",
       "      <th>Avoided mat. prod.</th>\n",
       "    </tr>\n",
       "  </thead>\n",
       "  <tbody>\n",
       "    <tr>\n",
       "      <th>H2S</th>\n",
       "      <td>0.000014</td>\n",
       "      <td>0</td>\n",
       "      <td>0.054999</td>\n",
       "      <td>0</td>\n",
       "      <td>0.000011</td>\n",
       "      <td>-0.000017</td>\n",
       "      <td>-0.0</td>\n",
       "    </tr>\n",
       "    <tr>\n",
       "      <th>H2R</th>\n",
       "      <td>0.000014</td>\n",
       "      <td>0</td>\n",
       "      <td>0.054999</td>\n",
       "      <td>0</td>\n",
       "      <td>0.000002</td>\n",
       "      <td>-0.000003</td>\n",
       "      <td>-0.000008</td>\n",
       "    </tr>\n",
       "    <tr>\n",
       "      <th>ASC</th>\n",
       "      <td>0.048116</td>\n",
       "      <td>0</td>\n",
       "      <td>0.048888</td>\n",
       "      <td>0.001424</td>\n",
       "      <td>0.000229</td>\n",
       "      <td>-0.000366</td>\n",
       "      <td>-0.016543</td>\n",
       "    </tr>\n",
       "    <tr>\n",
       "      <th>ASW</th>\n",
       "      <td>0.048116</td>\n",
       "      <td>0</td>\n",
       "      <td>0.048888</td>\n",
       "      <td>0.001424</td>\n",
       "      <td>0.000229</td>\n",
       "      <td>-0.000366</td>\n",
       "      <td>-0.016543</td>\n",
       "    </tr>\n",
       "    <tr>\n",
       "      <th>H4S</th>\n",
       "      <td>0.000021</td>\n",
       "      <td>0</td>\n",
       "      <td>0.020625</td>\n",
       "      <td>0</td>\n",
       "      <td>0.000017</td>\n",
       "      <td>-0.000026</td>\n",
       "      <td>-0.0</td>\n",
       "    </tr>\n",
       "    <tr>\n",
       "      <th>H4R</th>\n",
       "      <td>0.000021</td>\n",
       "      <td>0</td>\n",
       "      <td>0.020625</td>\n",
       "      <td>0</td>\n",
       "      <td>0.000003</td>\n",
       "      <td>-0.000004</td>\n",
       "      <td>-0.000013</td>\n",
       "    </tr>\n",
       "    <tr>\n",
       "      <th>ALC</th>\n",
       "      <td>0.080785</td>\n",
       "      <td>0</td>\n",
       "      <td>0.109998</td>\n",
       "      <td>0.002384</td>\n",
       "      <td>0.000459</td>\n",
       "      <td>-0.000318</td>\n",
       "      <td>-0.027686</td>\n",
       "    </tr>\n",
       "    <tr>\n",
       "      <th>ALW</th>\n",
       "      <td>0.080785</td>\n",
       "      <td>0</td>\n",
       "      <td>0.109998</td>\n",
       "      <td>0.002384</td>\n",
       "      <td>0.000459</td>\n",
       "      <td>-0.000318</td>\n",
       "      <td>-0.027686</td>\n",
       "    </tr>\n",
       "  </tbody>\n",
       "</table>\n",
       "</div>"
      ],
      "text/plain": [
       "    Raw mat. + prod. Disinfection Autoclave Recycling Incineration  \\\n",
       "H2S         0.000014            0  0.054999         0     0.000011   \n",
       "H2R         0.000014            0  0.054999         0     0.000002   \n",
       "ASC         0.048116            0  0.048888  0.001424     0.000229   \n",
       "ASW         0.048116            0  0.048888  0.001424     0.000229   \n",
       "H4S         0.000021            0  0.020625         0     0.000017   \n",
       "H4R         0.000021            0  0.020625         0     0.000003   \n",
       "ALC         0.080785            0  0.109998  0.002384     0.000459   \n",
       "ALW         0.080785            0  0.109998  0.002384     0.000459   \n",
       "\n",
       "    Avoided energy prod. Avoided mat. prod.  \n",
       "H2S            -0.000017               -0.0  \n",
       "H2R            -0.000003          -0.000008  \n",
       "ASC            -0.000366          -0.016543  \n",
       "ASW            -0.000366          -0.016543  \n",
       "H4S            -0.000026               -0.0  \n",
       "H4R            -0.000004          -0.000013  \n",
       "ALC            -0.000318          -0.027686  \n",
       "ALW            -0.000318          -0.027686  "
      ]
     },
     "execution_count": 50,
     "metadata": {},
     "output_type": "execute_result"
    }
   ],
   "source": [
    "df_err"
   ]
  },
  {
   "cell_type": "code",
   "execution_count": 6,
   "metadata": {},
   "outputs": [
    {
     "name": "stdout",
     "output_type": "stream",
     "text": [
      "The chosen project is SU_vs_MU and the chosen database is uncertainty\n",
      "diathermy_APOS already exist\n",
      "Chosen flows:\n",
      "apos\n"
     ]
    }
   ],
   "source": [
    "rl.reload_lib(lib)\n",
    "flow_legend, database_name, file_name, sheet_name, save_dir, initialization, file_name_unique, db_type = lc.initilization(path, lcia_method)\n",
    "# Setting up an empty dictionary with the flows as the key\n",
    "\n",
    "project_name = initialization[0]\n",
    "flows = initialization[2]\n",
    "all_acts, eidb, eidb_db = lc.database_initialization(db_type, database_name, project_name)\n",
    "\n",
    "\n",
    "\n",
    "size = len(flows)\n",
    "\n"
   ]
  },
  {
   "cell_type": "code",
   "execution_count": 7,
   "metadata": {},
   "outputs": [
    {
     "data": {
      "text/plain": [
       "{'alubox large + washer - APOS' (unit, GLO, None): 1,\n",
       " 'H400 REC - APOS' (unit, GLO, None): 1,\n",
       " 'alubox small + washer - APOS' (unit, GLO, None): 1,\n",
       " 'alubox small + wipe - APOS' (unit, GLO, None): 1,\n",
       " 'H400 SU - APOS' (unit, GLO, None): 1,\n",
       " 'H200 SU - APOS' (unit, GLO, None): 1,\n",
       " 'alubox large + wipe - APOS' (unit, GLO, None): 1,\n",
       " 'H200 REC - APOS' (unit, GLO, None): 1}"
      ]
     },
     "execution_count": 7,
     "metadata": {},
     "output_type": "execute_result"
    }
   ],
   "source": [
    "# Obtaining all the product codes for the process'\n",
    "func_unit = {}\n",
    "procces_keys = {}\n",
    "\n",
    "for act in all_acts:\n",
    "    for proc in range(size):\n",
    "        if act['name'] == flows[proc]:\n",
    "            for sub in act.exchanges():\n",
    "                if sub['type'] == 'technosphere':\n",
    "                    func_unit[sub.input] = sub['amount']\n",
    "                    procces_keys[sub.input] = sub.uncertainty\n",
    "                    # if sub.uncertainty != {}:\n",
    "                    # procces_keys[flows[proc]].update({sub.input : sub.uncertainty})\n",
    "               \n",
    "\n",
    "           \n",
    "\n",
    "func_unit"
   ]
  },
  {
   "cell_type": "code",
   "execution_count": 8,
   "metadata": {},
   "outputs": [
    {
     "name": "stdout",
     "output_type": "stream",
     "text": [
      "Recipe is selected\n"
     ]
    },
    {
     "data": {
      "text/plain": [
       "('ReCiPe 2016 v1.03, midpoint (H) Runes edition',\n",
       " 'climate change',\n",
       " 'global warming potential (GWP1000)')"
      ]
     },
     "execution_count": 8,
     "metadata": {},
     "output_type": "execute_result"
    }
   ],
   "source": [
    "gwp_cat = lc.lcia_method(initialization[3])\n",
    "gwp_cat = gwp_cat[1]\n",
    "gwp_cat"
   ]
  },
  {
   "cell_type": "code",
   "execution_count": null,
   "metadata": {},
   "outputs": [],
   "source": [
    "from copy import deepcopy as dc\n",
    "import bw2calc as bc\n",
    "import numpy as np\n",
    "\n",
    "\n",
    "func_unit_uncert = dc(func_unit)\n",
    "\n",
    "lcia_results = {key : [] for key in func_unit.keys()}\n",
    "results = {key : {} for key in func_unit.keys()}\n",
    "\n",
    "iterations = 1000\n",
    "for itt in range(iterations):\n",
    "    print(f\"Iteration {itt + 1} of {iterations}\")\n",
    "    for act, val in func_unit.items():\n",
    "        # if math.isnan(uncert['loc']) == False and math.isnan(uncert['scale']) == False and func_unit_uncert[key] != {}: \n",
    "        uncert = procces_keys[act]\n",
    "        uncert_val = np.random.lognormal(uncert['scale'], np.exp(uncert['loc']))\n",
    "        func_unit_uncert[act] = uncert_val\n",
    "        print(f'Perfoming Monte Carlo  for {act}, val = {uncert_val}')\n",
    "        # # Use the sampled data in the Monte Carlo LCA\n",
    "\n",
    "        MC_lca = bc.MonteCarloLCA(func_unit_uncert, gwp_cat)\n",
    "        MC_lca.lci()\n",
    "\n",
    "        # Initialize cf_params if not already set\n",
    "        if not hasattr(MC_lca, 'cf_params'):\n",
    "            MC_lca.cf_params = MC_lca.load_lcia_data()\n",
    "            # print('redo cf_params')\n",
    "\n",
    "        # Rebuild the characterization matrix if it's not already initialized\n",
    "        if not hasattr(MC_lca, 'characterization_matrix'):\n",
    "            MC_lca.rebuild_characterization_matrix(MC_lca.method)\n",
    "            # print('rebuild c matric')\n",
    "\n",
    "        # Perform LCIA calculation directly\n",
    "        MC_lca.lcia_calculation()\n",
    "\n",
    "        results[act].update({f\"itteration {itt}\" : MC_lca.score})\n",
    "        # print(act, func_unit_uncert[key][act])\n",
    "    \n"
   ]
  },
  {
   "cell_type": "code",
   "execution_count": 9,
   "metadata": {},
   "outputs": [],
   "source": [
    "import bw2calc as bc\n",
    "\n"
   ]
  },
  {
   "cell_type": "code",
   "execution_count": 17,
   "metadata": {},
   "outputs": [
    {
     "ename": "AttributeError",
     "evalue": "module 'bw2data' has no attribute 'prepare_lca_inputs'",
     "output_type": "error",
     "traceback": [
      "\u001b[1;31m---------------------------------------------------------------------------\u001b[0m",
      "\u001b[1;31mAttributeError\u001b[0m                            Traceback (most recent call last)",
      "Cell \u001b[1;32mIn[17], line 2\u001b[0m\n\u001b[0;32m      1\u001b[0m \u001b[38;5;28;01mimport\u001b[39;00m \u001b[38;5;21;01mbw2data\u001b[39;00m \u001b[38;5;28;01mas\u001b[39;00m \u001b[38;5;21;01mbd\u001b[39;00m\n\u001b[1;32m----> 2\u001b[0m mc_functional_unit, mc_data_objs, _ \u001b[38;5;241m=\u001b[39m \u001b[43mbd\u001b[49m\u001b[38;5;241;43m.\u001b[39;49m\u001b[43mprepare_lca_inputs\u001b[49m(\n\u001b[0;32m      3\u001b[0m     func_unit,\n\u001b[0;32m      4\u001b[0m     method\u001b[38;5;241m=\u001b[39mgwp_cat,\n\u001b[0;32m      5\u001b[0m )\n",
      "\u001b[1;31mAttributeError\u001b[0m: module 'bw2data' has no attribute 'prepare_lca_inputs'"
     ]
    }
   ],
   "source": [
    "import bw2data as bd\n",
    "mc_functional_unit, mc_data_objs, _ = bd.prepare_lca_inputs(\n",
    "    func_unit,\n",
    "    method=gwp_cat,\n",
    ")\n"
   ]
  },
  {
   "cell_type": "code",
   "execution_count": 10,
   "metadata": {},
   "outputs": [],
   "source": [
    "\n",
    "# 1. Define your foreground system (deterministic)\n",
    "foreground_demand = {}\n",
    "\n",
    "for act, val in func_unit.items():\n",
    "    foreground_demand[(project_name, act)] = val\n",
    "\n",
    "# 2. Specify the method (e.g., Global Warming Potential, IPCC 2013)\n",
    "\n",
    "# 3. Create the LCA object with distributions enabled for the background\n",
    "lca = bc.LCA(demand=func_unit, method=gwp_cat)\n",
    "lca.lci()\n",
    "lca.lcia()\n",
    "\n",
    "# 4. Run the Monte Carlo simulation\n",
    "iterations = 100  # Number of Monte Carlo runs\n",
    "results = []\n",
    "\n",
    "# for _ in range(iterations):\n",
    "#     lca.redo_lcia()  # Resample the background uncertainty\n",
    "#     results.append(lca.score)  # Store the impact score for each iteration\n",
    "\n",
    "# # Results now contain 100 Monte Carlo samples\n",
    "# print(results)\n"
   ]
  },
  {
   "cell_type": "code",
   "execution_count": 23,
   "metadata": {},
   "outputs": [
    {
     "data": {
      "text/plain": [
       "array([(45099, 45099, 40389, 40389, 0, 0, -1.0000e+00,  -1.        ,        nan, nan, nan, nan,  True),\n",
       "       (45100, 45100, 40390, 40390, 0, 0,  1.0000e+00,   1.        ,        nan, nan, nan, nan, False),\n",
       "       (45103, 45103, 40391, 40391, 0, 0,  1.0000e+00,   1.        ,        nan, nan, nan, nan, False),\n",
       "       ...,\n",
       "       (42970, 45149, 38260, 40425, 1, 2,  3.5439e-11, -24.063208  , 0.23260696, nan, nan, nan, False),\n",
       "       (44491, 45149, 39781, 40425, 1, 2,  1.5176e+00,   0.41713014, 0.9095603 , nan, nan, nan, False),\n",
       "       (44506, 45149, 39796, 40425, 1, 2,  3.0409e-10, -21.913698  , 1.3886684 , nan, nan, nan, False)],\n",
       "      dtype=[('input', '<u4'), ('output', '<u4'), ('row', '<u4'), ('col', '<u4'), ('type', 'u1'), ('uncertainty_type', 'u1'), ('amount', '<f4'), ('loc', '<f4'), ('scale', '<f4'), ('shape', '<f4'), ('minimum', '<f4'), ('maximum', '<f4'), ('negative', '?')])"
      ]
     },
     "execution_count": 23,
     "metadata": {},
     "output_type": "execute_result"
    }
   ],
   "source": [
    "lca.tech_params"
   ]
  }
 ],
 "metadata": {
  "kernelspec": {
   "display_name": "Python 3",
   "language": "python",
   "name": "python3"
  },
  "language_info": {
   "codemirror_mode": {
    "name": "ipython",
    "version": 3
   },
   "file_extension": ".py",
   "mimetype": "text/x-python",
   "name": "python",
   "nbconvert_exporter": "python",
   "pygments_lexer": "ipython3",
   "version": "3.11.9"
  }
 },
 "nbformat": 4,
 "nbformat_minor": 2
}

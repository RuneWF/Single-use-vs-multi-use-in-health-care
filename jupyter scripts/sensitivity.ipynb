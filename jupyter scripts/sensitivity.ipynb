{
 "cells": [
  {
   "cell_type": "code",
   "execution_count": 1,
   "metadata": {},
   "outputs": [],
   "source": [
    "# Libary to import self-made libaries\n",
    "import sys # https://stackoverflow.com/questions/4383571/importing-files-from-different-folder\n",
    "sys.path.insert(1, r'C:\\Users\\ruw\\Desktop\\RA\\Single-use-vs-multi-use-in-health-care\\Libaries')"
   ]
  },
  {
   "cell_type": "code",
   "execution_count": 31,
   "metadata": {},
   "outputs": [],
   "source": [
    "# Importing self-made libaries\n",
    "import sensitivity as st\n",
    "import Monte_Carlo as mc\n",
    "import reload_lib as rl\n",
    "import life_cycle_assessment as lc\n",
    "import sens_table as tab\n",
    "\n",
    "\n",
    "lib = [st, mc, lc, tab]"
   ]
  },
  {
   "cell_type": "code",
   "execution_count": 5,
   "metadata": {},
   "outputs": [],
   "source": [
    "# Path to where the code is stored\n",
    "path = r'C:\\Users\\ruw\\Desktop\\RA\\Single-use-vs-multi-use-in-health-care'\n",
    "# Specifying the LCIA method\n",
    "lcia_method = 'recipe'\n",
    "\n",
    "ecoinevnt_paths = {'ev391apos' : r\"C:\\Users\\ruw\\Desktop\\4. semester\\EcoInvent\\ecoinvent 3.9.1_apos_ecoSpold02\\datasets\",\n",
    "                   'ev391consq' : r\"C:\\Users\\ruw\\Desktop\\4. semester\\EcoInvent\\ecoinvent 3.9.1_consequential_ecoSpold02\\datasets\",\n",
    "                   'ev391cutoff' : r\"C:\\Users\\ruw\\Downloads\\ecoinvent 3.9.1_cutoff_ecoSpold02\\datasets\"}\n",
    "system_path = [r'C:\\Users\\ruw\\Desktop\\RA\\Single-use-vs-multi-use-in-health-care\\Data\\databases\\case1.xlsx', \n",
    "                r'C:\\Users\\ruw\\Desktop\\RA\\Single-use-vs-multi-use-in-health-care\\Data\\databases\\case2.xlsx']\n",
    "\n",
    "rl.reload_lib(lib)"
   ]
  },
  {
   "cell_type": "code",
   "execution_count": 15,
   "metadata": {},
   "outputs": [
    {
     "name": "stdout",
     "output_type": "stream",
     "text": [
      "Biosphere is already present in the project.\n",
      "Ecoinvent 3.9.1 is already present in the project.\n",
      "False\n",
      "You selected to not reload\n",
      "case1_apos already exist\n",
      "Chosen flows:\n",
      "H200 REC\n",
      "H200 SU\n",
      "H400 REC\n",
      "H400 SU\n",
      "alubox (large + dishwasher)\n",
      "alubox (large + wipe)\n",
      "alubox (small + dishwasher)\n",
      "alubox (small + wipe)\n",
      "Recipe is selected\n"
     ]
    }
   ],
   "source": [
    "rl.reload_lib(lib)\n",
    "variables = st.break_even_initialization(path, lcia_method, lib, ecoinevnt_paths, system_path)\n"
   ]
  },
  {
   "cell_type": "code",
   "execution_count": 310,
   "metadata": {},
   "outputs": [
    {
     "data": {
      "text/html": [
       "<div>\n",
       "<style scoped>\n",
       "    .dataframe tbody tr th:only-of-type {\n",
       "        vertical-align: middle;\n",
       "    }\n",
       "\n",
       "    .dataframe tbody tr th {\n",
       "        vertical-align: top;\n",
       "    }\n",
       "\n",
       "    .dataframe thead th {\n",
       "        text-align: right;\n",
       "    }\n",
       "</style>\n",
       "<table border=\"1\" class=\"dataframe\">\n",
       "  <thead>\n",
       "    <tr style=\"text-align: right;\">\n",
       "      <th></th>\n",
       "      <th>H2S - lower%</th>\n",
       "      <th>H2S - upper%</th>\n",
       "      <th>H2R - lower%</th>\n",
       "      <th>H2R - upper%</th>\n",
       "      <th>ASC - lower%</th>\n",
       "      <th>ASC - upper%</th>\n",
       "      <th>ASW - lower%</th>\n",
       "      <th>ASW - upper%</th>\n",
       "      <th>H4S - lower%</th>\n",
       "      <th>H4S - upper%</th>\n",
       "      <th>H4R - lower%</th>\n",
       "      <th>H4R - upper%</th>\n",
       "      <th>ALC - lower%</th>\n",
       "      <th>ALC - upper%</th>\n",
       "      <th>ALW - lower%</th>\n",
       "      <th>ALW - upper%</th>\n",
       "    </tr>\n",
       "  </thead>\n",
       "  <tbody>\n",
       "    <tr>\n",
       "      <th>Life time</th>\n",
       "      <td>-</td>\n",
       "      <td>-</td>\n",
       "      <td>-</td>\n",
       "      <td>-</td>\n",
       "      <td>-38.79%</td>\n",
       "      <td>61.21%</td>\n",
       "      <td>-38.79%</td>\n",
       "      <td>61.21%</td>\n",
       "      <td>-</td>\n",
       "      <td>-</td>\n",
       "      <td>-</td>\n",
       "      <td>-</td>\n",
       "      <td>-38.79%</td>\n",
       "      <td>61.21%</td>\n",
       "      <td>-38.79%</td>\n",
       "      <td>61.21%</td>\n",
       "    </tr>\n",
       "    <tr>\n",
       "      <th>autoclave</th>\n",
       "      <td>-</td>\n",
       "      <td>50.00%</td>\n",
       "      <td>-</td>\n",
       "      <td>50.00%</td>\n",
       "      <td>-</td>\n",
       "      <td>33.33%</td>\n",
       "      <td>-</td>\n",
       "      <td>33.33%</td>\n",
       "      <td>-</td>\n",
       "      <td>12.50%</td>\n",
       "      <td>-</td>\n",
       "      <td>12.50%</td>\n",
       "      <td>-</td>\n",
       "      <td>50.00%</td>\n",
       "      <td>-</td>\n",
       "      <td>50.00%</td>\n",
       "    </tr>\n",
       "    <tr>\n",
       "      <th>protection cover</th>\n",
       "      <td>-11.27%</td>\n",
       "      <td>-</td>\n",
       "      <td>-11.27%</td>\n",
       "      <td>-</td>\n",
       "      <td>-</td>\n",
       "      <td>-</td>\n",
       "      <td>-</td>\n",
       "      <td>-</td>\n",
       "      <td>-5.94%</td>\n",
       "      <td>-</td>\n",
       "      <td>-5.94%</td>\n",
       "      <td>-</td>\n",
       "      <td>-</td>\n",
       "      <td>-</td>\n",
       "      <td>-</td>\n",
       "      <td>-</td>\n",
       "    </tr>\n",
       "    <tr>\n",
       "      <th>total</th>\n",
       "      <td>-11.27%</td>\n",
       "      <td>50.00%</td>\n",
       "      <td>-11.27%</td>\n",
       "      <td>50.00%</td>\n",
       "      <td>-38.79%</td>\n",
       "      <td>94.54%</td>\n",
       "      <td>-38.79%</td>\n",
       "      <td>94.54%</td>\n",
       "      <td>-5.94%</td>\n",
       "      <td>12.50%</td>\n",
       "      <td>-5.94%</td>\n",
       "      <td>12.50%</td>\n",
       "      <td>-38.79%</td>\n",
       "      <td>111.21%</td>\n",
       "      <td>-38.79%</td>\n",
       "      <td>111.21%</td>\n",
       "    </tr>\n",
       "  </tbody>\n",
       "</table>\n",
       "</div>"
      ],
      "text/plain": [
       "                 H2S - lower% H2S - upper% H2R - lower% H2R - upper%  \\\n",
       "Life time                   -            -            -            -   \n",
       "autoclave                   -       50.00%            -       50.00%   \n",
       "protection cover      -11.27%            -      -11.27%            -   \n",
       "total                 -11.27%       50.00%      -11.27%       50.00%   \n",
       "\n",
       "                 ASC - lower% ASC - upper% ASW - lower% ASW - upper%  \\\n",
       "Life time             -38.79%       61.21%      -38.79%       61.21%   \n",
       "autoclave                   -       33.33%            -       33.33%   \n",
       "protection cover            -            -            -            -   \n",
       "total                 -38.79%       94.54%      -38.79%       94.54%   \n",
       "\n",
       "                 H4S - lower% H4S - upper% H4R - lower% H4R - upper%  \\\n",
       "Life time                   -            -            -            -   \n",
       "autoclave                   -       12.50%            -       12.50%   \n",
       "protection cover       -5.94%            -       -5.94%            -   \n",
       "total                  -5.94%       12.50%       -5.94%       12.50%   \n",
       "\n",
       "                 ALC - lower% ALC - upper% ALW - lower% ALW - upper%  \n",
       "Life time             -38.79%       61.21%      -38.79%       61.21%  \n",
       "autoclave                   -       50.00%            -       50.00%  \n",
       "protection cover            -            -            -            -  \n",
       "total                 -38.79%      111.21%      -38.79%      111.21%  "
      ]
     },
     "execution_count": 310,
     "metadata": {},
     "output_type": "execute_result"
    }
   ],
   "source": [
    "rl.reload_lib(lib)\n",
    "df_sensitivity = tab.uncertainty_values_new(variables)\n",
    "df_sensitivity\n"
   ]
  },
  {
   "cell_type": "code",
   "execution_count": 309,
   "metadata": {},
   "outputs": [
    {
     "name": "stdout",
     "output_type": "stream",
     "text": [
      "<class 'dict'>\n"
     ]
    },
    {
     "data": {
      "image/png": "[encoded data removed]",
      "text/plain": [
       "<Figure size 1000x600 with 1 Axes>"
      ]
     },
     "metadata": {},
     "output_type": "display_data"
    }
   ],
   "source": [
    "y_min = 0\n",
    "y_max = 1.5\n",
    "y_step = 1/10\n",
    "y_offset = 0.01\n",
    "rl.reload_lib(lib)\n",
    "y_axis = [y_min, y_max, y_step, y_offset]\n",
    "    \n",
    "df_tot_err, df_err_min, df_err_max = st.uncertainty_graph(variables, lib, y_axis)\n"
   ]
  }
 ],
 "metadata": {
  "kernelspec": {
   "display_name": "Python 3",
   "language": "python",
   "name": "python3"
  },
  "language_info": {
   "codemirror_mode": {
    "name": "ipython",
    "version": 3
   },
   "file_extension": ".py",
   "mimetype": "text/x-python",
   "name": "python",
   "nbconvert_exporter": "python",
   "pygments_lexer": "ipython3",
   "version": "3.11.9"
  }
 },
 "nbformat": 4,
 "nbformat_minor": 2
}

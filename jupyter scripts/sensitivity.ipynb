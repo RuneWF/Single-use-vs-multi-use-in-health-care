{
 "cells": [
  {
   "cell_type": "code",
   "execution_count": 22,
   "metadata": {},
   "outputs": [],
   "source": [
    "# Libary to import self-made libaries\n",
    "import sys # https://stackoverflow.com/questions/4383571/importing-files-from-different-folder\n",
    "sys.path.insert(1, r'C:\\Users\\ruw\\Desktop\\RA\\Single-use-vs-multi-use-in-health-care\\Libaries')"
   ]
  },
  {
   "cell_type": "code",
   "execution_count": 23,
   "metadata": {},
   "outputs": [],
   "source": [
    "# Importing self-made libaries\n",
    "import sensitivity as st\n",
    "import Monte_Carlo as mc\n",
    "import reload_lib as rl\n",
    "import life_cycle_assessment as lc\n",
    "import sens_table as tab\n",
    "import LCA_plots as lp\n",
    "import sensitivity_case1 as c1\n",
    "import sensitivity_case2 as c2\n",
    "\n",
    "\n",
    "lib = [st, mc, lc, tab, lp, c1, c2]"
   ]
  },
  {
   "cell_type": "code",
   "execution_count": 24,
   "metadata": {},
   "outputs": [],
   "source": [
    "# Path to where the code is stored\n",
    "path = r'C:\\Users\\ruw\\Desktop\\RA\\Single-use-vs-multi-use-in-health-care'\n",
    "# Specifying the LCIA method\n",
    "lcia_method = 'recipe'\n",
    "\n",
    "ecoinevnt_paths = {'ev391apos' : r\"C:\\Users\\ruw\\Desktop\\4. semester\\EcoInvent\\ecoinvent 3.9.1_apos_ecoSpold02\\datasets\",\n",
    "                   'ev391consq' : r\"C:\\Users\\ruw\\Desktop\\4. semester\\EcoInvent\\ecoinvent 3.9.1_consequential_ecoSpold02\\datasets\",\n",
    "                   'ev391cutoff' : r\"C:\\Users\\ruw\\Downloads\\ecoinvent 3.9.1_cutoff_ecoSpold02\\datasets\"}\n",
    "system_path = [r'C:\\Users\\ruw\\Desktop\\RA\\Single-use-vs-multi-use-in-health-care\\Data\\databases\\case1.xlsx', \n",
    "                r'C:\\Users\\ruw\\Desktop\\RA\\Single-use-vs-multi-use-in-health-care\\Data\\databases\\case2.xlsx']\n",
    "\n",
    "rl.reload_lib(lib)"
   ]
  },
  {
   "cell_type": "code",
   "execution_count": 25,
   "metadata": {},
   "outputs": [
    {
     "name": "stdout",
     "output_type": "stream",
     "text": [
      "case1_apos already exist\n",
      "C:\\Users\\ruw\\Desktop\\RA\\Single-use-vs-multi-use-in-health-care\\results\\case1_apos\n",
      "case1_consq already exist\n",
      "C:\\Users\\ruw\\Desktop\\RA\\Single-use-vs-multi-use-in-health-care\\results\\case1_consq\n",
      "case1_cut_off already exist\n",
      "C:\\Users\\ruw\\Desktop\\RA\\Single-use-vs-multi-use-in-health-care\\results\\case1_cut_off\n",
      "case2_apos already exist\n",
      "C:\\Users\\ruw\\Desktop\\RA\\Single-use-vs-multi-use-in-health-care\\results\\case2_apos\n",
      "case2_consq already exist\n",
      "C:\\Users\\ruw\\Desktop\\RA\\Single-use-vs-multi-use-in-health-care\\results\\case2_consq\n",
      "case2_cut_off already exist\n",
      "C:\\Users\\ruw\\Desktop\\RA\\Single-use-vs-multi-use-in-health-care\\results\\case2_cut_off\n",
      "Recipe is selected\n"
     ]
    }
   ],
   "source": [
    "rl.reload_lib(lib)\n",
    "variables = st.break_even_initialization(path, lcia_method)"
   ]
  },
  {
   "cell_type": "code",
   "execution_count": 26,
   "metadata": {},
   "outputs": [
    {
     "name": "stdout",
     "output_type": "stream",
     "text": [
      "case1_apos already exist\n",
      "C:\\Users\\ruw\\Desktop\\RA\\Single-use-vs-multi-use-in-health-care\\results\\case1_apos\n",
      "case1_consq already exist\n",
      "C:\\Users\\ruw\\Desktop\\RA\\Single-use-vs-multi-use-in-health-care\\results\\case1_consq\n",
      "case1_cut_off already exist\n",
      "C:\\Users\\ruw\\Desktop\\RA\\Single-use-vs-multi-use-in-health-care\\results\\case1_cut_off\n",
      "Error loading existing workbook: property 'book' of 'OpenpyxlWriter' object has no setter\n",
      "Saved successfully to C:\\Users\\ruw\\Desktop\\RA\\Single-use-vs-multi-use-in-health-care\\results\\case1_apos\\sensitivity_case1_apos.xlsx in sheet case1_apos\n",
      "Error loading existing workbook: property 'book' of 'OpenpyxlWriter' object has no setter\n",
      "Saved successfully to C:\\Users\\ruw\\Desktop\\RA\\Single-use-vs-multi-use-in-health-care\\results\\case1_consq\\sensitivity_case1_consq.xlsx in sheet case1_consq\n",
      "Error loading existing workbook: property 'book' of 'OpenpyxlWriter' object has no setter\n",
      "Saved successfully to C:\\Users\\ruw\\Desktop\\RA\\Single-use-vs-multi-use-in-health-care\\results\\case1_cut_off\\sensitivity_case1_cut_off.xlsx in sheet case1_cut_off\n",
      "Recipe is selected\n",
      "lowest impact : alubox (small + wipe), highest impact : H400 SU\n",
      "Error loading existing workbook: property 'book' of 'OpenpyxlWriter' object has no setter\n",
      "Saved successfully to C:\\Users\\ruw\\Desktop\\RA\\Single-use-vs-multi-use-in-health-care\\results\\case2_apos\\sensitivity_case2_apos.xlsx in sheet case2_apos\n",
      "Recipe is selected\n",
      "lowest impact : alubox (small + dishwasher), highest impact : H400 SU\n",
      "Error loading existing workbook: property 'book' of 'OpenpyxlWriter' object has no setter\n",
      "Saved successfully to C:\\Users\\ruw\\Desktop\\RA\\Single-use-vs-multi-use-in-health-care\\results\\case2_consq\\sensitivity_case2_consq.xlsx in sheet case2_consq\n",
      "Recipe is selected\n",
      "lowest impact : alubox (small + wipe), highest impact : H400 SU\n",
      "Error loading existing workbook: property 'book' of 'OpenpyxlWriter' object has no setter\n",
      "Saved successfully to C:\\Users\\ruw\\Desktop\\RA\\Single-use-vs-multi-use-in-health-care\\results\\case2_cut_off\\sensitivity_case2_cut_off.xlsx in sheet case2_cut_off\n"
     ]
    }
   ],
   "source": [
    "rl.reload_lib(lib)\n",
    "path = r'C:\\Users\\ruw\\Desktop\\RA\\Single-use-vs-multi-use-in-health-care'\n",
    "\n",
    "df, df_dct_be = tab.iterative_save_sensitivity_results_to_excel(variables, path)"
   ]
  },
  {
   "cell_type": "code",
   "execution_count": 27,
   "metadata": {},
   "outputs": [
    {
     "data": {
      "text/html": [
       "<div>\n",
       "<style scoped>\n",
       "    .dataframe tbody tr th:only-of-type {\n",
       "        vertical-align: middle;\n",
       "    }\n",
       "\n",
       "    .dataframe tbody tr th {\n",
       "        vertical-align: top;\n",
       "    }\n",
       "\n",
       "    .dataframe thead th {\n",
       "        text-align: right;\n",
       "    }\n",
       "</style>\n",
       "<table border=\"1\" class=\"dataframe\">\n",
       "  <thead>\n",
       "    <tr style=\"text-align: right;\">\n",
       "      <th></th>\n",
       "      <th>SUD - lower%</th>\n",
       "      <th>SUD - upper%</th>\n",
       "      <th>MUD - lower%</th>\n",
       "      <th>MUD - upper%</th>\n",
       "    </tr>\n",
       "  </thead>\n",
       "  <tbody>\n",
       "    <tr>\n",
       "      <th>autoclave</th>\n",
       "      <td>-</td>\n",
       "      <td>-</td>\n",
       "      <td>0.042294</td>\n",
       "      <td>-0.0244</td>\n",
       "    </tr>\n",
       "    <tr>\n",
       "      <th>cabinet washer</th>\n",
       "      <td>-</td>\n",
       "      <td>-</td>\n",
       "      <td>-</td>\n",
       "      <td>-0.0377</td>\n",
       "    </tr>\n",
       "    <tr>\n",
       "      <th>Life time</th>\n",
       "      <td>-</td>\n",
       "      <td>-</td>\n",
       "      <td>3.3524</td>\n",
       "      <td>-0.41905</td>\n",
       "    </tr>\n",
       "    <tr>\n",
       "      <th>sterilization</th>\n",
       "      <td>-</td>\n",
       "      <td>-</td>\n",
       "      <td>0.403742</td>\n",
       "      <td>-0.342172</td>\n",
       "    </tr>\n",
       "    <tr>\n",
       "      <th>surgery time</th>\n",
       "      <td>0.277108</td>\n",
       "      <td>-0.394286</td>\n",
       "      <td>0.277108</td>\n",
       "      <td>-0.394286</td>\n",
       "    </tr>\n",
       "    <tr>\n",
       "      <th>total</th>\n",
       "      <td>0.277108</td>\n",
       "      <td>-0.394286</td>\n",
       "      <td>4.075545</td>\n",
       "      <td>-1.217608</td>\n",
       "    </tr>\n",
       "  </tbody>\n",
       "</table>\n",
       "</div>"
      ],
      "text/plain": [
       "               SUD - lower% SUD - upper% MUD - lower% MUD - upper%\n",
       "autoclave                 -            -     0.042294      -0.0244\n",
       "cabinet washer            -            -            -      -0.0377\n",
       "Life time                 -            -       3.3524     -0.41905\n",
       "sterilization             -            -     0.403742    -0.342172\n",
       "surgery time       0.277108    -0.394286     0.277108    -0.394286\n",
       "total              0.277108    -0.394286     4.075545    -1.217608"
      ]
     },
     "execution_count": 27,
     "metadata": {},
     "output_type": "execute_result"
    }
   ],
   "source": [
    "df['case2_consq']"
   ]
  },
  {
   "cell_type": "code",
   "execution_count": 28,
   "metadata": {},
   "outputs": [],
   "source": [
    "# y_min = 0\n",
    "# y_max = 1.5\n",
    "# y_step = 1/10\n",
    "# y_offset = 0.01\n",
    "# rl.reload_lib(lib)\n",
    "# y_axis = [y_min, y_max, y_step, y_offset]\n",
    "    \n",
    "# df_tot_err, df_err_min, df_err_max = st.uncertainty_graph(variables, lib, y_axis)"
   ]
  }
 ],
 "metadata": {
  "kernelspec": {
   "display_name": "Python 3",
   "language": "python",
   "name": "python3"
  },
  "language_info": {
   "codemirror_mode": {
    "name": "ipython",
    "version": 3
   },
   "file_extension": ".py",
   "mimetype": "text/x-python",
   "name": "python",
   "nbconvert_exporter": "python",
   "pygments_lexer": "ipython3",
   "version": "3.11.9"
  }
 },
 "nbformat": 4,
 "nbformat_minor": 2
}

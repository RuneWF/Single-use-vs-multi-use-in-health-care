{
 "cells": [
  {
   "cell_type": "code",
   "execution_count": 40,
   "metadata": {},
   "outputs": [],
   "source": [
    "# Import packages\n",
    "import matplotlib.pyplot as plt\n",
    "import numpy as np\n",
    "import pandas as pd\n",
    "import matplotlib.ticker as mtick\n",
    "import matplotlib.cm as cm\n",
    "import math\n",
    "import plotly.graph_objects as go\n",
    "from collections import OrderedDict\n",
    "from matplotlib.lines import Line2D  # Import for creating custom legend markers\n",
    "import json\n",
    "import copy\n",
    "import random\n",
    "import re\n",
    "import seaborn as sns\n",
    "import importlib\n",
    "\n",
    "\n",
    "# Import BW25 packages\n",
    "import bw2data as bd\n",
    "import bw2io as bi\n",
    "import bw2calc as bc\n",
    "import bw2analyzer as bwa\n",
    "import brightway2 as bw \n",
    "from bw2calc import LeastSquaresLCA"
   ]
  },
  {
   "cell_type": "code",
   "execution_count": 60,
   "metadata": {},
   "outputs": [
    {
     "name": "stdout",
     "output_type": "stream",
     "text": [
      "Folder name Results created\n"
     ]
    },
    {
     "data": {
      "text/plain": [
       "<module 'LCA_plots' from 'c:\\\\Users\\\\ruw\\\\Desktop\\\\RA\\\\Single-use-vs-multi-use-in-health-care\\\\Brighway\\\\LCA_plots.py'>"
      ]
     },
     "execution_count": 60,
     "metadata": {},
     "output_type": "execute_result"
    }
   ],
   "source": [
    "from  standards import *\n",
    "import Monte_Carlo as MC\n",
    "import life_cycle_assessment as lc\n",
    "import LCA_plots as lp\n",
    "\n",
    "\n",
    "importlib.reload(MC)\n",
    "importlib.reload(lc)\n",
    "importlib.reload(lp)"
   ]
  },
  {
   "cell_type": "code",
   "execution_count": 42,
   "metadata": {},
   "outputs": [
    {
     "name": "stdout",
     "output_type": "stream",
     "text": [
      "Folder name Results created\n"
     ]
    }
   ],
   "source": [
    "db_type = 'CONSQ'\n",
    "lcia_method = 'recipe'\n",
    "\n",
    "save_dir = results_folder('Results')\n",
    "\n",
    "project = 'Lobster'\n",
    "\n",
    "\n",
    "file_name = f'Results\\{project} - {db_type}_{lcia_method}.xlsx'\n",
    "file_cont_name = f'Results\\{project} contribution - {db_type}_{lcia_method}.xlsx'\n",
    "sheet_name = f'{project}'\n",
    "\n",
    "path = r'C:\\Users\\ruw\\Desktop\\RA\\Single-use-vs-multi-use-in-health-care\\Brighway'\n",
    "\n",
    "# Your name variable should be the name of the project.\n",
    "database_project = \"RA - Ofir & Stine 1\"\n",
    "database_name = \"Lobster consq\"\n",
    "\n",
    "flows = [f'sc1', f'sc2', f'sc3']\n",
    "flow_legend = [f'DSU', f'DRM', f'DRE']\n",
    "\n",
    "directory = 'C:\\\\Users\\\\ruw\\\\Desktop\\\\RA\\\\'\n",
    "\n",
    "calculate_lcia = False\n",
    "calculate_cont = False"
   ]
  },
  {
   "cell_type": "code",
   "execution_count": 43,
   "metadata": {},
   "outputs": [
    {
     "name": "stdout",
     "output_type": "stream",
     "text": [
      "Consq EcoInvent\n",
      "Biosphere database already present!!! No setup is needed\n",
      "Recipe is selected\n",
      "Initialization is completed\n"
     ]
    }
   ],
   "source": [
    "FU, FU_proc, impact_category, plot_x_axis_all, sub_product_details = lc.LCA_initialization(database_project, database_name, flows, lcia_method, db_type)\n",
    "\n",
    "if calculate_lcia is True:\n",
    "    # Caculating the LCA results\n",
    "    df = lc.life_cycle_impact_assessment(flows, FU, impact_category, FU_proc)\n",
    "    lc.save_LCA_results(df, file_name, sheet_name, impact_category)\n",
    "\n",
    "df = lc.import_LCA_results(file_name, flows, impact_category)\n",
    "\n"
   ]
  },
  {
   "cell_type": "code",
   "execution_count": 44,
   "metadata": {},
   "outputs": [],
   "source": [
    "if 'recipe' in lcia_method:\n",
    "    df_test, df_endpoint = lc.recipe_dataframe_split(df)\n",
    "    plot_x_axis_end = plot_x_axis_all[-3:]\n",
    "    ic_mid = plot_x_axis_all[:-3] \n",
    "    plot_x_axis = []\n",
    "    for ic in ic_mid:\n",
    "        # print(ic)\n",
    "        string = re.findall(r'\\((.*?)\\)', ic)\n",
    "        plot_x_axis.append(string[0])\n",
    "\n",
    "else:\n",
    "    df_test = df\n",
    "    plot_x_axis = plot_x_axis_all\n"
   ]
  },
  {
   "cell_type": "code",
   "execution_count": 45,
   "metadata": {},
   "outputs": [
    {
     "name": "stdout",
     "output_type": "stream",
     "text": [
      "Consq EcoInvent\n",
      "Biosphere database already present!!! No setup is needed\n",
      "Recipe is selected\n",
      "Initialization is completed\n",
      "Consq EcoInvent\n",
      "Biosphere database already present!!! No setup is needed\n",
      "Recipe is selected\n",
      "Initialization is completed\n",
      "Consq EcoInvent\n",
      "Biosphere database already present!!! No setup is needed\n",
      "Recipe is selected\n",
      "Initialization is completed\n",
      "Consq EcoInvent\n",
      "Biosphere database already present!!! No setup is needed\n",
      "Recipe is selected\n",
      "Initialization is completed\n",
      "Consq EcoInvent\n",
      "Biosphere database already present!!! No setup is needed\n",
      "Recipe is selected\n",
      "Initialization is completed\n",
      "Consq EcoInvent\n",
      "Biosphere database already present!!! No setup is needed\n",
      "Recipe is selected\n",
      "Initialization is completed\n",
      "Consq EcoInvent\n",
      "Biosphere database already present!!! No setup is needed\n",
      "Recipe is selected\n",
      "Initialization is completed\n",
      "Consq EcoInvent\n",
      "Biosphere database already present!!! No setup is needed\n",
      "Recipe is selected\n",
      "Initialization is completed\n",
      "Consq EcoInvent\n",
      "Biosphere database already present!!! No setup is needed\n",
      "Recipe is selected\n",
      "Initialization is completed\n",
      "Consq EcoInvent\n",
      "Biosphere database already present!!! No setup is needed\n",
      "Recipe is selected\n",
      "Initialization is completed\n",
      "Consq EcoInvent\n",
      "Biosphere database already present!!! No setup is needed\n",
      "Recipe is selected\n",
      "Initialization is completed\n",
      "Consq EcoInvent\n",
      "Biosphere database already present!!! No setup is needed\n",
      "Recipe is selected\n",
      "Initialization is completed\n",
      "Consq EcoInvent\n",
      "Biosphere database already present!!! No setup is needed\n",
      "Recipe is selected\n",
      "Initialization is completed\n",
      "Consq EcoInvent\n",
      "Biosphere database already present!!! No setup is needed\n",
      "Recipe is selected\n",
      "Initialization is completed\n",
      "Consq EcoInvent\n",
      "Biosphere database already present!!! No setup is needed\n",
      "Recipe is selected\n",
      "Initialization is completed\n",
      "Consq EcoInvent\n",
      "Biosphere database already present!!! No setup is needed\n",
      "Recipe is selected\n",
      "Initialization is completed\n",
      "Consq EcoInvent\n",
      "Biosphere database already present!!! No setup is needed\n",
      "Recipe is selected\n",
      "Initialization is completed\n",
      "Consq EcoInvent\n",
      "Biosphere database already present!!! No setup is needed\n",
      "Recipe is selected\n",
      "Initialization is completed\n"
     ]
    }
   ],
   "source": [
    "# # Processing the LCA results\n",
    "sub_proccess, amount = lc.obtaining_sub_process(sub_product_details)\n",
    "FU_sub, FU_sub_process, idx = lc.sub_process_initilization(sub_proccess, FU, database_project, f'df_idx_ofir_{db_type}', lcia_method, db_type)\n",
    "flow_count, flow_sub, functional_unit_sub = lc.FU_contibution_initilization(FU_sub, FU_sub_process)\n"
   ]
  },
  {
   "cell_type": "code",
   "execution_count": 46,
   "metadata": {},
   "outputs": [],
   "source": [
    "if calculate_cont == True:    \n",
    "    fu_sub_updated = lc.process_update(FU, functional_unit_sub)\n",
    "    \n",
    "    df_cont = lc.LCIA_contribution(impact_category[1], flow_count, FU_sub_process, fu_sub_updated, amount, idx)\n",
    "    lc.save_LCA_results(df_cont, file_cont_name, sheet_name, impact_category)\n",
    "    df_c = lc.import_LCA_results(file_cont_name, idx, impact_category[1])\n"
   ]
  },
  {
   "cell_type": "code",
   "execution_count": 47,
   "metadata": {},
   "outputs": [],
   "source": [
    "df_tot, df_scaled = lc.dataframe_element_scaling(df_test)\n"
   ]
  },
  {
   "cell_type": "code",
   "execution_count": 48,
   "metadata": {},
   "outputs": [],
   "source": [
    "df_col = [df_test.columns[1]]\n",
    "df_GWP = df_test[df_col]\n",
    "\n",
    "unique_elements = lc.unique_elements_list(df_GWP, db_type)\n"
   ]
  },
  {
   "cell_type": "code",
   "execution_count": 49,
   "metadata": {},
   "outputs": [],
   "source": [
    "colors = plot_colors(unique_elements,'turbo')\n",
    "\n",
    "inputs = [flow_legend, colors, save_dir, db_type, database_name]\n"
   ]
  },
  {
   "cell_type": "code",
   "execution_count": 53,
   "metadata": {},
   "outputs": [
    {
     "name": "stdout",
     "output_type": "stream",
     "text": [
      "<class 'list'>\n",
      "<class 'list'>\n",
      "<class 'str'>\n",
      "<class 'str'>\n",
      "<class 'str'>\n"
     ]
    }
   ],
   "source": [
    "for i in inputs:\n",
    "    print(type(i))\n",
    "\n"
   ]
  },
  {
   "cell_type": "code",
   "execution_count": 61,
   "metadata": {},
   "outputs": [
    {
     "data": {
      "image/png": "[encoded data removed]",
      "text/plain": [
       "<Figure size 640x480 with 1 Axes>"
      ]
     },
     "metadata": {},
     "output_type": "display_data"
    }
   ],
   "source": [
    "lp.scaled_FU_plot(df_scaled, plot_x_axis, inputs, impact_category)"
   ]
  },
  {
   "cell_type": "code",
   "execution_count": 62,
   "metadata": {},
   "outputs": [
    {
     "data": {
      "image/png": "[encoded data removed]",
      "text/plain": [
       "<Figure size 640x480 with 1 Axes>"
      ]
     },
     "metadata": {},
     "output_type": "display_data"
    }
   ],
   "source": [
    "if 'recipe' in lcia_method.lower():\n",
    "    df_tot_e, df_scaled_e = lc.dataframe_element_scaling(df_endpoint)\n",
    "    lp.scaled_FU_plot(df_scaled_e, plot_x_axis_end, inputs, impact_category[-3:])\n"
   ]
  },
  {
   "cell_type": "code",
   "execution_count": 63,
   "metadata": {},
   "outputs": [],
   "source": [
    "if 'recipe' not in lcia_method:\n",
    "    lp.single_score_plot(directory, df_tot, inputs)"
   ]
  },
  {
   "cell_type": "code",
   "execution_count": 64,
   "metadata": {},
   "outputs": [
    {
     "data": {
      "image/png": "[encoded data removed]",
      "text/plain": [
       "<Figure size 1200x600 with 1 Axes>"
      ]
     },
     "metadata": {},
     "output_type": "display_data"
    }
   ],
   "source": [
    "# Categories definitions\n",
    "categories, category_mapping = lp.category_organization(database_name)\n",
    "\n",
    "y_min = -0.6\n",
    "y_max = 3\n",
    "step = 0.2\n",
    "y_axis_values = [y_min, y_max, step]\n",
    "\n",
    "lp.gwp_lc_plot(df_GWP, category_mapping, categories, inputs, y_axis_values)"
   ]
  },
  {
   "cell_type": "code",
   "execution_count": 77,
   "metadata": {},
   "outputs": [
    {
     "name": "stdout",
     "output_type": "stream",
     "text": [
      "1 alubox raw materials - CONSQ - sc 1\n",
      "1 alubox production - CONSQ - sc 1\n",
      "1 autoclave - CONSQ - sc 1\n",
      "1 Handwash - CONSQ - sc 1\n",
      "1 alubox EoL melting - CONSQ - sc 1\n",
      "1 alubox EoL mixed sorting - CONSQ - sc 1\n",
      "1 transport Alu - CONSQ - sc 1\n",
      "1 avoided alubox raw materials - CONSQ - sc 1\n",
      "2 pp production - CONSQ - sc 2\n",
      "2 autoclave - CONSQ - sc 2\n",
      "2 market for corrugated board box - sc 2\n",
      "2 packaging film production, low density polyethylene - sc 2\n",
      "2 market for polypropylene, granulate - sc 2\n",
      "2 transport Plastic - CONSQ - sc 2\n",
      "2 PE incineration no Energy Recovery - CONSQ - sc 2\n",
      "2 PP incineration no Energy Recovery - CONSQ - sc 2\n",
      "2 marginal heating grid projection updated - CONSQ - sc 2\n",
      "2 energy avoided electricity from energy recovery - CONSQ - sc 2\n",
      "3 pp production - CONSQ - sc 3\n",
      "3 autoclave - CONSQ - sc 3\n",
      "3 market for corrugated board box - sc 3\n",
      "3 packaging film production, low density polyethylene - sc 3\n",
      "3 market for polypropylene, granulate - sc 3\n",
      "3 polyethylene, high density, granulate, recycled to generic market for high density PE granulate - sc 3\n",
      "3 transport Plastic - CONSQ - sc 3\n",
      "3 PE incineration no Energy Recovery - CONSQ - sc 3\n",
      "3 PP incineration no Energy Recovery - CONSQ - sc 3\n",
      "3 marginal heating grid projection updated - CONSQ - sc 3\n",
      "3 energy avoided electricity from energy recovery - CONSQ - sc 3\n"
     ]
    }
   ],
   "source": [
    "cont_idx = df_c.index\n",
    "cont_idx = list(cont_idx)\n",
    "\n",
    "for flow in range(1,len(flows)+1):\n",
    "    # flow += 1\n",
    "    for ix in cont_idx:\n",
    "        if f'{flow}' in ix:\n",
    "            print(flow, ix)"
   ]
  },
  {
   "cell_type": "code",
   "execution_count": 78,
   "metadata": {},
   "outputs": [],
   "source": [
    "def node_name_update(node):\n",
    "    if '- APOS - sc 1' in node:\n",
    "        node = node.replace(f' - APOS - sc 1', '')\n",
    "        if  'avoided alubox raw materials' in node:\n",
    "            node = 'Avoided raw mat.'\n",
    "        elif 'melting' in node:\n",
    "            node = 'Melting'\n",
    "        elif 'mixed sorting' in node:\n",
    "            node = 'Mixed sorting'\n",
    "        elif 'prod' in node:\n",
    "            node = 'Alubox prod.'\n",
    "        else:\n",
    "            node = node.title()\n",
    "    elif 'wrought alloy' in node:\n",
    "        node = 'Virgin alu'\n",
    "    elif 'steel production' in node:\n",
    "        node = 'Virgin steel'\n",
    "    elif 'impact extrusio' in node:\n",
    "        node = 'Alu impact extrusion'\n",
    "    elif 'corrugated' in node:\n",
    "        node = 'Cardboard box'\n",
    "    elif 'anodising' in node:\n",
    "        node = 'Alu anodising'\n",
    "    elif 'transport' in node:\n",
    "        node = 'Transport'\n",
    "    \n",
    "    return node"
   ]
  },
  {
   "cell_type": "code",
   "execution_count": 79,
   "metadata": {},
   "outputs": [],
   "source": [
    "def source_name_update(process, source):\n",
    "        \n",
    "    if 'wrought alloy' in source:\n",
    "        source = 'Alu wrought alloy'\n",
    "    elif 'steel production' in source:\n",
    "        source = 'Virgin steel'\n",
    "    elif 'anodising' in source:\n",
    "        source = 'Alu anodising'\n",
    "    elif 'impact extrusio' in source:\n",
    "        source = 'Alu impact extrusion'\n",
    "    elif 'transport' in source:\n",
    "        source = 'Transport'\n",
    "    elif 'corrugated' in source:\n",
    "        source = 'Cardboard box'\n",
    "    elif 'metal working' in source:\n",
    "        source = 'Steel manufacturing'\n",
    "    elif 'sheet rolling' in source:\n",
    "        source = 'Alu sheet rolling'\n",
    "    elif 'recycling' in source:\n",
    "        if 'mixed sorting' in process.lower():\n",
    "            source = 'Mixed metal scrap'\n",
    "        else:\n",
    "            source = 'Alu remelting'\n",
    "    elif 'autoclave' in source:\n",
    "        source = 'Autoclave'\n",
    "    elif 'Handwash' in source:\n",
    "        source = 'Handwash'\n",
    "    return source"
   ]
  },
  {
   "cell_type": "code",
   "execution_count": 80,
   "metadata": {},
   "outputs": [],
   "source": [
    "# df_c_gwp =copy.deepcopy(df_c)\n",
    "# c = []\n",
    "\n",
    "# node_sc1 = ['Raw material','Production', 'Use', 'EoL', 'EoL Treatment']\n",
    "# node_sc2 = []\n",
    "# node_sc3 = []\n",
    "\n",
    "# links_sc1 = []\n",
    "# links_sc2 = []\n",
    "# links_sc3 = []\n",
    "\n",
    "# for i, row in df_c_gwp.iterrows():\n",
    "#     if 'sc 1' in i:\n",
    "#         # print(i)\n",
    "#         node = node_name_update(i)\n",
    "#         # if  'disinfec' not in i:\n",
    "#         node_sc1.append(node)\n",
    "#         for element in row:\n",
    "\n",
    "#             for proc in element:\n",
    "#                 # print(proc)\n",
    "#                 val = round(proc[1]/GWP_value[0][-1]*100,2)\n",
    "#                 source = proc[0]\n",
    "#                 source = source_name_update(i,source)\n",
    "#                 # print(source)\n",
    "#                 if   val != 0:\n",
    "\n",
    "#                     if  val < 0 and 'Cardboard' not in source:\n",
    "#                         # print(proc[0])\n",
    "#                         source = 'Avoided ' + source.lower()\n",
    "\n",
    "#                     if 'raw material' in i and 'avoided' not in source.lower():\n",
    "#                         print(f'{i} : Raw : {node}, source : {source}, GWP : {val}')\n",
    "#                         dct_temp = {\"source\": 'Raw material', \"target\": source, \"value\":val}\n",
    "#                         dct_temp2 = {\"source\": source, \"target\": 'Production', \"value\":val}\n",
    "#                         # dct_temp3 = {\"source\": node, \"target\": 'Production', \"value\":val}\n",
    "#                     if 'production' in i or 'transport' in source.lower():\n",
    "#                         print(f'{i} : Prod. : {node}, source : {source}, GWP : {val}')\n",
    "#                         dct_temp = {\"source\": 'Production', \"target\": source, \"value\":val}\n",
    "#                         dct_temp2 = {\"source\": source, \"target\": 'Use', \"value\":val}\n",
    "#                         # dct_temp3 = {\"source\": node, \"target\": 'Use', \"value\":val}\n",
    "#                     if 'autoclave' in i.lower() or 'handwash' in i.lower():\n",
    "#                         print(f'{i} : Use : {node}, source : {source}, GWP : {val}')\n",
    "#                         dct_temp = {\"source\": 'Use', \"target\": source, \"value\": val}\n",
    "#                         dct_temp2 = {\"source\": source, \"target\": 'EoL', \"value\": val}\n",
    "#                     if  'avoided' in i.lower():\n",
    "                        \n",
    "#                         if 'alu' in source.lower():\n",
    "#                             val = round(val * 0.95, 2) \n",
    "#                         elif 'steel' in source.lower():\n",
    "#                             val = round(val * 0.65, 2) \n",
    "#                         print(f'{i} : EoL : {node}, source : {source}, GWP : {val}')\n",
    "#                         dct_temp = {\"source\": 'EoL', \"target\": source, \"value\":val}\n",
    "#                         dct_temp2 = {\"source\": source, \"target\": node, \"value\":val}\n",
    "#                     if 'eol' in i.lower() and 'avoided' not in i.lower():\n",
    "#                         print(f'{i} : EoL : {node}, source : {source}, GWP : {val}')\n",
    "#                         dct_temp = {\"source\": 'EoL', \"target\": source, \"value\":val}\n",
    "#                         dct_temp2 = {\"source\": source, \"target\": 'EoL Treatment', \"value\":val}\n",
    "\n",
    "                \n",
    "#                     links_sc1.append(dct_temp)\n",
    "#                     links_sc1.append(dct_temp2)\n",
    "#                     # if dct_temp3 not in links_sc1:\n",
    "#                     #     links_sc1.append(dct_temp3)\n",
    "#                     node_sc1.append(source)\n"
   ]
  },
  {
   "cell_type": "code",
   "execution_count": 81,
   "metadata": {},
   "outputs": [
    {
     "data": {
      "text/plain": [
       "[(0.18995, 0.07176, 0.23217, 1.0),\n",
       " (0.24539, 0.23044, 0.59142, 1.0),\n",
       " (0.27334, 0.38008, 0.84037, 1.0),\n",
       " (0.27381, 0.52069, 0.97899, 1.0),\n",
       " (0.21382, 0.65886, 0.97959, 1.0),\n",
       " (0.11639, 0.7974, 0.85559, 1.0),\n",
       " (0.10342, 0.896, 0.715, 1.0),\n",
       " (0.23449, 0.96065, 0.55614, 1.0),\n",
       " (0.44321, 0.99551, 0.37345, 1.0),\n",
       " (0.64362, 0.98999, 0.23356, 1.0),\n",
       " (0.78563, 0.93579, 0.20336, 1.0),\n",
       " (0.90605, 0.84337, 0.22188, 1.0),\n",
       " (0.98, 0.73, 0.22161, 1.0),\n",
       " (0.99593, 0.58703, 0.16899, 1.0),\n",
       " (0.96187, 0.41093, 0.0931, 1.0),\n",
       " (0.89298, 0.26981, 0.03993, 1.0),\n",
       " (0.79125, 0.16368, 0.01387, 1.0),\n",
       " (0.65345, 0.07902, 0.00408, 1.0),\n",
       " (0.4796, 0.01583, 0.01055, 1.0)]"
      ]
     },
     "execution_count": 81,
     "metadata": {},
     "output_type": "execute_result"
    }
   ],
   "source": [
    "colors"
   ]
  },
  {
   "cell_type": "code",
   "execution_count": 82,
   "metadata": {},
   "outputs": [
    {
     "data": {
      "text/plain": [
       "'rgba(0.4796, 0.01583, 0.01055, 1)'"
      ]
     },
     "execution_count": 82,
     "metadata": {},
     "output_type": "execute_result"
    }
   ],
   "source": [
    "color_links = []\n",
    "color_nodes = []\n",
    "for c in colors:\n",
    "    c_link = list(c)  # Convert tuple to list if needed\n",
    "    c_node = list(c)\n",
    "\n",
    "    c_link = f\"rgba({c[0]}, {c[1]}, {c[2]}, .5)\"  # Update the last element\n",
    "    c_node = f\"rgba({c[0]}, {c[1]}, {c[2]}, 1)\"\n",
    "\n",
    "    color_links.append(c_link)  # Add the updated list to c_new\n",
    "    color_nodes.append(c_node)\n",
    "\n",
    "c_node"
   ]
  },
  {
   "cell_type": "code",
   "execution_count": 83,
   "metadata": {},
   "outputs": [],
   "source": [
    "sankey_color = colors\n",
    "\n"
   ]
  },
  {
   "cell_type": "code",
   "execution_count": 84,
   "metadata": {},
   "outputs": [
    {
     "data": {
      "text/plain": [
       "[0.18995, 0.07176, 0.23217, 1.0]"
      ]
     },
     "execution_count": 84,
     "metadata": {},
     "output_type": "execute_result"
    }
   ],
   "source": [
    "list(sankey_color[0])"
   ]
  },
  {
   "cell_type": "code",
   "execution_count": 85,
   "metadata": {},
   "outputs": [
    {
     "data": {
      "text/plain": [
       "19"
      ]
     },
     "execution_count": 85,
     "metadata": {},
     "output_type": "execute_result"
    }
   ],
   "source": [
    "len(color_nodes)"
   ]
  },
  {
   "cell_type": "code",
   "execution_count": 86,
   "metadata": {},
   "outputs": [
    {
     "ename": "NameError",
     "evalue": "name 'GWP_value' is not defined",
     "output_type": "error",
     "traceback": [
      "\u001b[1;31m---------------------------------------------------------------------------\u001b[0m",
      "\u001b[1;31mNameError\u001b[0m                                 Traceback (most recent call last)",
      "Cell \u001b[1;32mIn[86], line 40\u001b[0m\n\u001b[0;32m     36\u001b[0m \u001b[38;5;28;01mfor\u001b[39;00m element \u001b[38;5;129;01min\u001b[39;00m row:\n\u001b[0;32m     38\u001b[0m     \u001b[38;5;28;01mfor\u001b[39;00m proc \u001b[38;5;129;01min\u001b[39;00m element:\n\u001b[0;32m     39\u001b[0m         \u001b[38;5;66;03m# print(proc)\u001b[39;00m\n\u001b[1;32m---> 40\u001b[0m         val \u001b[38;5;241m=\u001b[39m \u001b[38;5;28mround\u001b[39m(proc[\u001b[38;5;241m1\u001b[39m]\u001b[38;5;241m/\u001b[39m\u001b[43mGWP_value\u001b[49m[\u001b[38;5;241m0\u001b[39m][\u001b[38;5;241m-\u001b[39m\u001b[38;5;241m1\u001b[39m]\u001b[38;5;241m*\u001b[39m\u001b[38;5;241m100\u001b[39m,\u001b[38;5;241m2\u001b[39m)\n\u001b[0;32m     41\u001b[0m         source \u001b[38;5;241m=\u001b[39m proc[\u001b[38;5;241m0\u001b[39m]\n\u001b[0;32m     42\u001b[0m         source \u001b[38;5;241m=\u001b[39m source_name_update(i,source)\n",
      "\u001b[1;31mNameError\u001b[0m: name 'GWP_value' is not defined"
     ]
    }
   ],
   "source": [
    "df_c_gwp =copy.deepcopy(df_c)\n",
    "c = []\n",
    "\n",
    "node_sc1 = ['Raw material','Production', 'Use', 'EoL', 'EoL Treatment']\n",
    "node_sc2 = []\n",
    "node_sc3 = []\n",
    "\n",
    "\n",
    "\n",
    "links_sc1 = []\n",
    "links_sc2 = []\n",
    "links_sc3 = []\n",
    "\n",
    "node_colors_links = {}\n",
    "node_colors = {}\n",
    "\n",
    "link_opacity = 0.3\n",
    "node_opacity = 0.9\n",
    "\n",
    "pos = -3\n",
    "neg = 6\n",
    "\n",
    "for i, c in enumerate(node_sc1):\n",
    "    node_colors_links[c] =color_links[pos]\n",
    "    if i == 0:\n",
    "        node_colors[c] = color_nodes[i+1]\n",
    "    else:\n",
    "        node_colors[c] = color_nodes[i+4]\n",
    "\n",
    "for i, row in df_c_gwp.iterrows():\n",
    "    if 'sc 1' in i:\n",
    "        # print(i)\n",
    "        node = node_name_update(i)\n",
    "        # if  'disinfec' not in i:\n",
    "        node_sc1.append(node)\n",
    "        for element in row:\n",
    "\n",
    "            for proc in element:\n",
    "                # print(proc)\n",
    "                val = round(proc[1]/GWP_value[0][-1]*100,2)\n",
    "                source = proc[0]\n",
    "                source = source_name_update(i,source)\n",
    "                # print(source)\n",
    "                if   val != 0:\n",
    "                    node_colors_links[source] = color_links[pos]\n",
    "                    if  val < 0 and 'Cardboard' not in source:\n",
    "                        # print(proc[0])\n",
    "                        source = 'Avoided ' + source.lower()\n",
    "\n",
    "                        node_colors_links[source] = color_links[neg]\n",
    "\n",
    "                    if 'raw material' in i and 'avoided' not in source.lower():\n",
    "                        print(f'{i} : Raw : {node}, source : {source}, GWP : {val}')\n",
    "                        dct_temp = {\"source\": 'Raw material', \"target\": source, \"value\":val}\n",
    "                        dct_temp2 = {\"source\": source, \"target\": 'Production', \"value\":val}\n",
    "                        # dct_temp3 = {\"source\": node, \"target\": 'Production', \"value\":val}\n",
    "                        node_colors[source] = color_nodes[2]\n",
    "                        node_colors[node] = color_nodes[0]\n",
    "\n",
    "                    if 'production' in i or 'transport' in source.lower():\n",
    "                        print(f'{i} : Prod. : {node}, source : {source}, GWP : {val}')\n",
    "                        dct_temp = {\"source\": 'Production', \"target\": source, \"value\":val}\n",
    "                        dct_temp2 = {\"source\": source, \"target\": 'Use', \"value\":val}\n",
    "                        # dct_temp3 = {\"source\": node, \"target\": 'Use', \"value\":val}\n",
    "                        node_colors[source] = color_nodes[5]\n",
    "                        node_colors[node] = color_nodes[6]\n",
    "\n",
    "                    if 'autoclave' in i.lower() or 'handwash' in i.lower():\n",
    "                        print(f'{i} : Use : {node}, source : {source}, GWP : {val}')\n",
    "                        dct_temp = {\"source\": 'Use', \"target\": source, \"value\": val}\n",
    "                        dct_temp2 = {\"source\": source, \"target\": 'EoL', \"value\": val}\n",
    "                        node_colors[source] = color_nodes[4]\n",
    "                        node_colors[node] = color_nodes[3]\n",
    "                        \n",
    "                    if  'avoided' in i.lower():\n",
    "                        if 'alu' in source.lower():\n",
    "                            val = round(val * 0.95, 2) \n",
    "                        elif 'steel' in source.lower():\n",
    "                            val = round(val * 0.65, 2) \n",
    "                        print(f'{i} : EoL : {node}, source : {source}, GWP : {val}')\n",
    "                        dct_temp = {\"source\": 'EoL', \"target\": source, \"value\":val}\n",
    "                        dct_temp2 = {\"source\": source, \"target\": node, \"value\":val}\n",
    "                        node_colors[source] = color_nodes[13]\n",
    "                        node_colors[node] = color_nodes[11]\n",
    "                        \n",
    "                    if 'eol' in i.lower() and 'avoided' not in i.lower():\n",
    "                        print(f'{i} : EoL : {node}, source : {source}, GWP : {val}')\n",
    "                        dct_temp = {\"source\": 'EoL', \"target\": source, \"value\":val}\n",
    "                        dct_temp2 = {\"source\": source, \"target\": 'EoL Treatment', \"value\":val}\n",
    "                        node_colors[source] = color_nodes[13]\n",
    "                        node_colors[node] = color_nodes[11]\n",
    "                \n",
    "                    links_sc1.append(dct_temp)\n",
    "                    links_sc1.append(dct_temp2)\n",
    "                    # if dct_temp3 not in links_sc1:\n",
    "                    #     links_sc1.append(dct_temp3)\n",
    "                    node_sc1.append(source)\n"
   ]
  },
  {
   "cell_type": "code",
   "execution_count": null,
   "metadata": {},
   "outputs": [
    {
     "data": {
      "text/plain": [
       "15"
      ]
     },
     "execution_count": 38,
     "metadata": {},
     "output_type": "execute_result"
    }
   ],
   "source": [
    "len(colors)"
   ]
  },
  {
   "cell_type": "code",
   "execution_count": null,
   "metadata": {},
   "outputs": [
    {
     "data": {
      "application/vnd.plotly.v1+json": {
       "config": {
        "plotlyServerURL": "https://plot.ly"
       },
       "data": [
        {
         "arrangement": "perpendicular",
         "domain": {
          "x": [
           0,
           1
          ],
          "y": [
           0,
           1
          ]
         },
         "link": {
          "color": [
           "rgba(0.8538, 0.2217, 0.02677, .5)",
           "rgba(0.8538, 0.2217, 0.02677, .5)",
           "rgba(0.8538, 0.2217, 0.02677, .5)",
           "rgba(0.8538, 0.2217, 0.02677, .5)",
           "rgba(0.8538, 0.2217, 0.02677, .5)",
           "rgba(0.8538, 0.2217, 0.02677, .5)",
           "rgba(0.8538, 0.2217, 0.02677, .5)",
           "rgba(0.8538, 0.2217, 0.02677, .5)",
           "rgba(0.8538, 0.2217, 0.02677, .5)",
           "rgba(0.8538, 0.2217, 0.02677, .5)",
           "rgba(0.8538, 0.2217, 0.02677, .5)",
           "rgba(0.8538, 0.2217, 0.02677, .5)",
           "rgba(0.8538, 0.2217, 0.02677, .5)",
           "rgba(0.8538, 0.2217, 0.02677, .5)",
           "rgba(0.8538, 0.2217, 0.02677, .5)",
           "rgba(0.8538, 0.2217, 0.02677, .5)",
           "rgba(0.8538, 0.2217, 0.02677, .5)",
           "rgba(0.8538, 0.2217, 0.02677, .5)",
           "rgba(0.8538, 0.2217, 0.02677, .5)",
           "rgba(0.8538, 0.2217, 0.02677, .5)",
           "rgba(0.8538, 0.2217, 0.02677, .5)",
           "rgba(0.8538, 0.2217, 0.02677, .5)",
           "rgba(0.8538, 0.2217, 0.02677, .5)",
           "rgba(0.8538, 0.2217, 0.02677, .5)",
           "rgba(0.8538, 0.2217, 0.02677, .5)",
           "rgba(0.38127, 0.98909, 0.42386, .5)",
           "rgba(0.8538, 0.2217, 0.02677, .5)",
           "rgba(0.38127, 0.98909, 0.42386, .5)"
          ],
          "line": {
           "width": [
            1,
            1,
            0.07057226871748473,
            0.07057226871748473,
            0.028726532458719745,
            0.028726532458719745,
            0.06650079167609138,
            0.06650079167609138,
            0.0018095453517303778,
            0.0018095453517303778,
            0.027595566613888258,
            0.027595566613888258,
            0.03302420266907939,
            0.03302420266907939,
            0.10269169871069894,
            0.10269169871069894,
            0.1621805021488351,
            0.1621805021488351,
            0.9097489255824474,
            0.9097489255824474,
            0.022166930558697128,
            0.022166930558697128,
            0.01470255598280932,
            0.01470255598280932,
            0.9500113096584483,
            0.9500113096584483,
            0.04591721330015833,
            0.04591721330015833
           ]
          },
          "source": [
           0,
           6,
           0,
           7,
           1,
           9,
           1,
           10,
           1,
           11,
           1,
           12,
           1,
           13,
           2,
           15,
           2,
           17,
           3,
           19,
           3,
           21,
           1,
           22,
           3,
           25,
           3,
           26
          ],
          "target": [
           6,
           1,
           7,
           1,
           9,
           2,
           10,
           2,
           11,
           2,
           12,
           2,
           13,
           2,
           15,
           3,
           17,
           3,
           19,
           4,
           21,
           4,
           22,
           2,
           25,
           24,
           26,
           24
          ],
          "value": [
           44.21,
           44.21,
           3.12,
           3.12,
           1.27,
           1.27,
           2.94,
           2.94,
           0.08,
           0.08,
           1.22,
           1.22,
           1.46,
           1.46,
           4.54,
           4.54,
           7.17,
           7.17,
           40.22,
           40.22,
           0.98,
           0.98,
           0.65,
           0.65,
           42,
           42,
           2.03,
           2.03
          ]
         },
         "node": {
          "color": [
           "rgba(0.25618, 0.27412, 0.67381, 1)",
           "rgba(0.14391, 0.9268, 0.65448, 1)",
           "rgba(0.38127, 0.98909, 0.42386, 1)",
           "rgba(0.64362, 0.98999, 0.23356, 1)",
           "rgba(0.82333, 0.91253, 0.20663, 1)",
           "rgba(0.18995, 0.07176, 0.23217, 1)",
           "rgba(0.27698, 0.46153, 0.93309, 1)",
           "rgba(0.27698, 0.46153, 0.93309, 1)",
           "rgba(0.38127, 0.98909, 0.42386, 1)",
           "rgba(0.14391, 0.9268, 0.65448, 1)",
           "rgba(0.14391, 0.9268, 0.65448, 1)",
           "rgba(0.14391, 0.9268, 0.65448, 1)",
           "rgba(0.14391, 0.9268, 0.65448, 1)",
           "rgba(0.14391, 0.9268, 0.65448, 1)",
           "rgba(0.22676, 0.63913, 0.98851, 1)",
           "rgba(0.10738, 0.81381, 0.83484, 1)",
           "rgba(0.22676, 0.63913, 0.98851, 1)",
           "rgba(0.10738, 0.81381, 0.83484, 1)",
           "rgba(0.95398, 0.38836, 0.08362, 1)",
           "rgba(0.6965, 0.10102, 0.00522, 1)",
           "rgba(0.95398, 0.38836, 0.08362, 1)",
           "rgba(0.6965, 0.10102, 0.00522, 1)",
           "rgba(0.38127, 0.98909, 0.42386, 1)",
           "rgba(0.38127, 0.98909, 0.42386, 1)",
           "rgba(0.95398, 0.38836, 0.08362, 1)",
           "rgba(0.6965, 0.10102, 0.00522, 1)",
           "rgba(0.6965, 0.10102, 0.00522, 1)"
          ],
          "label": [
           "Raw material<br>47.33%",
           "Production<br>7.46%",
           "Use<br>11.71%",
           "EoL<br>-2.83%",
           "EoL Treatment<br>41.2%",
           "alubox raw materials - CONSQ - sc 1<br>0%",
           "Alu wrought alloy<br>44.21%",
           "Virgin steel<br>3.12%",
           "alubox production - CONSQ - sc 1<br>0%",
           "Alu anodising<br>1.27%",
           "Alu impact extrusion<br>2.94%",
           "Cardboard box<br>-0.08%",
           "Steel manufacturing<br>1.22%",
           "Alu sheet rolling<br>1.46%",
           "autoclave - CONSQ - sc 1<br>0%",
           "Autoclave<br>4.54%",
           "Handwash - CONSQ - sc 1<br>0%",
           "Handwash<br>7.17%",
           "alubox EoL melting - CONSQ - sc 1<br>0%",
           "Alu remelting<br>40.22%",
           "alubox EoL mixed sorting - CONSQ - sc 1<br>0%",
           "Mixed metal scrap<br>0.98%",
           "Transport<br>0.65%",
           "Transport<br>0.65%",
           "avoided alubox raw materials - CONSQ - sc 1<br>0%",
           "Avoided alu wrought alloy<br>-42.0%",
           "Avoided virgin steel<br>-2.03%"
          ],
          "line": {
           "width": [
            1,
            1,
            0.07057226871748473,
            0.07057226871748473,
            0.028726532458719745,
            0.028726532458719745,
            0.06650079167609138,
            0.06650079167609138,
            0.0018095453517303778,
            0.0018095453517303778,
            0.027595566613888258,
            0.027595566613888258,
            0.03302420266907939,
            0.03302420266907939,
            0.10269169871069894,
            0.10269169871069894,
            0.1621805021488351,
            0.1621805021488351,
            0.9097489255824474,
            0.9097489255824474,
            0.022166930558697128,
            0.022166930558697128,
            0.01470255598280932,
            0.01470255598280932,
            0.9500113096584483,
            0.9500113096584483,
            0.04591721330015833,
            0.04591721330015833
           ]
          },
          "pad": 50,
          "thickness": 10
         },
         "type": "sankey"
        }
       ],
       "layout": {
        "template": {
         "data": {
          "bar": [
           {
            "error_x": {
             "color": "#2a3f5f"
            },
            "error_y": {
             "color": "#2a3f5f"
            },
            "marker": {
             "line": {
              "color": "#E5ECF6",
              "width": 0.5
             },
             "pattern": {
              "fillmode": "overlay",
              "size": 10,
              "solidity": 0.2
             }
            },
            "type": "bar"
           }
          ],
          "barpolar": [
           {
            "marker": {
             "line": {
              "color": "#E5ECF6",
              "width": 0.5
             },
             "pattern": {
              "fillmode": "overlay",
              "size": 10,
              "solidity": 0.2
             }
            },
            "type": "barpolar"
           }
          ],
          "carpet": [
           {
            "aaxis": {
             "endlinecolor": "#2a3f5f",
             "gridcolor": "white",
             "linecolor": "white",
             "minorgridcolor": "white",
             "startlinecolor": "#2a3f5f"
            },
            "baxis": {
             "endlinecolor": "#2a3f5f",
             "gridcolor": "white",
             "linecolor": "white",
             "minorgridcolor": "white",
             "startlinecolor": "#2a3f5f"
            },
            "type": "carpet"
           }
          ],
          "choropleth": [
           {
            "colorbar": {
             "outlinewidth": 0,
             "ticks": ""
            },
            "type": "choropleth"
           }
          ],
          "contour": [
           {
            "colorbar": {
             "outlinewidth": 0,
             "ticks": ""
            },
            "colorscale": [
             [
              0,
              "#0d0887"
             ],
             [
              0.1111111111111111,
              "#46039f"
             ],
             [
              0.2222222222222222,
              "#7201a8"
             ],
             [
              0.3333333333333333,
              "#9c179e"
             ],
             [
              0.4444444444444444,
              "#bd3786"
             ],
             [
              0.5555555555555556,
              "#d8576b"
             ],
             [
              0.6666666666666666,
              "#ed7953"
             ],
             [
              0.7777777777777778,
              "#fb9f3a"
             ],
             [
              0.8888888888888888,
              "#fdca26"
             ],
             [
              1,
              "#f0f921"
             ]
            ],
            "type": "contour"
           }
          ],
          "contourcarpet": [
           {
            "colorbar": {
             "outlinewidth": 0,
             "ticks": ""
            },
            "type": "contourcarpet"
           }
          ],
          "heatmap": [
           {
            "colorbar": {
             "outlinewidth": 0,
             "ticks": ""
            },
            "colorscale": [
             [
              0,
              "#0d0887"
             ],
             [
              0.1111111111111111,
              "#46039f"
             ],
             [
              0.2222222222222222,
              "#7201a8"
             ],
             [
              0.3333333333333333,
              "#9c179e"
             ],
             [
              0.4444444444444444,
              "#bd3786"
             ],
             [
              0.5555555555555556,
              "#d8576b"
             ],
             [
              0.6666666666666666,
              "#ed7953"
             ],
             [
              0.7777777777777778,
              "#fb9f3a"
             ],
             [
              0.8888888888888888,
              "#fdca26"
             ],
             [
              1,
              "#f0f921"
             ]
            ],
            "type": "heatmap"
           }
          ],
          "heatmapgl": [
           {
            "colorbar": {
             "outlinewidth": 0,
             "ticks": ""
            },
            "colorscale": [
             [
              0,
              "#0d0887"
             ],
             [
              0.1111111111111111,
              "#46039f"
             ],
             [
              0.2222222222222222,
              "#7201a8"
             ],
             [
              0.3333333333333333,
              "#9c179e"
             ],
             [
              0.4444444444444444,
              "#bd3786"
             ],
             [
              0.5555555555555556,
              "#d8576b"
             ],
             [
              0.6666666666666666,
              "#ed7953"
             ],
             [
              0.7777777777777778,
              "#fb9f3a"
             ],
             [
              0.8888888888888888,
              "#fdca26"
             ],
             [
              1,
              "#f0f921"
             ]
            ],
            "type": "heatmapgl"
           }
          ],
          "histogram": [
           {
            "marker": {
             "pattern": {
              "fillmode": "overlay",
              "size": 10,
              "solidity": 0.2
             }
            },
            "type": "histogram"
           }
          ],
          "histogram2d": [
           {
            "colorbar": {
             "outlinewidth": 0,
             "ticks": ""
            },
            "colorscale": [
             [
              0,
              "#0d0887"
             ],
             [
              0.1111111111111111,
              "#46039f"
             ],
             [
              0.2222222222222222,
              "#7201a8"
             ],
             [
              0.3333333333333333,
              "#9c179e"
             ],
             [
              0.4444444444444444,
              "#bd3786"
             ],
             [
              0.5555555555555556,
              "#d8576b"
             ],
             [
              0.6666666666666666,
              "#ed7953"
             ],
             [
              0.7777777777777778,
              "#fb9f3a"
             ],
             [
              0.8888888888888888,
              "#fdca26"
             ],
             [
              1,
              "#f0f921"
             ]
            ],
            "type": "histogram2d"
           }
          ],
          "histogram2dcontour": [
           {
            "colorbar": {
             "outlinewidth": 0,
             "ticks": ""
            },
            "colorscale": [
             [
              0,
              "#0d0887"
             ],
             [
              0.1111111111111111,
              "#46039f"
             ],
             [
              0.2222222222222222,
              "#7201a8"
             ],
             [
              0.3333333333333333,
              "#9c179e"
             ],
             [
              0.4444444444444444,
              "#bd3786"
             ],
             [
              0.5555555555555556,
              "#d8576b"
             ],
             [
              0.6666666666666666,
              "#ed7953"
             ],
             [
              0.7777777777777778,
              "#fb9f3a"
             ],
             [
              0.8888888888888888,
              "#fdca26"
             ],
             [
              1,
              "#f0f921"
             ]
            ],
            "type": "histogram2dcontour"
           }
          ],
          "mesh3d": [
           {
            "colorbar": {
             "outlinewidth": 0,
             "ticks": ""
            },
            "type": "mesh3d"
           }
          ],
          "parcoords": [
           {
            "line": {
             "colorbar": {
              "outlinewidth": 0,
              "ticks": ""
             }
            },
            "type": "parcoords"
           }
          ],
          "pie": [
           {
            "automargin": true,
            "type": "pie"
           }
          ],
          "scatter": [
           {
            "fillpattern": {
             "fillmode": "overlay",
             "size": 10,
             "solidity": 0.2
            },
            "type": "scatter"
           }
          ],
          "scatter3d": [
           {
            "line": {
             "colorbar": {
              "outlinewidth": 0,
              "ticks": ""
             }
            },
            "marker": {
             "colorbar": {
              "outlinewidth": 0,
              "ticks": ""
             }
            },
            "type": "scatter3d"
           }
          ],
          "scattercarpet": [
           {
            "marker": {
             "colorbar": {
              "outlinewidth": 0,
              "ticks": ""
             }
            },
            "type": "scattercarpet"
           }
          ],
          "scattergeo": [
           {
            "marker": {
             "colorbar": {
              "outlinewidth": 0,
              "ticks": ""
             }
            },
            "type": "scattergeo"
           }
          ],
          "scattergl": [
           {
            "marker": {
             "colorbar": {
              "outlinewidth": 0,
              "ticks": ""
             }
            },
            "type": "scattergl"
           }
          ],
          "scattermapbox": [
           {
            "marker": {
             "colorbar": {
              "outlinewidth": 0,
              "ticks": ""
             }
            },
            "type": "scattermapbox"
           }
          ],
          "scatterpolar": [
           {
            "marker": {
             "colorbar": {
              "outlinewidth": 0,
              "ticks": ""
             }
            },
            "type": "scatterpolar"
           }
          ],
          "scatterpolargl": [
           {
            "marker": {
             "colorbar": {
              "outlinewidth": 0,
              "ticks": ""
             }
            },
            "type": "scatterpolargl"
           }
          ],
          "scatterternary": [
           {
            "marker": {
             "colorbar": {
              "outlinewidth": 0,
              "ticks": ""
             }
            },
            "type": "scatterternary"
           }
          ],
          "surface": [
           {
            "colorbar": {
             "outlinewidth": 0,
             "ticks": ""
            },
            "colorscale": [
             [
              0,
              "#0d0887"
             ],
             [
              0.1111111111111111,
              "#46039f"
             ],
             [
              0.2222222222222222,
              "#7201a8"
             ],
             [
              0.3333333333333333,
              "#9c179e"
             ],
             [
              0.4444444444444444,
              "#bd3786"
             ],
             [
              0.5555555555555556,
              "#d8576b"
             ],
             [
              0.6666666666666666,
              "#ed7953"
             ],
             [
              0.7777777777777778,
              "#fb9f3a"
             ],
             [
              0.8888888888888888,
              "#fdca26"
             ],
             [
              1,
              "#f0f921"
             ]
            ],
            "type": "surface"
           }
          ],
          "table": [
           {
            "cells": {
             "fill": {
              "color": "#EBF0F8"
             },
             "line": {
              "color": "white"
             }
            },
            "header": {
             "fill": {
              "color": "#C8D4E3"
             },
             "line": {
              "color": "white"
             }
            },
            "type": "table"
           }
          ]
         },
         "layout": {
          "annotationdefaults": {
           "arrowcolor": "#2a3f5f",
           "arrowhead": 0,
           "arrowwidth": 1
          },
          "autotypenumbers": "strict",
          "coloraxis": {
           "colorbar": {
            "outlinewidth": 0,
            "ticks": ""
           }
          },
          "colorscale": {
           "diverging": [
            [
             0,
             "#8e0152"
            ],
            [
             0.1,
             "#c51b7d"
            ],
            [
             0.2,
             "#de77ae"
            ],
            [
             0.3,
             "#f1b6da"
            ],
            [
             0.4,
             "#fde0ef"
            ],
            [
             0.5,
             "#f7f7f7"
            ],
            [
             0.6,
             "#e6f5d0"
            ],
            [
             0.7,
             "#b8e186"
            ],
            [
             0.8,
             "#7fbc41"
            ],
            [
             0.9,
             "#4d9221"
            ],
            [
             1,
             "#276419"
            ]
           ],
           "sequential": [
            [
             0,
             "#0d0887"
            ],
            [
             0.1111111111111111,
             "#46039f"
            ],
            [
             0.2222222222222222,
             "#7201a8"
            ],
            [
             0.3333333333333333,
             "#9c179e"
            ],
            [
             0.4444444444444444,
             "#bd3786"
            ],
            [
             0.5555555555555556,
             "#d8576b"
            ],
            [
             0.6666666666666666,
             "#ed7953"
            ],
            [
             0.7777777777777778,
             "#fb9f3a"
            ],
            [
             0.8888888888888888,
             "#fdca26"
            ],
            [
             1,
             "#f0f921"
            ]
           ],
           "sequentialminus": [
            [
             0,
             "#0d0887"
            ],
            [
             0.1111111111111111,
             "#46039f"
            ],
            [
             0.2222222222222222,
             "#7201a8"
            ],
            [
             0.3333333333333333,
             "#9c179e"
            ],
            [
             0.4444444444444444,
             "#bd3786"
            ],
            [
             0.5555555555555556,
             "#d8576b"
            ],
            [
             0.6666666666666666,
             "#ed7953"
            ],
            [
             0.7777777777777778,
             "#fb9f3a"
            ],
            [
             0.8888888888888888,
             "#fdca26"
            ],
            [
             1,
             "#f0f921"
            ]
           ]
          },
          "colorway": [
           "#636efa",
           "#EF553B",
           "#00cc96",
           "#ab63fa",
           "#FFA15A",
           "#19d3f3",
           "#FF6692",
           "#B6E880",
           "#FF97FF",
           "#FECB52"
          ],
          "font": {
           "color": "#2a3f5f"
          },
          "geo": {
           "bgcolor": "white",
           "lakecolor": "white",
           "landcolor": "#E5ECF6",
           "showlakes": true,
           "showland": true,
           "subunitcolor": "white"
          },
          "hoverlabel": {
           "align": "left"
          },
          "hovermode": "closest",
          "mapbox": {
           "style": "light"
          },
          "paper_bgcolor": "white",
          "plot_bgcolor": "#E5ECF6",
          "polar": {
           "angularaxis": {
            "gridcolor": "white",
            "linecolor": "white",
            "ticks": ""
           },
           "bgcolor": "#E5ECF6",
           "radialaxis": {
            "gridcolor": "white",
            "linecolor": "white",
            "ticks": ""
           }
          },
          "scene": {
           "xaxis": {
            "backgroundcolor": "#E5ECF6",
            "gridcolor": "white",
            "gridwidth": 2,
            "linecolor": "white",
            "showbackground": true,
            "ticks": "",
            "zerolinecolor": "white"
           },
           "yaxis": {
            "backgroundcolor": "#E5ECF6",
            "gridcolor": "white",
            "gridwidth": 2,
            "linecolor": "white",
            "showbackground": true,
            "ticks": "",
            "zerolinecolor": "white"
           },
           "zaxis": {
            "backgroundcolor": "#E5ECF6",
            "gridcolor": "white",
            "gridwidth": 2,
            "linecolor": "white",
            "showbackground": true,
            "ticks": "",
            "zerolinecolor": "white"
           }
          },
          "shapedefaults": {
           "line": {
            "color": "#2a3f5f"
           }
          },
          "ternary": {
           "aaxis": {
            "gridcolor": "white",
            "linecolor": "white",
            "ticks": ""
           },
           "baxis": {
            "gridcolor": "white",
            "linecolor": "white",
            "ticks": ""
           },
           "bgcolor": "#E5ECF6",
           "caxis": {
            "gridcolor": "white",
            "linecolor": "white",
            "ticks": ""
           }
          },
          "title": {
           "x": 0.05
          },
          "xaxis": {
           "automargin": true,
           "gridcolor": "white",
           "linecolor": "white",
           "ticks": "",
           "title": {
            "standoff": 15
           },
           "zerolinecolor": "white",
           "zerolinewidth": 2
          },
          "yaxis": {
           "automargin": true,
           "gridcolor": "white",
           "linecolor": "white",
           "ticks": "",
           "title": {
            "standoff": 15
           },
           "zerolinecolor": "white",
           "zerolinewidth": 2
          }
         }
        }
       }
      }
     },
     "metadata": {},
     "output_type": "display_data"
    }
   ],
   "source": [
    "\n",
    "# Create a Sankey diagram\n",
    "fig = go.Figure()\n",
    "\n",
    "# Calculate the scale factor for link thickness and node size\n",
    "max_value = max(abs(link['value']) for link in links_sc1)\n",
    "scale_factor = 1  # You can adjust this factor to control the scaling\n",
    "\n",
    "# Calculate total outflow for each node and round to 2 decimals\n",
    "outflow_totals = {node: round(sum(link['value'] for link in links_sc1 if link['source'] == node), 2) for node in node_sc1}\n",
    "\n",
    "# Calculate total inflow for each node and round to 2 decimals\n",
    "inflow_totals = {node: round(sum(link['value'] for link in links_sc1 if link['target'] == node), 2) for node in node_sc1}\n",
    "\n",
    "# Determine if a node has only incoming flows\n",
    "incoming_only = {node: inflow_totals[node] > 0 and outflow_totals[node] == 0 for node in node_sc1}\n",
    "\n",
    "# Calculate y-coordinates for nodes based on total outflow or inflow\n",
    "node_y_coordinates = [sum(inflow_totals[node] if incoming_only[node] else outflow_totals[node] for node in node_sc1[:i]) for i in range(len(node_sc1))]\n",
    "incoming_only['Avoided raw mat.'] = True\n",
    "incoming_only['EoL Treatment'] = True\n",
    "# incoming_only['Avoided chromium steel'] = True\n",
    "\n",
    "# Add links\n",
    "fig.add_trace(go.Sankey(\n",
    "    node=dict(\n",
    "        pad=50,\n",
    "        thickness=10,\n",
    "        line=dict(width=[abs(link['value']) / max_value * scale_factor for link in links_sc1]),\n",
    "        label=[f\"{node}<br>{inflow_totals[node] if incoming_only[node] else outflow_totals[node]}%\" for node in node_sc1],\n",
    "        color=[node_colors[node] for node in node_sc1],\n",
    "    ),\n",
    "    link=dict(\n",
    "        source=[node_sc1.index(link['source']) for link in links_sc1],\n",
    "        target=[node_sc1.index(link['target']) for link in links_sc1],\n",
    "        value=[abs(link['value']) for link in links_sc1],\n",
    "        color=[node_colors_links[link['source']] for link in links_sc1],  # Use source node color for links\n",
    "        line=dict(width=[abs(link['value']) / max_value * scale_factor for link in links_sc1]),\n",
    "    ),\n",
    "    arrangement=\"perpendicular\",\n",
    "    domain=dict(x=[0, 1], y=[0, 1]),\n",
    "))\n",
    "\n",
    "\n",
    "# Show the figure\n",
    "fig.show()\n",
    "# fig.write_image(\"Sankey_alubox_consq.jpg\")\n"
   ]
  }
 ],
 "metadata": {
  "kernelspec": {
   "display_name": "Python 3",
   "language": "python",
   "name": "python3"
  },
  "language_info": {
   "codemirror_mode": {
    "name": "ipython",
    "version": 3
   },
   "file_extension": ".py",
   "mimetype": "text/x-python",
   "name": "python",
   "nbconvert_exporter": "python",
   "pygments_lexer": "ipython3",
   "version": "3.11.9"
  }
 },
 "nbformat": 4,
 "nbformat_minor": 2
}

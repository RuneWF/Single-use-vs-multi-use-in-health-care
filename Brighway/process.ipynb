{
 "cells": [
  {
   "cell_type": "code",
   "execution_count": null,
   "metadata": {},
   "outputs": [],
   "source": [
    "# Import BW25 packages\n",
    "import bw2data as bd\n",
    "import bw2io as bi"
   ]
  },
  {
   "cell_type": "code",
   "execution_count": 2,
   "metadata": {},
   "outputs": [],
   "source": [
    "new_consq = 'ev391consq'\n",
    "new_apos = 'ev391apos'\n",
    "bs3 = 'biosphere3'"
   ]
  },
  {
   "cell_type": "code",
   "execution_count": null,
   "metadata": {},
   "outputs": [
    {
     "name": "stdout",
     "output_type": "stream",
     "text": [
      "biosphere3 is present\n",
      "Ecoinvent 3.9.1 is already present in the project.\n"
     ]
    }
   ],
   "source": [
    "consq_path = r'C:\\Users\\ruw\\Desktop\\4. semester\\EcoInvent\\ecoinvent 3.9.1_consequential_ecoSpold02\\datasets'\n",
    "\n",
    "database_new = 'SU_vs_MU'\n",
    "\n",
    "# Create a new database for your extracted processes\n",
    "bd.projects.set_current(database_new)\n",
    "\n",
    "if bs3 in bd.databases:\n",
    "    print('biosphere3 is present')\n",
    "else:\n",
    "    bi.bw2setup()\n",
    "    \n",
    "if new_consq in bd.databases:\n",
    "    print('Ecoinvent 3.9.1 is already present in the project.')\n",
    "else:\n",
    "    ei = bi.SingleOutputEcospold2Importer(dirpath=consq_path, db_name='ev391consq') #recommendation for consistent databases naming: database name (ecoinvent), version number, system model\n",
    "    ei.apply_strategies() #fixing some issues when ecoinvent and brightway have to talk together by going through all datasets and manipulating them in a specific way\n",
    "    ei.statistics() #checking if everything worked out with strategies and linking\n",
    "    ei.write_database() #save the database to our hard drive"
   ]
  }
 ],
 "metadata": {
  "kernelspec": {
   "display_name": "Python 3",
   "language": "python",
   "name": "python3"
  },
  "language_info": {
   "codemirror_mode": {
    "name": "ipython",
    "version": 3
   },
   "file_extension": ".py",
   "mimetype": "text/x-python",
   "name": "python",
   "nbconvert_exporter": "python",
   "pygments_lexer": "ipython3",
   "version": "3.11.9"
  }
 },
 "nbformat": 4,
 "nbformat_minor": 2
}

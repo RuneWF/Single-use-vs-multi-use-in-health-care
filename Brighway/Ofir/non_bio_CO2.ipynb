{
 "cells": [
  {
   "cell_type": "code",
   "execution_count": 5,
   "metadata": {},
   "outputs": [],
   "source": [
    "# Import BW25 packages\n",
    "import bw2data as bd\n",
    "import bw2io as bi\n",
    "import brightway2 as bw \n",
    "import bw2calc as bc"
   ]
  },
  {
   "cell_type": "code",
   "execution_count": 6,
   "metadata": {},
   "outputs": [],
   "source": [
    "# Libary to import self-made libaries\n",
    "import sys # https://stackoverflow.com/questions/4383571/importing-files-from-different-folder\n",
    "sys.path.insert(1, r'C:\\Users\\ruw\\Desktop\\RA\\Single-use-vs-multi-use-in-health-care\\Brighway\\Libaries')"
   ]
  },
  {
   "cell_type": "code",
   "execution_count": 7,
   "metadata": {},
   "outputs": [],
   "source": [
    "# Importing self-made libaries\n",
    "import standards as s\n",
    "import Monte_Carlo as MC\n",
    "import life_cycle_assessment as lc\n",
    "import LCA_plots as lp\n",
    "import box_plot as bp\n",
    "import reload_lib as rl\n",
    "\n",
    "\n",
    "lib = [s, MC, lc, lp, bp]\n",
    "rl.reload_lib(lib)\n"
   ]
  },
  {
   "cell_type": "code",
   "execution_count": 59,
   "metadata": {},
   "outputs": [
    {
     "name": "stdout",
     "output_type": "stream",
     "text": [
      "Method already exist\n"
     ]
    }
   ],
   "source": [
    "all_methods = [m for m in bw.methods if 'ReCiPe 2016 v1.03, midpoint (H)' in str(m) and 'no LT' not in str(m)] # Midpoint\n",
    "\n",
    "# Obtaining the endpoint categories and ignoring land transformation\n",
    "endpoint = [m for m in bw.methods if 'ReCiPe 2016 v1.03, endpoint (H)' in str(m) and 'no LT' not in str(m) and 'total' in str(m)]\n",
    "\n",
    "\n",
    "# Combining midpoint and endpoint, where endpoint is added to the list of the midpoint categories\n",
    "for meth in endpoint:\n",
    "    all_methods.append(meth)\n",
    "\n",
    "# Step 2: Dictionary to store new method names\n",
    "new_methods = {}\n",
    "check = {}\n",
    "\n",
    "method_name_new_mid= all_methods[0][0] + ' Runes edition'\n",
    "method_name_new_end = all_methods[-1][0] + ' Runes edition'\n",
    "if 'OG' in method_name_new_end:\n",
    "    method_name_new_end = method_name_new_end.replace(f'OG ', '')\n",
    "\n",
    "\n",
    "# Step 3: Process all methods\n",
    "if method_name_new_mid not in [m[0] for m in list(bd.methods)] or method_name_new_end not in [m[0] for m in list(bd.methods)]:\n",
    "    print('Does not exist')\n",
    "    for metod in all_methods:\n",
    "        recipe_no_bio_CO2 = []  # Temporary storage for filtered CFs\n",
    "        if metod[1] not in check.keys():\n",
    "            check[metod[1]] = None\n",
    "            method = bw.Method(metod)\n",
    "            cf_data = method.load()\n",
    "            # Step 4: Filter CFs\n",
    "            for cf_name, cf_value in cf_data:\n",
    "                flow_object = bw.get_activity(cf_name)\n",
    "                flow_name = flow_object['name'] if flow_object else \"Unknown Flow\"\n",
    "                if 'non-fossil' not in flow_name:\n",
    "                    recipe_no_bio_CO2.append((cf_name, cf_value))\n",
    "                else:\n",
    "                    recipe_no_bio_CO2.append((cf_name, 0))\n",
    "            # Step 5: Define a new method key\n",
    "            new_metod = (metod[0] + ' Runes edition', metod[1], metod[2])\n",
    "            new_method_key = new_metod\n",
    "            new_method = bw.Method(new_method_key)\n",
    "            new_method.register()\n",
    "            new_method.write(recipe_no_bio_CO2)\n",
    "\n",
    "            # Step 6: Store the new method\n",
    "            new_methods[metod] = new_method_key\n",
    "            print(f\"New method created: {new_method_key} with {len(recipe_no_bio_CO2)} CFs\")\n",
    "else:\n",
    "    print('Method already exist')\n",
    "\n",
    "\n",
    "            "
   ]
  }
 ],
 "metadata": {
  "kernelspec": {
   "display_name": "Python 3",
   "language": "python",
   "name": "python3"
  },
  "language_info": {
   "codemirror_mode": {
    "name": "ipython",
    "version": 3
   },
   "file_extension": ".py",
   "mimetype": "text/x-python",
   "name": "python",
   "nbconvert_exporter": "python",
   "pygments_lexer": "ipython3",
   "version": "3.11.9"
  }
 },
 "nbformat": 4,
 "nbformat_minor": 2
}

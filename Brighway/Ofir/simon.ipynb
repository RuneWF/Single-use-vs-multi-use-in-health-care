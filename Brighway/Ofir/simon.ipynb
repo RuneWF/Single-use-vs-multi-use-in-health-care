{
 "cells": [
  {
   "cell_type": "code",
   "execution_count": 7,
   "metadata": {},
   "outputs": [],
   "source": [
    "import pandas as pd\n",
    "from copy import deepcopy as dc\n",
    "import brightway2 as bw"
   ]
  },
  {
   "cell_type": "code",
   "execution_count": 2,
   "metadata": {},
   "outputs": [],
   "source": [
    "def load_data(data_path, NW_path):\n",
    "    sheet_names = pd.read_excel(data_path, sheet_name=None)\n",
    "    sheet_names = [sheet for sheet in sheet_names.keys()]\n",
    "\n",
    "    df = pd.read_excel(data_path, sheet_name=sheet_names[0])\n",
    "    df = df.loc[:, ~df.columns.str.contains(\"^Unnamed\")]\n",
    "    \n",
    "    data_NW = pd.read_excel(NW_path)\n",
    "    norm_lst = data_NW['Normalization'].tolist()\n",
    "    weigh_lst = data_NW['Weighting'].tolist()\n",
    "\n",
    "    return df, norm_lst, weigh_lst"
   ]
  },
  {
   "cell_type": "code",
   "execution_count": 3,
   "metadata": {},
   "outputs": [],
   "source": [
    "# Function to obtain the LCIA category to calculate the LCIA results\n",
    "def lcia_method(method):\n",
    "    # Checking if the LCIA method is ReCiPe, and ignores difference between lower and upper case \n",
    "    if 'recipe' in method.lower():\n",
    "        # Using H (hierachly) due to it has a 100 year span\n",
    "        # Obtaining the midpoint categpries and ignoring land transformation (Land use still included)\n",
    "        all_methods = [m for m in bw.methods if 'ReCiPe 2016 v1.03, midpoint (H)' in str(m) and 'no LT' not in str(m)] # Midpoint\n",
    "\n",
    "        # Obtaining the endpoint categories and ignoring land transformation\n",
    "        endpoint = [m for m in bw.methods if 'ReCiPe 2016 v1.03, endpoint (H)' in str(m) and 'no LT' not in str(m) and 'total' in str(m)]\n",
    "\n",
    "        # Combining midpoint and endpoint, where endpoint is added to the list of the midpoint categories\n",
    "        for meth in endpoint:\n",
    "            all_methods.append(meth)\n",
    "\n",
    "        print('Recipe is selected')\n",
    "\n",
    "    # Checking if EF is choses for the LCIA method\n",
    "    elif 'ef' in method.lower():\n",
    "        all_methods = [m for m in bw.methods if 'EF v3.1 EN15804' in str(m) and \"climate change:\" not in str(m)]\n",
    "        print('EF is selected')\n",
    "\n",
    "    else:\n",
    "        print('Select either EF or ReCiPe as the LCIA methos')\n",
    "        all_methods = []\n",
    "\n",
    "    # Returning the selected LCIA methods\n",
    "    return all_methods"
   ]
  },
  {
   "cell_type": "code",
   "execution_count": null,
   "metadata": {},
   "outputs": [],
   "source": [
    "# Function to obtaining where the LCIA results start\n",
    "def obtaining_lcia_start_index(df):\n",
    "    idx = 0\n",
    "    for i, col in enumerate(df.columns):\n",
    "        if 'acidification' in col:\n",
    "            idx = i\n",
    "            break\n",
    "    return idx"
   ]
  },
  {
   "cell_type": "code",
   "execution_count": null,
   "metadata": {},
   "outputs": [],
   "source": [
    "def obtaining_norm_weight_single_score_results(data_path, NW_path):\n",
    "        \n",
    "    df, norm_lst, weigh_lst = load_data(data_path, NW_path)\n",
    "\n",
    "    weigh_df = dc(df)\n",
    "\n",
    "    idx = obtaining_lcia_start_index(df)\n",
    "    data_cols = df.columns[:idx].to_list()\n",
    "\n",
    "    # Obtaining the impact categories from EF\n",
    "    ic = lcia_method('ef')\n",
    "    ic = [str(i).replace(f' EN15804', '') for i in ic ]\n",
    "\n",
    "    new_cols = data_cols + ic\n",
    "    df_new = pd.DataFrame(0, index=df.index,columns=new_cols, dtype=object)\n",
    "\n",
    "    # Setting the values in the dataframe for which will be normalized, weighted and turned into a single score\n",
    "    for col in df_new.columns:\n",
    "        col_str = str(col)\n",
    "        for idx, row in df_new.iterrows():\n",
    "            row[col] = df.at[idx, col_str]   \n",
    "\n",
    "        \n",
    "    weigh_df = dc(df_new)\n",
    "    norm_df = dc(df_new)\n",
    "\n",
    "    # Creating the normalized data\n",
    "    for col_idx, col in enumerate(ic):\n",
    "        for row_idx, row in norm_df.iterrows():\n",
    "            row[col] =  df_new.at[row_idx, col] * norm_lst[col_idx]\n",
    "\n",
    "    # Creating the weighted data\n",
    "    for col_idx, col in enumerate(ic):\n",
    "        for row_idx, row in weigh_df.iterrows():\n",
    "            row[col] =  norm_df.at[row_idx, col] * weigh_lst[col_idx]\n",
    "\n",
    "    # Adding an extra column called single score \n",
    "    sc_col = data_cols\n",
    "    if sc_col[-1] != 'single score':\n",
    "        sc_col.append('single score')\n",
    "\n",
    "\n",
    "    single_score_df = pd.DataFrame(0, index=df.index, columns=sc_col, dtype=object)\n",
    "\n",
    "    # creating the dataframe to calculate the single score from\n",
    "    for col in df_new.columns:\n",
    "        col_str = str(col)\n",
    "        for idx, row in single_score_df.iterrows():\n",
    "            try:\n",
    "                row[col] = df.at[idx, col_str] \n",
    "            except ValueError:\n",
    "                pass\n",
    "    # Calculating the single score values\n",
    "    for idx_val, row in weigh_df.iterrows():\n",
    "        temp = 0\n",
    "        for i in ic:\n",
    "            temp += row[i]\n",
    "        single_score_df.at[idx_val, 'single score'] = temp\n",
    "\n",
    "    # Saving all the results to the same sheet\n",
    "    writer = pd.ExcelWriter(data_path, engine = 'xlsxwriter')\n",
    "    df.to_excel(writer, sheet_name = 'data')\n",
    "    norm_df.to_excel(writer, sheet_name = 'normalized')\n",
    "    weigh_df.to_excel(writer, sheet_name = 'weighted')\n",
    "    single_score_df.to_excel(writer, sheet_name = 'single score')\n",
    "    writer.close()"
   ]
  },
  {
   "cell_type": "code",
   "execution_count": 6,
   "metadata": {},
   "outputs": [
    {
     "name": "stdout",
     "output_type": "stream",
     "text": [
      "EF is selected\n"
     ]
    }
   ],
   "source": [
    "\n",
    "data_path = r'C:\\Users\\ruw\\Desktop\\RA\\Single-use-vs-multi-use-in-health-care\\Brighway\\all comparison.xlsx'\n",
    "NW_path = r'C:\\Users\\ruw\\Desktop\\RA\\Single-use-vs-multi-use-in-health-care\\Norm + Weigh.xlsx'\n",
    "\n",
    "\n",
    "obtaining_norm_weight_single_score_results(data_path, NW_path)\n"
   ]
  }
 ],
 "metadata": {
  "kernelspec": {
   "display_name": "Python 3",
   "language": "python",
   "name": "python3"
  },
  "language_info": {
   "codemirror_mode": {
    "name": "ipython",
    "version": 3
   },
   "file_extension": ".py",
   "mimetype": "text/x-python",
   "name": "python",
   "nbconvert_exporter": "python",
   "pygments_lexer": "ipython3",
   "version": "3.11.9"
  }
 },
 "nbformat": 4,
 "nbformat_minor": 2
}

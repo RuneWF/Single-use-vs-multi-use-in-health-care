{
 "cells": [
  {
   "cell_type": "code",
   "execution_count": 2,
   "metadata": {},
   "outputs": [],
   "source": [
    "# Import packages we'll need later on in this tutorial\n",
    "import os\n",
    "import matplotlib.pyplot as plt\n",
    "import numpy as np\n",
    "import pandas as pd\n",
    "import matplotlib.ticker as mtick\n",
    "import matplotlib.cm as cm\n",
    "import math\n",
    "\n",
    "# Import BW25 packages. You'll notice the packages are imported individually, unlike a one-and-done import with BW2.\n",
    "import bw2data as bd\n",
    "import bw2io as bi\n",
    "import bw2calc as bc\n",
    "import bw2analyzer as bwa\n",
    "import brightway2 as bw \n",
    "from bw2calc import LeastSquaresLCA \n",
    "\n",
    "import plotly.graph_objects as go\n"
   ]
  },
  {
   "cell_type": "code",
   "execution_count": 16,
   "metadata": {},
   "outputs": [],
   "source": [
    "from standards import *"
   ]
  },
  {
   "cell_type": "code",
   "execution_count": 21,
   "metadata": {},
   "outputs": [],
   "source": [
    "results_folder('Results')"
   ]
  },
  {
   "cell_type": "code",
   "execution_count": 3,
   "metadata": {},
   "outputs": [
    {
     "name": "stdout",
     "output_type": "stream",
     "text": [
      "Biosphere database already present!!! No setup is needed\n"
     ]
    }
   ],
   "source": [
    "# Your name variable should be the name of the project.\n",
    "\n",
    "name = \"RA - Ofir & Stine 1\"\n",
    "bd.projects.set_current(name)\n",
    "# If this is the first time you've set up the project, you need to install the biosphere flows.\n",
    "# You do not need to run this subsequent times.\n",
    "\n",
    "bi.bw2setup() ## THIS YIELDS AN ERROR AT THE MOMENT"
   ]
  },
  {
   "cell_type": "code",
   "execution_count": 4,
   "metadata": {},
   "outputs": [
    {
     "name": "stdout",
     "output_type": "stream",
     "text": [
      "The imported ecoinvent database is of type <class 'bw2data.backends.peewee.database.SQLiteBackend'> and has a length of 38.\n"
     ]
    }
   ],
   "source": [
    "eidb = bd.Database(\"Ananas consq\")\n",
    "print(\"The imported ecoinvent database is of type {} and has a length of {}.\".format(type(eidb), len(eidb)))\n"
   ]
  },
  {
   "cell_type": "code",
   "execution_count": 5,
   "metadata": {},
   "outputs": [
    {
     "name": "stdout",
     "output_type": "stream",
     "text": [
      "'PP sheet sc3 - APOS' (unit, GLO, None)\n",
      "'PP sheet sc3 - CONSQ' (unit, GLO, None)\n",
      "'disinfection - CONSQ' (unit, GLO, None)\n",
      "'pp production - CONSQ' (unit, GLO, None)\n",
      "'alubox EoL mixed sorting - APOS' (unit, GLO, None)\n",
      "'PE incineration no Energy Recovery - APOS' (kilogram, CH, None)\n",
      "'alubox EoL melting - APOS' (unit, GLO, None)\n",
      "'energy avoided electricity from energy recovery - APOS' (kilowatt hour, GLO, None)\n",
      "'alubox EoL melting - CONSQ' (unit, GLO, None)\n",
      "'PP sheet sc2 - APOS' (unit, GLO, None)\n",
      "'treatment of metal scrap, mixed, for recycling, unsorted, sorting' (kilogram, Europe without Switzerland, None)\n",
      "'PP incineration no Energy Recovery - APOS' (kilogram, CH, None)\n",
      "'alubox production - CONSQ' (unit, GLO, None)\n",
      "'pp production - APOS' (unit, GLO, None)\n",
      "'PP incineration no Energy Recovery - CONSQ' (kilogram, CH, None)\n",
      "'mixed heating grid DK 23 - APOS' (megajoule, GLO, None)\n",
      "'marginal heating grid projection updated - CONSQ' (megajoule, GLO, None)\n",
      "'Handwash - CONSQ' (unit, GLO, None)\n",
      "'alubox raw materials - APOS' (unit, GLO, None)\n",
      "'autoclave - APOS' (unit, GLO, None)\n",
      "'Handwash - APOS' (unit, GLO, None)\n",
      "'transport Alu - CONSQ' (unit, GLO, None)\n",
      "'treatment of metal scrap, mixed, for recycling, unsorted, sorting' (kilogram, Europe without Switzerland, None)\n",
      "'PP sheet sc2 - CONSQ' (unit, GLO, None)\n",
      "'heat production hot water tank DK electricity grid - APOS' (megajoule, GLO, None)\n",
      "'autoclave - CONSQ' (unit, GLO, None)\n",
      "'alubox - APOS' (unit, GLO, None)\n",
      "'heat production hot water tank DK electricity grid - CONSQ' (megajoule, GLO, None)\n",
      "'disinfection - APOS' (unit, GLO, None)\n",
      "'transport Alu - APOS' (unit, GLO, None)\n",
      "'energy avoided electricity from energy recovery - CONSQ' (kilowatt hour, GLO, None)\n",
      "'PE incineration no Energy Recovery - CONSQ' (kilogram, CH, None)\n",
      "'alubox production - APOS' (unit, GLO, None)\n",
      "'alubox raw materials - CONSQ' (unit, GLO, None)\n",
      "'transport Plastic - APOS' (unit, GLO, None)\n",
      "'alubox - CONSQ' (unit, GLO, None)\n",
      "'alubox EoL mixed sorting - CONSQ' (unit, GLO, None)\n",
      "'transport Plastic - CONSQ' (unit, GLO, None)\n"
     ]
    }
   ],
   "source": [
    "for process in eidb:\n",
    "    print(process)\n"
   ]
  },
  {
   "cell_type": "code",
   "execution_count": 7,
   "metadata": {},
   "outputs": [
    {
     "name": "stdout",
     "output_type": "stream",
     "text": [
      "The imported ecoinvent database is of type <class 'bw2data.backends.peewee.database.SQLiteBackend'> and has a length of 38.\n"
     ]
    },
    {
     "data": {
      "text/plain": [
       "['alubox - CONSQ' (unit, GLO, None)]"
      ]
     },
     "execution_count": 7,
     "metadata": {},
     "output_type": "execute_result"
    }
   ],
   "source": [
    "eidb = bd.Database(\"Ananas consq\")\n",
    "print(\"The imported ecoinvent database is of type {} and has a length of {}.\".format(type(eidb), len(eidb)))\n",
    "\n",
    "process_key_apos = r'aacb72cde7264f02a54f4f731dd4af7a_copy1'\n",
    "process_key_consq = r'aacb72cde7264f02a54f4f731dd4af7a'\n",
    "\n",
    "process_key = [process_key_apos, process_key_consq]\n",
    "\n",
    "db = 'Ananas consq'\n",
    "\n",
    "# Locate the specific process\n",
    "try:\n",
    "    process = eidb.get(process_key_consq)\n",
    "except KeyError:\n",
    "    print(f\"Process with key '{process_key_consq}' not found in the database '{db}'\")\n",
    "    process = None\n",
    "\n",
    "# Initialize an empty list to store the products\n",
    "products_list = []\n",
    "\n",
    "if process:\n",
    "    # Loop through the exchanges and filter for products\n",
    "    for exc in process.exchanges():\n",
    "        if exc['type'] == 'production':\n",
    "            # Add the product (output) to the list\n",
    "            products_list.append(exc.input)\n",
    "\n",
    "# Display the list of products\n",
    "products_list"
   ]
  },
  {
   "cell_type": "code",
   "execution_count": 8,
   "metadata": {},
   "outputs": [],
   "source": [
    "# LCA_ofir(process_key, db)"
   ]
  },
  {
   "cell_type": "code",
   "execution_count": 9,
   "metadata": {},
   "outputs": [
    {
     "name": "stdout",
     "output_type": "stream",
     "text": [
      "{'Ananas consq': ['161cd5e3cf5f43fb8d8e4f2ed9069d62', '3ea27026fccf441b83eef81c0a004eb2', 'a586f38ad5e14a70bb69ead728e72866', '0a94bbc0f8a14e27a28e4ea361560396', '5b78bdd3614f44e8ba7a85acd7767c32', 'db86b2fc6bf840b890970ca5291339ba', '58d7f98a363e4b54a7a6bc04e0224fc3', 'aacb72cde7264f02a54f4f731dd4af7a', '6145d7262a4a46df8be6434600387866']}\n",
      "{'Ananas consq': ['transport Alu - CONSQ' (unit, GLO, None), 'alubox raw materials - CONSQ' (unit, GLO, None), 'disinfection - CONSQ' (unit, GLO, None), 'autoclave - CONSQ' (unit, GLO, None), 'alubox EoL melting - CONSQ' (unit, GLO, None), 'alubox EoL mixed sorting - CONSQ' (unit, GLO, None), 'alubox production - CONSQ' (unit, GLO, None), 'alubox - CONSQ' (unit, GLO, None), 'Handwash - CONSQ' (unit, GLO, None)]}\n"
     ]
    }
   ],
   "source": [
    "# Initialize an empty list to store the linked processes\n",
    "linked_processes_list = []\n",
    "\n",
    "if process:\n",
    "    # Loop through the exchanges and extract linked process keys\n",
    "    for exc in process.exchanges():\n",
    "        # Add the linked process (input) to the list\n",
    "        linked_processes_list.append(exc.input)\n",
    "\n",
    "    # Remove duplicates by converting to a set and back to a list\n",
    "    linked_processes_list = list(set(linked_processes_list))\n",
    "\n",
    "# Display the list of linked processes\n",
    "proc_keys = {}\n",
    "name_keys = {}\n",
    "\n",
    "for linked_process in linked_processes_list:\n",
    "    # Initialize the list for this database if it doesn't exist\n",
    "    if linked_process[0] not in proc_keys:\n",
    "        proc_keys[linked_process[0]] = []\n",
    "        name_keys[linked_process[0]] = []\n",
    "    # Append the process key to the list\n",
    "    proc_keys[linked_process[0]].append(linked_process[1])\n",
    "    name_keys[linked_process[0]].append(linked_process)\n",
    "# Display the dictionary of process keys\n",
    "print(proc_keys)\n",
    "print(name_keys)\n"
   ]
  },
  {
   "cell_type": "code",
   "execution_count": 10,
   "metadata": {},
   "outputs": [
    {
     "name": "stdout",
     "output_type": "stream",
     "text": [
      "Removed methods:\n",
      "climate change: biogenic\n",
      "climate change: fossil\n",
      "climate change: land use and land use change\n",
      "Total number of methods after filtering: 16\n"
     ]
    }
   ],
   "source": [
    "# List all methods containing 'EF v3.1 EN15804'\n",
    "all_methods = [m for m in bw.methods if 'EF v3.1 EN15804' in str(m)]\n",
    "\n",
    "# Filter out methods that contain \"climate change:\" in method[1]\n",
    "filtered_methods = [method for method in all_methods if \"climate change:\" not in method[1]]\n",
    "\n",
    "# Print the methods that were removed\n",
    "removed_methods = [method[1] for method in all_methods if \"climate change:\" in method[1]]\n",
    "print(\"Removed methods:\")\n",
    "for rm in removed_methods:\n",
    "    print(rm)\n",
    "\n",
    "# Optional: Check the length of the filtered list\n",
    "print(f\"Total number of methods after filtering: {len(filtered_methods)}\")\n",
    "\n"
   ]
  },
  {
   "cell_type": "code",
   "execution_count": 11,
   "metadata": {},
   "outputs": [
    {
     "data": {
      "text/plain": [
       "('EF v3.1 EN15804', 'climate change', 'global warming potential (GWP100)')"
      ]
     },
     "execution_count": 11,
     "metadata": {},
     "output_type": "execute_result"
    }
   ],
   "source": [
    "impact_category = filtered_methods[1]\n",
    "impact_category"
   ]
  },
  {
   "cell_type": "code",
   "execution_count": 12,
   "metadata": {},
   "outputs": [
    {
     "name": "stdout",
     "output_type": "stream",
     "text": [
      "acidification\n",
      "climate change\n",
      "ecotoxicity: freshwater\n",
      "energy resources: non-renewable\n",
      "eutrophication: freshwater\n",
      "eutrophication: marine\n",
      "eutrophication: terrestrial\n",
      "human toxicity: carcinogenic\n",
      "human toxicity: non-carcinogenic\n",
      "ionising radiation: human health\n",
      "land use\n",
      "material resources: metals/minerals\n",
      "ozone depletion\n",
      "particulate matter formation\n",
      "photochemical oxidant formation: human health\n",
      "water use\n"
     ]
    }
   ],
   "source": [
    "plot_x_axis = [0] * len(filtered_methods)\n",
    "for i in range(len(plot_x_axis)):\n",
    "    plot_x_axis[i] = filtered_methods[i][1]\n",
    "    print(filtered_methods[i][1])\n"
   ]
  },
  {
   "cell_type": "code",
   "execution_count": 13,
   "metadata": {},
   "outputs": [
    {
     "data": {
      "text/plain": [
       "['161cd5e3cf5f43fb8d8e4f2ed9069d62',\n",
       " '3ea27026fccf441b83eef81c0a004eb2',\n",
       " 'a586f38ad5e14a70bb69ead728e72866',\n",
       " '0a94bbc0f8a14e27a28e4ea361560396',\n",
       " '5b78bdd3614f44e8ba7a85acd7767c32',\n",
       " 'db86b2fc6bf840b890970ca5291339ba',\n",
       " '58d7f98a363e4b54a7a6bc04e0224fc3',\n",
       " 'aacb72cde7264f02a54f4f731dd4af7a',\n",
       " '6145d7262a4a46df8be6434600387866']"
      ]
     },
     "execution_count": 13,
     "metadata": {},
     "output_type": "execute_result"
    }
   ],
   "source": [
    "proc_keys['Ananas consq']"
   ]
  },
  {
   "cell_type": "code",
   "execution_count": null,
   "metadata": {},
   "outputs": [],
   "source": []
  },
  {
   "cell_type": "code",
   "execution_count": 14,
   "metadata": {},
   "outputs": [],
   "source": [
    "FU = [0] * len(name_keys['Ananas consq'])\n",
    "idx_df = [0] * len(name_keys['Ananas consq'])\n",
    "for i in range(len(name_keys['Ananas consq'])):\n",
    "    idx_df[i] = name_keys['Ananas consq'][i]"
   ]
  },
  {
   "cell_type": "code",
   "execution_count": 15,
   "metadata": {},
   "outputs": [
    {
     "data": {
      "text/plain": [
       "['transport Alu',\n",
       " 'alubox raw materials',\n",
       " 'disinfection',\n",
       " 'autoclave',\n",
       " 'alubox EoL melting',\n",
       " 'alubox EoL mixed sorting',\n",
       " 'alubox production',\n",
       " 'alubox',\n",
       " 'Handwash']"
      ]
     },
     "execution_count": 15,
     "metadata": {},
     "output_type": "execute_result"
    }
   ],
   "source": [
    "idx_lst = [0] * len(name_keys['Ananas consq'])\n",
    "dct_val = {}\n",
    "\n",
    "for product in range(len(idx_lst)):\n",
    "   dct_val =  idx_df[product].as_dict()\n",
    "   idx_lst[product] = dct_val['reference product']\n",
    "\n",
    "idx_lst"
   ]
  },
  {
   "cell_type": "code",
   "execution_count": 16,
   "metadata": {},
   "outputs": [
    {
     "name": "stdout",
     "output_type": "stream",
     "text": [
      "transport Alu\n",
      "alubox\n",
      "Handwash\n"
     ]
    }
   ],
   "source": [
    "fu_val = [0] * len(name_keys['Ananas consq'])\n",
    "\n",
    "# Loop through each item in the idx_lst\n",
    "for i in range(len(idx_lst)):\n",
    "    if 'alubox' == idx_lst[i] or 'Handwash' in idx_lst[i] or 'transport Alu' in idx_lst[i]:\n",
    "        fu_val[i] = 1\n",
    "        print(idx_lst[i])\n",
    "    elif 'autoclave' in idx_lst[i] or 'disinfection' in idx_lst[i]:\n",
    "        fu_val[i] = 1 / 9\n",
    "    elif 'energy' in idx_lst[i]:\n",
    "        fu_val[i] = 0\n",
    "    else:\n",
    "        fu_val[i] = 1/500\n"
   ]
  },
  {
   "cell_type": "code",
   "execution_count": 17,
   "metadata": {},
   "outputs": [],
   "source": [
    "for i in range(len(name_keys['Ananas consq'])):\n",
    "    FU[i] = {name_keys['Ananas consq'][i]:fu_val[i]}"
   ]
  },
  {
   "cell_type": "code",
   "execution_count": 18,
   "metadata": {},
   "outputs": [
    {
     "data": {
      "text/plain": [
       "('EF v3.1 EN15804', 'climate change', 'global warming potential (GWP100)')"
      ]
     },
     "execution_count": 18,
     "metadata": {},
     "output_type": "execute_result"
    }
   ],
   "source": [
    "impact_category"
   ]
  },
  {
   "cell_type": "code",
   "execution_count": 19,
   "metadata": {},
   "outputs": [
    {
     "data": {
      "text/html": [
       "<div>\n",
       "<style scoped>\n",
       "    .dataframe tbody tr th:only-of-type {\n",
       "        vertical-align: middle;\n",
       "    }\n",
       "\n",
       "    .dataframe tbody tr th {\n",
       "        vertical-align: top;\n",
       "    }\n",
       "\n",
       "    .dataframe thead th {\n",
       "        text-align: right;\n",
       "    }\n",
       "</style>\n",
       "<table border=\"1\" class=\"dataframe\">\n",
       "  <thead>\n",
       "    <tr style=\"text-align: right;\">\n",
       "      <th></th>\n",
       "      <th>(EF v3.1 EN15804, climate change, global warming potential (GWP100))</th>\n",
       "    </tr>\n",
       "  </thead>\n",
       "  <tbody>\n",
       "    <tr>\n",
       "      <th>transport Alu</th>\n",
       "      <td>0.301513</td>\n",
       "    </tr>\n",
       "    <tr>\n",
       "      <th>alubox raw materials</th>\n",
       "      <td>0.320559</td>\n",
       "    </tr>\n",
       "    <tr>\n",
       "      <th>disinfection</th>\n",
       "      <td>0.927829</td>\n",
       "    </tr>\n",
       "    <tr>\n",
       "      <th>autoclave</th>\n",
       "      <td>0.748410</td>\n",
       "    </tr>\n",
       "    <tr>\n",
       "      <th>alubox EoL melting</th>\n",
       "      <td>0.399759</td>\n",
       "    </tr>\n",
       "    <tr>\n",
       "      <th>alubox EoL mixed sorting</th>\n",
       "      <td>0.629983</td>\n",
       "    </tr>\n",
       "    <tr>\n",
       "      <th>alubox production</th>\n",
       "      <td>0.951304</td>\n",
       "    </tr>\n",
       "    <tr>\n",
       "      <th>alubox</th>\n",
       "      <td>0.952305</td>\n",
       "    </tr>\n",
       "    <tr>\n",
       "      <th>Handwash</th>\n",
       "      <td>0.525303</td>\n",
       "    </tr>\n",
       "  </tbody>\n",
       "</table>\n",
       "</div>"
      ],
      "text/plain": [
       "                          (EF v3.1 EN15804, climate change, global warming potential (GWP100))\n",
       "transport Alu                                                      0.301513                   \n",
       "alubox raw materials                                               0.320559                   \n",
       "disinfection                                                       0.927829                   \n",
       "autoclave                                                          0.748410                   \n",
       "alubox EoL melting                                                 0.399759                   \n",
       "alubox EoL mixed sorting                                           0.629983                   \n",
       "alubox production                                                  0.951304                   \n",
       "alubox                                                             0.952305                   \n",
       "Handwash                                                           0.525303                   "
      ]
     },
     "execution_count": 19,
     "metadata": {},
     "output_type": "execute_result"
    }
   ],
   "source": [
    "# Define the dimensions\n",
    "n = len(idx_df)  # number of rows\n",
    "m = 1#len(impact_category) # number of columns\n",
    "\n",
    "# Create a DataFrame with random data\n",
    "df = pd.DataFrame(np.random.rand(n, m), index=idx_lst, columns=[impact_category])\n",
    "df.head(10)"
   ]
  },
  {
   "cell_type": "code",
   "execution_count": 375,
   "metadata": {},
   "outputs": [
    {
     "data": {
      "text/plain": [
       "10"
      ]
     },
     "execution_count": 375,
     "metadata": {},
     "output_type": "execute_result"
    }
   ],
   "source": [
    "n"
   ]
  },
  {
   "cell_type": "code",
   "execution_count": 20,
   "metadata": {},
   "outputs": [
    {
     "data": {
      "text/plain": [
       "[{'transport Alu - CONSQ' (unit, GLO, None): 1},\n",
       " {'alubox raw materials - CONSQ' (unit, GLO, None): 0.002},\n",
       " {'disinfection - CONSQ' (unit, GLO, None): 0.1111111111111111},\n",
       " {'autoclave - CONSQ' (unit, GLO, None): 0.1111111111111111},\n",
       " {'alubox EoL melting - CONSQ' (unit, GLO, None): 0.002},\n",
       " {'alubox EoL mixed sorting - CONSQ' (unit, GLO, None): 0.002},\n",
       " {'alubox production - CONSQ' (unit, GLO, None): 0.002},\n",
       " {'alubox - CONSQ' (unit, GLO, None): 1},\n",
       " {'Handwash - CONSQ' (unit, GLO, None): 1}]"
      ]
     },
     "execution_count": 20,
     "metadata": {},
     "output_type": "execute_result"
    }
   ],
   "source": [
    "FU"
   ]
  },
  {
   "cell_type": "code",
   "execution_count": 21,
   "metadata": {},
   "outputs": [
    {
     "data": {
      "text/plain": [
       "{'transport Alu - CONSQ' (unit, GLO, None): 1}"
      ]
     },
     "execution_count": 21,
     "metadata": {},
     "output_type": "execute_result"
    }
   ],
   "source": [
    "FU[0]"
   ]
  },
  {
   "cell_type": "code",
   "execution_count": 376,
   "metadata": {},
   "outputs": [
    {
     "name": "stdout",
     "output_type": "stream",
     "text": [
      "Calculation 1 of 10 {'disinfection - CONSQ' (unit, GLO, None): 0.1111111111111111} ('EF v3.1 EN15804', 'climate change', 'global warming potential (GWP100)') 0.08963416521869136\n",
      "Calculation 2 of 10 {'energy mix - CONSQ' (kilowatt hour, GLO, None): 0} ('EF v3.1 EN15804', 'climate change', 'global warming potential (GWP100)') 0.0\n",
      "Calculation 3 of 10 {'autoclave - CONSQ' (unit, GLO, None): 0.1111111111111111} ('EF v3.1 EN15804', 'climate change', 'global warming potential (GWP100)') 0.13321320192508945\n",
      "Calculation 4 of 10 {'alubox raw materials - CONSQ' (unit, GLO, None): 0.002} ('EF v3.1 EN15804', 'climate change', 'global warming potential (GWP100)') 0.15424392822806834\n",
      "Calculation 5 of 10 {'alubox EoL mixed sorting - CONSQ' (unit, GLO, None): 0.002} ('EF v3.1 EN15804', 'climate change', 'global warming potential (GWP100)') -0.0031809502666462035\n",
      "Calculation 6 of 10 {'alubox - CONSQ' (unit, GLO, None): 1} ('EF v3.1 EN15804', 'climate change', 'global warming potential (GWP100)') 0.5590099454543472\n",
      "Calculation 7 of 10 {'alubox production - CONSQ' (unit, GLO, None): 0.002} ('EF v3.1 EN15804', 'climate change', 'global warming potential (GWP100)') 0.022156774026373678\n",
      "Calculation 8 of 10 {'alubox EoL melting - CONSQ' (unit, GLO, None): 0.002} ('EF v3.1 EN15804', 'climate change', 'global warming potential (GWP100)') -0.13106909346999135\n",
      "Calculation 9 of 10 {'Handwash - CONSQ' (unit, GLO, None): 1} ('EF v3.1 EN15804', 'climate change', 'global warming potential (GWP100)') 0.023379348720742505\n",
      "Calculation 10 of 10 {'transport Alu - CONSQ' (unit, GLO, None): 1} ('EF v3.1 EN15804', 'climate change', 'global warming potential (GWP100)') 0.002132467202204817\n"
     ]
    },
    {
     "data": {
      "text/html": [
       "<div>\n",
       "<style scoped>\n",
       "    .dataframe tbody tr th:only-of-type {\n",
       "        vertical-align: middle;\n",
       "    }\n",
       "\n",
       "    .dataframe tbody tr th {\n",
       "        vertical-align: top;\n",
       "    }\n",
       "\n",
       "    .dataframe thead th {\n",
       "        text-align: right;\n",
       "    }\n",
       "</style>\n",
       "<table border=\"1\" class=\"dataframe\">\n",
       "  <thead>\n",
       "    <tr style=\"text-align: right;\">\n",
       "      <th></th>\n",
       "      <th>(EF v3.1 EN15804, climate change, global warming potential (GWP100))</th>\n",
       "    </tr>\n",
       "  </thead>\n",
       "  <tbody>\n",
       "    <tr>\n",
       "      <th>disinfection</th>\n",
       "      <td>0.089634</td>\n",
       "    </tr>\n",
       "    <tr>\n",
       "      <th>energy mix</th>\n",
       "      <td>0.000000</td>\n",
       "    </tr>\n",
       "    <tr>\n",
       "      <th>autoclave</th>\n",
       "      <td>0.133213</td>\n",
       "    </tr>\n",
       "    <tr>\n",
       "      <th>alubox raw materials</th>\n",
       "      <td>0.154244</td>\n",
       "    </tr>\n",
       "    <tr>\n",
       "      <th>alubox EoL mixed sorting</th>\n",
       "      <td>-0.003181</td>\n",
       "    </tr>\n",
       "    <tr>\n",
       "      <th>alubox</th>\n",
       "      <td>0.559010</td>\n",
       "    </tr>\n",
       "    <tr>\n",
       "      <th>alubox production</th>\n",
       "      <td>0.022157</td>\n",
       "    </tr>\n",
       "    <tr>\n",
       "      <th>alubox EoL melting</th>\n",
       "      <td>-0.131069</td>\n",
       "    </tr>\n",
       "    <tr>\n",
       "      <th>Handwash</th>\n",
       "      <td>0.023379</td>\n",
       "    </tr>\n",
       "    <tr>\n",
       "      <th>transport Alu</th>\n",
       "      <td>0.002132</td>\n",
       "    </tr>\n",
       "  </tbody>\n",
       "</table>\n",
       "</div>"
      ],
      "text/plain": [
       "                          (EF v3.1 EN15804, climate change, global warming potential (GWP100))\n",
       "disinfection                                                       0.089634                   \n",
       "energy mix                                                         0.000000                   \n",
       "autoclave                                                          0.133213                   \n",
       "alubox raw materials                                               0.154244                   \n",
       "alubox EoL mixed sorting                                          -0.003181                   \n",
       "alubox                                                             0.559010                   \n",
       "alubox production                                                  0.022157                   \n",
       "alubox EoL melting                                                -0.131069                   \n",
       "Handwash                                                           0.023379                   \n",
       "transport Alu                                                      0.002132                   "
      ]
     },
     "execution_count": 376,
     "metadata": {},
     "output_type": "execute_result"
    }
   ],
   "source": [
    "calc_count = 1\n",
    "for impact in range(m):\n",
    "    for idx in range(n):\n",
    "        fu = FU[idx]\n",
    "        cat = impact_category\n",
    "        lca = bw.LCA(fu, cat)\n",
    "        lca.lci()\n",
    "        lca.lcia()\n",
    "        df.iat[idx, impact] = lca.score\n",
    "        print(f\"Calculation {calc_count} of {m*n}\", fu, cat, lca.score)\n",
    "        calc_count +=1\n",
    "\n",
    "df.head(10)"
   ]
  },
  {
   "cell_type": "code",
   "execution_count": 377,
   "metadata": {},
   "outputs": [
    {
     "data": {
      "text/html": [
       "<div>\n",
       "<style scoped>\n",
       "    .dataframe tbody tr th:only-of-type {\n",
       "        vertical-align: middle;\n",
       "    }\n",
       "\n",
       "    .dataframe tbody tr th {\n",
       "        vertical-align: top;\n",
       "    }\n",
       "\n",
       "    .dataframe thead th {\n",
       "        text-align: right;\n",
       "    }\n",
       "</style>\n",
       "<table border=\"1\" class=\"dataframe\">\n",
       "  <thead>\n",
       "    <tr style=\"text-align: right;\">\n",
       "      <th></th>\n",
       "      <th>Unnamed: 0</th>\n",
       "      <th>('EF v3.1 EN15804', 'acidification', 'accumulated exceedance (AE)')</th>\n",
       "      <th>('EF v3.1 EN15804', 'climate change', 'global warming potential (GWP100)')</th>\n",
       "      <th>('EF v3.1 EN15804', 'ecotoxicity: freshwater', 'comparative toxic unit for ecosystems (CTUe)')</th>\n",
       "      <th>('EF v3.1 EN15804', 'energy resources: non-renewable', 'abiotic depletion potential (ADP): fossil fuels')</th>\n",
       "      <th>('EF v3.1 EN15804', 'eutrophication: freshwater', 'fraction of nutrients reaching freshwater end compartment (P)')</th>\n",
       "      <th>('EF v3.1 EN15804', 'eutrophication: marine', 'fraction of nutrients reaching marine end compartment (N)')</th>\n",
       "      <th>('EF v3.1 EN15804', 'eutrophication: terrestrial', 'accumulated exceedance (AE)')</th>\n",
       "      <th>('EF v3.1 EN15804', 'human toxicity: carcinogenic', 'comparative toxic unit for human (CTUh)')</th>\n",
       "      <th>('EF v3.1 EN15804', 'human toxicity: non-carcinogenic', 'comparative toxic unit for human (CTUh)')</th>\n",
       "      <th>('EF v3.1 EN15804', 'ionising radiation: human health', 'human exposure efficiency relative to u235')</th>\n",
       "      <th>('EF v3.1 EN15804', 'land use', 'soil quality index')</th>\n",
       "      <th>('EF v3.1 EN15804', 'material resources: metals/minerals', 'abiotic depletion potential (ADP): elements (ultimate reserves)')</th>\n",
       "      <th>('EF v3.1 EN15804', 'ozone depletion', 'ozone depletion potential (ODP)')</th>\n",
       "      <th>('EF v3.1 EN15804', 'particulate matter formation', 'impact on human health')</th>\n",
       "      <th>('EF v3.1 EN15804', 'photochemical oxidant formation: human health', 'tropospheric ozone concentration increase')</th>\n",
       "      <th>('EF v3.1 EN15804', 'water use', 'user deprivation potential (deprivation-weighted water consumption)')</th>\n",
       "    </tr>\n",
       "  </thead>\n",
       "  <tbody>\n",
       "    <tr>\n",
       "      <th>0</th>\n",
       "      <td>NaN</td>\n",
       "      <td>NaN</td>\n",
       "      <td>NaN</td>\n",
       "      <td>NaN</td>\n",
       "      <td>NaN</td>\n",
       "      <td>NaN</td>\n",
       "      <td>NaN</td>\n",
       "      <td>NaN</td>\n",
       "      <td>NaN</td>\n",
       "      <td>NaN</td>\n",
       "      <td>NaN</td>\n",
       "      <td>NaN</td>\n",
       "      <td>NaN</td>\n",
       "      <td>NaN</td>\n",
       "      <td>NaN</td>\n",
       "      <td>NaN</td>\n",
       "      <td>NaN</td>\n",
       "    </tr>\n",
       "    <tr>\n",
       "      <th>1</th>\n",
       "      <td>alubox - CONSQ</td>\n",
       "      <td>0.004923</td>\n",
       "      <td>0.559010</td>\n",
       "      <td>5.051109</td>\n",
       "      <td>6.938314</td>\n",
       "      <td>0.000376</td>\n",
       "      <td>0.001650</td>\n",
       "      <td>0.016071</td>\n",
       "      <td>1.592912e-09</td>\n",
       "      <td>2.202626e-08</td>\n",
       "      <td>0.000669</td>\n",
       "      <td>86.020749</td>\n",
       "      <td>0.000012</td>\n",
       "      <td>1.136082e-08</td>\n",
       "      <td>6.275015e-08</td>\n",
       "      <td>0.003814</td>\n",
       "      <td>0.246376</td>\n",
       "    </tr>\n",
       "    <tr>\n",
       "      <th>2</th>\n",
       "      <td>PP sheet sc2 - CONSQ</td>\n",
       "      <td>0.003172</td>\n",
       "      <td>0.719398</td>\n",
       "      <td>2.572323</td>\n",
       "      <td>15.837593</td>\n",
       "      <td>0.000102</td>\n",
       "      <td>0.001006</td>\n",
       "      <td>0.011142</td>\n",
       "      <td>5.148379e-10</td>\n",
       "      <td>1.006923e-08</td>\n",
       "      <td>-0.001999</td>\n",
       "      <td>37.454918</td>\n",
       "      <td>0.000009</td>\n",
       "      <td>-2.139090e-09</td>\n",
       "      <td>3.247871e-08</td>\n",
       "      <td>0.003280</td>\n",
       "      <td>0.191978</td>\n",
       "    </tr>\n",
       "    <tr>\n",
       "      <th>3</th>\n",
       "      <td>PP sheet sc3 - CONSQ</td>\n",
       "      <td>0.003039</td>\n",
       "      <td>0.561010</td>\n",
       "      <td>2.549206</td>\n",
       "      <td>13.032374</td>\n",
       "      <td>0.000103</td>\n",
       "      <td>0.000996</td>\n",
       "      <td>0.011136</td>\n",
       "      <td>5.438502e-10</td>\n",
       "      <td>1.039122e-08</td>\n",
       "      <td>0.001382</td>\n",
       "      <td>41.362147</td>\n",
       "      <td>0.000009</td>\n",
       "      <td>3.524538e-09</td>\n",
       "      <td>3.376495e-08</td>\n",
       "      <td>0.003165</td>\n",
       "      <td>0.163861</td>\n",
       "    </tr>\n",
       "    <tr>\n",
       "      <th>4</th>\n",
       "      <td>alubox - APOS</td>\n",
       "      <td>0.004708</td>\n",
       "      <td>1.502969</td>\n",
       "      <td>6.081212</td>\n",
       "      <td>18.470169</td>\n",
       "      <td>0.001009</td>\n",
       "      <td>0.001687</td>\n",
       "      <td>0.012305</td>\n",
       "      <td>1.089312e-09</td>\n",
       "      <td>1.860470e-08</td>\n",
       "      <td>0.346278</td>\n",
       "      <td>22.609597</td>\n",
       "      <td>0.000006</td>\n",
       "      <td>2.624891e-08</td>\n",
       "      <td>4.068301e-08</td>\n",
       "      <td>0.003157</td>\n",
       "      <td>0.831915</td>\n",
       "    </tr>\n",
       "    <tr>\n",
       "      <th>5</th>\n",
       "      <td>PP sheet sc2 - APOS</td>\n",
       "      <td>0.003803</td>\n",
       "      <td>1.116170</td>\n",
       "      <td>3.551434</td>\n",
       "      <td>20.284357</td>\n",
       "      <td>0.000411</td>\n",
       "      <td>0.001100</td>\n",
       "      <td>0.010083</td>\n",
       "      <td>3.894016e-10</td>\n",
       "      <td>8.614737e-09</td>\n",
       "      <td>0.142188</td>\n",
       "      <td>4.613616</td>\n",
       "      <td>0.000003</td>\n",
       "      <td>-6.242828e-09</td>\n",
       "      <td>2.576587e-08</td>\n",
       "      <td>0.003104</td>\n",
       "      <td>0.473208</td>\n",
       "    </tr>\n",
       "    <tr>\n",
       "      <th>6</th>\n",
       "      <td>PP sheet sc3 - APOS</td>\n",
       "      <td>0.003998</td>\n",
       "      <td>1.156194</td>\n",
       "      <td>3.641348</td>\n",
       "      <td>20.133453</td>\n",
       "      <td>0.000452</td>\n",
       "      <td>0.001194</td>\n",
       "      <td>0.011097</td>\n",
       "      <td>5.032751e-10</td>\n",
       "      <td>1.042484e-08</td>\n",
       "      <td>0.170048</td>\n",
       "      <td>10.410503</td>\n",
       "      <td>0.000004</td>\n",
       "      <td>1.237105e-08</td>\n",
       "      <td>3.477493e-08</td>\n",
       "      <td>0.003402</td>\n",
       "      <td>0.484683</td>\n",
       "    </tr>\n",
       "  </tbody>\n",
       "</table>\n",
       "</div>"
      ],
      "text/plain": [
       "             Unnamed: 0  \\\n",
       "0                   NaN   \n",
       "1        alubox - CONSQ   \n",
       "2  PP sheet sc2 - CONSQ   \n",
       "3  PP sheet sc3 - CONSQ   \n",
       "4         alubox - APOS   \n",
       "5   PP sheet sc2 - APOS   \n",
       "6   PP sheet sc3 - APOS   \n",
       "\n",
       "   ('EF v3.1 EN15804', 'acidification', 'accumulated exceedance (AE)')  \\\n",
       "0                                                NaN                     \n",
       "1                                           0.004923                     \n",
       "2                                           0.003172                     \n",
       "3                                           0.003039                     \n",
       "4                                           0.004708                     \n",
       "5                                           0.003803                     \n",
       "6                                           0.003998                     \n",
       "\n",
       "   ('EF v3.1 EN15804', 'climate change', 'global warming potential (GWP100)')  \\\n",
       "0                                                NaN                            \n",
       "1                                           0.559010                            \n",
       "2                                           0.719398                            \n",
       "3                                           0.561010                            \n",
       "4                                           1.502969                            \n",
       "5                                           1.116170                            \n",
       "6                                           1.156194                            \n",
       "\n",
       "   ('EF v3.1 EN15804', 'ecotoxicity: freshwater', 'comparative toxic unit for ecosystems (CTUe)')  \\\n",
       "0                                                NaN                                                \n",
       "1                                           5.051109                                                \n",
       "2                                           2.572323                                                \n",
       "3                                           2.549206                                                \n",
       "4                                           6.081212                                                \n",
       "5                                           3.551434                                                \n",
       "6                                           3.641348                                                \n",
       "\n",
       "   ('EF v3.1 EN15804', 'energy resources: non-renewable', 'abiotic depletion potential (ADP): fossil fuels')  \\\n",
       "0                                                NaN                                                           \n",
       "1                                           6.938314                                                           \n",
       "2                                          15.837593                                                           \n",
       "3                                          13.032374                                                           \n",
       "4                                          18.470169                                                           \n",
       "5                                          20.284357                                                           \n",
       "6                                          20.133453                                                           \n",
       "\n",
       "   ('EF v3.1 EN15804', 'eutrophication: freshwater', 'fraction of nutrients reaching freshwater end compartment (P)')  \\\n",
       "0                                                NaN                                                                    \n",
       "1                                           0.000376                                                                    \n",
       "2                                           0.000102                                                                    \n",
       "3                                           0.000103                                                                    \n",
       "4                                           0.001009                                                                    \n",
       "5                                           0.000411                                                                    \n",
       "6                                           0.000452                                                                    \n",
       "\n",
       "   ('EF v3.1 EN15804', 'eutrophication: marine', 'fraction of nutrients reaching marine end compartment (N)')  \\\n",
       "0                                                NaN                                                            \n",
       "1                                           0.001650                                                            \n",
       "2                                           0.001006                                                            \n",
       "3                                           0.000996                                                            \n",
       "4                                           0.001687                                                            \n",
       "5                                           0.001100                                                            \n",
       "6                                           0.001194                                                            \n",
       "\n",
       "   ('EF v3.1 EN15804', 'eutrophication: terrestrial', 'accumulated exceedance (AE)')  \\\n",
       "0                                                NaN                                   \n",
       "1                                           0.016071                                   \n",
       "2                                           0.011142                                   \n",
       "3                                           0.011136                                   \n",
       "4                                           0.012305                                   \n",
       "5                                           0.010083                                   \n",
       "6                                           0.011097                                   \n",
       "\n",
       "   ('EF v3.1 EN15804', 'human toxicity: carcinogenic', 'comparative toxic unit for human (CTUh)')  \\\n",
       "0                                                NaN                                                \n",
       "1                                       1.592912e-09                                                \n",
       "2                                       5.148379e-10                                                \n",
       "3                                       5.438502e-10                                                \n",
       "4                                       1.089312e-09                                                \n",
       "5                                       3.894016e-10                                                \n",
       "6                                       5.032751e-10                                                \n",
       "\n",
       "   ('EF v3.1 EN15804', 'human toxicity: non-carcinogenic', 'comparative toxic unit for human (CTUh)')  \\\n",
       "0                                                NaN                                                    \n",
       "1                                       2.202626e-08                                                    \n",
       "2                                       1.006923e-08                                                    \n",
       "3                                       1.039122e-08                                                    \n",
       "4                                       1.860470e-08                                                    \n",
       "5                                       8.614737e-09                                                    \n",
       "6                                       1.042484e-08                                                    \n",
       "\n",
       "   ('EF v3.1 EN15804', 'ionising radiation: human health', 'human exposure efficiency relative to u235')  \\\n",
       "0                                                NaN                                                       \n",
       "1                                           0.000669                                                       \n",
       "2                                          -0.001999                                                       \n",
       "3                                           0.001382                                                       \n",
       "4                                           0.346278                                                       \n",
       "5                                           0.142188                                                       \n",
       "6                                           0.170048                                                       \n",
       "\n",
       "   ('EF v3.1 EN15804', 'land use', 'soil quality index')  \\\n",
       "0                                                NaN       \n",
       "1                                          86.020749       \n",
       "2                                          37.454918       \n",
       "3                                          41.362147       \n",
       "4                                          22.609597       \n",
       "5                                           4.613616       \n",
       "6                                          10.410503       \n",
       "\n",
       "   ('EF v3.1 EN15804', 'material resources: metals/minerals', 'abiotic depletion potential (ADP): elements (ultimate reserves)')  \\\n",
       "0                                                NaN                                                                               \n",
       "1                                           0.000012                                                                               \n",
       "2                                           0.000009                                                                               \n",
       "3                                           0.000009                                                                               \n",
       "4                                           0.000006                                                                               \n",
       "5                                           0.000003                                                                               \n",
       "6                                           0.000004                                                                               \n",
       "\n",
       "   ('EF v3.1 EN15804', 'ozone depletion', 'ozone depletion potential (ODP)')  \\\n",
       "0                                                NaN                           \n",
       "1                                       1.136082e-08                           \n",
       "2                                      -2.139090e-09                           \n",
       "3                                       3.524538e-09                           \n",
       "4                                       2.624891e-08                           \n",
       "5                                      -6.242828e-09                           \n",
       "6                                       1.237105e-08                           \n",
       "\n",
       "   ('EF v3.1 EN15804', 'particulate matter formation', 'impact on human health')  \\\n",
       "0                                                NaN                               \n",
       "1                                       6.275015e-08                               \n",
       "2                                       3.247871e-08                               \n",
       "3                                       3.376495e-08                               \n",
       "4                                       4.068301e-08                               \n",
       "5                                       2.576587e-08                               \n",
       "6                                       3.477493e-08                               \n",
       "\n",
       "   ('EF v3.1 EN15804', 'photochemical oxidant formation: human health', 'tropospheric ozone concentration increase')  \\\n",
       "0                                                NaN                                                                   \n",
       "1                                           0.003814                                                                   \n",
       "2                                           0.003280                                                                   \n",
       "3                                           0.003165                                                                   \n",
       "4                                           0.003157                                                                   \n",
       "5                                           0.003104                                                                   \n",
       "6                                           0.003402                                                                   \n",
       "\n",
       "   ('EF v3.1 EN15804', 'water use', 'user deprivation potential (deprivation-weighted water consumption)')  \n",
       "0                                                NaN                                                        \n",
       "1                                           0.246376                                                        \n",
       "2                                           0.191978                                                        \n",
       "3                                           0.163861                                                        \n",
       "4                                           0.831915                                                        \n",
       "5                                           0.473208                                                        \n",
       "6                                           0.484683                                                        "
      ]
     },
     "execution_count": 377,
     "metadata": {},
     "output_type": "execute_result"
    }
   ],
   "source": [
    "path = r'C:\\Users\\ruw\\Desktop\\RA\\Results\\Ananas.xlsx'\n",
    "data = pd.read_excel(path)\n",
    "data\n",
    "vals = [\n",
    "    data['(\\'EF v3.1 EN15804\\', \\'climate change\\', \\'global warming potential (GWP100)\\')'][2],\n",
    "    data['(\\'EF v3.1 EN15804\\', \\'climate change\\', \\'global warming potential (GWP100)\\')'][3],\n",
    "    ]\n",
    "data"
   ]
  },
  {
   "cell_type": "code",
   "execution_count": 378,
   "metadata": {},
   "outputs": [
    {
     "name": "stdout",
     "output_type": "stream",
     "text": [
      "disinfection rest\n",
      "energy mix rest\n",
      "autoclave rest\n",
      "alubox raw materials prod\n",
      "alubox EoL mixed sorting prod\n",
      "alubox alu\n",
      "alubox production prod\n",
      "alubox EoL melting prod\n",
      "Handwash rest\n",
      "transport Alu rest\n",
      "279.5049727271736 0.24835918306672813 0.042150658517804473\n"
     ]
    },
    {
     "name": "stderr",
     "output_type": "stream",
     "text": [
      "C:\\Users\\ruw\\AppData\\Local\\Temp\\2\\ipykernel_57088\\2390587181.py:14: FutureWarning:\n",
      "\n",
      "Series.__getitem__ treating keys as positions is deprecated. In a future version, integer keys will always be treated as labels (consistent with DataFrame behavior). To access a value by position, use `ser.iloc[pos]`\n",
      "\n",
      "C:\\Users\\ruw\\AppData\\Local\\Temp\\2\\ipykernel_57088\\2390587181.py:11: FutureWarning:\n",
      "\n",
      "Series.__getitem__ treating keys as positions is deprecated. In a future version, integer keys will always be treated as labels (consistent with DataFrame behavior). To access a value by position, use `ser.iloc[pos]`\n",
      "\n",
      "C:\\Users\\ruw\\AppData\\Local\\Temp\\2\\ipykernel_57088\\2390587181.py:8: FutureWarning:\n",
      "\n",
      "Series.__getitem__ treating keys as positions is deprecated. In a future version, integer keys will always be treated as labels (consistent with DataFrame behavior). To access a value by position, use `ser.iloc[pos]`\n",
      "\n"
     ]
    }
   ],
   "source": [
    "alubox = 0\n",
    "unavoidable_emissions = 0\n",
    "total_emissions = 0\n",
    "\n",
    "for i in range(len(df[impact_category])):\n",
    "    idx = df[impact_category].index[i]\n",
    "    if 'alubox' == df[impact_category].index[i]:\n",
    "        alubox = df[impact_category][i]*500\n",
    "        print(idx, 'alu')\n",
    "    elif 'alubox' in df[impact_category].index[i]:\n",
    "        total_emissions += df[impact_category][i]\n",
    "        print(idx, 'prod')\n",
    "    else:\n",
    "        unavoidable_emissions += df[impact_category][i]\n",
    "        print(idx, 'rest')\n",
    "\n",
    "print(alubox, unavoidable_emissions, total_emissions)"
   ]
  },
  {
   "cell_type": "code",
   "execution_count": 379,
   "metadata": {},
   "outputs": [],
   "source": [
    "use = [0] * 500\n",
    "day = 1\n",
    "BE_value = [0] * 500\n",
    "\n",
    "pp2 = [0] * 500\n",
    "pp3 = [0] * 500\n",
    "\n",
    "for days in range(len(BE_value)):\n",
    "    BE_value[days] = alubox/day + unavoidable_emissions\n",
    "    use[days] = day\n",
    "    pp2[days] = vals[0]\n",
    "    pp3[days] = vals[1]\n",
    "    day += 1\n",
    "\n"
   ]
  },
  {
   "cell_type": "code",
   "execution_count": 380,
   "metadata": {},
   "outputs": [],
   "source": [
    "# cmap = plt.get_cmap('tab20b')\n",
    "# colors = [cmap(i) for i in np.linspace(0, 1, 20)]\n",
    "\n",
    "colors = [\"#789D4A\",\n",
    "          \"#E07E3C\",\n",
    "          \"#7A6040\",\n",
    "          \"#E1BBB4\",\n",
    "          \"#D05A57\",\n",
    "          \"#F2C75C\",\n",
    "          \"#DDCBA4\",\n",
    "          \"#AEB862\",\n",
    "          \"#000000\"]"
   ]
  },
  {
   "cell_type": "code",
   "execution_count": 381,
   "metadata": {},
   "outputs": [],
   "source": [
    "BE_pp2 = 0\n",
    "BE_pp3 = 0\n",
    "for i in range(len(use)):\n",
    "    if BE_value[i] < pp2[i] and BE_value[i-1] > pp2[i]:\n",
    "        print(f'Break even after {i+1} days compared to pp2')\n",
    "        BE_pp2 = i\n",
    "    if BE_value[i] < pp3[i] and BE_value[i-1] > pp3[i]:\n",
    "        print(f'Break even after {i+1} days compared to pp3')\n",
    "        BE_pp3 = i"
   ]
  },
  {
   "cell_type": "code",
   "execution_count": 382,
   "metadata": {},
   "outputs": [
    {
     "data": {
      "text/plain": [
       "279.7533319102403"
      ]
     },
     "execution_count": 382,
     "metadata": {},
     "output_type": "execute_result"
    }
   ],
   "source": [
    "BE_value[BE_pp3]"
   ]
  },
  {
   "cell_type": "code",
   "execution_count": 383,
   "metadata": {},
   "outputs": [
    {
     "name": "stdout",
     "output_type": "stream",
     "text": [
      "[ 50 100 150 200 250 300 350 400 450 500]\n"
     ]
    }
   ],
   "source": [
    "print(np.arange(50, 501, step=50))"
   ]
  },
  {
   "cell_type": "code",
   "execution_count": 384,
   "metadata": {},
   "outputs": [],
   "source": [
    "range_list = [1] * len(np.arange(0, 501, step=50))\n",
    "step = 50\n",
    "for i in range(len(np.arange(0, 501, step=50))):\n",
    "    if i > 0:\n",
    "        range_list[i] = step\n",
    "        step += 50"
   ]
  },
  {
   "cell_type": "code",
   "execution_count": 385,
   "metadata": {},
   "outputs": [
    {
     "name": "stderr",
     "output_type": "stream",
     "text": [
      "C:\\Users\\ruw\\AppData\\Local\\Temp\\2\\ipykernel_57088\\3761441975.py:64: UserWarning:\n",
      "\n",
      "This figure includes Axes that are not compatible with tight_layout, so results might be incorrect.\n",
      "\n"
     ]
    },
    {
     "data": {
      "image/png": "[encoded data removed]",
      "text/plain": [
       "<Figure size 800x500 with 2 Axes>"
      ]
     },
     "metadata": {},
     "output_type": "display_data"
    }
   ],
   "source": [
    "\n",
    "\n",
    "fig, ax = plt.subplots(figsize=(8, 5))\n",
    "\n",
    "plot_handles = []  # List to store plot handles\n",
    "plot_labels = []  # List to store labels\n",
    "\n",
    "# Plotting the dashed line\n",
    "ax.plot(use, BE_value, color=colors[0],  label='Sc1 - Alubox', linewidth=2)\n",
    "\n",
    "ax.plot(use, pp2, color=colors[1],linestyle='dotted', label='Sc2 - PP', linewidth=2)\n",
    "ax.plot(use, pp3, color=colors[2],linestyle='dotted', label='Sc3 - PP', linewidth=2)\n",
    "ax.plot(BE_pp2, BE_value[BE_pp2], '*',linewidth=1, color=colors[4],label = 'Sc2 BE')\n",
    "ax.plot(BE_pp3, BE_value[BE_pp3],'*',linewidth=1, color=colors[5], label = 'Sc3 BE')\n",
    "# # Plotting the columns\n",
    "# for i in range(1, len(use)):\n",
    "#     line, = ax.plot(data[use], data[df_col[i]], color=colors[i],linestyle='dotted', label=df_col[i], linewidth=2)\n",
    "#     plot_handles.append(line)\n",
    "#     plot_labels.append(df_col[i])\n",
    "\n",
    "#     print(df_col[i])\n",
    "\n",
    "\n",
    "\n",
    "# Axis labels and title\n",
    "ax.set_ylabel('Emissions [kg CO$_2$e]', weight='bold')\n",
    "ax.set_xlabel('Uses', weight='bold')\n",
    "\n",
    "\n",
    "\n",
    "# Set x-axis and y-axis ticks\n",
    "ax.set_xticks(range_list)\n",
    "\n",
    "ax.set_yticks(np.arange(0, 151, step=10))\n",
    "\n",
    "# # Axis limits\n",
    "ax.set_xlim(0, 501)\n",
    "ax.set_ylim(-.5, 150)\n",
    "ax.set_title('Break even for alubox compared to PP sheets', weight='bold')\n",
    "\n",
    "# # Legend\n",
    "# ax.legend(plot_handles, df_col, bbox_to_anchor=(0.1, -0.21, .8, 0.2), loc=\"lower left\",\n",
    "#           mode=\"expand\", borderaxespad=0, ncol=3)\n",
    "plt.legend(bbox_to_anchor=(0.3, -0.21, .9, 0.2), loc=\"lower left\", mode=\"expand\", borderaxespad=0, ncol=5)\n",
    "\n",
    "# Inset axis for zoomed-in view\n",
    "ax_inset = fig.add_axes([1.08, 0.21, 0.4, 0.7])  # Adjust position and size as needed\n",
    "\n",
    "ax_inset.plot(use, BE_value, color=colors[0],  label='Alubox', linewidth=2)\n",
    "# Axis labels and title\n",
    "ax_inset.set_ylabel('Emissions [kg CO$_2$e]', weight='bold')\n",
    "ax_inset.set_xlabel('Uses', weight='bold')\n",
    "ax_inset.plot(use, pp2, color=colors[1],linestyle='dotted', label='PP2', linewidth=2)\n",
    "ax_inset.plot(use, pp3, color=colors[2],linestyle='dotted', label='PP3', linewidth=2)\n",
    "ax_inset.plot(BE_pp2, BE_value[BE_pp2], '*',linewidth=1, color=colors[4],label = 'PP2 BE')\n",
    "ax_inset.plot(BE_pp3, BE_value[BE_pp3],'*',linewidth=1, color=colors[5], label = 'PP3 BE')\n",
    "\n",
    "\n",
    "ax_inset.set_xlim(150, 500)\n",
    "ax_inset.set_ylim(0, 1.5)\n",
    "ax_inset.set_xticks(np.arange(150, 501, step=50))\n",
    "ax_inset.set_yticks(np.arange(0, 1.51, step=0.1))\n",
    "ax_inset.set_title('Zoomed in view', weight='bold')\n",
    "\n",
    "# Save the plot\n",
    "plt.tight_layout()\n",
    "#plt.savefig(os.path.join(save_dir, 'break_even_total_RS.jpg'), bbox_inches='tight')\n",
    "plt.show()\n"
   ]
  },
  {
   "cell_type": "code",
   "execution_count": 386,
   "metadata": {},
   "outputs": [
    {
     "name": "stdout",
     "output_type": "stream",
     "text": [
      "Index([('EF v3.1 EN15804', 'climate change', 'global warming potential (GWP100)')], dtype='object')\n",
      "Index(['disinfection', 'energy mix', 'autoclave', 'alubox raw materials',\n",
      "       'alubox EoL mixed sorting', 'alubox', 'alubox production',\n",
      "       'alubox EoL melting', 'Handwash', 'transport Alu'],\n",
      "      dtype='object')\n"
     ]
    }
   ],
   "source": [
    "df_cols = df.columns\n",
    "df_idx = df.index\n",
    "print(df_cols)\n",
    "print(df_idx)\n",
    "\n"
   ]
  },
  {
   "cell_type": "code",
   "execution_count": 387,
   "metadata": {},
   "outputs": [
    {
     "data": {
      "text/plain": [
       "{'disinfection': '#E07E3C',\n",
       " 'energy mix': '#E07E3C',\n",
       " 'autoclave': '#E07E3C',\n",
       " 'alubox raw materials': '#E07E3C',\n",
       " 'alubox EoL mixed sorting': '#E07E3C',\n",
       " 'alubox': '#789D4A',\n",
       " 'alubox production': '#E07E3C',\n",
       " 'alubox EoL melting': '#E07E3C',\n",
       " 'Handwash': '#E07E3C',\n",
       " 'transport Alu': '#E07E3C'}"
      ]
     },
     "execution_count": 387,
     "metadata": {},
     "output_type": "execute_result"
    }
   ],
   "source": [
    "color_dict = {}\n",
    "for idx in df_idx:\n",
    "    if idx == 'alubox':\n",
    "        color_dict[idx] = colors[0]\n",
    "    elif idx in df_idx:\n",
    "        color_dict[idx] = colors[1]\n",
    "    else:\n",
    "        color_dict[idx] = colors[2]\n",
    "\n",
    "color_dict"
   ]
  },
  {
   "cell_type": "code",
   "execution_count": 388,
   "metadata": {},
   "outputs": [],
   "source": [
    "a = df[df_cols].values[0][0]\n"
   ]
  },
  {
   "cell_type": "code",
   "execution_count": 389,
   "metadata": {},
   "outputs": [
    {
     "name": "stdout",
     "output_type": "stream",
     "text": [
      "9\n"
     ]
    }
   ],
   "source": [
    "links_base = [''] * (len(df_idx))\n",
    "idx_del = 0\n",
    "for i in range(len(df_idx)):\n",
    "    if df[df_cols].values[i][0] < 0:\n",
    "        links_base[i] = {\"source\": 'alubox', \"target\": df_idx[i], \"value\": -df[df_cols].values[i][0]}\n",
    "    else:\n",
    "        links_base[i] = {\"source\":  df_idx[i], \"target\": 'alubox', \"value\": df[df_cols].values[i][0]}\n",
    "\n",
    "    if links_base[i][\"source\"] == 'alubox' and links_base[i][\"target\"] == 'alubox':\n",
    "        idx_del = i\n",
    "       \n",
    "links_base.pop(idx_del)\n",
    "print(len(links_base))\n"
   ]
  },
  {
   "cell_type": "code",
   "execution_count": 390,
   "metadata": {},
   "outputs": [],
   "source": [
    "nodes_base = [''] * len(df_idx)\n",
    "\n",
    "for i in range(len(nodes_base)):\n",
    "    nodes_base[i] = df_idx[i]\n"
   ]
  },
  {
   "cell_type": "code",
   "execution_count": 391,
   "metadata": {},
   "outputs": [
    {
     "data": {
      "text/plain": [
       "[{'source': 'disinfection', 'target': 'alubox', 'value': 0.08963416521869136},\n",
       " {'source': 'energy mix', 'target': 'alubox', 'value': 0.0},\n",
       " {'source': 'autoclave', 'target': 'alubox', 'value': 0.13321320192508945},\n",
       " {'source': 'alubox raw materials',\n",
       "  'target': 'alubox',\n",
       "  'value': 0.15424392822806834},\n",
       " {'source': 'alubox',\n",
       "  'target': 'alubox EoL mixed sorting',\n",
       "  'value': 0.0031809502666462035},\n",
       " {'source': 'alubox production',\n",
       "  'target': 'alubox',\n",
       "  'value': 0.022156774026373678},\n",
       " {'source': 'alubox',\n",
       "  'target': 'alubox EoL melting',\n",
       "  'value': 0.13106909346999135},\n",
       " {'source': 'Handwash', 'target': 'alubox', 'value': 0.023379348720742505},\n",
       " {'source': 'transport Alu',\n",
       "  'target': 'alubox',\n",
       "  'value': 0.002132467202204817}]"
      ]
     },
     "execution_count": 391,
     "metadata": {},
     "output_type": "execute_result"
    }
   ],
   "source": [
    "links_base"
   ]
  },
  {
   "cell_type": "code",
   "execution_count": 394,
   "metadata": {},
   "outputs": [
    {
     "ename": "ValueError",
     "evalue": "Mime type rendering requires nbformat>=4.2.0 but it is not installed",
     "output_type": "error",
     "traceback": [
      "\u001b[1;31m---------------------------------------------------------------------------\u001b[0m",
      "\u001b[1;31mValueError\u001b[0m                                Traceback (most recent call last)",
      "Cell \u001b[1;32mIn[394], line 43\u001b[0m\n\u001b[0;32m     21\u001b[0m fig\u001b[38;5;241m.\u001b[39madd_trace(go\u001b[38;5;241m.\u001b[39mSankey(\n\u001b[0;32m     22\u001b[0m     node\u001b[38;5;241m=\u001b[39m\u001b[38;5;28mdict\u001b[39m(\n\u001b[0;32m     23\u001b[0m         pad\u001b[38;5;241m=\u001b[39m\u001b[38;5;241m500\u001b[39m,\n\u001b[1;32m   (...)\u001b[0m\n\u001b[0;32m     37\u001b[0m     domain\u001b[38;5;241m=\u001b[39m\u001b[38;5;28mdict\u001b[39m(x\u001b[38;5;241m=\u001b[39m[\u001b[38;5;241m0\u001b[39m, \u001b[38;5;241m1\u001b[39m], y\u001b[38;5;241m=\u001b[39m[\u001b[38;5;241m0\u001b[39m, \u001b[38;5;241m1\u001b[39m]),\n\u001b[0;32m     38\u001b[0m ))\n\u001b[0;32m     42\u001b[0m \u001b[38;5;66;03m# Show the figure\u001b[39;00m\n\u001b[1;32m---> 43\u001b[0m \u001b[43mfig\u001b[49m\u001b[38;5;241;43m.\u001b[39;49m\u001b[43mshow\u001b[49m\u001b[43m(\u001b[49m\u001b[43m)\u001b[49m\n\u001b[0;32m     44\u001b[0m \u001b[38;5;66;03m#fig.write_image(\"Sankey_Basecase.jpg\")\u001b[39;00m\n",
      "File \u001b[1;32m~\\AppData\\Roaming\\Python\\Python311\\site-packages\\plotly\\basedatatypes.py:3410\u001b[0m, in \u001b[0;36mBaseFigure.show\u001b[1;34m(self, *args, **kwargs)\u001b[0m\n\u001b[0;32m   3377\u001b[0m \u001b[38;5;250m\u001b[39m\u001b[38;5;124;03m\"\"\"\u001b[39;00m\n\u001b[0;32m   3378\u001b[0m \u001b[38;5;124;03mShow a figure using either the default renderer(s) or the renderer(s)\u001b[39;00m\n\u001b[0;32m   3379\u001b[0m \u001b[38;5;124;03mspecified by the renderer argument\u001b[39;00m\n\u001b[1;32m   (...)\u001b[0m\n\u001b[0;32m   3406\u001b[0m \u001b[38;5;124;03mNone\u001b[39;00m\n\u001b[0;32m   3407\u001b[0m \u001b[38;5;124;03m\"\"\"\u001b[39;00m\n\u001b[0;32m   3408\u001b[0m \u001b[38;5;28;01mimport\u001b[39;00m \u001b[38;5;21;01mplotly\u001b[39;00m\u001b[38;5;21;01m.\u001b[39;00m\u001b[38;5;21;01mio\u001b[39;00m \u001b[38;5;28;01mas\u001b[39;00m \u001b[38;5;21;01mpio\u001b[39;00m\n\u001b[1;32m-> 3410\u001b[0m \u001b[38;5;28;01mreturn\u001b[39;00m \u001b[43mpio\u001b[49m\u001b[38;5;241;43m.\u001b[39;49m\u001b[43mshow\u001b[49m\u001b[43m(\u001b[49m\u001b[38;5;28;43mself\u001b[39;49m\u001b[43m,\u001b[49m\u001b[43m \u001b[49m\u001b[38;5;241;43m*\u001b[39;49m\u001b[43margs\u001b[49m\u001b[43m,\u001b[49m\u001b[43m \u001b[49m\u001b[38;5;241;43m*\u001b[39;49m\u001b[38;5;241;43m*\u001b[39;49m\u001b[43mkwargs\u001b[49m\u001b[43m)\u001b[49m\n",
      "File \u001b[1;32m~\\AppData\\Roaming\\Python\\Python311\\site-packages\\plotly\\io\\_renderers.py:394\u001b[0m, in \u001b[0;36mshow\u001b[1;34m(fig, renderer, validate, **kwargs)\u001b[0m\n\u001b[0;32m    389\u001b[0m         \u001b[38;5;28;01mraise\u001b[39;00m \u001b[38;5;167;01mValueError\u001b[39;00m(\n\u001b[0;32m    390\u001b[0m             \u001b[38;5;124m\"\u001b[39m\u001b[38;5;124mMime type rendering requires ipython but it is not installed\u001b[39m\u001b[38;5;124m\"\u001b[39m\n\u001b[0;32m    391\u001b[0m         )\n\u001b[0;32m    393\u001b[0m     \u001b[38;5;28;01mif\u001b[39;00m \u001b[38;5;129;01mnot\u001b[39;00m nbformat \u001b[38;5;129;01mor\u001b[39;00m Version(nbformat\u001b[38;5;241m.\u001b[39m__version__) \u001b[38;5;241m<\u001b[39m Version(\u001b[38;5;124m\"\u001b[39m\u001b[38;5;124m4.2.0\u001b[39m\u001b[38;5;124m\"\u001b[39m):\n\u001b[1;32m--> 394\u001b[0m         \u001b[38;5;28;01mraise\u001b[39;00m \u001b[38;5;167;01mValueError\u001b[39;00m(\n\u001b[0;32m    395\u001b[0m             \u001b[38;5;124m\"\u001b[39m\u001b[38;5;124mMime type rendering requires nbformat>=4.2.0 but it is not installed\u001b[39m\u001b[38;5;124m\"\u001b[39m\n\u001b[0;32m    396\u001b[0m         )\n\u001b[0;32m    398\u001b[0m     ipython_display\u001b[38;5;241m.\u001b[39mdisplay(bundle, raw\u001b[38;5;241m=\u001b[39m\u001b[38;5;28;01mTrue\u001b[39;00m)\n\u001b[0;32m    400\u001b[0m \u001b[38;5;66;03m# external renderers\u001b[39;00m\n",
      "\u001b[1;31mValueError\u001b[0m: Mime type rendering requires nbformat>=4.2.0 but it is not installed"
     ]
    }
   ],
   "source": [
    "# Create a Sankey diagram\n",
    "fig = go.Figure()\n",
    "\n",
    "# Calculate the scale factor for link thickness and node size\n",
    "max_value = 175.14  # max(link['value'] for link in links)\n",
    "scale_factor = 1  # You can adjust this factor to control the scaling\n",
    "\n",
    "# Calculate total outflow for each node and round to 2 decimals\n",
    "outflow_totals = {node: round(sum(link['value'] for link in links_base if link['source'] == node), 2) for node in df_idx}\n",
    "\n",
    "# Calculate total inflow for each node and round to 2 decimals\n",
    "inflow_totals = {node: round(sum(link['value'] for link in links_base if link['target'] == node), 2) for node in df_idx}\n",
    "\n",
    "# Determine if a node has only incoming flows\n",
    "incoming_only = {node: inflow_totals[node] > 0 and outflow_totals[node] == 0 for node in df_idx}\n",
    "\n",
    "# Calculate y-coordinates for nodes based on total outflow or inflow\n",
    "node_y_coordinates = [sum(inflow_totals[node] if incoming_only[node] else outflow_totals[node] for node in df_idx[:i]) for i in range(len(df_idx))]\n",
    "\n",
    "# Add links\n",
    "fig.add_trace(go.Sankey(\n",
    "    node=dict(\n",
    "        pad=500,\n",
    "        thickness=20,\n",
    "        line=dict(width=[link['value'] / max_value * scale_factor for link in links_base]),\n",
    "        label=[f\"{node}<br>{inflow_totals[node] if incoming_only[node] else outflow_totals[node]}%\" for node in df_idx],\n",
    "        #color=[node_colors.get(node, 'rgba(255, 255, 255, {})') for node in df_idx],\n",
    "    ),\n",
    "    link=dict(\n",
    "        source=[nodes_base.index(link['source']) for link in links_base],\n",
    "        target=[nodes_base.index(link['target']) for link in links_base],\n",
    "        value=[link['value'] for link in links_base],\n",
    "        #color=[node_colors_links.get(link['source'], 'rgba(255, 255, 255, {})') for link in links_base],  # Use source node color for links\n",
    "        line=dict(width=[link['value'] / max_value * scale_factor for link in links_base]),\n",
    "    ),\n",
    "    arrangement=\"perpendicular\",\n",
    "    domain=dict(x=[0, 1], y=[0, 1]),\n",
    "))\n",
    "\n",
    "\n",
    "\n",
    "# Show the figure\n",
    "fig.show()\n",
    "#fig.write_image(\"Sankey_Basecase.jpg\")\n"
   ]
  }
 ],
 "metadata": {
  "kernelspec": {
   "display_name": "Python 3",
   "language": "python",
   "name": "python3"
  },
  "language_info": {
   "codemirror_mode": {
    "name": "ipython",
    "version": 3
   },
   "file_extension": ".py",
   "mimetype": "text/x-python",
   "name": "python",
   "nbconvert_exporter": "python",
   "pygments_lexer": "ipython3",
   "version": "3.11.9"
  }
 },
 "nbformat": 4,
 "nbformat_minor": 2
}

{
 "cells": [
  {
   "cell_type": "code",
   "execution_count": 14,
   "metadata": {},
   "outputs": [],
   "source": [
    "import pandas as pd\n",
    "import re"
   ]
  },
  {
   "cell_type": "code",
   "execution_count": 15,
   "metadata": {},
   "outputs": [],
   "source": [
    "# Libary to import self-made libaries\n",
    "import sys # https://stackoverflow.com/questions/4383571/importing-files-from-different-folder\n",
    "sys.path.insert(1, r'C:\\Users\\ruw\\Desktop\\RA\\Single-use-vs-multi-use-in-health-care\\Brighway\\Libaries')\n",
    "import importlib"
   ]
  },
  {
   "cell_type": "code",
   "execution_count": 16,
   "metadata": {},
   "outputs": [],
   "source": [
    "# Importing self-made libaries\n",
    "import standards as s\n",
    "import Monte_Carlo as MC\n",
    "import life_cycle_assessment as lc\n",
    "import LCA_plots as lp\n",
    "import box_plot as bp\n",
    "\n",
    "import reload_lib as rl"
   ]
  },
  {
   "cell_type": "code",
   "execution_count": 17,
   "metadata": {},
   "outputs": [],
   "source": [
    "# Path to where the code is stored\n",
    "path = r'C:\\Users\\ruw\\Desktop\\RA\\Single-use-vs-multi-use-in-health-care\\Brighway'\n",
    "# Specifying the LCIA method\n",
    "lcia_method = 'recipe'\n",
    "lib = [s, MC, lc, lp, bp]"
   ]
  },
  {
   "cell_type": "code",
   "execution_count": 18,
   "metadata": {},
   "outputs": [],
   "source": [
    "def break_even_initialization(path, lcia_method, lib):\n",
    "    \n",
    "    rl.reload_lib(lib)\n",
    "    flow_legend, database_name, file_name, sheet_name, save_dir, initialization, file_name_unique, db_type = lc.initilization(path, lcia_method)\n",
    "    df, plot_x_axis_all, impact_categories = lc.quick_LCIA(initialization, file_name, file_name_unique, sheet_name)\n",
    "    df_rearranged = lc.rearrange_dataframe_index(df)\n",
    "    if 'recipe' in lcia_method:\n",
    "        df_res, df_endpoint = lc.recipe_dataframe_split(df_rearranged)\n",
    "        plot_x_axis_end = plot_x_axis_all[-3:]\n",
    "        ic_mid = plot_x_axis_all[:-3] \n",
    "        plot_x_axis = []\n",
    "        for ic in ic_mid:\n",
    "            # print(ic)\n",
    "            string = re.findall(r'\\((.*?)\\)', ic)\n",
    "            if 'ODPinfinite' in  string[0]:\n",
    "                string[0] = 'ODP'\n",
    "            elif '1000' in string[0]:\n",
    "                string[0] = 'GWP'\n",
    "            plot_x_axis.append(string[0])\n",
    "\n",
    "    else:\n",
    "        df_res = df_rearranged\n",
    "        plot_x_axis = plot_x_axis_all\n",
    "    \n",
    "    \n",
    "    df_col = [df_res.columns[1]]\n",
    "    df_GWP = df_res[df_col]\n",
    "\n",
    "    return database_name, df_GWP, db_type, database_name, flow_legend"
   ]
  },
  {
   "cell_type": "code",
   "execution_count": 19,
   "metadata": {},
   "outputs": [
    {
     "name": "stdout",
     "output_type": "stream",
     "text": [
      "The chosen project is SU_vs_MU and the chosen database is sterilization\n",
      "Folder name Results created\n",
      "Chosen flows:\n",
      "H200 REC - CONSQ\n",
      "H200 SU - CONSQ\n",
      "H400 REC- CONSQ\n",
      "H400 SU - CONSQ\n",
      "alubox large + washer - CONSQ\n",
      "alubox large + wipe - CONSQ\n",
      "alubox small + washer - CONSQ\n",
      "alubox small + wipe - CONSQ\n",
      "Recipe is selected\n",
      "Initialization is completed\n",
      "DataFrame with nested lists written to Excel successfully.\n"
     ]
    }
   ],
   "source": [
    "database_name, df_GWP, db_type, database_name, flow_legend = break_even_initialization(path, lcia_method, lib)"
   ]
  },
  {
   "cell_type": "code",
   "execution_count": 20,
   "metadata": {},
   "outputs": [],
   "source": [
    "amount_of_uses = 513\n",
    "columns = lc.unique_elements_list(database_name)\n",
    "case = 'break even'\n",
    "df_be, ignore = lp.process_categorizing(df_GWP, db_type, database_name, case, flow_legend, columns)\n",
    "\n",
    "\n",
    "df_be_copy = lp.break_even_orginization(df_be, database_name)\n",
    "\n",
    "\n",
    "# Split index into small and large based on criteria\n",
    "small_idx = [idx for idx in df_be_copy.index if '2' in idx or 'AS' in idx]\n",
    "large_idx = [idx for idx in df_be_copy.index if idx not in small_idx]\n",
    "\n",
    "# Create empty DataFrames for each scenario\n",
    "scenarios = {\n",
    "    'small': pd.DataFrame(0, index=small_idx, columns=df_be_copy.columns, dtype=object),\n",
    "    'large': pd.DataFrame(0, index=large_idx, columns=df_be_copy.columns, dtype=object)\n",
    "}\n",
    "\n",
    "\n",
    "\n",
    "# Fill scenarios with data\n",
    "for sc_idx, (scenario_name, scenario_df) in enumerate(scenarios.items()):\n",
    "    scenario_df.update(df_be_copy.loc[scenario_df.index])\n",
    "\n",
    "    alu_box_use, production = {}, {}\n",
    "\n",
    "    for idx, row in scenario_df.iterrows(): \n",
    "        use, prod = 0, 0\n",
    "        for col in df_be_copy.columns:\n",
    "            if ('Autoclave' in col or 'Disinfection' in col) and 'H' not in idx:\n",
    "                alu_box_use[idx] = row[col] + use\n",
    "                use += row[col]\n",
    "            elif 'A' in idx:\n",
    "                production[idx] = (row[col] + prod) * amount_of_uses\n",
    "                prod += row[col]\n",
    "                \n",
    "            else:\n",
    "                production[idx] = row[col] + prod\n",
    "                prod += row[col]\n"
   ]
  },
  {
   "cell_type": "code",
   "execution_count": 21,
   "metadata": {},
   "outputs": [
    {
     "data": {
      "text/plain": [
       "{'H4S': 1.0608382466482158,\n",
       " 'H4R': 0.831334278490655,\n",
       " 'ALC': 20.0723315614131,\n",
       " 'ALW': 20.0723315614131}"
      ]
     },
     "execution_count": 21,
     "metadata": {},
     "output_type": "execute_result"
    }
   ],
   "source": [
    "production"
   ]
  },
  {
   "cell_type": "code",
   "execution_count": 22,
   "metadata": {},
   "outputs": [
    {
     "data": {
      "text/plain": [
       "{'ALC': 0.7900058652549531, 'ALW': 0.6616775182154091}"
      ]
     },
     "execution_count": 22,
     "metadata": {},
     "output_type": "execute_result"
    }
   ],
   "source": [
    "alu_box_use"
   ]
  },
  {
   "cell_type": "code",
   "execution_count": 23,
   "metadata": {},
   "outputs": [
    {
     "data": {
      "text/plain": [
       "['H4S', 'H4R', 'ALC', 'ALW']"
      ]
     },
     "execution_count": 23,
     "metadata": {},
     "output_type": "execute_result"
    }
   ],
   "source": [
    "proc_keys = [key for key in production.keys()]\n",
    "proc_keys"
   ]
  },
  {
   "cell_type": "code",
   "execution_count": 24,
   "metadata": {},
   "outputs": [
    {
     "name": "stdout",
     "output_type": "stream",
     "text": [
      "Alu + wipe requires 161 uses to break even to recycled H400\n",
      "Alu + cabinet requires 195 uses to break even to recycled H400\n",
      "Alu + wipe requires 247 uses to break even to SU H400\n",
      "Alu + cabinet requires 500 uses to break even to SU H400\n"
     ]
    }
   ],
   "source": [
    "\n",
    "ALC_be_R = 0\n",
    "ALC_be_S = 0\n",
    "ALW_be_R = 0\n",
    "ALW_be_S = 0\n",
    "\n",
    "ALC_be = {}\n",
    "ALW_be = {}\n",
    "\n",
    "h4r_old = 0\n",
    "h4s_old = 0\n",
    "\n",
    "a, b, c, d  = 0, 0, 0, 0\n",
    "\n",
    "variable_use = range(1,10000,1)\n",
    "for use in variable_use:\n",
    "    h4r = production[proc_keys[0]] * use \n",
    "    h4s = production[proc_keys[1]] * use\n",
    "    alc = (production[proc_keys[2]] * amount_of_uses/use + alu_box_use[proc_keys[2]]*use)\n",
    "    alw = (production[proc_keys[3]] * amount_of_uses/use + alu_box_use[proc_keys[3]]*use)\n",
    "    # print(h4r, h4s, alc, alw)\n",
    "    if alc < h4r:\n",
    "        if alc > h4r_old and a == 0:\n",
    "            ALC_be[proc_keys[0]] = use\n",
    "            a = 1\n",
    "            print(f'Alu + cabinet requires {use} uses to break even to recycled H400')\n",
    "    if alc < h4s:\n",
    "        if alc > h4s_old and b == 0:\n",
    "            ALC_be[proc_keys[1]] = use\n",
    "            print(f'Alu + cabinet requires {use} uses to break even to SU H400')\n",
    "            b = 1\n",
    "    if alw < h4r and c == 0:\n",
    "        if alw > h4r_old:\n",
    "            ALC_be[proc_keys[0]] = use\n",
    "            print(f'Alu + wipe requires {use} uses to break even to recycled H400')\n",
    "            c = 1\n",
    "    if alw < h4s:\n",
    "        if alw > h4s_old and d == 0:\n",
    "            ALC_be[proc_keys[1]] = use\n",
    "            print(f'Alu + wipe requires {use} uses to break even to SU H400')\n",
    "            d = 1\n",
    "\n",
    "    h4r_old = h4r\n",
    "    h4s_old = h4s\n",
    "            \n",
    "                      "
   ]
  }
 ],
 "metadata": {
  "kernelspec": {
   "display_name": "Python 3",
   "language": "python",
   "name": "python3"
  },
  "language_info": {
   "codemirror_mode": {
    "name": "ipython",
    "version": 3
   },
   "file_extension": ".py",
   "mimetype": "text/x-python",
   "name": "python",
   "nbconvert_exporter": "python",
   "pygments_lexer": "ipython3",
   "version": "3.11.9"
  }
 },
 "nbformat": 4,
 "nbformat_minor": 2
}

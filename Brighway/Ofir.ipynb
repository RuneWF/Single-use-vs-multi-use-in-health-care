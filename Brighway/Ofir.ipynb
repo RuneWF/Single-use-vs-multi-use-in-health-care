{
 "cells": [
  {
   "cell_type": "code",
   "execution_count": 1,
   "metadata": {},
   "outputs": [],
   "source": [
    "# Import packages\n",
    "import matplotlib.pyplot as plt\n",
    "import numpy as np\n",
    "import pandas as pd\n",
    "import matplotlib.ticker as mtick\n",
    "import matplotlib.cm as cm\n",
    "import math\n",
    "import plotly.graph_objects as go\n",
    "from collections import OrderedDict\n",
    "from matplotlib.lines import Line2D  # Import for creating custom legend markers\n",
    "import json\n",
    "import copy\n",
    "import random\n",
    "import re\n",
    "import seaborn as sns\n",
    "import importlib\n",
    "\n",
    "\n",
    "# Import BW25 packages\n",
    "import bw2data as bd\n",
    "import bw2io as bi\n",
    "import bw2calc as bc\n",
    "import bw2analyzer as bwa\n",
    "import brightway2 as bw \n",
    "from bw2calc import LeastSquaresLCA"
   ]
  },
  {
   "cell_type": "code",
   "execution_count": 2,
   "metadata": {},
   "outputs": [
    {
     "name": "stdout",
     "output_type": "stream",
     "text": [
      "Folder name Results created\n",
      "Folder name Results created\n"
     ]
    },
    {
     "data": {
      "text/plain": [
       "<module 'life_cycle_assessment' from 'c:\\\\Users\\\\ruw\\\\Desktop\\\\RA\\\\Single-use-vs-multi-use-in-health-care\\\\Brighway\\\\life_cycle_assessment.py'>"
      ]
     },
     "execution_count": 2,
     "metadata": {},
     "output_type": "execute_result"
    }
   ],
   "source": [
    "from  standards import *\n",
    "import Monte_Carlo as MC\n",
    "import life_cycle_assessment as lc\n",
    "\n",
    "\n",
    "importlib.reload(MC)\n",
    "\n",
    "importlib.reload(lc)"
   ]
  },
  {
   "cell_type": "code",
   "execution_count": 3,
   "metadata": {},
   "outputs": [
    {
     "name": "stdout",
     "output_type": "stream",
     "text": [
      "Folder name Results created\n"
     ]
    }
   ],
   "source": [
    "save_dir = results_folder('Results')\n",
    "\n",
    "file_name = r'Results\\Ananas - CONSQ.xlsx'\n",
    "file_cont_name = r'Results\\Ananas contribution - CONSQ.xlsx'\n",
    "sheet_name = 'Ananas'\n",
    "\n",
    "path = r'C:\\Users\\ruw\\Desktop\\RA\\Single-use-vs-multi-use-in-health-care\\Brighway'\n",
    "\n",
    "# Your name variable should be the name of the project.\n",
    "database_project = \"RA - Ofir & Stine 1\"\n",
    "database_name = \"Ananas consq\"\n",
    "\n",
    "flows = ['alubox - CONSQ', 'PP sheet sc2 - CONSQ', 'PP sheet sc3 - CONSQ']\n",
    "flow_legend = ['alubox - CONSQ sc1', 'PP sheet sc2 - CONSQ', 'PP sheet sc3 - CONSQ']\n"
   ]
  },
  {
   "cell_type": "code",
   "execution_count": 4,
   "metadata": {},
   "outputs": [
    {
     "name": "stdout",
     "output_type": "stream",
     "text": [
      "Biosphere database already present!!! No setup is needed\n",
      "Initialization is completed\n"
     ]
    }
   ],
   "source": [
    "FU, FU_proc, impact_category, plot_x_axis, sub_product_details = lc.LCA_initialization(database_project, database_name, flows)\n",
    "impat =  impact_category\n",
    "\n",
    "calculate = False\n",
    "\n",
    "if f'{path}\\{sheet_name}' is False or calculate is True:\n",
    "    # Caculating the LCA results\n",
    "    df = lc.life_cycle_impact_assessment(flows, FU, impat, FU_proc)\n",
    "    lc.save_LCA_results(df, file_name, sheet_name, impat)\n",
    "\n",
    "\n",
    "df_test = lc.import_LCA_results(file_name, flows, impat)"
   ]
  },
  {
   "cell_type": "code",
   "execution_count": 5,
   "metadata": {},
   "outputs": [
    {
     "name": "stdout",
     "output_type": "stream",
     "text": [
      "Biosphere database already present!!! No setup is needed\n",
      "Initialization is completed\n",
      "Biosphere database already present!!! No setup is needed\n",
      "Initialization is completed\n",
      "Biosphere database already present!!! No setup is needed\n",
      "Initialization is completed\n",
      "Biosphere database already present!!! No setup is needed\n",
      "Initialization is completed\n",
      "Biosphere database already present!!! No setup is needed\n",
      "Initialization is completed\n",
      "Biosphere database already present!!! No setup is needed\n",
      "Initialization is completed\n",
      "Biosphere database already present!!! No setup is needed\n",
      "Initialization is completed\n",
      "Biosphere database already present!!! No setup is needed\n",
      "Initialization is completed\n",
      "Biosphere database already present!!! No setup is needed\n",
      "Initialization is completed\n",
      "Biosphere database already present!!! No setup is needed\n",
      "Initialization is completed\n",
      "Biosphere database already present!!! No setup is needed\n",
      "Initialization is completed\n",
      "Biosphere database already present!!! No setup is needed\n",
      "Initialization is completed\n",
      "Biosphere database already present!!! No setup is needed\n",
      "Initialization is completed\n",
      "Biosphere database already present!!! No setup is needed\n",
      "Initialization is completed\n",
      "Biosphere database already present!!! No setup is needed\n",
      "Initialization is completed\n",
      "Biosphere database already present!!! No setup is needed\n",
      "Initialization is completed\n",
      "Biosphere database already present!!! No setup is needed\n",
      "Initialization is completed\n",
      "Biosphere database already present!!! No setup is needed\n",
      "Initialization is completed\n",
      "Biosphere database already present!!! No setup is needed\n",
      "Initialization is completed\n",
      "Biosphere database already present!!! No setup is needed\n",
      "Initialization is completed\n"
     ]
    }
   ],
   "source": [
    "# # Processing the LCA results\n",
    "sub_proccess, amount = lc.obtaining_sub_process(sub_product_details)\n",
    "FU_sub, FU_sub_process, idx = lc.sub_process_initilization(sub_proccess, FU, database_project, 'df_idx_ofir')\n",
    "flow_count, flow_sub, functional_unit_sub = lc.FU_contibution_initilization(FU_sub, FU_sub_process)\n"
   ]
  },
  {
   "cell_type": "code",
   "execution_count": 6,
   "metadata": {},
   "outputs": [],
   "source": [
    "# fu_sub_updated = lc.process_update(FU, functional_unit_sub)\n",
    "# functional_unit_sub_new[1]\n"
   ]
  },
  {
   "cell_type": "code",
   "execution_count": 7,
   "metadata": {},
   "outputs": [],
   "source": [
    "# df_cont = lc.LCIA_contribution(impat[1], flow_count, FU_sub_process, fu_sub_updated, amount, idx)"
   ]
  },
  {
   "cell_type": "code",
   "execution_count": 9,
   "metadata": {},
   "outputs": [],
   "source": [
    "# lc.save_LCA_results(df_cont, file_cont_name, sheet_name, impat)"
   ]
  },
  {
   "cell_type": "code",
   "execution_count": 10,
   "metadata": {},
   "outputs": [],
   "source": [
    "df_c = lc.import_LCA_results(file_cont_name, idx, impact_category[1])\n",
    "# lc.save_LCA_results(df_x, file_cont_name, sheet_name, impat)"
   ]
  },
  {
   "cell_type": "code",
   "execution_count": 11,
   "metadata": {},
   "outputs": [],
   "source": [
    "df_tot, df_scaled, df_cols = lc.dataframe_element_scaling(df_test)\n",
    "index_list = list(df_scaled.index.values)\n",
    "plt_leg = lc.dataframe_column_structure(impat)"
   ]
  },
  {
   "cell_type": "code",
   "execution_count": 12,
   "metadata": {},
   "outputs": [
    {
     "data": {
      "text/html": [
       "<div>\n",
       "<style scoped>\n",
       "    .dataframe tbody tr th:only-of-type {\n",
       "        vertical-align: middle;\n",
       "    }\n",
       "\n",
       "    .dataframe tbody tr th {\n",
       "        vertical-align: top;\n",
       "    }\n",
       "\n",
       "    .dataframe thead tr th {\n",
       "        text-align: left;\n",
       "    }\n",
       "</style>\n",
       "<table border=\"1\" class=\"dataframe\">\n",
       "  <thead>\n",
       "    <tr>\n",
       "      <th></th>\n",
       "      <th>EF v3.1 EN15804</th>\n",
       "    </tr>\n",
       "    <tr>\n",
       "      <th></th>\n",
       "      <th>climate change</th>\n",
       "    </tr>\n",
       "    <tr>\n",
       "      <th></th>\n",
       "      <th>global warming potential (GWP100)</th>\n",
       "    </tr>\n",
       "  </thead>\n",
       "  <tbody>\n",
       "    <tr>\n",
       "      <th>alubox - CONSQ</th>\n",
       "      <td>[[alubox raw materials - CONSQ, 0.154243928226...</td>\n",
       "    </tr>\n",
       "    <tr>\n",
       "      <th>PP sheet sc2 - CONSQ</th>\n",
       "      <td>[[pp production - CONSQ, 0.2294040394877444], ...</td>\n",
       "    </tr>\n",
       "    <tr>\n",
       "      <th>PP sheet sc3 - CONSQ</th>\n",
       "      <td>[[pp production - CONSQ, 0.2294040394877444], ...</td>\n",
       "    </tr>\n",
       "  </tbody>\n",
       "</table>\n",
       "</div>"
      ],
      "text/plain": [
       "                                                        EF v3.1 EN15804\n",
       "                                                         climate change\n",
       "                                      global warming potential (GWP100)\n",
       "alubox - CONSQ        [[alubox raw materials - CONSQ, 0.154243928226...\n",
       "PP sheet sc2 - CONSQ  [[pp production - CONSQ, 0.2294040394877444], ...\n",
       "PP sheet sc3 - CONSQ  [[pp production - CONSQ, 0.2294040394877444], ..."
      ]
     },
     "execution_count": 12,
     "metadata": {},
     "output_type": "execute_result"
    }
   ],
   "source": [
    "df_GWP = df_test[df_test.columns[1]].to_frame()\n",
    "df_GWP"
   ]
  },
  {
   "cell_type": "code",
   "execution_count": 13,
   "metadata": {},
   "outputs": [
    {
     "name": "stderr",
     "output_type": "stream",
     "text": [
      "C:\\Users\\ruw\\AppData\\Local\\Temp\\1\\ipykernel_14788\\1842958372.py:10: FutureWarning: Series.__getitem__ treating keys as positions is deprecated. In a future version, integer keys will always be treated as labels (consistent with DataFrame behavior). To access a value by position, use `ser.iloc[pos]`\n",
      "  for lst_size in range(len(df_GWP[key][df_size])):\n",
      "C:\\Users\\ruw\\AppData\\Local\\Temp\\1\\ipykernel_14788\\1842958372.py:12: FutureWarning: Series.__getitem__ treating keys as positions is deprecated. In a future version, integer keys will always be treated as labels (consistent with DataFrame behavior). To access a value by position, use `ser.iloc[pos]`\n",
      "  x = df_GWP[key][df_size][lst_size][0]\n",
      "C:\\Users\\ruw\\AppData\\Local\\Temp\\1\\ipykernel_14788\\1842958372.py:13: FutureWarning: Series.__getitem__ treating keys as positions is deprecated. In a future version, integer keys will always be treated as labels (consistent with DataFrame behavior). To access a value by position, use `ser.iloc[pos]`\n",
      "  gwp = df_GWP[key][df_size][lst_size][1]\n"
     ]
    }
   ],
   "source": [
    "x_axis = []\n",
    "GWP_value = []\n",
    "\n",
    "# gwp_tot = [0] * len(df_updated)\n",
    "for df_size in range(len(df_GWP)):\n",
    "    lst_x = []\n",
    "    lst_GWP = []\n",
    "    gwp_tot = 0\n",
    "    for key in df_GWP.keys():\n",
    "        for lst_size in range(len(df_GWP[key][df_size])):\n",
    "            #print(df_size, lst_size)\n",
    "            x = df_GWP[key][df_size][lst_size][0]\n",
    "            gwp = df_GWP[key][df_size][lst_size][1]\n",
    "            \n",
    "            #print(gwp,x)\n",
    "            if '- CONSQ' in x:\n",
    "                #print(key)\n",
    "                x = x.replace(f' - CONSQ', '')\n",
    "            if 'alubox' in x:           \n",
    "                x = x.replace('alubox ', '')\n",
    "                if 'raw' in x and 'avoid' not in x.lower():\n",
    "                    x = x.replace('raw materials', 'Raw mat.')\n",
    "                elif 'raw' in x and 'avoid' in x:\n",
    "                    x = 'Avoided virgin mat.'\n",
    "                if 'production' in x:\n",
    "                    x = 'Production'\n",
    "            if 'Waste' in x:\n",
    "                x = 'Incineration'\n",
    "                \n",
    "            if 'market for electricity' in x:\n",
    "                x = 'Avoided electricity'\n",
    "            if 'heating' in x:\n",
    "                x = 'Avoided heat'\n",
    "            if 'market for polypropylene' in x:\n",
    "                x = 'PP granulate'\n",
    "            if 'PE granulate' in x:\n",
    "                x = 'PE granulate'\n",
    "            if 'no Energy Recovery' in x:\n",
    "                x = x.replace(' no Energy Recovery', '')\n",
    "                # print(x)\n",
    "                # gwp = - gwp\n",
    "            if 'board box' in x:\n",
    "                x = 'Cardboard box'\n",
    "            if 'packaging film' in x:\n",
    "                x = 'PE packaging film prod.'\n",
    "            if 'pp' in x:\n",
    "                x = x.replace('pp', 'PP')\n",
    "            if 'autoclave' in x:\n",
    "                x = x.replace('autoclave', 'Autoclave')\n",
    "            if 'transport' in x:\n",
    "                x = 'Transport'\n",
    "\n",
    "            lst_x.append(x)\n",
    "            lst_GWP.append(gwp)\n",
    "            gwp_tot += gwp\n",
    "    # print(gwp_tot, lst_GWP)\n",
    "    lst_GWP.append(gwp_tot)\n",
    "    lst_x.append('Total')\n",
    "    x_axis.append(lst_x)\n",
    "    GWP_value.append(lst_GWP)\n",
    "\n"
   ]
  },
  {
   "cell_type": "code",
   "execution_count": 14,
   "metadata": {},
   "outputs": [],
   "source": [
    "# for x in GWP_value:\n",
    "#     # print(x)\n",
    "#     temp_val = 0\n",
    "#     for y in x:\n",
    "#         if y != x[-1]:\n",
    "#             temp_val += y\n",
    "#     print(temp_val, x[-1]) "
   ]
  },
  {
   "cell_type": "code",
   "execution_count": 15,
   "metadata": {},
   "outputs": [],
   "source": [
    "# Categories definitions\n",
    "categories = [\"Raw mat. + prod.\", \"Use\", \"Transport\", \"EoL\", \"Total\"]\n",
    "category_mapping = {\n",
    "    \"Raw mat. + prod.\": [\"PP production\", \"Cardboard box\", \"Scalpel\", \"Raw mat.\", \"Production\"],\n",
    "    \"Use\": [\"Autoclave\", \"disinfection\", \"Handwash\", \"Remanufacturing\"],\n",
    "    \"Transport\": [\"Transport\"],\n",
    "    \"EoL\": [\"PP incineration\", \"PE incineration\", \"Avoided heat\", \"Avoided electricity\", \"EoL melting\", \"EoL mixed sorting\", \"Avoided virgin mat.\"],\n",
    "    \"Total\": [\"Total\"]\n",
    "}\n",
    "\n",
    "# Ensure the legend displays items in the category order\n",
    "ordered_legend = {key: [] for key in category_mapping}\n",
    "\n",
    "for x_lst in range(len(x_axis)):\n",
    "    for x in range(len(x_axis[x_lst])):\n",
    "        \n",
    "        for key, item in category_mapping.items():\n",
    "                # print(x_axis[x_lst][x], item, x_axis[x_lst][x] in item)\n",
    "                if x_axis[x_lst][x] in item:\n",
    "                    # print(x_axis[x_lst][x], item, x_lst, x)\n",
    "                    ordered_legend[key].append(x_axis[x_lst][x])\n",
    "\n",
    "plot_legend = {key: [] for key in category_mapping}\n",
    "temp = []\n",
    "\n",
    "for key,value in ordered_legend.items():\n",
    "    #print(key, value)\n",
    "    for val in value:\n",
    "        if val not in temp:\n",
    "            temp.append(val)\n",
    "            # print(val)\n",
    "            plot_legend[key].append(val)\n",
    "\n",
    "\n",
    "colors = plot_colors(temp,'turbo')\n"
   ]
  },
  {
   "cell_type": "code",
   "execution_count": 16,
   "metadata": {},
   "outputs": [],
   "source": [
    "columns_to_plot = df_scaled.columns"
   ]
  },
  {
   "cell_type": "code",
   "execution_count": 17,
   "metadata": {},
   "outputs": [],
   "source": [
    "plt_leg = lc.dataframe_column_structure(impact_category)\n"
   ]
  },
  {
   "cell_type": "code",
   "execution_count": 18,
   "metadata": {},
   "outputs": [],
   "source": [
    "def round_down(value):\n",
    "    # https://stackoverflow.com/questions/41383787/round-down-to-2-decimal-in-python\n",
    "    value = math.floor(value * 10)/10.0\n",
    "    return value"
   ]
  },
  {
   "cell_type": "code",
   "execution_count": 19,
   "metadata": {},
   "outputs": [
    {
     "data": {
      "text/plain": [
       "-1.5"
      ]
     },
     "execution_count": 19,
     "metadata": {},
     "output_type": "execute_result"
    }
   ],
   "source": [
    "round_down(-1.43)"
   ]
  },
  {
   "cell_type": "code",
   "execution_count": 20,
   "metadata": {},
   "outputs": [
    {
     "name": "stdout",
     "output_type": "stream",
     "text": [
      "-0.3627763711324093\n",
      "-1.4464371306222423\n",
      "0.356536210502682\n"
     ]
    },
    {
     "data": {
      "image/png": "[encoded data removed]",
      "text/plain": [
       "<Figure size 900x700 with 1 Axes>"
      ]
     },
     "metadata": {},
     "output_type": "display_data"
    }
   ],
   "source": [
    "# Plotting\n",
    "fig, ax = plt.subplots(figsize=(9,7))\n",
    "\n",
    "num_processes = len(df_scaled)\n",
    "bar_width = 1/(len(index_list) + 1.5) \n",
    "index = np.arange(len(columns_to_plot))\n",
    "\n",
    "# Plotting each group of bars\n",
    "min_val = 0\n",
    "for i, process in enumerate(df_scaled.index):\n",
    "    values = df_scaled.loc[process, columns_to_plot].values\n",
    "    ax.bar((index + i * bar_width), values, bar_width, label=process, color=colors[i])  \n",
    "    print(min(values))\n",
    "    if min_val > min(values):\n",
    "        min_val = min(values)\n",
    "\n",
    "\n",
    "# Setting labels and title\n",
    "ax.set_title('Scaled impact of the Functional Unit',weight='bold')\n",
    "ax.set_xticks(index + bar_width )\n",
    "ax.set_xticklabels(plot_x_axis)\n",
    "plt.xticks(rotation=90)\n",
    "plt.yticks(np.arange(-1.6, 1.01, step=0.2))\n",
    "plt.ylim(-1.52,1.03)\n",
    "\n",
    "ax.legend(flow_legend,bbox_to_anchor=(1.01, .75, .25, 0), loc=\"lower left\",\n",
    "            mode=\"expand\", borderaxespad=0,  ncol=1)\n",
    "plt.tight_layout()\n",
    "# plt.savefig(os.path.join(save_dir, img_res), bbox_inches='tight')\n",
    "plt.show()"
   ]
  },
  {
   "cell_type": "code",
   "execution_count": 21,
   "metadata": {},
   "outputs": [],
   "source": [
    "directory = 'C:\\\\Users\\\\ruw\\\\Desktop\\\\RA\\\\'\n",
    "lst_scaled = lc.LCIA_normalization(directory, df_tot)"
   ]
  },
  {
   "cell_type": "code",
   "execution_count": 22,
   "metadata": {},
   "outputs": [
    {
     "data": {
      "text/plain": [
       "[0.652839363046289, 1.0, 0.9004138162205947]"
      ]
     },
     "execution_count": 22,
     "metadata": {},
     "output_type": "execute_result"
    }
   ],
   "source": [
    "lst_scaled"
   ]
  },
  {
   "cell_type": "code",
   "execution_count": 23,
   "metadata": {},
   "outputs": [
    {
     "data": {
      "image/png": "[encoded data removed]",
      "text/plain": [
       "<Figure size 900x700 with 1 Axes>"
      ]
     },
     "metadata": {},
     "output_type": "display_data"
    }
   ],
   "source": [
    "# Plotting\n",
    "fig, ax = plt.subplots(figsize=(9,7))\n",
    "\n",
    "num_processes = len(lst_scaled)\n",
    "bar_width = 1/(len(index_list)-1) \n",
    "index = np.arange(len(index_list))   \n",
    "\n",
    "ax.bar(index + bar_width, lst_scaled, bar_width, label=index_list, color=colors)\n",
    "\n",
    "# Setting labels and title\n",
    "ax.set_title('Scaled single score of the Functional Unit',weight='bold')\n",
    "ax.set_xticks(index + bar_width )\n",
    "ax.set_xticklabels(flow_legend)\n",
    "#plt.xticks(rotation=90)\n",
    "plt.yticks(np.arange(0, 1.01, step=0.1))\n",
    "plt.ylim(0,1.03)\n",
    "\n",
    "plt.tight_layout()\n",
    "# plt.savefig(os.path.join(save_dir, img_res), bbox_inches='tight')\n",
    "plt.show()"
   ]
  },
  {
   "cell_type": "code",
   "execution_count": 24,
   "metadata": {},
   "outputs": [],
   "source": [
    "# Ensure the legend displays items in the category order\n",
    "ordered_legend = {key: [] for key in category_mapping}\n",
    "\n",
    "for x_lst in range(len(x_axis)):\n",
    "    for x in range(len(x_axis[x_lst])):\n",
    "        \n",
    "        for key, item in category_mapping.items():\n",
    "                #print(x_axis[x_lst][x], item, x_axis[x_lst][x] in item)\n",
    "                if x_axis[x_lst][x] in item:\n",
    "                    # print(x_axis[x_lst][x], item, x_lst, x)\n",
    "                    ordered_legend[key].append(x_axis[x_lst][x])\n",
    "\n",
    "plot_legend = {key: [] for key in category_mapping}\n",
    "temp = []\n",
    "\n",
    "for key,value in ordered_legend.items():\n",
    "    #print(key, value)\n",
    "    for val in value:\n",
    "        if val not in temp:\n",
    "            temp.append(val)\n",
    "            # print(val)\n",
    "            plot_legend[key].append(val)"
   ]
  },
  {
   "cell_type": "code",
   "execution_count": 25,
   "metadata": {},
   "outputs": [
    {
     "data": {
      "image/png": "[encoded data removed]",
      "text/plain": [
       "<Figure size 1200x600 with 1 Axes>"
      ]
     },
     "metadata": {},
     "output_type": "display_data"
    }
   ],
   "source": [
    "\n",
    "color_map = {}\n",
    "#unique_processes = {process for sublist in x_axis for process in sublist}\n",
    "for i, process in enumerate(temp):\n",
    "    color_map[process] = colors[i]\n",
    "    #print(process, i)\n",
    "\n",
    "\n",
    "\n",
    "# Initialize an ordered dictionary for legend_handles to maintain the order\n",
    "legend_handles = OrderedDict()\n",
    "\n",
    "# Initialize legend_handles with keys from plot_legend and empty lists\n",
    "for process in temp:\n",
    "    legend_handles[process] = None\n",
    "\n",
    "# Plotting logic\n",
    "if len(x_axis) == len(GWP_value):\n",
    "    num_scenarios = len(GWP_value)  # Number of scenarios\n",
    "    bar_width = 0.15  # Width of the bars for each scenario\n",
    "    space_between_scenarios = 0.05  # Space between each scenario set\n",
    "    index = np.arange(len(categories))  # X-axis index positions for the categories\n",
    "\n",
    "    # Create the plot\n",
    "    fig, ax = plt.subplots(figsize=(12, 6))\n",
    "\n",
    "    idx = ['x', '^', 'o']  # List of markers for scenarios\n",
    "    all_markers = []  # List to store Line2D objects for markers\n",
    "\n",
    "    # Main plotting logic\n",
    "    for scenario in range(num_scenarios):\n",
    "        bottom_positive = np.zeros(len(categories))  # Initialize the bottom array for positive values\n",
    "        bottom_negative = np.zeros(len(categories))  # Initialize the bottom array for negative values\n",
    "        scenario_index = index + scenario * (bar_width + space_between_scenarios)\n",
    "\n",
    "        for length in range(len(x_axis[scenario])):\n",
    "            process_name = x_axis[scenario][length]\n",
    "            value = GWP_value[scenario][length]\n",
    "\n",
    "            # Determine which category this process falls into\n",
    "            for i, category in enumerate(categories):\n",
    "                if any(keyword in process_name for keyword in category_mapping[category]):\n",
    "                    # Assign color based on the process name\n",
    "                    color = color_map[process_name]\n",
    "\n",
    "                    # Create a bar with the specific color\n",
    "                    if value >= 0:\n",
    "                        bar = ax.bar(scenario_index[i], value, bar_width,\n",
    "                                    label=f\"{process_name}\" if legend_handles[process_name] is None else \"\",\n",
    "                                    bottom=bottom_positive[i],\n",
    "                                    color=color)\n",
    "                        bottom_positive[i] += value\n",
    "                    else:\n",
    "                        bar = ax.bar(scenario_index[i], value, bar_width,\n",
    "                                    label=f\"{process_name}\" if legend_handles[process_name] is None else \"\",\n",
    "                                    bottom=bottom_negative[i],\n",
    "                                    color=color)\n",
    "                        bottom_negative[i] += value\n",
    "\n",
    "                    # Add the bar to the corresponding process in legend_handles\n",
    "                    if legend_handles[process_name] is None:\n",
    "                        legend_handles[process_name] = bar\n",
    "\n",
    "                    # Add plot markers (symbols) at the bottom\n",
    "                    ax.plot(scenario_index[i], -0.2, marker=idx[scenario], color='gray')\n",
    "\n",
    "                    break\n",
    "\n",
    "    # Add custom markers to the legend\n",
    "    for i, marker in enumerate(idx):\n",
    "        all_markers.append(Line2D([0], [0], marker=marker, color='gray', label=f'Scenario {i + 1}', linestyle='None'))\n",
    "\n",
    "    # Set x-axis labels and ticks, adjusting to account for spacing\n",
    "    tick_positions = index + (num_scenarios - 1) * (bar_width + space_between_scenarios) / 2\n",
    "    ax.set_xticks(tick_positions)\n",
    "    ax.set_xticklabels(categories)\n",
    "\n",
    "    # Axis limits\n",
    "    ax.set_ylim(-.25, 0.82)\n",
    "    ax.set_yticks(np.arange(-0.2, 0.81, step=0.1))\n",
    "    ax.set_ylabel(\"Global Warming Potential [kg CO$_2$e]\")\n",
    "    ax.set_title('GWP impact for each life stage for 1 FU')\n",
    "\n",
    "    # Add markers to legend_handles for display at the bottom of the legend\n",
    "    valid_legend_handles = [(k, v) for k, v in legend_handles.items() if v is not None]\n",
    "    legend_handles_for_display = valid_legend_handles + [(flow_legend[i], marker) for i, marker in enumerate(all_markers)]\n",
    "\n",
    "    if legend_handles_for_display:\n",
    "        ax.legend(handles=[v for k, v in legend_handles_for_display], labels=[k for k, v in legend_handles_for_display], bbox_to_anchor=(1.005, 1), loc='upper left')\n",
    "\n",
    "    plt.tight_layout()\n",
    "    #plt.savefig(os.path.join(save_dir, f'LC_impact_ofir_APOS.jpg'), bbox_inches='tight')\n",
    "    plt.show()\n",
    "    \n",
    "\n",
    "else:\n",
    "    print('The x-axis and GWP values have different sizes')\n"
   ]
  },
  {
   "cell_type": "code",
   "execution_count": 26,
   "metadata": {},
   "outputs": [],
   "source": [
    "def node_name_update(node):\n",
    "    if '- CONSQ - sc 1' in node:\n",
    "        node = node.replace(f' - CONSQ - sc 1', '')\n",
    "        if  'avoided alubox raw materials' in node:\n",
    "            node = 'Avoided raw mat.'\n",
    "        elif 'melting' in node:\n",
    "            node = 'Melting'\n",
    "        elif 'mixed sorting' in node:\n",
    "            node = 'Mixed sorting'\n",
    "        elif 'prod' in node:\n",
    "            node = 'Alubox prod.'\n",
    "        else:\n",
    "            node = node.title()\n",
    "    elif 'wrought alloy' in node:\n",
    "        node = 'Virgin alu'\n",
    "    elif 'steel production' in node:\n",
    "        node = 'Virgin steel'\n",
    "    elif 'impact extrusio' in node:\n",
    "        node = 'Alu impact extrusion'\n",
    "    elif 'corrugated' in node:\n",
    "        node = 'Cardboard box'\n",
    "    elif 'anodising' in node:\n",
    "        node = 'Alu anodising'\n",
    "    elif 'transport' in node:\n",
    "        node = 'Transport'\n",
    "    \n",
    "    return node"
   ]
  },
  {
   "cell_type": "code",
   "execution_count": 27,
   "metadata": {},
   "outputs": [],
   "source": [
    "def source_name_update(process, source):\n",
    "        \n",
    "    if 'wrought alloy' in source:\n",
    "        source = 'Alu wrought alloy'\n",
    "    elif 'steel production' in source:\n",
    "        source = 'Chromium steel'\n",
    "    elif 'anodising' in source:\n",
    "        source = 'Alu anodising'\n",
    "    elif 'impact extrusio' in source:\n",
    "        source = 'Alu impact extrusion'\n",
    "    elif 'transport' in source:\n",
    "        source = 'Transport'\n",
    "    elif 'corrugated' in source:\n",
    "        source = 'Cardboard box'\n",
    "    elif 'metal working' in source:\n",
    "        source = 'Steel manufacturing'\n",
    "    elif 'sheet rolling' in source:\n",
    "        source = 'Alu sheet rolling'\n",
    "    elif 'recycling' in source:\n",
    "        if 'mixed sorting' in process.lower():\n",
    "            source = 'Mixed metal scrap'\n",
    "        else:\n",
    "            source = 'Alu remelting'\n",
    "    elif 'autoclave' in source:\n",
    "        source = 'Autoclave'\n",
    "    elif 'Handwash' in source:\n",
    "        source = 'Handwash'\n",
    "    return source"
   ]
  },
  {
   "cell_type": "code",
   "execution_count": 28,
   "metadata": {},
   "outputs": [
    {
     "data": {
      "text/plain": [
       "[0.1542439282263658,\n",
       " 0.022156774023127858,\n",
       " 0.13321320200128806,\n",
       " 0.02337939003610922,\n",
       " 0.13106909346835469,\n",
       " 0.0031809502666867344,\n",
       " 0.0021324672022102766,\n",
       " -0.1434851961755121,\n",
       " 0.3258906090486306]"
      ]
     },
     "execution_count": 28,
     "metadata": {},
     "output_type": "execute_result"
    }
   ],
   "source": [
    "GWP_value[0]"
   ]
  },
  {
   "cell_type": "code",
   "execution_count": 35,
   "metadata": {},
   "outputs": [
    {
     "name": "stdout",
     "output_type": "stream",
     "text": [
      "alubox raw materials - CONSQ - sc 1\n",
      "alubox raw materials - CONSQ - sc 1 : Raw : Alubox Raw Materials, source : Alu wrought alloy\n",
      "alubox raw materials - CONSQ - sc 1 : Raw : Alubox Raw Materials, source : Chromium steel\n",
      "alubox production - CONSQ - sc 1\n",
      "alubox production - CONSQ - sc 1 : Prod. : Alubox prod., source : Alu anodising\n",
      "alubox production - CONSQ - sc 1 : Prod. : Alubox prod., source : Alu impact extrusion\n",
      "alubox production - CONSQ - sc 1 : Prod. : Alubox prod., source : Cardboard box -\n",
      "alubox production - CONSQ - sc 1 : Prod. : Alubox prod., source : Steel manufacturing\n",
      "alubox production - CONSQ - sc 1 : Prod. : Alubox prod., source : Alu sheet rolling\n",
      "autoclave - CONSQ - sc 1\n",
      "autoclave - CONSQ - sc 1 : Use : Autoclave, source : Autoclave\n",
      "Handwash - CONSQ - sc 1\n",
      "Handwash - CONSQ - sc 1 : Use : Handwash, source : Handwash\n",
      "alubox EoL melting - CONSQ - sc 1\n",
      "alubox EoL melting - CONSQ - sc 1 : EoL : Melting, source : Alu remelting\n",
      "alubox EoL mixed sorting - CONSQ - sc 1\n",
      "alubox EoL mixed sorting - CONSQ - sc 1 : EoL : Mixed sorting, source : Mixed metal scrap\n",
      "transport Alu - CONSQ - sc 1\n",
      "transport Alu - CONSQ - sc 1 : Prod. : Transport Alu, source : Transport\n",
      "avoided alubox raw materials - CONSQ - sc 1\n",
      "avoided alubox raw materials - CONSQ - sc 1 : Raw : Avoided raw mat., source : Alu wrought alloy -\n",
      "avoided alubox raw materials - CONSQ - sc 1 : EoL : Avoided raw mat., source : Alu wrought alloy -\n",
      "avoided alubox raw materials - CONSQ - sc 1 : Raw : Avoided raw mat., source : Chromium steel -\n",
      "avoided alubox raw materials - CONSQ - sc 1 : EoL : Avoided raw mat., source : Chromium steel -\n"
     ]
    }
   ],
   "source": [
    "df_c_gwp =copy.deepcopy(df_c)\n",
    "c = []\n",
    "\n",
    "node_sc1 = ['Raw material','Production', 'Use', 'EoL']\n",
    "node_sc2 = []\n",
    "node_sc3 = []\n",
    "\n",
    "links_sc1 = []\n",
    "links_sc2 = []\n",
    "links_sc3 = []\n",
    "\n",
    "rm = 0\n",
    "prod = 0\n",
    "use = 0\n",
    "eol = 0\n",
    "tot = 0\n",
    "for i, row in df_c_gwp.iterrows():\n",
    "    if 'sc 1' in i:\n",
    "        print(i)\n",
    "        node = node_name_update(i)\n",
    "        # if  'disinfec' not in i:\n",
    "        node_sc1.append(node)\n",
    "        for element in row:\n",
    "\n",
    "            for proc in element:\n",
    "                val = round(proc[1]/GWP_value[0][-1]*100,2)\n",
    "                source = proc[0]\n",
    "                source = source_name_update(i,source)\n",
    "                # print(source)\n",
    "                if   val != 0:\n",
    "                    # print(source, proc[1], val, tot)\n",
    "                    # source = source_name_update(source)\n",
    "                    # print(source)\n",
    "                    if  val < 0:\n",
    "                        # print(proc[0])\n",
    "                        source += ' -'\n",
    "                        # val *= -1\n",
    "                        # print(f'{i} : Transport : {node}, source : {source}')\n",
    "                        # dct_temp = {\"source\": 'Production', \"target\": source, \"value\":val}\n",
    "                        # dct_temp2 = {\"source\": source, \"target\": 'Use', \"value\":val}\n",
    "                    if 'raw material' in i and 'avoided' not in source.lower():\n",
    "                        print(f'{i} : Raw : {node}, source : {source}')\n",
    "                        dct_temp = {\"source\": 'Raw material', \"target\": source, \"value\":val}\n",
    "                        dct_temp2 = {\"source\": source, \"target\": 'Production', \"value\":val}\n",
    "                        # dct_temp3 = {\"source\": node, \"target\": 'Production', \"value\":val}\n",
    "                        rm += proc[1]\n",
    "                    if 'production' in i or 'transport' in source.lower():\n",
    "                        print(f'{i} : Prod. : {node}, source : {source}')\n",
    "                        dct_temp = {\"source\": 'Production', \"target\": source, \"value\":val}\n",
    "                        dct_temp2 = {\"source\": source, \"target\": 'Use', \"value\":val}\n",
    "                        # dct_temp3 = {\"source\": node, \"target\": 'Use', \"value\":val}\n",
    "                        prod += proc[1]\n",
    "                    if 'autoclave' in i.lower() or 'handwash' in i.lower():\n",
    "                        print(f'{i} : Use : {node}, source : {source}')\n",
    "                        dct_temp = {\"source\": 'Use', \"target\": source, \"value\": val}\n",
    "                        dct_temp2 = {\"source\": source, \"target\": 'EoL', \"value\": val}\n",
    "                        use += proc[1]\n",
    "                    if 'eol' in i.lower() or 'avoided' in i.lower():\n",
    "                        print(f'{i} : EoL : {node}, source : {source}')\n",
    "                        # if 'avoided' in source.lower():\n",
    "                        #     dct_temp = {\"source\": 'EoL', \"target\": node, \"value\":val}\n",
    "                        #     dct_temp2 = {\"source\": node, \"target\": source, \"value\":val}\n",
    "                        # else:\n",
    "                        dct_temp = {\"source\": 'EoL', \"target\": source, \"value\":val}\n",
    "                        dct_temp2 = {\"source\": source, \"target\": node, \"value\":val}\n",
    "                        eol += proc[1]\n",
    "                    # else:\n",
    "                    #     print(f'Other : {i}, source : {source}')\n",
    "                \n",
    "                    links_sc1.append(dct_temp)\n",
    "                    links_sc1.append(dct_temp2)\n",
    "                    # if dct_temp3 not in links_sc1:\n",
    "                    #     links_sc1.append(dct_temp3)\n",
    "                    node_sc1.append(source)\n"
   ]
  },
  {
   "cell_type": "code",
   "execution_count": null,
   "metadata": {},
   "outputs": [],
   "source": []
  },
  {
   "cell_type": "code",
   "execution_count": 36,
   "metadata": {},
   "outputs": [
    {
     "data": {
      "application/vnd.plotly.v1+json": {
       "config": {
        "plotlyServerURL": "https://plot.ly"
       },
       "data": [
        {
         "arrangement": "perpendicular",
         "domain": {
          "x": [
           0,
           1
          ],
          "y": [
           0,
           1
          ]
         },
         "link": {
          "line": {
           "width": [
            1,
            1,
            0.07057226871748473,
            0.07057226871748473,
            0.028726532458719745,
            0.028726532458719745,
            0.06650079167609138,
            0.06650079167609138,
            0.0018095453517303778,
            0.0018095453517303778,
            0.027595566613888258,
            0.027595566613888258,
            0.03302420266907939,
            0.03302420266907939,
            0.10269169871069894,
            0.10269169871069894,
            0.1621805021488351,
            0.1621805021488351,
            0.9097489255824474,
            0.9097489255824474,
            0.022166930558697128,
            0.022166930558697128,
            0.01470255598280932,
            0.01470255598280932,
            1,
            1,
            0.07057226871748473,
            0.07057226871748473
           ]
          },
          "source": [
           0,
           5,
           0,
           6,
           1,
           8,
           1,
           9,
           1,
           10,
           1,
           11,
           1,
           12,
           2,
           13,
           2,
           15,
           3,
           18,
           3,
           20,
           1,
           22,
           3,
           24,
           3,
           25
          ],
          "target": [
           5,
           1,
           6,
           1,
           8,
           2,
           9,
           2,
           10,
           2,
           11,
           2,
           12,
           2,
           13,
           3,
           15,
           3,
           18,
           17,
           20,
           19,
           22,
           2,
           24,
           23,
           25,
           23
          ],
          "value": [
           44.21,
           44.21,
           3.12,
           3.12,
           1.27,
           1.27,
           2.94,
           2.94,
           0.08,
           0.08,
           1.22,
           1.22,
           1.46,
           1.46,
           4.54,
           4.54,
           7.17,
           7.17,
           40.22,
           40.22,
           0.98,
           0.98,
           0.65,
           0.65,
           44.21,
           44.21,
           3.12,
           3.12
          ]
         },
         "node": {
          "label": [
           "Raw material<br>47.33%",
           "Production<br>7.46%",
           "Use<br>11.71%",
           "EoL<br>-6.13%",
           "Alubox Raw Materials<br>0%",
           "Alu wrought alloy<br>44.21%",
           "Chromium steel<br>3.12%",
           "Alubox prod.<br>0%",
           "Alu anodising<br>1.27%",
           "Alu impact extrusion<br>2.94%",
           "Cardboard box -<br>-0.08%",
           "Steel manufacturing<br>1.22%",
           "Alu sheet rolling<br>1.46%",
           "Autoclave<br>4.54%",
           "Autoclave<br>4.54%",
           "Handwash<br>7.17%",
           "Handwash<br>7.17%",
           "Melting<br>40.22%",
           "Alu remelting<br>40.22%",
           "Mixed sorting<br>0.98%",
           "Mixed metal scrap<br>0.98%",
           "Transport Alu<br>0%",
           "Transport<br>0.65%",
           "Avoided raw mat.<br>-47.33%",
           "Alu wrought alloy -<br>-44.21%",
           "Chromium steel -<br>-3.12%"
          ],
          "line": {
           "width": [
            1,
            1,
            0.07057226871748473,
            0.07057226871748473,
            0.028726532458719745,
            0.028726532458719745,
            0.06650079167609138,
            0.06650079167609138,
            0.0018095453517303778,
            0.0018095453517303778,
            0.027595566613888258,
            0.027595566613888258,
            0.03302420266907939,
            0.03302420266907939,
            0.10269169871069894,
            0.10269169871069894,
            0.1621805021488351,
            0.1621805021488351,
            0.9097489255824474,
            0.9097489255824474,
            0.022166930558697128,
            0.022166930558697128,
            0.01470255598280932,
            0.01470255598280932,
            1,
            1,
            0.07057226871748473,
            0.07057226871748473
           ]
          },
          "pad": 50,
          "thickness": 10
         },
         "type": "sankey"
        }
       ],
       "layout": {
        "template": {
         "data": {
          "bar": [
           {
            "error_x": {
             "color": "#2a3f5f"
            },
            "error_y": {
             "color": "#2a3f5f"
            },
            "marker": {
             "line": {
              "color": "#E5ECF6",
              "width": 0.5
             },
             "pattern": {
              "fillmode": "overlay",
              "size": 10,
              "solidity": 0.2
             }
            },
            "type": "bar"
           }
          ],
          "barpolar": [
           {
            "marker": {
             "line": {
              "color": "#E5ECF6",
              "width": 0.5
             },
             "pattern": {
              "fillmode": "overlay",
              "size": 10,
              "solidity": 0.2
             }
            },
            "type": "barpolar"
           }
          ],
          "carpet": [
           {
            "aaxis": {
             "endlinecolor": "#2a3f5f",
             "gridcolor": "white",
             "linecolor": "white",
             "minorgridcolor": "white",
             "startlinecolor": "#2a3f5f"
            },
            "baxis": {
             "endlinecolor": "#2a3f5f",
             "gridcolor": "white",
             "linecolor": "white",
             "minorgridcolor": "white",
             "startlinecolor": "#2a3f5f"
            },
            "type": "carpet"
           }
          ],
          "choropleth": [
           {
            "colorbar": {
             "outlinewidth": 0,
             "ticks": ""
            },
            "type": "choropleth"
           }
          ],
          "contour": [
           {
            "colorbar": {
             "outlinewidth": 0,
             "ticks": ""
            },
            "colorscale": [
             [
              0,
              "#0d0887"
             ],
             [
              0.1111111111111111,
              "#46039f"
             ],
             [
              0.2222222222222222,
              "#7201a8"
             ],
             [
              0.3333333333333333,
              "#9c179e"
             ],
             [
              0.4444444444444444,
              "#bd3786"
             ],
             [
              0.5555555555555556,
              "#d8576b"
             ],
             [
              0.6666666666666666,
              "#ed7953"
             ],
             [
              0.7777777777777778,
              "#fb9f3a"
             ],
             [
              0.8888888888888888,
              "#fdca26"
             ],
             [
              1,
              "#f0f921"
             ]
            ],
            "type": "contour"
           }
          ],
          "contourcarpet": [
           {
            "colorbar": {
             "outlinewidth": 0,
             "ticks": ""
            },
            "type": "contourcarpet"
           }
          ],
          "heatmap": [
           {
            "colorbar": {
             "outlinewidth": 0,
             "ticks": ""
            },
            "colorscale": [
             [
              0,
              "#0d0887"
             ],
             [
              0.1111111111111111,
              "#46039f"
             ],
             [
              0.2222222222222222,
              "#7201a8"
             ],
             [
              0.3333333333333333,
              "#9c179e"
             ],
             [
              0.4444444444444444,
              "#bd3786"
             ],
             [
              0.5555555555555556,
              "#d8576b"
             ],
             [
              0.6666666666666666,
              "#ed7953"
             ],
             [
              0.7777777777777778,
              "#fb9f3a"
             ],
             [
              0.8888888888888888,
              "#fdca26"
             ],
             [
              1,
              "#f0f921"
             ]
            ],
            "type": "heatmap"
           }
          ],
          "heatmapgl": [
           {
            "colorbar": {
             "outlinewidth": 0,
             "ticks": ""
            },
            "colorscale": [
             [
              0,
              "#0d0887"
             ],
             [
              0.1111111111111111,
              "#46039f"
             ],
             [
              0.2222222222222222,
              "#7201a8"
             ],
             [
              0.3333333333333333,
              "#9c179e"
             ],
             [
              0.4444444444444444,
              "#bd3786"
             ],
             [
              0.5555555555555556,
              "#d8576b"
             ],
             [
              0.6666666666666666,
              "#ed7953"
             ],
             [
              0.7777777777777778,
              "#fb9f3a"
             ],
             [
              0.8888888888888888,
              "#fdca26"
             ],
             [
              1,
              "#f0f921"
             ]
            ],
            "type": "heatmapgl"
           }
          ],
          "histogram": [
           {
            "marker": {
             "pattern": {
              "fillmode": "overlay",
              "size": 10,
              "solidity": 0.2
             }
            },
            "type": "histogram"
           }
          ],
          "histogram2d": [
           {
            "colorbar": {
             "outlinewidth": 0,
             "ticks": ""
            },
            "colorscale": [
             [
              0,
              "#0d0887"
             ],
             [
              0.1111111111111111,
              "#46039f"
             ],
             [
              0.2222222222222222,
              "#7201a8"
             ],
             [
              0.3333333333333333,
              "#9c179e"
             ],
             [
              0.4444444444444444,
              "#bd3786"
             ],
             [
              0.5555555555555556,
              "#d8576b"
             ],
             [
              0.6666666666666666,
              "#ed7953"
             ],
             [
              0.7777777777777778,
              "#fb9f3a"
             ],
             [
              0.8888888888888888,
              "#fdca26"
             ],
             [
              1,
              "#f0f921"
             ]
            ],
            "type": "histogram2d"
           }
          ],
          "histogram2dcontour": [
           {
            "colorbar": {
             "outlinewidth": 0,
             "ticks": ""
            },
            "colorscale": [
             [
              0,
              "#0d0887"
             ],
             [
              0.1111111111111111,
              "#46039f"
             ],
             [
              0.2222222222222222,
              "#7201a8"
             ],
             [
              0.3333333333333333,
              "#9c179e"
             ],
             [
              0.4444444444444444,
              "#bd3786"
             ],
             [
              0.5555555555555556,
              "#d8576b"
             ],
             [
              0.6666666666666666,
              "#ed7953"
             ],
             [
              0.7777777777777778,
              "#fb9f3a"
             ],
             [
              0.8888888888888888,
              "#fdca26"
             ],
             [
              1,
              "#f0f921"
             ]
            ],
            "type": "histogram2dcontour"
           }
          ],
          "mesh3d": [
           {
            "colorbar": {
             "outlinewidth": 0,
             "ticks": ""
            },
            "type": "mesh3d"
           }
          ],
          "parcoords": [
           {
            "line": {
             "colorbar": {
              "outlinewidth": 0,
              "ticks": ""
             }
            },
            "type": "parcoords"
           }
          ],
          "pie": [
           {
            "automargin": true,
            "type": "pie"
           }
          ],
          "scatter": [
           {
            "fillpattern": {
             "fillmode": "overlay",
             "size": 10,
             "solidity": 0.2
            },
            "type": "scatter"
           }
          ],
          "scatter3d": [
           {
            "line": {
             "colorbar": {
              "outlinewidth": 0,
              "ticks": ""
             }
            },
            "marker": {
             "colorbar": {
              "outlinewidth": 0,
              "ticks": ""
             }
            },
            "type": "scatter3d"
           }
          ],
          "scattercarpet": [
           {
            "marker": {
             "colorbar": {
              "outlinewidth": 0,
              "ticks": ""
             }
            },
            "type": "scattercarpet"
           }
          ],
          "scattergeo": [
           {
            "marker": {
             "colorbar": {
              "outlinewidth": 0,
              "ticks": ""
             }
            },
            "type": "scattergeo"
           }
          ],
          "scattergl": [
           {
            "marker": {
             "colorbar": {
              "outlinewidth": 0,
              "ticks": ""
             }
            },
            "type": "scattergl"
           }
          ],
          "scattermapbox": [
           {
            "marker": {
             "colorbar": {
              "outlinewidth": 0,
              "ticks": ""
             }
            },
            "type": "scattermapbox"
           }
          ],
          "scatterpolar": [
           {
            "marker": {
             "colorbar": {
              "outlinewidth": 0,
              "ticks": ""
             }
            },
            "type": "scatterpolar"
           }
          ],
          "scatterpolargl": [
           {
            "marker": {
             "colorbar": {
              "outlinewidth": 0,
              "ticks": ""
             }
            },
            "type": "scatterpolargl"
           }
          ],
          "scatterternary": [
           {
            "marker": {
             "colorbar": {
              "outlinewidth": 0,
              "ticks": ""
             }
            },
            "type": "scatterternary"
           }
          ],
          "surface": [
           {
            "colorbar": {
             "outlinewidth": 0,
             "ticks": ""
            },
            "colorscale": [
             [
              0,
              "#0d0887"
             ],
             [
              0.1111111111111111,
              "#46039f"
             ],
             [
              0.2222222222222222,
              "#7201a8"
             ],
             [
              0.3333333333333333,
              "#9c179e"
             ],
             [
              0.4444444444444444,
              "#bd3786"
             ],
             [
              0.5555555555555556,
              "#d8576b"
             ],
             [
              0.6666666666666666,
              "#ed7953"
             ],
             [
              0.7777777777777778,
              "#fb9f3a"
             ],
             [
              0.8888888888888888,
              "#fdca26"
             ],
             [
              1,
              "#f0f921"
             ]
            ],
            "type": "surface"
           }
          ],
          "table": [
           {
            "cells": {
             "fill": {
              "color": "#EBF0F8"
             },
             "line": {
              "color": "white"
             }
            },
            "header": {
             "fill": {
              "color": "#C8D4E3"
             },
             "line": {
              "color": "white"
             }
            },
            "type": "table"
           }
          ]
         },
         "layout": {
          "annotationdefaults": {
           "arrowcolor": "#2a3f5f",
           "arrowhead": 0,
           "arrowwidth": 1
          },
          "autotypenumbers": "strict",
          "coloraxis": {
           "colorbar": {
            "outlinewidth": 0,
            "ticks": ""
           }
          },
          "colorscale": {
           "diverging": [
            [
             0,
             "#8e0152"
            ],
            [
             0.1,
             "#c51b7d"
            ],
            [
             0.2,
             "#de77ae"
            ],
            [
             0.3,
             "#f1b6da"
            ],
            [
             0.4,
             "#fde0ef"
            ],
            [
             0.5,
             "#f7f7f7"
            ],
            [
             0.6,
             "#e6f5d0"
            ],
            [
             0.7,
             "#b8e186"
            ],
            [
             0.8,
             "#7fbc41"
            ],
            [
             0.9,
             "#4d9221"
            ],
            [
             1,
             "#276419"
            ]
           ],
           "sequential": [
            [
             0,
             "#0d0887"
            ],
            [
             0.1111111111111111,
             "#46039f"
            ],
            [
             0.2222222222222222,
             "#7201a8"
            ],
            [
             0.3333333333333333,
             "#9c179e"
            ],
            [
             0.4444444444444444,
             "#bd3786"
            ],
            [
             0.5555555555555556,
             "#d8576b"
            ],
            [
             0.6666666666666666,
             "#ed7953"
            ],
            [
             0.7777777777777778,
             "#fb9f3a"
            ],
            [
             0.8888888888888888,
             "#fdca26"
            ],
            [
             1,
             "#f0f921"
            ]
           ],
           "sequentialminus": [
            [
             0,
             "#0d0887"
            ],
            [
             0.1111111111111111,
             "#46039f"
            ],
            [
             0.2222222222222222,
             "#7201a8"
            ],
            [
             0.3333333333333333,
             "#9c179e"
            ],
            [
             0.4444444444444444,
             "#bd3786"
            ],
            [
             0.5555555555555556,
             "#d8576b"
            ],
            [
             0.6666666666666666,
             "#ed7953"
            ],
            [
             0.7777777777777778,
             "#fb9f3a"
            ],
            [
             0.8888888888888888,
             "#fdca26"
            ],
            [
             1,
             "#f0f921"
            ]
           ]
          },
          "colorway": [
           "#636efa",
           "#EF553B",
           "#00cc96",
           "#ab63fa",
           "#FFA15A",
           "#19d3f3",
           "#FF6692",
           "#B6E880",
           "#FF97FF",
           "#FECB52"
          ],
          "font": {
           "color": "#2a3f5f"
          },
          "geo": {
           "bgcolor": "white",
           "lakecolor": "white",
           "landcolor": "#E5ECF6",
           "showlakes": true,
           "showland": true,
           "subunitcolor": "white"
          },
          "hoverlabel": {
           "align": "left"
          },
          "hovermode": "closest",
          "mapbox": {
           "style": "light"
          },
          "paper_bgcolor": "white",
          "plot_bgcolor": "#E5ECF6",
          "polar": {
           "angularaxis": {
            "gridcolor": "white",
            "linecolor": "white",
            "ticks": ""
           },
           "bgcolor": "#E5ECF6",
           "radialaxis": {
            "gridcolor": "white",
            "linecolor": "white",
            "ticks": ""
           }
          },
          "scene": {
           "xaxis": {
            "backgroundcolor": "#E5ECF6",
            "gridcolor": "white",
            "gridwidth": 2,
            "linecolor": "white",
            "showbackground": true,
            "ticks": "",
            "zerolinecolor": "white"
           },
           "yaxis": {
            "backgroundcolor": "#E5ECF6",
            "gridcolor": "white",
            "gridwidth": 2,
            "linecolor": "white",
            "showbackground": true,
            "ticks": "",
            "zerolinecolor": "white"
           },
           "zaxis": {
            "backgroundcolor": "#E5ECF6",
            "gridcolor": "white",
            "gridwidth": 2,
            "linecolor": "white",
            "showbackground": true,
            "ticks": "",
            "zerolinecolor": "white"
           }
          },
          "shapedefaults": {
           "line": {
            "color": "#2a3f5f"
           }
          },
          "ternary": {
           "aaxis": {
            "gridcolor": "white",
            "linecolor": "white",
            "ticks": ""
           },
           "baxis": {
            "gridcolor": "white",
            "linecolor": "white",
            "ticks": ""
           },
           "bgcolor": "#E5ECF6",
           "caxis": {
            "gridcolor": "white",
            "linecolor": "white",
            "ticks": ""
           }
          },
          "title": {
           "x": 0.05
          },
          "xaxis": {
           "automargin": true,
           "gridcolor": "white",
           "linecolor": "white",
           "ticks": "",
           "title": {
            "standoff": 15
           },
           "zerolinecolor": "white",
           "zerolinewidth": 2
          },
          "yaxis": {
           "automargin": true,
           "gridcolor": "white",
           "linecolor": "white",
           "ticks": "",
           "title": {
            "standoff": 15
           },
           "zerolinecolor": "white",
           "zerolinewidth": 2
          }
         }
        }
       }
      }
     },
     "metadata": {},
     "output_type": "display_data"
    }
   ],
   "source": [
    "\n",
    "# Create a Sankey diagram\n",
    "fig = go.Figure()\n",
    "\n",
    "# Calculate the scale factor for link thickness and node size\n",
    "max_value = max(abs(link['value']) for link in links_sc1)\n",
    "scale_factor = 1  # You can adjust this factor to control the scaling\n",
    "\n",
    "# Calculate total outflow for each node and round to 2 decimals\n",
    "outflow_totals = {node: round(sum(link['value'] for link in links_sc1 if link['source'] == node), 2) for node in node_sc1}\n",
    "\n",
    "# Calculate total inflow for each node and round to 2 decimals\n",
    "inflow_totals = {node: round(sum(link['value'] for link in links_sc1 if link['target'] == node), 2) for node in node_sc1}\n",
    "\n",
    "# Determine if a node has only incoming flows\n",
    "incoming_only = {node: inflow_totals[node] > 0 and outflow_totals[node] == 0 for node in node_sc1}\n",
    "\n",
    "# Calculate y-coordinates for nodes based on total outflow or inflow\n",
    "node_y_coordinates = [sum(inflow_totals[node] if incoming_only[node] else outflow_totals[node] for node in node_sc1[:i]) for i in range(len(node_sc1))]\n",
    "incoming_only['Avoided raw mat.'] = True\n",
    "# incoming_only['Raw material'] = False\n",
    "# incoming_only['Production'] = True\n",
    "# incoming_only['Use'] = True\n",
    "# incoming_only['EoL'] = False\n",
    "# Add links\n",
    "fig.add_trace(go.Sankey(\n",
    "    node=dict(\n",
    "        pad=50,\n",
    "        thickness=10,\n",
    "        line=dict(width=[abs(link['value']) / max_value * scale_factor for link in links_sc1]),\n",
    "        label=[f\"{node}<br>{inflow_totals[node] if incoming_only[node] else outflow_totals[node]}%\" for node in node_sc1],\n",
    "        #color=[node_colors.get(node, 'rgba(255, 255, 255, {})') for node in node_sc1],\n",
    "    ),\n",
    "    link=dict(\n",
    "        source=[node_sc1.index(link['source']) for link in links_sc1],\n",
    "        target=[node_sc1.index(link['target']) for link in links_sc1],\n",
    "        value=[abs(link['value']) for link in links_sc1],\n",
    "        #color=[node_colors_links.get(link['source'], 'rgba(255, 255, 255, {})') for link in links_sc1],  # Use source node color for links\n",
    "        line=dict(width=[abs(link['value']) / max_value * scale_factor for link in links_sc1]),\n",
    "    ),\n",
    "    arrangement=\"perpendicular\",\n",
    "    domain=dict(x=[0, 1], y=[0, 1]),\n",
    "))\n",
    "\n",
    "\n",
    "# Show the figure\n",
    "fig.show()\n",
    "# fig.write_image(\"Sankey_alubox_consq.jpg\")\n"
   ]
  }
 ],
 "metadata": {
  "kernelspec": {
   "display_name": "Python 3",
   "language": "python",
   "name": "python3"
  },
  "language_info": {
   "codemirror_mode": {
    "name": "ipython",
    "version": 3
   },
   "file_extension": ".py",
   "mimetype": "text/x-python",
   "name": "python",
   "nbconvert_exporter": "python",
   "pygments_lexer": "ipython3",
   "version": "3.11.9"
  }
 },
 "nbformat": 4,
 "nbformat_minor": 2
}

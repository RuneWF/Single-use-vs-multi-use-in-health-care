{
 "cells": [
  {
   "cell_type": "code",
   "execution_count": 1,
   "metadata": {},
   "outputs": [],
   "source": [
    "# Import packages\n",
    "import matplotlib.pyplot as plt\n",
    "import numpy as np\n",
    "import pandas as pd\n",
    "import matplotlib.ticker as mtick\n",
    "import matplotlib.cm as cm\n",
    "import math\n",
    "import plotly.graph_objects as go\n",
    "from collections import OrderedDict\n",
    "from matplotlib.lines import Line2D  # Import for creating custom legend markers\n",
    "import json\n",
    "import copy\n",
    "import random\n",
    "import re\n",
    "import seaborn as sns\n",
    "import importlib\n",
    "\n",
    "\n",
    "# Import BW25 packages\n",
    "import bw2data as bd\n",
    "import bw2io as bi\n",
    "import bw2calc as bc\n",
    "import bw2analyzer as bwa\n",
    "import brightway2 as bw \n",
    "from bw2calc import LeastSquaresLCA"
   ]
  },
  {
   "cell_type": "code",
   "execution_count": 2,
   "metadata": {},
   "outputs": [
    {
     "name": "stdout",
     "output_type": "stream",
     "text": [
      "Folder name Results created\n",
      "Folder name Results created\n"
     ]
    },
    {
     "data": {
      "text/plain": [
       "<module 'life_cycle_assessment' from 'c:\\\\Users\\\\ruw\\\\Desktop\\\\RA\\\\Single-use-vs-multi-use-in-health-care\\\\Brighway\\\\life_cycle_assessment.py'>"
      ]
     },
     "execution_count": 2,
     "metadata": {},
     "output_type": "execute_result"
    }
   ],
   "source": [
    "from  standards import *\n",
    "import Monte_Carlo as MC\n",
    "import life_cycle_assessment as lc\n",
    "\n",
    "\n",
    "importlib.reload(MC)\n",
    "\n",
    "importlib.reload(lc)"
   ]
  },
  {
   "cell_type": "code",
   "execution_count": 3,
   "metadata": {},
   "outputs": [
    {
     "name": "stdout",
     "output_type": "stream",
     "text": [
      "Folder name Results created\n"
     ]
    }
   ],
   "source": [
    "save_dir = results_folder('Results')\n",
    "\n",
    "file_name = r'Results\\Ananas - APOS.xlsx'\n",
    "file_cont_name = r'Results\\Ananas contribution - APOS.xlsx'\n",
    "sheet_name = 'Ananas'\n",
    "\n",
    "path = r'C:\\Users\\ruw\\Desktop\\RA\\Single-use-vs-multi-use-in-health-care\\Brighway'\n",
    "\n",
    "# Your name variable should be the name of the project.\n",
    "database_project = \"RA - Ofir & Stine 1\"\n",
    "database_name = \"Ananas consq\"\n",
    "\n",
    "flows = ['alubox - APOS', 'PP sheet sc2 - APOS', 'PP sheet sc3 - APOS']\n",
    "flow_legend = ['alubox - APOS sc1', 'PP sheet sc2 - APOS', 'PP sheet sc3 - APOS']\n"
   ]
  },
  {
   "cell_type": "code",
   "execution_count": 5,
   "metadata": {},
   "outputs": [
    {
     "name": "stdout",
     "output_type": "stream",
     "text": [
      "Biosphere database already present!!! No setup is needed\n",
      "Initialization is completed\n",
      "\n",
      "Calculating the LCA results:\n",
      "Calculation 1 of 480 {'alubox raw materials - APOS' (unit, GLO, None): 0.002} acidification 0.0007250559315632639\n",
      "Calculation 2 of 480 {'alubox production - APOS' (unit, GLO, None): 0.002} acidification 0.00010775108450763172\n",
      "Calculation 3 of 480 {'autoclave - APOS' (unit, GLO, None): 0.1111111111111111} acidification 0.0019752481121708826\n",
      "Calculation 4 of 480 {'Handwash - APOS' (unit, GLO, None): 1} acidification 0.00014020340020139404\n",
      "Calculation 5 of 480 {'alubox EoL melting - APOS' (unit, GLO, None): -0.002} acidification -3.542035238681535e-05\n",
      "Calculation 6 of 480 {'alubox EoL mixed sorting - APOS' (unit, GLO, None): -0.002} acidification 1.5232854911369376e-06\n",
      "Calculation 7 of 480 {'transport Alu - APOS' (unit, GLO, None): 1} acidification 6.115378711767334e-06\n",
      "Calculation 8 of 480 {'avoided alubox raw materials - APOS' (unit, GLO, None): -0.002} acidification -0.0006754798597252087\n",
      "acidification at row 0 col 0 has been assigned the list [['alubox raw materials - APOS', 0.0007250559315632639], ['alubox production - APOS', 0.00010775108450763172], ['autoclave - APOS', 0.0019752481121708826], ['Handwash - APOS', 0.00014020340020139404], ['alubox EoL melting - APOS', -3.542035238681535e-05], ['alubox EoL mixed sorting - APOS', 1.5232854911369376e-06], ['transport Alu - APOS', 6.115378711767334e-06], ['avoided alubox raw materials - APOS', -0.0006754798597252087]]\n",
      "Calculation 9 of 480 {'pp production - APOS' (unit, GLO, None): 1} acidification 0.0011963050383067692\n",
      "Calculation 10 of 480 {'autoclave - APOS' (unit, GLO, None): 0.1111111111111111} acidification 0.0019752481121708826\n",
      "Calculation 11 of 480 {'market for corrugated board box' (kilogram, US, None): 0.003852} acidification 2.67035934612878e-05\n",
      "Calculation 12 of 480 {'packaging film production, low density polyethylene' (kilogram, RER, None): 0.01} acidification 0.00012474544031559762\n",
      "Calculation 13 of 480 {'market for polypropylene, granulate' (kilogram, GLO, None): 0.0866} acidification 0.0008184582478388498\n",
      "Calculation 14 of 480 {'market for electricity, high voltage' (kilowatt hour, DK, None): -0.169317841666667} acidification -0.00013401506550091927\n",
      "Calculation 15 of 480 {'transport Plastic - APOS' (unit, GLO, None): 1} acidification 0.0005520046178831616\n",
      "Calculation 16 of 480 {'PE incineration no Energy Recovery - APOS' (kilogram, CH, None): -0.01} acidification 3.7776382827339356e-06\n",
      "Calculation 17 of 480 {'PP incineration no Energy Recovery - APOS' (kilogram, CH, None): -0.0866} acidification 2.7803697109432762e-05\n",
      "Calculation 18 of 480 {'mixed heating grid DK 23 - APOS' (megajoule, GLO, None): -3.04772115} acidification -0.0005785114737832245\n",
      "acidification at row 1 col 0 has been assigned the list [['pp production - APOS', 0.0011963050383067692], ['autoclave - APOS', 0.0019752481121708826], ['market for corrugated board box', 2.67035934612878e-05], ['packaging film production, low density polyethylene', 0.00012474544031559762], ['market for polypropylene, granulate', 0.0008184582478388498], ['market for electricity, high voltage', -0.00013401506550091927], ['transport Plastic - APOS', 0.0005520046178831616], ['PE incineration no Energy Recovery - APOS', 3.7776382827339356e-06], ['PP incineration no Energy Recovery - APOS', 2.7803697109432762e-05], ['mixed heating grid DK 23 - APOS', -0.0005785114737832245]]\n",
      "Calculation 19 of 480 {'pp production - APOS' (unit, GLO, None): 1} acidification 0.0011963050383067692\n",
      "Calculation 20 of 480 {'autoclave - APOS' (unit, GLO, None): 0.1111111111111111} acidification 0.0019752481121708826\n",
      "Calculation 21 of 480 {'market for corrugated board box' (kilogram, RER, None): 0.003852} acidification 1.8152549191514678e-05\n",
      "Calculation 22 of 480 {'packaging film production, low density polyethylene' (kilogram, RoW, None): 0.01} acidification 0.0001347445371457954\n",
      "Calculation 23 of 480 {'market for polypropylene, granulate' (kilogram, GLO, None): 0.0866} acidification 0.0008184582478388498\n",
      "Calculation 24 of 480 {'polyethylene, high density, granulate, recycled to generic market for high density PE granulate' (kilogram, Europe without Switzerland, None): -0.0054} acidification -1.2077417782289696e-05\n",
      "Calculation 25 of 480 {'market for polypropylene, granulate' (kilogram, GLO, None): -0.046764} acidification -0.000441967465812189\n",
      "Calculation 26 of 480 {'market for electricity, high voltage' (kilowatt hour, DK, None): -0.0778862071666667} acidification -6.164693559982114e-05\n",
      "Calculation 27 of 480 {'transport Plastic - APOS' (unit, GLO, None): 1.0} acidification 0.0005520046178831616\n",
      "Calculation 28 of 480 {'PE incineration no Energy Recovery - APOS' (kilogram, CH, None): -0.0046} acidification 1.7377172208956328e-06\n",
      "Calculation 29 of 480 {'PP incineration no Energy Recovery - APOS' (kilogram, CH, None): -0.039836} acidification 1.2789706138017548e-05\n",
      "Calculation 30 of 480 {'mixed heating grid DK 23 - APOS' (megajoule, GLO, None): -1.401951729} acidification -0.0002661152749479998\n",
      "acidification at row 2 col 0 has been assigned the list [['pp production - APOS', 0.0011963050383067692], ['autoclave - APOS', 0.0019752481121708826], ['market for corrugated board box', 1.8152549191514678e-05], ['packaging film production, low density polyethylene', 0.0001347445371457954], ['market for polypropylene, granulate', 0.0008184582478388498], ['polyethylene, high density, granulate, recycled to generic market for high density PE granulate', -1.2077417782289696e-05], ['market for polypropylene, granulate', -0.000441967465812189], ['market for electricity, high voltage', -6.164693559982114e-05], ['transport Plastic - APOS', 0.0005520046178831616], ['PE incineration no Energy Recovery - APOS', 1.7377172208956328e-06], ['PP incineration no Energy Recovery - APOS', 1.2789706138017548e-05], ['mixed heating grid DK 23 - APOS', -0.0002661152749479998]]\n",
      "Calculation 31 of 480 {'alubox raw materials - APOS' (unit, GLO, None): 0.002} climate change 0.1086126037249528\n",
      "Calculation 32 of 480 {'alubox production - APOS' (unit, GLO, None): 0.002} climate change 0.02252759239605634\n",
      "Calculation 33 of 480 {'autoclave - APOS' (unit, GLO, None): 0.1111111111111111} climate change 0.7082072258817945\n",
      "Calculation 34 of 480 {'Handwash - APOS' (unit, GLO, None): 1} climate change 0.023032683045376617\n",
      "Calculation 35 of 480 {'alubox EoL melting - APOS' (unit, GLO, None): -0.002} climate change -0.004142427591912933\n",
      "Calculation 36 of 480 {'alubox EoL mixed sorting - APOS' (unit, GLO, None): -0.002} climate change 0.0001359257682759236\n",
      "Calculation 37 of 480 {'transport Alu - APOS' (unit, GLO, None): 1} climate change 0.0021416452431921636\n",
      "Calculation 38 of 480 {'avoided alubox raw materials - APOS' (unit, GLO, None): -0.002} climate change -0.10074379129214364\n",
      "climate change at row 0 col 1 has been assigned the list [['alubox raw materials - APOS', 0.1086126037249528], ['alubox production - APOS', 0.02252759239605634], ['autoclave - APOS', 0.7082072258817945], ['Handwash - APOS', 0.023032683045376617], ['alubox EoL melting - APOS', -0.004142427591912933], ['alubox EoL mixed sorting - APOS', 0.0001359257682759236], ['transport Alu - APOS', 0.0021416452431921636], ['avoided alubox raw materials - APOS', -0.10074379129214364]]\n",
      "Calculation 39 of 480 {'pp production - APOS' (unit, GLO, None): 1} climate change 0.2646149033415841\n",
      "Calculation 40 of 480 {'autoclave - APOS' (unit, GLO, None): 0.1111111111111111} climate change 0.7082072258817945\n",
      "Calculation 41 of 480 {'market for corrugated board box' (kilogram, US, None): 0.003852} climate change 0.003675974613362197\n",
      "Calculation 42 of 480 {'packaging film production, low density polyethylene' (kilogram, RER, None): 0.01} climate change 0.028713167343073602\n",
      "Calculation 43 of 480 {'market for polypropylene, granulate' (kilogram, GLO, None): 0.0866} climate change 0.19941544109984116\n",
      "Calculation 44 of 480 {'market for electricity, high voltage' (kilowatt hour, DK, None): -0.169317841666667} climate change -0.049852275069206566\n",
      "Calculation 45 of 480 {'transport Plastic - APOS' (unit, GLO, None): 1} climate change 0.05898071824967688\n",
      "Calculation 46 of 480 {'PE incineration no Energy Recovery - APOS' (kilogram, CH, None): -0.01} climate change 0.030197185021479705\n",
      "Calculation 47 of 480 {'PP incineration no Energy Recovery - APOS' (kilogram, CH, None): -0.0866} climate change 0.22086913480512055\n",
      "Calculation 48 of 480 {'mixed heating grid DK 23 - APOS' (megajoule, GLO, None): -3.04772115} climate change -0.1997831212862638\n",
      "climate change at row 1 col 1 has been assigned the list [['pp production - APOS', 0.2646149033415841], ['autoclave - APOS', 0.7082072258817945], ['market for corrugated board box', 0.003675974613362197], ['packaging film production, low density polyethylene', 0.028713167343073602], ['market for polypropylene, granulate', 0.19941544109984116], ['market for electricity, high voltage', -0.049852275069206566], ['transport Plastic - APOS', 0.05898071824967688], ['PE incineration no Energy Recovery - APOS', 0.030197185021479705], ['PP incineration no Energy Recovery - APOS', 0.22086913480512055], ['mixed heating grid DK 23 - APOS', -0.1997831212862638]]\n",
      "Calculation 49 of 480 {'pp production - APOS' (unit, GLO, None): 1} climate change 0.2646149033415841\n",
      "Calculation 50 of 480 {'autoclave - APOS' (unit, GLO, None): 0.1111111111111111} climate change 0.7082072258817945\n",
      "Calculation 51 of 480 {'market for corrugated board box' (kilogram, RER, None): 0.003852} climate change 0.002858973986647068\n",
      "Calculation 52 of 480 {'packaging film production, low density polyethylene' (kilogram, RoW, None): 0.01} climate change 0.030241498140176137\n",
      "Calculation 53 of 480 {'market for polypropylene, granulate' (kilogram, GLO, None): 0.0866} climate change 0.19941544109984116\n",
      "Calculation 54 of 480 {'polyethylene, high density, granulate, recycled to generic market for high density PE granulate' (kilogram, Europe without Switzerland, None): -0.0054} climate change -0.0028704557473317365\n",
      "Calculation 55 of 480 {'market for polypropylene, granulate' (kilogram, GLO, None): -0.046764} climate change -0.10768434107286785\n",
      "Calculation 56 of 480 {'market for electricity, high voltage' (kilowatt hour, DK, None): -0.0778862071666667} climate change -0.022932047846150532\n",
      "Calculation 57 of 480 {'transport Plastic - APOS' (unit, GLO, None): 1.0} climate change 0.05898071824967688\n",
      "Calculation 58 of 480 {'PE incineration no Energy Recovery - APOS' (kilogram, CH, None): -0.0046} climate change 0.013890705978954686\n",
      "Calculation 59 of 480 {'PP incineration no Energy Recovery - APOS' (kilogram, CH, None): -0.039836} climate change 0.10159980332555431\n",
      "Calculation 60 of 480 {'mixed heating grid DK 23 - APOS' (megajoule, GLO, None): -1.401951729} climate change -0.09190023506758777\n",
      "climate change at row 2 col 1 has been assigned the list [['pp production - APOS', 0.2646149033415841], ['autoclave - APOS', 0.7082072258817945], ['market for corrugated board box', 0.002858973986647068], ['packaging film production, low density polyethylene', 0.030241498140176137], ['market for polypropylene, granulate', 0.19941544109984116], ['polyethylene, high density, granulate, recycled to generic market for high density PE granulate', -0.0028704557473317365], ['market for polypropylene, granulate', -0.10768434107286785], ['market for electricity, high voltage', -0.022932047846150532], ['transport Plastic - APOS', 0.05898071824967688], ['PE incineration no Energy Recovery - APOS', 0.013890705978954686], ['PP incineration no Energy Recovery - APOS', 0.10159980332555431], ['mixed heating grid DK 23 - APOS', -0.09190023506758777]]\n",
      "Calculation 61 of 480 {'alubox raw materials - APOS' (unit, GLO, None): 0.002} ecotoxicity: freshwater 0.37300263326073047\n",
      "Calculation 62 of 480 {'alubox production - APOS' (unit, GLO, None): 0.002} ecotoxicity: freshwater 0.10784216872414015\n",
      "Calculation 63 of 480 {'autoclave - APOS' (unit, GLO, None): 0.1111111111111111} ecotoxicity: freshwater 2.284796989137674\n",
      "Calculation 64 of 480 {'Handwash - APOS' (unit, GLO, None): 1} ecotoxicity: freshwater 1.4395713518344806\n",
      "Calculation 65 of 480 {'alubox EoL melting - APOS' (unit, GLO, None): -0.002} ecotoxicity: freshwater -0.13340767926092992\n",
      "Calculation 66 of 480 {'alubox EoL mixed sorting - APOS' (unit, GLO, None): -0.002} ecotoxicity: freshwater 0.0020659734471993978\n",
      "Calculation 67 of 480 {'transport Alu - APOS' (unit, GLO, None): 1} ecotoxicity: freshwater 0.016140781866227836\n",
      "Calculation 68 of 480 {'avoided alubox raw materials - APOS' (unit, GLO, None): -0.002} ecotoxicity: freshwater -0.3432946206625673\n",
      "ecotoxicity: freshwater at row 0 col 2 has been assigned the list [['alubox raw materials - APOS', 0.37300263326073047], ['alubox production - APOS', 0.10784216872414015], ['autoclave - APOS', 2.284796989137674], ['Handwash - APOS', 1.4395713518344806], ['alubox EoL melting - APOS', -0.13340767926092992], ['alubox EoL mixed sorting - APOS', 0.0020659734471993978], ['transport Alu - APOS', 0.016140781866227836], ['avoided alubox raw materials - APOS', -0.3432946206625673]]\n",
      "Calculation 69 of 480 {'pp production - APOS' (unit, GLO, None): 1} ecotoxicity: freshwater 0.772280988019953\n",
      "Calculation 70 of 480 {'autoclave - APOS' (unit, GLO, None): 0.1111111111111111} ecotoxicity: freshwater 2.284796989137674\n",
      "Calculation 71 of 480 {'market for corrugated board box' (kilogram, US, None): 0.003852} ecotoxicity: freshwater 0.033166879790409075\n",
      "Calculation 72 of 480 {'packaging film production, low density polyethylene' (kilogram, RER, None): 0.01} ecotoxicity: freshwater 0.07363432606761794\n",
      "Calculation 73 of 480 {'market for polypropylene, granulate' (kilogram, GLO, None): 0.0866} ecotoxicity: freshwater 0.5005510627426145\n",
      "Calculation 74 of 480 {'market for electricity, high voltage' (kilowatt hour, DK, None): -0.169317841666667} ecotoxicity: freshwater -0.09470177828814492\n",
      "Calculation 75 of 480 {'transport Plastic - APOS' (unit, GLO, None): 1} ecotoxicity: freshwater 0.41223913076902635\n",
      "Calculation 76 of 480 {'PE incineration no Energy Recovery - APOS' (kilogram, CH, None): -0.01} ecotoxicity: freshwater 0.005643108403166825\n",
      "Calculation 77 of 480 {'PP incineration no Energy Recovery - APOS' (kilogram, CH, None): -0.0866} ecotoxicity: freshwater 0.041479398199100306\n",
      "Calculation 78 of 480 {'mixed heating grid DK 23 - APOS' (megajoule, GLO, None): -3.04772115} ecotoxicity: freshwater -0.3173933834994991\n",
      "ecotoxicity: freshwater at row 1 col 2 has been assigned the list [['pp production - APOS', 0.772280988019953], ['autoclave - APOS', 2.284796989137674], ['market for corrugated board box', 0.033166879790409075], ['packaging film production, low density polyethylene', 0.07363432606761794], ['market for polypropylene, granulate', 0.5005510627426145], ['market for electricity, high voltage', -0.09470177828814492], ['transport Plastic - APOS', 0.41223913076902635], ['PE incineration no Energy Recovery - APOS', 0.005643108403166825], ['PP incineration no Energy Recovery - APOS', 0.041479398199100306], ['mixed heating grid DK 23 - APOS', -0.3173933834994991]]\n",
      "Calculation 79 of 480 {'pp production - APOS' (unit, GLO, None): 1} ecotoxicity: freshwater 0.772280988019953\n",
      "Calculation 80 of 480 {'autoclave - APOS' (unit, GLO, None): 0.1111111111111111} ecotoxicity: freshwater 2.284796989137674\n",
      "Calculation 81 of 480 {'market for corrugated board box' (kilogram, RER, None): 0.003852} ecotoxicity: freshwater 0.03052760480206633\n",
      "Calculation 82 of 480 {'packaging film production, low density polyethylene' (kilogram, RoW, None): 0.01} ecotoxicity: freshwater 0.07808292589013217\n",
      "Calculation 83 of 480 {'market for polypropylene, granulate' (kilogram, GLO, None): 0.0866} ecotoxicity: freshwater 0.5005510627426145\n",
      "Calculation 84 of 480 {'polyethylene, high density, granulate, recycled to generic market for high density PE granulate' (kilogram, Europe without Switzerland, None): -0.0054} ecotoxicity: freshwater -0.016369913770854012\n",
      "Calculation 85 of 480 {'market for polypropylene, granulate' (kilogram, GLO, None): -0.046764} ecotoxicity: freshwater -0.27029758432556683\n",
      "Calculation 86 of 480 {'market for electricity, high voltage' (kilowatt hour, DK, None): -0.0778862071666667} ecotoxicity: freshwater -0.04356282265150066\n",
      "Calculation 87 of 480 {'transport Plastic - APOS' (unit, GLO, None): 1.0} ecotoxicity: freshwater 0.41223913076902635\n",
      "Calculation 88 of 480 {'PE incineration no Energy Recovery - APOS' (kilogram, CH, None): -0.0046} ecotoxicity: freshwater 0.0025958329308264924\n",
      "Calculation 89 of 480 {'PP incineration no Energy Recovery - APOS' (kilogram, CH, None): -0.039836} ecotoxicity: freshwater 0.01908052781647225\n",
      "Calculation 90 of 480 {'mixed heating grid DK 23 - APOS' (megajoule, GLO, None): -1.401951729} ecotoxicity: freshwater -0.1460009538783245\n",
      "ecotoxicity: freshwater at row 2 col 2 has been assigned the list [['pp production - APOS', 0.772280988019953], ['autoclave - APOS', 2.284796989137674], ['market for corrugated board box', 0.03052760480206633], ['packaging film production, low density polyethylene', 0.07808292589013217], ['market for polypropylene, granulate', 0.5005510627426145], ['polyethylene, high density, granulate, recycled to generic market for high density PE granulate', -0.016369913770854012], ['market for polypropylene, granulate', -0.27029758432556683], ['market for electricity, high voltage', -0.04356282265150066], ['transport Plastic - APOS', 0.41223913076902635], ['PE incineration no Energy Recovery - APOS', 0.0025958329308264924], ['PP incineration no Energy Recovery - APOS', 0.01908052781647225], ['mixed heating grid DK 23 - APOS', -0.1460009538783245]]\n",
      "Calculation 91 of 480 {'alubox raw materials - APOS' (unit, GLO, None): 0.002} energy resources: non-renewable 1.055651920755387\n",
      "Calculation 92 of 480 {'alubox production - APOS' (unit, GLO, None): 0.002} energy resources: non-renewable 0.37208709243533933\n",
      "Calculation 93 of 480 {'autoclave - APOS' (unit, GLO, None): 0.1111111111111111} energy resources: non-renewable 9.320232201086178\n",
      "Calculation 94 of 480 {'Handwash - APOS' (unit, GLO, None): 1} energy resources: non-renewable 0.19753997158989675\n",
      "Calculation 95 of 480 {'alubox EoL melting - APOS' (unit, GLO, None): -0.002} energy resources: non-renewable -0.04728180741669365\n",
      "Calculation 96 of 480 {'alubox EoL mixed sorting - APOS' (unit, GLO, None): -0.002} energy resources: non-renewable 0.002506148156022826\n",
      "Calculation 97 of 480 {'transport Alu - APOS' (unit, GLO, None): 1} energy resources: non-renewable 0.03016543672429307\n",
      "Calculation 98 of 480 {'avoided alubox raw materials - APOS' (unit, GLO, None): -0.002} energy resources: non-renewable -0.9762025484995325\n",
      "energy resources: non-renewable at row 0 col 3 has been assigned the list [['alubox raw materials - APOS', 1.055651920755387], ['alubox production - APOS', 0.37208709243533933], ['autoclave - APOS', 9.320232201086178], ['Handwash - APOS', 0.19753997158989675], ['alubox EoL melting - APOS', -0.04728180741669365], ['alubox EoL mixed sorting - APOS', 0.002506148156022826], ['transport Alu - APOS', 0.03016543672429307], ['avoided alubox raw materials - APOS', -0.9762025484995325]]\n",
      "Calculation 99 of 480 {'pp production - APOS' (unit, GLO, None): 1} energy resources: non-renewable 7.493312483928413\n",
      "Calculation 100 of 480 {'autoclave - APOS' (unit, GLO, None): 0.1111111111111111} energy resources: non-renewable 9.320232201086178\n",
      "Calculation 101 of 480 {'market for corrugated board box' (kilogram, US, None): 0.003852} energy resources: non-renewable 0.06710555827688532\n",
      "Calculation 102 of 480 {'packaging film production, low density polyethylene' (kilogram, RER, None): 0.01} energy resources: non-renewable 0.8578296591709276\n",
      "Calculation 103 of 480 {'market for polypropylene, granulate' (kilogram, GLO, None): 0.0866} energy resources: non-renewable 6.630435514769195\n",
      "Calculation 104 of 480 {'market for electricity, high voltage' (kilowatt hour, DK, None): -0.169317841666667} energy resources: non-renewable -0.5972356308764937\n",
      "Calculation 105 of 480 {'transport Plastic - APOS' (unit, GLO, None): 1} energy resources: non-renewable 0.7424107857292208\n",
      "Calculation 106 of 480 {'PE incineration no Energy Recovery - APOS' (kilogram, CH, None): -0.01} energy resources: non-renewable 0.0022300003604454723\n",
      "Calculation 107 of 480 {'PP incineration no Energy Recovery - APOS' (kilogram, CH, None): -0.0866} energy resources: non-renewable 0.01682911050517309\n",
      "Calculation 108 of 480 {'mixed heating grid DK 23 - APOS' (megajoule, GLO, None): -3.04772115} energy resources: non-renewable -1.4733667649356903\n",
      "energy resources: non-renewable at row 1 col 3 has been assigned the list [['pp production - APOS', 7.493312483928413], ['autoclave - APOS', 9.320232201086178], ['market for corrugated board box', 0.06710555827688532], ['packaging film production, low density polyethylene', 0.8578296591709276], ['market for polypropylene, granulate', 6.630435514769195], ['market for electricity, high voltage', -0.5972356308764937], ['transport Plastic - APOS', 0.7424107857292208], ['PE incineration no Energy Recovery - APOS', 0.0022300003604454723], ['PP incineration no Energy Recovery - APOS', 0.01682911050517309], ['mixed heating grid DK 23 - APOS', -1.4733667649356903]]\n",
      "Calculation 109 of 480 {'pp production - APOS' (unit, GLO, None): 1} energy resources: non-renewable 7.493312483928413\n",
      "Calculation 110 of 480 {'autoclave - APOS' (unit, GLO, None): 0.1111111111111111} energy resources: non-renewable 9.320232201086178\n",
      "Calculation 111 of 480 {'market for corrugated board box' (kilogram, RER, None): 0.003852} energy resources: non-renewable 0.050462360501525014\n",
      "Calculation 112 of 480 {'packaging film production, low density polyethylene' (kilogram, RoW, None): 0.01} energy resources: non-renewable 0.8626038641416826\n",
      "Calculation 113 of 480 {'market for polypropylene, granulate' (kilogram, GLO, None): 0.0866} energy resources: non-renewable 6.630435514769195\n",
      "Calculation 114 of 480 {'polyethylene, high density, granulate, recycled to generic market for high density PE granulate' (kilogram, Europe without Switzerland, None): -0.0054} energy resources: non-renewable -0.041116205728852016\n",
      "Calculation 115 of 480 {'market for polypropylene, granulate' (kilogram, GLO, None): -0.046764} energy resources: non-renewable -3.5804352026610298\n",
      "Calculation 116 of 480 {'market for electricity, high voltage' (kilowatt hour, DK, None): -0.0778862071666667} energy resources: non-renewable -0.27472840129159765\n",
      "Calculation 117 of 480 {'transport Plastic - APOS' (unit, GLO, None): 1.0} energy resources: non-renewable 0.7424107857292208\n",
      "Calculation 118 of 480 {'PE incineration no Energy Recovery - APOS' (kilogram, CH, None): -0.0046} energy resources: non-renewable 0.0010258075016223432\n",
      "Calculation 119 of 480 {'PP incineration no Energy Recovery - APOS' (kilogram, CH, None): -0.039836} energy resources: non-renewable 0.007741401938379548\n",
      "Calculation 120 of 480 {'mixed heating grid DK 23 - APOS' (megajoule, GLO, None): -1.401951729} energy resources: non-renewable -0.6777487057726927\n",
      "energy resources: non-renewable at row 2 col 3 has been assigned the list [['pp production - APOS', 7.493312483928413], ['autoclave - APOS', 9.320232201086178], ['market for corrugated board box', 0.050462360501525014], ['packaging film production, low density polyethylene', 0.8626038641416826], ['market for polypropylene, granulate', 6.630435514769195], ['polyethylene, high density, granulate, recycled to generic market for high density PE granulate', -0.041116205728852016], ['market for polypropylene, granulate', -3.5804352026610298], ['market for electricity, high voltage', -0.27472840129159765], ['transport Plastic - APOS', 0.7424107857292208], ['PE incineration no Energy Recovery - APOS', 0.0010258075016223432], ['PP incineration no Energy Recovery - APOS', 0.007741401938379548], ['mixed heating grid DK 23 - APOS', -0.6777487057726927]]\n",
      "Calculation 121 of 480 {'alubox raw materials - APOS' (unit, GLO, None): 0.002} eutrophication: freshwater 3.503277211527829e-05\n",
      "Calculation 122 of 480 {'alubox production - APOS' (unit, GLO, None): 0.002} eutrophication: freshwater 1.3580723730701547e-05\n",
      "Calculation 123 of 480 {'autoclave - APOS' (unit, GLO, None): 0.1111111111111111} eutrophication: freshwater 0.00040089198414453156\n",
      "Calculation 124 of 480 {'Handwash - APOS' (unit, GLO, None): 1} eutrophication: freshwater 0.00018813322931458628\n",
      "Calculation 125 of 480 {'alubox EoL melting - APOS' (unit, GLO, None): -0.002} eutrophication: freshwater -2.8619237482461717e-06\n",
      "Calculation 126 of 480 {'alubox EoL mixed sorting - APOS' (unit, GLO, None): -0.002} eutrophication: freshwater 9.884352744594782e-08\n",
      "Calculation 127 of 480 {'transport Alu - APOS' (unit, GLO, None): 1} eutrophication: freshwater 1.761055678180064e-07\n",
      "Calculation 128 of 480 {'avoided alubox raw materials - APOS' (unit, GLO, None): -0.002} eutrophication: freshwater -3.245333332633467e-05\n",
      "eutrophication: freshwater at row 0 col 4 has been assigned the list [['alubox raw materials - APOS', 3.503277211527829e-05], ['alubox production - APOS', 1.3580723730701547e-05], ['autoclave - APOS', 0.00040089198414453156], ['Handwash - APOS', 0.00018813322931458628], ['alubox EoL melting - APOS', -2.8619237482461717e-06], ['alubox EoL mixed sorting - APOS', 9.884352744594782e-08], ['transport Alu - APOS', 1.761055678180064e-07], ['avoided alubox raw materials - APOS', -3.245333332633467e-05]]\n",
      "Calculation 129 of 480 {'pp production - APOS' (unit, GLO, None): 1} eutrophication: freshwater 5.869796012274111e-05\n",
      "Calculation 130 of 480 {'autoclave - APOS' (unit, GLO, None): 0.1111111111111111} eutrophication: freshwater 0.00040089198414453156\n",
      "Calculation 131 of 480 {'market for corrugated board box' (kilogram, US, None): 0.003852} eutrophication: freshwater 1.411071985504989e-06\n",
      "Calculation 132 of 480 {'packaging film production, low density polyethylene' (kilogram, RER, None): 0.01} eutrophication: freshwater 7.932736825412158e-06\n",
      "Calculation 133 of 480 {'market for polypropylene, granulate' (kilogram, GLO, None): 0.0866} eutrophication: freshwater 3.393028122728715e-05\n",
      "Calculation 134 of 480 {'market for electricity, high voltage' (kilowatt hour, DK, None): -0.169317841666667} eutrophication: freshwater -2.9389845710040158e-05\n",
      "Calculation 135 of 480 {'transport Plastic - APOS' (unit, GLO, None): 1} eutrophication: freshwater 6.793795362564497e-06\n",
      "Calculation 136 of 480 {'PE incineration no Energy Recovery - APOS' (kilogram, CH, None): -0.01} eutrophication: freshwater 2.655072989693778e-08\n",
      "Calculation 137 of 480 {'PP incineration no Energy Recovery - APOS' (kilogram, CH, None): -0.0866} eutrophication: freshwater 2.0903101140263799e-07\n",
      "Calculation 138 of 480 {'mixed heating grid DK 23 - APOS' (megajoule, GLO, None): -3.04772115} eutrophication: freshwater -3.268172823060827e-05\n",
      "eutrophication: freshwater at row 1 col 4 has been assigned the list [['pp production - APOS', 5.869796012274111e-05], ['autoclave - APOS', 0.00040089198414453156], ['market for corrugated board box', 1.411071985504989e-06], ['packaging film production, low density polyethylene', 7.932736825412158e-06], ['market for polypropylene, granulate', 3.393028122728715e-05], ['market for electricity, high voltage', -2.9389845710040158e-05], ['transport Plastic - APOS', 6.793795362564497e-06], ['PE incineration no Energy Recovery - APOS', 2.655072989693778e-08], ['PP incineration no Energy Recovery - APOS', 2.0903101140263799e-07], ['mixed heating grid DK 23 - APOS', -3.268172823060827e-05]]\n",
      "Calculation 139 of 480 {'pp production - APOS' (unit, GLO, None): 1} eutrophication: freshwater 5.869796012274111e-05\n",
      "Calculation 140 of 480 {'autoclave - APOS' (unit, GLO, None): 0.1111111111111111} eutrophication: freshwater 0.00040089198414453156\n",
      "Calculation 141 of 480 {'market for corrugated board box' (kilogram, RER, None): 0.003852} eutrophication: freshwater 2.084474125420433e-06\n",
      "Calculation 142 of 480 {'packaging film production, low density polyethylene' (kilogram, RoW, None): 0.01} eutrophication: freshwater 7.89696713972557e-06\n",
      "Calculation 143 of 480 {'market for polypropylene, granulate' (kilogram, GLO, None): 0.0866} eutrophication: freshwater 3.393028122728715e-05\n",
      "Calculation 144 of 480 {'polyethylene, high density, granulate, recycled to generic market for high density PE granulate' (kilogram, Europe without Switzerland, None): -0.0054} eutrophication: freshwater -5.278921563630777e-06\n",
      "Calculation 145 of 480 {'market for polypropylene, granulate' (kilogram, GLO, None): -0.046764} eutrophication: freshwater -1.8322352534629955e-05\n",
      "Calculation 146 of 480 {'market for electricity, high voltage' (kilowatt hour, DK, None): -0.0778862071666667} eutrophication: freshwater -1.3519329304086353e-05\n",
      "Calculation 147 of 480 {'transport Plastic - APOS' (unit, GLO, None): 1.0} eutrophication: freshwater 6.793795362564497e-06\n",
      "Calculation 148 of 480 {'PE incineration no Energy Recovery - APOS' (kilogram, CH, None): -0.0046} eutrophication: freshwater 1.2213519726529524e-08\n",
      "Calculation 149 of 480 {'PP incineration no Energy Recovery - APOS' (kilogram, CH, None): -0.039836} eutrophication: freshwater 9.615454454137218e-08\n",
      "Calculation 150 of 480 {'mixed heating grid DK 23 - APOS' (megajoule, GLO, None): -1.401951729} eutrophication: freshwater -1.503359483444953e-05\n",
      "eutrophication: freshwater at row 2 col 4 has been assigned the list [['pp production - APOS', 5.869796012274111e-05], ['autoclave - APOS', 0.00040089198414453156], ['market for corrugated board box', 2.084474125420433e-06], ['packaging film production, low density polyethylene', 7.89696713972557e-06], ['market for polypropylene, granulate', 3.393028122728715e-05], ['polyethylene, high density, granulate, recycled to generic market for high density PE granulate', -5.278921563630777e-06], ['market for polypropylene, granulate', -1.8322352534629955e-05], ['market for electricity, high voltage', -1.3519329304086353e-05], ['transport Plastic - APOS', 6.793795362564497e-06], ['PE incineration no Energy Recovery - APOS', 1.2213519726529524e-08], ['PP incineration no Energy Recovery - APOS', 9.615454454137218e-08], ['mixed heating grid DK 23 - APOS', -1.503359483444953e-05]]\n",
      "Calculation 151 of 480 {'alubox raw materials - APOS' (unit, GLO, None): 0.002} eutrophication: marine 0.00011955525212217012\n",
      "Calculation 152 of 480 {'alubox production - APOS' (unit, GLO, None): 0.002} eutrophication: marine 2.377725787396455e-05\n",
      "Calculation 153 of 480 {'autoclave - APOS' (unit, GLO, None): 0.1111111111111111} eutrophication: marine 0.0006595969497412943\n",
      "Calculation 154 of 480 {'Handwash - APOS' (unit, GLO, None): 1} eutrophication: marine 0.00034366552635333315\n",
      "Calculation 155 of 480 {'alubox EoL melting - APOS' (unit, GLO, None): -0.002} eutrophication: marine -4.74687910259186e-06\n",
      "Calculation 156 of 480 {'alubox EoL mixed sorting - APOS' (unit, GLO, None): -0.002} eutrophication: marine 2.623288098365754e-07\n",
      "Calculation 157 of 480 {'transport Alu - APOS' (unit, GLO, None): 1} eutrophication: marine 1.509522288928564e-06\n",
      "Calculation 158 of 480 {'avoided alubox raw materials - APOS' (unit, GLO, None): -0.002} eutrophication: marine -0.00011110135684603206\n",
      "eutrophication: marine at row 0 col 5 has been assigned the list [['alubox raw materials - APOS', 0.00011955525212217012], ['alubox production - APOS', 2.377725787396455e-05], ['autoclave - APOS', 0.0006595969497412943], ['Handwash - APOS', 0.00034366552635333315], ['alubox EoL melting - APOS', -4.74687910259186e-06], ['alubox EoL mixed sorting - APOS', 2.623288098365754e-07], ['transport Alu - APOS', 1.509522288928564e-06], ['avoided alubox raw materials - APOS', -0.00011110135684603206]]\n",
      "Calculation 159 of 480 {'pp production - APOS' (unit, GLO, None): 1} eutrophication: marine 0.0002462900559747955\n",
      "Calculation 160 of 480 {'autoclave - APOS' (unit, GLO, None): 0.1111111111111111} eutrophication: marine 0.0006595969497412943\n",
      "Calculation 161 of 480 {'market for corrugated board box' (kilogram, US, None): 0.003852} eutrophication: marine 1.0174945830432177e-05\n",
      "Calculation 162 of 480 {'packaging film production, low density polyethylene' (kilogram, RER, None): 0.01} eutrophication: marine 2.5596811846245358e-05\n",
      "Calculation 163 of 480 {'market for polypropylene, granulate' (kilogram, GLO, None): 0.0866} eutrophication: marine 0.00015738200751256654\n",
      "Calculation 164 of 480 {'market for electricity, high voltage' (kilowatt hour, DK, None): -0.169317841666667} eutrophication: marine -3.578735054476032e-05\n",
      "Calculation 165 of 480 {'transport Plastic - APOS' (unit, GLO, None): 1} eutrophication: marine 0.0002384243479738094\n",
      "Calculation 166 of 480 {'PE incineration no Energy Recovery - APOS' (kilogram, CH, None): -0.01} eutrophication: marine 1.9512695343909066e-06\n",
      "Calculation 167 of 480 {'PP incineration no Energy Recovery - APOS' (kilogram, CH, None): -0.0866} eutrophication: marine 1.4316376055859538e-05\n",
      "Calculation 168 of 480 {'mixed heating grid DK 23 - APOS' (megajoule, GLO, None): -3.04772115} eutrophication: marine -0.0001533984945388\n",
      "eutrophication: marine at row 1 col 5 has been assigned the list [['pp production - APOS', 0.0002462900559747955], ['autoclave - APOS', 0.0006595969497412943], ['market for corrugated board box', 1.0174945830432177e-05], ['packaging film production, low density polyethylene', 2.5596811846245358e-05], ['market for polypropylene, granulate', 0.00015738200751256654], ['market for electricity, high voltage', -3.578735054476032e-05], ['transport Plastic - APOS', 0.0002384243479738094], ['PE incineration no Energy Recovery - APOS', 1.9512695343909066e-06], ['PP incineration no Energy Recovery - APOS', 1.4316376055859538e-05], ['mixed heating grid DK 23 - APOS', -0.0001533984945388]]\n",
      "Calculation 169 of 480 {'pp production - APOS' (unit, GLO, None): 1} eutrophication: marine 0.0002462900559747955\n",
      "Calculation 170 of 480 {'autoclave - APOS' (unit, GLO, None): 0.1111111111111111} eutrophication: marine 0.0006595969497412943\n",
      "Calculation 171 of 480 {'market for corrugated board box' (kilogram, RER, None): 0.003852} eutrophication: marine 1.1439767269804913e-05\n",
      "Calculation 172 of 480 {'packaging film production, low density polyethylene' (kilogram, RoW, None): 0.01} eutrophication: marine 2.7782852060327896e-05\n",
      "Calculation 173 of 480 {'market for polypropylene, granulate' (kilogram, GLO, None): 0.0866} eutrophication: marine 0.00015738200751256654\n",
      "Calculation 174 of 480 {'polyethylene, high density, granulate, recycled to generic market for high density PE granulate' (kilogram, Europe without Switzerland, None): -0.0054} eutrophication: marine -3.636429863666127e-06\n",
      "Calculation 175 of 480 {'market for polypropylene, granulate' (kilogram, GLO, None): -0.046764} eutrophication: marine -8.498628751064222e-05\n",
      "Calculation 176 of 480 {'market for electricity, high voltage' (kilowatt hour, DK, None): -0.0778862071666667} eutrophication: marine -1.646218287020272e-05\n",
      "Calculation 177 of 480 {'transport Plastic - APOS' (unit, GLO, None): 1.0} eutrophication: marine 0.0002384243479738094\n",
      "Calculation 178 of 480 {'PE incineration no Energy Recovery - APOS' (kilogram, CH, None): -0.0046} eutrophication: marine 8.975850552128324e-07\n",
      "Calculation 179 of 480 {'PP incineration no Energy Recovery - APOS' (kilogram, CH, None): -0.039836} eutrophication: marine 6.585534603370683e-06\n",
      "Calculation 180 of 480 {'mixed heating grid DK 23 - APOS' (megajoule, GLO, None): -1.401951729} eutrophication: marine -7.056330659721652e-05\n",
      "eutrophication: marine at row 2 col 5 has been assigned the list [['pp production - APOS', 0.0002462900559747955], ['autoclave - APOS', 0.0006595969497412943], ['market for corrugated board box', 1.1439767269804913e-05], ['packaging film production, low density polyethylene', 2.7782852060327896e-05], ['market for polypropylene, granulate', 0.00015738200751256654], ['polyethylene, high density, granulate, recycled to generic market for high density PE granulate', -3.636429863666127e-06], ['market for polypropylene, granulate', -8.498628751064222e-05], ['market for electricity, high voltage', -1.646218287020272e-05], ['transport Plastic - APOS', 0.0002384243479738094], ['PE incineration no Energy Recovery - APOS', 8.975850552128324e-07], ['PP incineration no Energy Recovery - APOS', 6.585534603370683e-06], ['mixed heating grid DK 23 - APOS', -7.056330659721652e-05]]\n",
      "Calculation 181 of 480 {'alubox raw materials - APOS' (unit, GLO, None): 0.002} eutrophication: terrestrial 0.0012413198585818136\n",
      "Calculation 182 of 480 {'alubox production - APOS' (unit, GLO, None): 0.002} eutrophication: terrestrial 0.00018876076215115504\n",
      "Calculation 183 of 480 {'autoclave - APOS' (unit, GLO, None): 0.1111111111111111} eutrophication: terrestrial 0.00548024922997112\n",
      "Calculation 184 of 480 {'Handwash - APOS' (unit, GLO, None): 1} eutrophication: terrestrial 0.0004732941973163514\n",
      "Calculation 185 of 480 {'alubox EoL melting - APOS' (unit, GLO, None): -0.002} eutrophication: terrestrial -5.2614393051530886e-05\n",
      "Calculation 186 of 480 {'alubox EoL mixed sorting - APOS' (unit, GLO, None): -0.002} eutrophication: terrestrial 3.403653990085881e-06\n",
      "Calculation 187 of 480 {'transport Alu - APOS' (unit, GLO, None): 1} eutrophication: terrestrial 1.5606272416656967e-05\n",
      "Calculation 188 of 480 {'avoided alubox raw materials - APOS' (unit, GLO, None): -0.002} eutrophication: terrestrial -0.0011535866654044705\n",
      "eutrophication: terrestrial at row 0 col 6 has been assigned the list [['alubox raw materials - APOS', 0.0012413198585818136], ['alubox production - APOS', 0.00018876076215115504], ['autoclave - APOS', 0.00548024922997112], ['Handwash - APOS', 0.0004732941973163514], ['alubox EoL melting - APOS', -5.2614393051530886e-05], ['alubox EoL mixed sorting - APOS', 3.403653990085881e-06], ['transport Alu - APOS', 1.5606272416656967e-05], ['avoided alubox raw materials - APOS', -0.0011535866654044705]]\n",
      "Calculation 189 of 480 {'pp production - APOS' (unit, GLO, None): 1} eutrophication: terrestrial 0.002562518048103344\n",
      "Calculation 190 of 480 {'autoclave - APOS' (unit, GLO, None): 0.1111111111111111} eutrophication: terrestrial 0.00548024922997112\n",
      "Calculation 191 of 480 {'market for corrugated board box' (kilogram, US, None): 0.003852} eutrophication: terrestrial 7.28627046867078e-05\n",
      "Calculation 192 of 480 {'packaging film production, low density polyethylene' (kilogram, RER, None): 0.01} eutrophication: terrestrial 0.00025708460253174556\n",
      "Calculation 193 of 480 {'market for polypropylene, granulate' (kilogram, GLO, None): 0.0866} eutrophication: terrestrial 0.0016571532316424417\n",
      "Calculation 194 of 480 {'market for electricity, high voltage' (kilowatt hour, DK, None): -0.169317841666667} eutrophication: terrestrial -0.00038729613189230066\n",
      "Calculation 195 of 480 {'transport Plastic - APOS' (unit, GLO, None): 1} eutrophication: terrestrial 0.0025853537906914735\n",
      "Calculation 196 of 480 {'PE incineration no Energy Recovery - APOS' (kilogram, CH, None): -0.01} eutrophication: terrestrial 1.986108341945743e-05\n",
      "Calculation 197 of 480 {'PP incineration no Energy Recovery - APOS' (kilogram, CH, None): -0.0866} eutrophication: terrestrial 0.00014572826512747412\n",
      "Calculation 198 of 480 {'mixed heating grid DK 23 - APOS' (megajoule, GLO, None): -3.04772115} eutrophication: terrestrial -0.0016894255198225715\n",
      "eutrophication: terrestrial at row 1 col 6 has been assigned the list [['pp production - APOS', 0.002562518048103344], ['autoclave - APOS', 0.00548024922997112], ['market for corrugated board box', 7.28627046867078e-05], ['packaging film production, low density polyethylene', 0.00025708460253174556], ['market for polypropylene, granulate', 0.0016571532316424417], ['market for electricity, high voltage', -0.00038729613189230066], ['transport Plastic - APOS', 0.0025853537906914735], ['PE incineration no Energy Recovery - APOS', 1.986108341945743e-05], ['PP incineration no Energy Recovery - APOS', 0.00014572826512747412], ['mixed heating grid DK 23 - APOS', -0.0016894255198225715]]\n",
      "Calculation 199 of 480 {'pp production - APOS' (unit, GLO, None): 1} eutrophication: terrestrial 0.002562518048103344\n",
      "Calculation 200 of 480 {'autoclave - APOS' (unit, GLO, None): 0.1111111111111111} eutrophication: terrestrial 0.00548024922997112\n",
      "Calculation 201 of 480 {'market for corrugated board box' (kilogram, RER, None): 0.003852} eutrophication: terrestrial 5.727852912985691e-05\n",
      "Calculation 202 of 480 {'packaging film production, low density polyethylene' (kilogram, RoW, None): 0.01} eutrophication: terrestrial 0.0002809746135592846\n",
      "Calculation 203 of 480 {'market for polypropylene, granulate' (kilogram, GLO, None): 0.0866} eutrophication: terrestrial 0.0016571532316424417\n",
      "Calculation 204 of 480 {'polyethylene, high density, granulate, recycled to generic market for high density PE granulate' (kilogram, Europe without Switzerland, None): -0.0054} eutrophication: terrestrial -2.7310362616371962e-05\n",
      "Calculation 205 of 480 {'market for polypropylene, granulate' (kilogram, GLO, None): -0.046764} eutrophication: terrestrial -0.0008948627825584791\n",
      "Calculation 206 of 480 {'market for electricity, high voltage' (kilowatt hour, DK, None): -0.0778862071666667} eutrophication: terrestrial -0.0001781562380612598\n",
      "Calculation 207 of 480 {'transport Plastic - APOS' (unit, GLO, None): 1.0} eutrophication: terrestrial 0.0025853537906914735\n",
      "Calculation 208 of 480 {'PE incineration no Energy Recovery - APOS' (kilogram, CH, None): -0.0046} eutrophication: terrestrial 9.136109856312264e-06\n",
      "Calculation 209 of 480 {'PP incineration no Energy Recovery - APOS' (kilogram, CH, None): -0.039836} eutrophication: terrestrial 6.703501932181883e-05\n",
      "Calculation 210 of 480 {'mixed heating grid DK 23 - APOS' (megajoule, GLO, None): -1.401951729} eutrophication: terrestrial -0.0007771357295714096\n",
      "eutrophication: terrestrial at row 2 col 6 has been assigned the list [['pp production - APOS', 0.002562518048103344], ['autoclave - APOS', 0.00548024922997112], ['market for corrugated board box', 5.727852912985691e-05], ['packaging film production, low density polyethylene', 0.0002809746135592846], ['market for polypropylene, granulate', 0.0016571532316424417], ['polyethylene, high density, granulate, recycled to generic market for high density PE granulate', -2.7310362616371962e-05], ['market for polypropylene, granulate', -0.0008948627825584791], ['market for electricity, high voltage', -0.0001781562380612598], ['transport Plastic - APOS', 0.0025853537906914735], ['PE incineration no Energy Recovery - APOS', 9.136109856312264e-06], ['PP incineration no Energy Recovery - APOS', 6.703501932181883e-05], ['mixed heating grid DK 23 - APOS', -0.0007771357295714096]]\n",
      "Calculation 211 of 480 {'alubox raw materials - APOS' (unit, GLO, None): 0.002} human toxicity: carcinogenic 3.0932799454248006e-10\n",
      "Calculation 212 of 480 {'alubox production - APOS' (unit, GLO, None): 0.002} human toxicity: carcinogenic 5.414547563532753e-11\n",
      "Calculation 213 of 480 {'autoclave - APOS' (unit, GLO, None): 0.1111111111111111} human toxicity: carcinogenic 3.7733352129417023e-10\n",
      "Calculation 214 of 480 {'Handwash - APOS' (unit, GLO, None): 1} human toxicity: carcinogenic 4.297342210743669e-11\n",
      "Calculation 215 of 480 {'alubox EoL melting - APOS' (unit, GLO, None): -0.002} human toxicity: carcinogenic -9.761176290071157e-12\n",
      "Calculation 216 of 480 {'alubox EoL mixed sorting - APOS' (unit, GLO, None): -0.002} human toxicity: carcinogenic 7.473536616166708e-13\n",
      "Calculation 217 of 480 {'transport Alu - APOS' (unit, GLO, None): 1} human toxicity: carcinogenic 1.0413228146744784e-12\n",
      "Calculation 218 of 480 {'avoided alubox raw materials - APOS' (unit, GLO, None): -0.002} human toxicity: carcinogenic -2.423575281677906e-10\n",
      "human toxicity: carcinogenic at row 0 col 7 has been assigned the list [['alubox raw materials - APOS', 3.0932799454248006e-10], ['alubox production - APOS', 5.414547563532753e-11], ['autoclave - APOS', 3.7733352129417023e-10], ['Handwash - APOS', 4.297342210743669e-11], ['alubox EoL melting - APOS', -9.761176290071157e-12], ['alubox EoL mixed sorting - APOS', 7.473536616166708e-13], ['transport Alu - APOS', 1.0413228146744784e-12], ['avoided alubox raw materials - APOS', -2.423575281677906e-10]]\n",
      "Calculation 219 of 480 {'pp production - APOS' (unit, GLO, None): 1} human toxicity: carcinogenic 9.046429734846951e-11\n",
      "Calculation 220 of 480 {'autoclave - APOS' (unit, GLO, None): 0.1111111111111111} human toxicity: carcinogenic 3.7733352129417023e-10\n",
      "Calculation 221 of 480 {'market for corrugated board box' (kilogram, US, None): 0.003852} human toxicity: carcinogenic 6.0492680033956566e-12\n",
      "Calculation 222 of 480 {'packaging film production, low density polyethylene' (kilogram, RER, None): 0.01} human toxicity: carcinogenic 1.1273717482873541e-11\n",
      "Calculation 223 of 480 {'market for polypropylene, granulate' (kilogram, GLO, None): 0.0866} human toxicity: carcinogenic 5.726240549137249e-11\n",
      "Calculation 224 of 480 {'market for electricity, high voltage' (kilowatt hour, DK, None): -0.169317841666667} human toxicity: carcinogenic -2.0518565712308205e-11\n",
      "Calculation 225 of 480 {'transport Plastic - APOS' (unit, GLO, None): 1} human toxicity: carcinogenic 4.917193953354098e-11\n",
      "Calculation 226 of 480 {'PE incineration no Energy Recovery - APOS' (kilogram, CH, None): -0.01} human toxicity: carcinogenic 6.902054966924708e-13\n",
      "Calculation 227 of 480 {'PP incineration no Energy Recovery - APOS' (kilogram, CH, None): -0.0866} human toxicity: carcinogenic 5.306681719365839e-12\n",
      "Calculation 228 of 480 {'mixed heating grid DK 23 - APOS' (megajoule, GLO, None): -3.04772115} human toxicity: carcinogenic -7.442455087884501e-11\n",
      "human toxicity: carcinogenic at row 1 col 7 has been assigned the list [['pp production - APOS', 9.046429734846951e-11], ['autoclave - APOS', 3.7733352129417023e-10], ['market for corrugated board box', 6.0492680033956566e-12], ['packaging film production, low density polyethylene', 1.1273717482873541e-11], ['market for polypropylene, granulate', 5.726240549137249e-11], ['market for electricity, high voltage', -2.0518565712308205e-11], ['transport Plastic - APOS', 4.917193953354098e-11], ['PE incineration no Energy Recovery - APOS', 6.902054966924708e-13], ['PP incineration no Energy Recovery - APOS', 5.306681719365839e-12], ['mixed heating grid DK 23 - APOS', -7.442455087884501e-11]]\n",
      "Calculation 229 of 480 {'pp production - APOS' (unit, GLO, None): 1} human toxicity: carcinogenic 9.046429734846951e-11\n",
      "Calculation 230 of 480 {'autoclave - APOS' (unit, GLO, None): 0.1111111111111111} human toxicity: carcinogenic 3.7733352129417023e-10\n",
      "Calculation 231 of 480 {'market for corrugated board box' (kilogram, RER, None): 0.003852} human toxicity: carcinogenic 2.3912040636115256e-12\n",
      "Calculation 232 of 480 {'packaging film production, low density polyethylene' (kilogram, RoW, None): 0.01} human toxicity: carcinogenic 1.2309842469810732e-11\n",
      "Calculation 233 of 480 {'market for polypropylene, granulate' (kilogram, GLO, None): 0.0866} human toxicity: carcinogenic 5.726240549137249e-11\n",
      "Calculation 234 of 480 {'polyethylene, high density, granulate, recycled to generic market for high density PE granulate' (kilogram, Europe without Switzerland, None): -0.0054} human toxicity: carcinogenic -5.065553984893749e-12\n",
      "Calculation 235 of 480 {'market for polypropylene, granulate' (kilogram, GLO, None): -0.046764} human toxicity: carcinogenic -3.09217066892432e-11\n",
      "Calculation 236 of 480 {'market for electricity, high voltage' (kilowatt hour, DK, None): -0.0778862071666667} human toxicity: carcinogenic -9.438543610587823e-12\n",
      "Calculation 237 of 480 {'transport Plastic - APOS' (unit, GLO, None): 1.0} human toxicity: carcinogenic 4.917193953354098e-11\n",
      "Calculation 238 of 480 {'PE incineration no Energy Recovery - APOS' (kilogram, CH, None): -0.0046} human toxicity: carcinogenic 3.174967695132636e-13\n",
      "Calculation 239 of 480 {'PP incineration no Energy Recovery - APOS' (kilogram, CH, None): -0.039836} human toxicity: carcinogenic 2.441076991279276e-12\n",
      "Calculation 240 of 480 {'mixed heating grid DK 23 - APOS' (megajoule, GLO, None): -1.401951729} human toxicity: carcinogenic -3.423529154605165e-11\n",
      "human toxicity: carcinogenic at row 2 col 7 has been assigned the list [['pp production - APOS', 9.046429734846951e-11], ['autoclave - APOS', 3.7733352129417023e-10], ['market for corrugated board box', 2.3912040636115256e-12], ['packaging film production, low density polyethylene', 1.2309842469810732e-11], ['market for polypropylene, granulate', 5.726240549137249e-11], ['polyethylene, high density, granulate, recycled to generic market for high density PE granulate', -5.065553984893749e-12], ['market for polypropylene, granulate', -3.09217066892432e-11], ['market for electricity, high voltage', -9.438543610587823e-12], ['transport Plastic - APOS', 4.917193953354098e-11], ['PE incineration no Energy Recovery - APOS', 3.174967695132636e-13], ['PP incineration no Energy Recovery - APOS', 2.441076991279276e-12], ['mixed heating grid DK 23 - APOS', -3.423529154605165e-11]]\n",
      "Calculation 241 of 480 {'alubox raw materials - APOS' (unit, GLO, None): 0.002} human toxicity: non-carcinogenic 2.105669855915725e-09\n",
      "Calculation 242 of 480 {'alubox production - APOS' (unit, GLO, None): 0.002} human toxicity: non-carcinogenic 3.349610829739017e-10\n",
      "Calculation 243 of 480 {'autoclave - APOS' (unit, GLO, None): 0.1111111111111111} human toxicity: non-carcinogenic 8.057216566929065e-09\n",
      "Calculation 244 of 480 {'Handwash - APOS' (unit, GLO, None): 1} human toxicity: non-carcinogenic 1.2959388135613778e-09\n",
      "Calculation 245 of 480 {'alubox EoL melting - APOS' (unit, GLO, None): -0.002} human toxicity: non-carcinogenic -3.666032125584225e-10\n",
      "Calculation 246 of 480 {'alubox EoL mixed sorting - APOS' (unit, GLO, None): -0.002} human toxicity: non-carcinogenic 1.0677000703719892e-11\n",
      "Calculation 247 of 480 {'transport Alu - APOS' (unit, GLO, None): 1} human toxicity: non-carcinogenic 2.1309201845798082e-11\n",
      "Calculation 248 of 480 {'avoided alubox raw materials - APOS' (unit, GLO, None): -0.002} human toxicity: non-carcinogenic -1.944334077922393e-09\n",
      "human toxicity: non-carcinogenic at row 0 col 8 has been assigned the list [['alubox raw materials - APOS', 2.105669855915725e-09], ['alubox production - APOS', 3.349610829739017e-10], ['autoclave - APOS', 8.057216566929065e-09], ['Handwash - APOS', 1.2959388135613778e-09], ['alubox EoL melting - APOS', -3.666032125584225e-10], ['alubox EoL mixed sorting - APOS', 1.0677000703719892e-11], ['transport Alu - APOS', 2.1309201845798082e-11], ['avoided alubox raw materials - APOS', -1.944334077922393e-09]]\n",
      "Calculation 249 of 480 {'pp production - APOS' (unit, GLO, None): 1} human toxicity: non-carcinogenic 2.075388296782243e-09\n",
      "Calculation 250 of 480 {'autoclave - APOS' (unit, GLO, None): 0.1111111111111111} human toxicity: non-carcinogenic 8.057216566929065e-09\n",
      "Calculation 251 of 480 {'market for corrugated board box' (kilogram, US, None): 0.003852} human toxicity: non-carcinogenic 1.4347284660986628e-10\n",
      "Calculation 252 of 480 {'packaging film production, low density polyethylene' (kilogram, RER, None): 0.01} human toxicity: non-carcinogenic 2.069747627561411e-10\n",
      "Calculation 253 of 480 {'market for polypropylene, granulate' (kilogram, GLO, None): 0.0866} human toxicity: non-carcinogenic 1.2243389291820465e-09\n",
      "Calculation 254 of 480 {'market for electricity, high voltage' (kilowatt hour, DK, None): -0.169317841666667} human toxicity: non-carcinogenic -4.705747462793766e-10\n",
      "Calculation 255 of 480 {'transport Plastic - APOS' (unit, GLO, None): 1} human toxicity: non-carcinogenic 4.001604113966264e-10\n",
      "Calculation 256 of 480 {'PE incineration no Energy Recovery - APOS' (kilogram, CH, None): -0.01} human toxicity: non-carcinogenic 2.4204480748440307e-11\n",
      "Calculation 257 of 480 {'PP incineration no Energy Recovery - APOS' (kilogram, CH, None): -0.0866} human toxicity: non-carcinogenic 1.77492125951345e-10\n",
      "Calculation 258 of 480 {'mixed heating grid DK 23 - APOS' (megajoule, GLO, None): -3.04772115} human toxicity: non-carcinogenic -1.8884359069964157e-09\n",
      "human toxicity: non-carcinogenic at row 1 col 8 has been assigned the list [['pp production - APOS', 2.075388296782243e-09], ['autoclave - APOS', 8.057216566929065e-09], ['market for corrugated board box', 1.4347284660986628e-10], ['packaging film production, low density polyethylene', 2.069747627561411e-10], ['market for polypropylene, granulate', 1.2243389291820465e-09], ['market for electricity, high voltage', -4.705747462793766e-10], ['transport Plastic - APOS', 4.001604113966264e-10], ['PE incineration no Energy Recovery - APOS', 2.4204480748440307e-11], ['PP incineration no Energy Recovery - APOS', 1.77492125951345e-10], ['mixed heating grid DK 23 - APOS', -1.8884359069964157e-09]]\n",
      "Calculation 259 of 480 {'pp production - APOS' (unit, GLO, None): 1} human toxicity: non-carcinogenic 2.075388296782243e-09\n",
      "Calculation 260 of 480 {'autoclave - APOS' (unit, GLO, None): 0.1111111111111111} human toxicity: non-carcinogenic 8.057216566929065e-09\n",
      "Calculation 261 of 480 {'market for corrugated board box' (kilogram, RER, None): 0.003852} human toxicity: non-carcinogenic 3.563203280976013e-11\n",
      "Calculation 262 of 480 {'packaging film production, low density polyethylene' (kilogram, RoW, None): 0.01} human toxicity: non-carcinogenic 2.2171142558897133e-10\n",
      "Calculation 263 of 480 {'market for polypropylene, granulate' (kilogram, GLO, None): 0.0866} human toxicity: non-carcinogenic 1.2243389291820465e-09\n",
      "Calculation 264 of 480 {'polyethylene, high density, granulate, recycled to generic market for high density PE granulate' (kilogram, Europe without Switzerland, None): -0.0054} human toxicity: non-carcinogenic -4.184951600475813e-11\n",
      "Calculation 265 of 480 {'market for polypropylene, granulate' (kilogram, GLO, None): -0.046764} human toxicity: non-carcinogenic -6.611430559901079e-10\n",
      "Calculation 266 of 480 {'market for electricity, high voltage' (kilowatt hour, DK, None): -0.0778862071666667} human toxicity: non-carcinogenic -2.16464396254676e-10\n",
      "Calculation 267 of 480 {'transport Plastic - APOS' (unit, GLO, None): 1.0} human toxicity: non-carcinogenic 4.001604113966264e-10\n",
      "Calculation 268 of 480 {'PE incineration no Energy Recovery - APOS' (kilogram, CH, None): -0.0046} human toxicity: non-carcinogenic 1.113406972893866e-11\n",
      "Calculation 269 of 480 {'PP incineration no Energy Recovery - APOS' (kilogram, CH, None): -0.039836} human toxicity: non-carcinogenic 8.16463910322194e-11\n",
      "Calculation 270 of 480 {'mixed heating grid DK 23 - APOS' (megajoule, GLO, None): -1.401951729} human toxicity: non-carcinogenic -8.686805102637945e-10\n",
      "human toxicity: non-carcinogenic at row 2 col 8 has been assigned the list [['pp production - APOS', 2.075388296782243e-09], ['autoclave - APOS', 8.057216566929065e-09], ['market for corrugated board box', 3.563203280976013e-11], ['packaging film production, low density polyethylene', 2.2171142558897133e-10], ['market for polypropylene, granulate', 1.2243389291820465e-09], ['polyethylene, high density, granulate, recycled to generic market for high density PE granulate', -4.184951600475813e-11], ['market for polypropylene, granulate', -6.611430559901079e-10], ['market for electricity, high voltage', -2.16464396254676e-10], ['transport Plastic - APOS', 4.001604113966264e-10], ['PE incineration no Energy Recovery - APOS', 1.113406972893866e-11], ['PP incineration no Energy Recovery - APOS', 8.16463910322194e-11], ['mixed heating grid DK 23 - APOS', -8.686805102637945e-10]]\n",
      "Calculation 271 of 480 {'alubox raw materials - APOS' (unit, GLO, None): 0.002} ionising radiation: human health 0.0023732068123623632\n",
      "Calculation 272 of 480 {'alubox production - APOS' (unit, GLO, None): 0.002} ionising radiation: human health 0.007463612153622334\n",
      "Calculation 273 of 480 {'autoclave - APOS' (unit, GLO, None): 0.1111111111111111} ionising radiation: human health 0.17126974156538258\n",
      "Calculation 274 of 480 {'Handwash - APOS' (unit, GLO, None): 1} ionising radiation: human health 0.0023249985882979733\n",
      "Calculation 275 of 480 {'alubox EoL melting - APOS' (unit, GLO, None): -0.002} ionising radiation: human health -0.00033977803320959566\n",
      "Calculation 276 of 480 {'alubox EoL mixed sorting - APOS' (unit, GLO, None): -0.002} ionising radiation: human health 1.0748360781802982e-05\n",
      "Calculation 277 of 480 {'transport Alu - APOS' (unit, GLO, None): 1} ionising radiation: human health 2.5891588835371047e-05\n",
      "Calculation 278 of 480 {'avoided alubox raw materials - APOS' (unit, GLO, None): -0.002} ionising radiation: human health -0.002097031239096612\n",
      "ionising radiation: human health at row 0 col 9 has been assigned the list [['alubox raw materials - APOS', 0.0023732068123623632], ['alubox production - APOS', 0.007463612153622334], ['autoclave - APOS', 0.17126974156538258], ['Handwash - APOS', 0.0023249985882979733], ['alubox EoL melting - APOS', -0.00033977803320959566], ['alubox EoL mixed sorting - APOS', 1.0748360781802982e-05], ['transport Alu - APOS', 2.5891588835371047e-05], ['avoided alubox raw materials - APOS', -0.002097031239096612]]\n",
      "Calculation 279 of 480 {'pp production - APOS' (unit, GLO, None): 1} ionising radiation: human health 0.012754863894155123\n",
      "Calculation 280 of 480 {'autoclave - APOS' (unit, GLO, None): 0.1111111111111111} ionising radiation: human health 0.17126974156538258\n",
      "Calculation 281 of 480 {'market for corrugated board box' (kilogram, US, None): 0.003852} ionising radiation: human health 0.0004714247843270656\n",
      "Calculation 282 of 480 {'packaging film production, low density polyethylene' (kilogram, RER, None): 0.01} ionising radiation: human health 0.002721334151545709\n",
      "Calculation 283 of 480 {'market for polypropylene, granulate' (kilogram, GLO, None): 0.0866} ionising radiation: human health 0.00467786405180749\n",
      "Calculation 284 of 480 {'market for electricity, high voltage' (kilowatt hour, DK, None): -0.169317841666667} ionising radiation: human health -0.013290194658147552\n",
      "Calculation 285 of 480 {'transport Plastic - APOS' (unit, GLO, None): 1} ionising radiation: human health 0.001141733568008059\n",
      "Calculation 286 of 480 {'PE incineration no Energy Recovery - APOS' (kilogram, CH, None): -0.01} ionising radiation: human health 4.91027477424453e-06\n",
      "Calculation 287 of 480 {'PP incineration no Energy Recovery - APOS' (kilogram, CH, None): -0.0866} ionising radiation: human health 3.7503948812438045e-05\n",
      "Calculation 288 of 480 {'mixed heating grid DK 23 - APOS' (megajoule, GLO, None): -3.04772115} ionising radiation: human health -0.010706345574473053\n",
      "ionising radiation: human health at row 1 col 9 has been assigned the list [['pp production - APOS', 0.012754863894155123], ['autoclave - APOS', 0.17126974156538258], ['market for corrugated board box', 0.0004714247843270656], ['packaging film production, low density polyethylene', 0.002721334151545709], ['market for polypropylene, granulate', 0.00467786405180749], ['market for electricity, high voltage', -0.013290194658147552], ['transport Plastic - APOS', 0.001141733568008059], ['PE incineration no Energy Recovery - APOS', 4.91027477424453e-06], ['PP incineration no Energy Recovery - APOS', 3.7503948812438045e-05], ['mixed heating grid DK 23 - APOS', -0.010706345574473053]]\n",
      "Calculation 289 of 480 {'pp production - APOS' (unit, GLO, None): 1} ionising radiation: human health 0.012754863894155123\n",
      "Calculation 290 of 480 {'autoclave - APOS' (unit, GLO, None): 0.1111111111111111} ionising radiation: human health 0.17126974156538258\n",
      "Calculation 291 of 480 {'market for corrugated board box' (kilogram, RER, None): 0.003852} ionising radiation: human health 0.00038485540437182566\n",
      "Calculation 292 of 480 {'packaging film production, low density polyethylene' (kilogram, RoW, None): 0.01} ionising radiation: human health 0.0020329584766229244\n",
      "Calculation 293 of 480 {'market for polypropylene, granulate' (kilogram, GLO, None): 0.0866} ionising radiation: human health 0.00467786405180749\n",
      "Calculation 294 of 480 {'polyethylene, high density, granulate, recycled to generic market for high density PE granulate' (kilogram, Europe without Switzerland, None): -0.0054} ionising radiation: human health -0.0006773102754285049\n",
      "Calculation 295 of 480 {'market for polypropylene, granulate' (kilogram, GLO, None): -0.046764} ionising radiation: human health -0.0025260467617773544\n",
      "Calculation 296 of 480 {'market for electricity, high voltage' (kilowatt hour, DK, None): -0.0778862071666667} ionising radiation: human health -0.006113489598144748\n",
      "Calculation 297 of 480 {'transport Plastic - APOS' (unit, GLO, None): 1.0} ionising radiation: human health 0.001141733568008059\n",
      "Calculation 298 of 480 {'PE incineration no Energy Recovery - APOS' (kilogram, CH, None): -0.0046} ionising radiation: human health 2.2587637699173994e-06\n",
      "Calculation 299 of 480 {'PP incineration no Energy Recovery - APOS' (kilogram, CH, None): -0.039836} ionising radiation: human health 1.7251873395707182e-05\n",
      "Calculation 300 of 480 {'mixed heating grid DK 23 - APOS' (megajoule, GLO, None): -1.401951729} ionising radiation: human health -0.004924918933552853\n",
      "ionising radiation: human health at row 2 col 9 has been assigned the list [['pp production - APOS', 0.012754863894155123], ['autoclave - APOS', 0.17126974156538258], ['market for corrugated board box', 0.00038485540437182566], ['packaging film production, low density polyethylene', 0.0020329584766229244], ['market for polypropylene, granulate', 0.00467786405180749], ['polyethylene, high density, granulate, recycled to generic market for high density PE granulate', -0.0006773102754285049], ['market for polypropylene, granulate', -0.0025260467617773544], ['market for electricity, high voltage', -0.006113489598144748], ['transport Plastic - APOS', 0.001141733568008059], ['PE incineration no Energy Recovery - APOS', 2.2587637699173994e-06], ['PP incineration no Energy Recovery - APOS', 1.7251873395707182e-05], ['mixed heating grid DK 23 - APOS', -0.004924918933552853]]\n",
      "Calculation 301 of 480 {'alubox raw materials - APOS' (unit, GLO, None): 0.002} land use 0.22262442277611336\n",
      "Calculation 302 of 480 {'alubox production - APOS' (unit, GLO, None): 0.002} land use 0.16881547395152915\n",
      "Calculation 303 of 480 {'autoclave - APOS' (unit, GLO, None): 0.1111111111111111} land use 10.805281578139155\n",
      "Calculation 304 of 480 {'Handwash - APOS' (unit, GLO, None): 1} land use 0.9203946351703521\n",
      "Calculation 305 of 480 {'alubox EoL melting - APOS' (unit, GLO, None): -0.002} land use -0.03715916897516047\n",
      "Calculation 306 of 480 {'alubox EoL mixed sorting - APOS' (unit, GLO, None): -0.002} land use 0.002525615122622032\n",
      "Calculation 307 of 480 {'transport Alu - APOS' (unit, GLO, None): 1} land use 0.01794044098295241\n",
      "Calculation 308 of 480 {'avoided alubox raw materials - APOS' (unit, GLO, None): -0.002} land use -0.19881384520895878\n",
      "land use at row 0 col 10 has been assigned the list [['alubox raw materials - APOS', 0.22262442277611336], ['alubox production - APOS', 0.16881547395152915], ['autoclave - APOS', 10.805281578139155], ['Handwash - APOS', 0.9203946351703521], ['alubox EoL melting - APOS', -0.03715916897516047], ['alubox EoL mixed sorting - APOS', 0.002525615122622032], ['transport Alu - APOS', 0.01794044098295241], ['avoided alubox raw materials - APOS', -0.19881384520895878]]\n",
      "Calculation 309 of 480 {'pp production - APOS' (unit, GLO, None): 1} land use 0.49619161061480344\n",
      "Calculation 310 of 480 {'autoclave - APOS' (unit, GLO, None): 0.1111111111111111} land use 10.805281578139155\n",
      "Calculation 311 of 480 {'market for corrugated board box' (kilogram, US, None): 0.003852} land use 0.391476552571536\n",
      "Calculation 312 of 480 {'packaging film production, low density polyethylene' (kilogram, RER, None): 0.01} land use 0.10567993759765718\n",
      "Calculation 313 of 480 {'market for polypropylene, granulate' (kilogram, GLO, None): 0.0866} land use 0.26827705398997903\n",
      "Calculation 314 of 480 {'market for electricity, high voltage' (kilowatt hour, DK, None): -0.169317841666667} land use -0.8448485233855737\n",
      "Calculation 315 of 480 {'transport Plastic - APOS' (unit, GLO, None): 1} land use 0.39955747316530316\n",
      "Calculation 316 of 480 {'PE incineration no Energy Recovery - APOS' (kilogram, CH, None): -0.01} land use 0.0005974000258291703\n",
      "Calculation 317 of 480 {'PP incineration no Energy Recovery - APOS' (kilogram, CH, None): -0.0866} land use 0.004602861456469852\n",
      "Calculation 318 of 480 {'mixed heating grid DK 23 - APOS' (megajoule, GLO, None): -3.04772115} land use -5.659888907979149\n",
      "land use at row 1 col 10 has been assigned the list [['pp production - APOS', 0.49619161061480344], ['autoclave - APOS', 10.805281578139155], ['market for corrugated board box', 0.391476552571536], ['packaging film production, low density polyethylene', 0.10567993759765718], ['market for polypropylene, granulate', 0.26827705398997903], ['market for electricity, high voltage', -0.8448485233855737], ['transport Plastic - APOS', 0.39955747316530316], ['PE incineration no Energy Recovery - APOS', 0.0005974000258291703], ['PP incineration no Energy Recovery - APOS', 0.004602861456469852], ['mixed heating grid DK 23 - APOS', -5.659888907979149]]\n",
      "Calculation 319 of 480 {'pp production - APOS' (unit, GLO, None): 1} land use 0.49619161061480344\n",
      "Calculation 320 of 480 {'autoclave - APOS' (unit, GLO, None): 0.1111111111111111} land use 10.805281578139155\n",
      "Calculation 321 of 480 {'market for corrugated board box' (kilogram, RER, None): 0.003852} land use 0.1689899432257972\n",
      "Calculation 322 of 480 {'packaging film production, low density polyethylene' (kilogram, RoW, None): 0.01} land use 0.12284423155366181\n",
      "Calculation 323 of 480 {'market for polypropylene, granulate' (kilogram, GLO, None): 0.0866} land use 0.26827705398997903\n",
      "Calculation 324 of 480 {'polyethylene, high density, granulate, recycled to generic market for high density PE granulate' (kilogram, Europe without Switzerland, None): -0.0054} land use -0.02022085356901602\n",
      "Calculation 325 of 480 {'market for polypropylene, granulate' (kilogram, GLO, None): -0.046764} land use -0.14486955524491196\n",
      "Calculation 326 of 480 {'market for electricity, high voltage' (kilowatt hour, DK, None): -0.0778862071666667} land use -0.38863032567478667\n",
      "Calculation 327 of 480 {'transport Plastic - APOS' (unit, GLO, None): 1.0} land use 0.39955747316530316\n",
      "Calculation 328 of 480 {'PE incineration no Energy Recovery - APOS' (kilogram, CH, None): -0.0046} land use 0.0002748071088299135\n",
      "Calculation 329 of 480 {'PP incineration no Energy Recovery - APOS' (kilogram, CH, None): -0.039836} land use 0.0021173208814544773\n",
      "Calculation 330 of 480 {'mixed heating grid DK 23 - APOS' (megajoule, GLO, None): -1.401951729} land use -2.603548897048381\n",
      "land use at row 2 col 10 has been assigned the list [['pp production - APOS', 0.49619161061480344], ['autoclave - APOS', 10.805281578139155], ['market for corrugated board box', 0.1689899432257972], ['packaging film production, low density polyethylene', 0.12284423155366181], ['market for polypropylene, granulate', 0.26827705398997903], ['polyethylene, high density, granulate, recycled to generic market for high density PE granulate', -0.02022085356901602], ['market for polypropylene, granulate', -0.14486955524491196], ['market for electricity, high voltage', -0.38863032567478667], ['transport Plastic - APOS', 0.39955747316530316], ['PE incineration no Energy Recovery - APOS', 0.0002748071088299135], ['PP incineration no Energy Recovery - APOS', 0.0021173208814544773], ['mixed heating grid DK 23 - APOS', -2.603548897048381]]\n",
      "Calculation 331 of 480 {'alubox raw materials - APOS' (unit, GLO, None): 0.002} material resources: metals/minerals 3.425177140975043e-07\n",
      "Calculation 332 of 480 {'alubox production - APOS' (unit, GLO, None): 0.002} material resources: metals/minerals 1.8377181935453733e-07\n",
      "Calculation 333 of 480 {'autoclave - APOS' (unit, GLO, None): 0.1111111111111111} material resources: metals/minerals 3.1281269012605243e-06\n",
      "Calculation 334 of 480 {'Handwash - APOS' (unit, GLO, None): 1} material resources: metals/minerals 1.3986338582435981e-07\n",
      "Calculation 335 of 480 {'alubox EoL melting - APOS' (unit, GLO, None): -0.002} material resources: metals/minerals -6.116780572127768e-07\n",
      "Calculation 336 of 480 {'alubox EoL mixed sorting - APOS' (unit, GLO, None): -0.002} material resources: metals/minerals 9.562874786072126e-09\n",
      "Calculation 337 of 480 {'transport Alu - APOS' (unit, GLO, None): 1} material resources: metals/minerals 6.567088957392398e-09\n",
      "Calculation 338 of 480 {'avoided alubox raw materials - APOS' (unit, GLO, None): -0.002} material resources: metals/minerals -2.6780168606953916e-07\n",
      "material resources: metals/minerals at row 0 col 11 has been assigned the list [['alubox raw materials - APOS', 3.425177140975043e-07], ['alubox production - APOS', 1.8377181935453733e-07], ['autoclave - APOS', 3.1281269012605243e-06], ['Handwash - APOS', 1.3986338582435981e-07], ['alubox EoL melting - APOS', -6.116780572127768e-07], ['alubox EoL mixed sorting - APOS', 9.562874786072126e-09], ['transport Alu - APOS', 6.567088957392398e-09], ['avoided alubox raw materials - APOS', -2.6780168606953916e-07]]\n",
      "Calculation 339 of 480 {'pp production - APOS' (unit, GLO, None): 1} material resources: metals/minerals 1.2043274814432664e-06\n",
      "Calculation 340 of 480 {'autoclave - APOS' (unit, GLO, None): 0.1111111111111111} material resources: metals/minerals 3.1281269012605243e-06\n",
      "Calculation 341 of 480 {'market for corrugated board box' (kilogram, US, None): 0.003852} material resources: metals/minerals 1.6309697968653387e-08\n",
      "Calculation 342 of 480 {'packaging film production, low density polyethylene' (kilogram, RER, None): 0.01} material resources: metals/minerals 1.0470232554471504e-07\n",
      "Calculation 343 of 480 {'market for polypropylene, granulate' (kilogram, GLO, None): 0.0866} material resources: metals/minerals 7.747165876230767e-07\n",
      "Calculation 344 of 480 {'market for electricity, high voltage' (kilowatt hour, DK, None): -0.169317841666667} material resources: metals/minerals -1.385460547167719e-07\n",
      "Calculation 345 of 480 {'transport Plastic - APOS' (unit, GLO, None): 1} material resources: metals/minerals 1.3249892447569936e-07\n",
      "Calculation 346 of 480 {'PE incineration no Energy Recovery - APOS' (kilogram, CH, None): -0.01} material resources: metals/minerals 5.924083387077912e-10\n",
      "Calculation 347 of 480 {'PP incineration no Energy Recovery - APOS' (kilogram, CH, None): -0.0866} material resources: metals/minerals 4.512524826977605e-09\n",
      "Calculation 348 of 480 {'mixed heating grid DK 23 - APOS' (megajoule, GLO, None): -3.04772115} material resources: metals/minerals -5.26521369884727e-07\n",
      "material resources: metals/minerals at row 1 col 11 has been assigned the list [['pp production - APOS', 1.2043274814432664e-06], ['autoclave - APOS', 3.1281269012605243e-06], ['market for corrugated board box', 1.6309697968653387e-08], ['packaging film production, low density polyethylene', 1.0470232554471504e-07], ['market for polypropylene, granulate', 7.747165876230767e-07], ['market for electricity, high voltage', -1.385460547167719e-07], ['transport Plastic - APOS', 1.3249892447569936e-07], ['PE incineration no Energy Recovery - APOS', 5.924083387077912e-10], ['PP incineration no Energy Recovery - APOS', 4.512524826977605e-09], ['mixed heating grid DK 23 - APOS', -5.26521369884727e-07]]\n",
      "Calculation 349 of 480 {'pp production - APOS' (unit, GLO, None): 1} material resources: metals/minerals 1.2043274814432664e-06\n",
      "Calculation 350 of 480 {'autoclave - APOS' (unit, GLO, None): 0.1111111111111111} material resources: metals/minerals 3.1281269012605243e-06\n",
      "Calculation 351 of 480 {'market for corrugated board box' (kilogram, RER, None): 0.003852} material resources: metals/minerals 1.360932199972617e-08\n",
      "Calculation 352 of 480 {'packaging film production, low density polyethylene' (kilogram, RoW, None): 0.01} material resources: metals/minerals 1.043245067448025e-07\n",
      "Calculation 353 of 480 {'market for polypropylene, granulate' (kilogram, GLO, None): 0.0866} material resources: metals/minerals 7.747165876230767e-07\n",
      "Calculation 354 of 480 {'polyethylene, high density, granulate, recycled to generic market for high density PE granulate' (kilogram, Europe without Switzerland, None): -0.0054} material resources: metals/minerals -2.6902030514415356e-08\n",
      "Calculation 355 of 480 {'market for polypropylene, granulate' (kilogram, GLO, None): -0.046764} material resources: metals/minerals -4.183469770452072e-07\n",
      "Calculation 356 of 480 {'market for electricity, high voltage' (kilowatt hour, DK, None): -0.0778862071666667} material resources: metals/minerals -6.373119173161401e-08\n",
      "Calculation 357 of 480 {'transport Plastic - APOS' (unit, GLO, None): 1.0} material resources: metals/minerals 1.3249892447569936e-07\n",
      "Calculation 358 of 480 {'PE incineration no Energy Recovery - APOS' (kilogram, CH, None): -0.0046} material resources: metals/minerals 2.7251218854664067e-10\n",
      "Calculation 359 of 480 {'PP incineration no Energy Recovery - APOS' (kilogram, CH, None): -0.039836} material resources: metals/minerals 2.075768121016661e-09\n",
      "Calculation 360 of 480 {'mixed heating grid DK 23 - APOS' (megajoule, GLO, None): -1.401951729} material resources: metals/minerals -2.421998267497774e-07\n",
      "material resources: metals/minerals at row 2 col 11 has been assigned the list [['pp production - APOS', 1.2043274814432664e-06], ['autoclave - APOS', 3.1281269012605243e-06], ['market for corrugated board box', 1.360932199972617e-08], ['packaging film production, low density polyethylene', 1.043245067448025e-07], ['market for polypropylene, granulate', 7.747165876230767e-07], ['polyethylene, high density, granulate, recycled to generic market for high density PE granulate', -2.6902030514415356e-08], ['market for polypropylene, granulate', -4.183469770452072e-07], ['market for electricity, high voltage', -6.373119173161401e-08], ['transport Plastic - APOS', 1.3249892447569936e-07], ['PE incineration no Energy Recovery - APOS', 2.7251218854664067e-10], ['PP incineration no Energy Recovery - APOS', 2.075768121016661e-09], ['mixed heating grid DK 23 - APOS', -2.421998267497774e-07]]\n",
      "Calculation 361 of 480 {'alubox raw materials - APOS' (unit, GLO, None): 0.002} ozone depletion 1.1550807564665233e-09\n",
      "Calculation 362 of 480 {'alubox production - APOS' (unit, GLO, None): 0.002} ozone depletion 5.797793002248827e-10\n",
      "Calculation 363 of 480 {'autoclave - APOS' (unit, GLO, None): 0.1111111111111111} ozone depletion 1.3295438668765132e-08\n",
      "Calculation 364 of 480 {'Handwash - APOS' (unit, GLO, None): 1} ozone depletion 6.334224809466647e-10\n",
      "Calculation 365 of 480 {'alubox EoL melting - APOS' (unit, GLO, None): -0.002} ozone depletion -5.933676150342254e-11\n",
      "Calculation 366 of 480 {'alubox EoL mixed sorting - APOS' (unit, GLO, None): -0.002} ozone depletion 4.788976390073668e-12\n",
      "Calculation 367 of 480 {'transport Alu - APOS' (unit, GLO, None): 1} ozone depletion 3.359401909917065e-11\n",
      "Calculation 368 of 480 {'avoided alubox raw materials - APOS' (unit, GLO, None): -0.002} ozone depletion -1.0711012654795961e-09\n",
      "ozone depletion at row 0 col 12 has been assigned the list [['alubox raw materials - APOS', 1.1550807564665233e-09], ['alubox production - APOS', 5.797793002248827e-10], ['autoclave - APOS', 1.3295438668765132e-08], ['Handwash - APOS', 6.334224809466647e-10], ['alubox EoL melting - APOS', -5.933676150342254e-11], ['alubox EoL mixed sorting - APOS', 4.788976390073668e-12], ['transport Alu - APOS', 3.359401909917065e-11], ['avoided alubox raw materials - APOS', -1.0711012654795961e-09]]\n",
      "Calculation 369 of 480 {'pp production - APOS' (unit, GLO, None): 1} ozone depletion 3.1308199363884e-09\n",
      "Calculation 370 of 480 {'autoclave - APOS' (unit, GLO, None): 0.1111111111111111} ozone depletion 1.3295438668765132e-08\n",
      "Calculation 371 of 480 {'market for corrugated board box' (kilogram, US, None): 0.003852} ozone depletion 1.5352068681190713e-10\n",
      "Calculation 372 of 480 {'packaging film production, low density polyethylene' (kilogram, RER, None): 0.01} ozone depletion 2.0088440986454507e-10\n",
      "Calculation 373 of 480 {'market for polypropylene, granulate' (kilogram, GLO, None): 0.0866} ozone depletion 9.204246168292839e-10\n",
      "Calculation 374 of 480 {'market for electricity, high voltage' (kilowatt hour, DK, None): -0.169317841666667} ozone depletion -7.589215011914341e-10\n",
      "Calculation 375 of 480 {'transport Plastic - APOS' (unit, GLO, None): 1} ozone depletion 7.865570175588553e-10\n",
      "Calculation 376 of 480 {'PE incineration no Energy Recovery - APOS' (kilogram, CH, None): -0.01} ozone depletion 8.771275198134424e-12\n",
      "Calculation 377 of 480 {'PP incineration no Energy Recovery - APOS' (kilogram, CH, None): -0.0866} ozone depletion 6.497987874469158e-11\n",
      "Calculation 378 of 480 {'mixed heating grid DK 23 - APOS' (megajoule, GLO, None): -3.04772115} ozone depletion -3.028502331386244e-09\n",
      "ozone depletion at row 1 col 12 has been assigned the list [['pp production - APOS', 3.1308199363884e-09], ['autoclave - APOS', 1.3295438668765132e-08], ['market for corrugated board box', 1.5352068681190713e-10], ['packaging film production, low density polyethylene', 2.0088440986454507e-10], ['market for polypropylene, granulate', 9.204246168292839e-10], ['market for electricity, high voltage', -7.589215011914341e-10], ['transport Plastic - APOS', 7.865570175588553e-10], ['PE incineration no Energy Recovery - APOS', 8.771275198134424e-12], ['PP incineration no Energy Recovery - APOS', 6.497987874469158e-11], ['mixed heating grid DK 23 - APOS', -3.028502331386244e-09]]\n",
      "Calculation 379 of 480 {'pp production - APOS' (unit, GLO, None): 1} ozone depletion 3.1308199363884e-09\n",
      "Calculation 380 of 480 {'autoclave - APOS' (unit, GLO, None): 0.1111111111111111} ozone depletion 1.3295438668765132e-08\n",
      "Calculation 381 of 480 {'market for corrugated board box' (kilogram, RER, None): 0.003852} ozone depletion 1.1726968759005986e-10\n",
      "Calculation 382 of 480 {'packaging film production, low density polyethylene' (kilogram, RoW, None): 0.01} ozone depletion 1.7899506413400483e-10\n",
      "Calculation 383 of 480 {'market for polypropylene, granulate' (kilogram, GLO, None): 0.0866} ozone depletion 9.204246168292839e-10\n",
      "Calculation 384 of 480 {'polyethylene, high density, granulate, recycled to generic market for high density PE granulate' (kilogram, Europe without Switzerland, None): -0.0054} ozone depletion -4.725056591086689e-11\n",
      "Calculation 385 of 480 {'market for polypropylene, granulate' (kilogram, GLO, None): -0.046764} ozone depletion -4.970293203601266e-10\n",
      "Calculation 386 of 480 {'market for electricity, high voltage' (kilowatt hour, DK, None): -0.0778862071666667} ozone depletion -3.4910390192608754e-10\n",
      "Calculation 387 of 480 {'transport Plastic - APOS' (unit, GLO, None): 1.0} ozone depletion 7.865570175588553e-10\n",
      "Calculation 388 of 480 {'PE incineration no Energy Recovery - APOS' (kilogram, CH, None): -0.0046} ozone depletion 4.0347941412303874e-12\n",
      "Calculation 389 of 480 {'PP incineration no Energy Recovery - APOS' (kilogram, CH, None): -0.039836} ozone depletion 2.989075565462387e-11\n",
      "Calculation 390 of 480 {'mixed heating grid DK 23 - APOS' (megajoule, GLO, None): -1.401951729} ozone depletion -1.3931110661786991e-09\n",
      "ozone depletion at row 2 col 12 has been assigned the list [['pp production - APOS', 3.1308199363884e-09], ['autoclave - APOS', 1.3295438668765132e-08], ['market for corrugated board box', 1.1726968759005986e-10], ['packaging film production, low density polyethylene', 1.7899506413400483e-10], ['market for polypropylene, granulate', 9.204246168292839e-10], ['polyethylene, high density, granulate, recycled to generic market for high density PE granulate', -4.725056591086689e-11], ['market for polypropylene, granulate', -4.970293203601266e-10], ['market for electricity, high voltage', -3.4910390192608754e-10], ['transport Plastic - APOS', 7.865570175588553e-10], ['PE incineration no Energy Recovery - APOS', 4.0347941412303874e-12], ['PP incineration no Energy Recovery - APOS', 2.989075565462387e-11], ['mixed heating grid DK 23 - APOS', -1.3931110661786991e-09]]\n",
      "Calculation 391 of 480 {'alubox raw materials - APOS' (unit, GLO, None): 0.002} particulate matter formation 9.158672013490238e-09\n",
      "Calculation 392 of 480 {'alubox production - APOS' (unit, GLO, None): 0.002} particulate matter formation 8.372240132468975e-10\n",
      "Calculation 393 of 480 {'autoclave - APOS' (unit, GLO, None): 0.1111111111111111} particulate matter formation 1.4891020340627673e-08\n",
      "Calculation 394 of 480 {'Handwash - APOS' (unit, GLO, None): 1} particulate matter formation 2.1698385721415765e-09\n",
      "Calculation 395 of 480 {'alubox EoL melting - APOS' (unit, GLO, None): -0.002} particulate matter formation -2.11702684349266e-10\n",
      "Calculation 396 of 480 {'alubox EoL mixed sorting - APOS' (unit, GLO, None): -0.002} particulate matter formation 2.127173361960873e-11\n",
      "Calculation 397 of 480 {'transport Alu - APOS' (unit, GLO, None): 1} particulate matter formation 1.6060580538138489e-10\n",
      "Calculation 398 of 480 {'avoided alubox raw materials - APOS' (unit, GLO, None): -0.002} particulate matter formation -8.494686801216148e-09\n",
      "particulate matter formation at row 0 col 13 has been assigned the list [['alubox raw materials - APOS', 9.158672013490238e-09], ['alubox production - APOS', 8.372240132468975e-10], ['autoclave - APOS', 1.4891020340627673e-08], ['Handwash - APOS', 2.1698385721415765e-09], ['alubox EoL melting - APOS', -2.11702684349266e-10], ['alubox EoL mixed sorting - APOS', 2.127173361960873e-11], ['transport Alu - APOS', 1.6060580538138489e-10], ['avoided alubox raw materials - APOS', -8.494686801216148e-09]]\n",
      "Calculation 399 of 480 {'pp production - APOS' (unit, GLO, None): 1} particulate matter formation 1.2006800564864887e-08\n",
      "Calculation 400 of 480 {'autoclave - APOS' (unit, GLO, None): 0.1111111111111111} particulate matter formation 1.4891020340627673e-08\n",
      "Calculation 401 of 480 {'market for corrugated board box' (kilogram, US, None): 0.003852} particulate matter formation 6.328510211367004e-10\n",
      "Calculation 402 of 480 {'packaging film production, low density polyethylene' (kilogram, RER, None): 0.01} particulate matter formation 1.1922751462871622e-09\n",
      "Calculation 403 of 480 {'market for polypropylene, granulate' (kilogram, GLO, None): 0.0866} particulate matter formation 8.34368494666594e-09\n",
      "Calculation 404 of 480 {'market for electricity, high voltage' (kilowatt hour, DK, None): -0.169317841666667} particulate matter formation -1.0144576746554374e-09\n",
      "Calculation 405 of 480 {'transport Plastic - APOS' (unit, GLO, None): 1} particulate matter formation 6.195998198331269e-09\n",
      "Calculation 406 of 480 {'PE incineration no Energy Recovery - APOS' (kilogram, CH, None): -0.01} particulate matter formation 1.5661208591562752e-11\n",
      "Calculation 407 of 480 {'PP incineration no Energy Recovery - APOS' (kilogram, CH, None): -0.0866} particulate matter formation 1.377677189963628e-10\n",
      "Calculation 408 of 480 {'mixed heating grid DK 23 - APOS' (megajoule, GLO, None): -3.04772115} particulate matter formation -1.2688094698952953e-08\n",
      "particulate matter formation at row 1 col 13 has been assigned the list [['pp production - APOS', 1.2006800564864887e-08], ['autoclave - APOS', 1.4891020340627673e-08], ['market for corrugated board box', 6.328510211367004e-10], ['packaging film production, low density polyethylene', 1.1922751462871622e-09], ['market for polypropylene, granulate', 8.34368494666594e-09], ['market for electricity, high voltage', -1.0144576746554374e-09], ['transport Plastic - APOS', 6.195998198331269e-09], ['PE incineration no Energy Recovery - APOS', 1.5661208591562752e-11], ['PP incineration no Energy Recovery - APOS', 1.377677189963628e-10], ['mixed heating grid DK 23 - APOS', -1.2688094698952953e-08]]\n",
      "Calculation 409 of 480 {'pp production - APOS' (unit, GLO, None): 1} particulate matter formation 1.2006800564864887e-08\n",
      "Calculation 410 of 480 {'autoclave - APOS' (unit, GLO, None): 0.1111111111111111} particulate matter formation 1.4891020340627673e-08\n",
      "Calculation 411 of 480 {'market for corrugated board box' (kilogram, RER, None): 0.003852} particulate matter formation 2.4031164286595514e-10\n",
      "Calculation 412 of 480 {'packaging film production, low density polyethylene' (kilogram, RoW, None): 0.01} particulate matter formation 1.4260868676224818e-09\n",
      "Calculation 413 of 480 {'market for polypropylene, granulate' (kilogram, GLO, None): 0.0866} particulate matter formation 8.34368494666594e-09\n",
      "Calculation 414 of 480 {'polyethylene, high density, granulate, recycled to generic market for high density PE granulate' (kilogram, Europe without Switzerland, None): -0.0054} particulate matter formation -1.4862650801431695e-10\n",
      "Calculation 415 of 480 {'market for polypropylene, granulate' (kilogram, GLO, None): -0.046764} particulate matter formation -4.505590177531387e-09\n",
      "Calculation 416 of 480 {'market for electricity, high voltage' (kilowatt hour, DK, None): -0.0778862071666667} particulate matter formation -4.66650669799514e-10\n",
      "Calculation 417 of 480 {'transport Plastic - APOS' (unit, GLO, None): 1.0} particulate matter formation 6.195998198331269e-09\n",
      "Calculation 418 of 480 {'PE incineration no Energy Recovery - APOS' (kilogram, CH, None): -0.0046} particulate matter formation 7.204248162306358e-12\n",
      "Calculation 419 of 480 {'PP incineration no Energy Recovery - APOS' (kilogram, CH, None): -0.039836} particulate matter formation 6.337329023585526e-11\n",
      "Calculation 420 of 480 {'mixed heating grid DK 23 - APOS' (megajoule, GLO, None): -1.401951729} particulate matter formation -5.836523484786131e-09\n",
      "particulate matter formation at row 2 col 13 has been assigned the list [['pp production - APOS', 1.2006800564864887e-08], ['autoclave - APOS', 1.4891020340627673e-08], ['market for corrugated board box', 2.4031164286595514e-10], ['packaging film production, low density polyethylene', 1.4260868676224818e-09], ['market for polypropylene, granulate', 8.34368494666594e-09], ['polyethylene, high density, granulate, recycled to generic market for high density PE granulate', -1.4862650801431695e-10], ['market for polypropylene, granulate', -4.505590177531387e-09], ['market for electricity, high voltage', -4.66650669799514e-10], ['transport Plastic - APOS', 6.195998198331269e-09], ['PE incineration no Energy Recovery - APOS', 7.204248162306358e-12], ['PP incineration no Energy Recovery - APOS', 6.337329023585526e-11], ['mixed heating grid DK 23 - APOS', -5.836523484786131e-09]]\n",
      "Calculation 421 of 480 {'alubox raw materials - APOS' (unit, GLO, None): 0.002} photochemical oxidant formation: human health 0.00038996834821535524\n",
      "Calculation 422 of 480 {'alubox production - APOS' (unit, GLO, None): 0.002} photochemical oxidant formation: human health 6.520753308892072e-05\n",
      "Calculation 423 of 480 {'autoclave - APOS' (unit, GLO, None): 0.1111111111111111} photochemical oxidant formation: human health 0.0014393576464998546\n",
      "Calculation 424 of 480 {'Handwash - APOS' (unit, GLO, None): 1} photochemical oxidant formation: human health 8.794208610279463e-05\n",
      "Calculation 425 of 480 {'alubox EoL melting - APOS' (unit, GLO, None): -0.002} photochemical oxidant formation: human health -1.6611993491261143e-05\n",
      "Calculation 426 of 480 {'alubox EoL mixed sorting - APOS' (unit, GLO, None): -0.002} photochemical oxidant formation: human health 1.2124936634400211e-06\n",
      "Calculation 427 of 480 {'transport Alu - APOS' (unit, GLO, None): 1} photochemical oxidant formation: human health 7.63152829833841e-06\n",
      "Calculation 428 of 480 {'avoided alubox raw materials - APOS' (unit, GLO, None): -0.002} photochemical oxidant formation: human health -0.0003615374086855769\n",
      "photochemical oxidant formation: human health at row 0 col 14 has been assigned the list [['alubox raw materials - APOS', 0.00038996834821535524], ['alubox production - APOS', 6.520753308892072e-05], ['autoclave - APOS', 0.0014393576464998546], ['Handwash - APOS', 8.794208610279463e-05], ['alubox EoL melting - APOS', -1.6611993491261143e-05], ['alubox EoL mixed sorting - APOS', 1.2124936634400211e-06], ['transport Alu - APOS', 7.63152829833841e-06], ['avoided alubox raw materials - APOS', -0.0003615374086855769]]\n",
      "Calculation 429 of 480 {'pp production - APOS' (unit, GLO, None): 1} photochemical oxidant formation: human health 0.0009674231723537134\n",
      "Calculation 430 of 480 {'autoclave - APOS' (unit, GLO, None): 0.1111111111111111} photochemical oxidant formation: human health 0.0014393576464998546\n",
      "Calculation 431 of 480 {'market for corrugated board box' (kilogram, US, None): 0.003852} photochemical oxidant formation: human health 2.4927883035550863e-05\n",
      "Calculation 432 of 480 {'packaging film production, low density polyethylene' (kilogram, RER, None): 0.01} photochemical oxidant formation: human health 0.00012408490989631828\n",
      "Calculation 433 of 480 {'market for polypropylene, granulate' (kilogram, GLO, None): 0.0866} photochemical oxidant formation: human health 0.0006973653488286254\n",
      "Calculation 434 of 480 {'market for electricity, high voltage' (kilowatt hour, DK, None): -0.169317841666667} photochemical oxidant formation: human health -9.001754013093412e-05\n",
      "Calculation 435 of 480 {'transport Plastic - APOS' (unit, GLO, None): 1} photochemical oxidant formation: human health 0.0007462185770599249\n",
      "Calculation 436 of 480 {'PE incineration no Energy Recovery - APOS' (kilogram, CH, None): -0.01} photochemical oxidant formation: human health 4.8892539582291165e-06\n",
      "Calculation 437 of 480 {'PP incineration no Energy Recovery - APOS' (kilogram, CH, None): -0.0866} photochemical oxidant formation: human health 3.605715906937443e-05\n",
      "Calculation 438 of 480 {'mixed heating grid DK 23 - APOS' (megajoule, GLO, None): -3.04772115} photochemical oxidant formation: human health -0.0005214431740398932\n",
      "photochemical oxidant formation: human health at row 1 col 14 has been assigned the list [['pp production - APOS', 0.0009674231723537134], ['autoclave - APOS', 0.0014393576464998546], ['market for corrugated board box', 2.4927883035550863e-05], ['packaging film production, low density polyethylene', 0.00012408490989631828], ['market for polypropylene, granulate', 0.0006973653488286254], ['market for electricity, high voltage', -9.001754013093412e-05], ['transport Plastic - APOS', 0.0007462185770599249], ['PE incineration no Energy Recovery - APOS', 4.8892539582291165e-06], ['PP incineration no Energy Recovery - APOS', 3.605715906937443e-05], ['mixed heating grid DK 23 - APOS', -0.0005214431740398932]]\n",
      "Calculation 439 of 480 {'pp production - APOS' (unit, GLO, None): 1} photochemical oxidant formation: human health 0.0009674231723537134\n",
      "Calculation 440 of 480 {'autoclave - APOS' (unit, GLO, None): 0.1111111111111111} photochemical oxidant formation: human health 0.0014393576464998546\n",
      "Calculation 441 of 480 {'market for corrugated board box' (kilogram, RER, None): 0.003852} photochemical oxidant formation: human health 1.564008267426843e-05\n",
      "Calculation 442 of 480 {'packaging film production, low density polyethylene' (kilogram, RoW, None): 0.01} photochemical oxidant formation: human health 0.0001306523411532211\n",
      "Calculation 443 of 480 {'market for polypropylene, granulate' (kilogram, GLO, None): 0.0866} photochemical oxidant formation: human health 0.0006973653488286254\n",
      "Calculation 444 of 480 {'polyethylene, high density, granulate, recycled to generic market for high density PE granulate' (kilogram, Europe without Switzerland, None): -0.0054} photochemical oxidant formation: human health -9.074327377178468e-06\n",
      "Calculation 445 of 480 {'market for polypropylene, granulate' (kilogram, GLO, None): -0.046764} photochemical oxidant formation: human health -0.0003765773000213309\n",
      "Calculation 446 of 480 {'market for electricity, high voltage' (kilowatt hour, DK, None): -0.0778862071666667} photochemical oxidant formation: human health -4.140807387757977e-05\n",
      "Calculation 447 of 480 {'transport Plastic - APOS' (unit, GLO, None): 1.0} photochemical oxidant formation: human health 0.0007462185770599249\n",
      "Calculation 448 of 480 {'PE incineration no Energy Recovery - APOS' (kilogram, CH, None): -0.0046} photochemical oxidant formation: human health 2.2490603987360216e-06\n",
      "Calculation 449 of 480 {'PP incineration no Energy Recovery - APOS' (kilogram, CH, None): -0.039836} photochemical oxidant formation: human health 1.658629858491151e-05\n",
      "Calculation 450 of 480 {'mixed heating grid DK 23 - APOS' (megajoule, GLO, None): -1.401951729} photochemical oxidant formation: human health -0.00023986385708021972\n",
      "photochemical oxidant formation: human health at row 2 col 14 has been assigned the list [['pp production - APOS', 0.0009674231723537134], ['autoclave - APOS', 0.0014393576464998546], ['market for corrugated board box', 1.564008267426843e-05], ['packaging film production, low density polyethylene', 0.0001306523411532211], ['market for polypropylene, granulate', 0.0006973653488286254], ['polyethylene, high density, granulate, recycled to generic market for high density PE granulate', -9.074327377178468e-06], ['market for polypropylene, granulate', -0.0003765773000213309], ['market for electricity, high voltage', -4.140807387757977e-05], ['transport Plastic - APOS', 0.0007462185770599249], ['PE incineration no Energy Recovery - APOS', 2.2490603987360216e-06], ['PP incineration no Energy Recovery - APOS', 1.658629858491151e-05], ['mixed heating grid DK 23 - APOS', -0.00023986385708021972]]\n",
      "Calculation 451 of 480 {'alubox raw materials - APOS' (unit, GLO, None): 0.002} water use 0.028522793941192236\n",
      "Calculation 452 of 480 {'alubox production - APOS' (unit, GLO, None): 0.002} water use 0.028767071875892378\n",
      "Calculation 453 of 480 {'autoclave - APOS' (unit, GLO, None): 0.1111111111111111} water use 0.3689701755044556\n",
      "Calculation 454 of 480 {'Handwash - APOS' (unit, GLO, None): 1} water use 0.0532054172811121\n",
      "Calculation 455 of 480 {'alubox EoL melting - APOS' (unit, GLO, None): -0.002} water use -0.0017979935937575894\n",
      "Calculation 456 of 480 {'alubox EoL mixed sorting - APOS' (unit, GLO, None): -0.002} water use 6.438072139570304e-05\n",
      "Calculation 457 of 480 {'transport Alu - APOS' (unit, GLO, None): 1} water use 0.0001430443258463604\n",
      "Calculation 458 of 480 {'avoided alubox raw materials - APOS' (unit, GLO, None): -0.002} water use -0.02632595057035577\n",
      "water use at row 0 col 15 has been assigned the list [['alubox raw materials - APOS', 0.028522793941192236], ['alubox production - APOS', 0.028767071875892378], ['autoclave - APOS', 0.3689701755044556], ['Handwash - APOS', 0.0532054172811121], ['alubox EoL melting - APOS', -0.0017979935937575894], ['alubox EoL mixed sorting - APOS', 6.438072139570304e-05], ['transport Alu - APOS', 0.0001430443258463604], ['avoided alubox raw materials - APOS', -0.02632595057035577]]\n",
      "Calculation 459 of 480 {'pp production - APOS' (unit, GLO, None): 1} water use 0.08416777352516693\n",
      "Calculation 460 of 480 {'autoclave - APOS' (unit, GLO, None): 0.1111111111111111} water use 0.3689701755044556\n",
      "Calculation 461 of 480 {'market for corrugated board box' (kilogram, US, None): 0.003852} water use 0.0015714274108754658\n",
      "Calculation 462 of 480 {'packaging film production, low density polyethylene' (kilogram, RER, None): 0.01} water use 0.02073377687100686\n",
      "Calculation 463 of 480 {'market for polypropylene, granulate' (kilogram, GLO, None): 0.0866} water use 0.06509996307663939\n",
      "Calculation 464 of 480 {'market for electricity, high voltage' (kilowatt hour, DK, None): -0.169317841666667} water use -0.027489628321723893\n",
      "Calculation 465 of 480 {'transport Plastic - APOS' (unit, GLO, None): 1} water use 0.005398162023460908\n",
      "Calculation 466 of 480 {'PE incineration no Energy Recovery - APOS' (kilogram, CH, None): -0.01} water use 0.0006561043454060116\n",
      "Calculation 467 of 480 {'PP incineration no Energy Recovery - APOS' (kilogram, CH, None): -0.0866} water use 0.005390743148204007\n",
      "Calculation 468 of 480 {'mixed heating grid DK 23 - APOS' (megajoule, GLO, None): -3.04772115} water use -0.030863944258468272\n",
      "water use at row 1 col 15 has been assigned the list [['pp production - APOS', 0.08416777352516693], ['autoclave - APOS', 0.3689701755044556], ['market for corrugated board box', 0.0015714274108754658], ['packaging film production, low density polyethylene', 0.02073377687100686], ['market for polypropylene, granulate', 0.06509996307663939], ['market for electricity, high voltage', -0.027489628321723893], ['transport Plastic - APOS', 0.005398162023460908], ['PE incineration no Energy Recovery - APOS', 0.0006561043454060116], ['PP incineration no Energy Recovery - APOS', 0.005390743148204007], ['mixed heating grid DK 23 - APOS', -0.030863944258468272]]\n",
      "Calculation 469 of 480 {'pp production - APOS' (unit, GLO, None): 1} water use 0.08416777352516693\n",
      "Calculation 470 of 480 {'autoclave - APOS' (unit, GLO, None): 0.1111111111111111} water use 0.3689701755044556\n",
      "Calculation 471 of 480 {'market for corrugated board box' (kilogram, RER, None): 0.003852} water use 0.002492936538943116\n",
      "Calculation 472 of 480 {'packaging film production, low density polyethylene' (kilogram, RoW, None): 0.01} water use 0.020606560296306222\n",
      "Calculation 473 of 480 {'market for polypropylene, granulate' (kilogram, GLO, None): 0.0866} water use 0.06509996307663939\n",
      "Calculation 474 of 480 {'polyethylene, high density, granulate, recycled to generic market for high density PE granulate' (kilogram, Europe without Switzerland, None): -0.0054} water use -0.0011219839369621784\n",
      "Calculation 475 of 480 {'market for polypropylene, granulate' (kilogram, GLO, None): -0.046764} water use -0.03515398059812361\n",
      "Calculation 476 of 480 {'market for electricity, high voltage' (kilowatt hour, DK, None): -0.0778862071666667} water use -0.012645229246286381\n",
      "Calculation 477 of 480 {'transport Plastic - APOS' (unit, GLO, None): 1.0} water use 0.005398162023460908\n",
      "Calculation 478 of 480 {'PE incineration no Energy Recovery - APOS' (kilogram, CH, None): -0.0046} water use 0.0003018081439469314\n",
      "Calculation 479 of 480 {'PP incineration no Energy Recovery - APOS' (kilogram, CH, None): -0.039836} water use 0.002479742068033257\n",
      "Calculation 480 of 480 {'mixed heating grid DK 23 - APOS' (megajoule, GLO, None): -1.401951729} water use -0.014197414238893816\n",
      "water use at row 2 col 15 has been assigned the list [['pp production - APOS', 0.08416777352516693], ['autoclave - APOS', 0.3689701755044556], ['market for corrugated board box', 0.002492936538943116], ['packaging film production, low density polyethylene', 0.020606560296306222], ['market for polypropylene, granulate', 0.06509996307663939], ['polyethylene, high density, granulate, recycled to generic market for high density PE granulate', -0.0011219839369621784], ['market for polypropylene, granulate', -0.03515398059812361], ['market for electricity, high voltage', -0.012645229246286381], ['transport Plastic - APOS', 0.005398162023460908], ['PE incineration no Energy Recovery - APOS', 0.0003018081439469314], ['PP incineration no Energy Recovery - APOS', 0.002479742068033257], ['mixed heating grid DK 23 - APOS', -0.014197414238893816]]\n",
      "DataFrame with nested lists written to Excel successfully.\n"
     ]
    }
   ],
   "source": [
    "FU, FU_proc, impact_category, plot_x_axis, sub_product_details = lc.LCA_initialization(database_project, database_name, flows)\n",
    "impat =  impact_category\n",
    "\n",
    "calculate = False\n",
    "\n",
    "if f'{path}\\{sheet_name}' is False or calculate is True:\n",
    "    # Caculating the LCA results\n",
    "    df = lc.life_cycle_impact_assessment(flows, FU, impat, FU_proc)\n",
    "    lc.save_LCA_results(df, file_name, sheet_name, impat)\n",
    "\n",
    "\n",
    "df_test = lc.import_LCA_results(file_name, flows, impat)"
   ]
  },
  {
   "cell_type": "code",
   "execution_count": 6,
   "metadata": {},
   "outputs": [
    {
     "name": "stdout",
     "output_type": "stream",
     "text": [
      "Biosphere database already present!!! No setup is needed\n",
      "Initialization is completed\n",
      "Biosphere database already present!!! No setup is needed\n",
      "Initialization is completed\n",
      "Biosphere database already present!!! No setup is needed\n",
      "Initialization is completed\n",
      "Biosphere database already present!!! No setup is needed\n",
      "Initialization is completed\n",
      "Biosphere database already present!!! No setup is needed\n",
      "Initialization is completed\n",
      "Biosphere database already present!!! No setup is needed\n",
      "Initialization is completed\n",
      "Biosphere database already present!!! No setup is needed\n",
      "Initialization is completed\n",
      "Biosphere database already present!!! No setup is needed\n",
      "Initialization is completed\n",
      "Biosphere database already present!!! No setup is needed\n",
      "Initialization is completed\n",
      "Biosphere database already present!!! No setup is needed\n",
      "Initialization is completed\n",
      "Biosphere database already present!!! No setup is needed\n",
      "Initialization is completed\n",
      "Biosphere database already present!!! No setup is needed\n",
      "Initialization is completed\n",
      "Biosphere database already present!!! No setup is needed\n",
      "Initialization is completed\n",
      "Biosphere database already present!!! No setup is needed\n",
      "Initialization is completed\n",
      "Biosphere database already present!!! No setup is needed\n",
      "Initialization is completed\n",
      "Biosphere database already present!!! No setup is needed\n",
      "Initialization is completed\n",
      "Biosphere database already present!!! No setup is needed\n",
      "Initialization is completed\n",
      "Biosphere database already present!!! No setup is needed\n",
      "Initialization is completed\n",
      "Biosphere database already present!!! No setup is needed\n",
      "Initialization is completed\n",
      "Biosphere database already present!!! No setup is needed\n",
      "Initialization is completed\n"
     ]
    }
   ],
   "source": [
    "# # Processing the LCA results\n",
    "sub_proccess, amount = lc.obtaining_sub_process(sub_product_details)\n",
    "FU_sub, FU_sub_process, idx = lc.sub_process_initilization(sub_proccess, FU, database_project, 'df_idx_ofir')\n",
    "flow_count, flow_sub, functional_unit_sub = lc.FU_contibution_initilization(FU_sub, FU_sub_process)\n"
   ]
  },
  {
   "cell_type": "code",
   "execution_count": 7,
   "metadata": {},
   "outputs": [
    {
     "data": {
      "text/plain": [
       "[[{'alubox raw materials - APOS': {'market for aluminium, wrought alloy' (kilogram, GLO, None): 3.592}},\n",
       "  {'alubox raw materials - APOS': {'steel production, chromium steel 18/8, hot rolled' (kilogram, RER, None): 0.742}},\n",
       "  {'alubox production - APOS': {'anodising, aluminium sheet' (square meter, RER, None): 0.7389}},\n",
       "  {'alubox production - APOS': {'impact extrusion of aluminium, 4 strokes' (kilogram, RER, None): 3.592}},\n",
       "  {'alubox production - APOS': {'corrugated board box production' (kilogram, RER, None): 0.46927374301676}},\n",
       "  {'alubox production - APOS': {'metal working, average for chromium steel product manufacturing' (kilogram, RER, None): 0.742}},\n",
       "  {'alubox production - APOS': {'polystyrene foam slab production' (kilogram, RER, None): 0.0}},\n",
       "  {'alubox production - APOS': {'section bar extrusion, aluminium' (kilogram, RER, None): 0.0}},\n",
       "  {'alubox production - APOS': {'sheet rolling, aluminium' (kilogram, RER, None): 3.592}},\n",
       "  {'autoclave - APOS': {'autoclave - APOS' (unit, GLO, None): 0.1111111111111111}},\n",
       "  {'Handwash - APOS': {'Handwash - APOS' (unit, GLO, None): 1}},\n",
       "  {'alubox EoL melting - APOS': {'treatment of metal scrap, mixed, for recycling, unsorted, sorting' (kilogram, Europe without Switzerland, None): -3.592}},\n",
       "  {'alubox EoL mixed sorting - APOS': {'treatment of metal scrap, mixed, for recycling, unsorted, sorting' (kilogram, Europe without Switzerland, None): -0.742}},\n",
       "  {'transport Alu - APOS': {'transport Alu - APOS' (unit, GLO, None): 1}},\n",
       "  {'avoided alubox raw materials - APOS': {'market for aluminium, wrought alloy' (kilogram, GLO, None): 3.4124}},\n",
       "  {'avoided alubox raw materials - APOS': {'steel production, chromium steel 18/8, hot rolled' (kilogram, RER, None): 0.4823}}],\n",
       " [{'pp production - APOS': {'market for textile, nonwoven polypropylene' (kilogram, GLO, None): 0.0866}},\n",
       "  {'autoclave - APOS': {'autoclave - APOS' (unit, GLO, None): 0.1111111111111111}},\n",
       "  {'transport Plastic - APOS': {'transport Plastic - APOS' (unit, GLO, None): 1.0}},\n",
       "  {'PE incineration no Energy Recovery - APOS': {'PE incineration no Energy Recovery - APOS' (kilogram, CH, None): -0.0046}},\n",
       "  {'PP incineration no Energy Recovery - APOS': {'PP incineration no Energy Recovery - APOS' (kilogram, CH, None): -0.039836}},\n",
       "  {'mixed heating grid DK 23 - APOS': {'mixed heating grid DK 23 - APOS' (megajoule, GLO, None): -1.401951729}}],\n",
       " [{'pp production - APOS': {'market for textile, nonwoven polypropylene' (kilogram, GLO, None): 0.0866}},\n",
       "  {'autoclave - APOS': {'autoclave - APOS' (unit, GLO, None): 0.1111111111111111}},\n",
       "  {'transport Plastic - APOS': {'transport Plastic - APOS' (unit, GLO, None): 1.0}},\n",
       "  {'PE incineration no Energy Recovery - APOS': {'PE incineration no Energy Recovery - APOS' (kilogram, CH, None): -0.0046}},\n",
       "  {'PP incineration no Energy Recovery - APOS': {'PP incineration no Energy Recovery - APOS' (kilogram, CH, None): -0.039836}},\n",
       "  {'mixed heating grid DK 23 - APOS': {'mixed heating grid DK 23 - APOS' (megajoule, GLO, None): -1.401951729}}]]"
      ]
     },
     "execution_count": 7,
     "metadata": {},
     "output_type": "execute_result"
    }
   ],
   "source": [
    "fu_sub_updated = lc.process_update(FU, functional_unit_sub)\n",
    "fu_sub_updated"
   ]
  },
  {
   "cell_type": "code",
   "execution_count": 8,
   "metadata": {},
   "outputs": [
    {
     "name": "stdout",
     "output_type": "stream",
     "text": [
      "Processing flow: alubox raw materials - APOS in impact category: climate change\n",
      "'market for aluminium, wrought alloy' (kilogram, GLO, None) Calculation 1 of 146, Score: 0.1004853163548989 climate change\n",
      "'steel production, chromium steel 18/8, hot rolled' (kilogram, RER, None) Calculation 2 of 146, Score: 0.008127278959145412 climate change\n",
      "row : 0, col : 0 is assigned list : [[\"'market for aluminium, wrought alloy' (kilogram, GLO, None)\", 0.1004853163548989], [\"'steel production, chromium steel 18/8, hot rolled' (kilogram, RER, None)\", 0.008127278959145412]]\n",
      "Processing flow: alubox production - APOS in impact category: climate change\n",
      "'anodising, aluminium sheet' (square meter, RER, None) Calculation 3 of 146, Score: 0.004672406256994314 climate change\n",
      "'impact extrusion of aluminium, 4 strokes' (kilogram, RER, None) Calculation 4 of 146, Score: 0.010051600281786834 climate change\n",
      "'corrugated board box production' (kilogram, RER, None) Calculation 5 of 146, Score: 0.0006385923617027709 climate change\n",
      "'metal working, average for chromium steel product manufacturing' (kilogram, RER, None) Calculation 6 of 146, Score: 0.0036167385913644383 climate change\n",
      "'polystyrene foam slab production' (kilogram, RER, None) Calculation 7 of 146, Score: 0.0 climate change\n",
      "'section bar extrusion, aluminium' (kilogram, RER, None) Calculation 8 of 146, Score: 0.0 climate change\n",
      "'sheet rolling, aluminium' (kilogram, RER, None) Calculation 9 of 146, Score: 0.0035481787763880705 climate change\n",
      "row : 1, col : 0 is assigned list : [[\"'anodising, aluminium sheet' (square meter, RER, None)\", 0.004672406256994314], [\"'impact extrusion of aluminium, 4 strokes' (kilogram, RER, None)\", 0.010051600281786834], [\"'corrugated board box production' (kilogram, RER, None)\", 0.0006385923617027709], [\"'metal working, average for chromium steel product manufacturing' (kilogram, RER, None)\", 0.0036167385913644383], [\"'polystyrene foam slab production' (kilogram, RER, None)\", 0.0], [\"'section bar extrusion, aluminium' (kilogram, RER, None)\", 0.0], [\"'sheet rolling, aluminium' (kilogram, RER, None)\", 0.0035481787763880705]]\n",
      "Processing flow: autoclave - APOS in impact category: climate change\n",
      "'autoclave - APOS' (unit, GLO, None) Calculation 10 of 146, Score: 0.07868970470899271 climate change\n",
      "row : 2, col : 0 is assigned list : [[\"'autoclave - APOS' (unit, GLO, None)\", 0.07868970470899271]]\n",
      "Processing flow: Handwash - APOS in impact category: climate change\n",
      "'Handwash - APOS' (unit, GLO, None) Calculation 11 of 146, Score: 0.023032683045376617 climate change\n",
      "row : 3, col : 0 is assigned list : [[\"'Handwash - APOS' (unit, GLO, None)\", 0.023032683045376617]]\n",
      "Processing flow: alubox EoL melting - APOS in impact category: climate change\n",
      "'treatment of metal scrap, mixed, for recycling, unsorted, sorting' (kilogram, Europe without Switzerland, None) Calculation 12 of 146, Score: -0.004142427589864019 climate change\n",
      "row : 4, col : 0 is assigned list : [[\"'treatment of metal scrap, mixed, for recycling, unsorted, sorting' (kilogram, Europe without Switzerland, None)\", -0.004142427589864019]]\n",
      "Processing flow: alubox EoL mixed sorting - APOS in impact category: climate change\n",
      "'treatment of metal scrap, mixed, for recycling, unsorted, sorting' (kilogram, Europe without Switzerland, None) Calculation 13 of 146, Score: 0.00013592576902044168 climate change\n",
      "row : 5, col : 0 is assigned list : [[\"'treatment of metal scrap, mixed, for recycling, unsorted, sorting' (kilogram, Europe without Switzerland, None)\", 0.00013592576902044168]]\n",
      "Processing flow: transport Alu - APOS in impact category: climate change\n",
      "'transport Alu - APOS' (unit, GLO, None) Calculation 14 of 146, Score: 0.0021416452431921636 climate change\n",
      "row : 6, col : 0 is assigned list : [[\"'transport Alu - APOS' (unit, GLO, None)\", 0.0021416452431921636]]\n",
      "Processing flow: avoided alubox raw materials - APOS in impact category: climate change\n",
      "'market for aluminium, wrought alloy' (kilogram, GLO, None) Calculation 15 of 146, Score: -0.1004853163548989 climate change\n",
      "'steel production, chromium steel 18/8, hot rolled' (kilogram, RER, None) Calculation 16 of 146, Score: -0.008127278959145412 climate change\n",
      "row : 7, col : 0 is assigned list : [[\"'market for aluminium, wrought alloy' (kilogram, GLO, None)\", -0.1004853163548989], [\"'steel production, chromium steel 18/8, hot rolled' (kilogram, RER, None)\", -0.008127278959145412]]\n",
      "Processing flow: pp production - APOS in impact category: climate change\n",
      "'market for textile, nonwoven polypropylene' (kilogram, GLO, None) Calculation 17 of 146, Score: 0.2646149052873767 climate change\n",
      "row : 8, col : 0 is assigned list : [[\"'market for textile, nonwoven polypropylene' (kilogram, GLO, None)\", 0.2646149052873767]]\n",
      "Processing flow: autoclave - APOS in impact category: climate change\n",
      "'autoclave - APOS' (unit, GLO, None) Calculation 18 of 146, Score: 0.07868970470899271 climate change\n",
      "row : 9, col : 0 is assigned list : [[\"'autoclave - APOS' (unit, GLO, None)\", 0.07868970470899271]]\n",
      "Processing flow: transport Plastic - APOS in impact category: climate change\n",
      "'transport Plastic - APOS' (unit, GLO, None) Calculation 19 of 146, Score: 0.05898071824967688 climate change\n",
      "row : 10, col : 0 is assigned list : [[\"'transport Plastic - APOS' (unit, GLO, None)\", 0.05898071824967688]]\n",
      "Processing flow: PE incineration no Energy Recovery - APOS in impact category: climate change\n",
      "'PE incineration no Energy Recovery - APOS' (kilogram, CH, None) Calculation 20 of 146, Score: -6.389724739609227e-05 climate change\n",
      "row : 11, col : 0 is assigned list : [[\"'PE incineration no Energy Recovery - APOS' (kilogram, CH, None)\", -6.389724739609227e-05]]\n",
      "Processing flow: PP incineration no Energy Recovery - APOS in impact category: climate change\n",
      "'PP incineration no Energy Recovery - APOS' (kilogram, CH, None) Calculation 21 of 146, Score: -0.0040473297366526275 climate change\n",
      "row : 12, col : 0 is assigned list : [[\"'PP incineration no Energy Recovery - APOS' (kilogram, CH, None)\", -0.0040473297366526275]]\n",
      "Processing flow: mixed heating grid DK 23 - APOS in impact category: climate change\n",
      "'mixed heating grid DK 23 - APOS' (megajoule, GLO, None) Calculation 22 of 146, Score: 0.12883969400863773 climate change\n",
      "row : 13, col : 0 is assigned list : [[\"'mixed heating grid DK 23 - APOS' (megajoule, GLO, None)\", 0.12883969400863773]]\n",
      "Processing flow: pp production - APOS in impact category: climate change\n",
      "'market for textile, nonwoven polypropylene' (kilogram, GLO, None) Calculation 23 of 146, Score: 0.2646149052873767 climate change\n",
      "row : 14, col : 0 is assigned list : [[\"'market for textile, nonwoven polypropylene' (kilogram, GLO, None)\", 0.2646149052873767]]\n",
      "Processing flow: autoclave - APOS in impact category: climate change\n",
      "'autoclave - APOS' (unit, GLO, None) Calculation 24 of 146, Score: 0.07868970470899271 climate change\n",
      "row : 15, col : 0 is assigned list : [[\"'autoclave - APOS' (unit, GLO, None)\", 0.07868970470899271]]\n",
      "Processing flow: transport Plastic - APOS in impact category: climate change\n",
      "'transport Plastic - APOS' (unit, GLO, None) Calculation 25 of 146, Score: 0.05898071824967688 climate change\n",
      "row : 16, col : 0 is assigned list : [[\"'transport Plastic - APOS' (unit, GLO, None)\", 0.05898071824967688]]\n",
      "Processing flow: PE incineration no Energy Recovery - APOS in impact category: climate change\n",
      "'PE incineration no Energy Recovery - APOS' (kilogram, CH, None) Calculation 26 of 146, Score: -6.389724739609227e-05 climate change\n",
      "row : 17, col : 0 is assigned list : [[\"'PE incineration no Energy Recovery - APOS' (kilogram, CH, None)\", -6.389724739609227e-05]]\n",
      "Processing flow: PP incineration no Energy Recovery - APOS in impact category: climate change\n",
      "'PP incineration no Energy Recovery - APOS' (kilogram, CH, None) Calculation 27 of 146, Score: -0.0040473297366526275 climate change\n",
      "row : 18, col : 0 is assigned list : [[\"'PP incineration no Energy Recovery - APOS' (kilogram, CH, None)\", -0.0040473297366526275]]\n",
      "Processing flow: mixed heating grid DK 23 - APOS in impact category: climate change\n",
      "'mixed heating grid DK 23 - APOS' (megajoule, GLO, None) Calculation 28 of 146, Score: 0.12883969400863773 climate change\n",
      "row : 19, col : 0 is assigned list : [[\"'mixed heating grid DK 23 - APOS' (megajoule, GLO, None)\", 0.12883969400863773]]\n"
     ]
    }
   ],
   "source": [
    "df_cont = lc.LCIA_contribution(impat[1], flow_count, FU_sub_process, fu_sub_updated, amount, idx)"
   ]
  },
  {
   "cell_type": "code",
   "execution_count": 9,
   "metadata": {},
   "outputs": [
    {
     "name": "stdout",
     "output_type": "stream",
     "text": [
      "DataFrame with nested lists written to Excel successfully.\n"
     ]
    }
   ],
   "source": [
    "lc.save_LCA_results(df_cont, file_cont_name, sheet_name, impat)"
   ]
  },
  {
   "cell_type": "code",
   "execution_count": 10,
   "metadata": {},
   "outputs": [],
   "source": [
    "df_c = lc.import_LCA_results(file_cont_name, idx, impact_category[1])\n",
    "# lc.save_LCA_results(df_x, file_cont_name, sheet_name, impat)"
   ]
  },
  {
   "cell_type": "code",
   "execution_count": 11,
   "metadata": {},
   "outputs": [],
   "source": [
    "df_tot, df_scaled, df_cols = lc.dataframe_element_scaling(df_test)\n",
    "index_list = list(df_scaled.index.values)\n",
    "plt_leg = lc.dataframe_column_structure(impat)"
   ]
  },
  {
   "cell_type": "code",
   "execution_count": 12,
   "metadata": {},
   "outputs": [
    {
     "data": {
      "text/html": [
       "<div>\n",
       "<style scoped>\n",
       "    .dataframe tbody tr th:only-of-type {\n",
       "        vertical-align: middle;\n",
       "    }\n",
       "\n",
       "    .dataframe tbody tr th {\n",
       "        vertical-align: top;\n",
       "    }\n",
       "\n",
       "    .dataframe thead tr th {\n",
       "        text-align: left;\n",
       "    }\n",
       "</style>\n",
       "<table border=\"1\" class=\"dataframe\">\n",
       "  <thead>\n",
       "    <tr>\n",
       "      <th></th>\n",
       "      <th>EF v3.1 EN15804</th>\n",
       "    </tr>\n",
       "    <tr>\n",
       "      <th></th>\n",
       "      <th>climate change</th>\n",
       "    </tr>\n",
       "    <tr>\n",
       "      <th></th>\n",
       "      <th>global warming potential (GWP100)</th>\n",
       "    </tr>\n",
       "  </thead>\n",
       "  <tbody>\n",
       "    <tr>\n",
       "      <th>alubox - APOS</th>\n",
       "      <td>[[alubox raw materials - APOS, 0.1086126037249...</td>\n",
       "    </tr>\n",
       "    <tr>\n",
       "      <th>PP sheet sc2 - APOS</th>\n",
       "      <td>[[pp production - APOS, 0.2646149033415841], [...</td>\n",
       "    </tr>\n",
       "    <tr>\n",
       "      <th>PP sheet sc3 - APOS</th>\n",
       "      <td>[[pp production - APOS, 0.2646149033415841], [...</td>\n",
       "    </tr>\n",
       "  </tbody>\n",
       "</table>\n",
       "</div>"
      ],
      "text/plain": [
       "                                                       EF v3.1 EN15804\n",
       "                                                        climate change\n",
       "                                     global warming potential (GWP100)\n",
       "alubox - APOS        [[alubox raw materials - APOS, 0.1086126037249...\n",
       "PP sheet sc2 - APOS  [[pp production - APOS, 0.2646149033415841], [...\n",
       "PP sheet sc3 - APOS  [[pp production - APOS, 0.2646149033415841], [..."
      ]
     },
     "execution_count": 12,
     "metadata": {},
     "output_type": "execute_result"
    }
   ],
   "source": [
    "df_GWP = df_test[df_test.columns[1]].to_frame()\n",
    "df_GWP"
   ]
  },
  {
   "cell_type": "code",
   "execution_count": 26,
   "metadata": {},
   "outputs": [
    {
     "name": "stdout",
     "output_type": "stream",
     "text": [
      "Raw mat. 0.1086126037249528\n",
      "Production 0.02252759239605634\n",
      "Autoclave 0.7082072258817945\n",
      "Handwash 0.023032683045376617\n",
      "EoL melting -0.004142427591912933\n",
      "EoL mixed sorting 0.0001359257682759236\n",
      "Transport 0.0021416452431921636\n",
      "Avoided virgin mat. -0.10074379129214364\n",
      "PP production 0.2646149033415841\n",
      "Autoclave 0.7082072258817945\n",
      "Cardboard box 0.003675974613362197\n",
      "PE packaging film prod. 0.028713167343073602\n",
      "PP granulate 0.19941544109984116\n",
      "Avoided electricity -0.049852275069206566\n",
      "Transport 0.05898071824967688\n",
      "PE incineration 0.030197185021479705\n",
      "PP incineration 0.22086913480512055\n",
      "Avoided heat -0.1997831212862638\n",
      "PP production 0.2646149033415841\n",
      "Autoclave 0.7082072258817945\n",
      "Cardboard box 0.002858973986647068\n",
      "PE packaging film prod. 0.030241498140176137\n",
      "PP granulate 0.19941544109984116\n",
      "PE granulate -0.0028704557473317365\n",
      "PP granulate -0.10768434107286785\n",
      "Avoided electricity -0.022932047846150532\n",
      "Transport 0.05898071824967688\n",
      "PE incineration 0.013890705978954686\n",
      "PP incineration 0.10159980332555431\n",
      "Avoided heat -0.09190023506758777\n"
     ]
    },
    {
     "name": "stderr",
     "output_type": "stream",
     "text": [
      "C:\\Users\\ruw\\AppData\\Local\\Temp\\3\\ipykernel_11800\\483790058.py:10: FutureWarning: Series.__getitem__ treating keys as positions is deprecated. In a future version, integer keys will always be treated as labels (consistent with DataFrame behavior). To access a value by position, use `ser.iloc[pos]`\n",
      "  for lst_size in range(len(df_GWP[key][df_size])):\n",
      "C:\\Users\\ruw\\AppData\\Local\\Temp\\3\\ipykernel_11800\\483790058.py:12: FutureWarning: Series.__getitem__ treating keys as positions is deprecated. In a future version, integer keys will always be treated as labels (consistent with DataFrame behavior). To access a value by position, use `ser.iloc[pos]`\n",
      "  x = df_GWP[key][df_size][lst_size][0]\n",
      "C:\\Users\\ruw\\AppData\\Local\\Temp\\3\\ipykernel_11800\\483790058.py:13: FutureWarning: Series.__getitem__ treating keys as positions is deprecated. In a future version, integer keys will always be treated as labels (consistent with DataFrame behavior). To access a value by position, use `ser.iloc[pos]`\n",
      "  gwp = df_GWP[key][df_size][lst_size][1]\n"
     ]
    }
   ],
   "source": [
    "x_axis = []\n",
    "GWP_value = []\n",
    "\n",
    "# gwp_tot = [0] * len(df_updated)\n",
    "for df_size in range(len(df_GWP)):\n",
    "    lst_x = []\n",
    "    lst_GWP = []\n",
    "    gwp_tot = 0\n",
    "    for key in df_GWP.keys():\n",
    "        for lst_size in range(len(df_GWP[key][df_size])):\n",
    "            #print(df_size, lst_size)\n",
    "            x = df_GWP[key][df_size][lst_size][0]\n",
    "            gwp = df_GWP[key][df_size][lst_size][1]\n",
    "            \n",
    "            #print(gwp,x)\n",
    "            if '- APOS' in x:\n",
    "                #print(key)\n",
    "                x = x.replace(f' - APOS', '')\n",
    "            if 'alubox' in x:           \n",
    "                x = x.replace('alubox ', '')\n",
    "                if 'raw' in x and 'avoid' not in x.lower():\n",
    "                    x = x.replace('raw materials', 'Raw mat.')\n",
    "                elif 'raw' in x and 'avoid' in x:\n",
    "                    x = 'Avoided virgin mat.'\n",
    "                if 'production' in x:\n",
    "                    x = 'Production'\n",
    "            if 'Waste' in x:\n",
    "                x = 'Incineration'\n",
    "                \n",
    "            if 'market for electricity' in x:\n",
    "                x = 'Avoided electricity'\n",
    "            if 'heating' in x:\n",
    "                x = 'Avoided heat'\n",
    "            if 'market for polypropylene' in x:\n",
    "                x = 'PP granulate'\n",
    "            if 'PE granulate' in x:\n",
    "                x = 'PE granulate'\n",
    "            if 'no Energy Recovery' in x:\n",
    "                x = x.replace(' no Energy Recovery', '')\n",
    "                # print(x)\n",
    "                # gwp = - gwp\n",
    "            if 'board box' in x:\n",
    "                x = 'Cardboard box'\n",
    "            if 'packaging film' in x:\n",
    "                x = 'PE packaging film prod.'\n",
    "            if 'pp' in x:\n",
    "                x = x.replace('pp', 'PP')\n",
    "            if 'autoclave' in x:\n",
    "                x = x.replace('autoclave', 'Autoclave')\n",
    "            if 'transport' in x:\n",
    "                x = 'Transport'\n",
    "\n",
    "            lst_x.append(x)\n",
    "            lst_GWP.append(gwp)\n",
    "            gwp_tot += gwp\n",
    "            print(x, gwp)\n",
    "    # print(gwp_tot, lst_GWP)\n",
    "    lst_GWP.append(gwp_tot)\n",
    "    lst_x.append('Total')\n",
    "    x_axis.append(lst_x)\n",
    "    GWP_value.append(lst_GWP)\n",
    "\n"
   ]
  },
  {
   "cell_type": "code",
   "execution_count": null,
   "metadata": {},
   "outputs": [],
   "source": []
  },
  {
   "cell_type": "code",
   "execution_count": 27,
   "metadata": {},
   "outputs": [],
   "source": [
    "# for x in GWP_value:\n",
    "#     # print(x)\n",
    "#     temp_val = 0\n",
    "#     for y in x:\n",
    "#         if y != x[-1]:\n",
    "#             temp_val += y\n",
    "#     print(temp_val, x[-1]) "
   ]
  },
  {
   "cell_type": "code",
   "execution_count": 28,
   "metadata": {},
   "outputs": [],
   "source": [
    "# Categories definitions\n",
    "categories = [\"Raw mat. + prod.\", \"Use\", \"Transport\", \"EoL\", \"Total\"]\n",
    "category_mapping = {\n",
    "    \"Raw mat. + prod.\": [\"PP production\", \"Cardboard box\", \"Scalpel\", \"Raw mat.\", \"Production\"],\n",
    "    \"Use\": [\"Autoclave\", \"disinfection\", \"Handwash\", \"Remanufacturing\"],\n",
    "    \"Transport\": [\"Transport\"],\n",
    "    \"EoL\": [\"PP incineration\", \"PE incineration\", \"Avoided heat\", \"Avoided electricity\", \"EoL melting\", \"EoL mixed sorting\", \"Avoided virgin mat.\"],\n",
    "    \"Total\": [\"Total\"]\n",
    "}\n",
    "\n",
    "# Ensure the legend displays items in the category order\n",
    "ordered_legend = {key: [] for key in category_mapping}\n",
    "\n",
    "for x_lst in range(len(x_axis)):\n",
    "    for x in range(len(x_axis[x_lst])):\n",
    "        \n",
    "        for key, item in category_mapping.items():\n",
    "                # print(x_axis[x_lst][x], item, x_axis[x_lst][x] in item)\n",
    "                if x_axis[x_lst][x] in item:\n",
    "                    # print(x_axis[x_lst][x], item, x_lst, x)\n",
    "                    ordered_legend[key].append(x_axis[x_lst][x])\n",
    "\n",
    "plot_legend = {key: [] for key in category_mapping}\n",
    "temp = []\n",
    "\n",
    "for key,value in ordered_legend.items():\n",
    "    #print(key, value)\n",
    "    for val in value:\n",
    "        if val not in temp:\n",
    "            temp.append(val)\n",
    "            # print(val)\n",
    "            plot_legend[key].append(val)\n",
    "\n",
    "\n",
    "colors = plot_colors(temp,'turbo')\n"
   ]
  },
  {
   "cell_type": "code",
   "execution_count": 29,
   "metadata": {},
   "outputs": [],
   "source": [
    "columns_to_plot = df_scaled.columns"
   ]
  },
  {
   "cell_type": "code",
   "execution_count": 30,
   "metadata": {},
   "outputs": [],
   "source": [
    "plt_leg = lc.dataframe_column_structure(impact_category)\n"
   ]
  },
  {
   "cell_type": "code",
   "execution_count": 31,
   "metadata": {},
   "outputs": [],
   "source": [
    "def round_down(value):\n",
    "    # https://stackoverflow.com/questions/41383787/round-down-to-2-decimal-in-python\n",
    "    value = math.floor(value * 10)/10.0\n",
    "    return value"
   ]
  },
  {
   "cell_type": "code",
   "execution_count": 32,
   "metadata": {},
   "outputs": [
    {
     "data": {
      "text/plain": [
       "-1.5"
      ]
     },
     "execution_count": 32,
     "metadata": {},
     "output_type": "execute_result"
    }
   ],
   "source": [
    "round_down(-1.43)"
   ]
  },
  {
   "cell_type": "code",
   "execution_count": 50,
   "metadata": {},
   "outputs": [
    {
     "name": "stdout",
     "output_type": "stream",
     "text": [
      "0.43169089883557843\n",
      "0.5013546454106209\n",
      "0.7604561030058218\n"
     ]
    },
    {
     "data": {
      "image/png": "[encoded data removed]",
      "text/plain": [
       "<Figure size 900x700 with 1 Axes>"
      ]
     },
     "metadata": {},
     "output_type": "display_data"
    }
   ],
   "source": [
    "# Plotting\n",
    "fig, ax = plt.subplots(figsize=(9,7))\n",
    "\n",
    "num_processes = len(df_scaled)\n",
    "bar_width = 1/(len(index_list) + 1.5) \n",
    "index = np.arange(len(columns_to_plot))\n",
    "\n",
    "# Plotting each group of bars\n",
    "min_val = 0\n",
    "for i, process in enumerate(df_scaled.index):\n",
    "    values = df_scaled.loc[process, columns_to_plot].values\n",
    "    ax.bar((index + i * bar_width), values, bar_width, label=process, color=colors[i])  \n",
    "    print(min(values))\n",
    "    if min_val > min(values):\n",
    "        min_val = min(values)\n",
    "\n",
    "\n",
    "# Setting labels and title\n",
    "ax.set_title('Scaled impact of the Functional Unit',weight='bold')\n",
    "ax.set_xticks(index + bar_width )\n",
    "ax.set_xticklabels(plot_x_axis)\n",
    "plt.xticks(rotation=90)\n",
    "# plt.yticks(np.arange(-1.6, 1.01, step=0.2))\n",
    "# plt.ylim(-1.52,1.03)\n",
    "\n",
    "ax.legend(flow_legend,bbox_to_anchor=(1.01, .75, .25, 0), loc=\"lower left\",\n",
    "            mode=\"expand\", borderaxespad=0,  ncol=1)\n",
    "plt.tight_layout()\n",
    "# plt.savefig(os.path.join(save_dir, img_res), bbox_inches='tight')\n",
    "plt.show()"
   ]
  },
  {
   "cell_type": "code",
   "execution_count": 34,
   "metadata": {},
   "outputs": [],
   "source": [
    "directory = 'C:\\\\Users\\\\ruw\\\\Desktop\\\\RA\\\\'\n",
    "lst_scaled = lc.LCIA_normalization(directory, df_tot)"
   ]
  },
  {
   "cell_type": "code",
   "execution_count": 35,
   "metadata": {},
   "outputs": [
    {
     "data": {
      "text/plain": [
       "[0.6484634229362394, 1.0, 0.9462859204664091]"
      ]
     },
     "execution_count": 35,
     "metadata": {},
     "output_type": "execute_result"
    }
   ],
   "source": [
    "lst_scaled"
   ]
  },
  {
   "cell_type": "code",
   "execution_count": 36,
   "metadata": {},
   "outputs": [
    {
     "data": {
      "image/png": "[encoded data removed]",
      "text/plain": [
       "<Figure size 900x700 with 1 Axes>"
      ]
     },
     "metadata": {},
     "output_type": "display_data"
    }
   ],
   "source": [
    "# Plotting\n",
    "fig, ax = plt.subplots(figsize=(9,7))\n",
    "\n",
    "num_processes = len(lst_scaled)\n",
    "bar_width = 1/(len(index_list)-1) \n",
    "index = np.arange(len(index_list))   \n",
    "\n",
    "ax.bar(index + bar_width, lst_scaled, bar_width, label=index_list, color=colors)\n",
    "\n",
    "# Setting labels and title\n",
    "ax.set_title('Scaled single score of the Functional Unit',weight='bold')\n",
    "ax.set_xticks(index + bar_width )\n",
    "ax.set_xticklabels(flow_legend)\n",
    "#plt.xticks(rotation=90)\n",
    "plt.yticks(np.arange(0, 1.01, step=0.1))\n",
    "plt.ylim(0,1.03)\n",
    "\n",
    "plt.tight_layout()\n",
    "# plt.savefig(os.path.join(save_dir, img_res), bbox_inches='tight')\n",
    "plt.show()"
   ]
  },
  {
   "cell_type": "code",
   "execution_count": 37,
   "metadata": {},
   "outputs": [],
   "source": [
    "# Ensure the legend displays items in the category order\n",
    "ordered_legend = {key: [] for key in category_mapping}\n",
    "\n",
    "for x_lst in range(len(x_axis)):\n",
    "    for x in range(len(x_axis[x_lst])):\n",
    "        \n",
    "        for key, item in category_mapping.items():\n",
    "                #print(x_axis[x_lst][x], item, x_axis[x_lst][x] in item)\n",
    "                if x_axis[x_lst][x] in item:\n",
    "                    # print(x_axis[x_lst][x], item, x_lst, x)\n",
    "                    ordered_legend[key].append(x_axis[x_lst][x])\n",
    "\n",
    "plot_legend = {key: [] for key in category_mapping}\n",
    "temp = []\n",
    "\n",
    "for key,value in ordered_legend.items():\n",
    "    #print(key, value)\n",
    "    for val in value:\n",
    "        if val not in temp:\n",
    "            temp.append(val)\n",
    "            # print(val)\n",
    "            plot_legend[key].append(val)"
   ]
  },
  {
   "cell_type": "code",
   "execution_count": 55,
   "metadata": {},
   "outputs": [
    {
     "data": {
      "image/png": "[encoded data removed]",
      "text/plain": [
       "<Figure size 1200x600 with 1 Axes>"
      ]
     },
     "metadata": {},
     "output_type": "display_data"
    }
   ],
   "source": [
    "\n",
    "color_map = {}\n",
    "#unique_processes = {process for sublist in x_axis for process in sublist}\n",
    "for i, process in enumerate(temp):\n",
    "    color_map[process] = colors[i]\n",
    "    #print(process, i)\n",
    "\n",
    "\n",
    "\n",
    "# Initialize an ordered dictionary for legend_handles to maintain the order\n",
    "legend_handles = OrderedDict()\n",
    "\n",
    "# Initialize legend_handles with keys from plot_legend and empty lists\n",
    "for process in temp:\n",
    "    legend_handles[process] = None\n",
    "\n",
    "# Plotting logic\n",
    "if len(x_axis) == len(GWP_value):\n",
    "    num_scenarios = len(GWP_value)  # Number of scenarios\n",
    "    bar_width = 0.15  # Width of the bars for each scenario\n",
    "    space_between_scenarios = 0.05  # Space between each scenario set\n",
    "    index = np.arange(len(categories))  # X-axis index positions for the categories\n",
    "\n",
    "    # Create the plot\n",
    "    fig, ax = plt.subplots(figsize=(12, 6))\n",
    "\n",
    "    idx = ['x', '^', 'o']  # List of markers for scenarios\n",
    "    all_markers = []  # List to store Line2D objects for markers\n",
    "\n",
    "    # Main plotting logic\n",
    "    for scenario in range(num_scenarios):\n",
    "        bottom_positive = np.zeros(len(categories))  # Initialize the bottom array for positive values\n",
    "        bottom_negative = np.zeros(len(categories))  # Initialize the bottom array for negative values\n",
    "        scenario_index = index + scenario * (bar_width + space_between_scenarios)\n",
    "\n",
    "        for length in range(len(x_axis[scenario])):\n",
    "            process_name = x_axis[scenario][length]\n",
    "            value = GWP_value[scenario][length]\n",
    "\n",
    "            # Determine which category this process falls into\n",
    "            for i, category in enumerate(categories):\n",
    "                if any(keyword in process_name for keyword in category_mapping[category]):\n",
    "                    # Assign color based on the process name\n",
    "                    color = color_map[process_name]\n",
    "\n",
    "                    # Create a bar with the specific color\n",
    "                    if value >= 0:\n",
    "                        bar = ax.bar(scenario_index[i], value, bar_width,\n",
    "                                    label=f\"{process_name}\" if legend_handles[process_name] is None else \"\",\n",
    "                                    bottom=bottom_positive[i],\n",
    "                                    color=color)\n",
    "                        bottom_positive[i] += value\n",
    "                    else:\n",
    "                        bar = ax.bar(scenario_index[i], value, bar_width,\n",
    "                                    label=f\"{process_name}\" if legend_handles[process_name] is None else \"\",\n",
    "                                    bottom=bottom_negative[i],\n",
    "                                    color=color)\n",
    "                        bottom_negative[i] += value\n",
    "\n",
    "                    # Add the bar to the corresponding process in legend_handles\n",
    "                    if legend_handles[process_name] is None:\n",
    "                        legend_handles[process_name] = bar\n",
    "\n",
    "                    # Add plot markers (symbols) at the bottom\n",
    "                    ax.plot(scenario_index[i], -0.3, marker=idx[scenario], color='gray')\n",
    "\n",
    "                    break\n",
    "\n",
    "    # Add custom markers to the legend\n",
    "    for i, marker in enumerate(idx):\n",
    "        all_markers.append(Line2D([0], [0], marker=marker, color='gray', label=f'Scenario {i + 1}', linestyle='None'))\n",
    "\n",
    "    # Set x-axis labels and ticks, adjusting to account for spacing\n",
    "    tick_positions = index + (num_scenarios - 1) * (bar_width + space_between_scenarios) / 2\n",
    "    ax.set_xticks(tick_positions)\n",
    "    ax.set_xticklabels(categories)\n",
    "\n",
    "    # Axis limits\n",
    "    ax.set_ylim(-.35, 1.33)\n",
    "    ax.set_yticks(np.arange(-0.3, 1.31, step=0.1))\n",
    "    ax.set_ylabel(\"Global Warming Potential [kg CO$_2$e]\")\n",
    "    ax.set_title('GWP impact for each life stage for 1 FU')\n",
    "\n",
    "    # Add markers to legend_handles for display at the bottom of the legend\n",
    "    valid_legend_handles = [(k, v) for k, v in legend_handles.items() if v is not None]\n",
    "    legend_handles_for_display = valid_legend_handles + [(flow_legend[i], marker) for i, marker in enumerate(all_markers)]\n",
    "\n",
    "    if legend_handles_for_display:\n",
    "        ax.legend(handles=[v for k, v in legend_handles_for_display], labels=[k for k, v in legend_handles_for_display], bbox_to_anchor=(1.005, 1), loc='upper left')\n",
    "\n",
    "    plt.tight_layout()\n",
    "    #plt.savefig(os.path.join(save_dir, f'LC_impact_ofir_APOS.jpg'), bbox_inches='tight')\n",
    "    plt.show()\n",
    "    \n",
    "\n",
    "else:\n",
    "    print('The x-axis and GWP values have different sizes')\n"
   ]
  },
  {
   "cell_type": "code",
   "execution_count": 56,
   "metadata": {},
   "outputs": [],
   "source": [
    "def node_name_update(node):\n",
    "    if '- APOS - sc 1' in node:\n",
    "        node = node.replace(f' - APOS - sc 1', '')\n",
    "        if  'avoided alubox raw materials' in node:\n",
    "            node = 'Avoided raw mat.'\n",
    "        elif 'melting' in node:\n",
    "            node = 'Melting'\n",
    "        elif 'mixed sorting' in node:\n",
    "            node = 'Mixed sorting'\n",
    "        elif 'prod' in node:\n",
    "            node = 'Alubox prod.'\n",
    "        else:\n",
    "            node = node.title()\n",
    "    elif 'wrought alloy' in node:\n",
    "        node = 'Virgin alu'\n",
    "    elif 'steel production' in node:\n",
    "        node = 'Virgin steel'\n",
    "    elif 'impact extrusio' in node:\n",
    "        node = 'Alu impact extrusion'\n",
    "    elif 'corrugated' in node:\n",
    "        node = 'Cardboard box'\n",
    "    elif 'anodising' in node:\n",
    "        node = 'Alu anodising'\n",
    "    elif 'transport' in node:\n",
    "        node = 'Transport'\n",
    "    \n",
    "    return node"
   ]
  },
  {
   "cell_type": "code",
   "execution_count": 57,
   "metadata": {},
   "outputs": [],
   "source": [
    "def source_name_update(process, source):\n",
    "        \n",
    "    if 'wrought alloy' in source:\n",
    "        source = 'Alu wrought alloy'\n",
    "    elif 'steel production' in source:\n",
    "        source = 'Virgin steel'\n",
    "    elif 'anodising' in source:\n",
    "        source = 'Alu anodising'\n",
    "    elif 'impact extrusio' in source:\n",
    "        source = 'Alu impact extrusion'\n",
    "    elif 'transport' in source:\n",
    "        source = 'Transport'\n",
    "    elif 'corrugated' in source:\n",
    "        source = 'Cardboard box'\n",
    "    elif 'metal working' in source:\n",
    "        source = 'Steel manufacturing'\n",
    "    elif 'sheet rolling' in source:\n",
    "        source = 'Alu sheet rolling'\n",
    "    elif 'recycling' in source:\n",
    "        if 'mixed sorting' in process.lower():\n",
    "            source = 'Mixed metal scrap'\n",
    "        else:\n",
    "            source = 'Alu remelting'\n",
    "    elif 'autoclave' in source:\n",
    "        source = 'Autoclave'\n",
    "    elif 'Handwash' in source:\n",
    "        source = 'Handwash'\n",
    "    return source"
   ]
  },
  {
   "cell_type": "code",
   "execution_count": 58,
   "metadata": {},
   "outputs": [
    {
     "name": "stdout",
     "output_type": "stream",
     "text": [
      "alubox raw materials - APOS - sc 1 : Raw : Alubox Raw Materials, source : Alu wrought alloy, GWP : 13.23\n",
      "alubox raw materials - APOS - sc 1 : Raw : Alubox Raw Materials, source : Virgin steel, GWP : 1.07\n",
      "alubox production - APOS - sc 1 : Prod. : Alubox prod., source : Alu anodising, GWP : 0.61\n",
      "alubox production - APOS - sc 1 : Prod. : Alubox prod., source : Alu impact extrusion, GWP : 1.32\n",
      "alubox production - APOS - sc 1 : Prod. : Alubox prod., source : Cardboard box, GWP : 0.08\n",
      "alubox production - APOS - sc 1 : Prod. : Alubox prod., source : Steel manufacturing, GWP : 0.48\n",
      "alubox production - APOS - sc 1 : Prod. : Alubox prod., source : Alu sheet rolling, GWP : 0.47\n",
      "autoclave - APOS - sc 1 : Use : Autoclave, source : Autoclave, GWP : 10.36\n",
      "Handwash - APOS - sc 1 : Use : Handwash, source : Handwash, GWP : 3.03\n",
      "alubox EoL melting - APOS - sc 1 : EoL : Melting, source : Avoided alu remelting, GWP : -0.55\n",
      "alubox EoL mixed sorting - APOS - sc 1 : EoL : Mixed sorting, source : Mixed metal scrap, GWP : 0.02\n",
      "transport Alu - APOS - sc 1 : Prod. : Transport Alu, source : Transport, GWP : 0.28\n",
      "avoided alubox raw materials - APOS - sc 1 : EoL : Avoided raw mat., source : Avoided alu wrought alloy, GWP : -12.57\n",
      "avoided alubox raw materials - APOS - sc 1 : EoL : Avoided raw mat., source : Avoided virgin steel, GWP : -0.7\n"
     ]
    }
   ],
   "source": [
    "df_c_gwp =copy.deepcopy(df_c)\n",
    "c = []\n",
    "\n",
    "node_sc1 = ['Raw material','Production', 'Use', 'EoL', 'EoL Treatment']\n",
    "node_sc2 = []\n",
    "node_sc3 = []\n",
    "\n",
    "links_sc1 = []\n",
    "links_sc2 = []\n",
    "links_sc3 = []\n",
    "\n",
    "for i, row in df_c_gwp.iterrows():\n",
    "    if 'sc 1' in i:\n",
    "        # print(i)\n",
    "        node = node_name_update(i)\n",
    "        # if  'disinfec' not in i:\n",
    "        node_sc1.append(node)\n",
    "        for element in row:\n",
    "\n",
    "            for proc in element:\n",
    "                # print(proc)\n",
    "                val = round(proc[1]/GWP_value[0][-1]*100,2)\n",
    "                source = proc[0]\n",
    "                source = source_name_update(i,source)\n",
    "                # print(source)\n",
    "                if   val != 0:\n",
    "\n",
    "                    if  val < 0 and 'Cardboard' not in source:\n",
    "                        # print(proc[0])\n",
    "                        source = 'Avoided ' + source.lower()\n",
    "\n",
    "                    if 'raw material' in i and 'avoided' not in source.lower():\n",
    "                        print(f'{i} : Raw : {node}, source : {source}, GWP : {val}')\n",
    "                        dct_temp = {\"source\": 'Raw material', \"target\": source, \"value\":val}\n",
    "                        dct_temp2 = {\"source\": source, \"target\": 'Production', \"value\":val}\n",
    "                        # dct_temp3 = {\"source\": node, \"target\": 'Production', \"value\":val}\n",
    "                    if 'production' in i or 'transport' in source.lower():\n",
    "                        print(f'{i} : Prod. : {node}, source : {source}, GWP : {val}')\n",
    "                        dct_temp = {\"source\": 'Production', \"target\": source, \"value\":val}\n",
    "                        dct_temp2 = {\"source\": source, \"target\": 'Use', \"value\":val}\n",
    "                        # dct_temp3 = {\"source\": node, \"target\": 'Use', \"value\":val}\n",
    "                    if 'autoclave' in i.lower() or 'handwash' in i.lower():\n",
    "                        print(f'{i} : Use : {node}, source : {source}, GWP : {val}')\n",
    "                        dct_temp = {\"source\": 'Use', \"target\": source, \"value\": val}\n",
    "                        dct_temp2 = {\"source\": source, \"target\": 'EoL', \"value\": val}\n",
    "                    if  'avoided' in i.lower():\n",
    "                        \n",
    "                        if 'alu' in source.lower():\n",
    "                            val = round(val * 0.95, 2) \n",
    "                        elif 'steel' in source.lower():\n",
    "                            val = round(val * 0.65, 2) \n",
    "                        print(f'{i} : EoL : {node}, source : {source}, GWP : {val}')\n",
    "                        dct_temp = {\"source\": 'EoL', \"target\": source, \"value\":val}\n",
    "                        dct_temp2 = {\"source\": source, \"target\": node, \"value\":val}\n",
    "                    if 'eol' in i.lower() and 'avoided' not in i.lower():\n",
    "                        print(f'{i} : EoL : {node}, source : {source}, GWP : {val}')\n",
    "                        dct_temp = {\"source\": 'EoL', \"target\": source, \"value\":val}\n",
    "                        dct_temp2 = {\"source\": source, \"target\": 'EoL Treatment', \"value\":val}\n",
    "\n",
    "                \n",
    "                    links_sc1.append(dct_temp)\n",
    "                    links_sc1.append(dct_temp2)\n",
    "                    # if dct_temp3 not in links_sc1:\n",
    "                    #     links_sc1.append(dct_temp3)\n",
    "                    node_sc1.append(source)\n"
   ]
  },
  {
   "cell_type": "code",
   "execution_count": 59,
   "metadata": {},
   "outputs": [
    {
     "data": {
      "text/plain": [
       "27"
      ]
     },
     "execution_count": 59,
     "metadata": {},
     "output_type": "execute_result"
    }
   ],
   "source": [
    "len(node_sc1)"
   ]
  },
  {
   "cell_type": "code",
   "execution_count": 60,
   "metadata": {},
   "outputs": [
    {
     "data": {
      "text/plain": [
       "[(0.18995, 0.07176, 0.23217, 1.0),\n",
       " (0.25618, 0.27412, 0.67381, 1.0),\n",
       " (0.27698, 0.46153, 0.93309, 1.0),\n",
       " (0.22676, 0.63913, 0.98851, 1.0),\n",
       " (0.10738, 0.81381, 0.83484, 1.0),\n",
       " (0.14391, 0.9268, 0.65448, 1.0),\n",
       " (0.38127, 0.98909, 0.42386, 1.0),\n",
       " (0.64362, 0.98999, 0.23356, 1.0),\n",
       " (0.82333, 0.91253, 0.20663, 1.0),\n",
       " (0.9556, 0.78005, 0.22836, 1.0),\n",
       " (0.99672, 0.60977, 0.17842, 1.0),\n",
       " (0.95398, 0.38836, 0.08362, 1.0),\n",
       " (0.8538, 0.2217, 0.02677, 1.0),\n",
       " (0.6965, 0.10102, 0.00522, 1.0),\n",
       " (0.4796, 0.01583, 0.01055, 1.0)]"
      ]
     },
     "execution_count": 60,
     "metadata": {},
     "output_type": "execute_result"
    }
   ],
   "source": [
    "colors"
   ]
  },
  {
   "cell_type": "code",
   "execution_count": 61,
   "metadata": {},
   "outputs": [
    {
     "data": {
      "text/plain": [
       "[(0.18995, 0.07176, 0.23217, 0.9),\n",
       " (0.25618, 0.27412, 0.67381, 0.9),\n",
       " (0.27698, 0.46153, 0.93309, 0.9),\n",
       " (0.22676, 0.63913, 0.98851, 0.9),\n",
       " (0.10738, 0.81381, 0.83484, 0.9),\n",
       " (0.14391, 0.9268, 0.65448, 0.9),\n",
       " (0.38127, 0.98909, 0.42386, 0.9),\n",
       " (0.64362, 0.98999, 0.23356, 0.9),\n",
       " (0.82333, 0.91253, 0.20663, 0.9),\n",
       " (0.9556, 0.78005, 0.22836, 0.9),\n",
       " (0.99672, 0.60977, 0.17842, 0.9),\n",
       " (0.95398, 0.38836, 0.08362, 0.9),\n",
       " (0.8538, 0.2217, 0.02677, 0.9),\n",
       " (0.6965, 0.10102, 0.00522, 0.9),\n",
       " (0.4796, 0.01583, 0.01055, 0.9)]"
      ]
     },
     "execution_count": 61,
     "metadata": {},
     "output_type": "execute_result"
    }
   ],
   "source": [
    "color_links = []\n",
    "color_nodes = []\n",
    "for c in colors:\n",
    "    c_link = list(c)  # Convert tuple to list if needed\n",
    "    c_node = list(c)\n",
    "\n",
    "    c_link[-1] = 0.3  # Update the last element\n",
    "    c_node[-1] = 0.9\n",
    "\n",
    "    color_links.append(tuple(c_link))  # Add the updated list to c_new\n",
    "    color_nodes.append(tuple(c_node))\n",
    "\n",
    "color_nodes"
   ]
  },
  {
   "cell_type": "code",
   "execution_count": 62,
   "metadata": {},
   "outputs": [],
   "source": [
    "sankey_color = colors\n",
    "\n"
   ]
  },
  {
   "cell_type": "code",
   "execution_count": 63,
   "metadata": {},
   "outputs": [
    {
     "data": {
      "text/plain": [
       "[0.18995, 0.07176, 0.23217, 1.0]"
      ]
     },
     "execution_count": 63,
     "metadata": {},
     "output_type": "execute_result"
    }
   ],
   "source": [
    "list(sankey_color[0])"
   ]
  },
  {
   "cell_type": "code",
   "execution_count": 64,
   "metadata": {},
   "outputs": [
    {
     "name": "stdout",
     "output_type": "stream",
     "text": [
      "alubox raw materials - APOS - sc 1 : Raw : Alubox Raw Materials, source : Alu wrought alloy, GWP : 13.23\n",
      "alubox raw materials - APOS - sc 1 : Raw : Alubox Raw Materials, source : Virgin steel, GWP : 1.07\n",
      "alubox production - APOS - sc 1 : Prod. : Alubox prod., source : Alu anodising, GWP : 0.61\n",
      "alubox production - APOS - sc 1 : Prod. : Alubox prod., source : Alu impact extrusion, GWP : 1.32\n",
      "alubox production - APOS - sc 1 : Prod. : Alubox prod., source : Cardboard box, GWP : 0.08\n",
      "alubox production - APOS - sc 1 : Prod. : Alubox prod., source : Steel manufacturing, GWP : 0.48\n",
      "alubox production - APOS - sc 1 : Prod. : Alubox prod., source : Alu sheet rolling, GWP : 0.47\n",
      "autoclave - APOS - sc 1 : Use : Autoclave, source : Autoclave, GWP : 10.36\n",
      "Handwash - APOS - sc 1 : Use : Handwash, source : Handwash, GWP : 3.03\n",
      "alubox EoL melting - APOS - sc 1 : EoL : Melting, source : Avoided alu remelting, GWP : -0.55\n",
      "alubox EoL mixed sorting - APOS - sc 1 : EoL : Mixed sorting, source : Mixed metal scrap, GWP : 0.02\n",
      "transport Alu - APOS - sc 1 : Prod. : Transport Alu, source : Transport, GWP : 0.28\n",
      "avoided alubox raw materials - APOS - sc 1 : EoL : Avoided raw mat., source : Avoided alu wrought alloy, GWP : -12.57\n",
      "avoided alubox raw materials - APOS - sc 1 : EoL : Avoided raw mat., source : Avoided virgin steel, GWP : -0.7\n"
     ]
    }
   ],
   "source": [
    "df_c_gwp =copy.deepcopy(df_c)\n",
    "c = []\n",
    "\n",
    "node_sc1 = ['Raw material','Production', 'Use', 'EoL', 'EoL Treatment']\n",
    "node_sc2 = []\n",
    "node_sc3 = []\n",
    "\n",
    "\n",
    "\n",
    "links_sc1 = []\n",
    "links_sc2 = []\n",
    "links_sc3 = []\n",
    "\n",
    "node_colors_links = {}\n",
    "node_colors = {}\n",
    "\n",
    "link_opacity = 0.3\n",
    "node_opacity = 0.9\n",
    "\n",
    "for c in node_sc1:\n",
    "    node_colors_links[c] =color_links[6]\n",
    "\n",
    "for i, row in df_c_gwp.iterrows():\n",
    "    if 'sc 1' in i:\n",
    "        # print(i)\n",
    "        node = node_name_update(i)\n",
    "        # if  'disinfec' not in i:\n",
    "        node_sc1.append(node)\n",
    "        for element in row:\n",
    "\n",
    "            for proc in element:\n",
    "                # print(proc)\n",
    "                val = round(proc[1]/GWP_value[0][-1]*100,2)\n",
    "                source = proc[0]\n",
    "                source = source_name_update(i,source)\n",
    "                # print(source)\n",
    "                if   val != 0:\n",
    "                    node_colors_links[source] = color_links[6]\n",
    "                    if  val < 0 and 'Cardboard' not in source:\n",
    "                        # print(proc[0])\n",
    "                        source = 'Avoided ' + source.lower()\n",
    "\n",
    "                        node_colors_links[source] = color_links[-3]\n",
    "                    if 'raw material' in i and 'avoided' not in source.lower():\n",
    "                        print(f'{i} : Raw : {node}, source : {source}, GWP : {val}')\n",
    "                        dct_temp = {\"source\": 'Raw material', \"target\": source, \"value\":val}\n",
    "                        dct_temp2 = {\"source\": source, \"target\": 'Production', \"value\":val}\n",
    "                        # dct_temp3 = {\"source\": node, \"target\": 'Production', \"value\":val}\n",
    "                    if 'production' in i or 'transport' in source.lower():\n",
    "                        print(f'{i} : Prod. : {node}, source : {source}, GWP : {val}')\n",
    "                        dct_temp = {\"source\": 'Production', \"target\": source, \"value\":val}\n",
    "                        dct_temp2 = {\"source\": source, \"target\": 'Use', \"value\":val}\n",
    "                        # dct_temp3 = {\"source\": node, \"target\": 'Use', \"value\":val}\n",
    "                    if 'autoclave' in i.lower() or 'handwash' in i.lower():\n",
    "                        print(f'{i} : Use : {node}, source : {source}, GWP : {val}')\n",
    "                        dct_temp = {\"source\": 'Use', \"target\": source, \"value\": val}\n",
    "                        dct_temp2 = {\"source\": source, \"target\": 'EoL', \"value\": val}\n",
    "                    if  'avoided' in i.lower():\n",
    "                        \n",
    "                        if 'alu' in source.lower():\n",
    "                            val = round(val * 0.95, 2) \n",
    "                        elif 'steel' in source.lower():\n",
    "                            val = round(val * 0.65, 2) \n",
    "                        print(f'{i} : EoL : {node}, source : {source}, GWP : {val}')\n",
    "                        dct_temp = {\"source\": 'EoL', \"target\": source, \"value\":val}\n",
    "                        dct_temp2 = {\"source\": source, \"target\": node, \"value\":val}\n",
    "                    if 'eol' in i.lower() and 'avoided' not in i.lower():\n",
    "                        print(f'{i} : EoL : {node}, source : {source}, GWP : {val}')\n",
    "                        dct_temp = {\"source\": 'EoL', \"target\": source, \"value\":val}\n",
    "                        dct_temp2 = {\"source\": source, \"target\": 'EoL Treatment', \"value\":val}\n",
    "\n",
    "                \n",
    "                    links_sc1.append(dct_temp)\n",
    "                    links_sc1.append(dct_temp2)\n",
    "                    # if dct_temp3 not in links_sc1:\n",
    "                    #     links_sc1.append(dct_temp3)\n",
    "                    node_sc1.append(source)\n"
   ]
  },
  {
   "cell_type": "code",
   "execution_count": 65,
   "metadata": {},
   "outputs": [
    {
     "data": {
      "text/plain": [
       "{'Raw material': (0.38127, 0.98909, 0.42386, 0.3),\n",
       " 'Production': (0.38127, 0.98909, 0.42386, 0.3),\n",
       " 'Use': (0.38127, 0.98909, 0.42386, 0.3),\n",
       " 'EoL': (0.38127, 0.98909, 0.42386, 0.3),\n",
       " 'EoL Treatment': (0.38127, 0.98909, 0.42386, 0.3),\n",
       " 'Alu wrought alloy': (0.38127, 0.98909, 0.42386, 0.3),\n",
       " 'Virgin steel': (0.38127, 0.98909, 0.42386, 0.3),\n",
       " 'Alu anodising': (0.38127, 0.98909, 0.42386, 0.3),\n",
       " 'Alu impact extrusion': (0.38127, 0.98909, 0.42386, 0.3),\n",
       " 'Cardboard box': (0.38127, 0.98909, 0.42386, 0.3),\n",
       " 'Steel manufacturing': (0.38127, 0.98909, 0.42386, 0.3),\n",
       " 'Alu sheet rolling': (0.38127, 0.98909, 0.42386, 0.3),\n",
       " 'Autoclave': (0.38127, 0.98909, 0.42386, 0.3),\n",
       " 'Handwash': (0.38127, 0.98909, 0.42386, 0.3),\n",
       " 'Alu remelting': (0.38127, 0.98909, 0.42386, 0.3),\n",
       " 'Avoided alu remelting': (0.8538, 0.2217, 0.02677, 0.3),\n",
       " 'Mixed metal scrap': (0.38127, 0.98909, 0.42386, 0.3),\n",
       " 'Transport': (0.38127, 0.98909, 0.42386, 0.3),\n",
       " 'Avoided alu wrought alloy': (0.8538, 0.2217, 0.02677, 0.3),\n",
       " 'Avoided virgin steel': (0.8538, 0.2217, 0.02677, 0.3)}"
      ]
     },
     "execution_count": 65,
     "metadata": {},
     "output_type": "execute_result"
    }
   ],
   "source": [
    "node_colors_links"
   ]
  },
  {
   "cell_type": "code",
   "execution_count": 67,
   "metadata": {},
   "outputs": [
    {
     "data": {
      "application/vnd.plotly.v1+json": {
       "config": {
        "plotlyServerURL": "https://plot.ly"
       },
       "data": [
        {
         "arrangement": "perpendicular",
         "domain": {
          "x": [
           0,
           1
          ],
          "y": [
           0,
           1
          ]
         },
         "link": {
          "line": {
           "width": [
            1,
            1,
            0.08087679516250945,
            0.08087679516250945,
            0.04610733182161753,
            0.04610733182161753,
            0.09977324263038549,
            0.09977324263038549,
            0.006046863189720333,
            0.006046863189720333,
            0.03628117913832199,
            0.03628117913832199,
            0.03552532123960695,
            0.03552532123960695,
            0.783068783068783,
            0.783068783068783,
            0.22902494331065756,
            0.22902494331065756,
            0.04157218442932729,
            0.04157218442932729,
            0.0015117157974300832,
            0.0015117157974300832,
            0.021164021164021166,
            0.021164021164021166,
            0.9501133786848073,
            0.9501133786848073,
            0.05291005291005291,
            0.05291005291005291
           ]
          },
          "source": [
           0,
           6,
           0,
           7,
           1,
           9,
           1,
           10,
           1,
           11,
           1,
           12,
           1,
           13,
           2,
           14,
           2,
           16,
           3,
           19,
           3,
           21,
           1,
           23,
           3,
           25,
           3,
           26
          ],
          "target": [
           6,
           1,
           7,
           1,
           9,
           2,
           10,
           2,
           11,
           2,
           12,
           2,
           13,
           2,
           14,
           3,
           16,
           3,
           19,
           4,
           21,
           4,
           23,
           2,
           25,
           24,
           26,
           24
          ],
          "value": [
           13.23,
           13.23,
           1.07,
           1.07,
           0.61,
           0.61,
           1.32,
           1.32,
           0.08,
           0.08,
           0.48,
           0.48,
           0.47,
           0.47,
           10.36,
           10.36,
           3.03,
           3.03,
           0.55,
           0.55,
           0.02,
           0.02,
           0.28,
           0.28,
           12.57,
           12.57,
           0.7,
           0.7
          ]
         },
         "node": {
          "label": [
           "Raw material<br>14.3%",
           "Production<br>3.24%",
           "Use<br>13.39%",
           "EoL<br>-13.8%",
           "EoL Treatment<br>-0.53%",
           "Alubox Raw Materials<br>0%",
           "Alu wrought alloy<br>13.23%",
           "Virgin steel<br>1.07%",
           "Alubox prod.<br>0%",
           "Alu anodising<br>0.61%",
           "Alu impact extrusion<br>1.32%",
           "Cardboard box<br>0.08%",
           "Steel manufacturing<br>0.48%",
           "Alu sheet rolling<br>0.47%",
           "Autoclave<br>10.36%",
           "Autoclave<br>10.36%",
           "Handwash<br>3.03%",
           "Handwash<br>3.03%",
           "Melting<br>0%",
           "Avoided alu remelting<br>-0.55%",
           "Mixed sorting<br>0%",
           "Mixed metal scrap<br>0.02%",
           "Transport Alu<br>0%",
           "Transport<br>0.28%",
           "Avoided raw mat.<br>-13.27%",
           "Avoided alu wrought alloy<br>-12.57%",
           "Avoided virgin steel<br>-0.7%"
          ],
          "line": {
           "width": [
            1,
            1,
            0.08087679516250945,
            0.08087679516250945,
            0.04610733182161753,
            0.04610733182161753,
            0.09977324263038549,
            0.09977324263038549,
            0.006046863189720333,
            0.006046863189720333,
            0.03628117913832199,
            0.03628117913832199,
            0.03552532123960695,
            0.03552532123960695,
            0.783068783068783,
            0.783068783068783,
            0.22902494331065756,
            0.22902494331065756,
            0.04157218442932729,
            0.04157218442932729,
            0.0015117157974300832,
            0.0015117157974300832,
            0.021164021164021166,
            0.021164021164021166,
            0.9501133786848073,
            0.9501133786848073,
            0.05291005291005291,
            0.05291005291005291
           ]
          },
          "pad": 50,
          "thickness": 10
         },
         "type": "sankey"
        }
       ],
       "layout": {
        "template": {
         "data": {
          "bar": [
           {
            "error_x": {
             "color": "#2a3f5f"
            },
            "error_y": {
             "color": "#2a3f5f"
            },
            "marker": {
             "line": {
              "color": "#E5ECF6",
              "width": 0.5
             },
             "pattern": {
              "fillmode": "overlay",
              "size": 10,
              "solidity": 0.2
             }
            },
            "type": "bar"
           }
          ],
          "barpolar": [
           {
            "marker": {
             "line": {
              "color": "#E5ECF6",
              "width": 0.5
             },
             "pattern": {
              "fillmode": "overlay",
              "size": 10,
              "solidity": 0.2
             }
            },
            "type": "barpolar"
           }
          ],
          "carpet": [
           {
            "aaxis": {
             "endlinecolor": "#2a3f5f",
             "gridcolor": "white",
             "linecolor": "white",
             "minorgridcolor": "white",
             "startlinecolor": "#2a3f5f"
            },
            "baxis": {
             "endlinecolor": "#2a3f5f",
             "gridcolor": "white",
             "linecolor": "white",
             "minorgridcolor": "white",
             "startlinecolor": "#2a3f5f"
            },
            "type": "carpet"
           }
          ],
          "choropleth": [
           {
            "colorbar": {
             "outlinewidth": 0,
             "ticks": ""
            },
            "type": "choropleth"
           }
          ],
          "contour": [
           {
            "colorbar": {
             "outlinewidth": 0,
             "ticks": ""
            },
            "colorscale": [
             [
              0,
              "#0d0887"
             ],
             [
              0.1111111111111111,
              "#46039f"
             ],
             [
              0.2222222222222222,
              "#7201a8"
             ],
             [
              0.3333333333333333,
              "#9c179e"
             ],
             [
              0.4444444444444444,
              "#bd3786"
             ],
             [
              0.5555555555555556,
              "#d8576b"
             ],
             [
              0.6666666666666666,
              "#ed7953"
             ],
             [
              0.7777777777777778,
              "#fb9f3a"
             ],
             [
              0.8888888888888888,
              "#fdca26"
             ],
             [
              1,
              "#f0f921"
             ]
            ],
            "type": "contour"
           }
          ],
          "contourcarpet": [
           {
            "colorbar": {
             "outlinewidth": 0,
             "ticks": ""
            },
            "type": "contourcarpet"
           }
          ],
          "heatmap": [
           {
            "colorbar": {
             "outlinewidth": 0,
             "ticks": ""
            },
            "colorscale": [
             [
              0,
              "#0d0887"
             ],
             [
              0.1111111111111111,
              "#46039f"
             ],
             [
              0.2222222222222222,
              "#7201a8"
             ],
             [
              0.3333333333333333,
              "#9c179e"
             ],
             [
              0.4444444444444444,
              "#bd3786"
             ],
             [
              0.5555555555555556,
              "#d8576b"
             ],
             [
              0.6666666666666666,
              "#ed7953"
             ],
             [
              0.7777777777777778,
              "#fb9f3a"
             ],
             [
              0.8888888888888888,
              "#fdca26"
             ],
             [
              1,
              "#f0f921"
             ]
            ],
            "type": "heatmap"
           }
          ],
          "heatmapgl": [
           {
            "colorbar": {
             "outlinewidth": 0,
             "ticks": ""
            },
            "colorscale": [
             [
              0,
              "#0d0887"
             ],
             [
              0.1111111111111111,
              "#46039f"
             ],
             [
              0.2222222222222222,
              "#7201a8"
             ],
             [
              0.3333333333333333,
              "#9c179e"
             ],
             [
              0.4444444444444444,
              "#bd3786"
             ],
             [
              0.5555555555555556,
              "#d8576b"
             ],
             [
              0.6666666666666666,
              "#ed7953"
             ],
             [
              0.7777777777777778,
              "#fb9f3a"
             ],
             [
              0.8888888888888888,
              "#fdca26"
             ],
             [
              1,
              "#f0f921"
             ]
            ],
            "type": "heatmapgl"
           }
          ],
          "histogram": [
           {
            "marker": {
             "pattern": {
              "fillmode": "overlay",
              "size": 10,
              "solidity": 0.2
             }
            },
            "type": "histogram"
           }
          ],
          "histogram2d": [
           {
            "colorbar": {
             "outlinewidth": 0,
             "ticks": ""
            },
            "colorscale": [
             [
              0,
              "#0d0887"
             ],
             [
              0.1111111111111111,
              "#46039f"
             ],
             [
              0.2222222222222222,
              "#7201a8"
             ],
             [
              0.3333333333333333,
              "#9c179e"
             ],
             [
              0.4444444444444444,
              "#bd3786"
             ],
             [
              0.5555555555555556,
              "#d8576b"
             ],
             [
              0.6666666666666666,
              "#ed7953"
             ],
             [
              0.7777777777777778,
              "#fb9f3a"
             ],
             [
              0.8888888888888888,
              "#fdca26"
             ],
             [
              1,
              "#f0f921"
             ]
            ],
            "type": "histogram2d"
           }
          ],
          "histogram2dcontour": [
           {
            "colorbar": {
             "outlinewidth": 0,
             "ticks": ""
            },
            "colorscale": [
             [
              0,
              "#0d0887"
             ],
             [
              0.1111111111111111,
              "#46039f"
             ],
             [
              0.2222222222222222,
              "#7201a8"
             ],
             [
              0.3333333333333333,
              "#9c179e"
             ],
             [
              0.4444444444444444,
              "#bd3786"
             ],
             [
              0.5555555555555556,
              "#d8576b"
             ],
             [
              0.6666666666666666,
              "#ed7953"
             ],
             [
              0.7777777777777778,
              "#fb9f3a"
             ],
             [
              0.8888888888888888,
              "#fdca26"
             ],
             [
              1,
              "#f0f921"
             ]
            ],
            "type": "histogram2dcontour"
           }
          ],
          "mesh3d": [
           {
            "colorbar": {
             "outlinewidth": 0,
             "ticks": ""
            },
            "type": "mesh3d"
           }
          ],
          "parcoords": [
           {
            "line": {
             "colorbar": {
              "outlinewidth": 0,
              "ticks": ""
             }
            },
            "type": "parcoords"
           }
          ],
          "pie": [
           {
            "automargin": true,
            "type": "pie"
           }
          ],
          "scatter": [
           {
            "fillpattern": {
             "fillmode": "overlay",
             "size": 10,
             "solidity": 0.2
            },
            "type": "scatter"
           }
          ],
          "scatter3d": [
           {
            "line": {
             "colorbar": {
              "outlinewidth": 0,
              "ticks": ""
             }
            },
            "marker": {
             "colorbar": {
              "outlinewidth": 0,
              "ticks": ""
             }
            },
            "type": "scatter3d"
           }
          ],
          "scattercarpet": [
           {
            "marker": {
             "colorbar": {
              "outlinewidth": 0,
              "ticks": ""
             }
            },
            "type": "scattercarpet"
           }
          ],
          "scattergeo": [
           {
            "marker": {
             "colorbar": {
              "outlinewidth": 0,
              "ticks": ""
             }
            },
            "type": "scattergeo"
           }
          ],
          "scattergl": [
           {
            "marker": {
             "colorbar": {
              "outlinewidth": 0,
              "ticks": ""
             }
            },
            "type": "scattergl"
           }
          ],
          "scattermapbox": [
           {
            "marker": {
             "colorbar": {
              "outlinewidth": 0,
              "ticks": ""
             }
            },
            "type": "scattermapbox"
           }
          ],
          "scatterpolar": [
           {
            "marker": {
             "colorbar": {
              "outlinewidth": 0,
              "ticks": ""
             }
            },
            "type": "scatterpolar"
           }
          ],
          "scatterpolargl": [
           {
            "marker": {
             "colorbar": {
              "outlinewidth": 0,
              "ticks": ""
             }
            },
            "type": "scatterpolargl"
           }
          ],
          "scatterternary": [
           {
            "marker": {
             "colorbar": {
              "outlinewidth": 0,
              "ticks": ""
             }
            },
            "type": "scatterternary"
           }
          ],
          "surface": [
           {
            "colorbar": {
             "outlinewidth": 0,
             "ticks": ""
            },
            "colorscale": [
             [
              0,
              "#0d0887"
             ],
             [
              0.1111111111111111,
              "#46039f"
             ],
             [
              0.2222222222222222,
              "#7201a8"
             ],
             [
              0.3333333333333333,
              "#9c179e"
             ],
             [
              0.4444444444444444,
              "#bd3786"
             ],
             [
              0.5555555555555556,
              "#d8576b"
             ],
             [
              0.6666666666666666,
              "#ed7953"
             ],
             [
              0.7777777777777778,
              "#fb9f3a"
             ],
             [
              0.8888888888888888,
              "#fdca26"
             ],
             [
              1,
              "#f0f921"
             ]
            ],
            "type": "surface"
           }
          ],
          "table": [
           {
            "cells": {
             "fill": {
              "color": "#EBF0F8"
             },
             "line": {
              "color": "white"
             }
            },
            "header": {
             "fill": {
              "color": "#C8D4E3"
             },
             "line": {
              "color": "white"
             }
            },
            "type": "table"
           }
          ]
         },
         "layout": {
          "annotationdefaults": {
           "arrowcolor": "#2a3f5f",
           "arrowhead": 0,
           "arrowwidth": 1
          },
          "autotypenumbers": "strict",
          "coloraxis": {
           "colorbar": {
            "outlinewidth": 0,
            "ticks": ""
           }
          },
          "colorscale": {
           "diverging": [
            [
             0,
             "#8e0152"
            ],
            [
             0.1,
             "#c51b7d"
            ],
            [
             0.2,
             "#de77ae"
            ],
            [
             0.3,
             "#f1b6da"
            ],
            [
             0.4,
             "#fde0ef"
            ],
            [
             0.5,
             "#f7f7f7"
            ],
            [
             0.6,
             "#e6f5d0"
            ],
            [
             0.7,
             "#b8e186"
            ],
            [
             0.8,
             "#7fbc41"
            ],
            [
             0.9,
             "#4d9221"
            ],
            [
             1,
             "#276419"
            ]
           ],
           "sequential": [
            [
             0,
             "#0d0887"
            ],
            [
             0.1111111111111111,
             "#46039f"
            ],
            [
             0.2222222222222222,
             "#7201a8"
            ],
            [
             0.3333333333333333,
             "#9c179e"
            ],
            [
             0.4444444444444444,
             "#bd3786"
            ],
            [
             0.5555555555555556,
             "#d8576b"
            ],
            [
             0.6666666666666666,
             "#ed7953"
            ],
            [
             0.7777777777777778,
             "#fb9f3a"
            ],
            [
             0.8888888888888888,
             "#fdca26"
            ],
            [
             1,
             "#f0f921"
            ]
           ],
           "sequentialminus": [
            [
             0,
             "#0d0887"
            ],
            [
             0.1111111111111111,
             "#46039f"
            ],
            [
             0.2222222222222222,
             "#7201a8"
            ],
            [
             0.3333333333333333,
             "#9c179e"
            ],
            [
             0.4444444444444444,
             "#bd3786"
            ],
            [
             0.5555555555555556,
             "#d8576b"
            ],
            [
             0.6666666666666666,
             "#ed7953"
            ],
            [
             0.7777777777777778,
             "#fb9f3a"
            ],
            [
             0.8888888888888888,
             "#fdca26"
            ],
            [
             1,
             "#f0f921"
            ]
           ]
          },
          "colorway": [
           "#636efa",
           "#EF553B",
           "#00cc96",
           "#ab63fa",
           "#FFA15A",
           "#19d3f3",
           "#FF6692",
           "#B6E880",
           "#FF97FF",
           "#FECB52"
          ],
          "font": {
           "color": "#2a3f5f"
          },
          "geo": {
           "bgcolor": "white",
           "lakecolor": "white",
           "landcolor": "#E5ECF6",
           "showlakes": true,
           "showland": true,
           "subunitcolor": "white"
          },
          "hoverlabel": {
           "align": "left"
          },
          "hovermode": "closest",
          "mapbox": {
           "style": "light"
          },
          "paper_bgcolor": "white",
          "plot_bgcolor": "#E5ECF6",
          "polar": {
           "angularaxis": {
            "gridcolor": "white",
            "linecolor": "white",
            "ticks": ""
           },
           "bgcolor": "#E5ECF6",
           "radialaxis": {
            "gridcolor": "white",
            "linecolor": "white",
            "ticks": ""
           }
          },
          "scene": {
           "xaxis": {
            "backgroundcolor": "#E5ECF6",
            "gridcolor": "white",
            "gridwidth": 2,
            "linecolor": "white",
            "showbackground": true,
            "ticks": "",
            "zerolinecolor": "white"
           },
           "yaxis": {
            "backgroundcolor": "#E5ECF6",
            "gridcolor": "white",
            "gridwidth": 2,
            "linecolor": "white",
            "showbackground": true,
            "ticks": "",
            "zerolinecolor": "white"
           },
           "zaxis": {
            "backgroundcolor": "#E5ECF6",
            "gridcolor": "white",
            "gridwidth": 2,
            "linecolor": "white",
            "showbackground": true,
            "ticks": "",
            "zerolinecolor": "white"
           }
          },
          "shapedefaults": {
           "line": {
            "color": "#2a3f5f"
           }
          },
          "ternary": {
           "aaxis": {
            "gridcolor": "white",
            "linecolor": "white",
            "ticks": ""
           },
           "baxis": {
            "gridcolor": "white",
            "linecolor": "white",
            "ticks": ""
           },
           "bgcolor": "#E5ECF6",
           "caxis": {
            "gridcolor": "white",
            "linecolor": "white",
            "ticks": ""
           }
          },
          "title": {
           "x": 0.05
          },
          "xaxis": {
           "automargin": true,
           "gridcolor": "white",
           "linecolor": "white",
           "ticks": "",
           "title": {
            "standoff": 15
           },
           "zerolinecolor": "white",
           "zerolinewidth": 2
          },
          "yaxis": {
           "automargin": true,
           "gridcolor": "white",
           "linecolor": "white",
           "ticks": "",
           "title": {
            "standoff": 15
           },
           "zerolinecolor": "white",
           "zerolinewidth": 2
          }
         }
        }
       }
      }
     },
     "metadata": {},
     "output_type": "display_data"
    }
   ],
   "source": [
    "\n",
    "# Create a Sankey diagram\n",
    "fig = go.Figure()\n",
    "\n",
    "# Calculate the scale factor for link thickness and node size\n",
    "max_value = max(abs(link['value']) for link in links_sc1)\n",
    "scale_factor = 1  # You can adjust this factor to control the scaling\n",
    "\n",
    "# Calculate total outflow for each node and round to 2 decimals\n",
    "outflow_totals = {node: round(sum(link['value'] for link in links_sc1 if link['source'] == node), 2) for node in node_sc1}\n",
    "\n",
    "# Calculate total inflow for each node and round to 2 decimals\n",
    "inflow_totals = {node: round(sum(link['value'] for link in links_sc1 if link['target'] == node), 2) for node in node_sc1}\n",
    "\n",
    "# Determine if a node has only incoming flows\n",
    "incoming_only = {node: inflow_totals[node] > 0 and outflow_totals[node] == 0 for node in node_sc1}\n",
    "\n",
    "# Calculate y-coordinates for nodes based on total outflow or inflow\n",
    "node_y_coordinates = [sum(inflow_totals[node] if incoming_only[node] else outflow_totals[node] for node in node_sc1[:i]) for i in range(len(node_sc1))]\n",
    "incoming_only['Avoided raw mat.'] = True\n",
    "incoming_only['EoL Treatment'] = True\n",
    "# incoming_only['Avoided chromium steel'] = True\n",
    "\n",
    "# Add links\n",
    "fig.add_trace(go.Sankey(\n",
    "    node=dict(\n",
    "        pad=50,\n",
    "        thickness=10,\n",
    "        line=dict(width=[abs(link['value']) / max_value * scale_factor for link in links_sc1]),\n",
    "        label=[f\"{node}<br>{inflow_totals[node] if incoming_only[node] else outflow_totals[node]}%\" for node in node_sc1],\n",
    "        #color=[node_colors.get(node, 'rgba(255, 255, 255, {})') for node in node_sc1],\n",
    "    ),\n",
    "    link=dict(\n",
    "        source=[node_sc1.index(link['source']) for link in links_sc1],\n",
    "        target=[node_sc1.index(link['target']) for link in links_sc1],\n",
    "        value=[abs(link['value']) for link in links_sc1],\n",
    "        # color=[node_colors_links[link['source']] for link in links_sc1],  # Use source node color for links\n",
    "        line=dict(width=[abs(link['value']) / max_value * scale_factor for link in links_sc1]),\n",
    "    ),\n",
    "    arrangement=\"perpendicular\",\n",
    "    domain=dict(x=[0, 1], y=[0, 1]),\n",
    "))\n",
    "\n",
    "\n",
    "# Show the figure\n",
    "fig.show()\n",
    "# fig.write_image(\"Sankey_alubox_consq.jpg\")\n"
   ]
  }
 ],
 "metadata": {
  "kernelspec": {
   "display_name": "Python 3",
   "language": "python",
   "name": "python3"
  },
  "language_info": {
   "codemirror_mode": {
    "name": "ipython",
    "version": 3
   },
   "file_extension": ".py",
   "mimetype": "text/x-python",
   "name": "python",
   "nbconvert_exporter": "python",
   "pygments_lexer": "ipython3",
   "version": "3.11.9"
  }
 },
 "nbformat": 4,
 "nbformat_minor": 2
}

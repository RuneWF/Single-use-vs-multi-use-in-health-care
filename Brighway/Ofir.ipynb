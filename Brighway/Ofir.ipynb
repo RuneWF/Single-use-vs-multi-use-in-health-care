{
 "cells": [
  {
   "cell_type": "code",
   "execution_count": 206,
   "metadata": {},
   "outputs": [],
   "source": [
    "# Import packages\n",
    "import matplotlib.pyplot as plt\n",
    "import numpy as np\n",
    "import pandas as pd\n",
    "import matplotlib.ticker as mtick\n",
    "import matplotlib.cm as cm\n",
    "import math\n",
    "import plotly.graph_objects as go\n",
    "from collections import OrderedDict\n",
    "from matplotlib.lines import Line2D  # Import for creating custom legend markers\n",
    "import json\n",
    "import copy\n",
    "import random\n",
    "import re\n",
    "import seaborn as sns\n",
    "import importlib\n",
    "\n",
    "\n",
    "# Import BW25 packages\n",
    "import bw2data as bd\n",
    "import bw2io as bi\n",
    "import bw2calc as bc\n",
    "import bw2analyzer as bwa\n",
    "import brightway2 as bw \n",
    "from bw2calc import LeastSquaresLCA"
   ]
  },
  {
   "cell_type": "code",
   "execution_count": 207,
   "metadata": {},
   "outputs": [
    {
     "name": "stdout",
     "output_type": "stream",
     "text": [
      "Folder name Results created\n"
     ]
    },
    {
     "data": {
      "text/plain": [
       "<module 'life_cycle_assessment' from 'c:\\\\Users\\\\ruw\\\\Desktop\\\\RA\\\\Single-use-vs-multi-use-in-health-care\\\\Brighway\\\\life_cycle_assessment.py'>"
      ]
     },
     "execution_count": 207,
     "metadata": {},
     "output_type": "execute_result"
    }
   ],
   "source": [
    "from  standards import *\n",
    "import Monte_Carlo as MC\n",
    "import life_cycle_assessment as lc\n",
    "\n",
    "\n",
    "importlib.reload(MC)\n",
    "\n",
    "importlib.reload(lc)"
   ]
  },
  {
   "cell_type": "code",
   "execution_count": 208,
   "metadata": {},
   "outputs": [
    {
     "name": "stdout",
     "output_type": "stream",
     "text": [
      "Folder name Results created\n"
     ]
    }
   ],
   "source": [
    "save_dir = results_folder('Results')\n",
    "\n",
    "file_name = r'Results\\Ananas - CONSQ.xlsx'\n",
    "file_cont_name = r'Results\\Ananas contribution - CONSQ.xlsx'\n",
    "sheet_name = 'Ananas'\n",
    "\n",
    "path = r'C:\\Users\\ruw\\Desktop\\RA\\Single-use-vs-multi-use-in-health-care\\Brighway'\n",
    "\n",
    "# Your name variable should be the name of the project.\n",
    "database_project = \"RA - Ofir & Stine 1\"\n",
    "database_name = \"Ananas consq\"\n",
    "\n",
    "flows = ['alubox - CONSQ', 'PP sheet sc2 - CONSQ', 'PP sheet sc3 - CONSQ']\n",
    "flow_legend = ['alubox - CONSQ sc1', 'PP sheet sc2 - CONSQ', 'PP sheet sc3 - CONSQ']\n"
   ]
  },
  {
   "cell_type": "code",
   "execution_count": 209,
   "metadata": {},
   "outputs": [
    {
     "name": "stdout",
     "output_type": "stream",
     "text": [
      "Biosphere database already present!!! No setup is needed\n",
      "Initialization is completed\n",
      "\n",
      "Calculating the LCA results:\n",
      "Calculation 1 of 480 {'alubox raw materials - CONSQ' (unit, GLO, None): 0.002} acidification 0.0009945931379257335\n",
      "Calculation 2 of 480 {'alubox production - CONSQ' (unit, GLO, None): 0.002} acidification 9.762607525302666e-05\n",
      "Calculation 3 of 480 {'autoclave - CONSQ' (unit, GLO, None): 0.1111111111111111} acidification 0.0014014285477584704\n",
      "Calculation 4 of 480 {'Handwash - CONSQ' (unit, GLO, None): 1} acidification 0.00013896506335219004\n",
      "Calculation 5 of 480 {'alubox EoL melting - CONSQ' (unit, GLO, None): -0.002} acidification 0.000863221102818143\n",
      "Calculation 6 of 480 {'alubox EoL mixed sorting - CONSQ' (unit, GLO, None): -0.002} acidification 1.310251360070705e-05\n",
      "Calculation 7 of 480 {'transport Alu - CONSQ' (unit, GLO, None): 1} acidification 5.1128321049625e-06\n",
      "Calculation 8 of 480 {'avoided alubox raw materials - CONSQ' (unit, GLO, None): -0.002} acidification -0.0009303607368774412\n",
      "acidification at row 0 col 0 has been assigned the list [['alubox raw materials - CONSQ', 0.0009945931379257335], ['alubox production - CONSQ', 9.762607525302666e-05], ['autoclave - CONSQ', 0.0014014285477584704], ['Handwash - CONSQ', 0.00013896506335219004], ['alubox EoL melting - CONSQ', 0.000863221102818143], ['alubox EoL mixed sorting - CONSQ', 1.310251360070705e-05], ['transport Alu - CONSQ', 5.1128321049625e-06], ['avoided alubox raw materials - CONSQ', -0.0009303607368774412]]\n",
      "Calculation 9 of 480 {'pp production - CONSQ' (unit, GLO, None): 1} acidification 0.0009106955793944203\n",
      "Calculation 10 of 480 {'autoclave - CONSQ' (unit, GLO, None): 0.1111111111111111} acidification 0.0014014285477584704\n",
      "Calculation 11 of 480 {'market for corrugated board box' (kilogram, US, None): 0.003852} acidification 3.900626665930061e-05\n",
      "Calculation 12 of 480 {'packaging film production, low density polyethylene' (kilogram, RER, None): 0.01} acidification 9.678646032825107e-05\n",
      "Calculation 13 of 480 {'market for polypropylene, granulate' (kilogram, GLO, None): 0.0866} acidification 0.0006107567782881814\n",
      "Calculation 14 of 480 {'market for electricity, high voltage' (kilowatt hour, DK, None): -0.169317841666667} acidification -0.00010747647019143262\n",
      "Calculation 15 of 480 {'transport Plastic - CONSQ' (unit, GLO, None): 1} acidification 0.0005506473683032066\n",
      "Calculation 16 of 480 {'PE incineration no Energy Recovery - CONSQ' (kilogram, CH, None): 0.01} acidification -3.975407268656008e-06\n",
      "Calculation 17 of 480 {'PP incineration no Energy Recovery - CONSQ' (kilogram, CH, None): 0.0866} acidification -2.9272704022280706e-05\n",
      "Calculation 18 of 480 {'marginal heating grid projection updated - CONSQ' (megajoule, GLO, None): -3.04772115} acidification -0.00036275819625185637\n",
      "acidification at row 1 col 0 has been assigned the list [['pp production - CONSQ', 0.0009106955793944203], ['autoclave - CONSQ', 0.0014014285477584704], ['market for corrugated board box', 3.900626665930061e-05], ['packaging film production, low density polyethylene', 9.678646032825107e-05], ['market for polypropylene, granulate', 0.0006107567782881814], ['market for electricity, high voltage', -0.00010747647019143262], ['transport Plastic - CONSQ', 0.0005506473683032066], ['PE incineration no Energy Recovery - CONSQ', -3.975407268656008e-06], ['PP incineration no Energy Recovery - CONSQ', -2.9272704022280706e-05], ['marginal heating grid projection updated - CONSQ', -0.00036275819625185637]]\n",
      "Calculation 19 of 480 {'pp production - CONSQ' (unit, GLO, None): 1} acidification 0.0009106955793944203\n",
      "Calculation 20 of 480 {'autoclave - CONSQ' (unit, GLO, None): 0.1111111111111111} acidification 0.0014014285477584704\n",
      "Calculation 21 of 480 {'market for corrugated board box' (kilogram, US, None): 0.003852} acidification 3.900626665930061e-05\n",
      "Calculation 22 of 480 {'packaging film production, low density polyethylene' (kilogram, RER, None): 0.01} acidification 9.678646032825107e-05\n",
      "Calculation 23 of 480 {'market for polypropylene, granulate' (kilogram, GLO, None): 0.0866} acidification 0.0006107567782881814\n",
      "Calculation 24 of 480 {'polyethylene, high density, granulate, recycled to generic market for high density PE granulate' (kilogram, Europe without Switzerland, None): -0.0054} acidification -3.943299789376843e-05\n",
      "Calculation 25 of 480 {'market for polypropylene, granulate' (kilogram, GLO, None): -0.046764} acidification -0.00032980866027868883\n",
      "Calculation 26 of 480 {'market for electricity, high voltage' (kilowatt hour, DK, None): -0.0778862071666667} acidification -4.9439176288059175e-05\n",
      "Calculation 27 of 480 {'transport Plastic - CONSQ' (unit, GLO, None): 1} acidification 0.0005506473683032066\n",
      "Calculation 28 of 480 {'PE incineration no Energy Recovery - CONSQ' (kilogram, CH, None): 0.0046} acidification -1.8286873438161481e-06\n",
      "Calculation 29 of 480 {'PP incineration no Energy Recovery - CONSQ' (kilogram, CH, None): 0.039836} acidification -1.3465443854649882e-05\n",
      "Calculation 30 of 480 {'marginal heating grid projection updated - CONSQ' (megajoule, GLO, None): -1.401951729} acidification -0.00016686877028358917\n",
      "acidification at row 2 col 0 has been assigned the list [['pp production - CONSQ', 0.0009106955793944203], ['autoclave - CONSQ', 0.0014014285477584704], ['market for corrugated board box', 3.900626665930061e-05], ['packaging film production, low density polyethylene', 9.678646032825107e-05], ['market for polypropylene, granulate', 0.0006107567782881814], ['polyethylene, high density, granulate, recycled to generic market for high density PE granulate', -3.943299789376843e-05], ['market for polypropylene, granulate', -0.00032980866027868883], ['market for electricity, high voltage', -4.9439176288059175e-05], ['transport Plastic - CONSQ', 0.0005506473683032066], ['PE incineration no Energy Recovery - CONSQ', -1.8286873438161481e-06], ['PP incineration no Energy Recovery - CONSQ', -1.3465443854649882e-05], ['marginal heating grid projection updated - CONSQ', -0.00016686877028358917]]\n",
      "Calculation 31 of 480 {'alubox raw materials - CONSQ' (unit, GLO, None): 0.002} climate change 0.1542439282280466\n",
      "Calculation 32 of 480 {'alubox production - CONSQ' (unit, GLO, None): 0.002} climate change 0.02215677402758675\n",
      "Calculation 33 of 480 {'autoclave - CONSQ' (unit, GLO, None): 0.1111111111111111} climate change 0.13321320196804998\n",
      "Calculation 34 of 480 {'Handwash - CONSQ' (unit, GLO, None): 1} climate change 0.023379389925914866\n",
      "Calculation 35 of 480 {'alubox EoL melting - CONSQ' (unit, GLO, None): -0.002} climate change 0.13106909346994217\n",
      "Calculation 36 of 480 {'alubox EoL mixed sorting - CONSQ' (unit, GLO, None): -0.002} climate change 0.0031809502666227257\n",
      "Calculation 37 of 480 {'transport Alu - CONSQ' (unit, GLO, None): 1} climate change 0.002132467202214205\n",
      "Calculation 38 of 480 {'avoided alubox raw materials - CONSQ' (unit, GLO, None): -0.002} climate change -0.1434851961767817\n",
      "climate change at row 0 col 1 has been assigned the list [['alubox raw materials - CONSQ', 0.1542439282280466], ['alubox production - CONSQ', 0.02215677402758675], ['autoclave - CONSQ', 0.13321320196804998], ['Handwash - CONSQ', 0.023379389925914866], ['alubox EoL melting - CONSQ', 0.13106909346994217], ['alubox EoL mixed sorting - CONSQ', 0.0031809502666227257], ['transport Alu - CONSQ', 0.002132467202214205], ['avoided alubox raw materials - CONSQ', -0.1434851961767817]]\n",
      "Calculation 39 of 480 {'pp production - CONSQ' (unit, GLO, None): 1} climate change 0.22940403948446897\n",
      "Calculation 40 of 480 {'autoclave - CONSQ' (unit, GLO, None): 0.1111111111111111} climate change 0.13321320196804998\n",
      "Calculation 41 of 480 {'market for corrugated board box' (kilogram, US, None): 0.003852} climate change -0.001643952509815517\n",
      "Calculation 42 of 480 {'packaging film production, low density polyethylene' (kilogram, RER, None): 0.01} climate change 0.025384539441210368\n",
      "Calculation 43 of 480 {'market for polypropylene, granulate' (kilogram, GLO, None): 0.0866} climate change 0.17825063717676437\n",
      "Calculation 44 of 480 {'market for electricity, high voltage' (kilowatt hour, DK, None): -0.169317841666667} climate change -0.005961318604063036\n",
      "Calculation 45 of 480 {'transport Plastic - CONSQ' (unit, GLO, None): 1} climate change 0.06076427766020801\n",
      "Calculation 46 of 480 {'PE incineration no Energy Recovery - CONSQ' (kilogram, CH, None): 0.01} climate change -0.030393167090429885\n",
      "Calculation 47 of 480 {'PP incineration no Energy Recovery - CONSQ' (kilogram, CH, None): 0.0866} climate change -0.22231429048713935\n",
      "Calculation 48 of 480 {'marginal heating grid projection updated - CONSQ' (megajoule, GLO, None): -3.04772115} climate change -0.1527204051387211\n",
      "climate change at row 1 col 1 has been assigned the list [['pp production - CONSQ', 0.22940403948446897], ['autoclave - CONSQ', 0.13321320196804998], ['market for corrugated board box', -0.001643952509815517], ['packaging film production, low density polyethylene', 0.025384539441210368], ['market for polypropylene, granulate', 0.17825063717676437], ['market for electricity, high voltage', -0.005961318604063036], ['transport Plastic - CONSQ', 0.06076427766020801], ['PE incineration no Energy Recovery - CONSQ', -0.030393167090429885], ['PP incineration no Energy Recovery - CONSQ', -0.22231429048713935], ['marginal heating grid projection updated - CONSQ', -0.1527204051387211]]\n",
      "Calculation 49 of 480 {'pp production - CONSQ' (unit, GLO, None): 1} climate change 0.22940403948446897\n",
      "Calculation 50 of 480 {'autoclave - CONSQ' (unit, GLO, None): 0.1111111111111111} climate change 0.13321320196804998\n",
      "Calculation 51 of 480 {'market for corrugated board box' (kilogram, US, None): 0.003852} climate change -0.001643952509815517\n",
      "Calculation 52 of 480 {'packaging film production, low density polyethylene' (kilogram, RER, None): 0.01} climate change 0.025384539441210368\n",
      "Calculation 53 of 480 {'market for polypropylene, granulate' (kilogram, GLO, None): 0.0866} climate change 0.17825063717676437\n",
      "Calculation 54 of 480 {'polyethylene, high density, granulate, recycled to generic market for high density PE granulate' (kilogram, Europe without Switzerland, None): -0.0054} climate change -0.011359305107549338\n",
      "Calculation 55 of 480 {'market for polypropylene, granulate' (kilogram, GLO, None): -0.046764} climate change -0.09625534407615824\n",
      "Calculation 56 of 480 {'market for electricity, high voltage' (kilowatt hour, DK, None): -0.0778862071666667} climate change -0.002742206557869834\n",
      "Calculation 57 of 480 {'transport Plastic - CONSQ' (unit, GLO, None): 1} climate change 0.06076427766020801\n",
      "Calculation 58 of 480 {'PE incineration no Energy Recovery - CONSQ' (kilogram, CH, None): 0.0046} climate change -0.013980856861595012\n",
      "Calculation 59 of 480 {'PP incineration no Energy Recovery - CONSQ' (kilogram, CH, None): 0.039836} climate change -0.10226457362459716\n",
      "Calculation 60 of 480 {'marginal heating grid projection updated - CONSQ' (megajoule, GLO, None): -1.401951729} climate change -0.07025138636451161\n",
      "climate change at row 2 col 1 has been assigned the list [['pp production - CONSQ', 0.22940403948446897], ['autoclave - CONSQ', 0.13321320196804998], ['market for corrugated board box', -0.001643952509815517], ['packaging film production, low density polyethylene', 0.025384539441210368], ['market for polypropylene, granulate', 0.17825063717676437], ['polyethylene, high density, granulate, recycled to generic market for high density PE granulate', -0.011359305107549338], ['market for polypropylene, granulate', -0.09625534407615824], ['market for electricity, high voltage', -0.002742206557869834], ['transport Plastic - CONSQ', 0.06076427766020801], ['PE incineration no Energy Recovery - CONSQ', -0.013980856861595012], ['PP incineration no Energy Recovery - CONSQ', -0.10226457362459716], ['marginal heating grid projection updated - CONSQ', -0.07025138636451161]]\n",
      "Calculation 61 of 480 {'alubox raw materials - CONSQ' (unit, GLO, None): 0.002} ecotoxicity: freshwater 0.5100605935669397\n",
      "Calculation 62 of 480 {'alubox production - CONSQ' (unit, GLO, None): 0.002} ecotoxicity: freshwater 0.1121083212752216\n",
      "Calculation 63 of 480 {'autoclave - CONSQ' (unit, GLO, None): 0.1111111111111111} ecotoxicity: freshwater 1.4495155558583146\n",
      "Calculation 64 of 480 {'Handwash - CONSQ' (unit, GLO, None): 1} ecotoxicity: freshwater 1.4404517569869522\n",
      "Calculation 65 of 480 {'alubox EoL melting - CONSQ' (unit, GLO, None): -0.002} ecotoxicity: freshwater 0.2407571094903735\n",
      "Calculation 66 of 480 {'alubox EoL mixed sorting - CONSQ' (unit, GLO, None): -0.002} ecotoxicity: freshwater 0.017513239175206485\n",
      "Calculation 67 of 480 {'transport Alu - CONSQ' (unit, GLO, None): 1} ecotoxicity: freshwater 0.014308575807010174\n",
      "Calculation 68 of 480 {'avoided alubox raw materials - CONSQ' (unit, GLO, None): -0.002} ecotoxicity: freshwater -0.47435214475624643\n",
      "ecotoxicity: freshwater at row 0 col 2 has been assigned the list [['alubox raw materials - CONSQ', 0.5100605935669397], ['alubox production - CONSQ', 0.1121083212752216], ['autoclave - CONSQ', 1.4495155558583146], ['Handwash - CONSQ', 1.4404517569869522], ['alubox EoL melting - CONSQ', 0.2407571094903735], ['alubox EoL mixed sorting - CONSQ', 0.017513239175206485], ['transport Alu - CONSQ', 0.014308575807010174], ['avoided alubox raw materials - CONSQ', -0.47435214475624643]]\n",
      "Calculation 69 of 480 {'pp production - CONSQ' (unit, GLO, None): 1} ecotoxicity: freshwater 0.6238917565901918\n",
      "Calculation 70 of 480 {'autoclave - CONSQ' (unit, GLO, None): 0.1111111111111111} ecotoxicity: freshwater 1.4495155558583146\n",
      "Calculation 71 of 480 {'market for corrugated board box' (kilogram, US, None): 0.003852} ecotoxicity: freshwater 0.025806817474463024\n",
      "Calculation 72 of 480 {'packaging film production, low density polyethylene' (kilogram, RER, None): 0.01} ecotoxicity: freshwater 0.03868352000395689\n",
      "Calculation 73 of 480 {'market for polypropylene, granulate' (kilogram, GLO, None): 0.0866} ecotoxicity: freshwater 0.21940011956150965\n",
      "Calculation 74 of 480 {'market for electricity, high voltage' (kilowatt hour, DK, None): -0.169317841666667} ecotoxicity: freshwater -0.05148097890038078\n",
      "Calculation 75 of 480 {'transport Plastic - CONSQ' (unit, GLO, None): 1} ecotoxicity: freshwater 0.41868503474554886\n",
      "Calculation 76 of 480 {'PE incineration no Energy Recovery - CONSQ' (kilogram, CH, None): 0.01} ecotoxicity: freshwater -0.00549265855014727\n",
      "Calculation 77 of 480 {'PP incineration no Energy Recovery - CONSQ' (kilogram, CH, None): 0.0866} ecotoxicity: freshwater -0.0404695129304379\n",
      "Calculation 78 of 480 {'marginal heating grid projection updated - CONSQ' (megajoule, GLO, None): -3.04772115} ecotoxicity: freshwater -0.19814111321719896\n",
      "ecotoxicity: freshwater at row 1 col 2 has been assigned the list [['pp production - CONSQ', 0.6238917565901918], ['autoclave - CONSQ', 1.4495155558583146], ['market for corrugated board box', 0.025806817474463024], ['packaging film production, low density polyethylene', 0.03868352000395689], ['market for polypropylene, granulate', 0.21940011956150965], ['market for electricity, high voltage', -0.05148097890038078], ['transport Plastic - CONSQ', 0.41868503474554886], ['PE incineration no Energy Recovery - CONSQ', -0.00549265855014727], ['PP incineration no Energy Recovery - CONSQ', -0.0404695129304379], ['marginal heating grid projection updated - CONSQ', -0.19814111321719896]]\n",
      "Calculation 79 of 480 {'pp production - CONSQ' (unit, GLO, None): 1} ecotoxicity: freshwater 0.6238917565901918\n",
      "Calculation 80 of 480 {'autoclave - CONSQ' (unit, GLO, None): 0.1111111111111111} ecotoxicity: freshwater 1.4495155558583146\n",
      "Calculation 81 of 480 {'market for corrugated board box' (kilogram, US, None): 0.003852} ecotoxicity: freshwater 0.025806817474463024\n",
      "Calculation 82 of 480 {'packaging film production, low density polyethylene' (kilogram, RER, None): 0.01} ecotoxicity: freshwater 0.03868352000395689\n",
      "Calculation 83 of 480 {'market for polypropylene, granulate' (kilogram, GLO, None): 0.0866} ecotoxicity: freshwater 0.21940011956150965\n",
      "Calculation 84 of 480 {'polyethylene, high density, granulate, recycled to generic market for high density PE granulate' (kilogram, Europe without Switzerland, None): -0.0054} ecotoxicity: freshwater -0.014617415777911277\n",
      "Calculation 85 of 480 {'market for polypropylene, granulate' (kilogram, GLO, None): -0.046764} ecotoxicity: freshwater -0.11847606457727207\n",
      "Calculation 86 of 480 {'market for electricity, high voltage' (kilowatt hour, DK, None): -0.0778862071666667} ecotoxicity: freshwater -0.023681250294174457\n",
      "Calculation 87 of 480 {'transport Plastic - CONSQ' (unit, GLO, None): 1} ecotoxicity: freshwater 0.41868503474554886\n",
      "Calculation 88 of 480 {'PE incineration no Energy Recovery - CONSQ' (kilogram, CH, None): 0.0046} ecotoxicity: freshwater -0.002526622933140321\n",
      "Calculation 89 of 480 {'PP incineration no Energy Recovery - CONSQ' (kilogram, CH, None): 0.039836} ecotoxicity: freshwater -0.018615975952776156\n",
      "Calculation 90 of 480 {'marginal heating grid projection updated - CONSQ' (megajoule, GLO, None): -1.401951729} ecotoxicity: freshwater -0.09114491208579659\n",
      "ecotoxicity: freshwater at row 2 col 2 has been assigned the list [['pp production - CONSQ', 0.6238917565901918], ['autoclave - CONSQ', 1.4495155558583146], ['market for corrugated board box', 0.025806817474463024], ['packaging film production, low density polyethylene', 0.03868352000395689], ['market for polypropylene, granulate', 0.21940011956150965], ['polyethylene, high density, granulate, recycled to generic market for high density PE granulate', -0.014617415777911277], ['market for polypropylene, granulate', -0.11847606457727207], ['market for electricity, high voltage', -0.023681250294174457], ['transport Plastic - CONSQ', 0.41868503474554886], ['PE incineration no Energy Recovery - CONSQ', -0.002526622933140321], ['PP incineration no Energy Recovery - CONSQ', -0.018615975952776156], ['marginal heating grid projection updated - CONSQ', -0.09114491208579659]]\n",
      "Calculation 91 of 480 {'alubox raw materials - CONSQ' (unit, GLO, None): 0.002} energy resources: non-renewable 1.5044803926799752\n",
      "Calculation 92 of 480 {'alubox production - CONSQ' (unit, GLO, None): 0.002} energy resources: non-renewable 0.33140539801010077\n",
      "Calculation 93 of 480 {'autoclave - CONSQ' (unit, GLO, None): 0.1111111111111111} energy resources: non-renewable 2.6222095099092844\n",
      "Calculation 94 of 480 {'Handwash - CONSQ' (unit, GLO, None): 1} energy resources: non-renewable 0.2005184490737104\n",
      "Calculation 95 of 480 {'alubox EoL melting - CONSQ' (unit, GLO, None): -0.002} energy resources: non-renewable 1.254644496749015\n",
      "Calculation 96 of 480 {'alubox EoL mixed sorting - CONSQ' (unit, GLO, None): -0.002} energy resources: non-renewable 0.03342991771808647\n",
      "Calculation 97 of 480 {'transport Alu - CONSQ' (unit, GLO, None): 1} energy resources: non-renewable 0.030163781751858625\n",
      "Calculation 98 of 480 {'avoided alubox raw materials - CONSQ' (unit, GLO, None): -0.002} energy resources: non-renewable -1.3954070272327745\n",
      "energy resources: non-renewable at row 0 col 3 has been assigned the list [['alubox raw materials - CONSQ', 1.5044803926799752], ['alubox production - CONSQ', 0.33140539801010077], ['autoclave - CONSQ', 2.6222095099092844], ['Handwash - CONSQ', 0.2005184490737104], ['alubox EoL melting - CONSQ', 1.254644496749015], ['alubox EoL mixed sorting - CONSQ', 0.03342991771808647], ['transport Alu - CONSQ', 0.030163781751858625], ['avoided alubox raw materials - CONSQ', -1.3954070272327745]]\n",
      "Calculation 99 of 480 {'pp production - CONSQ' (unit, GLO, None): 1} energy resources: non-renewable 7.10638506894718\n",
      "Calculation 100 of 480 {'autoclave - CONSQ' (unit, GLO, None): 0.1111111111111111} energy resources: non-renewable 2.6222095099092844\n",
      "Calculation 101 of 480 {'market for corrugated board box' (kilogram, US, None): 0.003852} energy resources: non-renewable 0.056811625425440576\n",
      "Calculation 102 of 480 {'packaging film production, low density polyethylene' (kilogram, RER, None): 0.01} energy resources: non-renewable 0.8165740265774581\n",
      "Calculation 103 of 480 {'market for polypropylene, granulate' (kilogram, GLO, None): 0.0866} energy resources: non-renewable 6.398173760354218\n",
      "Calculation 104 of 480 {'market for electricity, high voltage' (kilowatt hour, DK, None): -0.169317841666667} energy resources: non-renewable -0.06451435176929034\n",
      "Calculation 105 of 480 {'transport Plastic - CONSQ' (unit, GLO, None): 1} energy resources: non-renewable 0.7661470104553016\n",
      "Calculation 106 of 480 {'PE incineration no Energy Recovery - CONSQ' (kilogram, CH, None): 0.01} energy resources: non-renewable -0.004737511087725779\n",
      "Calculation 107 of 480 {'PP incineration no Energy Recovery - CONSQ' (kilogram, CH, None): 0.0866} energy resources: non-renewable -0.03531591946646204\n",
      "Calculation 108 of 480 {'marginal heating grid projection updated - CONSQ' (megajoule, GLO, None): -3.04772115} energy resources: non-renewable -1.9042468334022342\n",
      "energy resources: non-renewable at row 1 col 3 has been assigned the list [['pp production - CONSQ', 7.10638506894718], ['autoclave - CONSQ', 2.6222095099092844], ['market for corrugated board box', 0.056811625425440576], ['packaging film production, low density polyethylene', 0.8165740265774581], ['market for polypropylene, granulate', 6.398173760354218], ['market for electricity, high voltage', -0.06451435176929034], ['transport Plastic - CONSQ', 0.7661470104553016], ['PE incineration no Energy Recovery - CONSQ', -0.004737511087725779], ['PP incineration no Energy Recovery - CONSQ', -0.03531591946646204], ['marginal heating grid projection updated - CONSQ', -1.9042468334022342]]\n",
      "Calculation 109 of 480 {'pp production - CONSQ' (unit, GLO, None): 1} energy resources: non-renewable 7.10638506894718\n",
      "Calculation 110 of 480 {'autoclave - CONSQ' (unit, GLO, None): 0.1111111111111111} energy resources: non-renewable 2.6222095099092844\n",
      "Calculation 111 of 480 {'market for corrugated board box' (kilogram, US, None): 0.003852} energy resources: non-renewable 0.056811625425440576\n",
      "Calculation 112 of 480 {'packaging film production, low density polyethylene' (kilogram, RER, None): 0.01} energy resources: non-renewable 0.8165740265774581\n",
      "Calculation 113 of 480 {'market for polypropylene, granulate' (kilogram, GLO, None): 0.0866} energy resources: non-renewable 6.398173760354218\n",
      "Calculation 114 of 480 {'polyethylene, high density, granulate, recycled to generic market for high density PE granulate' (kilogram, Europe without Switzerland, None): -0.0054} energy resources: non-renewable -0.3917069938836761\n",
      "Calculation 115 of 480 {'market for polypropylene, granulate' (kilogram, GLO, None): -0.046764} energy resources: non-renewable -3.455013830627775\n",
      "Calculation 116 of 480 {'market for electricity, high voltage' (kilowatt hour, DK, None): -0.0778862071666667} energy resources: non-renewable -0.029676601813876657\n",
      "Calculation 117 of 480 {'transport Plastic - CONSQ' (unit, GLO, None): 1} energy resources: non-renewable 0.7661470104553016\n",
      "Calculation 118 of 480 {'PE incineration no Energy Recovery - CONSQ' (kilogram, CH, None): 0.0046} energy resources: non-renewable -0.002179255100414148\n",
      "Calculation 119 of 480 {'PP incineration no Energy Recovery - CONSQ' (kilogram, CH, None): 0.039836} energy resources: non-renewable -0.016245322960517825\n",
      "Calculation 120 of 480 {'marginal heating grid projection updated - CONSQ' (megajoule, GLO, None): -1.401951729} energy resources: non-renewable -0.875953543375369\n",
      "energy resources: non-renewable at row 2 col 3 has been assigned the list [['pp production - CONSQ', 7.10638506894718], ['autoclave - CONSQ', 2.6222095099092844], ['market for corrugated board box', 0.056811625425440576], ['packaging film production, low density polyethylene', 0.8165740265774581], ['market for polypropylene, granulate', 6.398173760354218], ['polyethylene, high density, granulate, recycled to generic market for high density PE granulate', -0.3917069938836761], ['market for polypropylene, granulate', -3.455013830627775], ['market for electricity, high voltage', -0.029676601813876657], ['transport Plastic - CONSQ', 0.7661470104553016], ['PE incineration no Energy Recovery - CONSQ', -0.002179255100414148], ['PP incineration no Energy Recovery - CONSQ', -0.016245322960517825], ['marginal heating grid projection updated - CONSQ', -0.875953543375369]]\n",
      "Calculation 121 of 480 {'alubox raw materials - CONSQ' (unit, GLO, None): 0.002} eutrophication: freshwater 5.674180468871734e-05\n",
      "Calculation 122 of 480 {'alubox production - CONSQ' (unit, GLO, None): 0.002} eutrophication: freshwater 1.399538453168012e-05\n",
      "Calculation 123 of 480 {'autoclave - CONSQ' (unit, GLO, None): 0.1111111111111111} eutrophication: freshwater 3.4460675603400636e-05\n",
      "Calculation 124 of 480 {'Handwash - CONSQ' (unit, GLO, None): 1} eutrophication: freshwater 0.00018762705622696213\n",
      "Calculation 125 of 480 {'alubox EoL melting - CONSQ' (unit, GLO, None): -0.002} eutrophication: freshwater 4.489880232077326e-05\n",
      "Calculation 126 of 480 {'alubox EoL mixed sorting - CONSQ' (unit, GLO, None): -0.002} eutrophication: freshwater 2.915759125666338e-06\n",
      "Calculation 127 of 480 {'transport Alu - CONSQ' (unit, GLO, None): 1} eutrophication: freshwater 2.164169203812253e-07\n",
      "Calculation 128 of 480 {'avoided alubox raw materials - CONSQ' (unit, GLO, None): -0.002} eutrophication: freshwater -5.145297554034886e-05\n",
      "eutrophication: freshwater at row 0 col 4 has been assigned the list [['alubox raw materials - CONSQ', 5.674180468871734e-05], ['alubox production - CONSQ', 1.399538453168012e-05], ['autoclave - CONSQ', 3.4460675603400636e-05], ['Handwash - CONSQ', 0.00018762705622696213], ['alubox EoL melting - CONSQ', 4.489880232077326e-05], ['alubox EoL mixed sorting - CONSQ', 2.915759125666338e-06], ['transport Alu - CONSQ', 2.164169203812253e-07], ['avoided alubox raw materials - CONSQ', -5.145297554034886e-05]]\n",
      "Calculation 129 of 480 {'pp production - CONSQ' (unit, GLO, None): 1} eutrophication: freshwater 4.6445483992332553e-05\n",
      "Calculation 130 of 480 {'autoclave - CONSQ' (unit, GLO, None): 0.1111111111111111} eutrophication: freshwater 3.4460675603400636e-05\n",
      "Calculation 131 of 480 {'market for corrugated board box' (kilogram, US, None): 0.003852} eutrophication: freshwater 6.042636554393654e-06\n",
      "Calculation 132 of 480 {'packaging film production, low density polyethylene' (kilogram, RER, None): 0.01} eutrophication: freshwater 6.410903396295736e-06\n",
      "Calculation 133 of 480 {'market for polypropylene, granulate' (kilogram, GLO, None): 0.0866} eutrophication: freshwater 1.9642625111517555e-05\n",
      "Calculation 134 of 480 {'market for electricity, high voltage' (kilowatt hour, DK, None): -0.169317841666667} eutrophication: freshwater -2.3521884456291384e-06\n",
      "Calculation 135 of 480 {'transport Plastic - CONSQ' (unit, GLO, None): 1} eutrophication: freshwater 1.3662180517735043e-05\n",
      "Calculation 136 of 480 {'PE incineration no Energy Recovery - CONSQ' (kilogram, CH, None): 0.01} eutrophication: freshwater -4.702523270879441e-08\n",
      "Calculation 137 of 480 {'PP incineration no Energy Recovery - CONSQ' (kilogram, CH, None): 0.0866} eutrophication: freshwater -3.7275611977706703e-07\n",
      "Calculation 138 of 480 {'marginal heating grid projection updated - CONSQ' (megajoule, GLO, None): -3.04772115} eutrophication: freshwater -2.304893967580168e-05\n",
      "eutrophication: freshwater at row 1 col 4 has been assigned the list [['pp production - CONSQ', 4.6445483992332553e-05], ['autoclave - CONSQ', 3.4460675603400636e-05], ['market for corrugated board box', 6.042636554393654e-06], ['packaging film production, low density polyethylene', 6.410903396295736e-06], ['market for polypropylene, granulate', 1.9642625111517555e-05], ['market for electricity, high voltage', -2.3521884456291384e-06], ['transport Plastic - CONSQ', 1.3662180517735043e-05], ['PE incineration no Energy Recovery - CONSQ', -4.702523270879441e-08], ['PP incineration no Energy Recovery - CONSQ', -3.7275611977706703e-07], ['marginal heating grid projection updated - CONSQ', -2.304893967580168e-05]]\n",
      "Calculation 139 of 480 {'pp production - CONSQ' (unit, GLO, None): 1} eutrophication: freshwater 4.6445483992332553e-05\n",
      "Calculation 140 of 480 {'autoclave - CONSQ' (unit, GLO, None): 0.1111111111111111} eutrophication: freshwater 3.4460675603400636e-05\n",
      "Calculation 141 of 480 {'market for corrugated board box' (kilogram, US, None): 0.003852} eutrophication: freshwater 6.042636554393654e-06\n",
      "Calculation 142 of 480 {'packaging film production, low density polyethylene' (kilogram, RER, None): 0.01} eutrophication: freshwater 6.410903396295736e-06\n",
      "Calculation 143 of 480 {'market for polypropylene, granulate' (kilogram, GLO, None): 0.0866} eutrophication: freshwater 1.9642625111517555e-05\n",
      "Calculation 144 of 480 {'polyethylene, high density, granulate, recycled to generic market for high density PE granulate' (kilogram, Europe without Switzerland, None): -0.0054} eutrophication: freshwater -1.3834463252213407e-06\n",
      "Calculation 145 of 480 {'market for polypropylene, granulate' (kilogram, GLO, None): -0.046764} eutrophication: freshwater -1.0607017560192631e-05\n",
      "Calculation 146 of 480 {'market for electricity, high voltage' (kilowatt hour, DK, None): -0.0778862071666667} eutrophication: freshwater -1.0820066849895143e-06\n",
      "Calculation 147 of 480 {'transport Plastic - CONSQ' (unit, GLO, None): 1} eutrophication: freshwater 1.3662180517735043e-05\n",
      "Calculation 148 of 480 {'PE incineration no Energy Recovery - CONSQ' (kilogram, CH, None): 0.0046} eutrophication: freshwater -2.163160704158951e-08\n",
      "Calculation 149 of 480 {'PP incineration no Energy Recovery - CONSQ' (kilogram, CH, None): 0.039836} eutrophication: freshwater -1.7146781536286209e-07\n",
      "Calculation 150 of 480 {'marginal heating grid projection updated - CONSQ' (megajoule, GLO, None): -1.401951729} eutrophication: freshwater -1.0602512251197134e-05\n",
      "eutrophication: freshwater at row 2 col 4 has been assigned the list [['pp production - CONSQ', 4.6445483992332553e-05], ['autoclave - CONSQ', 3.4460675603400636e-05], ['market for corrugated board box', 6.042636554393654e-06], ['packaging film production, low density polyethylene', 6.410903396295736e-06], ['market for polypropylene, granulate', 1.9642625111517555e-05], ['polyethylene, high density, granulate, recycled to generic market for high density PE granulate', -1.3834463252213407e-06], ['market for polypropylene, granulate', -1.0607017560192631e-05], ['market for electricity, high voltage', -1.0820066849895143e-06], ['transport Plastic - CONSQ', 1.3662180517735043e-05], ['PE incineration no Energy Recovery - CONSQ', -2.163160704158951e-08], ['PP incineration no Energy Recovery - CONSQ', -1.7146781536286209e-07], ['marginal heating grid projection updated - CONSQ', -1.0602512251197134e-05]]\n",
      "Calculation 151 of 480 {'alubox raw materials - CONSQ' (unit, GLO, None): 0.002} eutrophication: marine 0.00016388165448494917\n",
      "Calculation 152 of 480 {'alubox production - CONSQ' (unit, GLO, None): 0.002} eutrophication: marine 2.0912907070932413e-05\n",
      "Calculation 153 of 480 {'autoclave - CONSQ' (unit, GLO, None): 0.1111111111111111} eutrophication: marine 0.0005318438005531931\n",
      "Calculation 154 of 480 {'Handwash - CONSQ' (unit, GLO, None): 1} eutrophication: marine 0.0003436227578841364\n",
      "Calculation 155 of 480 {'alubox EoL melting - CONSQ' (unit, GLO, None): -0.002} eutrophication: marine 0.00014203711382730026\n",
      "Calculation 156 of 480 {'alubox EoL mixed sorting - CONSQ' (unit, GLO, None): -0.002} eutrophication: marine 3.0732238694586672e-06\n",
      "Calculation 157 of 480 {'transport Alu - CONSQ' (unit, GLO, None): 1} eutrophication: marine 1.3826016473976873e-06\n",
      "Calculation 158 of 480 {'avoided alubox raw materials - CONSQ' (unit, GLO, None): -0.002} eutrophication: marine -0.00015291400012868402\n",
      "eutrophication: marine at row 0 col 5 has been assigned the list [['alubox raw materials - CONSQ', 0.00016388165448494917], ['alubox production - CONSQ', 2.0912907070932413e-05], ['autoclave - CONSQ', 0.0005318438005531931], ['Handwash - CONSQ', 0.0003436227578841364], ['alubox EoL melting - CONSQ', 0.00014203711382730026], ['alubox EoL mixed sorting - CONSQ', 3.0732238694586672e-06], ['transport Alu - CONSQ', 1.3826016473976873e-06], ['avoided alubox raw materials - CONSQ', -0.00015291400012868402]]\n",
      "Calculation 159 of 480 {'pp production - CONSQ' (unit, GLO, None): 1} eutrophication: marine 0.00020091256544607316\n",
      "Calculation 160 of 480 {'autoclave - CONSQ' (unit, GLO, None): 0.1111111111111111} eutrophication: marine 0.0005318438005531931\n",
      "Calculation 161 of 480 {'market for corrugated board box' (kilogram, US, None): 0.003852} eutrophication: marine 8.382503723604798e-06\n",
      "Calculation 162 of 480 {'packaging film production, low density polyethylene' (kilogram, RER, None): 0.01} eutrophication: marine 2.1184922119661315e-05\n",
      "Calculation 163 of 480 {'market for polypropylene, granulate' (kilogram, GLO, None): 0.0866} eutrophication: marine 0.00012733443183989696\n",
      "Calculation 164 of 480 {'market for electricity, high voltage' (kilowatt hour, DK, None): -0.169317841666667} eutrophication: marine -2.959148606151654e-05\n",
      "Calculation 165 of 480 {'transport Plastic - CONSQ' (unit, GLO, None): 1} eutrophication: marine 0.0002401220652235828\n",
      "Calculation 166 of 480 {'PE incineration no Energy Recovery - CONSQ' (kilogram, CH, None): 0.01} eutrophication: marine -2.042981824985719e-06\n",
      "Calculation 167 of 480 {'PP incineration no Energy Recovery - CONSQ' (kilogram, CH, None): 0.0866} eutrophication: marine -1.4991033464379707e-05\n",
      "Calculation 168 of 480 {'marginal heating grid projection updated - CONSQ' (megajoule, GLO, None): -3.04772115} eutrophication: marine -0.00011074079957546867\n",
      "eutrophication: marine at row 1 col 5 has been assigned the list [['pp production - CONSQ', 0.00020091256544607316], ['autoclave - CONSQ', 0.0005318438005531931], ['market for corrugated board box', 8.382503723604798e-06], ['packaging film production, low density polyethylene', 2.1184922119661315e-05], ['market for polypropylene, granulate', 0.00012733443183989696], ['market for electricity, high voltage', -2.959148606151654e-05], ['transport Plastic - CONSQ', 0.0002401220652235828], ['PE incineration no Energy Recovery - CONSQ', -2.042981824985719e-06], ['PP incineration no Energy Recovery - CONSQ', -1.4991033464379707e-05], ['marginal heating grid projection updated - CONSQ', -0.00011074079957546867]]\n",
      "Calculation 169 of 480 {'pp production - CONSQ' (unit, GLO, None): 1} eutrophication: marine 0.00020091256544607316\n",
      "Calculation 170 of 480 {'autoclave - CONSQ' (unit, GLO, None): 0.1111111111111111} eutrophication: marine 0.0005318438005531931\n",
      "Calculation 171 of 480 {'market for corrugated board box' (kilogram, US, None): 0.003852} eutrophication: marine 8.382503723604798e-06\n",
      "Calculation 172 of 480 {'packaging film production, low density polyethylene' (kilogram, RER, None): 0.01} eutrophication: marine 2.1184922119661315e-05\n",
      "Calculation 173 of 480 {'market for polypropylene, granulate' (kilogram, GLO, None): 0.0866} eutrophication: marine 0.00012733443183989696\n",
      "Calculation 174 of 480 {'polyethylene, high density, granulate, recycled to generic market for high density PE granulate' (kilogram, Europe without Switzerland, None): -0.0054} eutrophication: marine -8.495174878614386e-06\n",
      "Calculation 175 of 480 {'market for polypropylene, granulate' (kilogram, GLO, None): -0.046764} eutrophication: marine -6.876059319507486e-05\n",
      "Calculation 176 of 480 {'market for electricity, high voltage' (kilowatt hour, DK, None): -0.0778862071666667} eutrophication: marine -1.3612083588297858e-05\n",
      "Calculation 177 of 480 {'transport Plastic - CONSQ' (unit, GLO, None): 1} eutrophication: marine 0.0002401220652235828\n",
      "Calculation 178 of 480 {'PE incineration no Energy Recovery - CONSQ' (kilogram, CH, None): 0.0046} eutrophication: marine -9.397716395135968e-07\n",
      "Calculation 179 of 480 {'PP incineration no Energy Recovery - CONSQ' (kilogram, CH, None): 0.039836} eutrophication: marine -6.895875394324011e-06\n",
      "Calculation 180 of 480 {'marginal heating grid projection updated - CONSQ' (megajoule, GLO, None): -1.401951729} eutrophication: marine -5.094076780552843e-05\n",
      "eutrophication: marine at row 2 col 5 has been assigned the list [['pp production - CONSQ', 0.00020091256544607316], ['autoclave - CONSQ', 0.0005318438005531931], ['market for corrugated board box', 8.382503723604798e-06], ['packaging film production, low density polyethylene', 2.1184922119661315e-05], ['market for polypropylene, granulate', 0.00012733443183989696], ['polyethylene, high density, granulate, recycled to generic market for high density PE granulate', -8.495174878614386e-06], ['market for polypropylene, granulate', -6.876059319507486e-05], ['market for electricity, high voltage', -1.3612083588297858e-05], ['transport Plastic - CONSQ', 0.0002401220652235828], ['PE incineration no Energy Recovery - CONSQ', -9.397716395135968e-07], ['PP incineration no Energy Recovery - CONSQ', -6.895875394324011e-06], ['marginal heating grid projection updated - CONSQ', -5.094076780552843e-05]]\n",
      "Calculation 181 of 480 {'alubox raw materials - CONSQ' (unit, GLO, None): 0.002} eutrophication: terrestrial 0.0017368917598131175\n",
      "Calculation 182 of 480 {'alubox production - CONSQ' (unit, GLO, None): 0.002} eutrophication: terrestrial 0.00018568086326642397\n",
      "Calculation 183 of 480 {'autoclave - CONSQ' (unit, GLO, None): 0.1111111111111111} eutrophication: terrestrial 0.006227844010437098\n",
      "Calculation 184 of 480 {'Handwash - CONSQ' (unit, GLO, None): 1} eutrophication: terrestrial 0.0004748759142791099\n",
      "Calculation 185 of 480 {'alubox EoL melting - CONSQ' (unit, GLO, None): -0.002} eutrophication: terrestrial 0.0014965946551786834\n",
      "Calculation 186 of 480 {'alubox EoL mixed sorting - CONSQ' (unit, GLO, None): -0.002} eutrophication: terrestrial 3.0447073775253588e-05\n",
      "Calculation 187 of 480 {'transport Alu - CONSQ' (unit, GLO, None): 1} eutrophication: terrestrial 1.4256163139730771e-05\n",
      "Calculation 188 of 480 {'avoided alubox raw materials - CONSQ' (unit, GLO, None): -0.002} eutrophication: terrestrial -0.0016204289390099815\n",
      "eutrophication: terrestrial at row 0 col 6 has been assigned the list [['alubox raw materials - CONSQ', 0.0017368917598131175], ['alubox production - CONSQ', 0.00018568086326642397], ['autoclave - CONSQ', 0.006227844010437098], ['Handwash - CONSQ', 0.0004748759142791099], ['alubox EoL melting - CONSQ', 0.0014965946551786834], ['alubox EoL mixed sorting - CONSQ', 3.0447073775253588e-05], ['transport Alu - CONSQ', 1.4256163139730771e-05], ['avoided alubox raw materials - CONSQ', -0.0016204289390099815]]\n",
      "Calculation 189 of 480 {'pp production - CONSQ' (unit, GLO, None): 1} eutrophication: terrestrial 0.0021683486063990335\n",
      "Calculation 190 of 480 {'autoclave - CONSQ' (unit, GLO, None): 0.1111111111111111} eutrophication: terrestrial 0.006227844010437098\n",
      "Calculation 191 of 480 {'market for corrugated board box' (kilogram, US, None): 0.003852} eutrophication: terrestrial 8.462985891726445e-05\n",
      "Calculation 192 of 480 {'packaging film production, low density polyethylene' (kilogram, RER, None): 0.01} eutrophication: terrestrial 0.00021476912661870217\n",
      "Calculation 193 of 480 {'market for polypropylene, granulate' (kilogram, GLO, None): 0.0866} eutrophication: terrestrial 0.00135509540996385\n",
      "Calculation 194 of 480 {'market for electricity, high voltage' (kilowatt hour, DK, None): -0.169317841666667} eutrophication: terrestrial -0.0004665919463496633\n",
      "Calculation 195 of 480 {'transport Plastic - CONSQ' (unit, GLO, None): 1} eutrophication: terrestrial 0.0026027258298035906\n",
      "Calculation 196 of 480 {'PE incineration no Energy Recovery - CONSQ' (kilogram, CH, None): 0.01} eutrophication: terrestrial -2.0857587893567897e-05\n",
      "Calculation 197 of 480 {'PP incineration no Energy Recovery - CONSQ' (kilogram, CH, None): 0.0866} eutrophication: terrestrial -0.00015306650707638396\n",
      "Calculation 198 of 480 {'marginal heating grid projection updated - CONSQ' (megajoule, GLO, None): -3.04772115} eutrophication: terrestrial -0.0012188533136151271\n",
      "eutrophication: terrestrial at row 1 col 6 has been assigned the list [['pp production - CONSQ', 0.0021683486063990335], ['autoclave - CONSQ', 0.006227844010437098], ['market for corrugated board box', 8.462985891726445e-05], ['packaging film production, low density polyethylene', 0.00021476912661870217], ['market for polypropylene, granulate', 0.00135509540996385], ['market for electricity, high voltage', -0.0004665919463496633], ['transport Plastic - CONSQ', 0.0026027258298035906], ['PE incineration no Energy Recovery - CONSQ', -2.0857587893567897e-05], ['PP incineration no Energy Recovery - CONSQ', -0.00015306650707638396], ['marginal heating grid projection updated - CONSQ', -0.0012188533136151271]]\n",
      "Calculation 199 of 480 {'pp production - CONSQ' (unit, GLO, None): 1} eutrophication: terrestrial 0.0021683486063990335\n",
      "Calculation 200 of 480 {'autoclave - CONSQ' (unit, GLO, None): 0.1111111111111111} eutrophication: terrestrial 0.006227844010437098\n",
      "Calculation 201 of 480 {'market for corrugated board box' (kilogram, US, None): 0.003852} eutrophication: terrestrial 8.462985891726445e-05\n",
      "Calculation 202 of 480 {'packaging film production, low density polyethylene' (kilogram, RER, None): 0.01} eutrophication: terrestrial 0.00021476912661870217\n",
      "Calculation 203 of 480 {'market for polypropylene, granulate' (kilogram, GLO, None): 0.0866} eutrophication: terrestrial 0.00135509540996385\n",
      "Calculation 204 of 480 {'polyethylene, high density, granulate, recycled to generic market for high density PE granulate' (kilogram, Europe without Switzerland, None): -0.0054} eutrophication: terrestrial -9.009658202656336e-05\n",
      "Calculation 205 of 480 {'market for polypropylene, granulate' (kilogram, GLO, None): -0.046764} eutrophication: terrestrial -0.0007317515213936433\n",
      "Calculation 206 of 480 {'market for electricity, high voltage' (kilowatt hour, DK, None): -0.0778862071666667} eutrophication: terrestrial -0.00021463229532084788\n",
      "Calculation 207 of 480 {'transport Plastic - CONSQ' (unit, GLO, None): 1} eutrophication: terrestrial 0.0026027258298035906\n",
      "Calculation 208 of 480 {'PE incineration no Energy Recovery - CONSQ' (kilogram, CH, None): 0.0046} eutrophication: terrestrial -9.594490431244823e-06\n",
      "Calculation 209 of 480 {'PP incineration no Energy Recovery - CONSQ' (kilogram, CH, None): 0.039836} eutrophication: terrestrial -7.04105932671943e-05\n",
      "Calculation 210 of 480 {'marginal heating grid projection updated - CONSQ' (megajoule, GLO, None): -1.401951729} eutrophication: terrestrial -0.0005606725242770091\n",
      "eutrophication: terrestrial at row 2 col 6 has been assigned the list [['pp production - CONSQ', 0.0021683486063990335], ['autoclave - CONSQ', 0.006227844010437098], ['market for corrugated board box', 8.462985891726445e-05], ['packaging film production, low density polyethylene', 0.00021476912661870217], ['market for polypropylene, granulate', 0.00135509540996385], ['polyethylene, high density, granulate, recycled to generic market for high density PE granulate', -9.009658202656336e-05], ['market for polypropylene, granulate', -0.0007317515213936433], ['market for electricity, high voltage', -0.00021463229532084788], ['transport Plastic - CONSQ', 0.0026027258298035906], ['PE incineration no Energy Recovery - CONSQ', -9.594490431244823e-06], ['PP incineration no Energy Recovery - CONSQ', -7.04105932671943e-05], ['marginal heating grid projection updated - CONSQ', -0.0005606725242770091]]\n",
      "Calculation 211 of 480 {'alubox raw materials - CONSQ' (unit, GLO, None): 0.002} human toxicity: carcinogenic 4.6028232405921916e-10\n",
      "Calculation 212 of 480 {'alubox production - CONSQ' (unit, GLO, None): 0.002} human toxicity: carcinogenic 5.309861276059754e-11\n",
      "Calculation 213 of 480 {'autoclave - CONSQ' (unit, GLO, None): 0.1111111111111111} human toxicity: carcinogenic 4.206479154205136e-10\n",
      "Calculation 214 of 480 {'Handwash - CONSQ' (unit, GLO, None): 1} human toxicity: carcinogenic 4.322801613089766e-11\n",
      "Calculation 215 of 480 {'alubox EoL melting - CONSQ' (unit, GLO, None): -0.002} human toxicity: carcinogenic 2.638370965986997e-10\n",
      "Calculation 216 of 480 {'alubox EoL mixed sorting - CONSQ' (unit, GLO, None): -0.002} human toxicity: carcinogenic -1.3454077224767679e-11\n",
      "Calculation 217 of 480 {'transport Alu - CONSQ' (unit, GLO, None): 1} human toxicity: carcinogenic 1.1754579075184077e-12\n",
      "Calculation 218 of 480 {'avoided alubox raw materials - CONSQ' (unit, GLO, None): -0.002} human toxicity: carcinogenic -3.874427537424086e-10\n",
      "human toxicity: carcinogenic at row 0 col 7 has been assigned the list [['alubox raw materials - CONSQ', 4.6028232405921916e-10], ['alubox production - CONSQ', 5.309861276059754e-11], ['autoclave - CONSQ', 4.206479154205136e-10], ['Handwash - CONSQ', 4.322801613089766e-11], ['alubox EoL melting - CONSQ', 2.638370965986997e-10], ['alubox EoL mixed sorting - CONSQ', -1.3454077224767679e-11], ['transport Alu - CONSQ', 1.1754579075184077e-12], ['avoided alubox raw materials - CONSQ', -3.874427537424086e-10]]\n",
      "Calculation 219 of 480 {'pp production - CONSQ' (unit, GLO, None): 1} human toxicity: carcinogenic 8.509115433817886e-11\n",
      "Calculation 220 of 480 {'autoclave - CONSQ' (unit, GLO, None): 0.1111111111111111} human toxicity: carcinogenic 4.206479154205136e-10\n",
      "Calculation 221 of 480 {'market for corrugated board box' (kilogram, US, None): 0.003852} human toxicity: carcinogenic 5.97613015537245e-12\n",
      "Calculation 222 of 480 {'packaging film production, low density polyethylene' (kilogram, RER, None): 0.01} human toxicity: carcinogenic 1.0422277230235594e-11\n",
      "Calculation 223 of 480 {'market for polypropylene, granulate' (kilogram, GLO, None): 0.0866} human toxicity: carcinogenic 5.3049722076357263e-11\n",
      "Calculation 224 of 480 {'market for electricity, high voltage' (kilowatt hour, DK, None): -0.169317841666667} human toxicity: carcinogenic -2.5871319984405878e-11\n",
      "Calculation 225 of 480 {'transport Plastic - CONSQ' (unit, GLO, None): 1} human toxicity: carcinogenic 5.348986749143977e-11\n",
      "Calculation 226 of 480 {'PE incineration no Energy Recovery - CONSQ' (kilogram, CH, None): 0.01} human toxicity: carcinogenic -7.115851265249747e-13\n",
      "Calculation 227 of 480 {'PP incineration no Energy Recovery - CONSQ' (kilogram, CH, None): 0.0866} human toxicity: carcinogenic -5.4941107196955855e-12\n",
      "Calculation 228 of 480 {'marginal heating grid projection updated - CONSQ' (megajoule, GLO, None): -3.04772115} human toxicity: carcinogenic -9.417353671792283e-11\n",
      "human toxicity: carcinogenic at row 1 col 7 has been assigned the list [['pp production - CONSQ', 8.509115433817886e-11], ['autoclave - CONSQ', 4.206479154205136e-10], ['market for corrugated board box', 5.97613015537245e-12], ['packaging film production, low density polyethylene', 1.0422277230235594e-11], ['market for polypropylene, granulate', 5.3049722076357263e-11], ['market for electricity, high voltage', -2.5871319984405878e-11], ['transport Plastic - CONSQ', 5.348986749143977e-11], ['PE incineration no Energy Recovery - CONSQ', -7.115851265249747e-13], ['PP incineration no Energy Recovery - CONSQ', -5.4941107196955855e-12], ['marginal heating grid projection updated - CONSQ', -9.417353671792283e-11]]\n",
      "Calculation 229 of 480 {'pp production - CONSQ' (unit, GLO, None): 1} human toxicity: carcinogenic 8.509115433817886e-11\n",
      "Calculation 230 of 480 {'autoclave - CONSQ' (unit, GLO, None): 0.1111111111111111} human toxicity: carcinogenic 4.206479154205136e-10\n",
      "Calculation 231 of 480 {'market for corrugated board box' (kilogram, US, None): 0.003852} human toxicity: carcinogenic 5.97613015537245e-12\n",
      "Calculation 232 of 480 {'packaging film production, low density polyethylene' (kilogram, RER, None): 0.01} human toxicity: carcinogenic 1.0422277230235594e-11\n",
      "Calculation 233 of 480 {'market for polypropylene, granulate' (kilogram, GLO, None): 0.0866} human toxicity: carcinogenic 5.3049722076357263e-11\n",
      "Calculation 234 of 480 {'polyethylene, high density, granulate, recycled to generic market for high density PE granulate' (kilogram, Europe without Switzerland, None): -0.0054} human toxicity: carcinogenic -3.813968395074686e-12\n",
      "Calculation 235 of 480 {'market for polypropylene, granulate' (kilogram, GLO, None): -0.046764} human toxicity: carcinogenic -2.864684992177723e-11\n",
      "Calculation 236 of 480 {'market for electricity, high voltage' (kilowatt hour, DK, None): -0.0778862071666667} human toxicity: carcinogenic -1.190080719282235e-11\n",
      "Calculation 237 of 480 {'transport Plastic - CONSQ' (unit, GLO, None): 1} human toxicity: carcinogenic 5.348986749143977e-11\n",
      "Calculation 238 of 480 {'PE incineration no Energy Recovery - CONSQ' (kilogram, CH, None): 0.0046} human toxicity: carcinogenic -3.2732915816765427e-13\n",
      "Calculation 239 of 480 {'PP incineration no Energy Recovery - CONSQ' (kilogram, CH, None): 0.039836} human toxicity: carcinogenic -2.5272909329057136e-12\n",
      "Calculation 240 of 480 {'marginal heating grid projection updated - CONSQ' (megajoule, GLO, None): -1.401951729} human toxicity: carcinogenic -4.331982689266619e-11\n",
      "human toxicity: carcinogenic at row 2 col 7 has been assigned the list [['pp production - CONSQ', 8.509115433817886e-11], ['autoclave - CONSQ', 4.206479154205136e-10], ['market for corrugated board box', 5.97613015537245e-12], ['packaging film production, low density polyethylene', 1.0422277230235594e-11], ['market for polypropylene, granulate', 5.3049722076357263e-11], ['polyethylene, high density, granulate, recycled to generic market for high density PE granulate', -3.813968395074686e-12], ['market for polypropylene, granulate', -2.864684992177723e-11], ['market for electricity, high voltage', -1.190080719282235e-11], ['transport Plastic - CONSQ', 5.348986749143977e-11], ['PE incineration no Energy Recovery - CONSQ', -3.2732915816765427e-13], ['PP incineration no Energy Recovery - CONSQ', -2.5272909329057136e-12], ['marginal heating grid projection updated - CONSQ', -4.331982689266619e-11]]\n",
      "Calculation 241 of 480 {'alubox raw materials - CONSQ' (unit, GLO, None): 0.002} human toxicity: non-carcinogenic 2.7867630139665452e-09\n",
      "Calculation 242 of 480 {'alubox production - CONSQ' (unit, GLO, None): 0.002} human toxicity: non-carcinogenic 2.9062002769646526e-10\n",
      "Calculation 243 of 480 {'autoclave - CONSQ' (unit, GLO, None): 0.1111111111111111} human toxicity: non-carcinogenic 8.116257614104312e-09\n",
      "Calculation 244 of 480 {'Handwash - CONSQ' (unit, GLO, None): 1} human toxicity: non-carcinogenic 1.3069705508780732e-09\n",
      "Calculation 245 of 480 {'alubox EoL melting - CONSQ' (unit, GLO, None): -0.002} human toxicity: non-carcinogenic 2.0290939838565286e-09\n",
      "Calculation 246 of 480 {'alubox EoL mixed sorting - CONSQ' (unit, GLO, None): -0.002} human toxicity: non-carcinogenic 1.432777002730035e-11\n",
      "Calculation 247 of 480 {'transport Alu - CONSQ' (unit, GLO, None): 1} human toxicity: non-carcinogenic 2.2030312497603955e-11\n",
      "Calculation 248 of 480 {'avoided alubox raw materials - CONSQ' (unit, GLO, None): -0.002} human toxicity: non-carcinogenic -2.610198125589187e-09\n",
      "human toxicity: non-carcinogenic at row 0 col 8 has been assigned the list [['alubox raw materials - CONSQ', 2.7867630139665452e-09], ['alubox production - CONSQ', 2.9062002769646526e-10], ['autoclave - CONSQ', 8.116257614104312e-09], ['Handwash - CONSQ', 1.3069705508780732e-09], ['alubox EoL melting - CONSQ', 2.0290939838565286e-09], ['alubox EoL mixed sorting - CONSQ', 1.432777002730035e-11], ['transport Alu - CONSQ', 2.2030312497603955e-11], ['avoided alubox raw materials - CONSQ', -2.610198125589187e-09]]\n",
      "Calculation 249 of 480 {'pp production - CONSQ' (unit, GLO, None): 1} human toxicity: non-carcinogenic 1.940653431392336e-09\n",
      "Calculation 250 of 480 {'autoclave - CONSQ' (unit, GLO, None): 0.1111111111111111} human toxicity: non-carcinogenic 8.116257614104312e-09\n",
      "Calculation 251 of 480 {'market for corrugated board box' (kilogram, US, None): 0.003852} human toxicity: non-carcinogenic 1.5956519890334508e-10\n",
      "Calculation 252 of 480 {'packaging film production, low density polyethylene' (kilogram, RER, None): 0.01} human toxicity: non-carcinogenic 1.9818498045984566e-10\n",
      "Calculation 253 of 480 {'market for polypropylene, granulate' (kilogram, GLO, None): 0.0866} human toxicity: non-carcinogenic 1.162320737396412e-09\n",
      "Calculation 254 of 480 {'market for electricity, high voltage' (kilowatt hour, DK, None): -0.169317841666667} human toxicity: non-carcinogenic -5.330945378301465e-10\n",
      "Calculation 255 of 480 {'transport Plastic - CONSQ' (unit, GLO, None): 1} human toxicity: non-carcinogenic 3.934257358112044e-10\n",
      "Calculation 256 of 480 {'PE incineration no Energy Recovery - CONSQ' (kilogram, CH, None): 0.01} human toxicity: non-carcinogenic -2.3717512952286525e-11\n",
      "Calculation 257 of 480 {'PP incineration no Energy Recovery - CONSQ' (kilogram, CH, None): 0.0866} human toxicity: non-carcinogenic -1.735956461646673e-10\n",
      "Calculation 258 of 480 {'marginal heating grid projection updated - CONSQ' (megajoule, GLO, None): -3.04772115} human toxicity: non-carcinogenic -1.5653974582208452e-09\n",
      "human toxicity: non-carcinogenic at row 1 col 8 has been assigned the list [['pp production - CONSQ', 1.940653431392336e-09], ['autoclave - CONSQ', 8.116257614104312e-09], ['market for corrugated board box', 1.5956519890334508e-10], ['packaging film production, low density polyethylene', 1.9818498045984566e-10], ['market for polypropylene, granulate', 1.162320737396412e-09], ['market for electricity, high voltage', -5.330945378301465e-10], ['transport Plastic - CONSQ', 3.934257358112044e-10], ['PE incineration no Energy Recovery - CONSQ', -2.3717512952286525e-11], ['PP incineration no Energy Recovery - CONSQ', -1.735956461646673e-10], ['marginal heating grid projection updated - CONSQ', -1.5653974582208452e-09]]\n",
      "Calculation 259 of 480 {'pp production - CONSQ' (unit, GLO, None): 1} human toxicity: non-carcinogenic 1.940653431392336e-09\n",
      "Calculation 260 of 480 {'autoclave - CONSQ' (unit, GLO, None): 0.1111111111111111} human toxicity: non-carcinogenic 8.116257614104312e-09\n",
      "Calculation 261 of 480 {'market for corrugated board box' (kilogram, US, None): 0.003852} human toxicity: non-carcinogenic 1.5956519890334508e-10\n",
      "Calculation 262 of 480 {'packaging film production, low density polyethylene' (kilogram, RER, None): 0.01} human toxicity: non-carcinogenic 1.9818498045984566e-10\n",
      "Calculation 263 of 480 {'market for polypropylene, granulate' (kilogram, GLO, None): 0.0866} human toxicity: non-carcinogenic 1.162320737396412e-09\n",
      "Calculation 264 of 480 {'polyethylene, high density, granulate, recycled to generic market for high density PE granulate' (kilogram, Europe without Switzerland, None): -0.0054} human toxicity: non-carcinogenic -7.698861310212956e-11\n",
      "Calculation 265 of 480 {'market for polypropylene, granulate' (kilogram, GLO, None): -0.046764} human toxicity: non-carcinogenic -6.276531983150668e-10\n",
      "Calculation 266 of 480 {'market for electricity, high voltage' (kilowatt hour, DK, None): -0.0778862071666667} human toxicity: non-carcinogenic -2.452234874012752e-10\n",
      "Calculation 267 of 480 {'transport Plastic - CONSQ' (unit, GLO, None): 1} human toxicity: non-carcinogenic 3.934257358112044e-10\n",
      "Calculation 268 of 480 {'PE incineration no Energy Recovery - CONSQ' (kilogram, CH, None): 0.0046} human toxicity: non-carcinogenic -1.0910055962622929e-11\n",
      "Calculation 269 of 480 {'PP incineration no Energy Recovery - CONSQ' (kilogram, CH, None): 0.039836} human toxicity: non-carcinogenic -7.985399724540797e-11\n",
      "Calculation 270 of 480 {'marginal heating grid projection updated - CONSQ' (megajoule, GLO, None): -1.401951729} human toxicity: non-carcinogenic -7.200828307956157e-10\n",
      "human toxicity: non-carcinogenic at row 2 col 8 has been assigned the list [['pp production - CONSQ', 1.940653431392336e-09], ['autoclave - CONSQ', 8.116257614104312e-09], ['market for corrugated board box', 1.5956519890334508e-10], ['packaging film production, low density polyethylene', 1.9818498045984566e-10], ['market for polypropylene, granulate', 1.162320737396412e-09], ['polyethylene, high density, granulate, recycled to generic market for high density PE granulate', -7.698861310212956e-11], ['market for polypropylene, granulate', -6.276531983150668e-10], ['market for electricity, high voltage', -2.452234874012752e-10], ['transport Plastic - CONSQ', 3.934257358112044e-10], ['PE incineration no Energy Recovery - CONSQ', -1.0910055962622929e-11], ['PP incineration no Energy Recovery - CONSQ', -7.985399724540797e-11], ['marginal heating grid projection updated - CONSQ', -7.200828307956157e-10]]\n",
      "Calculation 271 of 480 {'alubox raw materials - CONSQ' (unit, GLO, None): 0.002} ionising radiation: human health 0.0006450722469990166\n",
      "Calculation 272 of 480 {'alubox production - CONSQ' (unit, GLO, None): 0.002} ionising radiation: human health 0.0019047788542248623\n",
      "Calculation 273 of 480 {'autoclave - CONSQ' (unit, GLO, None): 0.1111111111111111} ionising radiation: human health -0.005217196391827695\n",
      "Calculation 274 of 480 {'Handwash - CONSQ' (unit, GLO, None): 1} ionising radiation: human health 0.0017555824933608323\n",
      "Calculation 275 of 480 {'alubox EoL melting - CONSQ' (unit, GLO, None): -0.002} ionising radiation: human health 0.001246799906905342\n",
      "Calculation 276 of 480 {'alubox EoL mixed sorting - CONSQ' (unit, GLO, None): -0.002} ionising radiation: human health -0.00014755172649235802\n",
      "Calculation 277 of 480 {'transport Alu - CONSQ' (unit, GLO, None): 1} ionising radiation: human health 1.0961680171087408e-05\n",
      "Calculation 278 of 480 {'avoided alubox raw materials - CONSQ' (unit, GLO, None): -0.002} ionising radiation: human health -0.0006998236723210765\n",
      "ionising radiation: human health at row 0 col 9 has been assigned the list [['alubox raw materials - CONSQ', 0.0006450722469990166], ['alubox production - CONSQ', 0.0019047788542248623], ['autoclave - CONSQ', -0.005217196391827695], ['Handwash - CONSQ', 0.0017555824933608323], ['alubox EoL melting - CONSQ', 0.001246799906905342], ['alubox EoL mixed sorting - CONSQ', -0.00014755172649235802], ['transport Alu - CONSQ', 1.0961680171087408e-05], ['avoided alubox raw materials - CONSQ', -0.0006998236723210765]]\n",
      "Calculation 279 of 480 {'pp production - CONSQ' (unit, GLO, None): 1} ionising radiation: human health 0.008495096999780918\n",
      "Calculation 280 of 480 {'autoclave - CONSQ' (unit, GLO, None): 0.1111111111111111} ionising radiation: human health -0.005217196391827695\n",
      "Calculation 281 of 480 {'market for corrugated board box' (kilogram, US, None): 0.003852} ionising radiation: human health -0.0002002042908949694\n",
      "Calculation 282 of 480 {'packaging film production, low density polyethylene' (kilogram, RER, None): 0.01} ionising radiation: human health 0.0013238243232220775\n",
      "Calculation 283 of 480 {'market for polypropylene, granulate' (kilogram, GLO, None): 0.0866} ionising radiation: human health 0.0028645166075115494\n",
      "Calculation 284 of 480 {'market for electricity, high voltage' (kilowatt hour, DK, None): -0.169317841666667} ionising radiation: human health -1.6945325686799705e-05\n",
      "Calculation 285 of 480 {'transport Plastic - CONSQ' (unit, GLO, None): 1} ionising radiation: human health 0.0002710560820651073\n",
      "Calculation 286 of 480 {'PE incineration no Energy Recovery - CONSQ' (kilogram, CH, None): 0.01} ionising radiation: human health -3.125204433518376e-07\n",
      "Calculation 287 of 480 {'PP incineration no Energy Recovery - CONSQ' (kilogram, CH, None): 0.0866} ionising radiation: human health -1.7490279476974062e-06\n",
      "Calculation 288 of 480 {'marginal heating grid projection updated - CONSQ' (megajoule, GLO, None): -3.04772115} ionising radiation: human health -0.009521264122772906\n",
      "ionising radiation: human health at row 1 col 9 has been assigned the list [['pp production - CONSQ', 0.008495096999780918], ['autoclave - CONSQ', -0.005217196391827695], ['market for corrugated board box', -0.0002002042908949694], ['packaging film production, low density polyethylene', 0.0013238243232220775], ['market for polypropylene, granulate', 0.0028645166075115494], ['market for electricity, high voltage', -1.6945325686799705e-05], ['transport Plastic - CONSQ', 0.0002710560820651073], ['PE incineration no Energy Recovery - CONSQ', -3.125204433518376e-07], ['PP incineration no Energy Recovery - CONSQ', -1.7490279476974062e-06], ['marginal heating grid projection updated - CONSQ', -0.009521264122772906]]\n",
      "Calculation 289 of 480 {'pp production - CONSQ' (unit, GLO, None): 1} ionising radiation: human health 0.008495096999780918\n",
      "Calculation 290 of 480 {'autoclave - CONSQ' (unit, GLO, None): 0.1111111111111111} ionising radiation: human health -0.005217196391827695\n",
      "Calculation 291 of 480 {'market for corrugated board box' (kilogram, US, None): 0.003852} ionising radiation: human health -0.0002002042908949694\n",
      "Calculation 292 of 480 {'packaging film production, low density polyethylene' (kilogram, RER, None): 0.01} ionising radiation: human health 0.0013238243232220775\n",
      "Calculation 293 of 480 {'market for polypropylene, granulate' (kilogram, GLO, None): 0.0866} ionising radiation: human health 0.0028645166075115494\n",
      "Calculation 294 of 480 {'polyethylene, high density, granulate, recycled to generic market for high density PE granulate' (kilogram, Europe without Switzerland, None): -0.0054} ionising radiation: human health -0.00022157206170105202\n",
      "Calculation 295 of 480 {'market for polypropylene, granulate' (kilogram, GLO, None): -0.046764} ionising radiation: human health -0.0015468389680720798\n",
      "Calculation 296 of 480 {'market for electricity, high voltage' (kilowatt hour, DK, None): -0.0778862071666667} ionising radiation: human health -7.794849815918213e-06\n",
      "Calculation 297 of 480 {'transport Plastic - CONSQ' (unit, GLO, None): 1} ionising radiation: human health 0.0002710560820651073\n",
      "Calculation 298 of 480 {'PE incineration no Energy Recovery - CONSQ' (kilogram, CH, None): 0.0046} ionising radiation: human health -1.4375941444337215e-07\n",
      "Calculation 299 of 480 {'PP incineration no Energy Recovery - CONSQ' (kilogram, CH, None): 0.039836} ionising radiation: human health -8.045527598037418e-07\n",
      "Calculation 300 of 480 {'marginal heating grid projection updated - CONSQ' (megajoule, GLO, None): -1.401951729} ionising radiation: human health -0.004379781496595885\n",
      "ionising radiation: human health at row 2 col 9 has been assigned the list [['pp production - CONSQ', 0.008495096999780918], ['autoclave - CONSQ', -0.005217196391827695], ['market for corrugated board box', -0.0002002042908949694], ['packaging film production, low density polyethylene', 0.0013238243232220775], ['market for polypropylene, granulate', 0.0028645166075115494], ['polyethylene, high density, granulate, recycled to generic market for high density PE granulate', -0.00022157206170105202], ['market for polypropylene, granulate', -0.0015468389680720798], ['market for electricity, high voltage', -7.794849815918213e-06], ['transport Plastic - CONSQ', 0.0002710560820651073], ['PE incineration no Energy Recovery - CONSQ', -1.4375941444337215e-07], ['PP incineration no Energy Recovery - CONSQ', -8.045527598037418e-07], ['marginal heating grid projection updated - CONSQ', -0.004379781496595885]]\n",
      "Calculation 301 of 480 {'alubox raw materials - CONSQ' (unit, GLO, None): 0.002} land use 0.3349731985928215\n",
      "Calculation 302 of 480 {'alubox production - CONSQ' (unit, GLO, None): 0.002} land use 0.3812108199860487\n",
      "Calculation 303 of 480 {'autoclave - CONSQ' (unit, GLO, None): 0.1111111111111111} land use 42.497287939648714\n",
      "Calculation 304 of 480 {'Handwash - CONSQ' (unit, GLO, None): 1} land use 0.9278417141311122\n",
      "Calculation 305 of 480 {'alubox EoL melting - CONSQ' (unit, GLO, None): -0.002} land use 0.17506952539415502\n",
      "Calculation 306 of 480 {'alubox EoL mixed sorting - CONSQ' (unit, GLO, None): -0.002} land use 0.004021728720546831\n",
      "Calculation 307 of 480 {'transport Alu - CONSQ' (unit, GLO, None): 1} land use 0.018747663840123607\n",
      "Calculation 308 of 480 {'avoided alubox raw materials - CONSQ' (unit, GLO, None): -0.002} land use -0.2838220781200499\n",
      "land use at row 0 col 10 has been assigned the list [['alubox raw materials - CONSQ', 0.3349731985928215], ['alubox production - CONSQ', 0.3812108199860487], ['autoclave - CONSQ', 42.497287939648714], ['Handwash - CONSQ', 0.9278417141311122], ['alubox EoL melting - CONSQ', 0.17506952539415502], ['alubox EoL mixed sorting - CONSQ', 0.004021728720546831], ['transport Alu - CONSQ', 0.018747663840123607], ['avoided alubox raw materials - CONSQ', -0.2838220781200499]]\n",
      "Calculation 309 of 480 {'pp production - CONSQ' (unit, GLO, None): 1} land use 0.7138591403521451\n",
      "Calculation 310 of 480 {'autoclave - CONSQ' (unit, GLO, None): 0.1111111111111111} land use 42.497287939648714\n",
      "Calculation 311 of 480 {'market for corrugated board box' (kilogram, US, None): 0.003852} land use 0.8888424244747577\n",
      "Calculation 312 of 480 {'packaging film production, low density polyethylene' (kilogram, RER, None): 0.01} land use 0.13536861757955918\n",
      "Calculation 313 of 480 {'market for polypropylene, granulate' (kilogram, GLO, None): 0.0866} land use 0.30578562169231066\n",
      "Calculation 314 of 480 {'market for electricity, high voltage' (kilowatt hour, DK, None): -0.169317841666667} land use -3.385238115609151\n",
      "Calculation 315 of 480 {'transport Plastic - CONSQ' (unit, GLO, None): 1} land use 0.49202641383908585\n",
      "Calculation 316 of 480 {'PE incineration no Energy Recovery - CONSQ' (kilogram, CH, None): 0.01} land use 0.0005517466329439449\n",
      "Calculation 317 of 480 {'PP incineration no Energy Recovery - CONSQ' (kilogram, CH, None): 0.0866} land use 0.003848634847957056\n",
      "Calculation 318 of 480 {'marginal heating grid projection updated - CONSQ' (megajoule, GLO, None): -3.04772115} land use -4.188613611840945\n",
      "land use at row 1 col 10 has been assigned the list [['pp production - CONSQ', 0.7138591403521451], ['autoclave - CONSQ', 42.497287939648714], ['market for corrugated board box', 0.8888424244747577], ['packaging film production, low density polyethylene', 0.13536861757955918], ['market for polypropylene, granulate', 0.30578562169231066], ['market for electricity, high voltage', -3.385238115609151], ['transport Plastic - CONSQ', 0.49202641383908585], ['PE incineration no Energy Recovery - CONSQ', 0.0005517466329439449], ['PP incineration no Energy Recovery - CONSQ', 0.003848634847957056], ['marginal heating grid projection updated - CONSQ', -4.188613611840945]]\n",
      "Calculation 319 of 480 {'pp production - CONSQ' (unit, GLO, None): 1} land use 0.7138591403521451\n",
      "Calculation 320 of 480 {'autoclave - CONSQ' (unit, GLO, None): 0.1111111111111111} land use 42.497287939648714\n",
      "Calculation 321 of 480 {'market for corrugated board box' (kilogram, US, None): 0.003852} land use 0.8888424244747577\n",
      "Calculation 322 of 480 {'packaging film production, low density polyethylene' (kilogram, RER, None): 0.01} land use 0.13536861757955918\n",
      "Calculation 323 of 480 {'market for polypropylene, granulate' (kilogram, GLO, None): 0.0866} land use 0.30578562169231066\n",
      "Calculation 324 of 480 {'polyethylene, high density, granulate, recycled to generic market for high density PE granulate' (kilogram, Europe without Switzerland, None): -0.0054} land use -0.01990280748454917\n",
      "Calculation 325 of 480 {'market for polypropylene, granulate' (kilogram, GLO, None): -0.046764} land use -0.16512423556264405\n",
      "Calculation 326 of 480 {'market for electricity, high voltage' (kilowatt hour, DK, None): -0.0778862071666667} land use -1.5572095331801954\n",
      "Calculation 327 of 480 {'transport Plastic - CONSQ' (unit, GLO, None): 1} land use 0.49202641383908585\n",
      "Calculation 328 of 480 {'PE incineration no Energy Recovery - CONSQ' (kilogram, CH, None): 0.0046} land use 0.0002538034533408767\n",
      "Calculation 329 of 480 {'PP incineration no Energy Recovery - CONSQ' (kilogram, CH, None): 0.039836} land use 0.0017703720072125729\n",
      "Calculation 330 of 480 {'marginal heating grid projection updated - CONSQ' (megajoule, GLO, None): -1.401951729} land use -1.926762261447604\n",
      "land use at row 2 col 10 has been assigned the list [['pp production - CONSQ', 0.7138591403521451], ['autoclave - CONSQ', 42.497287939648714], ['market for corrugated board box', 0.8888424244747577], ['packaging film production, low density polyethylene', 0.13536861757955918], ['market for polypropylene, granulate', 0.30578562169231066], ['polyethylene, high density, granulate, recycled to generic market for high density PE granulate', -0.01990280748454917], ['market for polypropylene, granulate', -0.16512423556264405], ['market for electricity, high voltage', -1.5572095331801954], ['transport Plastic - CONSQ', 0.49202641383908585], ['PE incineration no Energy Recovery - CONSQ', 0.0002538034533408767], ['PP incineration no Energy Recovery - CONSQ', 0.0017703720072125729], ['marginal heating grid projection updated - CONSQ', -1.926762261447604]]\n",
      "Calculation 331 of 480 {'alubox raw materials - CONSQ' (unit, GLO, None): 0.002} material resources: metals/minerals 1.598896187344793e-07\n",
      "Calculation 332 of 480 {'alubox production - CONSQ' (unit, GLO, None): 0.002} material resources: metals/minerals 2.212999268910459e-07\n",
      "Calculation 333 of 480 {'autoclave - CONSQ' (unit, GLO, None): 0.1111111111111111} material resources: metals/minerals 6.577814325168771e-06\n",
      "Calculation 334 of 480 {'Handwash - CONSQ' (unit, GLO, None): 1} material resources: metals/minerals 1.9951474886944844e-07\n",
      "Calculation 335 of 480 {'alubox EoL melting - CONSQ' (unit, GLO, None): -0.002} material resources: metals/minerals -1.0018459824575312e-06\n",
      "Calculation 336 of 480 {'alubox EoL mixed sorting - CONSQ' (unit, GLO, None): -0.002} material resources: metals/minerals -2.3850206414910114e-07\n",
      "Calculation 337 of 480 {'transport Alu - CONSQ' (unit, GLO, None): 1} material resources: metals/minerals 4.203508205346124e-09\n",
      "Calculation 338 of 480 {'avoided alubox raw materials - CONSQ' (unit, GLO, None): -0.002} material resources: metals/minerals -1.4329149774885112e-07\n",
      "material resources: metals/minerals at row 0 col 11 has been assigned the list [['alubox raw materials - CONSQ', 1.598896187344793e-07], ['alubox production - CONSQ', 2.212999268910459e-07], ['autoclave - CONSQ', 6.577814325168771e-06], ['Handwash - CONSQ', 1.9951474886944844e-07], ['alubox EoL melting - CONSQ', -1.0018459824575312e-06], ['alubox EoL mixed sorting - CONSQ', -2.3850206414910114e-07], ['transport Alu - CONSQ', 4.203508205346124e-09], ['avoided alubox raw materials - CONSQ', -1.4329149774885112e-07]]\n",
      "Calculation 339 of 480 {'pp production - CONSQ' (unit, GLO, None): 1} material resources: metals/minerals 2.34378734115991e-06\n",
      "Calculation 340 of 480 {'autoclave - CONSQ' (unit, GLO, None): 0.1111111111111111} material resources: metals/minerals 6.577814325168771e-06\n",
      "Calculation 341 of 480 {'market for corrugated board box' (kilogram, US, None): 0.003852} material resources: metals/minerals 2.1164058693197575e-08\n",
      "Calculation 342 of 480 {'packaging film production, low density polyethylene' (kilogram, RER, None): 0.01} material resources: metals/minerals 2.1051850355073884e-07\n",
      "Calculation 343 of 480 {'market for polypropylene, granulate' (kilogram, GLO, None): 0.0866} material resources: metals/minerals 1.5874305134231447e-06\n",
      "Calculation 344 of 480 {'market for electricity, high voltage' (kilowatt hour, DK, None): -0.169317841666667} material resources: metals/minerals -3.8494146819582574e-07\n",
      "Calculation 345 of 480 {'transport Plastic - CONSQ' (unit, GLO, None): 1} material resources: metals/minerals -8.189405946314385e-08\n",
      "Calculation 346 of 480 {'PE incineration no Energy Recovery - CONSQ' (kilogram, CH, None): 0.01} material resources: metals/minerals 1.601395143993557e-09\n",
      "Calculation 347 of 480 {'PP incineration no Energy Recovery - CONSQ' (kilogram, CH, None): 0.0866} material resources: metals/minerals 1.3005326283094658e-08\n",
      "Calculation 348 of 480 {'marginal heating grid projection updated - CONSQ' (megajoule, GLO, None): -3.04772115} material resources: metals/minerals -1.6647590302043975e-06\n",
      "material resources: metals/minerals at row 1 col 11 has been assigned the list [['pp production - CONSQ', 2.34378734115991e-06], ['autoclave - CONSQ', 6.577814325168771e-06], ['market for corrugated board box', 2.1164058693197575e-08], ['packaging film production, low density polyethylene', 2.1051850355073884e-07], ['market for polypropylene, granulate', 1.5874305134231447e-06], ['market for electricity, high voltage', -3.8494146819582574e-07], ['transport Plastic - CONSQ', -8.189405946314385e-08], ['PE incineration no Energy Recovery - CONSQ', 1.601395143993557e-09], ['PP incineration no Energy Recovery - CONSQ', 1.3005326283094658e-08], ['marginal heating grid projection updated - CONSQ', -1.6647590302043975e-06]]\n",
      "Calculation 349 of 480 {'pp production - CONSQ' (unit, GLO, None): 1} material resources: metals/minerals 2.34378734115991e-06\n",
      "Calculation 350 of 480 {'autoclave - CONSQ' (unit, GLO, None): 0.1111111111111111} material resources: metals/minerals 6.577814325168771e-06\n",
      "Calculation 351 of 480 {'market for corrugated board box' (kilogram, US, None): 0.003852} material resources: metals/minerals 2.1164058693197575e-08\n",
      "Calculation 352 of 480 {'packaging film production, low density polyethylene' (kilogram, RER, None): 0.01} material resources: metals/minerals 2.1051850355073884e-07\n",
      "Calculation 353 of 480 {'market for polypropylene, granulate' (kilogram, GLO, None): 0.0866} material resources: metals/minerals 1.5874305134231447e-06\n",
      "Calculation 354 of 480 {'polyethylene, high density, granulate, recycled to generic market for high density PE granulate' (kilogram, Europe without Switzerland, None): -0.0054} material resources: metals/minerals -1.0160051104600511e-07\n",
      "Calculation 355 of 480 {'market for polypropylene, granulate' (kilogram, GLO, None): -0.046764} material resources: metals/minerals -8.572124772542587e-07\n",
      "Calculation 356 of 480 {'market for electricity, high voltage' (kilowatt hour, DK, None): -0.0778862071666667} material resources: metals/minerals -1.7707307537004648e-07\n",
      "Calculation 357 of 480 {'transport Plastic - CONSQ' (unit, GLO, None): 1} material resources: metals/minerals -8.189405946314385e-08\n",
      "Calculation 358 of 480 {'PE incineration no Energy Recovery - CONSQ' (kilogram, CH, None): 0.0046} material resources: metals/minerals 7.366417576088244e-10\n",
      "Calculation 359 of 480 {'PP incineration no Energy Recovery - CONSQ' (kilogram, CH, None): 0.039836} material resources: metals/minerals 5.982450059514068e-09\n",
      "Calculation 360 of 480 {'marginal heating grid projection updated - CONSQ' (megajoule, GLO, None): -1.401951729} material resources: metals/minerals -7.657891539247242e-07\n",
      "material resources: metals/minerals at row 2 col 11 has been assigned the list [['pp production - CONSQ', 2.34378734115991e-06], ['autoclave - CONSQ', 6.577814325168771e-06], ['market for corrugated board box', 2.1164058693197575e-08], ['packaging film production, low density polyethylene', 2.1051850355073884e-07], ['market for polypropylene, granulate', 1.5874305134231447e-06], ['polyethylene, high density, granulate, recycled to generic market for high density PE granulate', -1.0160051104600511e-07], ['market for polypropylene, granulate', -8.572124772542587e-07], ['market for electricity, high voltage', -1.7707307537004648e-07], ['transport Plastic - CONSQ', -8.189405946314385e-08], ['PE incineration no Energy Recovery - CONSQ', 7.366417576088244e-10], ['PP incineration no Energy Recovery - CONSQ', 5.982450059514068e-09], ['marginal heating grid projection updated - CONSQ', -7.657891539247242e-07]]\n",
      "Calculation 361 of 480 {'alubox raw materials - CONSQ' (unit, GLO, None): 0.002} ozone depletion 1.3468701148912575e-09\n",
      "Calculation 362 of 480 {'alubox production - CONSQ' (unit, GLO, None): 0.002} ozone depletion 6.546061520022523e-10\n",
      "Calculation 363 of 480 {'autoclave - CONSQ' (unit, GLO, None): 0.1111111111111111} ozone depletion 5.322695922815759e-09\n",
      "Calculation 364 of 480 {'Handwash - CONSQ' (unit, GLO, None): 1} ozone depletion 7.056236692456607e-10\n",
      "Calculation 365 of 480 {'alubox EoL melting - CONSQ' (unit, GLO, None): -0.002} ozone depletion 9.80115744176637e-10\n",
      "Calculation 366 of 480 {'alubox EoL mixed sorting - CONSQ' (unit, GLO, None): -0.002} ozone depletion 8.434689712027004e-11\n",
      "Calculation 367 of 480 {'transport Alu - CONSQ' (unit, GLO, None): 1} ozone depletion 4.8640333823483313e-11\n",
      "Calculation 368 of 480 {'avoided alubox raw materials - CONSQ' (unit, GLO, None): -0.002} ozone depletion -1.2225472022695042e-09\n",
      "ozone depletion at row 0 col 12 has been assigned the list [['alubox raw materials - CONSQ', 1.3468701148912575e-09], ['alubox production - CONSQ', 6.546061520022523e-10], ['autoclave - CONSQ', 5.322695922815759e-09], ['Handwash - CONSQ', 7.056236692456607e-10], ['alubox EoL melting - CONSQ', 9.80115744176637e-10], ['alubox EoL mixed sorting - CONSQ', 8.434689712027004e-11], ['transport Alu - CONSQ', 4.8640333823483313e-11], ['avoided alubox raw materials - CONSQ', -1.2225472022695042e-09]]\n",
      "Calculation 369 of 480 {'pp production - CONSQ' (unit, GLO, None): 1} ozone depletion 2.2672307267960015e-09\n",
      "Calculation 370 of 480 {'autoclave - CONSQ' (unit, GLO, None): 0.1111111111111111} ozone depletion 5.322695922815759e-09\n",
      "Calculation 371 of 480 {'market for corrugated board box' (kilogram, US, None): 0.003852} ozone depletion 1.0732942519692228e-10\n",
      "Calculation 372 of 480 {'packaging film production, low density polyethylene' (kilogram, RER, None): 0.01} ozone depletion 5.282196376555206e-10\n",
      "Calculation 373 of 480 {'market for polypropylene, granulate' (kilogram, GLO, None): 0.0866} ozone depletion 1.4723811915819696e-09\n",
      "Calculation 374 of 480 {'market for electricity, high voltage' (kilowatt hour, DK, None): -0.169317841666667} ozone depletion -1.2104405225218283e-10\n",
      "Calculation 375 of 480 {'transport Plastic - CONSQ' (unit, GLO, None): 1} ozone depletion 8.958388317621908e-10\n",
      "Calculation 376 of 480 {'PE incineration no Energy Recovery - CONSQ' (kilogram, CH, None): 0.01} ozone depletion -1.563934410800861e-11\n",
      "Calculation 377 of 480 {'PP incineration no Energy Recovery - CONSQ' (kilogram, CH, None): 0.0866} ozone depletion -1.1576338348392322e-10\n",
      "Calculation 378 of 480 {'marginal heating grid projection updated - CONSQ' (megajoule, GLO, None): -3.04772115} ozone depletion -1.2743144555507371e-08\n",
      "ozone depletion at row 1 col 12 has been assigned the list [['pp production - CONSQ', 2.2672307267960015e-09], ['autoclave - CONSQ', 5.322695922815759e-09], ['market for corrugated board box', 1.0732942519692228e-10], ['packaging film production, low density polyethylene', 5.282196376555206e-10], ['market for polypropylene, granulate', 1.4723811915819696e-09], ['market for electricity, high voltage', -1.2104405225218283e-10], ['transport Plastic - CONSQ', 8.958388317621908e-10], ['PE incineration no Energy Recovery - CONSQ', -1.563934410800861e-11], ['PP incineration no Energy Recovery - CONSQ', -1.1576338348392322e-10], ['marginal heating grid projection updated - CONSQ', -1.2743144555507371e-08]]\n",
      "Calculation 379 of 480 {'pp production - CONSQ' (unit, GLO, None): 1} ozone depletion 2.2672307267960015e-09\n",
      "Calculation 380 of 480 {'autoclave - CONSQ' (unit, GLO, None): 0.1111111111111111} ozone depletion 5.322695922815759e-09\n",
      "Calculation 381 of 480 {'market for corrugated board box' (kilogram, US, None): 0.003852} ozone depletion 1.0732942519692228e-10\n",
      "Calculation 382 of 480 {'packaging film production, low density polyethylene' (kilogram, RER, None): 0.01} ozone depletion 5.282196376555206e-10\n",
      "Calculation 383 of 480 {'market for polypropylene, granulate' (kilogram, GLO, None): 0.0866} ozone depletion 1.4723811915819696e-09\n",
      "Calculation 384 of 480 {'polyethylene, high density, granulate, recycled to generic market for high density PE granulate' (kilogram, Europe without Switzerland, None): -0.0054} ozone depletion -4.1699072692562864e-10\n",
      "Calculation 385 of 480 {'market for polypropylene, granulate' (kilogram, GLO, None): -0.046764} ozone depletion -7.950858434997455e-10\n",
      "Calculation 386 of 480 {'market for electricity, high voltage' (kilowatt hour, DK, None): -0.0778862071666667} ozone depletion -5.568026403590827e-11\n",
      "Calculation 387 of 480 {'transport Plastic - CONSQ' (unit, GLO, None): 1} ozone depletion 8.958388317621908e-10\n",
      "Calculation 388 of 480 {'PE incineration no Energy Recovery - CONSQ' (kilogram, CH, None): 0.0046} ozone depletion -7.194098289578784e-12\n",
      "Calculation 389 of 480 {'PP incineration no Energy Recovery - CONSQ' (kilogram, CH, None): 0.039836} ozone depletion -5.325115641365981e-11\n",
      "Calculation 390 of 480 {'marginal heating grid projection updated - CONSQ' (megajoule, GLO, None): -1.401951729} ozone depletion -5.861846495549252e-09\n",
      "ozone depletion at row 2 col 12 has been assigned the list [['pp production - CONSQ', 2.2672307267960015e-09], ['autoclave - CONSQ', 5.322695922815759e-09], ['market for corrugated board box', 1.0732942519692228e-10], ['packaging film production, low density polyethylene', 5.282196376555206e-10], ['market for polypropylene, granulate', 1.4723811915819696e-09], ['polyethylene, high density, granulate, recycled to generic market for high density PE granulate', -4.1699072692562864e-10], ['market for polypropylene, granulate', -7.950858434997455e-10], ['market for electricity, high voltage', -5.568026403590827e-11], ['transport Plastic - CONSQ', 8.958388317621908e-10], ['PE incineration no Energy Recovery - CONSQ', -7.194098289578784e-12], ['PP incineration no Energy Recovery - CONSQ', -5.325115641365981e-11], ['marginal heating grid projection updated - CONSQ', -5.861846495549252e-09]]\n",
      "Calculation 391 of 480 {'alubox raw materials - CONSQ' (unit, GLO, None): 0.002} particulate matter formation 1.2379513986258826e-08\n",
      "Calculation 392 of 480 {'alubox production - CONSQ' (unit, GLO, None): 0.002} particulate matter formation 6.170387277465736e-10\n",
      "Calculation 393 of 480 {'autoclave - CONSQ' (unit, GLO, None): 0.1111111111111111} particulate matter formation 1.7848307157297192e-08\n",
      "Calculation 394 of 480 {'Handwash - CONSQ' (unit, GLO, None): 1} particulate matter formation 2.1520213327406356e-09\n",
      "Calculation 395 of 480 {'alubox EoL melting - CONSQ' (unit, GLO, None): -0.002} particulate matter formation 1.11877023336995e-08\n",
      "Calculation 396 of 480 {'alubox EoL mixed sorting - CONSQ' (unit, GLO, None): -0.002} particulate matter formation 1.936243593958415e-10\n",
      "Calculation 397 of 480 {'transport Alu - CONSQ' (unit, GLO, None): 1} particulate matter formation 1.5196424177717214e-10\n",
      "Calculation 398 of 480 {'avoided alubox raw materials - CONSQ' (unit, GLO, None): -0.002} particulate matter formation -1.1638319464952641e-08\n",
      "particulate matter formation at row 0 col 13 has been assigned the list [['alubox raw materials - CONSQ', 1.2379513986258826e-08], ['alubox production - CONSQ', 6.170387277465736e-10], ['autoclave - CONSQ', 1.7848307157297192e-08], ['Handwash - CONSQ', 2.1520213327406356e-09], ['alubox EoL melting - CONSQ', 1.11877023336995e-08], ['alubox EoL mixed sorting - CONSQ', 1.936243593958415e-10], ['transport Alu - CONSQ', 1.5196424177717214e-10], ['avoided alubox raw materials - CONSQ', -1.1638319464952641e-08]]\n",
      "Calculation 399 of 480 {'pp production - CONSQ' (unit, GLO, None): 1} particulate matter formation 1.0430954980012049e-08\n",
      "Calculation 400 of 480 {'autoclave - CONSQ' (unit, GLO, None): 0.1111111111111111} particulate matter formation 1.7848307157297192e-08\n",
      "Calculation 401 of 480 {'market for corrugated board box' (kilogram, US, None): 0.003852} particulate matter formation 6.060102962883501e-10\n",
      "Calculation 402 of 480 {'packaging film production, low density polyethylene' (kilogram, RER, None): 0.01} particulate matter formation 9.702958907333555e-10\n",
      "Calculation 403 of 480 {'market for polypropylene, granulate' (kilogram, GLO, None): 0.0866} particulate matter formation 7.520638470169328e-09\n",
      "Calculation 404 of 480 {'market for electricity, high voltage' (kilowatt hour, DK, None): -0.169317841666667} particulate matter formation -1.4253562039393767e-09\n",
      "Calculation 405 of 480 {'transport Plastic - CONSQ' (unit, GLO, None): 1} particulate matter formation 5.88423518461901e-09\n",
      "Calculation 406 of 480 {'PE incineration no Energy Recovery - CONSQ' (kilogram, CH, None): 0.01} particulate matter formation -1.5496605705058103e-11\n",
      "Calculation 407 of 480 {'PP incineration no Energy Recovery - CONSQ' (kilogram, CH, None): 0.0866} particulate matter formation -1.3628019043453102e-10\n",
      "Calculation 408 of 480 {'marginal heating grid projection updated - CONSQ' (megajoule, GLO, None): -3.04772115} particulate matter formation -9.508157489743055e-09\n",
      "particulate matter formation at row 1 col 13 has been assigned the list [['pp production - CONSQ', 1.0430954980012049e-08], ['autoclave - CONSQ', 1.7848307157297192e-08], ['market for corrugated board box', 6.060102962883501e-10], ['packaging film production, low density polyethylene', 9.702958907333555e-10], ['market for polypropylene, granulate', 7.520638470169328e-09], ['market for electricity, high voltage', -1.4253562039393767e-09], ['transport Plastic - CONSQ', 5.88423518461901e-09], ['PE incineration no Energy Recovery - CONSQ', -1.5496605705058103e-11], ['PP incineration no Energy Recovery - CONSQ', -1.3628019043453102e-10], ['marginal heating grid projection updated - CONSQ', -9.508157489743055e-09]]\n",
      "Calculation 409 of 480 {'pp production - CONSQ' (unit, GLO, None): 1} particulate matter formation 1.0430954980012049e-08\n",
      "Calculation 410 of 480 {'autoclave - CONSQ' (unit, GLO, None): 0.1111111111111111} particulate matter formation 1.7848307157297192e-08\n",
      "Calculation 411 of 480 {'market for corrugated board box' (kilogram, US, None): 0.003852} particulate matter formation 6.060102962883501e-10\n",
      "Calculation 412 of 480 {'packaging film production, low density polyethylene' (kilogram, RER, None): 0.01} particulate matter formation 9.702958907333555e-10\n",
      "Calculation 413 of 480 {'market for polypropylene, granulate' (kilogram, GLO, None): 0.0866} particulate matter formation 7.520638470169328e-09\n",
      "Calculation 414 of 480 {'polyethylene, high density, granulate, recycled to generic market for high density PE granulate' (kilogram, Europe without Switzerland, None): -0.0054} particulate matter formation -4.747443612396433e-10\n",
      "Calculation 415 of 480 {'market for polypropylene, granulate' (kilogram, GLO, None): -0.046764} particulate matter formation -4.0611447739453945e-09\n",
      "Calculation 416 of 480 {'market for electricity, high voltage' (kilowatt hour, DK, None): -0.0778862071666667} particulate matter formation -6.55663853812118e-10\n",
      "Calculation 417 of 480 {'transport Plastic - CONSQ' (unit, GLO, None): 1} particulate matter formation 5.88423518461901e-09\n",
      "Calculation 418 of 480 {'PE incineration no Energy Recovery - CONSQ' (kilogram, CH, None): 0.0046} particulate matter formation -7.128438624962499e-12\n",
      "Calculation 419 of 480 {'PP incineration no Energy Recovery - CONSQ' (kilogram, CH, None): 0.039836} particulate matter formation -6.26888876612392e-11\n",
      "Calculation 420 of 480 {'marginal heating grid projection updated - CONSQ' (megajoule, GLO, None): -1.401951729} particulate matter formation -4.3737524453639915e-09\n",
      "particulate matter formation at row 2 col 13 has been assigned the list [['pp production - CONSQ', 1.0430954980012049e-08], ['autoclave - CONSQ', 1.7848307157297192e-08], ['market for corrugated board box', 6.060102962883501e-10], ['packaging film production, low density polyethylene', 9.702958907333555e-10], ['market for polypropylene, granulate', 7.520638470169328e-09], ['polyethylene, high density, granulate, recycled to generic market for high density PE granulate', -4.747443612396433e-10], ['market for polypropylene, granulate', -4.0611447739453945e-09], ['market for electricity, high voltage', -6.55663853812118e-10], ['transport Plastic - CONSQ', 5.88423518461901e-09], ['PE incineration no Energy Recovery - CONSQ', -7.128438624962499e-12], ['PP incineration no Energy Recovery - CONSQ', -6.26888876612392e-11], ['marginal heating grid projection updated - CONSQ', -4.3737524453639915e-09]]\n",
      "Calculation 421 of 480 {'alubox raw materials - CONSQ' (unit, GLO, None): 0.002} photochemical oxidant formation: human health 0.0005788419782701951\n",
      "Calculation 422 of 480 {'alubox production - CONSQ' (unit, GLO, None): 0.002} photochemical oxidant formation: human health 7.128328326307099e-05\n",
      "Calculation 423 of 480 {'autoclave - CONSQ' (unit, GLO, None): 0.1111111111111111} photochemical oxidant formation: human health 0.0014010663180142027\n",
      "Calculation 424 of 480 {'Handwash - CONSQ' (unit, GLO, None): 1} photochemical oxidant formation: human health 9.14197251274628e-05\n",
      "Calculation 425 of 480 {'alubox EoL melting - CONSQ' (unit, GLO, None): -0.002} photochemical oxidant formation: human health 0.0004874946657819522\n",
      "Calculation 426 of 480 {'alubox EoL mixed sorting - CONSQ' (unit, GLO, None): -0.002} photochemical oxidant formation: human health 1.780167860430808e-05\n",
      "Calculation 427 of 480 {'transport Alu - CONSQ' (unit, GLO, None): 1} photochemical oxidant formation: human health 7.900768413078576e-06\n",
      "Calculation 428 of 480 {'avoided alubox raw materials - CONSQ' (unit, GLO, None): -0.002} photochemical oxidant formation: human health -0.0005375470665861999\n",
      "photochemical oxidant formation: human health at row 0 col 14 has been assigned the list [['alubox raw materials - CONSQ', 0.0005788419782701951], ['alubox production - CONSQ', 7.128328326307099e-05], ['autoclave - CONSQ', 0.0014010663180142027], ['Handwash - CONSQ', 9.14197251274628e-05], ['alubox EoL melting - CONSQ', 0.0004874946657819522], ['alubox EoL mixed sorting - CONSQ', 1.780167860430808e-05], ['transport Alu - CONSQ', 7.900768413078576e-06], ['avoided alubox raw materials - CONSQ', -0.0005375470665861999]]\n",
      "Calculation 429 of 480 {'pp production - CONSQ' (unit, GLO, None): 1} photochemical oxidant formation: human health 0.0008421374025219222\n",
      "Calculation 430 of 480 {'autoclave - CONSQ' (unit, GLO, None): 0.1111111111111111} photochemical oxidant formation: human health 0.0014010663180142027\n",
      "Calculation 431 of 480 {'market for corrugated board box' (kilogram, US, None): 0.003852} photochemical oxidant formation: human health 2.859275641047564e-05\n",
      "Calculation 432 of 480 {'packaging film production, low density polyethylene' (kilogram, RER, None): 0.01} photochemical oxidant formation: human health 0.0001137816437674622\n",
      "Calculation 433 of 480 {'market for polypropylene, granulate' (kilogram, GLO, None): 0.0866} photochemical oxidant formation: human health 0.0006193233592137509\n",
      "Calculation 434 of 480 {'market for electricity, high voltage' (kilowatt hour, DK, None): -0.169317841666667} photochemical oxidant formation: human health -8.942695806091347e-05\n",
      "Calculation 435 of 480 {'transport Plastic - CONSQ' (unit, GLO, None): 1} photochemical oxidant formation: human health 0.0007600009777508464\n",
      "Calculation 436 of 480 {'PE incineration no Energy Recovery - CONSQ' (kilogram, CH, None): 0.01} photochemical oxidant formation: human health -5.415379617993103e-06\n",
      "Calculation 437 of 480 {'PP incineration no Energy Recovery - CONSQ' (kilogram, CH, None): 0.0866} photochemical oxidant formation: human health -3.997972344788057e-05\n",
      "Calculation 438 of 480 {'marginal heating grid projection updated - CONSQ' (megajoule, GLO, None): -3.04772115} photochemical oxidant formation: human health -0.0004412712045675308\n",
      "photochemical oxidant formation: human health at row 1 col 14 has been assigned the list [['pp production - CONSQ', 0.0008421374025219222], ['autoclave - CONSQ', 0.0014010663180142027], ['market for corrugated board box', 2.859275641047564e-05], ['packaging film production, low density polyethylene', 0.0001137816437674622], ['market for polypropylene, granulate', 0.0006193233592137509], ['market for electricity, high voltage', -8.942695806091347e-05], ['transport Plastic - CONSQ', 0.0007600009777508464], ['PE incineration no Energy Recovery - CONSQ', -5.415379617993103e-06], ['PP incineration no Energy Recovery - CONSQ', -3.997972344788057e-05], ['marginal heating grid projection updated - CONSQ', -0.0004412712045675308]]\n",
      "Calculation 439 of 480 {'pp production - CONSQ' (unit, GLO, None): 1} photochemical oxidant formation: human health 0.0008421374025219222\n",
      "Calculation 440 of 480 {'autoclave - CONSQ' (unit, GLO, None): 0.1111111111111111} photochemical oxidant formation: human health 0.0014010663180142027\n",
      "Calculation 441 of 480 {'market for corrugated board box' (kilogram, US, None): 0.003852} photochemical oxidant formation: human health 2.859275641047564e-05\n",
      "Calculation 442 of 480 {'packaging film production, low density polyethylene' (kilogram, RER, None): 0.01} photochemical oxidant formation: human health 0.0001137816437674622\n",
      "Calculation 443 of 480 {'market for polypropylene, granulate' (kilogram, GLO, None): 0.0866} photochemical oxidant formation: human health 0.0006193233592137509\n",
      "Calculation 444 of 480 {'polyethylene, high density, granulate, recycled to generic market for high density PE granulate' (kilogram, Europe without Switzerland, None): -0.0054} photochemical oxidant formation: human health -4.223466715512621e-05\n",
      "Calculation 445 of 480 {'market for polypropylene, granulate' (kilogram, GLO, None): -0.046764} photochemical oxidant formation: human health -0.0003344346139827557\n",
      "Calculation 446 of 480 {'market for electricity, high voltage' (kilowatt hour, DK, None): -0.0778862071666667} photochemical oxidant formation: human health -4.113640070802057e-05\n",
      "Calculation 447 of 480 {'transport Plastic - CONSQ' (unit, GLO, None): 1} photochemical oxidant formation: human health 0.0007600009777508464\n",
      "Calculation 448 of 480 {'PE incineration no Energy Recovery - CONSQ' (kilogram, CH, None): 0.0046} photochemical oxidant formation: human health -2.491074624346275e-06\n",
      "Calculation 449 of 480 {'PP incineration no Energy Recovery - CONSQ' (kilogram, CH, None): 0.039836} photochemical oxidant formation: human health -1.8390672788989974e-05\n",
      "Calculation 450 of 480 {'marginal heating grid projection updated - CONSQ' (megajoule, GLO, None): -1.401951729} photochemical oxidant formation: human health -0.00020298475410504232\n",
      "photochemical oxidant formation: human health at row 2 col 14 has been assigned the list [['pp production - CONSQ', 0.0008421374025219222], ['autoclave - CONSQ', 0.0014010663180142027], ['market for corrugated board box', 2.859275641047564e-05], ['packaging film production, low density polyethylene', 0.0001137816437674622], ['market for polypropylene, granulate', 0.0006193233592137509], ['polyethylene, high density, granulate, recycled to generic market for high density PE granulate', -4.223466715512621e-05], ['market for polypropylene, granulate', -0.0003344346139827557], ['market for electricity, high voltage', -4.113640070802057e-05], ['transport Plastic - CONSQ', 0.0007600009777508464], ['PE incineration no Energy Recovery - CONSQ', -2.491074624346275e-06], ['PP incineration no Energy Recovery - CONSQ', -1.8390672788989974e-05], ['marginal heating grid projection updated - CONSQ', -0.00020298475410504232]]\n",
      "Calculation 451 of 480 {'alubox raw materials - CONSQ' (unit, GLO, None): 0.002} water use 0.03862284700230107\n",
      "Calculation 452 of 480 {'alubox production - CONSQ' (unit, GLO, None): 0.002} water use 0.025583158377687723\n",
      "Calculation 453 of 480 {'autoclave - CONSQ' (unit, GLO, None): 0.1111111111111111} water use 0.04506116162085487\n",
      "Calculation 454 of 480 {'Handwash - CONSQ' (unit, GLO, None): 1} water use 0.052961791147733764\n",
      "Calculation 455 of 480 {'alubox EoL melting - CONSQ' (unit, GLO, None): -0.002} water use 0.034322357667014906\n",
      "Calculation 456 of 480 {'alubox EoL mixed sorting - CONSQ' (unit, GLO, None): -0.002} water use 0.0006692049709012063\n",
      "Calculation 457 of 480 {'transport Alu - CONSQ' (unit, GLO, None): 1} water use 0.00013773626737402736\n",
      "Calculation 458 of 480 {'avoided alubox raw materials - CONSQ' (unit, GLO, None): -0.002} water use -0.03594166704133421\n",
      "water use at row 0 col 15 has been assigned the list [['alubox raw materials - CONSQ', 0.03862284700230107], ['alubox production - CONSQ', 0.025583158377687723], ['autoclave - CONSQ', 0.04506116162085487], ['Handwash - CONSQ', 0.052961791147733764], ['alubox EoL melting - CONSQ', 0.034322357667014906], ['alubox EoL mixed sorting - CONSQ', 0.0006692049709012063], ['transport Alu - CONSQ', 0.00013773626737402736], ['avoided alubox raw materials - CONSQ', -0.03594166704133421]]\n",
      "Calculation 459 of 480 {'pp production - CONSQ' (unit, GLO, None): 1} water use 0.07549342364357263\n",
      "Calculation 460 of 480 {'autoclave - CONSQ' (unit, GLO, None): 0.1111111111111111} water use 0.04506116162085487\n",
      "Calculation 461 of 480 {'market for corrugated board box' (kilogram, US, None): 0.003852} water use 0.0019124220055341606\n",
      "Calculation 462 of 480 {'packaging film production, low density polyethylene' (kilogram, RER, None): 0.01} water use 0.019129675350616448\n",
      "Calculation 463 of 480 {'market for polypropylene, granulate' (kilogram, GLO, None): 0.0866} water use 0.05865570909259933\n",
      "Calculation 464 of 480 {'market for electricity, high voltage' (kilowatt hour, DK, None): -0.169317841666667} water use -0.0028225081856488162\n",
      "Calculation 465 of 480 {'transport Plastic - CONSQ' (unit, GLO, None): 1} water use 0.006012576485682125\n",
      "Calculation 466 of 480 {'PE incineration no Energy Recovery - CONSQ' (kilogram, CH, None): 0.01} water use -0.0005581463989573615\n",
      "Calculation 467 of 480 {'PP incineration no Energy Recovery - CONSQ' (kilogram, CH, None): 0.0866} water use -0.004675623746658543\n",
      "Calculation 468 of 480 {'marginal heating grid projection updated - CONSQ' (megajoule, GLO, None): -3.04772115} water use -0.016697884675900988\n",
      "water use at row 1 col 15 has been assigned the list [['pp production - CONSQ', 0.07549342364357263], ['autoclave - CONSQ', 0.04506116162085487], ['market for corrugated board box', 0.0019124220055341606], ['packaging film production, low density polyethylene', 0.019129675350616448], ['market for polypropylene, granulate', 0.05865570909259933], ['market for electricity, high voltage', -0.0028225081856488162], ['transport Plastic - CONSQ', 0.006012576485682125], ['PE incineration no Energy Recovery - CONSQ', -0.0005581463989573615], ['PP incineration no Energy Recovery - CONSQ', -0.004675623746658543], ['marginal heating grid projection updated - CONSQ', -0.016697884675900988]]\n",
      "Calculation 469 of 480 {'pp production - CONSQ' (unit, GLO, None): 1} water use 0.07549342364357263\n",
      "Calculation 470 of 480 {'autoclave - CONSQ' (unit, GLO, None): 0.1111111111111111} water use 0.04506116162085487\n",
      "Calculation 471 of 480 {'market for corrugated board box' (kilogram, US, None): 0.003852} water use 0.0019124220055341606\n",
      "Calculation 472 of 480 {'packaging film production, low density polyethylene' (kilogram, RER, None): 0.01} water use 0.019129675350616448\n",
      "Calculation 473 of 480 {'market for polypropylene, granulate' (kilogram, GLO, None): 0.0866} water use 0.05865570909259933\n",
      "Calculation 474 of 480 {'polyethylene, high density, granulate, recycled to generic market for high density PE granulate' (kilogram, Europe without Switzerland, None): -0.0054} water use -0.004158278213901295\n",
      "Calculation 475 of 480 {'market for polypropylene, granulate' (kilogram, GLO, None): -0.046764} water use -0.03167408291003952\n",
      "Calculation 476 of 480 {'market for electricity, high voltage' (kilowatt hour, DK, None): -0.0778862071666667} water use -0.001298353765398508\n",
      "Calculation 477 of 480 {'transport Plastic - CONSQ' (unit, GLO, None): 1} water use 0.006012576485682125\n",
      "Calculation 478 of 480 {'PE incineration no Energy Recovery - CONSQ' (kilogram, CH, None): 0.0046} water use -0.0002567473435168879\n",
      "Calculation 479 of 480 {'PP incineration no Energy Recovery - CONSQ' (kilogram, CH, None): 0.039836} water use -0.0021507869235897125\n",
      "Calculation 480 of 480 {'marginal heating grid projection updated - CONSQ' (megajoule, GLO, None): -1.401951729} water use -0.007681026951084412\n",
      "water use at row 2 col 15 has been assigned the list [['pp production - CONSQ', 0.07549342364357263], ['autoclave - CONSQ', 0.04506116162085487], ['market for corrugated board box', 0.0019124220055341606], ['packaging film production, low density polyethylene', 0.019129675350616448], ['market for polypropylene, granulate', 0.05865570909259933], ['polyethylene, high density, granulate, recycled to generic market for high density PE granulate', -0.004158278213901295], ['market for polypropylene, granulate', -0.03167408291003952], ['market for electricity, high voltage', -0.001298353765398508], ['transport Plastic - CONSQ', 0.006012576485682125], ['PE incineration no Energy Recovery - CONSQ', -0.0002567473435168879], ['PP incineration no Energy Recovery - CONSQ', -0.0021507869235897125], ['marginal heating grid projection updated - CONSQ', -0.007681026951084412]]\n",
      "DataFrame with nested lists written to Excel successfully.\n"
     ]
    }
   ],
   "source": [
    "FU, FU_proc, impact_category, plot_x_axis, sub_product_details = lc.LCA_initialization(database_project, database_name, flows)\n",
    "impat =  impact_category\n",
    "\n",
    "calculate = True\n",
    "\n",
    "if f'{path}\\{sheet_name}' is False or calculate is True:\n",
    "    # Caculating the LCA results\n",
    "    df = lc.life_cycle_impact_assessment(flows, FU, impat, FU_proc)\n",
    "    lc.save_LCA_results(df, file_name, sheet_name, impat)\n",
    "\n",
    "\n",
    "df_test = lc.import_LCA_results(file_name, flows, impat)"
   ]
  },
  {
   "cell_type": "code",
   "execution_count": 210,
   "metadata": {},
   "outputs": [
    {
     "name": "stdout",
     "output_type": "stream",
     "text": [
      "Biosphere database already present!!! No setup is needed\n",
      "Initialization is completed\n",
      "Biosphere database already present!!! No setup is needed\n",
      "Initialization is completed\n",
      "Biosphere database already present!!! No setup is needed\n",
      "Initialization is completed\n",
      "Biosphere database already present!!! No setup is needed\n",
      "Initialization is completed\n",
      "Biosphere database already present!!! No setup is needed\n",
      "Initialization is completed\n",
      "Biosphere database already present!!! No setup is needed\n",
      "Initialization is completed\n",
      "Biosphere database already present!!! No setup is needed\n",
      "Initialization is completed\n",
      "Biosphere database already present!!! No setup is needed\n",
      "Initialization is completed\n",
      "Biosphere database already present!!! No setup is needed\n",
      "Initialization is completed\n",
      "Biosphere database already present!!! No setup is needed\n",
      "Initialization is completed\n",
      "Biosphere database already present!!! No setup is needed\n",
      "Initialization is completed\n",
      "Biosphere database already present!!! No setup is needed\n",
      "Initialization is completed\n",
      "Biosphere database already present!!! No setup is needed\n",
      "Initialization is completed\n",
      "Biosphere database already present!!! No setup is needed\n",
      "Initialization is completed\n",
      "Biosphere database already present!!! No setup is needed\n",
      "Initialization is completed\n",
      "Biosphere database already present!!! No setup is needed\n",
      "Initialization is completed\n",
      "Biosphere database already present!!! No setup is needed\n",
      "Initialization is completed\n",
      "Biosphere database already present!!! No setup is needed\n",
      "Initialization is completed\n",
      "Biosphere database already present!!! No setup is needed\n",
      "Initialization is completed\n",
      "Biosphere database already present!!! No setup is needed\n",
      "Initialization is completed\n"
     ]
    }
   ],
   "source": [
    "# # Processing the LCA results\n",
    "sub_proccess, amount = lc.obtaining_sub_process(sub_product_details)\n",
    "FU_sub, FU_sub_proc, idx = lc.sub_process_initilization(sub_proccess, FU, database_project, 'df_idx_ofir')\n",
    "flow_count, flow_sub, functional_unit_sub = lc.FU_contibution_initilization(FU_sub, FU_sub_proc)\n"
   ]
  },
  {
   "cell_type": "code",
   "execution_count": 211,
   "metadata": {},
   "outputs": [],
   "source": [
    "fu_sub_updated = lc.process_update(FU, functional_unit_sub)\n",
    "# functional_unit_sub_new[1]\n"
   ]
  },
  {
   "cell_type": "code",
   "execution_count": 166,
   "metadata": {},
   "outputs": [
    {
     "name": "stdout",
     "output_type": "stream",
     "text": [
      "Processing flow: alubox raw materials - CONSQ in impact category: acidification\n",
      "'market for aluminium, wrought alloy' (kilogram, GLO, None) Calculation 1 of 2464, Score: 0.0009462506502292941 acidification\n",
      "'steel production, chromium steel 18/8, hot rolled' (kilogram, RER, None) Calculation 2 of 2464, Score: 4.8342486733289286e-05 acidification\n",
      "row : 0, col : 0 is assigned list : [[\"'market for aluminium, wrought alloy' (kilogram, GLO, None)\", 0.0009462506502292941], [\"'steel production, chromium steel 18/8, hot rolled' (kilogram, RER, None)\", 4.8342486733289286e-05]]\n",
      "Processing flow: alubox production - CONSQ in impact category: acidification\n",
      "'anodising, aluminium sheet' (square meter, RER, None) Calculation 3 of 2464, Score: 3.220412209720347e-05 acidification\n",
      "'impact extrusion of aluminium, 4 strokes' (kilogram, RER, None) Calculation 4 of 2464, Score: 2.6803678273025643e-05 acidification\n",
      "'corrugated board box production' (kilogram, RER, None) Calculation 5 of 2464, Score: 9.58401803311257e-06 acidification\n",
      "'metal working, average for chromium steel product manufacturing' (kilogram, RER, None) Calculation 6 of 2464, Score: 1.5032545682347017e-05 acidification\n",
      "'polystyrene foam slab production' (kilogram, RER, None) Calculation 7 of 2464, Score: 0.0 acidification\n",
      "'section bar extrusion, aluminium' (kilogram, RER, None) Calculation 8 of 2464, Score: 0.0 acidification\n",
      "'sheet rolling, aluminium' (kilogram, RER, None) Calculation 9 of 2464, Score: 1.4001711107189894e-05 acidification\n",
      "row : 1, col : 0 is assigned list : [[\"'anodising, aluminium sheet' (square meter, RER, None)\", 3.220412209720347e-05], [\"'impact extrusion of aluminium, 4 strokes' (kilogram, RER, None)\", 2.6803678273025643e-05], [\"'corrugated board box production' (kilogram, RER, None)\", 9.58401803311257e-06], [\"'metal working, average for chromium steel product manufacturing' (kilogram, RER, None)\", 1.5032545682347017e-05], [\"'polystyrene foam slab production' (kilogram, RER, None)\", 0.0], [\"'section bar extrusion, aluminium' (kilogram, RER, None)\", 0.0], [\"'sheet rolling, aluminium' (kilogram, RER, None)\", 1.4001711107189894e-05]]\n",
      "Processing flow: autoclave - CONSQ in impact category: acidification\n",
      "'autoclave - CONSQ' (unit, GLO, None) Calculation 10 of 2464, Score: 0.00015571428266490976 acidification\n",
      "row : 2, col : 0 is assigned list : [[\"'autoclave - CONSQ' (unit, GLO, None)\", 0.00015571428266490976]]\n",
      "Processing flow: disinfection - CONSQ in impact category: acidification\n",
      "'disinfection - CONSQ' (unit, GLO, None) Calculation 11 of 2464, Score: 0.00015653829661264169 acidification\n",
      "row : 3, col : 0 is assigned list : [[\"'disinfection - CONSQ' (unit, GLO, None)\", 0.00015653829661264169]]\n",
      "Processing flow: Handwash - CONSQ in impact category: acidification\n",
      "'Handwash - CONSQ' (unit, GLO, None) Calculation 12 of 2464, Score: 0.00013896582908387405 acidification\n",
      "row : 4, col : 0 is assigned list : [[\"'Handwash - CONSQ' (unit, GLO, None)\", 0.00013896582908387405]]\n",
      "Processing flow: alubox EoL melting - CONSQ in impact category: acidification\n",
      "'treatment of metal scrap, mixed, for recycling, unsorted, sorting' (kilogram, Europe without Switzerland, None) Calculation 13 of 2464, Score: -0.0008632211009773005 acidification\n",
      "row : 5, col : 0 is assigned list : [[\"'treatment of metal scrap, mixed, for recycling, unsorted, sorting' (kilogram, Europe without Switzerland, None)\", -0.0008632211009773005]]\n",
      "Processing flow: alubox EoL mixed sorting - CONSQ in impact category: acidification\n",
      "'treatment of metal scrap, mixed, for recycling, unsorted, sorting' (kilogram, Europe without Switzerland, None) Calculation 14 of 2464, Score: -1.3102513886946357e-05 acidification\n",
      "row : 6, col : 0 is assigned list : [[\"'treatment of metal scrap, mixed, for recycling, unsorted, sorting' (kilogram, Europe without Switzerland, None)\", -1.3102513886946357e-05]]\n",
      "Processing flow: transport Alu - CONSQ in impact category: acidification\n",
      "'transport Alu - CONSQ' (unit, GLO, None) Calculation 15 of 2464, Score: 5.1128321043765874e-06 acidification\n",
      "row : 7, col : 0 is assigned list : [[\"'transport Alu - CONSQ' (unit, GLO, None)\", 5.1128321043765874e-06]]\n",
      "Processing flow: pp production - CONSQ in impact category: acidification\n",
      "'market for textile, nonwoven polypropylene' (kilogram, GLO, None) Calculation 16 of 2464, Score: 0.0009106955985631591 acidification\n",
      "row : 8, col : 0 is assigned list : [[\"'market for textile, nonwoven polypropylene' (kilogram, GLO, None)\", 0.0009106955985631591]]\n",
      "Processing flow: autoclave - CONSQ in impact category: acidification\n",
      "'autoclave - CONSQ' (unit, GLO, None) Calculation 17 of 2464, Score: 0.00015571428266490976 acidification\n",
      "row : 9, col : 0 is assigned list : [[\"'autoclave - CONSQ' (unit, GLO, None)\", 0.00015571428266490976]]\n",
      "Processing flow: transport Plastic - CONSQ in impact category: acidification\n",
      "'transport Plastic - CONSQ' (unit, GLO, None) Calculation 18 of 2464, Score: 0.0005506473682877801 acidification\n",
      "row : 10, col : 0 is assigned list : [[\"'transport Plastic - CONSQ' (unit, GLO, None)\", 0.0005506473682877801]]\n",
      "Processing flow: PE incineration no Energy Recovery - CONSQ in impact category: acidification\n",
      "'PE incineration no Energy Recovery - CONSQ' (kilogram, CH, None) Calculation 19 of 2464, Score: -8.411961792685497e-09 acidification\n",
      "row : 11, col : 0 is assigned list : [[\"'PE incineration no Energy Recovery - CONSQ' (kilogram, CH, None)\", -8.411961792685497e-09]]\n",
      "Processing flow: PP incineration no Energy Recovery - CONSQ in impact category: acidification\n",
      "'PP incineration no Energy Recovery - CONSQ' (kilogram, CH, None) Calculation 20 of 2464, Score: -5.364094197194871e-07 acidification\n",
      "row : 12, col : 0 is assigned list : [[\"'PP incineration no Energy Recovery - CONSQ' (kilogram, CH, None)\", -5.364094197194871e-07]]\n",
      "Processing flow: marginal heating grid projection updated - CONSQ in impact category: acidification\n",
      "'marginal heating grid projection updated - CONSQ' (megajoule, GLO, None) Calculation 21 of 2464, Score: 0.00023394196095745493 acidification\n",
      "row : 13, col : 0 is assigned list : [[\"'marginal heating grid projection updated - CONSQ' (megajoule, GLO, None)\", 0.00023394196095745493]]\n",
      "Processing flow: pp production - CONSQ in impact category: acidification\n",
      "'market for textile, nonwoven polypropylene' (kilogram, GLO, None) Calculation 22 of 2464, Score: 0.0009106955985631591 acidification\n",
      "row : 14, col : 0 is assigned list : [[\"'market for textile, nonwoven polypropylene' (kilogram, GLO, None)\", 0.0009106955985631591]]\n",
      "Processing flow: autoclave - CONSQ in impact category: acidification\n",
      "'autoclave - CONSQ' (unit, GLO, None) Calculation 23 of 2464, Score: 0.00015571428266490976 acidification\n",
      "row : 15, col : 0 is assigned list : [[\"'autoclave - CONSQ' (unit, GLO, None)\", 0.00015571428266490976]]\n",
      "Processing flow: transport Plastic - CONSQ in impact category: acidification\n",
      "'transport Plastic - CONSQ' (unit, GLO, None) Calculation 24 of 2464, Score: 0.0005506473682877801 acidification\n",
      "row : 16, col : 0 is assigned list : [[\"'transport Plastic - CONSQ' (unit, GLO, None)\", 0.0005506473682877801]]\n",
      "Processing flow: PE incineration no Energy Recovery - CONSQ in impact category: acidification\n",
      "'PE incineration no Energy Recovery - CONSQ' (kilogram, CH, None) Calculation 25 of 2464, Score: -8.411961792685497e-09 acidification\n",
      "row : 17, col : 0 is assigned list : [[\"'PE incineration no Energy Recovery - CONSQ' (kilogram, CH, None)\", -8.411961792685497e-09]]\n",
      "Processing flow: PP incineration no Energy Recovery - CONSQ in impact category: acidification\n",
      "'PP incineration no Energy Recovery - CONSQ' (kilogram, CH, None) Calculation 26 of 2464, Score: -5.364094197194871e-07 acidification\n",
      "row : 18, col : 0 is assigned list : [[\"'PP incineration no Energy Recovery - CONSQ' (kilogram, CH, None)\", -5.364094197194871e-07]]\n",
      "Processing flow: marginal heating grid projection updated - CONSQ in impact category: acidification\n",
      "'marginal heating grid projection updated - CONSQ' (megajoule, GLO, None) Calculation 27 of 2464, Score: 0.00023394196095745493 acidification\n",
      "row : 19, col : 0 is assigned list : [[\"'marginal heating grid projection updated - CONSQ' (megajoule, GLO, None)\", 0.00023394196095745493]]\n",
      "Processing flow: alubox raw materials - CONSQ in impact category: climate change\n",
      "'market for aluminium, wrought alloy' (kilogram, GLO, None) Calculation 28 of 2464, Score: 0.14408880803499768 climate change\n",
      "'steel production, chromium steel 18/8, hot rolled' (kilogram, RER, None) Calculation 29 of 2464, Score: 0.010155120108550885 climate change\n",
      "row : 0, col : 1 is assigned list : [[\"'market for aluminium, wrought alloy' (kilogram, GLO, None)\", 0.14408880803499768], [\"'steel production, chromium steel 18/8, hot rolled' (kilogram, RER, None)\", 0.010155120108550885]]\n",
      "Processing flow: alubox production - CONSQ in impact category: climate change\n",
      "'anodising, aluminium sheet' (square meter, RER, None) Calculation 30 of 2464, Score: 0.004144322364812754 climate change\n",
      "'impact extrusion of aluminium, 4 strokes' (kilogram, RER, None) Calculation 31 of 2464, Score: 0.009568673158897143 climate change\n",
      "'corrugated board box production' (kilogram, RER, None) Calculation 32 of 2464, Score: -0.00027635242720411903 climate change\n",
      "'metal working, average for chromium steel product manufacturing' (kilogram, RER, None) Calculation 33 of 2464, Score: 0.00396528934943966 climate change\n",
      "'polystyrene foam slab production' (kilogram, RER, None) Calculation 34 of 2464, Score: 0.0 climate change\n",
      "'section bar extrusion, aluminium' (kilogram, RER, None) Calculation 35 of 2464, Score: 0.0 climate change\n",
      "'sheet rolling, aluminium' (kilogram, RER, None) Calculation 36 of 2464, Score: 0.004754841606873683 climate change\n",
      "row : 1, col : 1 is assigned list : [[\"'anodising, aluminium sheet' (square meter, RER, None)\", 0.004144322364812754], [\"'impact extrusion of aluminium, 4 strokes' (kilogram, RER, None)\", 0.009568673158897143], [\"'corrugated board box production' (kilogram, RER, None)\", -0.00027635242720411903], [\"'metal working, average for chromium steel product manufacturing' (kilogram, RER, None)\", 0.00396528934943966], [\"'polystyrene foam slab production' (kilogram, RER, None)\", 0.0], [\"'section bar extrusion, aluminium' (kilogram, RER, None)\", 0.0], [\"'sheet rolling, aluminium' (kilogram, RER, None)\", 0.004754841606873683]]\n",
      "Processing flow: autoclave - CONSQ in impact category: climate change\n",
      "'autoclave - CONSQ' (unit, GLO, None) Calculation 37 of 2464, Score: 0.014801466839460474 climate change\n",
      "row : 2, col : 1 is assigned list : [[\"'autoclave - CONSQ' (unit, GLO, None)\", 0.014801466839460474]]\n",
      "Processing flow: disinfection - CONSQ in impact category: climate change\n",
      "'disinfection - CONSQ' (unit, GLO, None) Calculation 38 of 2464, Score: 0.009959351663988014 climate change\n",
      "row : 3, col : 1 is assigned list : [[\"'disinfection - CONSQ' (unit, GLO, None)\", 0.009959351663988014]]\n",
      "Processing flow: Handwash - CONSQ in impact category: climate change\n",
      "'Handwash - CONSQ' (unit, GLO, None) Calculation 39 of 2464, Score: 0.02337957579346481 climate change\n",
      "row : 4, col : 1 is assigned list : [[\"'Handwash - CONSQ' (unit, GLO, None)\", 0.02337957579346481]]\n",
      "Processing flow: alubox EoL melting - CONSQ in impact category: climate change\n",
      "'treatment of metal scrap, mixed, for recycling, unsorted, sorting' (kilogram, Europe without Switzerland, None) Calculation 40 of 2464, Score: -0.1310690931911876 climate change\n",
      "row : 5, col : 1 is assigned list : [[\"'treatment of metal scrap, mixed, for recycling, unsorted, sorting' (kilogram, Europe without Switzerland, None)\", -0.1310690931911876]]\n",
      "Processing flow: alubox EoL mixed sorting - CONSQ in impact category: climate change\n",
      "'treatment of metal scrap, mixed, for recycling, unsorted, sorting' (kilogram, Europe without Switzerland, None) Calculation 41 of 2464, Score: -0.0031809503361051213 climate change\n",
      "row : 6, col : 1 is assigned list : [[\"'treatment of metal scrap, mixed, for recycling, unsorted, sorting' (kilogram, Europe without Switzerland, None)\", -0.0031809503361051213]]\n",
      "Processing flow: transport Alu - CONSQ in impact category: climate change\n",
      "'transport Alu - CONSQ' (unit, GLO, None) Calculation 42 of 2464, Score: 0.0021324672021639807 climate change\n",
      "row : 7, col : 1 is assigned list : [[\"'transport Alu - CONSQ' (unit, GLO, None)\", 0.0021324672021639807]]\n",
      "Processing flow: pp production - CONSQ in impact category: climate change\n",
      "'market for textile, nonwoven polypropylene' (kilogram, GLO, None) Calculation 43 of 2464, Score: 0.22940404431290856 climate change\n",
      "row : 8, col : 1 is assigned list : [[\"'market for textile, nonwoven polypropylene' (kilogram, GLO, None)\", 0.22940404431290856]]\n",
      "Processing flow: autoclave - CONSQ in impact category: climate change\n",
      "'autoclave - CONSQ' (unit, GLO, None) Calculation 44 of 2464, Score: 0.014801466839460474 climate change\n",
      "row : 9, col : 1 is assigned list : [[\"'autoclave - CONSQ' (unit, GLO, None)\", 0.014801466839460474]]\n",
      "Processing flow: transport Plastic - CONSQ in impact category: climate change\n",
      "'transport Plastic - CONSQ' (unit, GLO, None) Calculation 45 of 2464, Score: 0.060764277659934196 climate change\n",
      "row : 10, col : 1 is assigned list : [[\"'transport Plastic - CONSQ' (unit, GLO, None)\", 0.060764277659934196]]\n",
      "Processing flow: PE incineration no Energy Recovery - CONSQ in impact category: climate change\n",
      "'PE incineration no Energy Recovery - CONSQ' (kilogram, CH, None) Calculation 46 of 2464, Score: -6.431194156400351e-05 climate change\n",
      "row : 11, col : 1 is assigned list : [[\"'PE incineration no Energy Recovery - CONSQ' (kilogram, CH, None)\", -6.431194156400351e-05]]\n",
      "Processing flow: PP incineration no Energy Recovery - CONSQ in impact category: climate change\n",
      "'PP incineration no Energy Recovery - CONSQ' (kilogram, CH, None) Calculation 47 of 2464, Score: -0.004073811554786578 climate change\n",
      "row : 12, col : 1 is assigned list : [[\"'PP incineration no Energy Recovery - CONSQ' (kilogram, CH, None)\", -0.004073811554786578]]\n",
      "Processing flow: marginal heating grid projection updated - CONSQ in impact category: climate change\n",
      "'marginal heating grid projection updated - CONSQ' (megajoule, GLO, None) Calculation 48 of 2464, Score: 0.09848905256685836 climate change\n",
      "row : 13, col : 1 is assigned list : [[\"'marginal heating grid projection updated - CONSQ' (megajoule, GLO, None)\", 0.09848905256685836]]\n",
      "Processing flow: pp production - CONSQ in impact category: climate change\n",
      "'market for textile, nonwoven polypropylene' (kilogram, GLO, None) Calculation 49 of 2464, Score: 0.22940404431290856 climate change\n",
      "row : 14, col : 1 is assigned list : [[\"'market for textile, nonwoven polypropylene' (kilogram, GLO, None)\", 0.22940404431290856]]\n",
      "Processing flow: autoclave - CONSQ in impact category: climate change\n",
      "'autoclave - CONSQ' (unit, GLO, None) Calculation 50 of 2464, Score: 0.014801466839460474 climate change\n",
      "row : 15, col : 1 is assigned list : [[\"'autoclave - CONSQ' (unit, GLO, None)\", 0.014801466839460474]]\n",
      "Processing flow: transport Plastic - CONSQ in impact category: climate change\n",
      "'transport Plastic - CONSQ' (unit, GLO, None) Calculation 51 of 2464, Score: 0.060764277659934196 climate change\n",
      "row : 16, col : 1 is assigned list : [[\"'transport Plastic - CONSQ' (unit, GLO, None)\", 0.060764277659934196]]\n",
      "Processing flow: PE incineration no Energy Recovery - CONSQ in impact category: climate change\n",
      "'PE incineration no Energy Recovery - CONSQ' (kilogram, CH, None) Calculation 52 of 2464, Score: -6.431194156400351e-05 climate change\n",
      "row : 17, col : 1 is assigned list : [[\"'PE incineration no Energy Recovery - CONSQ' (kilogram, CH, None)\", -6.431194156400351e-05]]\n",
      "Processing flow: PP incineration no Energy Recovery - CONSQ in impact category: climate change\n",
      "'PP incineration no Energy Recovery - CONSQ' (kilogram, CH, None) Calculation 53 of 2464, Score: -0.004073811554786578 climate change\n",
      "row : 18, col : 1 is assigned list : [[\"'PP incineration no Energy Recovery - CONSQ' (kilogram, CH, None)\", -0.004073811554786578]]\n",
      "Processing flow: marginal heating grid projection updated - CONSQ in impact category: climate change\n",
      "'marginal heating grid projection updated - CONSQ' (megajoule, GLO, None) Calculation 54 of 2464, Score: 0.09848905256685836 climate change\n",
      "row : 19, col : 1 is assigned list : [[\"'marginal heating grid projection updated - CONSQ' (megajoule, GLO, None)\", 0.09848905256685836]]\n",
      "Processing flow: alubox raw materials - CONSQ in impact category: ecotoxicity: freshwater\n",
      "'market for aluminium, wrought alloy' (kilogram, GLO, None) Calculation 55 of 2464, Score: 0.47604252513906864 ecotoxicity: freshwater\n",
      "'steel production, chromium steel 18/8, hot rolled' (kilogram, RER, None) Calculation 56 of 2464, Score: 0.03401806815464236 ecotoxicity: freshwater\n",
      "row : 0, col : 2 is assigned list : [[\"'market for aluminium, wrought alloy' (kilogram, GLO, None)\", 0.47604252513906864], [\"'steel production, chromium steel 18/8, hot rolled' (kilogram, RER, None)\", 0.03401806815464236]]\n",
      "Processing flow: alubox production - CONSQ in impact category: ecotoxicity: freshwater\n",
      "'anodising, aluminium sheet' (square meter, RER, None) Calculation 57 of 2464, Score: 0.049322462070511434 ecotoxicity: freshwater\n",
      "'impact extrusion of aluminium, 4 strokes' (kilogram, RER, None) Calculation 58 of 2464, Score: 0.0348297343669181 ecotoxicity: freshwater\n",
      "'corrugated board box production' (kilogram, RER, None) Calculation 59 of 2464, Score: 0.0038426218103522185 ecotoxicity: freshwater\n",
      "'metal working, average for chromium steel product manufacturing' (kilogram, RER, None) Calculation 60 of 2464, Score: 0.01600893328354727 ecotoxicity: freshwater\n",
      "'polystyrene foam slab production' (kilogram, RER, None) Calculation 61 of 2464, Score: 0.0 ecotoxicity: freshwater\n",
      "'section bar extrusion, aluminium' (kilogram, RER, None) Calculation 62 of 2464, Score: 0.0 ecotoxicity: freshwater\n",
      "'sheet rolling, aluminium' (kilogram, RER, None) Calculation 63 of 2464, Score: 0.008104569591588277 ecotoxicity: freshwater\n",
      "row : 1, col : 2 is assigned list : [[\"'anodising, aluminium sheet' (square meter, RER, None)\", 0.049322462070511434], [\"'impact extrusion of aluminium, 4 strokes' (kilogram, RER, None)\", 0.0348297343669181], [\"'corrugated board box production' (kilogram, RER, None)\", 0.0038426218103522185], [\"'metal working, average for chromium steel product manufacturing' (kilogram, RER, None)\", 0.01600893328354727], [\"'polystyrene foam slab production' (kilogram, RER, None)\", 0.0], [\"'section bar extrusion, aluminium' (kilogram, RER, None)\", 0.0], [\"'sheet rolling, aluminium' (kilogram, RER, None)\", 0.008104569591588277]]\n",
      "Processing flow: autoclave - CONSQ in impact category: ecotoxicity: freshwater\n",
      "'autoclave - CONSQ' (unit, GLO, None) Calculation 64 of 2464, Score: 0.161057283399612 ecotoxicity: freshwater\n",
      "row : 2, col : 2 is assigned list : [[\"'autoclave - CONSQ' (unit, GLO, None)\", 0.161057283399612]]\n",
      "Processing flow: disinfection - CONSQ in impact category: ecotoxicity: freshwater\n",
      "'disinfection - CONSQ' (unit, GLO, None) Calculation 65 of 2464, Score: 0.14071048517076656 ecotoxicity: freshwater\n",
      "row : 3, col : 2 is assigned list : [[\"'disinfection - CONSQ' (unit, GLO, None)\", 0.14071048517076656]]\n",
      "Processing flow: Handwash - CONSQ in impact category: ecotoxicity: freshwater\n",
      "'Handwash - CONSQ' (unit, GLO, None) Calculation 66 of 2464, Score: 1.4404524083329517 ecotoxicity: freshwater\n",
      "row : 4, col : 2 is assigned list : [[\"'Handwash - CONSQ' (unit, GLO, None)\", 1.4404524083329517]]\n",
      "Processing flow: alubox EoL melting - CONSQ in impact category: ecotoxicity: freshwater\n",
      "'treatment of metal scrap, mixed, for recycling, unsorted, sorting' (kilogram, Europe without Switzerland, None) Calculation 67 of 2464, Score: -0.24075710897551195 ecotoxicity: freshwater\n",
      "row : 5, col : 2 is assigned list : [[\"'treatment of metal scrap, mixed, for recycling, unsorted, sorting' (kilogram, Europe without Switzerland, None)\", -0.24075710897551195]]\n",
      "Processing flow: alubox EoL mixed sorting - CONSQ in impact category: ecotoxicity: freshwater\n",
      "'treatment of metal scrap, mixed, for recycling, unsorted, sorting' (kilogram, Europe without Switzerland, None) Calculation 68 of 2464, Score: -0.01751323955765493 ecotoxicity: freshwater\n",
      "row : 6, col : 2 is assigned list : [[\"'treatment of metal scrap, mixed, for recycling, unsorted, sorting' (kilogram, Europe without Switzerland, None)\", -0.01751323955765493]]\n",
      "Processing flow: transport Alu - CONSQ in impact category: ecotoxicity: freshwater\n",
      "'transport Alu - CONSQ' (unit, GLO, None) Calculation 69 of 2464, Score: 0.014308575806399947 ecotoxicity: freshwater\n",
      "row : 7, col : 2 is assigned list : [[\"'transport Alu - CONSQ' (unit, GLO, None)\", 0.014308575806399947]]\n",
      "Processing flow: pp production - CONSQ in impact category: ecotoxicity: freshwater\n",
      "'market for textile, nonwoven polypropylene' (kilogram, GLO, None) Calculation 70 of 2464, Score: 0.6238917696789656 ecotoxicity: freshwater\n",
      "row : 8, col : 2 is assigned list : [[\"'market for textile, nonwoven polypropylene' (kilogram, GLO, None)\", 0.6238917696789656]]\n",
      "Processing flow: autoclave - CONSQ in impact category: ecotoxicity: freshwater\n",
      "'autoclave - CONSQ' (unit, GLO, None) Calculation 71 of 2464, Score: 0.161057283399612 ecotoxicity: freshwater\n",
      "row : 9, col : 2 is assigned list : [[\"'autoclave - CONSQ' (unit, GLO, None)\", 0.161057283399612]]\n",
      "Processing flow: transport Plastic - CONSQ in impact category: ecotoxicity: freshwater\n",
      "'transport Plastic - CONSQ' (unit, GLO, None) Calculation 72 of 2464, Score: 0.41868503474150837 ecotoxicity: freshwater\n",
      "row : 10, col : 2 is assigned list : [[\"'transport Plastic - CONSQ' (unit, GLO, None)\", 0.41868503474150837]]\n",
      "Processing flow: PE incineration no Energy Recovery - CONSQ in impact category: ecotoxicity: freshwater\n",
      "'PE incineration no Energy Recovery - CONSQ' (kilogram, CH, None) Calculation 73 of 2464, Score: -1.1622465500078869e-05 ecotoxicity: freshwater\n",
      "row : 11, col : 2 is assigned list : [[\"'PE incineration no Energy Recovery - CONSQ' (kilogram, CH, None)\", -1.1622465500078869e-05]]\n",
      "Processing flow: PP incineration no Energy Recovery - CONSQ in impact category: ecotoxicity: freshwater\n",
      "'PP incineration no Energy Recovery - CONSQ' (kilogram, CH, None) Calculation 74 of 2464, Score: -0.0007415860167390131 ecotoxicity: freshwater\n",
      "row : 12, col : 2 is assigned list : [[\"'PP incineration no Energy Recovery - CONSQ' (kilogram, CH, None)\", -0.0007415860167390131]]\n",
      "Processing flow: marginal heating grid projection updated - CONSQ in impact category: ecotoxicity: freshwater\n",
      "'marginal heating grid projection updated - CONSQ' (megajoule, GLO, None) Calculation 75 of 2464, Score: 0.1277807669662686 ecotoxicity: freshwater\n",
      "row : 13, col : 2 is assigned list : [[\"'marginal heating grid projection updated - CONSQ' (megajoule, GLO, None)\", 0.1277807669662686]]\n",
      "Processing flow: pp production - CONSQ in impact category: ecotoxicity: freshwater\n",
      "'market for textile, nonwoven polypropylene' (kilogram, GLO, None) Calculation 76 of 2464, Score: 0.6238917696789656 ecotoxicity: freshwater\n",
      "row : 14, col : 2 is assigned list : [[\"'market for textile, nonwoven polypropylene' (kilogram, GLO, None)\", 0.6238917696789656]]\n",
      "Processing flow: autoclave - CONSQ in impact category: ecotoxicity: freshwater\n",
      "'autoclave - CONSQ' (unit, GLO, None) Calculation 77 of 2464, Score: 0.161057283399612 ecotoxicity: freshwater\n",
      "row : 15, col : 2 is assigned list : [[\"'autoclave - CONSQ' (unit, GLO, None)\", 0.161057283399612]]\n",
      "Processing flow: transport Plastic - CONSQ in impact category: ecotoxicity: freshwater\n",
      "'transport Plastic - CONSQ' (unit, GLO, None) Calculation 78 of 2464, Score: 0.41868503474150837 ecotoxicity: freshwater\n",
      "row : 16, col : 2 is assigned list : [[\"'transport Plastic - CONSQ' (unit, GLO, None)\", 0.41868503474150837]]\n",
      "Processing flow: PE incineration no Energy Recovery - CONSQ in impact category: ecotoxicity: freshwater\n",
      "'PE incineration no Energy Recovery - CONSQ' (kilogram, CH, None) Calculation 79 of 2464, Score: -1.1622465500078869e-05 ecotoxicity: freshwater\n",
      "row : 17, col : 2 is assigned list : [[\"'PE incineration no Energy Recovery - CONSQ' (kilogram, CH, None)\", -1.1622465500078869e-05]]\n",
      "Processing flow: PP incineration no Energy Recovery - CONSQ in impact category: ecotoxicity: freshwater\n",
      "'PP incineration no Energy Recovery - CONSQ' (kilogram, CH, None) Calculation 80 of 2464, Score: -0.0007415860167390131 ecotoxicity: freshwater\n",
      "row : 18, col : 2 is assigned list : [[\"'PP incineration no Energy Recovery - CONSQ' (kilogram, CH, None)\", -0.0007415860167390131]]\n",
      "Processing flow: marginal heating grid projection updated - CONSQ in impact category: ecotoxicity: freshwater\n",
      "'marginal heating grid projection updated - CONSQ' (megajoule, GLO, None) Calculation 81 of 2464, Score: 0.1277807669662686 ecotoxicity: freshwater\n",
      "row : 19, col : 2 is assigned list : [[\"'marginal heating grid projection updated - CONSQ' (megajoule, GLO, None)\", 0.1277807669662686]]\n",
      "Processing flow: alubox raw materials - CONSQ in impact category: energy resources: non-renewable\n",
      "'market for aluminium, wrought alloy' (kilogram, GLO, None) Calculation 82 of 2464, Score: 1.3916492249308505 energy resources: non-renewable\n",
      "'steel production, chromium steel 18/8, hot rolled' (kilogram, RER, None) Calculation 83 of 2464, Score: 0.112831167256065 energy resources: non-renewable\n",
      "row : 0, col : 3 is assigned list : [[\"'market for aluminium, wrought alloy' (kilogram, GLO, None)\", 1.3916492249308505], [\"'steel production, chromium steel 18/8, hot rolled' (kilogram, RER, None)\", 0.112831167256065]]\n",
      "Processing flow: alubox production - CONSQ in impact category: energy resources: non-renewable\n",
      "'anodising, aluminium sheet' (square meter, RER, None) Calculation 84 of 2464, Score: 0.060264876473697646 energy resources: non-renewable\n",
      "'impact extrusion of aluminium, 4 strokes' (kilogram, RER, None) Calculation 85 of 2464, Score: 0.14136806696973706 energy resources: non-renewable\n",
      "'corrugated board box production' (kilogram, RER, None) Calculation 86 of 2464, Score: 0.013132759655826505 energy resources: non-renewable\n",
      "'metal working, average for chromium steel product manufacturing' (kilogram, RER, None) Calculation 87 of 2464, Score: 0.04721378706191345 energy resources: non-renewable\n",
      "'polystyrene foam slab production' (kilogram, RER, None) Calculation 88 of 2464, Score: 0.0 energy resources: non-renewable\n",
      "'section bar extrusion, aluminium' (kilogram, RER, None) Calculation 89 of 2464, Score: 0.0 energy resources: non-renewable\n",
      "'sheet rolling, aluminium' (kilogram, RER, None) Calculation 90 of 2464, Score: 0.0694259079480695 energy resources: non-renewable\n",
      "row : 1, col : 3 is assigned list : [[\"'anodising, aluminium sheet' (square meter, RER, None)\", 0.060264876473697646], [\"'impact extrusion of aluminium, 4 strokes' (kilogram, RER, None)\", 0.14136806696973706], [\"'corrugated board box production' (kilogram, RER, None)\", 0.013132759655826505], [\"'metal working, average for chromium steel product manufacturing' (kilogram, RER, None)\", 0.04721378706191345], [\"'polystyrene foam slab production' (kilogram, RER, None)\", 0.0], [\"'section bar extrusion, aluminium' (kilogram, RER, None)\", 0.0], [\"'sheet rolling, aluminium' (kilogram, RER, None)\", 0.0694259079480695]]\n",
      "Processing flow: autoclave - CONSQ in impact category: energy resources: non-renewable\n",
      "'autoclave - CONSQ' (unit, GLO, None) Calculation 91 of 2464, Score: 0.2913566117958739 energy resources: non-renewable\n",
      "row : 2, col : 3 is assigned list : [[\"'autoclave - CONSQ' (unit, GLO, None)\", 0.2913566117958739]]\n",
      "Processing flow: disinfection - CONSQ in impact category: energy resources: non-renewable\n",
      "'disinfection - CONSQ' (unit, GLO, None) Calculation 92 of 2464, Score: 0.10682909957004776 energy resources: non-renewable\n",
      "row : 3, col : 3 is assigned list : [[\"'disinfection - CONSQ' (unit, GLO, None)\", 0.10682909957004776]]\n",
      "Processing flow: Handwash - CONSQ in impact category: energy resources: non-renewable\n",
      "'Handwash - CONSQ' (unit, GLO, None) Calculation 93 of 2464, Score: 0.20052001646412607 energy resources: non-renewable\n",
      "row : 4, col : 3 is assigned list : [[\"'Handwash - CONSQ' (unit, GLO, None)\", 0.20052001646412607]]\n",
      "Processing flow: alubox EoL melting - CONSQ in impact category: energy resources: non-renewable\n",
      "'treatment of metal scrap, mixed, for recycling, unsorted, sorting' (kilogram, Europe without Switzerland, None) Calculation 94 of 2464, Score: -1.2546444940806487 energy resources: non-renewable\n",
      "row : 5, col : 3 is assigned list : [[\"'treatment of metal scrap, mixed, for recycling, unsorted, sorting' (kilogram, Europe without Switzerland, None)\", -1.2546444940806487]]\n",
      "Processing flow: alubox EoL mixed sorting - CONSQ in impact category: energy resources: non-renewable\n",
      "'treatment of metal scrap, mixed, for recycling, unsorted, sorting' (kilogram, Europe without Switzerland, None) Calculation 95 of 2464, Score: -0.03342991844845587 energy resources: non-renewable\n",
      "row : 6, col : 3 is assigned list : [[\"'treatment of metal scrap, mixed, for recycling, unsorted, sorting' (kilogram, Europe without Switzerland, None)\", -0.03342991844845587]]\n",
      "Processing flow: transport Alu - CONSQ in impact category: energy resources: non-renewable\n",
      "'transport Alu - CONSQ' (unit, GLO, None) Calculation 96 of 2464, Score: 0.03016378175125673 energy resources: non-renewable\n",
      "row : 7, col : 3 is assigned list : [[\"'transport Alu - CONSQ' (unit, GLO, None)\", 0.03016378175125673]]\n",
      "Processing flow: pp production - CONSQ in impact category: energy resources: non-renewable\n",
      "'market for textile, nonwoven polypropylene' (kilogram, GLO, None) Calculation 97 of 2464, Score: 7.106385218495163 energy resources: non-renewable\n",
      "row : 8, col : 3 is assigned list : [[\"'market for textile, nonwoven polypropylene' (kilogram, GLO, None)\", 7.106385218495163]]\n",
      "Processing flow: autoclave - CONSQ in impact category: energy resources: non-renewable\n",
      "'autoclave - CONSQ' (unit, GLO, None) Calculation 98 of 2464, Score: 0.2913566117958739 energy resources: non-renewable\n",
      "row : 9, col : 3 is assigned list : [[\"'autoclave - CONSQ' (unit, GLO, None)\", 0.2913566117958739]]\n",
      "Processing flow: transport Plastic - CONSQ in impact category: energy resources: non-renewable\n",
      "'transport Plastic - CONSQ' (unit, GLO, None) Calculation 99 of 2464, Score: 0.7661470104554844 energy resources: non-renewable\n",
      "row : 10, col : 3 is assigned list : [[\"'transport Plastic - CONSQ' (unit, GLO, None)\", 0.7661470104554844]]\n",
      "Processing flow: PE incineration no Energy Recovery - CONSQ in impact category: energy resources: non-renewable\n",
      "'PE incineration no Energy Recovery - CONSQ' (kilogram, CH, None) Calculation 100 of 2464, Score: -1.0024573469491194e-05 energy resources: non-renewable\n",
      "row : 11, col : 3 is assigned list : [[\"'PE incineration no Energy Recovery - CONSQ' (kilogram, CH, None)\", -1.0024573469491194e-05]]\n",
      "Processing flow: PP incineration no Energy Recovery - CONSQ in impact category: energy resources: non-renewable\n",
      "'PP incineration no Energy Recovery - CONSQ' (kilogram, CH, None) Calculation 101 of 2464, Score: -0.000647148683915032 energy resources: non-renewable\n",
      "row : 12, col : 3 is assigned list : [[\"'PP incineration no Energy Recovery - CONSQ' (kilogram, CH, None)\", -0.000647148683915032]]\n",
      "Processing flow: marginal heating grid projection updated - CONSQ in impact category: energy resources: non-renewable\n",
      "'marginal heating grid projection updated - CONSQ' (megajoule, GLO, None) Calculation 102 of 2464, Score: 1.228044584504299 energy resources: non-renewable\n",
      "row : 13, col : 3 is assigned list : [[\"'marginal heating grid projection updated - CONSQ' (megajoule, GLO, None)\", 1.228044584504299]]\n",
      "Processing flow: pp production - CONSQ in impact category: energy resources: non-renewable\n",
      "'market for textile, nonwoven polypropylene' (kilogram, GLO, None) Calculation 103 of 2464, Score: 7.106385218495163 energy resources: non-renewable\n",
      "row : 14, col : 3 is assigned list : [[\"'market for textile, nonwoven polypropylene' (kilogram, GLO, None)\", 7.106385218495163]]\n",
      "Processing flow: autoclave - CONSQ in impact category: energy resources: non-renewable\n",
      "'autoclave - CONSQ' (unit, GLO, None) Calculation 104 of 2464, Score: 0.2913566117958739 energy resources: non-renewable\n",
      "row : 15, col : 3 is assigned list : [[\"'autoclave - CONSQ' (unit, GLO, None)\", 0.2913566117958739]]\n",
      "Processing flow: transport Plastic - CONSQ in impact category: energy resources: non-renewable\n",
      "'transport Plastic - CONSQ' (unit, GLO, None) Calculation 105 of 2464, Score: 0.7661470104554844 energy resources: non-renewable\n",
      "row : 16, col : 3 is assigned list : [[\"'transport Plastic - CONSQ' (unit, GLO, None)\", 0.7661470104554844]]\n",
      "Processing flow: PE incineration no Energy Recovery - CONSQ in impact category: energy resources: non-renewable\n",
      "'PE incineration no Energy Recovery - CONSQ' (kilogram, CH, None) Calculation 106 of 2464, Score: -1.0024573469491194e-05 energy resources: non-renewable\n",
      "row : 17, col : 3 is assigned list : [[\"'PE incineration no Energy Recovery - CONSQ' (kilogram, CH, None)\", -1.0024573469491194e-05]]\n",
      "Processing flow: PP incineration no Energy Recovery - CONSQ in impact category: energy resources: non-renewable\n",
      "'PP incineration no Energy Recovery - CONSQ' (kilogram, CH, None) Calculation 107 of 2464, Score: -0.000647148683915032 energy resources: non-renewable\n",
      "row : 18, col : 3 is assigned list : [[\"'PP incineration no Energy Recovery - CONSQ' (kilogram, CH, None)\", -0.000647148683915032]]\n",
      "Processing flow: marginal heating grid projection updated - CONSQ in impact category: energy resources: non-renewable\n",
      "'marginal heating grid projection updated - CONSQ' (megajoule, GLO, None) Calculation 108 of 2464, Score: 1.228044584504299 energy resources: non-renewable\n",
      "row : 19, col : 3 is assigned list : [[\"'marginal heating grid projection updated - CONSQ' (megajoule, GLO, None)\", 1.228044584504299]]\n",
      "Processing flow: alubox raw materials - CONSQ in impact category: eutrophication: freshwater\n",
      "'market for aluminium, wrought alloy' (kilogram, GLO, None) Calculation 109 of 2464, Score: 4.856934066416561e-05 eutrophication: freshwater\n",
      "'steel production, chromium steel 18/8, hot rolled' (kilogram, RER, None) Calculation 110 of 2464, Score: 8.172464099968758e-06 eutrophication: freshwater\n",
      "row : 0, col : 4 is assigned list : [[\"'market for aluminium, wrought alloy' (kilogram, GLO, None)\", 4.856934066416561e-05], [\"'steel production, chromium steel 18/8, hot rolled' (kilogram, RER, None)\", 8.172464099968758e-06]]\n",
      "Processing flow: alubox production - CONSQ in impact category: eutrophication: freshwater\n",
      "'anodising, aluminium sheet' (square meter, RER, None) Calculation 111 of 2464, Score: 5.1105230776998154e-06 eutrophication: freshwater\n",
      "'impact extrusion of aluminium, 4 strokes' (kilogram, RER, None) Calculation 112 of 2464, Score: 3.2327340117960164e-06 eutrophication: freshwater\n",
      "'corrugated board box production' (kilogram, RER, None) Calculation 113 of 2464, Score: 2.3248915918354664e-06 eutrophication: freshwater\n",
      "'metal working, average for chromium steel product manufacturing' (kilogram, RER, None) Calculation 114 of 2464, Score: 2.22676528911853e-06 eutrophication: freshwater\n",
      "'polystyrene foam slab production' (kilogram, RER, None) Calculation 115 of 2464, Score: 0.0 eutrophication: freshwater\n",
      "'section bar extrusion, aluminium' (kilogram, RER, None) Calculation 116 of 2464, Score: 0.0 eutrophication: freshwater\n",
      "'sheet rolling, aluminium' (kilogram, RER, None) Calculation 117 of 2464, Score: 1.1004705453293223e-06 eutrophication: freshwater\n",
      "row : 1, col : 4 is assigned list : [[\"'anodising, aluminium sheet' (square meter, RER, None)\", 5.1105230776998154e-06], [\"'impact extrusion of aluminium, 4 strokes' (kilogram, RER, None)\", 3.2327340117960164e-06], [\"'corrugated board box production' (kilogram, RER, None)\", 2.3248915918354664e-06], [\"'metal working, average for chromium steel product manufacturing' (kilogram, RER, None)\", 2.22676528911853e-06], [\"'polystyrene foam slab production' (kilogram, RER, None)\", 0.0], [\"'section bar extrusion, aluminium' (kilogram, RER, None)\", 0.0], [\"'sheet rolling, aluminium' (kilogram, RER, None)\", 1.1004705453293223e-06]]\n",
      "Processing flow: autoclave - CONSQ in impact category: eutrophication: freshwater\n",
      "'autoclave - CONSQ' (unit, GLO, None) Calculation 118 of 2464, Score: 3.828963947682368e-06 eutrophication: freshwater\n",
      "row : 2, col : 4 is assigned list : [[\"'autoclave - CONSQ' (unit, GLO, None)\", 3.828963947682368e-06]]\n",
      "Processing flow: disinfection - CONSQ in impact category: eutrophication: freshwater\n",
      "'disinfection - CONSQ' (unit, GLO, None) Calculation 119 of 2464, Score: 3.953875639093553e-06 eutrophication: freshwater\n",
      "row : 3, col : 4 is assigned list : [[\"'disinfection - CONSQ' (unit, GLO, None)\", 3.953875639093553e-06]]\n",
      "Processing flow: Handwash - CONSQ in impact category: eutrophication: freshwater\n",
      "'Handwash - CONSQ' (unit, GLO, None) Calculation 120 of 2464, Score: 0.00018762709538521408 eutrophication: freshwater\n",
      "row : 4, col : 4 is assigned list : [[\"'Handwash - CONSQ' (unit, GLO, None)\", 0.00018762709538521408]]\n",
      "Processing flow: alubox EoL melting - CONSQ in impact category: eutrophication: freshwater\n",
      "'treatment of metal scrap, mixed, for recycling, unsorted, sorting' (kilogram, Europe without Switzerland, None) Calculation 121 of 2464, Score: -4.489880222542603e-05 eutrophication: freshwater\n",
      "row : 5, col : 4 is assigned list : [[\"'treatment of metal scrap, mixed, for recycling, unsorted, sorting' (kilogram, Europe without Switzerland, None)\", -4.489880222542603e-05]]\n",
      "Processing flow: alubox EoL mixed sorting - CONSQ in impact category: eutrophication: freshwater\n",
      "'treatment of metal scrap, mixed, for recycling, unsorted, sorting' (kilogram, Europe without Switzerland, None) Calculation 122 of 2464, Score: -2.9157591893690164e-06 eutrophication: freshwater\n",
      "row : 6, col : 4 is assigned list : [[\"'treatment of metal scrap, mixed, for recycling, unsorted, sorting' (kilogram, Europe without Switzerland, None)\", -2.9157591893690164e-06]]\n",
      "Processing flow: transport Alu - CONSQ in impact category: eutrophication: freshwater\n",
      "'transport Alu - CONSQ' (unit, GLO, None) Calculation 123 of 2464, Score: 2.1641692036306876e-07 eutrophication: freshwater\n",
      "row : 7, col : 4 is assigned list : [[\"'transport Alu - CONSQ' (unit, GLO, None)\", 2.1641692036306876e-07]]\n",
      "Processing flow: pp production - CONSQ in impact category: eutrophication: freshwater\n",
      "'market for textile, nonwoven polypropylene' (kilogram, GLO, None) Calculation 124 of 2464, Score: 4.644548497008786e-05 eutrophication: freshwater\n",
      "row : 8, col : 4 is assigned list : [[\"'market for textile, nonwoven polypropylene' (kilogram, GLO, None)\", 4.644548497008786e-05]]\n",
      "Processing flow: autoclave - CONSQ in impact category: eutrophication: freshwater\n",
      "'autoclave - CONSQ' (unit, GLO, None) Calculation 125 of 2464, Score: 3.828963947682368e-06 eutrophication: freshwater\n",
      "row : 9, col : 4 is assigned list : [[\"'autoclave - CONSQ' (unit, GLO, None)\", 3.828963947682368e-06]]\n",
      "Processing flow: transport Plastic - CONSQ in impact category: eutrophication: freshwater\n",
      "'transport Plastic - CONSQ' (unit, GLO, None) Calculation 126 of 2464, Score: 1.3662180517295428e-05 eutrophication: freshwater\n",
      "row : 10, col : 4 is assigned list : [[\"'transport Plastic - CONSQ' (unit, GLO, None)\", 1.3662180517295428e-05]]\n",
      "Processing flow: PE incineration no Energy Recovery - CONSQ in impact category: eutrophication: freshwater\n",
      "'PE incineration no Energy Recovery - CONSQ' (kilogram, CH, None) Calculation 127 of 2464, Score: -9.95053927459204e-11 eutrophication: freshwater\n",
      "row : 11, col : 4 is assigned list : [[\"'PE incineration no Energy Recovery - CONSQ' (kilogram, CH, None)\", -9.95053927459204e-11]]\n",
      "Processing flow: PP incineration no Energy Recovery - CONSQ in impact category: eutrophication: freshwater\n",
      "'PP incineration no Energy Recovery - CONSQ' (kilogram, CH, None) Calculation 128 of 2464, Score: -6.830591825649819e-09 eutrophication: freshwater\n",
      "row : 12, col : 4 is assigned list : [[\"'PP incineration no Energy Recovery - CONSQ' (kilogram, CH, None)\", -6.830591825649819e-09]]\n",
      "Processing flow: marginal heating grid projection updated - CONSQ in impact category: eutrophication: freshwater\n",
      "'marginal heating grid projection updated - CONSQ' (megajoule, GLO, None) Calculation 129 of 2464, Score: 1.486421037901967e-05 eutrophication: freshwater\n",
      "row : 13, col : 4 is assigned list : [[\"'marginal heating grid projection updated - CONSQ' (megajoule, GLO, None)\", 1.486421037901967e-05]]\n",
      "Processing flow: pp production - CONSQ in impact category: eutrophication: freshwater\n",
      "'market for textile, nonwoven polypropylene' (kilogram, GLO, None) Calculation 130 of 2464, Score: 4.644548497008786e-05 eutrophication: freshwater\n",
      "row : 14, col : 4 is assigned list : [[\"'market for textile, nonwoven polypropylene' (kilogram, GLO, None)\", 4.644548497008786e-05]]\n",
      "Processing flow: autoclave - CONSQ in impact category: eutrophication: freshwater\n",
      "'autoclave - CONSQ' (unit, GLO, None) Calculation 131 of 2464, Score: 3.828963947682368e-06 eutrophication: freshwater\n",
      "row : 15, col : 4 is assigned list : [[\"'autoclave - CONSQ' (unit, GLO, None)\", 3.828963947682368e-06]]\n",
      "Processing flow: transport Plastic - CONSQ in impact category: eutrophication: freshwater\n",
      "'transport Plastic - CONSQ' (unit, GLO, None) Calculation 132 of 2464, Score: 1.3662180517295428e-05 eutrophication: freshwater\n",
      "row : 16, col : 4 is assigned list : [[\"'transport Plastic - CONSQ' (unit, GLO, None)\", 1.3662180517295428e-05]]\n",
      "Processing flow: PE incineration no Energy Recovery - CONSQ in impact category: eutrophication: freshwater\n",
      "'PE incineration no Energy Recovery - CONSQ' (kilogram, CH, None) Calculation 133 of 2464, Score: -9.95053927459204e-11 eutrophication: freshwater\n",
      "row : 17, col : 4 is assigned list : [[\"'PE incineration no Energy Recovery - CONSQ' (kilogram, CH, None)\", -9.95053927459204e-11]]\n",
      "Processing flow: PP incineration no Energy Recovery - CONSQ in impact category: eutrophication: freshwater\n",
      "'PP incineration no Energy Recovery - CONSQ' (kilogram, CH, None) Calculation 134 of 2464, Score: -6.830591825649819e-09 eutrophication: freshwater\n",
      "row : 18, col : 4 is assigned list : [[\"'PP incineration no Energy Recovery - CONSQ' (kilogram, CH, None)\", -6.830591825649819e-09]]\n",
      "Processing flow: marginal heating grid projection updated - CONSQ in impact category: eutrophication: freshwater\n",
      "'marginal heating grid projection updated - CONSQ' (megajoule, GLO, None) Calculation 135 of 2464, Score: 1.486421037901967e-05 eutrophication: freshwater\n",
      "row : 19, col : 4 is assigned list : [[\"'marginal heating grid projection updated - CONSQ' (megajoule, GLO, None)\", 1.486421037901967e-05]]\n",
      "Processing flow: alubox raw materials - CONSQ in impact category: eutrophication: marine\n",
      "'market for aluminium, wrought alloy' (kilogram, GLO, None) Calculation 136 of 2464, Score: 0.00015463641439348577 eutrophication: marine\n",
      "'steel production, chromium steel 18/8, hot rolled' (kilogram, RER, None) Calculation 137 of 2464, Score: 9.24523996457518e-06 eutrophication: marine\n",
      "row : 0, col : 5 is assigned list : [[\"'market for aluminium, wrought alloy' (kilogram, GLO, None)\", 0.00015463641439348577], [\"'steel production, chromium steel 18/8, hot rolled' (kilogram, RER, None)\", 9.24523996457518e-06]]\n",
      "Processing flow: alubox production - CONSQ in impact category: eutrophication: marine\n",
      "'anodising, aluminium sheet' (square meter, RER, None) Calculation 138 of 2464, Score: 5.547221693164285e-06 eutrophication: marine\n",
      "'impact extrusion of aluminium, 4 strokes' (kilogram, RER, None) Calculation 139 of 2464, Score: 7.6120774845615485e-06 eutrophication: marine\n",
      "'corrugated board box production' (kilogram, RER, None) Calculation 140 of 2464, Score: 1.7703576876330165e-06 eutrophication: marine\n",
      "'metal working, average for chromium steel product manufacturing' (kilogram, RER, None) Calculation 141 of 2464, Score: 3.4121021302548923e-06 eutrophication: marine\n",
      "'polystyrene foam slab production' (kilogram, RER, None) Calculation 142 of 2464, Score: 0.0 eutrophication: marine\n",
      "'section bar extrusion, aluminium' (kilogram, RER, None) Calculation 143 of 2464, Score: 0.0 eutrophication: marine\n",
      "'sheet rolling, aluminium' (kilogram, RER, None) Calculation 144 of 2464, Score: 2.5711480735537377e-06 eutrophication: marine\n",
      "row : 1, col : 5 is assigned list : [[\"'anodising, aluminium sheet' (square meter, RER, None)\", 5.547221693164285e-06], [\"'impact extrusion of aluminium, 4 strokes' (kilogram, RER, None)\", 7.6120774845615485e-06], [\"'corrugated board box production' (kilogram, RER, None)\", 1.7703576876330165e-06], [\"'metal working, average for chromium steel product manufacturing' (kilogram, RER, None)\", 3.4121021302548923e-06], [\"'polystyrene foam slab production' (kilogram, RER, None)\", 0.0], [\"'section bar extrusion, aluminium' (kilogram, RER, None)\", 0.0], [\"'sheet rolling, aluminium' (kilogram, RER, None)\", 2.5711480735537377e-06]]\n",
      "Processing flow: autoclave - CONSQ in impact category: eutrophication: marine\n",
      "'autoclave - CONSQ' (unit, GLO, None) Calculation 145 of 2464, Score: 5.9093755551770486e-05 eutrophication: marine\n",
      "row : 2, col : 5 is assigned list : [[\"'autoclave - CONSQ' (unit, GLO, None)\", 5.9093755551770486e-05]]\n",
      "Processing flow: disinfection - CONSQ in impact category: eutrophication: marine\n",
      "'disinfection - CONSQ' (unit, GLO, None) Calculation 146 of 2464, Score: 4.929583831575528e-05 eutrophication: marine\n",
      "row : 3, col : 5 is assigned list : [[\"'disinfection - CONSQ' (unit, GLO, None)\", 4.929583831575528e-05]]\n",
      "Processing flow: Handwash - CONSQ in impact category: eutrophication: marine\n",
      "'Handwash - CONSQ' (unit, GLO, None) Calculation 147 of 2464, Score: 0.0003436229861670134 eutrophication: marine\n",
      "row : 4, col : 5 is assigned list : [[\"'Handwash - CONSQ' (unit, GLO, None)\", 0.0003436229861670134]]\n",
      "Processing flow: alubox EoL melting - CONSQ in impact category: eutrophication: marine\n",
      "'treatment of metal scrap, mixed, for recycling, unsorted, sorting' (kilogram, Europe without Switzerland, None) Calculation 148 of 2464, Score: -0.00014203711352531837 eutrophication: marine\n",
      "row : 5, col : 5 is assigned list : [[\"'treatment of metal scrap, mixed, for recycling, unsorted, sorting' (kilogram, Europe without Switzerland, None)\", -0.00014203711352531837]]\n",
      "Processing flow: alubox EoL mixed sorting - CONSQ in impact category: eutrophication: marine\n",
      "'treatment of metal scrap, mixed, for recycling, unsorted, sorting' (kilogram, Europe without Switzerland, None) Calculation 149 of 2464, Score: -3.0732239365812286e-06 eutrophication: marine\n",
      "row : 6, col : 5 is assigned list : [[\"'treatment of metal scrap, mixed, for recycling, unsorted, sorting' (kilogram, Europe without Switzerland, None)\", -3.0732239365812286e-06]]\n",
      "Processing flow: transport Alu - CONSQ in impact category: eutrophication: marine\n",
      "'transport Alu - CONSQ' (unit, GLO, None) Calculation 150 of 2464, Score: 1.3826016473134355e-06 eutrophication: marine\n",
      "row : 7, col : 5 is assigned list : [[\"'transport Alu - CONSQ' (unit, GLO, None)\", 1.3826016473134355e-06]]\n",
      "Processing flow: pp production - CONSQ in impact category: eutrophication: marine\n",
      "'market for textile, nonwoven polypropylene' (kilogram, GLO, None) Calculation 151 of 2464, Score: 0.00020091256967261087 eutrophication: marine\n",
      "row : 8, col : 5 is assigned list : [[\"'market for textile, nonwoven polypropylene' (kilogram, GLO, None)\", 0.00020091256967261087]]\n",
      "Processing flow: autoclave - CONSQ in impact category: eutrophication: marine\n",
      "'autoclave - CONSQ' (unit, GLO, None) Calculation 152 of 2464, Score: 5.9093755551770486e-05 eutrophication: marine\n",
      "row : 9, col : 5 is assigned list : [[\"'autoclave - CONSQ' (unit, GLO, None)\", 5.9093755551770486e-05]]\n",
      "Processing flow: transport Plastic - CONSQ in impact category: eutrophication: marine\n",
      "'transport Plastic - CONSQ' (unit, GLO, None) Calculation 153 of 2464, Score: 0.0002401220652228008 eutrophication: marine\n",
      "row : 10, col : 5 is assigned list : [[\"'transport Plastic - CONSQ' (unit, GLO, None)\", 0.0002401220652228008]]\n",
      "Processing flow: PE incineration no Energy Recovery - CONSQ in impact category: eutrophication: marine\n",
      "'PE incineration no Energy Recovery - CONSQ' (kilogram, CH, None) Calculation 154 of 2464, Score: -4.322949542988676e-09 eutrophication: marine\n",
      "row : 11, col : 5 is assigned list : [[\"'PE incineration no Energy Recovery - CONSQ' (kilogram, CH, None)\", -4.322949542988676e-09]]\n",
      "Processing flow: PP incineration no Energy Recovery - CONSQ in impact category: eutrophication: marine\n",
      "'PP incineration no Energy Recovery - CONSQ' (kilogram, CH, None) Calculation 155 of 2464, Score: -2.7470409199565436e-07 eutrophication: marine\n",
      "row : 12, col : 5 is assigned list : [[\"'PP incineration no Energy Recovery - CONSQ' (kilogram, CH, None)\", -2.7470409199565436e-07]]\n",
      "Processing flow: marginal heating grid projection updated - CONSQ in impact category: eutrophication: marine\n",
      "'marginal heating grid projection updated - CONSQ' (megajoule, GLO, None) Calculation 156 of 2464, Score: 7.141649748519873e-05 eutrophication: marine\n",
      "row : 13, col : 5 is assigned list : [[\"'marginal heating grid projection updated - CONSQ' (megajoule, GLO, None)\", 7.141649748519873e-05]]\n",
      "Processing flow: pp production - CONSQ in impact category: eutrophication: marine\n",
      "'market for textile, nonwoven polypropylene' (kilogram, GLO, None) Calculation 157 of 2464, Score: 0.00020091256967261087 eutrophication: marine\n",
      "row : 14, col : 5 is assigned list : [[\"'market for textile, nonwoven polypropylene' (kilogram, GLO, None)\", 0.00020091256967261087]]\n",
      "Processing flow: autoclave - CONSQ in impact category: eutrophication: marine\n",
      "'autoclave - CONSQ' (unit, GLO, None) Calculation 158 of 2464, Score: 5.9093755551770486e-05 eutrophication: marine\n",
      "row : 15, col : 5 is assigned list : [[\"'autoclave - CONSQ' (unit, GLO, None)\", 5.9093755551770486e-05]]\n",
      "Processing flow: transport Plastic - CONSQ in impact category: eutrophication: marine\n",
      "'transport Plastic - CONSQ' (unit, GLO, None) Calculation 159 of 2464, Score: 0.0002401220652228008 eutrophication: marine\n",
      "row : 16, col : 5 is assigned list : [[\"'transport Plastic - CONSQ' (unit, GLO, None)\", 0.0002401220652228008]]\n",
      "Processing flow: PE incineration no Energy Recovery - CONSQ in impact category: eutrophication: marine\n",
      "'PE incineration no Energy Recovery - CONSQ' (kilogram, CH, None) Calculation 160 of 2464, Score: -4.322949542988676e-09 eutrophication: marine\n",
      "row : 17, col : 5 is assigned list : [[\"'PE incineration no Energy Recovery - CONSQ' (kilogram, CH, None)\", -4.322949542988676e-09]]\n",
      "Processing flow: PP incineration no Energy Recovery - CONSQ in impact category: eutrophication: marine\n",
      "'PP incineration no Energy Recovery - CONSQ' (kilogram, CH, None) Calculation 161 of 2464, Score: -2.7470409199565436e-07 eutrophication: marine\n",
      "row : 18, col : 5 is assigned list : [[\"'PP incineration no Energy Recovery - CONSQ' (kilogram, CH, None)\", -2.7470409199565436e-07]]\n",
      "Processing flow: marginal heating grid projection updated - CONSQ in impact category: eutrophication: marine\n",
      "'marginal heating grid projection updated - CONSQ' (megajoule, GLO, None) Calculation 162 of 2464, Score: 7.141649748519873e-05 eutrophication: marine\n",
      "row : 19, col : 5 is assigned list : [[\"'marginal heating grid projection updated - CONSQ' (megajoule, GLO, None)\", 7.141649748519873e-05]]\n",
      "Processing flow: alubox raw materials - CONSQ in impact category: eutrophication: terrestrial\n",
      "'market for aluminium, wrought alloy' (kilogram, GLO, None) Calculation 163 of 2464, Score: 0.001638164303058975 eutrophication: terrestrial\n",
      "'steel production, chromium steel 18/8, hot rolled' (kilogram, RER, None) Calculation 164 of 2464, Score: 9.872745542088214e-05 eutrophication: terrestrial\n",
      "row : 0, col : 6 is assigned list : [[\"'market for aluminium, wrought alloy' (kilogram, GLO, None)\", 0.001638164303058975], [\"'steel production, chromium steel 18/8, hot rolled' (kilogram, RER, None)\", 9.872745542088214e-05]]\n",
      "Processing flow: alubox production - CONSQ in impact category: eutrophication: terrestrial\n",
      "'anodising, aluminium sheet' (square meter, RER, None) Calculation 165 of 2464, Score: 5.4050455586399036e-05 eutrophication: terrestrial\n",
      "'impact extrusion of aluminium, 4 strokes' (kilogram, RER, None) Calculation 166 of 2464, Score: 5.863751657197156e-05 eutrophication: terrestrial\n",
      "'corrugated board box production' (kilogram, RER, None) Calculation 167 of 2464, Score: 1.627872984575723e-05 eutrophication: terrestrial\n",
      "'metal working, average for chromium steel product manufacturing' (kilogram, RER, None) Calculation 168 of 2464, Score: 3.228215606040826e-05 eutrophication: terrestrial\n",
      "'polystyrene foam slab production' (kilogram, RER, None) Calculation 169 of 2464, Score: 0.0 eutrophication: terrestrial\n",
      "'section bar extrusion, aluminium' (kilogram, RER, None) Calculation 170 of 2464, Score: 0.0 eutrophication: terrestrial\n",
      "'sheet rolling, aluminium' (kilogram, RER, None) Calculation 171 of 2464, Score: 2.443200520800172e-05 eutrophication: terrestrial\n",
      "row : 1, col : 6 is assigned list : [[\"'anodising, aluminium sheet' (square meter, RER, None)\", 5.4050455586399036e-05], [\"'impact extrusion of aluminium, 4 strokes' (kilogram, RER, None)\", 5.863751657197156e-05], [\"'corrugated board box production' (kilogram, RER, None)\", 1.627872984575723e-05], [\"'metal working, average for chromium steel product manufacturing' (kilogram, RER, None)\", 3.228215606040826e-05], [\"'polystyrene foam slab production' (kilogram, RER, None)\", 0.0], [\"'section bar extrusion, aluminium' (kilogram, RER, None)\", 0.0], [\"'sheet rolling, aluminium' (kilogram, RER, None)\", 2.443200520800172e-05]]\n",
      "Processing flow: autoclave - CONSQ in impact category: eutrophication: terrestrial\n",
      "'autoclave - CONSQ' (unit, GLO, None) Calculation 172 of 2464, Score: 0.0006919826658879534 eutrophication: terrestrial\n",
      "row : 2, col : 6 is assigned list : [[\"'autoclave - CONSQ' (unit, GLO, None)\", 0.0006919826658879534]]\n",
      "Processing flow: disinfection - CONSQ in impact category: eutrophication: terrestrial\n",
      "'disinfection - CONSQ' (unit, GLO, None) Calculation 173 of 2464, Score: 0.0006560125774749478 eutrophication: terrestrial\n",
      "row : 3, col : 6 is assigned list : [[\"'disinfection - CONSQ' (unit, GLO, None)\", 0.0006560125774749478]]\n",
      "Processing flow: Handwash - CONSQ in impact category: eutrophication: terrestrial\n",
      "'Handwash - CONSQ' (unit, GLO, None) Calculation 174 of 2464, Score: 0.00047487836259920807 eutrophication: terrestrial\n",
      "row : 4, col : 6 is assigned list : [[\"'Handwash - CONSQ' (unit, GLO, None)\", 0.00047487836259920807]]\n",
      "Processing flow: alubox EoL melting - CONSQ in impact category: eutrophication: terrestrial\n",
      "'treatment of metal scrap, mixed, for recycling, unsorted, sorting' (kilogram, Europe without Switzerland, None) Calculation 175 of 2464, Score: -0.0014965946519927967 eutrophication: terrestrial\n",
      "row : 5, col : 6 is assigned list : [[\"'treatment of metal scrap, mixed, for recycling, unsorted, sorting' (kilogram, Europe without Switzerland, None)\", -0.0014965946519927967]]\n",
      "Processing flow: alubox EoL mixed sorting - CONSQ in impact category: eutrophication: terrestrial\n",
      "'treatment of metal scrap, mixed, for recycling, unsorted, sorting' (kilogram, Europe without Switzerland, None) Calculation 176 of 2464, Score: -3.0447074440056558e-05 eutrophication: terrestrial\n",
      "row : 6, col : 6 is assigned list : [[\"'treatment of metal scrap, mixed, for recycling, unsorted, sorting' (kilogram, Europe without Switzerland, None)\", -3.0447074440056558e-05]]\n",
      "Processing flow: transport Alu - CONSQ in impact category: eutrophication: terrestrial\n",
      "'transport Alu - CONSQ' (unit, GLO, None) Calculation 177 of 2464, Score: 1.4256163138019514e-05 eutrophication: terrestrial\n",
      "row : 7, col : 6 is assigned list : [[\"'transport Alu - CONSQ' (unit, GLO, None)\", 1.4256163138019514e-05]]\n",
      "Processing flow: pp production - CONSQ in impact category: eutrophication: terrestrial\n",
      "'market for textile, nonwoven polypropylene' (kilogram, GLO, None) Calculation 178 of 2464, Score: 0.002168348652025621 eutrophication: terrestrial\n",
      "row : 8, col : 6 is assigned list : [[\"'market for textile, nonwoven polypropylene' (kilogram, GLO, None)\", 0.002168348652025621]]\n",
      "Processing flow: autoclave - CONSQ in impact category: eutrophication: terrestrial\n",
      "'autoclave - CONSQ' (unit, GLO, None) Calculation 179 of 2464, Score: 0.0006919826658879534 eutrophication: terrestrial\n",
      "row : 9, col : 6 is assigned list : [[\"'autoclave - CONSQ' (unit, GLO, None)\", 0.0006919826658879534]]\n",
      "Processing flow: transport Plastic - CONSQ in impact category: eutrophication: terrestrial\n",
      "'transport Plastic - CONSQ' (unit, GLO, None) Calculation 180 of 2464, Score: 0.00260272582979734 eutrophication: terrestrial\n",
      "row : 10, col : 6 is assigned list : [[\"'transport Plastic - CONSQ' (unit, GLO, None)\", 0.00260272582979734]]\n",
      "Processing flow: PE incineration no Energy Recovery - CONSQ in impact category: eutrophication: terrestrial\n",
      "'PE incineration no Energy Recovery - CONSQ' (kilogram, CH, None) Calculation 181 of 2464, Score: -4.4134656003792915e-08 eutrophication: terrestrial\n",
      "row : 11, col : 6 is assigned list : [[\"'PE incineration no Energy Recovery - CONSQ' (kilogram, CH, None)\", -4.4134656003792915e-08]]\n",
      "Processing flow: PP incineration no Energy Recovery - CONSQ in impact category: eutrophication: terrestrial\n",
      "'PP incineration no Energy Recovery - CONSQ' (kilogram, CH, None) Calculation 182 of 2464, Score: -2.8048763901780393e-06 eutrophication: terrestrial\n",
      "row : 12, col : 6 is assigned list : [[\"'PP incineration no Energy Recovery - CONSQ' (kilogram, CH, None)\", -2.8048763901780393e-06]]\n",
      "Processing flow: marginal heating grid projection updated - CONSQ in impact category: eutrophication: terrestrial\n",
      "'marginal heating grid projection updated - CONSQ' (megajoule, GLO, None) Calculation 183 of 2464, Score: 0.0007860358144697184 eutrophication: terrestrial\n",
      "row : 13, col : 6 is assigned list : [[\"'marginal heating grid projection updated - CONSQ' (megajoule, GLO, None)\", 0.0007860358144697184]]\n",
      "Processing flow: pp production - CONSQ in impact category: eutrophication: terrestrial\n",
      "'market for textile, nonwoven polypropylene' (kilogram, GLO, None) Calculation 184 of 2464, Score: 0.002168348652025621 eutrophication: terrestrial\n",
      "row : 14, col : 6 is assigned list : [[\"'market for textile, nonwoven polypropylene' (kilogram, GLO, None)\", 0.002168348652025621]]\n",
      "Processing flow: autoclave - CONSQ in impact category: eutrophication: terrestrial\n",
      "'autoclave - CONSQ' (unit, GLO, None) Calculation 185 of 2464, Score: 0.0006919826658879534 eutrophication: terrestrial\n",
      "row : 15, col : 6 is assigned list : [[\"'autoclave - CONSQ' (unit, GLO, None)\", 0.0006919826658879534]]\n",
      "Processing flow: transport Plastic - CONSQ in impact category: eutrophication: terrestrial\n",
      "'transport Plastic - CONSQ' (unit, GLO, None) Calculation 186 of 2464, Score: 0.00260272582979734 eutrophication: terrestrial\n",
      "row : 16, col : 6 is assigned list : [[\"'transport Plastic - CONSQ' (unit, GLO, None)\", 0.00260272582979734]]\n",
      "Processing flow: PE incineration no Energy Recovery - CONSQ in impact category: eutrophication: terrestrial\n",
      "'PE incineration no Energy Recovery - CONSQ' (kilogram, CH, None) Calculation 187 of 2464, Score: -4.4134656003792915e-08 eutrophication: terrestrial\n",
      "row : 17, col : 6 is assigned list : [[\"'PE incineration no Energy Recovery - CONSQ' (kilogram, CH, None)\", -4.4134656003792915e-08]]\n",
      "Processing flow: PP incineration no Energy Recovery - CONSQ in impact category: eutrophication: terrestrial\n",
      "'PP incineration no Energy Recovery - CONSQ' (kilogram, CH, None) Calculation 188 of 2464, Score: -2.8048763901780393e-06 eutrophication: terrestrial\n",
      "row : 18, col : 6 is assigned list : [[\"'PP incineration no Energy Recovery - CONSQ' (kilogram, CH, None)\", -2.8048763901780393e-06]]\n",
      "Processing flow: marginal heating grid projection updated - CONSQ in impact category: eutrophication: terrestrial\n",
      "'marginal heating grid projection updated - CONSQ' (megajoule, GLO, None) Calculation 189 of 2464, Score: 0.0007860358144697184 eutrophication: terrestrial\n",
      "row : 19, col : 6 is assigned list : [[\"'marginal heating grid projection updated - CONSQ' (megajoule, GLO, None)\", 0.0007860358144697184]]\n",
      "Processing flow: alubox raw materials - CONSQ in impact category: human toxicity: carcinogenic\n",
      "'market for aluminium, wrought alloy' (kilogram, GLO, None) Calculation 190 of 2464, Score: 2.941974585495738e-10 human toxicity: carcinogenic\n",
      "'steel production, chromium steel 18/8, hot rolled' (kilogram, RER, None) Calculation 191 of 2464, Score: 1.6608486851143448e-10 human toxicity: carcinogenic\n",
      "row : 0, col : 7 is assigned list : [[\"'market for aluminium, wrought alloy' (kilogram, GLO, None)\", 2.941974585495738e-10], [\"'steel production, chromium steel 18/8, hot rolled' (kilogram, RER, None)\", 1.6608486851143448e-10]]\n",
      "Processing flow: alubox production - CONSQ in impact category: human toxicity: carcinogenic\n",
      "'anodising, aluminium sheet' (square meter, RER, None) Calculation 192 of 2464, Score: 5.181503481455409e-12 human toxicity: carcinogenic\n",
      "'impact extrusion of aluminium, 4 strokes' (kilogram, RER, None) Calculation 193 of 2464, Score: 5.583231485315288e-12 human toxicity: carcinogenic\n",
      "'corrugated board box production' (kilogram, RER, None) Calculation 194 of 2464, Score: 3.966903177879658e-13 human toxicity: carcinogenic\n",
      "'metal working, average for chromium steel product manufacturing' (kilogram, RER, None) Calculation 195 of 2464, Score: 3.872043152533283e-11 human toxicity: carcinogenic\n",
      "'polystyrene foam slab production' (kilogram, RER, None) Calculation 196 of 2464, Score: 0.0 human toxicity: carcinogenic\n",
      "'section bar extrusion, aluminium' (kilogram, RER, None) Calculation 197 of 2464, Score: 0.0 human toxicity: carcinogenic\n",
      "'sheet rolling, aluminium' (kilogram, RER, None) Calculation 198 of 2464, Score: 3.2167567316586305e-12 human toxicity: carcinogenic\n",
      "row : 1, col : 7 is assigned list : [[\"'anodising, aluminium sheet' (square meter, RER, None)\", 5.181503481455409e-12], [\"'impact extrusion of aluminium, 4 strokes' (kilogram, RER, None)\", 5.583231485315288e-12], [\"'corrugated board box production' (kilogram, RER, None)\", 3.966903177879658e-13], [\"'metal working, average for chromium steel product manufacturing' (kilogram, RER, None)\", 3.872043152533283e-11], [\"'polystyrene foam slab production' (kilogram, RER, None)\", 0.0], [\"'section bar extrusion, aluminium' (kilogram, RER, None)\", 0.0], [\"'sheet rolling, aluminium' (kilogram, RER, None)\", 3.2167567316586305e-12]]\n",
      "Processing flow: autoclave - CONSQ in impact category: human toxicity: carcinogenic\n",
      "'autoclave - CONSQ' (unit, GLO, None) Calculation 199 of 2464, Score: 4.673865718670604e-11 human toxicity: carcinogenic\n",
      "row : 2, col : 7 is assigned list : [[\"'autoclave - CONSQ' (unit, GLO, None)\", 4.673865718670604e-11]]\n",
      "Processing flow: disinfection - CONSQ in impact category: human toxicity: carcinogenic\n",
      "'disinfection - CONSQ' (unit, GLO, None) Calculation 200 of 2464, Score: 4.0455198314712815e-11 human toxicity: carcinogenic\n",
      "row : 3, col : 7 is assigned list : [[\"'disinfection - CONSQ' (unit, GLO, None)\", 4.0455198314712815e-11]]\n",
      "Processing flow: Handwash - CONSQ in impact category: human toxicity: carcinogenic\n",
      "'Handwash - CONSQ' (unit, GLO, None) Calculation 201 of 2464, Score: 4.322849503680417e-11 human toxicity: carcinogenic\n",
      "row : 4, col : 7 is assigned list : [[\"'Handwash - CONSQ' (unit, GLO, None)\", 4.322849503680417e-11]]\n",
      "Processing flow: alubox EoL melting - CONSQ in impact category: human toxicity: carcinogenic\n",
      "'treatment of metal scrap, mixed, for recycling, unsorted, sorting' (kilogram, Europe without Switzerland, None) Calculation 202 of 2464, Score: -2.6383709604842e-10 human toxicity: carcinogenic\n",
      "row : 5, col : 7 is assigned list : [[\"'treatment of metal scrap, mixed, for recycling, unsorted, sorting' (kilogram, Europe without Switzerland, None)\", -2.6383709604842e-10]]\n",
      "Processing flow: alubox EoL mixed sorting - CONSQ in impact category: human toxicity: carcinogenic\n",
      "'treatment of metal scrap, mixed, for recycling, unsorted, sorting' (kilogram, Europe without Switzerland, None) Calculation 203 of 2464, Score: 1.3454077519065457e-11 human toxicity: carcinogenic\n",
      "row : 6, col : 7 is assigned list : [[\"'treatment of metal scrap, mixed, for recycling, unsorted, sorting' (kilogram, Europe without Switzerland, None)\", 1.3454077519065457e-11]]\n",
      "Processing flow: transport Alu - CONSQ in impact category: human toxicity: carcinogenic\n",
      "'transport Alu - CONSQ' (unit, GLO, None) Calculation 204 of 2464, Score: 1.1754579073721845e-12 human toxicity: carcinogenic\n",
      "row : 7, col : 7 is assigned list : [[\"'transport Alu - CONSQ' (unit, GLO, None)\", 1.1754579073721845e-12]]\n",
      "Processing flow: pp production - CONSQ in impact category: human toxicity: carcinogenic\n",
      "'market for textile, nonwoven polypropylene' (kilogram, GLO, None) Calculation 205 of 2464, Score: 8.509115609852164e-11 human toxicity: carcinogenic\n",
      "row : 8, col : 7 is assigned list : [[\"'market for textile, nonwoven polypropylene' (kilogram, GLO, None)\", 8.509115609852164e-11]]\n",
      "Processing flow: autoclave - CONSQ in impact category: human toxicity: carcinogenic\n",
      "'autoclave - CONSQ' (unit, GLO, None) Calculation 206 of 2464, Score: 4.673865718670604e-11 human toxicity: carcinogenic\n",
      "row : 9, col : 7 is assigned list : [[\"'autoclave - CONSQ' (unit, GLO, None)\", 4.673865718670604e-11]]\n",
      "Processing flow: transport Plastic - CONSQ in impact category: human toxicity: carcinogenic\n",
      "'transport Plastic - CONSQ' (unit, GLO, None) Calculation 207 of 2464, Score: 5.3489867490061055e-11 human toxicity: carcinogenic\n",
      "row : 10, col : 7 is assigned list : [[\"'transport Plastic - CONSQ' (unit, GLO, None)\", 5.3489867490061055e-11]]\n",
      "Processing flow: PE incineration no Energy Recovery - CONSQ in impact category: human toxicity: carcinogenic\n",
      "'PE incineration no Energy Recovery - CONSQ' (kilogram, CH, None) Calculation 208 of 2464, Score: -1.5057141297984662e-15 human toxicity: carcinogenic\n",
      "row : 11, col : 7 is assigned list : [[\"'PE incineration no Energy Recovery - CONSQ' (kilogram, CH, None)\", -1.5057141297984662e-15]]\n",
      "Processing flow: PP incineration no Energy Recovery - CONSQ in impact category: human toxicity: carcinogenic\n",
      "'PP incineration no Energy Recovery - CONSQ' (kilogram, CH, None) Calculation 209 of 2464, Score: -1.0067716114788226e-13 human toxicity: carcinogenic\n",
      "row : 12, col : 7 is assigned list : [[\"'PP incineration no Energy Recovery - CONSQ' (kilogram, CH, None)\", -1.0067716114788226e-13]]\n",
      "Processing flow: marginal heating grid projection updated - CONSQ in impact category: human toxicity: carcinogenic\n",
      "'marginal heating grid projection updated - CONSQ' (megajoule, GLO, None) Calculation 210 of 2464, Score: 6.073230618757193e-11 human toxicity: carcinogenic\n",
      "row : 13, col : 7 is assigned list : [[\"'marginal heating grid projection updated - CONSQ' (megajoule, GLO, None)\", 6.073230618757193e-11]]\n",
      "Processing flow: pp production - CONSQ in impact category: human toxicity: carcinogenic\n",
      "'market for textile, nonwoven polypropylene' (kilogram, GLO, None) Calculation 211 of 2464, Score: 8.509115609852164e-11 human toxicity: carcinogenic\n",
      "row : 14, col : 7 is assigned list : [[\"'market for textile, nonwoven polypropylene' (kilogram, GLO, None)\", 8.509115609852164e-11]]\n",
      "Processing flow: autoclave - CONSQ in impact category: human toxicity: carcinogenic\n",
      "'autoclave - CONSQ' (unit, GLO, None) Calculation 212 of 2464, Score: 4.673865718670604e-11 human toxicity: carcinogenic\n",
      "row : 15, col : 7 is assigned list : [[\"'autoclave - CONSQ' (unit, GLO, None)\", 4.673865718670604e-11]]\n",
      "Processing flow: transport Plastic - CONSQ in impact category: human toxicity: carcinogenic\n",
      "'transport Plastic - CONSQ' (unit, GLO, None) Calculation 213 of 2464, Score: 5.3489867490061055e-11 human toxicity: carcinogenic\n",
      "row : 16, col : 7 is assigned list : [[\"'transport Plastic - CONSQ' (unit, GLO, None)\", 5.3489867490061055e-11]]\n",
      "Processing flow: PE incineration no Energy Recovery - CONSQ in impact category: human toxicity: carcinogenic\n",
      "'PE incineration no Energy Recovery - CONSQ' (kilogram, CH, None) Calculation 214 of 2464, Score: -1.5057141297984662e-15 human toxicity: carcinogenic\n",
      "row : 17, col : 7 is assigned list : [[\"'PE incineration no Energy Recovery - CONSQ' (kilogram, CH, None)\", -1.5057141297984662e-15]]\n",
      "Processing flow: PP incineration no Energy Recovery - CONSQ in impact category: human toxicity: carcinogenic\n",
      "'PP incineration no Energy Recovery - CONSQ' (kilogram, CH, None) Calculation 215 of 2464, Score: -1.0067716114788226e-13 human toxicity: carcinogenic\n",
      "row : 18, col : 7 is assigned list : [[\"'PP incineration no Energy Recovery - CONSQ' (kilogram, CH, None)\", -1.0067716114788226e-13]]\n",
      "Processing flow: marginal heating grid projection updated - CONSQ in impact category: human toxicity: carcinogenic\n",
      "'marginal heating grid projection updated - CONSQ' (megajoule, GLO, None) Calculation 216 of 2464, Score: 6.073230618757193e-11 human toxicity: carcinogenic\n",
      "row : 19, col : 7 is assigned list : [[\"'marginal heating grid projection updated - CONSQ' (megajoule, GLO, None)\", 6.073230618757193e-11]]\n",
      "Processing flow: alubox raw materials - CONSQ in impact category: human toxicity: non-carcinogenic\n",
      "'market for aluminium, wrought alloy' (kilogram, GLO, None) Calculation 217 of 2464, Score: 2.662673863258965e-09 human toxicity: non-carcinogenic\n",
      "'steel production, chromium steel 18/8, hot rolled' (kilogram, RER, None) Calculation 218 of 2464, Score: 1.240891474756034e-10 human toxicity: non-carcinogenic\n",
      "row : 0, col : 8 is assigned list : [[\"'market for aluminium, wrought alloy' (kilogram, GLO, None)\", 2.662673863258965e-09], [\"'steel production, chromium steel 18/8, hot rolled' (kilogram, RER, None)\", 1.240891474756034e-10]]\n",
      "Processing flow: alubox production - CONSQ in impact category: human toxicity: non-carcinogenic\n",
      "'anodising, aluminium sheet' (square meter, RER, None) Calculation 219 of 2464, Score: 9.016760668871102e-11 human toxicity: non-carcinogenic\n",
      "'impact extrusion of aluminium, 4 strokes' (kilogram, RER, None) Calculation 220 of 2464, Score: 1.1516074781578601e-10 human toxicity: non-carcinogenic\n",
      "'corrugated board box production' (kilogram, RER, None) Calculation 221 of 2464, Score: 1.3417321935079637e-11 human toxicity: non-carcinogenic\n",
      "'metal working, average for chromium steel product manufacturing' (kilogram, RER, None) Calculation 222 of 2464, Score: 4.3646505782186166e-11 human toxicity: non-carcinogenic\n",
      "'polystyrene foam slab production' (kilogram, RER, None) Calculation 223 of 2464, Score: 0.0 human toxicity: non-carcinogenic\n",
      "'section bar extrusion, aluminium' (kilogram, RER, None) Calculation 224 of 2464, Score: 0.0 human toxicity: non-carcinogenic\n",
      "'sheet rolling, aluminium' (kilogram, RER, None) Calculation 225 of 2464, Score: 2.822784508610481e-11 human toxicity: non-carcinogenic\n",
      "row : 1, col : 8 is assigned list : [[\"'anodising, aluminium sheet' (square meter, RER, None)\", 9.016760668871102e-11], [\"'impact extrusion of aluminium, 4 strokes' (kilogram, RER, None)\", 1.1516074781578601e-10], [\"'corrugated board box production' (kilogram, RER, None)\", 1.3417321935079637e-11], [\"'metal working, average for chromium steel product manufacturing' (kilogram, RER, None)\", 4.3646505782186166e-11], [\"'polystyrene foam slab production' (kilogram, RER, None)\", 0.0], [\"'section bar extrusion, aluminium' (kilogram, RER, None)\", 0.0], [\"'sheet rolling, aluminium' (kilogram, RER, None)\", 2.822784508610481e-11]]\n",
      "Processing flow: autoclave - CONSQ in impact category: human toxicity: non-carcinogenic\n",
      "'autoclave - CONSQ' (unit, GLO, None) Calculation 226 of 2464, Score: 9.018064033608604e-10 human toxicity: non-carcinogenic\n",
      "row : 2, col : 8 is assigned list : [[\"'autoclave - CONSQ' (unit, GLO, None)\", 9.018064033608604e-10]]\n",
      "Processing flow: disinfection - CONSQ in impact category: human toxicity: non-carcinogenic\n",
      "'disinfection - CONSQ' (unit, GLO, None) Calculation 227 of 2464, Score: 8.28910417171557e-10 human toxicity: non-carcinogenic\n",
      "row : 3, col : 8 is assigned list : [[\"'disinfection - CONSQ' (unit, GLO, None)\", 8.28910417171557e-10]]\n",
      "Processing flow: Handwash - CONSQ in impact category: human toxicity: non-carcinogenic\n",
      "'Handwash - CONSQ' (unit, GLO, None) Calculation 228 of 2464, Score: 1.3069723084130544e-09 human toxicity: non-carcinogenic\n",
      "row : 4, col : 8 is assigned list : [[\"'Handwash - CONSQ' (unit, GLO, None)\", 1.3069723084130544e-09]]\n",
      "Processing flow: alubox EoL melting - CONSQ in impact category: human toxicity: non-carcinogenic\n",
      "'treatment of metal scrap, mixed, for recycling, unsorted, sorting' (kilogram, Europe without Switzerland, None) Calculation 229 of 2464, Score: -2.0290939806674318e-09 human toxicity: non-carcinogenic\n",
      "row : 5, col : 8 is assigned list : [[\"'treatment of metal scrap, mixed, for recycling, unsorted, sorting' (kilogram, Europe without Switzerland, None)\", -2.0290939806674318e-09]]\n",
      "Processing flow: alubox EoL mixed sorting - CONSQ in impact category: human toxicity: non-carcinogenic\n",
      "'treatment of metal scrap, mixed, for recycling, unsorted, sorting' (kilogram, Europe without Switzerland, None) Calculation 230 of 2464, Score: -1.4327770306764847e-11 human toxicity: non-carcinogenic\n",
      "row : 6, col : 8 is assigned list : [[\"'treatment of metal scrap, mixed, for recycling, unsorted, sorting' (kilogram, Europe without Switzerland, None)\", -1.4327770306764847e-11]]\n",
      "Processing flow: transport Alu - CONSQ in impact category: human toxicity: non-carcinogenic\n",
      "'transport Alu - CONSQ' (unit, GLO, None) Calculation 231 of 2464, Score: 2.203031249443254e-11 human toxicity: non-carcinogenic\n",
      "row : 7, col : 8 is assigned list : [[\"'transport Alu - CONSQ' (unit, GLO, None)\", 2.203031249443254e-11]]\n",
      "Processing flow: pp production - CONSQ in impact category: human toxicity: non-carcinogenic\n",
      "'market for textile, nonwoven polypropylene' (kilogram, GLO, None) Calculation 232 of 2464, Score: 1.9406534685730074e-09 human toxicity: non-carcinogenic\n",
      "row : 8, col : 8 is assigned list : [[\"'market for textile, nonwoven polypropylene' (kilogram, GLO, None)\", 1.9406534685730074e-09]]\n",
      "Processing flow: autoclave - CONSQ in impact category: human toxicity: non-carcinogenic\n",
      "'autoclave - CONSQ' (unit, GLO, None) Calculation 233 of 2464, Score: 9.018064033608604e-10 human toxicity: non-carcinogenic\n",
      "row : 9, col : 8 is assigned list : [[\"'autoclave - CONSQ' (unit, GLO, None)\", 9.018064033608604e-10]]\n",
      "Processing flow: transport Plastic - CONSQ in impact category: human toxicity: non-carcinogenic\n",
      "'transport Plastic - CONSQ' (unit, GLO, None) Calculation 234 of 2464, Score: 3.934257356952707e-10 human toxicity: non-carcinogenic\n",
      "row : 10, col : 8 is assigned list : [[\"'transport Plastic - CONSQ' (unit, GLO, None)\", 3.934257356952707e-10]]\n",
      "Processing flow: PE incineration no Energy Recovery - CONSQ in impact category: human toxicity: non-carcinogenic\n",
      "'PE incineration no Energy Recovery - CONSQ' (kilogram, CH, None) Calculation 235 of 2464, Score: -5.0186257536629456e-14 human toxicity: non-carcinogenic\n",
      "row : 11, col : 8 is assigned list : [[\"'PE incineration no Energy Recovery - CONSQ' (kilogram, CH, None)\", -5.0186257536629456e-14]]\n",
      "Processing flow: PP incineration no Energy Recovery - CONSQ in impact category: human toxicity: non-carcinogenic\n",
      "'PP incineration no Energy Recovery - CONSQ' (kilogram, CH, None) Calculation 236 of 2464, Score: -3.181063819447378e-12 human toxicity: non-carcinogenic\n",
      "row : 12, col : 8 is assigned list : [[\"'PP incineration no Energy Recovery - CONSQ' (kilogram, CH, None)\", -3.181063819447378e-12]]\n",
      "Processing flow: marginal heating grid projection updated - CONSQ in impact category: human toxicity: non-carcinogenic\n",
      "'marginal heating grid projection updated - CONSQ' (megajoule, GLO, None) Calculation 237 of 2464, Score: 1.0095213703229823e-09 human toxicity: non-carcinogenic\n",
      "row : 13, col : 8 is assigned list : [[\"'marginal heating grid projection updated - CONSQ' (megajoule, GLO, None)\", 1.0095213703229823e-09]]\n",
      "Processing flow: pp production - CONSQ in impact category: human toxicity: non-carcinogenic\n",
      "'market for textile, nonwoven polypropylene' (kilogram, GLO, None) Calculation 238 of 2464, Score: 1.9406534685730074e-09 human toxicity: non-carcinogenic\n",
      "row : 14, col : 8 is assigned list : [[\"'market for textile, nonwoven polypropylene' (kilogram, GLO, None)\", 1.9406534685730074e-09]]\n",
      "Processing flow: autoclave - CONSQ in impact category: human toxicity: non-carcinogenic\n",
      "'autoclave - CONSQ' (unit, GLO, None) Calculation 239 of 2464, Score: 9.018064033608604e-10 human toxicity: non-carcinogenic\n",
      "row : 15, col : 8 is assigned list : [[\"'autoclave - CONSQ' (unit, GLO, None)\", 9.018064033608604e-10]]\n",
      "Processing flow: transport Plastic - CONSQ in impact category: human toxicity: non-carcinogenic\n",
      "'transport Plastic - CONSQ' (unit, GLO, None) Calculation 240 of 2464, Score: 3.934257356952707e-10 human toxicity: non-carcinogenic\n",
      "row : 16, col : 8 is assigned list : [[\"'transport Plastic - CONSQ' (unit, GLO, None)\", 3.934257356952707e-10]]\n",
      "Processing flow: PE incineration no Energy Recovery - CONSQ in impact category: human toxicity: non-carcinogenic\n",
      "'PE incineration no Energy Recovery - CONSQ' (kilogram, CH, None) Calculation 241 of 2464, Score: -5.0186257536629456e-14 human toxicity: non-carcinogenic\n",
      "row : 17, col : 8 is assigned list : [[\"'PE incineration no Energy Recovery - CONSQ' (kilogram, CH, None)\", -5.0186257536629456e-14]]\n",
      "Processing flow: PP incineration no Energy Recovery - CONSQ in impact category: human toxicity: non-carcinogenic\n",
      "'PP incineration no Energy Recovery - CONSQ' (kilogram, CH, None) Calculation 242 of 2464, Score: -3.181063819447378e-12 human toxicity: non-carcinogenic\n",
      "row : 18, col : 8 is assigned list : [[\"'PP incineration no Energy Recovery - CONSQ' (kilogram, CH, None)\", -3.181063819447378e-12]]\n",
      "Processing flow: marginal heating grid projection updated - CONSQ in impact category: human toxicity: non-carcinogenic\n",
      "'marginal heating grid projection updated - CONSQ' (megajoule, GLO, None) Calculation 243 of 2464, Score: 1.0095213703229823e-09 human toxicity: non-carcinogenic\n",
      "row : 19, col : 8 is assigned list : [[\"'marginal heating grid projection updated - CONSQ' (megajoule, GLO, None)\", 1.0095213703229823e-09]]\n",
      "Processing flow: alubox raw materials - CONSQ in impact category: ionising radiation: human health\n",
      "'market for aluminium, wrought alloy' (kilogram, GLO, None) Calculation 244 of 2464, Score: 0.0009350890703139834 ionising radiation: human health\n",
      "'steel production, chromium steel 18/8, hot rolled' (kilogram, RER, None) Calculation 245 of 2464, Score: -0.00029001683187946346 ionising radiation: human health\n",
      "row : 0, col : 9 is assigned list : [[\"'market for aluminium, wrought alloy' (kilogram, GLO, None)\", 0.0009350890703139834], [\"'steel production, chromium steel 18/8, hot rolled' (kilogram, RER, None)\", -0.00029001683187946346]]\n",
      "Processing flow: alubox production - CONSQ in impact category: ionising radiation: human health\n",
      "'anodising, aluminium sheet' (square meter, RER, None) Calculation 246 of 2464, Score: 0.0005838893850357037 ionising radiation: human health\n",
      "'impact extrusion of aluminium, 4 strokes' (kilogram, RER, None) Calculation 247 of 2464, Score: 0.0011368651983256677 ionising radiation: human health\n",
      "'corrugated board box production' (kilogram, RER, None) Calculation 248 of 2464, Score: -3.422776256612595e-05 ionising radiation: human health\n",
      "'metal working, average for chromium steel product manufacturing' (kilogram, RER, None) Calculation 249 of 2464, Score: 5.298560794601337e-05 ionising radiation: human health\n",
      "'polystyrene foam slab production' (kilogram, RER, None) Calculation 250 of 2464, Score: 0.0 ionising radiation: human health\n",
      "'section bar extrusion, aluminium' (kilogram, RER, None) Calculation 251 of 2464, Score: 0.0 ionising radiation: human health\n",
      "'sheet rolling, aluminium' (kilogram, RER, None) Calculation 252 of 2464, Score: 0.0001652664227741914 ionising radiation: human health\n",
      "row : 1, col : 9 is assigned list : [[\"'anodising, aluminium sheet' (square meter, RER, None)\", 0.0005838893850357037], [\"'impact extrusion of aluminium, 4 strokes' (kilogram, RER, None)\", 0.0011368651983256677], [\"'corrugated board box production' (kilogram, RER, None)\", -3.422776256612595e-05], [\"'metal working, average for chromium steel product manufacturing' (kilogram, RER, None)\", 5.298560794601337e-05], [\"'polystyrene foam slab production' (kilogram, RER, None)\", 0.0], [\"'section bar extrusion, aluminium' (kilogram, RER, None)\", 0.0], [\"'sheet rolling, aluminium' (kilogram, RER, None)\", 0.0001652664227741914]]\n",
      "Processing flow: autoclave - CONSQ in impact category: ionising radiation: human health\n",
      "'autoclave - CONSQ' (unit, GLO, None) Calculation 253 of 2464, Score: -0.0005796884889489487 ionising radiation: human health\n",
      "row : 2, col : 9 is assigned list : [[\"'autoclave - CONSQ' (unit, GLO, None)\", -0.0005796884889489487]]\n",
      "Processing flow: disinfection - CONSQ in impact category: ionising radiation: human health\n",
      "'disinfection - CONSQ' (unit, GLO, None) Calculation 254 of 2464, Score: 5.2310226183385e-05 ionising radiation: human health\n",
      "row : 3, col : 9 is assigned list : [[\"'disinfection - CONSQ' (unit, GLO, None)\", 5.2310226183385e-05]]\n",
      "Processing flow: Handwash - CONSQ in impact category: ionising radiation: human health\n",
      "'Handwash - CONSQ' (unit, GLO, None) Calculation 255 of 2464, Score: 0.001755590569259854 ionising radiation: human health\n",
      "row : 4, col : 9 is assigned list : [[\"'Handwash - CONSQ' (unit, GLO, None)\", 0.001755590569259854]]\n",
      "Processing flow: alubox EoL melting - CONSQ in impact category: ionising radiation: human health\n",
      "'treatment of metal scrap, mixed, for recycling, unsorted, sorting' (kilogram, Europe without Switzerland, None) Calculation 256 of 2464, Score: -0.001246799904196071 ionising radiation: human health\n",
      "row : 5, col : 9 is assigned list : [[\"'treatment of metal scrap, mixed, for recycling, unsorted, sorting' (kilogram, Europe without Switzerland, None)\", -0.001246799904196071]]\n",
      "Processing flow: alubox EoL mixed sorting - CONSQ in impact category: ionising radiation: human health\n",
      "'treatment of metal scrap, mixed, for recycling, unsorted, sorting' (kilogram, Europe without Switzerland, None) Calculation 257 of 2464, Score: 0.00014755172970456635 ionising radiation: human health\n",
      "row : 6, col : 9 is assigned list : [[\"'treatment of metal scrap, mixed, for recycling, unsorted, sorting' (kilogram, Europe without Switzerland, None)\", 0.00014755172970456635]]\n",
      "Processing flow: transport Alu - CONSQ in impact category: ionising radiation: human health\n",
      "'transport Alu - CONSQ' (unit, GLO, None) Calculation 258 of 2464, Score: 1.0961680168464363e-05 ionising radiation: human health\n",
      "row : 7, col : 9 is assigned list : [[\"'transport Alu - CONSQ' (unit, GLO, None)\", 1.0961680168464363e-05]]\n",
      "Processing flow: pp production - CONSQ in impact category: ionising radiation: human health\n",
      "'market for textile, nonwoven polypropylene' (kilogram, GLO, None) Calculation 259 of 2464, Score: 0.008495097178329972 ionising radiation: human health\n",
      "row : 8, col : 9 is assigned list : [[\"'market for textile, nonwoven polypropylene' (kilogram, GLO, None)\", 0.008495097178329972]]\n",
      "Processing flow: autoclave - CONSQ in impact category: ionising radiation: human health\n",
      "'autoclave - CONSQ' (unit, GLO, None) Calculation 260 of 2464, Score: -0.0005796884889489487 ionising radiation: human health\n",
      "row : 9, col : 9 is assigned list : [[\"'autoclave - CONSQ' (unit, GLO, None)\", -0.0005796884889489487]]\n",
      "Processing flow: transport Plastic - CONSQ in impact category: ionising radiation: human health\n",
      "'transport Plastic - CONSQ' (unit, GLO, None) Calculation 261 of 2464, Score: 0.0002710560820291955 ionising radiation: human health\n",
      "row : 10, col : 9 is assigned list : [[\"'transport Plastic - CONSQ' (unit, GLO, None)\", 0.0002710560820291955]]\n",
      "Processing flow: PE incineration no Energy Recovery - CONSQ in impact category: ionising radiation: human health\n",
      "'PE incineration no Energy Recovery - CONSQ' (kilogram, CH, None) Calculation 262 of 2464, Score: -6.612932862567344e-10 ionising radiation: human health\n",
      "row : 11, col : 9 is assigned list : [[\"'PE incineration no Energy Recovery - CONSQ' (kilogram, CH, None)\", -6.612932862567344e-10]]\n",
      "Processing flow: PP incineration no Energy Recovery - CONSQ in impact category: ionising radiation: human health\n",
      "'PP incineration no Energy Recovery - CONSQ' (kilogram, CH, None) Calculation 263 of 2464, Score: -3.205016352673999e-08 ionising radiation: human health\n",
      "row : 12, col : 9 is assigned list : [[\"'PP incineration no Energy Recovery - CONSQ' (kilogram, CH, None)\", -3.205016352673999e-08]]\n",
      "Processing flow: marginal heating grid projection updated - CONSQ in impact category: ionising radiation: human health\n",
      "'marginal heating grid projection updated - CONSQ' (megajoule, GLO, None) Calculation 264 of 2464, Score: 0.006140242241859897 ionising radiation: human health\n",
      "row : 13, col : 9 is assigned list : [[\"'marginal heating grid projection updated - CONSQ' (megajoule, GLO, None)\", 0.006140242241859897]]\n",
      "Processing flow: pp production - CONSQ in impact category: ionising radiation: human health\n",
      "'market for textile, nonwoven polypropylene' (kilogram, GLO, None) Calculation 265 of 2464, Score: 0.008495097178329972 ionising radiation: human health\n",
      "row : 14, col : 9 is assigned list : [[\"'market for textile, nonwoven polypropylene' (kilogram, GLO, None)\", 0.008495097178329972]]\n",
      "Processing flow: autoclave - CONSQ in impact category: ionising radiation: human health\n",
      "'autoclave - CONSQ' (unit, GLO, None) Calculation 266 of 2464, Score: -0.0005796884889489487 ionising radiation: human health\n",
      "row : 15, col : 9 is assigned list : [[\"'autoclave - CONSQ' (unit, GLO, None)\", -0.0005796884889489487]]\n",
      "Processing flow: transport Plastic - CONSQ in impact category: ionising radiation: human health\n",
      "'transport Plastic - CONSQ' (unit, GLO, None) Calculation 267 of 2464, Score: 0.0002710560820291955 ionising radiation: human health\n",
      "row : 16, col : 9 is assigned list : [[\"'transport Plastic - CONSQ' (unit, GLO, None)\", 0.0002710560820291955]]\n",
      "Processing flow: PE incineration no Energy Recovery - CONSQ in impact category: ionising radiation: human health\n",
      "'PE incineration no Energy Recovery - CONSQ' (kilogram, CH, None) Calculation 268 of 2464, Score: -6.612932862567344e-10 ionising radiation: human health\n",
      "row : 17, col : 9 is assigned list : [[\"'PE incineration no Energy Recovery - CONSQ' (kilogram, CH, None)\", -6.612932862567344e-10]]\n",
      "Processing flow: PP incineration no Energy Recovery - CONSQ in impact category: ionising radiation: human health\n",
      "'PP incineration no Energy Recovery - CONSQ' (kilogram, CH, None) Calculation 269 of 2464, Score: -3.205016352673999e-08 ionising radiation: human health\n",
      "row : 18, col : 9 is assigned list : [[\"'PP incineration no Energy Recovery - CONSQ' (kilogram, CH, None)\", -3.205016352673999e-08]]\n",
      "Processing flow: marginal heating grid projection updated - CONSQ in impact category: ionising radiation: human health\n",
      "'marginal heating grid projection updated - CONSQ' (megajoule, GLO, None) Calculation 270 of 2464, Score: 0.006140242241859897 ionising radiation: human health\n",
      "row : 19, col : 9 is assigned list : [[\"'marginal heating grid projection updated - CONSQ' (megajoule, GLO, None)\", 0.006140242241859897]]\n",
      "Processing flow: alubox raw materials - CONSQ in impact category: land use\n",
      "'market for aluminium, wrought alloy' (kilogram, GLO, None) Calculation 271 of 2464, Score: 0.22029831750191317 land use\n",
      "'steel production, chromium steel 18/8, hot rolled' (kilogram, RER, None) Calculation 272 of 2464, Score: 0.11467488306300923 land use\n",
      "row : 0, col : 10 is assigned list : [[\"'market for aluminium, wrought alloy' (kilogram, GLO, None)\", 0.22029831750191317], [\"'steel production, chromium steel 18/8, hot rolled' (kilogram, RER, None)\", 0.11467488306300923]]\n",
      "Processing flow: alubox production - CONSQ in impact category: land use\n",
      "'anodising, aluminium sheet' (square meter, RER, None) Calculation 273 of 2464, Score: 0.12554791001929738 land use\n",
      "'impact extrusion of aluminium, 4 strokes' (kilogram, RER, None) Calculation 274 of 2464, Score: 0.05307718767339798 land use\n",
      "'corrugated board box production' (kilogram, RER, None) Calculation 275 of 2464, Score: 0.19286488771355176 land use\n",
      "'metal working, average for chromium steel product manufacturing' (kilogram, RER, None) Calculation 276 of 2464, Score: 0.0384395815669563 land use\n",
      "'polystyrene foam slab production' (kilogram, RER, None) Calculation 277 of 2464, Score: 0.0 land use\n",
      "'section bar extrusion, aluminium' (kilogram, RER, None) Calculation 278 of 2464, Score: 0.0 land use\n",
      "'sheet rolling, aluminium' (kilogram, RER, None) Calculation 279 of 2464, Score: -0.028718748325118566 land use\n",
      "row : 1, col : 10 is assigned list : [[\"'anodising, aluminium sheet' (square meter, RER, None)\", 0.12554791001929738], [\"'impact extrusion of aluminium, 4 strokes' (kilogram, RER, None)\", 0.05307718767339798], [\"'corrugated board box production' (kilogram, RER, None)\", 0.19286488771355176], [\"'metal working, average for chromium steel product manufacturing' (kilogram, RER, None)\", 0.0384395815669563], [\"'polystyrene foam slab production' (kilogram, RER, None)\", 0.0], [\"'section bar extrusion, aluminium' (kilogram, RER, None)\", 0.0], [\"'sheet rolling, aluminium' (kilogram, RER, None)\", -0.028718748325118566]]\n",
      "Processing flow: autoclave - CONSQ in impact category: land use\n",
      "'autoclave - CONSQ' (unit, GLO, None) Calculation 280 of 2464, Score: 4.721920885546183 land use\n",
      "row : 2, col : 10 is assigned list : [[\"'autoclave - CONSQ' (unit, GLO, None)\", 4.721920885546183]]\n",
      "Processing flow: disinfection - CONSQ in impact category: land use\n",
      "'disinfection - CONSQ' (unit, GLO, None) Calculation 281 of 2464, Score: 4.631288428250434 land use\n",
      "row : 3, col : 10 is assigned list : [[\"'disinfection - CONSQ' (unit, GLO, None)\", 4.631288428250434]]\n",
      "Processing flow: Handwash - CONSQ in impact category: land use\n",
      "'Handwash - CONSQ' (unit, GLO, None) Calculation 282 of 2464, Score: 0.9278423208700517 land use\n",
      "row : 4, col : 10 is assigned list : [[\"'Handwash - CONSQ' (unit, GLO, None)\", 0.9278423208700517]]\n",
      "Processing flow: alubox EoL melting - CONSQ in impact category: land use\n",
      "'treatment of metal scrap, mixed, for recycling, unsorted, sorting' (kilogram, Europe without Switzerland, None) Calculation 283 of 2464, Score: -0.17506952503629644 land use\n",
      "row : 5, col : 10 is assigned list : [[\"'treatment of metal scrap, mixed, for recycling, unsorted, sorting' (kilogram, Europe without Switzerland, None)\", -0.17506952503629644]]\n",
      "Processing flow: alubox EoL mixed sorting - CONSQ in impact category: land use\n",
      "'treatment of metal scrap, mixed, for recycling, unsorted, sorting' (kilogram, Europe without Switzerland, None) Calculation 284 of 2464, Score: -0.004021728809466358 land use\n",
      "row : 6, col : 10 is assigned list : [[\"'treatment of metal scrap, mixed, for recycling, unsorted, sorting' (kilogram, Europe without Switzerland, None)\", -0.004021728809466358]]\n",
      "Processing flow: transport Alu - CONSQ in impact category: land use\n",
      "'transport Alu - CONSQ' (unit, GLO, None) Calculation 285 of 2464, Score: 0.018747663837717685 land use\n",
      "row : 7, col : 10 is assigned list : [[\"'transport Alu - CONSQ' (unit, GLO, None)\", 0.018747663837717685]]\n",
      "Processing flow: pp production - CONSQ in impact category: land use\n",
      "'market for textile, nonwoven polypropylene' (kilogram, GLO, None) Calculation 286 of 2464, Score: 0.7138591551691224 land use\n",
      "row : 8, col : 10 is assigned list : [[\"'market for textile, nonwoven polypropylene' (kilogram, GLO, None)\", 0.7138591551691224]]\n",
      "Processing flow: autoclave - CONSQ in impact category: land use\n",
      "'autoclave - CONSQ' (unit, GLO, None) Calculation 287 of 2464, Score: 4.721920885546183 land use\n",
      "row : 9, col : 10 is assigned list : [[\"'autoclave - CONSQ' (unit, GLO, None)\", 4.721920885546183]]\n",
      "Processing flow: transport Plastic - CONSQ in impact category: land use\n",
      "'transport Plastic - CONSQ' (unit, GLO, None) Calculation 288 of 2464, Score: 0.49202641391776436 land use\n",
      "row : 10, col : 10 is assigned list : [[\"'transport Plastic - CONSQ' (unit, GLO, None)\", 0.49202641391776436]]\n",
      "Processing flow: PE incineration no Energy Recovery - CONSQ in impact category: land use\n",
      "'PE incineration no Energy Recovery - CONSQ' (kilogram, CH, None) Calculation 289 of 2464, Score: 1.167495815016468e-06 land use\n",
      "row : 11, col : 10 is assigned list : [[\"'PE incineration no Energy Recovery - CONSQ' (kilogram, CH, None)\", 1.167495815016468e-06]]\n",
      "Processing flow: PP incineration no Energy Recovery - CONSQ in impact category: land use\n",
      "'PP incineration no Energy Recovery - CONSQ' (kilogram, CH, None) Calculation 290 of 2464, Score: 7.052455279699227e-05 land use\n",
      "row : 12, col : 10 is assigned list : [[\"'PP incineration no Energy Recovery - CONSQ' (kilogram, CH, None)\", 7.052455279699227e-05]]\n",
      "Processing flow: marginal heating grid projection updated - CONSQ in impact category: land use\n",
      "'marginal heating grid projection updated - CONSQ' (megajoule, GLO, None) Calculation 291 of 2464, Score: 2.701227680323782 land use\n",
      "row : 13, col : 10 is assigned list : [[\"'marginal heating grid projection updated - CONSQ' (megajoule, GLO, None)\", 2.701227680323782]]\n",
      "Processing flow: pp production - CONSQ in impact category: land use\n",
      "'market for textile, nonwoven polypropylene' (kilogram, GLO, None) Calculation 292 of 2464, Score: 0.7138591551691224 land use\n",
      "row : 14, col : 10 is assigned list : [[\"'market for textile, nonwoven polypropylene' (kilogram, GLO, None)\", 0.7138591551691224]]\n",
      "Processing flow: autoclave - CONSQ in impact category: land use\n",
      "'autoclave - CONSQ' (unit, GLO, None) Calculation 293 of 2464, Score: 4.721920885546183 land use\n",
      "row : 15, col : 10 is assigned list : [[\"'autoclave - CONSQ' (unit, GLO, None)\", 4.721920885546183]]\n",
      "Processing flow: transport Plastic - CONSQ in impact category: land use\n",
      "'transport Plastic - CONSQ' (unit, GLO, None) Calculation 294 of 2464, Score: 0.49202641391776436 land use\n",
      "row : 16, col : 10 is assigned list : [[\"'transport Plastic - CONSQ' (unit, GLO, None)\", 0.49202641391776436]]\n",
      "Processing flow: PE incineration no Energy Recovery - CONSQ in impact category: land use\n",
      "'PE incineration no Energy Recovery - CONSQ' (kilogram, CH, None) Calculation 295 of 2464, Score: 1.167495815016468e-06 land use\n",
      "row : 17, col : 10 is assigned list : [[\"'PE incineration no Energy Recovery - CONSQ' (kilogram, CH, None)\", 1.167495815016468e-06]]\n",
      "Processing flow: PP incineration no Energy Recovery - CONSQ in impact category: land use\n",
      "'PP incineration no Energy Recovery - CONSQ' (kilogram, CH, None) Calculation 296 of 2464, Score: 7.052455279699227e-05 land use\n",
      "row : 18, col : 10 is assigned list : [[\"'PP incineration no Energy Recovery - CONSQ' (kilogram, CH, None)\", 7.052455279699227e-05]]\n",
      "Processing flow: marginal heating grid projection updated - CONSQ in impact category: land use\n",
      "'marginal heating grid projection updated - CONSQ' (megajoule, GLO, None) Calculation 297 of 2464, Score: 2.701227680323782 land use\n",
      "row : 19, col : 10 is assigned list : [[\"'marginal heating grid projection updated - CONSQ' (megajoule, GLO, None)\", 2.701227680323782]]\n",
      "Processing flow: alubox raw materials - CONSQ in impact category: material resources: metals/minerals\n",
      "'market for aluminium, wrought alloy' (kilogram, GLO, None) Calculation 298 of 2464, Score: 1.3121081520583482e-07 material resources: metals/minerals\n",
      "'steel production, chromium steel 18/8, hot rolled' (kilogram, RER, None) Calculation 299 of 2464, Score: 2.867880391401754e-08 material resources: metals/minerals\n",
      "row : 0, col : 11 is assigned list : [[\"'market for aluminium, wrought alloy' (kilogram, GLO, None)\", 1.3121081520583482e-07], [\"'steel production, chromium steel 18/8, hot rolled' (kilogram, RER, None)\", 2.867880391401754e-08]]\n",
      "Processing flow: alubox production - CONSQ in impact category: material resources: metals/minerals\n",
      "'anodising, aluminium sheet' (square meter, RER, None) Calculation 300 of 2464, Score: 5.886706167442419e-08 material resources: metals/minerals\n",
      "'impact extrusion of aluminium, 4 strokes' (kilogram, RER, None) Calculation 301 of 2464, Score: 1.3809815041561616e-07 material resources: metals/minerals\n",
      "'corrugated board box production' (kilogram, RER, None) Calculation 302 of 2464, Score: 3.742887816530894e-09 material resources: metals/minerals\n",
      "'metal working, average for chromium steel product manufacturing' (kilogram, RER, None) Calculation 303 of 2464, Score: 2.2075022406894727e-08 material resources: metals/minerals\n",
      "'polystyrene foam slab production' (kilogram, RER, None) Calculation 304 of 2464, Score: 0.0 material resources: metals/minerals\n",
      "'section bar extrusion, aluminium' (kilogram, RER, None) Calculation 305 of 2464, Score: 0.0 material resources: metals/minerals\n",
      "'sheet rolling, aluminium' (kilogram, RER, None) Calculation 306 of 2464, Score: -1.4831956978349134e-09 material resources: metals/minerals\n",
      "row : 1, col : 11 is assigned list : [[\"'anodising, aluminium sheet' (square meter, RER, None)\", 5.886706167442419e-08], [\"'impact extrusion of aluminium, 4 strokes' (kilogram, RER, None)\", 1.3809815041561616e-07], [\"'corrugated board box production' (kilogram, RER, None)\", 3.742887816530894e-09], [\"'metal working, average for chromium steel product manufacturing' (kilogram, RER, None)\", 2.2075022406894727e-08], [\"'polystyrene foam slab production' (kilogram, RER, None)\", 0.0], [\"'section bar extrusion, aluminium' (kilogram, RER, None)\", 0.0], [\"'sheet rolling, aluminium' (kilogram, RER, None)\", -1.4831956978349134e-09]]\n",
      "Processing flow: autoclave - CONSQ in impact category: material resources: metals/minerals\n",
      "'autoclave - CONSQ' (unit, GLO, None) Calculation 307 of 2464, Score: 7.308682604207974e-07 material resources: metals/minerals\n",
      "row : 2, col : 11 is assigned list : [[\"'autoclave - CONSQ' (unit, GLO, None)\", 7.308682604207974e-07]]\n",
      "Processing flow: disinfection - CONSQ in impact category: material resources: metals/minerals\n",
      "'disinfection - CONSQ' (unit, GLO, None) Calculation 308 of 2464, Score: 6.718707500801593e-07 material resources: metals/minerals\n",
      "row : 3, col : 11 is assigned list : [[\"'disinfection - CONSQ' (unit, GLO, None)\", 6.718707500801593e-07]]\n",
      "Processing flow: Handwash - CONSQ in impact category: material resources: metals/minerals\n",
      "'Handwash - CONSQ' (unit, GLO, None) Calculation 309 of 2464, Score: 1.995155195350066e-07 material resources: metals/minerals\n",
      "row : 4, col : 11 is assigned list : [[\"'Handwash - CONSQ' (unit, GLO, None)\", 1.995155195350066e-07]]\n",
      "Processing flow: alubox EoL melting - CONSQ in impact category: material resources: metals/minerals\n",
      "'treatment of metal scrap, mixed, for recycling, unsorted, sorting' (kilogram, Europe without Switzerland, None) Calculation 310 of 2464, Score: 1.0018459803031828e-06 material resources: metals/minerals\n",
      "row : 5, col : 11 is assigned list : [[\"'treatment of metal scrap, mixed, for recycling, unsorted, sorting' (kilogram, Europe without Switzerland, None)\", 1.0018459803031828e-06]]\n",
      "Processing flow: alubox EoL mixed sorting - CONSQ in impact category: material resources: metals/minerals\n",
      "'treatment of metal scrap, mixed, for recycling, unsorted, sorting' (kilogram, Europe without Switzerland, None) Calculation 311 of 2464, Score: 2.385020693633821e-07 material resources: metals/minerals\n",
      "row : 6, col : 11 is assigned list : [[\"'treatment of metal scrap, mixed, for recycling, unsorted, sorting' (kilogram, Europe without Switzerland, None)\", 2.385020693633821e-07]]\n",
      "Processing flow: transport Alu - CONSQ in impact category: material resources: metals/minerals\n",
      "'transport Alu - CONSQ' (unit, GLO, None) Calculation 312 of 2464, Score: 4.203508200187605e-09 material resources: metals/minerals\n",
      "row : 7, col : 11 is assigned list : [[\"'transport Alu - CONSQ' (unit, GLO, None)\", 4.203508200187605e-09]]\n",
      "Processing flow: pp production - CONSQ in impact category: material resources: metals/minerals\n",
      "'market for textile, nonwoven polypropylene' (kilogram, GLO, None) Calculation 313 of 2464, Score: 2.343787390477565e-06 material resources: metals/minerals\n",
      "row : 8, col : 11 is assigned list : [[\"'market for textile, nonwoven polypropylene' (kilogram, GLO, None)\", 2.343787390477565e-06]]\n",
      "Processing flow: autoclave - CONSQ in impact category: material resources: metals/minerals\n",
      "'autoclave - CONSQ' (unit, GLO, None) Calculation 314 of 2464, Score: 7.308682604207974e-07 material resources: metals/minerals\n",
      "row : 9, col : 11 is assigned list : [[\"'autoclave - CONSQ' (unit, GLO, None)\", 7.308682604207974e-07]]\n",
      "Processing flow: transport Plastic - CONSQ in impact category: material resources: metals/minerals\n",
      "'transport Plastic - CONSQ' (unit, GLO, None) Calculation 315 of 2464, Score: -8.189405999431164e-08 material resources: metals/minerals\n",
      "row : 10, col : 11 is assigned list : [[\"'transport Plastic - CONSQ' (unit, GLO, None)\", -8.189405999431164e-08]]\n",
      "Processing flow: PE incineration no Energy Recovery - CONSQ in impact category: material resources: metals/minerals\n",
      "'PE incineration no Energy Recovery - CONSQ' (kilogram, CH, None) Calculation 316 of 2464, Score: 3.3885518689384992e-12 material resources: metals/minerals\n",
      "row : 11, col : 11 is assigned list : [[\"'PE incineration no Energy Recovery - CONSQ' (kilogram, CH, None)\", 3.3885518689384992e-12]]\n",
      "Processing flow: PP incineration no Energy Recovery - CONSQ in impact category: material resources: metals/minerals\n",
      "'PP incineration no Energy Recovery - CONSQ' (kilogram, CH, None) Calculation 317 of 2464, Score: 2.383169099924408e-10 material resources: metals/minerals\n",
      "row : 12, col : 11 is assigned list : [[\"'PP incineration no Energy Recovery - CONSQ' (kilogram, CH, None)\", 2.383169099924408e-10]]\n",
      "Processing flow: marginal heating grid projection updated - CONSQ in impact category: material resources: metals/minerals\n",
      "'marginal heating grid projection updated - CONSQ' (megajoule, GLO, None) Calculation 318 of 2464, Score: 1.073599429752986e-06 material resources: metals/minerals\n",
      "row : 13, col : 11 is assigned list : [[\"'marginal heating grid projection updated - CONSQ' (megajoule, GLO, None)\", 1.073599429752986e-06]]\n",
      "Processing flow: pp production - CONSQ in impact category: material resources: metals/minerals\n",
      "'market for textile, nonwoven polypropylene' (kilogram, GLO, None) Calculation 319 of 2464, Score: 2.343787390477565e-06 material resources: metals/minerals\n",
      "row : 14, col : 11 is assigned list : [[\"'market for textile, nonwoven polypropylene' (kilogram, GLO, None)\", 2.343787390477565e-06]]\n",
      "Processing flow: autoclave - CONSQ in impact category: material resources: metals/minerals\n",
      "'autoclave - CONSQ' (unit, GLO, None) Calculation 320 of 2464, Score: 7.308682604207974e-07 material resources: metals/minerals\n",
      "row : 15, col : 11 is assigned list : [[\"'autoclave - CONSQ' (unit, GLO, None)\", 7.308682604207974e-07]]\n",
      "Processing flow: transport Plastic - CONSQ in impact category: material resources: metals/minerals\n",
      "'transport Plastic - CONSQ' (unit, GLO, None) Calculation 321 of 2464, Score: -8.189405999431164e-08 material resources: metals/minerals\n",
      "row : 16, col : 11 is assigned list : [[\"'transport Plastic - CONSQ' (unit, GLO, None)\", -8.189405999431164e-08]]\n",
      "Processing flow: PE incineration no Energy Recovery - CONSQ in impact category: material resources: metals/minerals\n",
      "'PE incineration no Energy Recovery - CONSQ' (kilogram, CH, None) Calculation 322 of 2464, Score: 3.3885518689384992e-12 material resources: metals/minerals\n",
      "row : 17, col : 11 is assigned list : [[\"'PE incineration no Energy Recovery - CONSQ' (kilogram, CH, None)\", 3.3885518689384992e-12]]\n",
      "Processing flow: PP incineration no Energy Recovery - CONSQ in impact category: material resources: metals/minerals\n",
      "'PP incineration no Energy Recovery - CONSQ' (kilogram, CH, None) Calculation 323 of 2464, Score: 2.383169099924408e-10 material resources: metals/minerals\n",
      "row : 18, col : 11 is assigned list : [[\"'PP incineration no Energy Recovery - CONSQ' (kilogram, CH, None)\", 2.383169099924408e-10]]\n",
      "Processing flow: marginal heating grid projection updated - CONSQ in impact category: material resources: metals/minerals\n",
      "'marginal heating grid projection updated - CONSQ' (megajoule, GLO, None) Calculation 324 of 2464, Score: 1.073599429752986e-06 material resources: metals/minerals\n",
      "row : 19, col : 11 is assigned list : [[\"'marginal heating grid projection updated - CONSQ' (megajoule, GLO, None)\", 1.073599429752986e-06]]\n",
      "Processing flow: alubox raw materials - CONSQ in impact category: ozone depletion\n",
      "'market for aluminium, wrought alloy' (kilogram, GLO, None) Calculation 325 of 2464, Score: 1.1569387358144232e-09 ozone depletion\n",
      "'steel production, chromium steel 18/8, hot rolled' (kilogram, RER, None) Calculation 326 of 2464, Score: 1.8993138084259738e-10 ozone depletion\n",
      "row : 0, col : 12 is assigned list : [[\"'market for aluminium, wrought alloy' (kilogram, GLO, None)\", 1.1569387358144232e-09], [\"'steel production, chromium steel 18/8, hot rolled' (kilogram, RER, None)\", 1.8993138084259738e-10]]\n",
      "Processing flow: alubox production - CONSQ in impact category: ozone depletion\n",
      "'anodising, aluminium sheet' (square meter, RER, None) Calculation 327 of 2464, Score: 4.6347524208820943e-11 ozone depletion\n",
      "'impact extrusion of aluminium, 4 strokes' (kilogram, RER, None) Calculation 328 of 2464, Score: 3.2083859512922965e-10 ozone depletion\n",
      "'corrugated board box production' (kilogram, RER, None) Calculation 329 of 2464, Score: 2.3852752492895297e-11 ozone depletion\n",
      "'metal working, average for chromium steel product manufacturing' (kilogram, RER, None) Calculation 330 of 2464, Score: 1.103141420942658e-10 ozone depletion\n",
      "'polystyrene foam slab production' (kilogram, RER, None) Calculation 331 of 2464, Score: 0.0 ozone depletion\n",
      "'section bar extrusion, aluminium' (kilogram, RER, None) Calculation 332 of 2464, Score: 0.0 ozone depletion\n",
      "'sheet rolling, aluminium' (kilogram, RER, None) Calculation 333 of 2464, Score: 1.5325313893308532e-10 ozone depletion\n",
      "row : 1, col : 12 is assigned list : [[\"'anodising, aluminium sheet' (square meter, RER, None)\", 4.6347524208820943e-11], [\"'impact extrusion of aluminium, 4 strokes' (kilogram, RER, None)\", 3.2083859512922965e-10], [\"'corrugated board box production' (kilogram, RER, None)\", 2.3852752492895297e-11], [\"'metal working, average for chromium steel product manufacturing' (kilogram, RER, None)\", 1.103141420942658e-10], [\"'polystyrene foam slab production' (kilogram, RER, None)\", 0.0], [\"'section bar extrusion, aluminium' (kilogram, RER, None)\", 0.0], [\"'sheet rolling, aluminium' (kilogram, RER, None)\", 1.5325313893308532e-10]]\n",
      "Processing flow: autoclave - CONSQ in impact category: ozone depletion\n",
      "'autoclave - CONSQ' (unit, GLO, None) Calculation 334 of 2464, Score: 5.914106572032166e-10 ozone depletion\n",
      "row : 2, col : 12 is assigned list : [[\"'autoclave - CONSQ' (unit, GLO, None)\", 5.914106572032166e-10]]\n",
      "Processing flow: disinfection - CONSQ in impact category: ozone depletion\n",
      "'disinfection - CONSQ' (unit, GLO, None) Calculation 335 of 2464, Score: 2.464356600576784e-10 ozone depletion\n",
      "row : 3, col : 12 is assigned list : [[\"'disinfection - CONSQ' (unit, GLO, None)\", 2.464356600576784e-10]]\n",
      "Processing flow: Handwash - CONSQ in impact category: ozone depletion\n",
      "'Handwash - CONSQ' (unit, GLO, None) Calculation 336 of 2464, Score: 7.056252772238615e-10 ozone depletion\n",
      "row : 4, col : 12 is assigned list : [[\"'Handwash - CONSQ' (unit, GLO, None)\", 7.056252772238615e-10]]\n",
      "Processing flow: alubox EoL melting - CONSQ in impact category: ozone depletion\n",
      "'treatment of metal scrap, mixed, for recycling, unsorted, sorting' (kilogram, Europe without Switzerland, None) Calculation 337 of 2464, Score: -9.801157418293037e-10 ozone depletion\n",
      "row : 5, col : 12 is assigned list : [[\"'treatment of metal scrap, mixed, for recycling, unsorted, sorting' (kilogram, Europe without Switzerland, None)\", -9.801157418293037e-10]]\n",
      "Processing flow: alubox EoL mixed sorting - CONSQ in impact category: ozone depletion\n",
      "'treatment of metal scrap, mixed, for recycling, unsorted, sorting' (kilogram, Europe without Switzerland, None) Calculation 338 of 2464, Score: -8.434689896654037e-11 ozone depletion\n",
      "row : 6, col : 12 is assigned list : [[\"'treatment of metal scrap, mixed, for recycling, unsorted, sorting' (kilogram, Europe without Switzerland, None)\", -8.434689896654037e-11]]\n",
      "Processing flow: transport Alu - CONSQ in impact category: ozone depletion\n",
      "'transport Alu - CONSQ' (unit, GLO, None) Calculation 339 of 2464, Score: 4.8640333822238504e-11 ozone depletion\n",
      "row : 7, col : 12 is assigned list : [[\"'transport Alu - CONSQ' (unit, GLO, None)\", 4.8640333822238504e-11]]\n",
      "Processing flow: pp production - CONSQ in impact category: ozone depletion\n",
      "'market for textile, nonwoven polypropylene' (kilogram, GLO, None) Calculation 340 of 2464, Score: 2.2672307741691807e-09 ozone depletion\n",
      "row : 8, col : 12 is assigned list : [[\"'market for textile, nonwoven polypropylene' (kilogram, GLO, None)\", 2.2672307741691807e-09]]\n",
      "Processing flow: autoclave - CONSQ in impact category: ozone depletion\n",
      "'autoclave - CONSQ' (unit, GLO, None) Calculation 341 of 2464, Score: 5.914106572032166e-10 ozone depletion\n",
      "row : 9, col : 12 is assigned list : [[\"'autoclave - CONSQ' (unit, GLO, None)\", 5.914106572032166e-10]]\n",
      "Processing flow: transport Plastic - CONSQ in impact category: ozone depletion\n",
      "'transport Plastic - CONSQ' (unit, GLO, None) Calculation 342 of 2464, Score: 8.958388317628765e-10 ozone depletion\n",
      "row : 10, col : 12 is assigned list : [[\"'transport Plastic - CONSQ' (unit, GLO, None)\", 8.958388317628765e-10]]\n",
      "Processing flow: PE incineration no Energy Recovery - CONSQ in impact category: ozone depletion\n",
      "'PE incineration no Energy Recovery - CONSQ' (kilogram, CH, None) Calculation 343 of 2464, Score: -3.3092852143547736e-14 ozone depletion\n",
      "row : 11, col : 12 is assigned list : [[\"'PE incineration no Energy Recovery - CONSQ' (kilogram, CH, None)\", -3.3092852143547736e-14]]\n",
      "Processing flow: PP incineration no Energy Recovery - CONSQ in impact category: ozone depletion\n",
      "'PP incineration no Energy Recovery - CONSQ' (kilogram, CH, None) Calculation 344 of 2464, Score: -2.1213130643971098e-12 ozone depletion\n",
      "row : 12, col : 12 is assigned list : [[\"'PP incineration no Energy Recovery - CONSQ' (kilogram, CH, None)\", -2.1213130643971098e-12]]\n",
      "Processing flow: marginal heating grid projection updated - CONSQ in impact category: ozone depletion\n",
      "'marginal heating grid projection updated - CONSQ' (megajoule, GLO, None) Calculation 345 of 2464, Score: 8.218025829282934e-09 ozone depletion\n",
      "row : 13, col : 12 is assigned list : [[\"'marginal heating grid projection updated - CONSQ' (megajoule, GLO, None)\", 8.218025829282934e-09]]\n",
      "Processing flow: pp production - CONSQ in impact category: ozone depletion\n",
      "'market for textile, nonwoven polypropylene' (kilogram, GLO, None) Calculation 346 of 2464, Score: 2.2672307741691807e-09 ozone depletion\n",
      "row : 14, col : 12 is assigned list : [[\"'market for textile, nonwoven polypropylene' (kilogram, GLO, None)\", 2.2672307741691807e-09]]\n",
      "Processing flow: autoclave - CONSQ in impact category: ozone depletion\n",
      "'autoclave - CONSQ' (unit, GLO, None) Calculation 347 of 2464, Score: 5.914106572032166e-10 ozone depletion\n",
      "row : 15, col : 12 is assigned list : [[\"'autoclave - CONSQ' (unit, GLO, None)\", 5.914106572032166e-10]]\n",
      "Processing flow: transport Plastic - CONSQ in impact category: ozone depletion\n",
      "'transport Plastic - CONSQ' (unit, GLO, None) Calculation 348 of 2464, Score: 8.958388317628765e-10 ozone depletion\n",
      "row : 16, col : 12 is assigned list : [[\"'transport Plastic - CONSQ' (unit, GLO, None)\", 8.958388317628765e-10]]\n",
      "Processing flow: PE incineration no Energy Recovery - CONSQ in impact category: ozone depletion\n",
      "'PE incineration no Energy Recovery - CONSQ' (kilogram, CH, None) Calculation 349 of 2464, Score: -3.3092852143547736e-14 ozone depletion\n",
      "row : 17, col : 12 is assigned list : [[\"'PE incineration no Energy Recovery - CONSQ' (kilogram, CH, None)\", -3.3092852143547736e-14]]\n",
      "Processing flow: PP incineration no Energy Recovery - CONSQ in impact category: ozone depletion\n",
      "'PP incineration no Energy Recovery - CONSQ' (kilogram, CH, None) Calculation 350 of 2464, Score: -2.1213130643971098e-12 ozone depletion\n",
      "row : 18, col : 12 is assigned list : [[\"'PP incineration no Energy Recovery - CONSQ' (kilogram, CH, None)\", -2.1213130643971098e-12]]\n",
      "Processing flow: marginal heating grid projection updated - CONSQ in impact category: ozone depletion\n",
      "'marginal heating grid projection updated - CONSQ' (megajoule, GLO, None) Calculation 351 of 2464, Score: 8.218025829282934e-09 ozone depletion\n",
      "row : 19, col : 12 is assigned list : [[\"'marginal heating grid projection updated - CONSQ' (megajoule, GLO, None)\", 8.218025829282934e-09]]\n",
      "Processing flow: alubox raw materials - CONSQ in impact category: particulate matter formation\n",
      "'market for aluminium, wrought alloy' (kilogram, GLO, None) Calculation 352 of 2464, Score: 1.1972117843906513e-08 particulate matter formation\n",
      "'steel production, chromium steel 18/8, hot rolled' (kilogram, RER, None) Calculation 353 of 2464, Score: 4.0739612575258326e-10 particulate matter formation\n",
      "row : 0, col : 13 is assigned list : [[\"'market for aluminium, wrought alloy' (kilogram, GLO, None)\", 1.1972117843906513e-08], [\"'steel production, chromium steel 18/8, hot rolled' (kilogram, RER, None)\", 4.0739612575258326e-10]]\n",
      "Processing flow: alubox production - CONSQ in impact category: particulate matter formation\n",
      "'anodising, aluminium sheet' (square meter, RER, None) Calculation 354 of 2464, Score: 1.2265381824240994e-10 particulate matter formation\n",
      "'impact extrusion of aluminium, 4 strokes' (kilogram, RER, None) Calculation 355 of 2464, Score: 1.895132101930321e-10 particulate matter formation\n",
      "'corrugated board box production' (kilogram, RER, None) Calculation 356 of 2464, Score: 5.685134903769259e-11 particulate matter formation\n",
      "'metal working, average for chromium steel product manufacturing' (kilogram, RER, None) Calculation 357 of 2464, Score: 1.292939204461817e-10 particulate matter formation\n",
      "'polystyrene foam slab production' (kilogram, RER, None) Calculation 358 of 2464, Score: 0.0 particulate matter formation\n",
      "'section bar extrusion, aluminium' (kilogram, RER, None) Calculation 359 of 2464, Score: 0.0 particulate matter formation\n",
      "'sheet rolling, aluminium' (kilogram, RER, None) Calculation 360 of 2464, Score: 1.1872643074138371e-10 particulate matter formation\n",
      "row : 1, col : 13 is assigned list : [[\"'anodising, aluminium sheet' (square meter, RER, None)\", 1.2265381824240994e-10], [\"'impact extrusion of aluminium, 4 strokes' (kilogram, RER, None)\", 1.895132101930321e-10], [\"'corrugated board box production' (kilogram, RER, None)\", 5.685134903769259e-11], [\"'metal working, average for chromium steel product manufacturing' (kilogram, RER, None)\", 1.292939204461817e-10], [\"'polystyrene foam slab production' (kilogram, RER, None)\", 0.0], [\"'section bar extrusion, aluminium' (kilogram, RER, None)\", 0.0], [\"'sheet rolling, aluminium' (kilogram, RER, None)\", 1.1872643074138371e-10]]\n",
      "Processing flow: autoclave - CONSQ in impact category: particulate matter formation\n",
      "'autoclave - CONSQ' (unit, GLO, None) Calculation 361 of 2464, Score: 1.9831452312243106e-09 particulate matter formation\n",
      "row : 2, col : 13 is assigned list : [[\"'autoclave - CONSQ' (unit, GLO, None)\", 1.9831452312243106e-09]]\n",
      "Processing flow: disinfection - CONSQ in impact category: particulate matter formation\n",
      "'disinfection - CONSQ' (unit, GLO, None) Calculation 362 of 2464, Score: 2.0244427634280916e-09 particulate matter formation\n",
      "row : 3, col : 13 is assigned list : [[\"'disinfection - CONSQ' (unit, GLO, None)\", 2.0244427634280916e-09]]\n",
      "Processing flow: Handwash - CONSQ in impact category: particulate matter formation\n",
      "'Handwash - CONSQ' (unit, GLO, None) Calculation 363 of 2464, Score: 2.1520410437413735e-09 particulate matter formation\n",
      "row : 4, col : 13 is assigned list : [[\"'Handwash - CONSQ' (unit, GLO, None)\", 2.1520410437413735e-09]]\n",
      "Processing flow: alubox EoL melting - CONSQ in impact category: particulate matter formation\n",
      "'treatment of metal scrap, mixed, for recycling, unsorted, sorting' (kilogram, Europe without Switzerland, None) Calculation 364 of 2464, Score: -1.1187702309886463e-08 particulate matter formation\n",
      "row : 5, col : 13 is assigned list : [[\"'treatment of metal scrap, mixed, for recycling, unsorted, sorting' (kilogram, Europe without Switzerland, None)\", -1.1187702309886463e-08]]\n",
      "Processing flow: alubox EoL mixed sorting - CONSQ in impact category: particulate matter formation\n",
      "'treatment of metal scrap, mixed, for recycling, unsorted, sorting' (kilogram, Europe without Switzerland, None) Calculation 365 of 2464, Score: -1.9362436362420777e-10 particulate matter formation\n",
      "row : 6, col : 13 is assigned list : [[\"'treatment of metal scrap, mixed, for recycling, unsorted, sorting' (kilogram, Europe without Switzerland, None)\", -1.9362436362420777e-10]]\n",
      "Processing flow: transport Alu - CONSQ in impact category: particulate matter formation\n",
      "'transport Alu - CONSQ' (unit, GLO, None) Calculation 366 of 2464, Score: 1.5196424176911972e-10 particulate matter formation\n",
      "row : 7, col : 13 is assigned list : [[\"'transport Alu - CONSQ' (unit, GLO, None)\", 1.5196424176911972e-10]]\n",
      "Processing flow: pp production - CONSQ in impact category: particulate matter formation\n",
      "'market for textile, nonwoven polypropylene' (kilogram, GLO, None) Calculation 367 of 2464, Score: 1.0430955199505341e-08 particulate matter formation\n",
      "row : 8, col : 13 is assigned list : [[\"'market for textile, nonwoven polypropylene' (kilogram, GLO, None)\", 1.0430955199505341e-08]]\n",
      "Processing flow: autoclave - CONSQ in impact category: particulate matter formation\n",
      "'autoclave - CONSQ' (unit, GLO, None) Calculation 368 of 2464, Score: 1.9831452312243106e-09 particulate matter formation\n",
      "row : 9, col : 13 is assigned list : [[\"'autoclave - CONSQ' (unit, GLO, None)\", 1.9831452312243106e-09]]\n",
      "Processing flow: transport Plastic - CONSQ in impact category: particulate matter formation\n",
      "'transport Plastic - CONSQ' (unit, GLO, None) Calculation 369 of 2464, Score: 5.884235184610808e-09 particulate matter formation\n",
      "row : 10, col : 13 is assigned list : [[\"'transport Plastic - CONSQ' (unit, GLO, None)\", 5.884235184610808e-09]]\n",
      "Processing flow: PE incineration no Energy Recovery - CONSQ in impact category: particulate matter formation\n",
      "'PE incineration no Energy Recovery - CONSQ' (kilogram, CH, None) Calculation 370 of 2464, Score: -3.279081777307572e-14 particulate matter formation\n",
      "row : 11, col : 13 is assigned list : [[\"'PE incineration no Energy Recovery - CONSQ' (kilogram, CH, None)\", -3.279081777307572e-14]]\n",
      "Processing flow: PP incineration no Energy Recovery - CONSQ in impact category: particulate matter formation\n",
      "'PP incineration no Energy Recovery - CONSQ' (kilogram, CH, None) Calculation 371 of 2464, Score: -2.4972745128951457e-12 particulate matter formation\n",
      "row : 12, col : 13 is assigned list : [[\"'PP incineration no Energy Recovery - CONSQ' (kilogram, CH, None)\", -2.4972745128951457e-12]]\n",
      "Processing flow: marginal heating grid projection updated - CONSQ in impact category: particulate matter formation\n",
      "'marginal heating grid projection updated - CONSQ' (megajoule, GLO, None) Calculation 372 of 2464, Score: 6.1317898013737525e-09 particulate matter formation\n",
      "row : 13, col : 13 is assigned list : [[\"'marginal heating grid projection updated - CONSQ' (megajoule, GLO, None)\", 6.1317898013737525e-09]]\n",
      "Processing flow: pp production - CONSQ in impact category: particulate matter formation\n",
      "'market for textile, nonwoven polypropylene' (kilogram, GLO, None) Calculation 373 of 2464, Score: 1.0430955199505341e-08 particulate matter formation\n",
      "row : 14, col : 13 is assigned list : [[\"'market for textile, nonwoven polypropylene' (kilogram, GLO, None)\", 1.0430955199505341e-08]]\n",
      "Processing flow: autoclave - CONSQ in impact category: particulate matter formation\n",
      "'autoclave - CONSQ' (unit, GLO, None) Calculation 374 of 2464, Score: 1.9831452312243106e-09 particulate matter formation\n",
      "row : 15, col : 13 is assigned list : [[\"'autoclave - CONSQ' (unit, GLO, None)\", 1.9831452312243106e-09]]\n",
      "Processing flow: transport Plastic - CONSQ in impact category: particulate matter formation\n",
      "'transport Plastic - CONSQ' (unit, GLO, None) Calculation 375 of 2464, Score: 5.884235184610808e-09 particulate matter formation\n",
      "row : 16, col : 13 is assigned list : [[\"'transport Plastic - CONSQ' (unit, GLO, None)\", 5.884235184610808e-09]]\n",
      "Processing flow: PE incineration no Energy Recovery - CONSQ in impact category: particulate matter formation\n",
      "'PE incineration no Energy Recovery - CONSQ' (kilogram, CH, None) Calculation 376 of 2464, Score: -3.279081777307572e-14 particulate matter formation\n",
      "row : 17, col : 13 is assigned list : [[\"'PE incineration no Energy Recovery - CONSQ' (kilogram, CH, None)\", -3.279081777307572e-14]]\n",
      "Processing flow: PP incineration no Energy Recovery - CONSQ in impact category: particulate matter formation\n",
      "'PP incineration no Energy Recovery - CONSQ' (kilogram, CH, None) Calculation 377 of 2464, Score: -2.4972745128951457e-12 particulate matter formation\n",
      "row : 18, col : 13 is assigned list : [[\"'PP incineration no Energy Recovery - CONSQ' (kilogram, CH, None)\", -2.4972745128951457e-12]]\n",
      "Processing flow: marginal heating grid projection updated - CONSQ in impact category: particulate matter formation\n",
      "'marginal heating grid projection updated - CONSQ' (megajoule, GLO, None) Calculation 378 of 2464, Score: 6.1317898013737525e-09 particulate matter formation\n",
      "row : 19, col : 13 is assigned list : [[\"'marginal heating grid projection updated - CONSQ' (megajoule, GLO, None)\", 6.1317898013737525e-09]]\n",
      "Processing flow: alubox raw materials - CONSQ in impact category: photochemical oxidant formation: human health\n",
      "'market for aluminium, wrought alloy' (kilogram, GLO, None) Calculation 379 of 2464, Score: 0.0005376659301511209 photochemical oxidant formation: human health\n",
      "'steel production, chromium steel 18/8, hot rolled' (kilogram, RER, None) Calculation 380 of 2464, Score: 4.117604787397426e-05 photochemical oxidant formation: human health\n",
      "row : 0, col : 14 is assigned list : [[\"'market for aluminium, wrought alloy' (kilogram, GLO, None)\", 0.0005376659301511209], [\"'steel production, chromium steel 18/8, hot rolled' (kilogram, RER, None)\", 4.117604787397426e-05]]\n",
      "Processing flow: alubox production - CONSQ in impact category: photochemical oxidant formation: human health\n",
      "'anodising, aluminium sheet' (square meter, RER, None) Calculation 381 of 2464, Score: 1.408114913950818e-05 photochemical oxidant formation: human health\n",
      "'impact extrusion of aluminium, 4 strokes' (kilogram, RER, None) Calculation 382 of 2464, Score: 2.3230847024979432e-05 photochemical oxidant formation: human health\n",
      "'corrugated board box production' (kilogram, RER, None) Calculation 383 of 2464, Score: 4.912859371127882e-06 photochemical oxidant formation: human health\n",
      "'metal working, average for chromium steel product manufacturing' (kilogram, RER, None) Calculation 384 of 2464, Score: 1.331261104438955e-05 photochemical oxidant formation: human health\n",
      "'polystyrene foam slab production' (kilogram, RER, None) Calculation 385 of 2464, Score: 0.0 photochemical oxidant formation: human health\n",
      "'section bar extrusion, aluminium' (kilogram, RER, None) Calculation 386 of 2464, Score: 0.0 photochemical oxidant formation: human health\n",
      "'sheet rolling, aluminium' (kilogram, RER, None) Calculation 387 of 2464, Score: 1.574581674940254e-05 photochemical oxidant formation: human health\n",
      "row : 1, col : 14 is assigned list : [[\"'anodising, aluminium sheet' (square meter, RER, None)\", 1.408114913950818e-05], [\"'impact extrusion of aluminium, 4 strokes' (kilogram, RER, None)\", 2.3230847024979432e-05], [\"'corrugated board box production' (kilogram, RER, None)\", 4.912859371127882e-06], [\"'metal working, average for chromium steel product manufacturing' (kilogram, RER, None)\", 1.331261104438955e-05], [\"'polystyrene foam slab production' (kilogram, RER, None)\", 0.0], [\"'section bar extrusion, aluminium' (kilogram, RER, None)\", 0.0], [\"'sheet rolling, aluminium' (kilogram, RER, None)\", 1.574581674940254e-05]]\n",
      "Processing flow: autoclave - CONSQ in impact category: photochemical oxidant formation: human health\n",
      "'autoclave - CONSQ' (unit, GLO, None) Calculation 388 of 2464, Score: 0.00015567403515517913 photochemical oxidant formation: human health\n",
      "row : 2, col : 14 is assigned list : [[\"'autoclave - CONSQ' (unit, GLO, None)\", 0.00015567403515517913]]\n",
      "Processing flow: disinfection - CONSQ in impact category: photochemical oxidant formation: human health\n",
      "'disinfection - CONSQ' (unit, GLO, None) Calculation 389 of 2464, Score: 0.00012865176905983087 photochemical oxidant formation: human health\n",
      "row : 3, col : 14 is assigned list : [[\"'disinfection - CONSQ' (unit, GLO, None)\", 0.00012865176905983087]]\n",
      "Processing flow: Handwash - CONSQ in impact category: photochemical oxidant formation: human health\n",
      "'Handwash - CONSQ' (unit, GLO, None) Calculation 390 of 2464, Score: 9.142048860869044e-05 photochemical oxidant formation: human health\n",
      "row : 4, col : 14 is assigned list : [[\"'Handwash - CONSQ' (unit, GLO, None)\", 9.142048860869044e-05]]\n",
      "Processing flow: alubox EoL melting - CONSQ in impact category: photochemical oxidant formation: human health\n",
      "'treatment of metal scrap, mixed, for recycling, unsorted, sorting' (kilogram, Europe without Switzerland, None) Calculation 391 of 2464, Score: -0.00048749466474446324 photochemical oxidant formation: human health\n",
      "row : 5, col : 14 is assigned list : [[\"'treatment of metal scrap, mixed, for recycling, unsorted, sorting' (kilogram, Europe without Switzerland, None)\", -0.00048749466474446324]]\n",
      "Processing flow: alubox EoL mixed sorting - CONSQ in impact category: photochemical oxidant formation: human health\n",
      "'treatment of metal scrap, mixed, for recycling, unsorted, sorting' (kilogram, Europe without Switzerland, None) Calculation 392 of 2464, Score: -1.780167899316029e-05 photochemical oxidant formation: human health\n",
      "row : 6, col : 14 is assigned list : [[\"'treatment of metal scrap, mixed, for recycling, unsorted, sorting' (kilogram, Europe without Switzerland, None)\", -1.780167899316029e-05]]\n",
      "Processing flow: transport Alu - CONSQ in impact category: photochemical oxidant formation: human health\n",
      "'transport Alu - CONSQ' (unit, GLO, None) Calculation 393 of 2464, Score: 7.90076841276903e-06 photochemical oxidant formation: human health\n",
      "row : 7, col : 14 is assigned list : [[\"'transport Alu - CONSQ' (unit, GLO, None)\", 7.90076841276903e-06]]\n",
      "Processing flow: pp production - CONSQ in impact category: photochemical oxidant formation: human health\n",
      "'market for textile, nonwoven polypropylene' (kilogram, GLO, None) Calculation 394 of 2464, Score: 0.0008421374202331 photochemical oxidant formation: human health\n",
      "row : 8, col : 14 is assigned list : [[\"'market for textile, nonwoven polypropylene' (kilogram, GLO, None)\", 0.0008421374202331]]\n",
      "Processing flow: autoclave - CONSQ in impact category: photochemical oxidant formation: human health\n",
      "'autoclave - CONSQ' (unit, GLO, None) Calculation 395 of 2464, Score: 0.00015567403515517913 photochemical oxidant formation: human health\n",
      "row : 9, col : 14 is assigned list : [[\"'autoclave - CONSQ' (unit, GLO, None)\", 0.00015567403515517913]]\n",
      "Processing flow: transport Plastic - CONSQ in impact category: photochemical oxidant formation: human health\n",
      "'transport Plastic - CONSQ' (unit, GLO, None) Calculation 396 of 2464, Score: 0.0007600009777491738 photochemical oxidant formation: human health\n",
      "row : 10, col : 14 is assigned list : [[\"'transport Plastic - CONSQ' (unit, GLO, None)\", 0.0007600009777491738]]\n",
      "Processing flow: PE incineration no Energy Recovery - CONSQ in impact category: photochemical oxidant formation: human health\n",
      "'PE incineration no Energy Recovery - CONSQ' (kilogram, CH, None) Calculation 397 of 2464, Score: -1.1458943276358679e-08 photochemical oxidant formation: human health\n",
      "row : 11, col : 14 is assigned list : [[\"'PE incineration no Energy Recovery - CONSQ' (kilogram, CH, None)\", -1.1458943276358679e-08]]\n",
      "Processing flow: PP incineration no Energy Recovery - CONSQ in impact category: photochemical oxidant formation: human health\n",
      "'PP incineration no Energy Recovery - CONSQ' (kilogram, CH, None) Calculation 398 of 2464, Score: -7.326108403745271e-07 photochemical oxidant formation: human health\n",
      "row : 12, col : 14 is assigned list : [[\"'PP incineration no Energy Recovery - CONSQ' (kilogram, CH, None)\", -7.326108403745271e-07]]\n",
      "Processing flow: marginal heating grid projection updated - CONSQ in impact category: photochemical oxidant formation: human health\n",
      "'marginal heating grid projection updated - CONSQ' (megajoule, GLO, None) Calculation 399 of 2464, Score: 0.00028457482690698977 photochemical oxidant formation: human health\n",
      "row : 13, col : 14 is assigned list : [[\"'marginal heating grid projection updated - CONSQ' (megajoule, GLO, None)\", 0.00028457482690698977]]\n",
      "Processing flow: pp production - CONSQ in impact category: photochemical oxidant formation: human health\n",
      "'market for textile, nonwoven polypropylene' (kilogram, GLO, None) Calculation 400 of 2464, Score: 0.0008421374202331 photochemical oxidant formation: human health\n",
      "row : 14, col : 14 is assigned list : [[\"'market for textile, nonwoven polypropylene' (kilogram, GLO, None)\", 0.0008421374202331]]\n",
      "Processing flow: autoclave - CONSQ in impact category: photochemical oxidant formation: human health\n",
      "'autoclave - CONSQ' (unit, GLO, None) Calculation 401 of 2464, Score: 0.00015567403515517913 photochemical oxidant formation: human health\n",
      "row : 15, col : 14 is assigned list : [[\"'autoclave - CONSQ' (unit, GLO, None)\", 0.00015567403515517913]]\n",
      "Processing flow: transport Plastic - CONSQ in impact category: photochemical oxidant formation: human health\n",
      "'transport Plastic - CONSQ' (unit, GLO, None) Calculation 402 of 2464, Score: 0.0007600009777491738 photochemical oxidant formation: human health\n",
      "row : 16, col : 14 is assigned list : [[\"'transport Plastic - CONSQ' (unit, GLO, None)\", 0.0007600009777491738]]\n",
      "Processing flow: PE incineration no Energy Recovery - CONSQ in impact category: photochemical oxidant formation: human health\n",
      "'PE incineration no Energy Recovery - CONSQ' (kilogram, CH, None) Calculation 403 of 2464, Score: -1.1458943276358679e-08 photochemical oxidant formation: human health\n",
      "row : 17, col : 14 is assigned list : [[\"'PE incineration no Energy Recovery - CONSQ' (kilogram, CH, None)\", -1.1458943276358679e-08]]\n",
      "Processing flow: PP incineration no Energy Recovery - CONSQ in impact category: photochemical oxidant formation: human health\n",
      "'PP incineration no Energy Recovery - CONSQ' (kilogram, CH, None) Calculation 404 of 2464, Score: -7.326108403745271e-07 photochemical oxidant formation: human health\n",
      "row : 18, col : 14 is assigned list : [[\"'PP incineration no Energy Recovery - CONSQ' (kilogram, CH, None)\", -7.326108403745271e-07]]\n",
      "Processing flow: marginal heating grid projection updated - CONSQ in impact category: photochemical oxidant formation: human health\n",
      "'marginal heating grid projection updated - CONSQ' (megajoule, GLO, None) Calculation 405 of 2464, Score: 0.00028457482690698977 photochemical oxidant formation: human health\n",
      "row : 19, col : 14 is assigned list : [[\"'marginal heating grid projection updated - CONSQ' (megajoule, GLO, None)\", 0.00028457482690698977]]\n",
      "Processing flow: alubox raw materials - CONSQ in impact category: water use\n",
      "'market for aluminium, wrought alloy' (kilogram, GLO, None) Calculation 406 of 2464, Score: 0.03612272128837226 water use\n",
      "'steel production, chromium steel 18/8, hot rolled' (kilogram, RER, None) Calculation 407 of 2464, Score: 0.0025001256917364396 water use\n",
      "row : 0, col : 15 is assigned list : [[\"'market for aluminium, wrought alloy' (kilogram, GLO, None)\", 0.03612272128837226], [\"'steel production, chromium steel 18/8, hot rolled' (kilogram, RER, None)\", 0.0025001256917364396]]\n",
      "Processing flow: alubox production - CONSQ in impact category: water use\n",
      "'anodising, aluminium sheet' (square meter, RER, None) Calculation 408 of 2464, Score: 0.020841981637268817 water use\n",
      "'impact extrusion of aluminium, 4 strokes' (kilogram, RER, None) Calculation 409 of 2464, Score: 0.00225133580767162 water use\n",
      "'corrugated board box production' (kilogram, RER, None) Calculation 410 of 2464, Score: 0.0005419815907007076 water use\n",
      "'metal working, average for chromium steel product manufacturing' (kilogram, RER, None) Calculation 411 of 2464, Score: 0.0009840560757422578 water use\n",
      "'polystyrene foam slab production' (kilogram, RER, None) Calculation 412 of 2464, Score: 0.0 water use\n",
      "'section bar extrusion, aluminium' (kilogram, RER, None) Calculation 413 of 2464, Score: 0.0 water use\n",
      "'sheet rolling, aluminium' (kilogram, RER, None) Calculation 414 of 2464, Score: 0.0009638031134124863 water use\n",
      "row : 1, col : 15 is assigned list : [[\"'anodising, aluminium sheet' (square meter, RER, None)\", 0.020841981637268817], [\"'impact extrusion of aluminium, 4 strokes' (kilogram, RER, None)\", 0.00225133580767162], [\"'corrugated board box production' (kilogram, RER, None)\", 0.0005419815907007076], [\"'metal working, average for chromium steel product manufacturing' (kilogram, RER, None)\", 0.0009840560757422578], [\"'polystyrene foam slab production' (kilogram, RER, None)\", 0.0], [\"'section bar extrusion, aluminium' (kilogram, RER, None)\", 0.0], [\"'sheet rolling, aluminium' (kilogram, RER, None)\", 0.0009638031134124863]]\n",
      "Processing flow: autoclave - CONSQ in impact category: water use\n",
      "'autoclave - CONSQ' (unit, GLO, None) Calculation 415 of 2464, Score: 0.005006795727140972 water use\n",
      "row : 2, col : 15 is assigned list : [[\"'autoclave - CONSQ' (unit, GLO, None)\", 0.005006795727140972]]\n",
      "Processing flow: disinfection - CONSQ in impact category: water use\n",
      "'disinfection - CONSQ' (unit, GLO, None) Calculation 416 of 2464, Score: 0.005446434799080848 water use\n",
      "row : 3, col : 15 is assigned list : [[\"'disinfection - CONSQ' (unit, GLO, None)\", 0.005446434799080848]]\n",
      "Processing flow: Handwash - CONSQ in impact category: water use\n",
      "'Handwash - CONSQ' (unit, GLO, None) Calculation 417 of 2464, Score: 0.052961822200284316 water use\n",
      "row : 4, col : 15 is assigned list : [[\"'Handwash - CONSQ' (unit, GLO, None)\", 0.052961822200284316]]\n",
      "Processing flow: alubox EoL melting - CONSQ in impact category: water use\n",
      "'treatment of metal scrap, mixed, for recycling, unsorted, sorting' (kilogram, Europe without Switzerland, None) Calculation 418 of 2464, Score: -0.0343223575940459 water use\n",
      "row : 5, col : 15 is assigned list : [[\"'treatment of metal scrap, mixed, for recycling, unsorted, sorting' (kilogram, Europe without Switzerland, None)\", -0.0343223575940459]]\n",
      "Processing flow: alubox EoL mixed sorting - CONSQ in impact category: water use\n",
      "'treatment of metal scrap, mixed, for recycling, unsorted, sorting' (kilogram, Europe without Switzerland, None) Calculation 419 of 2464, Score: -0.000669204985520275 water use\n",
      "row : 6, col : 15 is assigned list : [[\"'treatment of metal scrap, mixed, for recycling, unsorted, sorting' (kilogram, Europe without Switzerland, None)\", -0.000669204985520275]]\n",
      "Processing flow: transport Alu - CONSQ in impact category: water use\n",
      "'transport Alu - CONSQ' (unit, GLO, None) Calculation 420 of 2464, Score: 0.0001377362673635314 water use\n",
      "row : 7, col : 15 is assigned list : [[\"'transport Alu - CONSQ' (unit, GLO, None)\", 0.0001377362673635314]]\n",
      "Processing flow: pp production - CONSQ in impact category: water use\n",
      "'market for textile, nonwoven polypropylene' (kilogram, GLO, None) Calculation 421 of 2464, Score: 0.07549342523318593 water use\n",
      "row : 8, col : 15 is assigned list : [[\"'market for textile, nonwoven polypropylene' (kilogram, GLO, None)\", 0.07549342523318593]]\n",
      "Processing flow: autoclave - CONSQ in impact category: water use\n",
      "'autoclave - CONSQ' (unit, GLO, None) Calculation 422 of 2464, Score: 0.005006795727140972 water use\n",
      "row : 9, col : 15 is assigned list : [[\"'autoclave - CONSQ' (unit, GLO, None)\", 0.005006795727140972]]\n",
      "Processing flow: transport Plastic - CONSQ in impact category: water use\n",
      "'transport Plastic - CONSQ' (unit, GLO, None) Calculation 423 of 2464, Score: 0.006012576485664547 water use\n",
      "row : 10, col : 15 is assigned list : [[\"'transport Plastic - CONSQ' (unit, GLO, None)\", 0.006012576485664547]]\n",
      "Processing flow: PE incineration no Energy Recovery - CONSQ in impact category: water use\n",
      "'PE incineration no Energy Recovery - CONSQ' (kilogram, CH, None) Calculation 424 of 2464, Score: -1.181037780310428e-06 water use\n",
      "row : 11, col : 15 is assigned list : [[\"'PE incineration no Energy Recovery - CONSQ' (kilogram, CH, None)\", -1.181037780310428e-06]]\n",
      "Processing flow: PP incineration no Energy Recovery - CONSQ in impact category: water use\n",
      "'PP incineration no Energy Recovery - CONSQ' (kilogram, CH, None) Calculation 425 of 2464, Score: -8.567874786128381e-05 water use\n",
      "row : 12, col : 15 is assigned list : [[\"'PP incineration no Energy Recovery - CONSQ' (kilogram, CH, None)\", -8.567874786128381e-05]]\n",
      "Processing flow: marginal heating grid projection updated - CONSQ in impact category: water use\n",
      "'marginal heating grid projection updated - CONSQ' (megajoule, GLO, None) Calculation 426 of 2464, Score: 0.010768429011821542 water use\n",
      "row : 13, col : 15 is assigned list : [[\"'marginal heating grid projection updated - CONSQ' (megajoule, GLO, None)\", 0.010768429011821542]]\n",
      "Processing flow: pp production - CONSQ in impact category: water use\n",
      "'market for textile, nonwoven polypropylene' (kilogram, GLO, None) Calculation 427 of 2464, Score: 0.07549342523318593 water use\n",
      "row : 14, col : 15 is assigned list : [[\"'market for textile, nonwoven polypropylene' (kilogram, GLO, None)\", 0.07549342523318593]]\n",
      "Processing flow: autoclave - CONSQ in impact category: water use\n",
      "'autoclave - CONSQ' (unit, GLO, None) Calculation 428 of 2464, Score: 0.005006795727140972 water use\n",
      "row : 15, col : 15 is assigned list : [[\"'autoclave - CONSQ' (unit, GLO, None)\", 0.005006795727140972]]\n",
      "Processing flow: transport Plastic - CONSQ in impact category: water use\n",
      "'transport Plastic - CONSQ' (unit, GLO, None) Calculation 429 of 2464, Score: 0.006012576485664547 water use\n",
      "row : 16, col : 15 is assigned list : [[\"'transport Plastic - CONSQ' (unit, GLO, None)\", 0.006012576485664547]]\n",
      "Processing flow: PE incineration no Energy Recovery - CONSQ in impact category: water use\n",
      "'PE incineration no Energy Recovery - CONSQ' (kilogram, CH, None) Calculation 430 of 2464, Score: -1.181037780310428e-06 water use\n",
      "row : 17, col : 15 is assigned list : [[\"'PE incineration no Energy Recovery - CONSQ' (kilogram, CH, None)\", -1.181037780310428e-06]]\n",
      "Processing flow: PP incineration no Energy Recovery - CONSQ in impact category: water use\n",
      "'PP incineration no Energy Recovery - CONSQ' (kilogram, CH, None) Calculation 431 of 2464, Score: -8.567874786128381e-05 water use\n",
      "row : 18, col : 15 is assigned list : [[\"'PP incineration no Energy Recovery - CONSQ' (kilogram, CH, None)\", -8.567874786128381e-05]]\n",
      "Processing flow: marginal heating grid projection updated - CONSQ in impact category: water use\n",
      "'marginal heating grid projection updated - CONSQ' (megajoule, GLO, None) Calculation 432 of 2464, Score: 0.010768429011821542 water use\n",
      "row : 19, col : 15 is assigned list : [[\"'marginal heating grid projection updated - CONSQ' (megajoule, GLO, None)\", 0.010768429011821542]]\n"
     ]
    }
   ],
   "source": [
    "df_cont = lc.LCIA_contribution(impat, flow_count, FU_sub_proc, fu_sub_updated, amount, idx)"
   ]
  },
  {
   "cell_type": "code",
   "execution_count": 167,
   "metadata": {},
   "outputs": [
    {
     "name": "stdout",
     "output_type": "stream",
     "text": [
      "DataFrame with nested lists written to Excel successfully.\n"
     ]
    }
   ],
   "source": [
    "lc.save_LCA_results(df_cont, file_cont_name, sheet_name, impat)"
   ]
  },
  {
   "cell_type": "code",
   "execution_count": 168,
   "metadata": {},
   "outputs": [],
   "source": [
    "df_c = lc.import_LCA_results(file_cont_name, idx, impact_category)"
   ]
  },
  {
   "cell_type": "code",
   "execution_count": 463,
   "metadata": {},
   "outputs": [
    {
     "name": "stdout",
     "output_type": "stream",
     "text": [
      "alubox raw materials - CONSQ - sc 1\n",
      "[\"'market for aluminium, wrought alloy' (kilogram, GLO, None)\", 0.14408880803499768]\n",
      "[\"'steel production, chromium steel 18/8, hot rolled' (kilogram, RER, None)\", 0.010155120108550885]\n",
      "alubox production - CONSQ - sc 1\n",
      "[\"'anodising, aluminium sheet' (square meter, RER, None)\", 0.004144322364812754]\n",
      "[\"'impact extrusion of aluminium, 4 strokes' (kilogram, RER, None)\", 0.009568673158897143]\n",
      "[\"'corrugated board box production' (kilogram, RER, None)\", -0.00027635242720411903]\n",
      "[\"'metal working, average for chromium steel product manufacturing' (kilogram, RER, None)\", 0.00396528934943966]\n",
      "[\"'polystyrene foam slab production' (kilogram, RER, None)\", 0.0]\n",
      "[\"'section bar extrusion, aluminium' (kilogram, RER, None)\", 0.0]\n",
      "[\"'sheet rolling, aluminium' (kilogram, RER, None)\", 0.004754841606873683]\n",
      "autoclave - CONSQ - sc 1\n",
      "[\"'autoclave - CONSQ' (unit, GLO, None)\", 0.014801466839460474]\n",
      "disinfection - CONSQ - sc 1\n",
      "[\"'disinfection - CONSQ' (unit, GLO, None)\", 0.009959351663988014]\n",
      "Handwash - CONSQ - sc 1\n",
      "[\"'Handwash - CONSQ' (unit, GLO, None)\", 0.02337957579346481]\n",
      "alubox EoL melting - CONSQ - sc 1\n",
      "[\"'treatment of metal scrap, mixed, for recycling, unsorted, sorting' (kilogram, Europe without Switzerland, None)\", -0.1310690931911876]\n",
      "alubox EoL mixed sorting - CONSQ - sc 1\n",
      "[\"'treatment of metal scrap, mixed, for recycling, unsorted, sorting' (kilogram, Europe without Switzerland, None)\", -0.0031809503361051213]\n",
      "transport Alu - CONSQ - sc 1\n",
      "[\"'transport Alu - CONSQ' (unit, GLO, None)\", 0.0021324672021639807]\n",
      "pp production - CONSQ - sc 2\n",
      "[\"'market for textile, nonwoven polypropylene' (kilogram, GLO, None)\", 0.22940404431290856]\n",
      "autoclave - CONSQ - sc 2\n",
      "[\"'autoclave - CONSQ' (unit, GLO, None)\", 0.014801466839460474]\n",
      "transport Plastic - CONSQ - sc 2\n",
      "[\"'transport Plastic - CONSQ' (unit, GLO, None)\", 0.060764277659934196]\n",
      "PE incineration no Energy Recovery - CONSQ - sc 2\n",
      "[\"'PE incineration no Energy Recovery - CONSQ' (kilogram, CH, None)\", -6.431194156400351e-05]\n",
      "PP incineration no Energy Recovery - CONSQ - sc 2\n",
      "[\"'PP incineration no Energy Recovery - CONSQ' (kilogram, CH, None)\", -0.004073811554786578]\n",
      "marginal heating grid projection updated - CONSQ - sc 2\n",
      "[\"'marginal heating grid projection updated - CONSQ' (megajoule, GLO, None)\", 0.09848905256685836]\n",
      "pp production - CONSQ - sc 3\n",
      "[\"'market for textile, nonwoven polypropylene' (kilogram, GLO, None)\", 0.22940404431290856]\n",
      "autoclave - CONSQ - sc 3\n",
      "[\"'autoclave - CONSQ' (unit, GLO, None)\", 0.014801466839460474]\n",
      "transport Plastic - CONSQ - sc 3\n",
      "[\"'transport Plastic - CONSQ' (unit, GLO, None)\", 0.060764277659934196]\n",
      "PE incineration no Energy Recovery - CONSQ - sc 3\n",
      "[\"'PE incineration no Energy Recovery - CONSQ' (kilogram, CH, None)\", -6.431194156400351e-05]\n",
      "PP incineration no Energy Recovery - CONSQ - sc 3\n",
      "[\"'PP incineration no Energy Recovery - CONSQ' (kilogram, CH, None)\", -0.004073811554786578]\n",
      "marginal heating grid projection updated - CONSQ - sc 3\n",
      "[\"'marginal heating grid projection updated - CONSQ' (megajoule, GLO, None)\", 0.09848905256685836]\n"
     ]
    },
    {
     "data": {
      "text/plain": [
       "[2, 7, 1, 1, 1, 1, 1, 1, 1, 1, 1, 1, 1, 1, 1, 1, 1, 1, 1, 1]"
      ]
     },
     "execution_count": 463,
     "metadata": {},
     "output_type": "execute_result"
    }
   ],
   "source": []
  },
  {
   "cell_type": "code",
   "execution_count": 252,
   "metadata": {},
   "outputs": [],
   "source": [
    "df_tot, df_scaled, df_cols = lc.dataframe_element_scaling(df_test)\n",
    "index_list = list(df_scaled.index.values)\n",
    "plt_leg = lc.dataframe_column_structure(impat)"
   ]
  },
  {
   "cell_type": "code",
   "execution_count": 253,
   "metadata": {},
   "outputs": [
    {
     "data": {
      "text/html": [
       "<div>\n",
       "<style scoped>\n",
       "    .dataframe tbody tr th:only-of-type {\n",
       "        vertical-align: middle;\n",
       "    }\n",
       "\n",
       "    .dataframe tbody tr th {\n",
       "        vertical-align: top;\n",
       "    }\n",
       "\n",
       "    .dataframe thead tr th {\n",
       "        text-align: left;\n",
       "    }\n",
       "</style>\n",
       "<table border=\"1\" class=\"dataframe\">\n",
       "  <thead>\n",
       "    <tr>\n",
       "      <th></th>\n",
       "      <th>EF v3.1 EN15804</th>\n",
       "    </tr>\n",
       "    <tr>\n",
       "      <th></th>\n",
       "      <th>climate change</th>\n",
       "    </tr>\n",
       "    <tr>\n",
       "      <th></th>\n",
       "      <th>global warming potential (GWP100)</th>\n",
       "    </tr>\n",
       "  </thead>\n",
       "  <tbody>\n",
       "    <tr>\n",
       "      <th>alubox - CONSQ</th>\n",
       "      <td>[[alubox raw materials - CONSQ, 0.154243928228...</td>\n",
       "    </tr>\n",
       "    <tr>\n",
       "      <th>PP sheet sc2 - CONSQ</th>\n",
       "      <td>[[pp production - CONSQ, 0.22940403948446897],...</td>\n",
       "    </tr>\n",
       "    <tr>\n",
       "      <th>PP sheet sc3 - CONSQ</th>\n",
       "      <td>[[pp production - CONSQ, 0.22940403948446897],...</td>\n",
       "    </tr>\n",
       "  </tbody>\n",
       "</table>\n",
       "</div>"
      ],
      "text/plain": [
       "                                                        EF v3.1 EN15804\n",
       "                                                         climate change\n",
       "                                      global warming potential (GWP100)\n",
       "alubox - CONSQ        [[alubox raw materials - CONSQ, 0.154243928228...\n",
       "PP sheet sc2 - CONSQ  [[pp production - CONSQ, 0.22940403948446897],...\n",
       "PP sheet sc3 - CONSQ  [[pp production - CONSQ, 0.22940403948446897],..."
      ]
     },
     "execution_count": 253,
     "metadata": {},
     "output_type": "execute_result"
    }
   ],
   "source": [
    "df_GWP = df_test[df_test.columns[1]].to_frame()\n",
    "df_GWP"
   ]
  },
  {
   "cell_type": "code",
   "execution_count": 378,
   "metadata": {},
   "outputs": [
    {
     "name": "stdout",
     "output_type": "stream",
     "text": [
      "PE incineration\n",
      "PP incineration\n",
      "PE incineration\n",
      "PP incineration\n"
     ]
    },
    {
     "name": "stderr",
     "output_type": "stream",
     "text": [
      "C:\\Users\\ruw\\AppData\\Local\\Temp\\8\\ipykernel_20380\\1190330651.py:10: FutureWarning: Series.__getitem__ treating keys as positions is deprecated. In a future version, integer keys will always be treated as labels (consistent with DataFrame behavior). To access a value by position, use `ser.iloc[pos]`\n",
      "  for lst_size in range(len(df_GWP[key][df_size])):\n",
      "C:\\Users\\ruw\\AppData\\Local\\Temp\\8\\ipykernel_20380\\1190330651.py:12: FutureWarning: Series.__getitem__ treating keys as positions is deprecated. In a future version, integer keys will always be treated as labels (consistent with DataFrame behavior). To access a value by position, use `ser.iloc[pos]`\n",
      "  x = df_GWP[key][df_size][lst_size][0]\n",
      "C:\\Users\\ruw\\AppData\\Local\\Temp\\8\\ipykernel_20380\\1190330651.py:13: FutureWarning: Series.__getitem__ treating keys as positions is deprecated. In a future version, integer keys will always be treated as labels (consistent with DataFrame behavior). To access a value by position, use `ser.iloc[pos]`\n",
      "  gwp = df_GWP[key][df_size][lst_size][1]\n"
     ]
    }
   ],
   "source": [
    "x_axis = []\n",
    "GWP_value = []\n",
    "\n",
    "# gwp_tot = [0] * len(df_updated)\n",
    "for df_size in range(len(df_GWP)):\n",
    "    lst_x = []\n",
    "    lst_GWP = []\n",
    "    gwp_tot = 0\n",
    "    for key in df_GWP.keys():\n",
    "        for lst_size in range(len(df_GWP[key][df_size])):\n",
    "            #print(df_size, lst_size)\n",
    "            x = df_GWP[key][df_size][lst_size][0]\n",
    "            gwp = df_GWP[key][df_size][lst_size][1]\n",
    "            \n",
    "            #print(gwp,x)\n",
    "            if '- CONSQ' in x:\n",
    "                #print(key)\n",
    "                x = x.replace(f' - CONSQ', '')\n",
    "            if 'alubox' in x:           \n",
    "                x = x.replace('alubox ', '')\n",
    "                if 'raw' in x and 'avoid' not in x.lower():\n",
    "                    x = x.replace('raw materials', 'Raw mat.')\n",
    "                elif 'raw' in x and 'avoid' in x:\n",
    "                    x = 'Avoided virgin mat.'\n",
    "                if 'production' in x:\n",
    "                    x = 'Production'\n",
    "            if 'Waste' in x:\n",
    "                x = 'Incineration'\n",
    "                \n",
    "            if 'market for electricity' in x:\n",
    "                x = 'Avoided electricity'\n",
    "            if 'heating' in x:\n",
    "                x = 'Avoided heat'\n",
    "            if 'market for polypropylene' in x:\n",
    "                x = 'PP granulate'\n",
    "            if 'PE granulate' in x:\n",
    "                x = 'PE granulate'\n",
    "            if 'no Energy Recovery' in x:\n",
    "                x = x.replace(' no Energy Recovery', '')\n",
    "                print(x)\n",
    "                gwp = - gwp\n",
    "            if 'board box' in x:\n",
    "                x = 'Cardboard box'\n",
    "            if 'packaging film' in x:\n",
    "                x = 'PE packaging film prod.'\n",
    "            if 'pp' in x:\n",
    "                x = x.replace('pp', 'PP')\n",
    "            if 'autoclave' in x:\n",
    "                x = x.replace('autoclave', 'Autoclave')\n",
    "            if 'transport' in x:\n",
    "                x = 'Transport'\n",
    "\n",
    "            lst_x.append(x)\n",
    "            lst_GWP.append(gwp)\n",
    "            gwp_tot += gwp\n",
    "    # print(gwp_tot, lst_GWP)\n",
    "    lst_GWP.append(gwp_tot)\n",
    "    lst_x.append('Total')\n",
    "    x_axis.append(lst_x)\n",
    "    GWP_value.append(lst_GWP)\n",
    "\n"
   ]
  },
  {
   "cell_type": "code",
   "execution_count": 365,
   "metadata": {},
   "outputs": [
    {
     "name": "stdout",
     "output_type": "stream",
     "text": [
      "0.3258906089115956 0.3258906089115956\n",
      "0.7193984770556713 0.7193984770556713\n",
      "0.5610099316009893 0.5610099316009893\n"
     ]
    }
   ],
   "source": [
    "for x in GWP_value:\n",
    "    # print(x)\n",
    "    temp_val = 0\n",
    "    for y in x:\n",
    "        if y != x[-1]:\n",
    "            temp_val += y\n",
    "    print(temp_val, x[-1]) "
   ]
  },
  {
   "cell_type": "code",
   "execution_count": 602,
   "metadata": {},
   "outputs": [
    {
     "data": {
      "text/plain": [
       "0.3258906089115956"
      ]
     },
     "execution_count": 602,
     "metadata": {},
     "output_type": "execute_result"
    }
   ],
   "source": []
  },
  {
   "cell_type": "code",
   "execution_count": 416,
   "metadata": {},
   "outputs": [],
   "source": [
    "# Categories definitions\n",
    "categories = [\"Raw mat. + prod.\", \"Use\", \"Transport\", \"EoL\", \"Total\"]\n",
    "category_mapping = {\n",
    "    \"Raw mat. + prod.\": [\"PP production\", \"Cardboard box\", \"Scalpel\", \"Raw mat.\", \"Production\"],\n",
    "    \"Use\": [\"Autoclave\", \"disinfection\", \"Handwash\", \"Remanufacturing\"],\n",
    "    \"Transport\": [\"Transport\"],\n",
    "    \"EoL\": [\"PP incineration\", \"PE incineration\", \"Avoided heat\", \"Avoided electricity\", \"EoL melting\", \"EoL mixed sorting\", \"Avoided virgin mat.\"],\n",
    "    \"Total\": [\"Total\"]\n",
    "}\n",
    "\n",
    "# Ensure the legend displays items in the category order\n",
    "ordered_legend = {key: [] for key in category_mapping}\n",
    "\n",
    "for x_lst in range(len(x_axis)):\n",
    "    for x in range(len(x_axis[x_lst])):\n",
    "        \n",
    "        for key, item in category_mapping.items():\n",
    "                # print(x_axis[x_lst][x], item, x_axis[x_lst][x] in item)\n",
    "                if x_axis[x_lst][x] in item:\n",
    "                    # print(x_axis[x_lst][x], item, x_lst, x)\n",
    "                    ordered_legend[key].append(x_axis[x_lst][x])\n",
    "\n",
    "plot_legend = {key: [] for key in category_mapping}\n",
    "temp = []\n",
    "\n",
    "for key,value in ordered_legend.items():\n",
    "    #print(key, value)\n",
    "    for val in value:\n",
    "        if val not in temp:\n",
    "            temp.append(val)\n",
    "            # print(val)\n",
    "            plot_legend[key].append(val)\n",
    "\n",
    "\n",
    "colors = plot_colors(temp,'turbo')\n"
   ]
  },
  {
   "cell_type": "code",
   "execution_count": 417,
   "metadata": {},
   "outputs": [],
   "source": [
    "columns_to_plot = df_scaled.columns"
   ]
  },
  {
   "cell_type": "code",
   "execution_count": 418,
   "metadata": {},
   "outputs": [],
   "source": [
    "plt_leg = lc.dataframe_column_structure(impact_category)\n"
   ]
  },
  {
   "cell_type": "code",
   "execution_count": 419,
   "metadata": {},
   "outputs": [
    {
     "data": {
      "text/plain": [
       "3"
      ]
     },
     "execution_count": 419,
     "metadata": {},
     "output_type": "execute_result"
    }
   ],
   "source": [
    "len(df_scaled)"
   ]
  },
  {
   "cell_type": "code",
   "execution_count": 420,
   "metadata": {},
   "outputs": [],
   "source": [
    "def round_down(value):\n",
    "    # https://stackoverflow.com/questions/41383787/round-down-to-2-decimal-in-python\n",
    "    value = math.floor(value * 10)/10.0\n",
    "    return value"
   ]
  },
  {
   "cell_type": "code",
   "execution_count": 421,
   "metadata": {},
   "outputs": [
    {
     "data": {
      "text/plain": [
       "-1.5"
      ]
     },
     "execution_count": 421,
     "metadata": {},
     "output_type": "execute_result"
    }
   ],
   "source": [
    "round_down(-1.43)"
   ]
  },
  {
   "cell_type": "code",
   "execution_count": 422,
   "metadata": {},
   "outputs": [
    {
     "name": "stdout",
     "output_type": "stream",
     "text": [
      "-0.3632748853499619\n",
      "-1.451412220432904\n",
      "0.35520174279675715\n"
     ]
    },
    {
     "data": {
      "image/png": "[encoded data removed]",
      "text/plain": [
       "<Figure size 900x700 with 1 Axes>"
      ]
     },
     "metadata": {},
     "output_type": "display_data"
    }
   ],
   "source": [
    "# Plotting\n",
    "fig, ax = plt.subplots(figsize=(9,7))\n",
    "\n",
    "num_processes = len(df_scaled)\n",
    "bar_width = 1/(len(index_list) + 1.5) \n",
    "index = np.arange(len(columns_to_plot))\n",
    "\n",
    "# Plotting each group of bars\n",
    "min_val = 0\n",
    "for i, process in enumerate(df_scaled.index):\n",
    "    values = df_scaled.loc[process, columns_to_plot].values\n",
    "    ax.bar((index + i * bar_width), values, bar_width, label=process, color=colors[i])  \n",
    "    print(min(values))\n",
    "    if min_val > min(values):\n",
    "        min_val = min(values)\n",
    "\n",
    "\n",
    "# Setting labels and title\n",
    "ax.set_title('Scaled impact of the Functional Unit',weight='bold')\n",
    "ax.set_xticks(index + bar_width )\n",
    "ax.set_xticklabels(plot_x_axis)\n",
    "plt.xticks(rotation=90)\n",
    "plt.yticks(np.arange(-1.6, 1.01, step=0.2))\n",
    "plt.ylim(-1.52,1.03)\n",
    "\n",
    "ax.legend(flow_legend,bbox_to_anchor=(1.01, .75, .25, 0), loc=\"lower left\",\n",
    "            mode=\"expand\", borderaxespad=0,  ncol=1)\n",
    "plt.tight_layout()\n",
    "# plt.savefig(os.path.join(save_dir, img_res), bbox_inches='tight')\n",
    "plt.show()"
   ]
  },
  {
   "cell_type": "code",
   "execution_count": 423,
   "metadata": {},
   "outputs": [],
   "source": [
    "directory = 'C:\\\\Users\\\\ruw\\\\Desktop\\\\RA\\\\'\n",
    "lst_scaled = lc.LCIA_normalization(directory, df_tot)"
   ]
  },
  {
   "cell_type": "code",
   "execution_count": 424,
   "metadata": {},
   "outputs": [
    {
     "data": {
      "text/plain": [
       "[0.804227007232869, 0.9944742060614233, 1.0]"
      ]
     },
     "execution_count": 424,
     "metadata": {},
     "output_type": "execute_result"
    }
   ],
   "source": [
    "lst_scaled"
   ]
  },
  {
   "cell_type": "code",
   "execution_count": 425,
   "metadata": {},
   "outputs": [
    {
     "data": {
      "image/png": "[encoded data removed]",
      "text/plain": [
       "<Figure size 900x700 with 1 Axes>"
      ]
     },
     "metadata": {},
     "output_type": "display_data"
    }
   ],
   "source": [
    "# Plotting\n",
    "fig, ax = plt.subplots(figsize=(9,7))\n",
    "\n",
    "num_processes = len(lst_scaled)\n",
    "bar_width = 1/(len(index_list)-1) \n",
    "index = np.arange(len(index_list))   \n",
    "\n",
    "ax.bar(index + bar_width, lst_scaled, bar_width, label=index_list, color=colors)\n",
    "\n",
    "# Setting labels and title\n",
    "ax.set_title('Scaled single score of the Functional Unit',weight='bold')\n",
    "ax.set_xticks(index + bar_width )\n",
    "ax.set_xticklabels(flow_legend)\n",
    "#plt.xticks(rotation=90)\n",
    "plt.yticks(np.arange(0, 1.01, step=0.1))\n",
    "plt.ylim(0,1.03)\n",
    "\n",
    "plt.tight_layout()\n",
    "# plt.savefig(os.path.join(save_dir, img_res), bbox_inches='tight')\n",
    "plt.show()"
   ]
  },
  {
   "cell_type": "code",
   "execution_count": 426,
   "metadata": {},
   "outputs": [],
   "source": [
    "# # Categories definitions\n",
    "# categories = [\"Raw mat. + prod.\", \"Use\", \"Transport\", \"EoL\", \"Total\"]\n",
    "# category_mapping = {\n",
    "#     \"Raw mat. + prod.\": [\"Diathermy\", \"Bipolar burner\", \"Scalpel\"],\n",
    "#     \"Use\": [\"Autoclave\", \"Dishwasher\", \"Erbe\", \"Remanufacturing\"],\n",
    "#     \"Transport\": [\"Transport\"],\n",
    "#     \"EoL\": [\"Incineration\", \"Avoided heat\", \"Avoided electricity\"],\n",
    "#     \"Total\": [\"Total\"]\n",
    "# }\n",
    "\n",
    "# Ensure the legend displays items in the category order\n",
    "ordered_legend = {key: [] for key in category_mapping}\n",
    "\n",
    "for x_lst in range(len(x_axis)):\n",
    "    for x in range(len(x_axis[x_lst])):\n",
    "        \n",
    "        for key, item in category_mapping.items():\n",
    "                #print(x_axis[x_lst][x], item, x_axis[x_lst][x] in item)\n",
    "                if x_axis[x_lst][x] in item:\n",
    "                    # print(x_axis[x_lst][x], item, x_lst, x)\n",
    "                    ordered_legend[key].append(x_axis[x_lst][x])\n",
    "\n",
    "plot_legend = {key: [] for key in category_mapping}\n",
    "temp = []\n",
    "\n",
    "for key,value in ordered_legend.items():\n",
    "    #print(key, value)\n",
    "    for val in value:\n",
    "        if val not in temp:\n",
    "            temp.append(val)\n",
    "            # print(val)\n",
    "            plot_legend[key].append(val)\n",
    "\n"
   ]
  },
  {
   "cell_type": "code",
   "execution_count": 427,
   "metadata": {},
   "outputs": [
    {
     "data": {
      "image/png": "[encoded data removed]",
      "text/plain": [
       "<Figure size 1200x600 with 1 Axes>"
      ]
     },
     "metadata": {},
     "output_type": "display_data"
    }
   ],
   "source": [
    "\n",
    "color_map = {}\n",
    "#unique_processes = {process for sublist in x_axis for process in sublist}\n",
    "for i, process in enumerate(temp):\n",
    "    color_map[process] = colors[i]\n",
    "    #print(process, i)\n",
    "\n",
    "\n",
    "\n",
    "# Initialize an ordered dictionary for legend_handles to maintain the order\n",
    "legend_handles = OrderedDict()\n",
    "\n",
    "# Initialize legend_handles with keys from plot_legend and empty lists\n",
    "for process in temp:\n",
    "    legend_handles[process] = None\n",
    "\n",
    "# Plotting logic\n",
    "if len(x_axis) == len(GWP_value):\n",
    "    num_scenarios = len(GWP_value)  # Number of scenarios\n",
    "    bar_width = 0.15  # Width of the bars for each scenario\n",
    "    space_between_scenarios = 0.05  # Space between each scenario set\n",
    "    index = np.arange(len(categories))  # X-axis index positions for the categories\n",
    "\n",
    "    # Create the plot\n",
    "    fig, ax = plt.subplots(figsize=(12, 6))\n",
    "\n",
    "    idx = ['x', '^', 'o']  # List of markers for scenarios\n",
    "    all_markers = []  # List to store Line2D objects for markers\n",
    "\n",
    "    # Main plotting logic\n",
    "    for scenario in range(num_scenarios):\n",
    "        bottom_positive = np.zeros(len(categories))  # Initialize the bottom array for positive values\n",
    "        bottom_negative = np.zeros(len(categories))  # Initialize the bottom array for negative values\n",
    "        scenario_index = index + scenario * (bar_width + space_between_scenarios)\n",
    "\n",
    "        for length in range(len(x_axis[scenario])):\n",
    "            process_name = x_axis[scenario][length]\n",
    "            value = GWP_value[scenario][length]\n",
    "\n",
    "            # Determine which category this process falls into\n",
    "            for i, category in enumerate(categories):\n",
    "                if any(keyword in process_name for keyword in category_mapping[category]):\n",
    "                    # Assign color based on the process name\n",
    "                    color = color_map[process_name]\n",
    "\n",
    "                    # Create a bar with the specific color\n",
    "                    if value >= 0:\n",
    "                        bar = ax.bar(scenario_index[i], value, bar_width,\n",
    "                                    label=f\"{process_name}\" if legend_handles[process_name] is None else \"\",\n",
    "                                    bottom=bottom_positive[i],\n",
    "                                    color=color)\n",
    "                        bottom_positive[i] += value\n",
    "                    else:\n",
    "                        bar = ax.bar(scenario_index[i], value, bar_width,\n",
    "                                    label=f\"{process_name}\" if legend_handles[process_name] is None else \"\",\n",
    "                                    bottom=bottom_negative[i],\n",
    "                                    color=color)\n",
    "                        bottom_negative[i] += value\n",
    "\n",
    "                    # Add the bar to the corresponding process in legend_handles\n",
    "                    if legend_handles[process_name] is None:\n",
    "                        legend_handles[process_name] = bar\n",
    "\n",
    "                    # Add plot markers (symbols) at the bottom\n",
    "                    ax.plot(scenario_index[i], -0.25, marker=idx[scenario], color='gray')\n",
    "\n",
    "                    break\n",
    "\n",
    "    # Add custom markers to the legend\n",
    "    for i, marker in enumerate(idx):\n",
    "        all_markers.append(Line2D([0], [0], marker=marker, color='gray', label=f'Scenario {i + 1}', linestyle='None'))\n",
    "\n",
    "    # Set x-axis labels and ticks, adjusting to account for spacing\n",
    "    tick_positions = index + (num_scenarios - 1) * (bar_width + space_between_scenarios) / 2\n",
    "    ax.set_xticks(tick_positions)\n",
    "    ax.set_xticklabels(categories)\n",
    "\n",
    "    # Axis limits\n",
    "    # ax.set_ylim(-.45, 3.55)\n",
    "    # ax.set_yticks(np.arange(-0.5, 3.6, step=0.25))\n",
    "    ax.set_ylabel(\"Global Warming Potential [kg CO$_2$e]\")\n",
    "    ax.set_title('GWP impact for each life stage for 1 FU')\n",
    "\n",
    "    # Add markers to legend_handles for display at the bottom of the legend\n",
    "    valid_legend_handles = [(k, v) for k, v in legend_handles.items() if v is not None]\n",
    "    legend_handles_for_display = valid_legend_handles + [(flow_legend[i], marker) for i, marker in enumerate(all_markers)]\n",
    "\n",
    "    if legend_handles_for_display:\n",
    "        ax.legend(handles=[v for k, v in legend_handles_for_display], labels=[k for k, v in legend_handles_for_display], bbox_to_anchor=(1.005, 1), loc='upper left')\n",
    "\n",
    "    plt.tight_layout()\n",
    "    #plt.savefig(os.path.join(save_dir, f'LC_impact_ofir_APOS.jpg'), bbox_inches='tight')\n",
    "    plt.show()\n",
    "    \n",
    "\n",
    "else:\n",
    "    print('The x-axis and GWP values have different sizes')\n"
   ]
  },
  {
   "cell_type": "code",
   "execution_count": 633,
   "metadata": {},
   "outputs": [
    {
     "name": "stdout",
     "output_type": "stream",
     "text": [
      "alubox raw materials - CONSQ - sc 1\n",
      "alubox production - CONSQ - sc 1\n",
      "autoclave - CONSQ - sc 1\n",
      "disinfection - CONSQ - sc 1\n",
      "Handwash - CONSQ - sc 1\n",
      "alubox EoL melting - CONSQ - sc 1\n",
      "alubox EoL mixed sorting - CONSQ - sc 1\n",
      "transport Alu - CONSQ - sc 1\n"
     ]
    }
   ],
   "source": [
    "df_c_gwp =df_c[[df_c.columns[1]]]\n",
    "c = []\n",
    "\n",
    "node_sc1 = ['Raw material','Production', 'Use', 'EoL']\n",
    "node_sc2 = []\n",
    "node_sc3 = []\n",
    "\n",
    "links_sc1 = []\n",
    "links_sc2 = []\n",
    "links_sc3 = []\n",
    "# for i, node in enumerate(df_c_gwp):\n",
    "#     print(i, node)\n",
    "# for node in range(len(nodes)):\n",
    "\n",
    "rm = 0\n",
    "prod = 0\n",
    "use = 0\n",
    "eol = 0\n",
    "\n",
    "for i, row in df_c_gwp.iterrows():\n",
    "    # print(i,  'sc 1' in i)\n",
    "    # print(i,  'sc 2' in i)\n",
    "    # print(i,  'sc 3' in i)\n",
    "    \n",
    "    if 'sc 1' in i:\n",
    "        # print(i)\n",
    "        print(i)\n",
    "        node_sc1.append(i)\n",
    "    # elif 'sc 2' in i:\n",
    "    #     node_sc2.append(i)\n",
    "    # else:\n",
    "    #     node_sc3.append(i)\n",
    "    \n",
    "    # print(i)\n",
    "\n",
    "\n",
    "\n",
    "        for element in row:\n",
    "\n",
    "            # c.append(len(element))\n",
    "            for proc in element:\n",
    "                source = proc[0]\n",
    "                val = proc[1]/GWP_value[0][-1]*100\n",
    "\n",
    "                if  val < 0:\n",
    "                    # print(proc[0])\n",
    "                    source += ' --'\n",
    "                    val *= -1\n",
    "                if 'raw material' in i:\n",
    "                    dct_temp = {\"source\": source, \"target\": 'Raw material', \"value\":val}\n",
    "                    rm += proc[1]\n",
    "                elif 'production' in i:\n",
    "                    dct_temp = {\"source\": source, \"target\": 'Production', \"value\": val}\n",
    "                    prod += proc[1]\n",
    "                elif 'autoclave' in i.lower() or 'handwash' in i.lower() or 'transport' in i.lower():\n",
    "                    dct_temp = {\"source\": source, \"target\": 'Use', \"value\": val}\n",
    "                    use += proc[1]\n",
    "                elif 'eol' in i.lower():\n",
    "                    dct_temp = {\"source\": source, \"target\": 'EoL', \"value\": val}\n",
    "                    eol += proc[1]\n",
    "\n",
    "                links_sc1.append(dct_temp)\n",
    "                node_sc1.append(source)\n",
    "                # if 'sc 1' in i:\n",
    "                #     # print(i)\n",
    "                #     links_sc1.append(dct_temp)\n",
    "                #     node_sc1.append(proc[0])\n",
    "                # elif 'sc 2' in i:\n",
    "                #     links_sc2.append(dct_temp)\n",
    "                #     node_sc2.append(proc[0])\n",
    "                # else:\n",
    "                #     links_sc3.append(dct_temp)\n",
    "                #     node_sc3.append(proc[0])\n",
    "\n",
    "links_sc1.append({\"source\": 'Raw material', \"target\": 'Production', \"value\":rm})\n",
    "links_sc1.append({\"source\": \"Production\", \"target\": 'Use', \"value\": prod})\n",
    "links_sc1.append({\"source\": \"Use\", \"target\": 'EoL', \"value\": use})\n",
    "# dct_temp = {\"source\": source, \"target\": 'EoL', \"value\": val}"
   ]
  },
  {
   "cell_type": "code",
   "execution_count": 631,
   "metadata": {},
   "outputs": [
    {
     "data": {
      "text/plain": [
       "['Raw material',\n",
       " 'Production',\n",
       " 'Use',\n",
       " 'EoL',\n",
       " 'alubox raw materials',\n",
       " 'Virgin alu',\n",
       " 'Virgin steel',\n",
       " 'alubox production',\n",
       " 'Alu anodising',\n",
       " 'Alu impact extrusion',\n",
       " 'Cardboard box',\n",
       " \"'metal working, average for chromium steel product manufacturing' (kilogram, RER, None)\",\n",
       " \"'polystyrene foam slab production' (kilogram, RER, None)\",\n",
       " \"'section bar extrusion, aluminium' (kilogram, RER, None)\",\n",
       " \"'sheet rolling, aluminium' (kilogram, RER, None)\",\n",
       " 'autoclave',\n",
       " \"'autoclave - CONSQ' (unit, GLO, None)\",\n",
       " 'disinfection',\n",
       " \"'disinfection - CONSQ' (unit, GLO, None)\",\n",
       " 'Handwash',\n",
       " \"'Handwash - CONSQ' (unit, GLO, None)\",\n",
       " 'alubox EoL melting',\n",
       " \"'treatment of metal scrap, mixed, for recycling, unsorted, sorting' (kilogram, Europe without Switzerland, None) --\",\n",
       " 'alubox EoL mixed sorting',\n",
       " \"'treatment of metal scrap, mixed, for recycling, unsorted, sorting' (kilogram, Europe without Switzerland, None) --\",\n",
       " 'Transport ',\n",
       " 'Transport ']"
      ]
     },
     "execution_count": 631,
     "metadata": {},
     "output_type": "execute_result"
    }
   ],
   "source": [
    "# for plc, node in enumerate(node_sc1):\n",
    "#     # print(node)\n",
    "#     if '- CONSQ - sc 1' in node:\n",
    "#         node_sc1[plc] = node.replace(f' - CONSQ - sc 1', '')\n",
    "#     elif 'wrought alloy' in node:\n",
    "#         node_sc1[plc] = 'Virgin alu'\n",
    "#     elif 'steel production' in node:\n",
    "#         node_sc1[plc] = 'Virgin steel'\n",
    "#     elif 'impact extrusio' in node:\n",
    "#         node_sc1[plc] = 'Alu impact extrusion'\n",
    "#     elif 'corrugated' in node:\n",
    "#         node_sc1[plc] = 'Cardboard box'\n",
    "#     elif 'anodising' in node:\n",
    "#         node_sc1[plc] = 'Alu anodising'\n",
    "#     elif 'transport' in node:\n",
    "#         node_sc1[plc] = 'Transport '\n",
    "# node_sc1"
   ]
  },
  {
   "cell_type": "code",
   "execution_count": 634,
   "metadata": {},
   "outputs": [
    {
     "data": {
      "application/vnd.plotly.v1+json": {
       "config": {
        "plotlyServerURL": "https://plot.ly"
       },
       "data": [
        {
         "arrangement": "perpendicular",
         "domain": {
          "x": [
           0,
           1
          ],
          "y": [
           0,
           1
          ]
         },
         "link": {
          "line": {
           "width": [
            0.25244865291723545,
            0.01779212713727021,
            0.007260998355941936,
            0.01676465148203716,
            0.0004841791595718043,
            0.006947326224323839,
            0,
            0,
            0.00833064951303179,
            0.025932689816639633,
            0.025932689816639633,
            0.040961838017308246,
            0.22963765518250465,
            0.005573136722397747,
            0.0037361574428856825,
            0.0008806893236470742,
            0.00012650893030044034,
            0.00023017877032710556
           ]
          },
          "source": [
           5,
           6,
           8,
           9,
           10,
           11,
           12,
           13,
           14,
           16,
           16,
           20,
           22,
           22,
           26,
           0,
           1,
           2
          ],
          "target": [
           0,
           0,
           1,
           1,
           1,
           1,
           1,
           1,
           1,
           2,
           2,
           2,
           3,
           3,
           2,
           1,
           2,
           3
          ],
          "value": [
           44.213857071924615,
           3.1161131468215046,
           1.2716912520596706,
           2.936161060563988,
           0.0847991380074058,
           1.216754714928077,
           0,
           0,
           1.4590299557123876,
           4.541851294486265,
           4.541851294486265,
           7.174056310351365,
           40.21873892866386,
           0.9760791655607414,
           0.6543506145469984,
           0.15424392814354856,
           0.022156774052819118,
           0.040313509835089266
          ]
         },
         "node": {
          "label": [
           "Raw material<br>0.15%",
           "Production<br>0.02%",
           "Use<br>0.04%",
           "EoL<br>41.24%",
           "alubox raw materials - CONSQ - sc 1<br>0%",
           "'market for aluminium, wrought alloy' (kilogram, GLO, None)<br>44.21%",
           "'steel production, chromium steel 18/8, hot rolled' (kilogram, RER, None)<br>3.12%",
           "alubox production - CONSQ - sc 1<br>0%",
           "'anodising, aluminium sheet' (square meter, RER, None)<br>1.27%",
           "'impact extrusion of aluminium, 4 strokes' (kilogram, RER, None)<br>2.94%",
           "'corrugated board box production' (kilogram, RER, None) --<br>0.08%",
           "'metal working, average for chromium steel product manufacturing' (kilogram, RER, None)<br>1.22%",
           "'polystyrene foam slab production' (kilogram, RER, None)<br>0.0%",
           "'section bar extrusion, aluminium' (kilogram, RER, None)<br>0.0%",
           "'sheet rolling, aluminium' (kilogram, RER, None)<br>1.46%",
           "autoclave - CONSQ - sc 1<br>0%",
           "'autoclave - CONSQ' (unit, GLO, None)<br>9.08%",
           "disinfection - CONSQ - sc 1<br>0%",
           "'disinfection - CONSQ' (unit, GLO, None)<br>0%",
           "Handwash - CONSQ - sc 1<br>0%",
           "'Handwash - CONSQ' (unit, GLO, None)<br>7.17%",
           "alubox EoL melting - CONSQ - sc 1<br>0%",
           "'treatment of metal scrap, mixed, for recycling, unsorted, sorting' (kilogram, Europe without Switzerland, None) --<br>41.19%",
           "alubox EoL mixed sorting - CONSQ - sc 1<br>0%",
           "'treatment of metal scrap, mixed, for recycling, unsorted, sorting' (kilogram, Europe without Switzerland, None) --<br>41.19%",
           "transport Alu - CONSQ - sc 1<br>0%",
           "'transport Alu - CONSQ' (unit, GLO, None)<br>0.65%"
          ],
          "line": {
           "width": [
            0.25244865291723545,
            0.01779212713727021,
            0.007260998355941936,
            0.01676465148203716,
            0.0004841791595718043,
            0.006947326224323839,
            0,
            0,
            0.00833064951303179,
            0.025932689816639633,
            0.025932689816639633,
            0.040961838017308246,
            0.22963765518250465,
            0.005573136722397747,
            0.0037361574428856825,
            0.0008806893236470742,
            0.00012650893030044034,
            0.00023017877032710556
           ]
          },
          "pad": 500,
          "thickness": 20
         },
         "type": "sankey"
        }
       ],
       "layout": {
        "template": {
         "data": {
          "bar": [
           {
            "error_x": {
             "color": "#2a3f5f"
            },
            "error_y": {
             "color": "#2a3f5f"
            },
            "marker": {
             "line": {
              "color": "#E5ECF6",
              "width": 0.5
             },
             "pattern": {
              "fillmode": "overlay",
              "size": 10,
              "solidity": 0.2
             }
            },
            "type": "bar"
           }
          ],
          "barpolar": [
           {
            "marker": {
             "line": {
              "color": "#E5ECF6",
              "width": 0.5
             },
             "pattern": {
              "fillmode": "overlay",
              "size": 10,
              "solidity": 0.2
             }
            },
            "type": "barpolar"
           }
          ],
          "carpet": [
           {
            "aaxis": {
             "endlinecolor": "#2a3f5f",
             "gridcolor": "white",
             "linecolor": "white",
             "minorgridcolor": "white",
             "startlinecolor": "#2a3f5f"
            },
            "baxis": {
             "endlinecolor": "#2a3f5f",
             "gridcolor": "white",
             "linecolor": "white",
             "minorgridcolor": "white",
             "startlinecolor": "#2a3f5f"
            },
            "type": "carpet"
           }
          ],
          "choropleth": [
           {
            "colorbar": {
             "outlinewidth": 0,
             "ticks": ""
            },
            "type": "choropleth"
           }
          ],
          "contour": [
           {
            "colorbar": {
             "outlinewidth": 0,
             "ticks": ""
            },
            "colorscale": [
             [
              0,
              "#0d0887"
             ],
             [
              0.1111111111111111,
              "#46039f"
             ],
             [
              0.2222222222222222,
              "#7201a8"
             ],
             [
              0.3333333333333333,
              "#9c179e"
             ],
             [
              0.4444444444444444,
              "#bd3786"
             ],
             [
              0.5555555555555556,
              "#d8576b"
             ],
             [
              0.6666666666666666,
              "#ed7953"
             ],
             [
              0.7777777777777778,
              "#fb9f3a"
             ],
             [
              0.8888888888888888,
              "#fdca26"
             ],
             [
              1,
              "#f0f921"
             ]
            ],
            "type": "contour"
           }
          ],
          "contourcarpet": [
           {
            "colorbar": {
             "outlinewidth": 0,
             "ticks": ""
            },
            "type": "contourcarpet"
           }
          ],
          "heatmap": [
           {
            "colorbar": {
             "outlinewidth": 0,
             "ticks": ""
            },
            "colorscale": [
             [
              0,
              "#0d0887"
             ],
             [
              0.1111111111111111,
              "#46039f"
             ],
             [
              0.2222222222222222,
              "#7201a8"
             ],
             [
              0.3333333333333333,
              "#9c179e"
             ],
             [
              0.4444444444444444,
              "#bd3786"
             ],
             [
              0.5555555555555556,
              "#d8576b"
             ],
             [
              0.6666666666666666,
              "#ed7953"
             ],
             [
              0.7777777777777778,
              "#fb9f3a"
             ],
             [
              0.8888888888888888,
              "#fdca26"
             ],
             [
              1,
              "#f0f921"
             ]
            ],
            "type": "heatmap"
           }
          ],
          "heatmapgl": [
           {
            "colorbar": {
             "outlinewidth": 0,
             "ticks": ""
            },
            "colorscale": [
             [
              0,
              "#0d0887"
             ],
             [
              0.1111111111111111,
              "#46039f"
             ],
             [
              0.2222222222222222,
              "#7201a8"
             ],
             [
              0.3333333333333333,
              "#9c179e"
             ],
             [
              0.4444444444444444,
              "#bd3786"
             ],
             [
              0.5555555555555556,
              "#d8576b"
             ],
             [
              0.6666666666666666,
              "#ed7953"
             ],
             [
              0.7777777777777778,
              "#fb9f3a"
             ],
             [
              0.8888888888888888,
              "#fdca26"
             ],
             [
              1,
              "#f0f921"
             ]
            ],
            "type": "heatmapgl"
           }
          ],
          "histogram": [
           {
            "marker": {
             "pattern": {
              "fillmode": "overlay",
              "size": 10,
              "solidity": 0.2
             }
            },
            "type": "histogram"
           }
          ],
          "histogram2d": [
           {
            "colorbar": {
             "outlinewidth": 0,
             "ticks": ""
            },
            "colorscale": [
             [
              0,
              "#0d0887"
             ],
             [
              0.1111111111111111,
              "#46039f"
             ],
             [
              0.2222222222222222,
              "#7201a8"
             ],
             [
              0.3333333333333333,
              "#9c179e"
             ],
             [
              0.4444444444444444,
              "#bd3786"
             ],
             [
              0.5555555555555556,
              "#d8576b"
             ],
             [
              0.6666666666666666,
              "#ed7953"
             ],
             [
              0.7777777777777778,
              "#fb9f3a"
             ],
             [
              0.8888888888888888,
              "#fdca26"
             ],
             [
              1,
              "#f0f921"
             ]
            ],
            "type": "histogram2d"
           }
          ],
          "histogram2dcontour": [
           {
            "colorbar": {
             "outlinewidth": 0,
             "ticks": ""
            },
            "colorscale": [
             [
              0,
              "#0d0887"
             ],
             [
              0.1111111111111111,
              "#46039f"
             ],
             [
              0.2222222222222222,
              "#7201a8"
             ],
             [
              0.3333333333333333,
              "#9c179e"
             ],
             [
              0.4444444444444444,
              "#bd3786"
             ],
             [
              0.5555555555555556,
              "#d8576b"
             ],
             [
              0.6666666666666666,
              "#ed7953"
             ],
             [
              0.7777777777777778,
              "#fb9f3a"
             ],
             [
              0.8888888888888888,
              "#fdca26"
             ],
             [
              1,
              "#f0f921"
             ]
            ],
            "type": "histogram2dcontour"
           }
          ],
          "mesh3d": [
           {
            "colorbar": {
             "outlinewidth": 0,
             "ticks": ""
            },
            "type": "mesh3d"
           }
          ],
          "parcoords": [
           {
            "line": {
             "colorbar": {
              "outlinewidth": 0,
              "ticks": ""
             }
            },
            "type": "parcoords"
           }
          ],
          "pie": [
           {
            "automargin": true,
            "type": "pie"
           }
          ],
          "scatter": [
           {
            "fillpattern": {
             "fillmode": "overlay",
             "size": 10,
             "solidity": 0.2
            },
            "type": "scatter"
           }
          ],
          "scatter3d": [
           {
            "line": {
             "colorbar": {
              "outlinewidth": 0,
              "ticks": ""
             }
            },
            "marker": {
             "colorbar": {
              "outlinewidth": 0,
              "ticks": ""
             }
            },
            "type": "scatter3d"
           }
          ],
          "scattercarpet": [
           {
            "marker": {
             "colorbar": {
              "outlinewidth": 0,
              "ticks": ""
             }
            },
            "type": "scattercarpet"
           }
          ],
          "scattergeo": [
           {
            "marker": {
             "colorbar": {
              "outlinewidth": 0,
              "ticks": ""
             }
            },
            "type": "scattergeo"
           }
          ],
          "scattergl": [
           {
            "marker": {
             "colorbar": {
              "outlinewidth": 0,
              "ticks": ""
             }
            },
            "type": "scattergl"
           }
          ],
          "scattermapbox": [
           {
            "marker": {
             "colorbar": {
              "outlinewidth": 0,
              "ticks": ""
             }
            },
            "type": "scattermapbox"
           }
          ],
          "scatterpolar": [
           {
            "marker": {
             "colorbar": {
              "outlinewidth": 0,
              "ticks": ""
             }
            },
            "type": "scatterpolar"
           }
          ],
          "scatterpolargl": [
           {
            "marker": {
             "colorbar": {
              "outlinewidth": 0,
              "ticks": ""
             }
            },
            "type": "scatterpolargl"
           }
          ],
          "scatterternary": [
           {
            "marker": {
             "colorbar": {
              "outlinewidth": 0,
              "ticks": ""
             }
            },
            "type": "scatterternary"
           }
          ],
          "surface": [
           {
            "colorbar": {
             "outlinewidth": 0,
             "ticks": ""
            },
            "colorscale": [
             [
              0,
              "#0d0887"
             ],
             [
              0.1111111111111111,
              "#46039f"
             ],
             [
              0.2222222222222222,
              "#7201a8"
             ],
             [
              0.3333333333333333,
              "#9c179e"
             ],
             [
              0.4444444444444444,
              "#bd3786"
             ],
             [
              0.5555555555555556,
              "#d8576b"
             ],
             [
              0.6666666666666666,
              "#ed7953"
             ],
             [
              0.7777777777777778,
              "#fb9f3a"
             ],
             [
              0.8888888888888888,
              "#fdca26"
             ],
             [
              1,
              "#f0f921"
             ]
            ],
            "type": "surface"
           }
          ],
          "table": [
           {
            "cells": {
             "fill": {
              "color": "#EBF0F8"
             },
             "line": {
              "color": "white"
             }
            },
            "header": {
             "fill": {
              "color": "#C8D4E3"
             },
             "line": {
              "color": "white"
             }
            },
            "type": "table"
           }
          ]
         },
         "layout": {
          "annotationdefaults": {
           "arrowcolor": "#2a3f5f",
           "arrowhead": 0,
           "arrowwidth": 1
          },
          "autotypenumbers": "strict",
          "coloraxis": {
           "colorbar": {
            "outlinewidth": 0,
            "ticks": ""
           }
          },
          "colorscale": {
           "diverging": [
            [
             0,
             "#8e0152"
            ],
            [
             0.1,
             "#c51b7d"
            ],
            [
             0.2,
             "#de77ae"
            ],
            [
             0.3,
             "#f1b6da"
            ],
            [
             0.4,
             "#fde0ef"
            ],
            [
             0.5,
             "#f7f7f7"
            ],
            [
             0.6,
             "#e6f5d0"
            ],
            [
             0.7,
             "#b8e186"
            ],
            [
             0.8,
             "#7fbc41"
            ],
            [
             0.9,
             "#4d9221"
            ],
            [
             1,
             "#276419"
            ]
           ],
           "sequential": [
            [
             0,
             "#0d0887"
            ],
            [
             0.1111111111111111,
             "#46039f"
            ],
            [
             0.2222222222222222,
             "#7201a8"
            ],
            [
             0.3333333333333333,
             "#9c179e"
            ],
            [
             0.4444444444444444,
             "#bd3786"
            ],
            [
             0.5555555555555556,
             "#d8576b"
            ],
            [
             0.6666666666666666,
             "#ed7953"
            ],
            [
             0.7777777777777778,
             "#fb9f3a"
            ],
            [
             0.8888888888888888,
             "#fdca26"
            ],
            [
             1,
             "#f0f921"
            ]
           ],
           "sequentialminus": [
            [
             0,
             "#0d0887"
            ],
            [
             0.1111111111111111,
             "#46039f"
            ],
            [
             0.2222222222222222,
             "#7201a8"
            ],
            [
             0.3333333333333333,
             "#9c179e"
            ],
            [
             0.4444444444444444,
             "#bd3786"
            ],
            [
             0.5555555555555556,
             "#d8576b"
            ],
            [
             0.6666666666666666,
             "#ed7953"
            ],
            [
             0.7777777777777778,
             "#fb9f3a"
            ],
            [
             0.8888888888888888,
             "#fdca26"
            ],
            [
             1,
             "#f0f921"
            ]
           ]
          },
          "colorway": [
           "#636efa",
           "#EF553B",
           "#00cc96",
           "#ab63fa",
           "#FFA15A",
           "#19d3f3",
           "#FF6692",
           "#B6E880",
           "#FF97FF",
           "#FECB52"
          ],
          "font": {
           "color": "#2a3f5f"
          },
          "geo": {
           "bgcolor": "white",
           "lakecolor": "white",
           "landcolor": "#E5ECF6",
           "showlakes": true,
           "showland": true,
           "subunitcolor": "white"
          },
          "hoverlabel": {
           "align": "left"
          },
          "hovermode": "closest",
          "mapbox": {
           "style": "light"
          },
          "paper_bgcolor": "white",
          "plot_bgcolor": "#E5ECF6",
          "polar": {
           "angularaxis": {
            "gridcolor": "white",
            "linecolor": "white",
            "ticks": ""
           },
           "bgcolor": "#E5ECF6",
           "radialaxis": {
            "gridcolor": "white",
            "linecolor": "white",
            "ticks": ""
           }
          },
          "scene": {
           "xaxis": {
            "backgroundcolor": "#E5ECF6",
            "gridcolor": "white",
            "gridwidth": 2,
            "linecolor": "white",
            "showbackground": true,
            "ticks": "",
            "zerolinecolor": "white"
           },
           "yaxis": {
            "backgroundcolor": "#E5ECF6",
            "gridcolor": "white",
            "gridwidth": 2,
            "linecolor": "white",
            "showbackground": true,
            "ticks": "",
            "zerolinecolor": "white"
           },
           "zaxis": {
            "backgroundcolor": "#E5ECF6",
            "gridcolor": "white",
            "gridwidth": 2,
            "linecolor": "white",
            "showbackground": true,
            "ticks": "",
            "zerolinecolor": "white"
           }
          },
          "shapedefaults": {
           "line": {
            "color": "#2a3f5f"
           }
          },
          "ternary": {
           "aaxis": {
            "gridcolor": "white",
            "linecolor": "white",
            "ticks": ""
           },
           "baxis": {
            "gridcolor": "white",
            "linecolor": "white",
            "ticks": ""
           },
           "bgcolor": "#E5ECF6",
           "caxis": {
            "gridcolor": "white",
            "linecolor": "white",
            "ticks": ""
           }
          },
          "title": {
           "x": 0.05
          },
          "xaxis": {
           "automargin": true,
           "gridcolor": "white",
           "linecolor": "white",
           "ticks": "",
           "title": {
            "standoff": 15
           },
           "zerolinecolor": "white",
           "zerolinewidth": 2
          },
          "yaxis": {
           "automargin": true,
           "gridcolor": "white",
           "linecolor": "white",
           "ticks": "",
           "title": {
            "standoff": 15
           },
           "zerolinecolor": "white",
           "zerolinewidth": 2
          }
         }
        }
       }
      }
     },
     "metadata": {},
     "output_type": "display_data"
    }
   ],
   "source": [
    "# Create a Sankey diagram\n",
    "fig = go.Figure()\n",
    "\n",
    "# Calculate the scale factor for link thickness and node size\n",
    "max_value = 175.14  # max(link['value'] for link in links)\n",
    "scale_factor = 1  # You can adjust this factor to control the scaling\n",
    "\n",
    "# Calculate total outflow for each node and round to 2 decimals\n",
    "outflow_totals = {node: round(sum(link['value'] for link in links_sc1 if link['source'] == node), 2) for node in node_sc1}\n",
    "\n",
    "# Calculate total inflow for each node and round to 2 decimals\n",
    "inflow_totals = {node: round(sum(link['value'] for link in links_sc1 if link['target'] == node), 2) for node in node_sc1}\n",
    "\n",
    "# Determine if a node has only incoming flows\n",
    "incoming_only = {node: inflow_totals[node] > 0 and outflow_totals[node] == 0 for node in node_sc1}\n",
    "\n",
    "# Calculate y-coordinates for nodes based on total outflow or inflow\n",
    "node_y_coordinates = [sum(inflow_totals[node] if incoming_only[node] else outflow_totals[node] for node in node_sc1[:i]) for i in range(len(node_sc1))]\n",
    "\n",
    "# Add links\n",
    "fig.add_trace(go.Sankey(\n",
    "    node=dict(\n",
    "        pad=500,\n",
    "        thickness=20,\n",
    "        line=dict(width=[link['value'] / max_value * scale_factor for link in links_sc1]),\n",
    "        label=[f\"{node}<br>{inflow_totals[node] if incoming_only[node] else outflow_totals[node]}%\" for node in node_sc1],\n",
    "        #color=[node_colors.get(node, 'rgba(255, 255, 255, {})') for node in node_sc1],\n",
    "    ),\n",
    "    link=dict(\n",
    "        source=[node_sc1.index(link['source']) for link in links_sc1],\n",
    "        target=[node_sc1.index(link['target']) for link in links_sc1],\n",
    "        value=[link['value'] for link in links_sc1],\n",
    "        #color=[node_colors_links.get(link['source'], 'rgba(255, 255, 255, {})') for link in links_sc1],  # Use source node color for links\n",
    "        line=dict(width=[link['value'] / max_value * scale_factor for link in links_sc1]),\n",
    "    ),\n",
    "    arrangement=\"perpendicular\",\n",
    "    domain=dict(x=[0, 1], y=[0, 1]),\n",
    "))\n",
    "\n",
    "\n",
    "\n",
    "# Show the figure\n",
    "fig.show()\n",
    "# fig.write_image(\"Sankey_Basecase.jpg\")\n"
   ]
  }
 ],
 "metadata": {
  "kernelspec": {
   "display_name": "Python 3",
   "language": "python",
   "name": "python3"
  },
  "language_info": {
   "codemirror_mode": {
    "name": "ipython",
    "version": 3
   },
   "file_extension": ".py",
   "mimetype": "text/x-python",
   "name": "python",
   "nbconvert_exporter": "python",
   "pygments_lexer": "ipython3",
   "version": "3.11.9"
  }
 },
 "nbformat": 4,
 "nbformat_minor": 2
}

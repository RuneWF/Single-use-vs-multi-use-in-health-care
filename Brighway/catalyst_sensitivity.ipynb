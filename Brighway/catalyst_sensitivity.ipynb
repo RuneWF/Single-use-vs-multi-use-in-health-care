{
 "cells": [
  {
   "cell_type": "code",
   "execution_count": 20,
   "metadata": {},
   "outputs": [],
   "source": [
    "import matplotlib.pyplot as plt\n",
    "import matplotlib.ticker as mtick\n",
    "import matplotlib.cm as cm\n",
    "import numpy as np\n",
    "import pandas as pd\n",
    "import os\n",
    "import math"
   ]
  },
  {
   "cell_type": "code",
   "execution_count": 21,
   "metadata": {},
   "outputs": [
    {
     "data": {
      "text/html": [
       "<div>\n",
       "<style scoped>\n",
       "    .dataframe tbody tr th:only-of-type {\n",
       "        vertical-align: middle;\n",
       "    }\n",
       "\n",
       "    .dataframe tbody tr th {\n",
       "        vertical-align: top;\n",
       "    }\n",
       "\n",
       "    .dataframe thead th {\n",
       "        text-align: right;\n",
       "    }\n",
       "</style>\n",
       "<table border=\"1\" class=\"dataframe\">\n",
       "  <thead>\n",
       "    <tr style=\"text-align: right;\">\n",
       "      <th></th>\n",
       "      <th>Mix</th>\n",
       "      <th>Ecosystem quality</th>\n",
       "      <th>Human health</th>\n",
       "      <th>Natural resources</th>\n",
       "    </tr>\n",
       "  </thead>\n",
       "  <tbody>\n",
       "    <tr>\n",
       "      <th>0</th>\n",
       "      <td>0.5% Pd 99.5% Al2O3</td>\n",
       "      <td>0.000047</td>\n",
       "      <td>0.038756</td>\n",
       "      <td>99.158008</td>\n",
       "    </tr>\n",
       "    <tr>\n",
       "      <th>1</th>\n",
       "      <td>0.7% Pd 99.3% Al2O3</td>\n",
       "      <td>0.000065</td>\n",
       "      <td>0.053598</td>\n",
       "      <td>119.462054</td>\n",
       "    </tr>\n",
       "    <tr>\n",
       "      <th>2</th>\n",
       "      <td>1% Pd 99% Al2O3</td>\n",
       "      <td>0.000091</td>\n",
       "      <td>0.075861</td>\n",
       "      <td>149.918123</td>\n",
       "    </tr>\n",
       "  </tbody>\n",
       "</table>\n",
       "</div>"
      ],
      "text/plain": [
       "                   Mix  Ecosystem quality  Human health  Natural resources\n",
       "0  0.5% Pd 99.5% Al2O3           0.000047      0.038756          99.158008\n",
       "1  0.7% Pd 99.3% Al2O3           0.000065      0.053598         119.462054\n",
       "2      1% Pd 99% Al2O3           0.000091      0.075861         149.918123"
      ]
     },
     "execution_count": 21,
     "metadata": {},
     "output_type": "execute_result"
    }
   ],
   "source": [
    "file = r'D:\\UNI\\MILJOETEK\\4. semester\\Sensitivity\\Catalyst mix.xlsx'\n",
    "file2 = r'D:\\UNI\\MILJOETEK\\4. semester\\Sensitivity\\Catalyst sensitivity endpoint.xlsx'\n",
    "sheet = 'Data'\n",
    "sheet2 = 'Sheet2'\n",
    "save_dir = r'D:\\UNI\\MILJOETEK\\4. semester\\Calculations\\Catalyst sensitivity'\n",
    "# Create the directory if it doesn't exist\n",
    "os.makedirs(save_dir, exist_ok=True)\n",
    "data = pd.read_excel(file, sheet_name=sheet)\n",
    "data.head()\n",
    "\n",
    "data2 = pd.read_excel(file2, sheet_name=sheet2)\n",
    "data2.head()"
   ]
  },
  {
   "cell_type": "code",
   "execution_count": 22,
   "metadata": {},
   "outputs": [
    {
     "data": {
      "text/plain": [
       "3"
      ]
     },
     "execution_count": 22,
     "metadata": {},
     "output_type": "execute_result"
    }
   ],
   "source": [
    "len(data['Mix'])"
   ]
  },
  {
   "cell_type": "code",
   "execution_count": 23,
   "metadata": {},
   "outputs": [],
   "source": [
    "\n",
    "df_cols = data.columns\n",
    "df_cols = df_cols.to_list()\n",
    "df_cols1 = df_cols[1:]\n",
    "df_cols2 = df_cols[0]\n",
    "\n",
    "#print(CDU_cols)\n",
    "df_norm = pd.DataFrame().reindex_like(data) #https://stackoverflow.com/questions/23195250/create-empty-dataframe-with-same-dimensions-as-another\n",
    "for i in df_cols1:\n",
    "    #print(max(data[i]),i)\n",
    "    scaling_factor = max(data[i])\n",
    "    for j in range(len(data['Mix'])):\n",
    "        df_norm[i][j] =data[i][j]/scaling_factor\n",
    "        #print(data[i][j])\n",
    "        #print(i, CDU_norm[i][j])\n",
    "  \n",
    "\n"
   ]
  },
  {
   "cell_type": "code",
   "execution_count": 24,
   "metadata": {},
   "outputs": [
    {
     "data": {
      "text/html": [
       "<div>\n",
       "<style scoped>\n",
       "    .dataframe tbody tr th:only-of-type {\n",
       "        vertical-align: middle;\n",
       "    }\n",
       "\n",
       "    .dataframe tbody tr th {\n",
       "        vertical-align: top;\n",
       "    }\n",
       "\n",
       "    .dataframe thead th {\n",
       "        text-align: right;\n",
       "    }\n",
       "</style>\n",
       "<table border=\"1\" class=\"dataframe\">\n",
       "  <thead>\n",
       "    <tr style=\"text-align: right;\">\n",
       "      <th></th>\n",
       "      <th>Mix</th>\n",
       "      <th>TAP</th>\n",
       "      <th>GWP</th>\n",
       "      <th>FETP</th>\n",
       "      <th>METP</th>\n",
       "      <th>TETP</th>\n",
       "      <th>FFP</th>\n",
       "      <th>FEP</th>\n",
       "      <th>MEP</th>\n",
       "      <th>HTPc</th>\n",
       "      <th>HTPnc</th>\n",
       "      <th>IRP</th>\n",
       "      <th>LOP</th>\n",
       "      <th>SOP</th>\n",
       "      <th>ODP</th>\n",
       "      <th>PMFP</th>\n",
       "      <th>HOFP</th>\n",
       "      <th>EOFP</th>\n",
       "      <th>WCP</th>\n",
       "    </tr>\n",
       "  </thead>\n",
       "  <tbody>\n",
       "    <tr>\n",
       "      <th>0</th>\n",
       "      <td>NaN</td>\n",
       "      <td>0.506023</td>\n",
       "      <td>0.89625</td>\n",
       "      <td>0.999293</td>\n",
       "      <td>0.994804</td>\n",
       "      <td>0.803843</td>\n",
       "      <td>0.86425</td>\n",
       "      <td>0.988812</td>\n",
       "      <td>0.919501</td>\n",
       "      <td>0.980405</td>\n",
       "      <td>0.964520</td>\n",
       "      <td>0.872696</td>\n",
       "      <td>1.000000</td>\n",
       "      <td>0.548703</td>\n",
       "      <td>0.717529</td>\n",
       "      <td>0.513098</td>\n",
       "      <td>0.928901</td>\n",
       "      <td>0.929666</td>\n",
       "      <td>0.811378</td>\n",
       "    </tr>\n",
       "    <tr>\n",
       "      <th>1</th>\n",
       "      <td>NaN</td>\n",
       "      <td>0.703614</td>\n",
       "      <td>0.93775</td>\n",
       "      <td>0.999576</td>\n",
       "      <td>0.996882</td>\n",
       "      <td>0.882306</td>\n",
       "      <td>0.91855</td>\n",
       "      <td>0.993287</td>\n",
       "      <td>0.951701</td>\n",
       "      <td>0.988243</td>\n",
       "      <td>0.978712</td>\n",
       "      <td>0.923617</td>\n",
       "      <td>0.990324</td>\n",
       "      <td>0.729222</td>\n",
       "      <td>0.830517</td>\n",
       "      <td>0.707859</td>\n",
       "      <td>0.957341</td>\n",
       "      <td>0.957800</td>\n",
       "      <td>0.886827</td>\n",
       "    </tr>\n",
       "    <tr>\n",
       "      <th>2</th>\n",
       "      <td>NaN</td>\n",
       "      <td>1.000000</td>\n",
       "      <td>1.00000</td>\n",
       "      <td>1.000000</td>\n",
       "      <td>1.000000</td>\n",
       "      <td>1.000000</td>\n",
       "      <td>1.00000</td>\n",
       "      <td>1.000000</td>\n",
       "      <td>1.000000</td>\n",
       "      <td>1.000000</td>\n",
       "      <td>1.000000</td>\n",
       "      <td>1.000000</td>\n",
       "      <td>0.975810</td>\n",
       "      <td>1.000000</td>\n",
       "      <td>1.000000</td>\n",
       "      <td>1.000000</td>\n",
       "      <td>1.000000</td>\n",
       "      <td>1.000000</td>\n",
       "      <td>1.000000</td>\n",
       "    </tr>\n",
       "  </tbody>\n",
       "</table>\n",
       "</div>"
      ],
      "text/plain": [
       "   Mix       TAP      GWP      FETP      METP      TETP      FFP       FEP  \\\n",
       "0  NaN  0.506023  0.89625  0.999293  0.994804  0.803843  0.86425  0.988812   \n",
       "1  NaN  0.703614  0.93775  0.999576  0.996882  0.882306  0.91855  0.993287   \n",
       "2  NaN  1.000000  1.00000  1.000000  1.000000  1.000000  1.00000  1.000000   \n",
       "\n",
       "        MEP      HTPc     HTPnc       IRP       LOP       SOP       ODP  \\\n",
       "0  0.919501  0.980405  0.964520  0.872696  1.000000  0.548703  0.717529   \n",
       "1  0.951701  0.988243  0.978712  0.923617  0.990324  0.729222  0.830517   \n",
       "2  1.000000  1.000000  1.000000  1.000000  0.975810  1.000000  1.000000   \n",
       "\n",
       "       PMFP      HOFP      EOFP       WCP  \n",
       "0  0.513098  0.928901  0.929666  0.811378  \n",
       "1  0.707859  0.957341  0.957800  0.886827  \n",
       "2  1.000000  1.000000  1.000000  1.000000  "
      ]
     },
     "execution_count": 24,
     "metadata": {},
     "output_type": "execute_result"
    }
   ],
   "source": [
    "df_norm"
   ]
  },
  {
   "cell_type": "code",
   "execution_count": 25,
   "metadata": {},
   "outputs": [
    {
     "name": "stderr",
     "output_type": "stream",
     "text": [
      "C:\\Users\\rwint\\AppData\\Local\\Temp\\ipykernel_18948\\573767878.py:2: FutureWarning: Setting an item of incompatible dtype is deprecated and will raise in a future error of pandas. Value '0.5% Pd 99.5% Al2O3' has dtype incompatible with float64, please explicitly cast to a compatible dtype first.\n",
      "  df_norm['Mix'][j] = data['Mix'][j]\n"
     ]
    }
   ],
   "source": [
    "for j in range(len(data['Mix'])):\n",
    "    df_norm['Mix'][j] = data['Mix'][j]\n",
    "    #print(i, CDU_norm[i][j])\n",
    "\n",
    "# Selecting the columns from 1th column onwards\n",
    "columns_to_plot = df_norm.columns[1:]"
   ]
  },
  {
   "cell_type": "code",
   "execution_count": 26,
   "metadata": {},
   "outputs": [
    {
     "name": "stderr",
     "output_type": "stream",
     "text": [
      "C:\\Users\\rwint\\AppData\\Local\\Temp\\ipykernel_18948\\156044140.py:2: MatplotlibDeprecationWarning: The get_cmap function was deprecated in Matplotlib 3.7 and will be removed two minor releases later. Use ``matplotlib.colormaps[name]`` or ``matplotlib.colormaps.get_cmap(obj)`` instead.\n",
      "  cmap = plt.cm.get_cmap('tab20')\n"
     ]
    },
    {
     "data": {
      "image/png": "[encoded data removed]",
      "text/plain": [
       "<Figure size 800x600 with 1 Axes>"
      ]
     },
     "metadata": {},
     "output_type": "display_data"
    }
   ],
   "source": [
    "# Plotting\n",
    "cmap = plt.cm.get_cmap('tab20')\n",
    "colors = [cmap(i) for i in np.linspace(0, 1.5, 12)]\n",
    "fig, ax = plt.subplots(figsize=(8, 6))\n",
    "\n",
    "num_processes = len(df_norm)\n",
    "bar_width = 0.25  # Adjust as needed\n",
    "index = np.arange(len(columns_to_plot))\n",
    "\n",
    "# Plotting each group of bars\n",
    "for i, process in enumerate(df_norm.index):\n",
    "    values = df_norm.loc[process, columns_to_plot].values\n",
    "    ax.bar(index + i * bar_width, values, bar_width, label=process, color=colors[i])\n",
    "\n",
    "\n",
    "# Setting labels and title\n",
    "#ax.set_xlabel('Characterization Impact',weight='bold')\n",
    "ax.set_title('Impact of ratio of Palladium to Aluminium Oxide in 1 kg of catalyst (Midpoint)',weight='bold')\n",
    "ax.set_xticks(index + bar_width )\n",
    "ax.set_xticklabels(columns_to_plot)\n",
    "plt.xticks(rotation=90)\n",
    "plt.yticks(np.arange(0, 1.01, step=0.1))\n",
    "plt.ylim(0,1.03)\n",
    "\n",
    "ax.legend(df_norm['Mix'], bbox_to_anchor=(-0.02, -0.2, 1, 0.2), loc=\"lower left\", mode=\"expand\", borderaxespad=0,  ncol=3)\n",
    "plt.tight_layout()\n",
    "plt.savefig(os.path.join(save_dir, 'Catalyst_sensitivity_normalized.jpg'), bbox_inches='tight')\n",
    "plt.show()"
   ]
  },
  {
   "cell_type": "code",
   "execution_count": 27,
   "metadata": {},
   "outputs": [],
   "source": [
    "\n",
    "df_cols = data2.columns\n",
    "df_cols = df_cols.to_list()\n",
    "df_cols1 = df_cols[1:]\n",
    "df_cols2 = df_cols[0]\n",
    "\n",
    "#print(CDU_cols)\n",
    "df_norm = pd.DataFrame().reindex_like(data2) #https://stackoverflow.com/questions/23195250/create-empty-dataframe-with-same-dimensions-as-another\n",
    "for i in df_cols1:\n",
    "    #print(max(data[i]),i)\n",
    "    scaling_factor = max(data2[i])\n",
    "    for j in range(len(data2['Mix'])):\n",
    "        df_norm[i][j] =data2[i][j]/scaling_factor\n",
    "        #print(data[i][j])\n",
    "        #print(i, CDU_norm[i][j])\n",
    "  \n",
    "\n"
   ]
  },
  {
   "cell_type": "code",
   "execution_count": 28,
   "metadata": {},
   "outputs": [
    {
     "name": "stderr",
     "output_type": "stream",
     "text": [
      "C:\\Users\\rwint\\AppData\\Local\\Temp\\ipykernel_18948\\573767878.py:2: FutureWarning: Setting an item of incompatible dtype is deprecated and will raise in a future error of pandas. Value '0.5% Pd 99.5% Al2O3' has dtype incompatible with float64, please explicitly cast to a compatible dtype first.\n",
      "  df_norm['Mix'][j] = data['Mix'][j]\n"
     ]
    }
   ],
   "source": [
    "for j in range(len(data['Mix'])):\n",
    "    df_norm['Mix'][j] = data['Mix'][j]\n",
    "    #print(i, CDU_norm[i][j])\n",
    "\n",
    "# Selecting the columns from 1th column onwards\n",
    "columns_to_plot = df_norm.columns[1:]"
   ]
  },
  {
   "cell_type": "code",
   "execution_count": 30,
   "metadata": {},
   "outputs": [
    {
     "name": "stderr",
     "output_type": "stream",
     "text": [
      "C:\\Users\\rwint\\AppData\\Local\\Temp\\ipykernel_18948\\1660529688.py:2: MatplotlibDeprecationWarning: The get_cmap function was deprecated in Matplotlib 3.7 and will be removed two minor releases later. Use ``matplotlib.colormaps[name]`` or ``matplotlib.colormaps.get_cmap(obj)`` instead.\n",
      "  cmap = plt.cm.get_cmap('tab20')\n"
     ]
    },
    {
     "data": {
      "image/png": "[encoded data removed]",
      "text/plain": [
       "<Figure size 800x600 with 1 Axes>"
      ]
     },
     "metadata": {},
     "output_type": "display_data"
    }
   ],
   "source": [
    "# Plotting\n",
    "cmap = plt.cm.get_cmap('tab20')\n",
    "colors = [cmap(i) for i in np.linspace(0, 1.5, 12)]\n",
    "fig, ax = plt.subplots(figsize=(8, 6))\n",
    "\n",
    "num_processes = len(df_norm)\n",
    "bar_width = 0.25  # Adjust as needed\n",
    "index = np.arange(len(columns_to_plot))\n",
    "\n",
    "# Plotting each group of bars\n",
    "for i, process in enumerate(df_norm.index):\n",
    "    values = df_norm.loc[process, columns_to_plot].values\n",
    "    ax.bar(index + i * bar_width, values, bar_width, label=process, color=colors[i])\n",
    "\n",
    "\n",
    "# Setting labels and title\n",
    "#ax.set_xlabel('Characterization Impact',weight='bold')\n",
    "ax.set_title('Impact of ratio of Palladium to Aluminium Oxide in 1 kg of catalyst (Endpoint)',weight='bold')\n",
    "ax.set_xticks(index + bar_width )\n",
    "ax.set_xticklabels(columns_to_plot)\n",
    "\n",
    "plt.yticks(np.arange(0, 1.01, step=0.1))\n",
    "plt.ylim(0,1.03)\n",
    "\n",
    "ax.legend(df_norm['Mix'], bbox_to_anchor=(-0.02, -0.12, 1, 0.2), loc=\"lower left\", mode=\"expand\", borderaxespad=0,  ncol=3)\n",
    "plt.tight_layout()\n",
    "plt.savefig(os.path.join(save_dir, 'Catalyst_sensitivity_normalized_end.jpg'), bbox_inches='tight')\n",
    "plt.show()"
   ]
  }
 ],
 "metadata": {
  "kernelspec": {
   "display_name": "Python 3",
   "language": "python",
   "name": "python3"
  },
  "language_info": {
   "codemirror_mode": {
    "name": "ipython",
    "version": 3
   },
   "file_extension": ".py",
   "mimetype": "text/x-python",
   "name": "python",
   "nbconvert_exporter": "python",
   "pygments_lexer": "ipython3",
   "version": "3.10.11"
  }
 },
 "nbformat": 4,
 "nbformat_minor": 2
}
